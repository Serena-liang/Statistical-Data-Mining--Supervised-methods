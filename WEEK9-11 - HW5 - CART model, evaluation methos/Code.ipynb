{
 "cells": [
  {
   "cell_type": "code",
   "execution_count": 1,
   "metadata": {},
   "outputs": [],
   "source": [
    "rm(list=ls())"
   ]
  },
  {
   "cell_type": "markdown",
   "metadata": {},
   "source": [
    "# Question1 \n",
    "- construct an appropriate-size classification tree for the vehicle data "
   ]
  },
  {
   "cell_type": "code",
   "execution_count": 134,
   "metadata": {},
   "outputs": [],
   "source": [
    "# library(rpart)\n",
    "# library(miceadds )\n",
    "# library(rpart.plot)\n",
    "# library(caret)\n",
    "# library(rattle)\n"
   ]
  },
  {
   "cell_type": "code",
   "execution_count": 3,
   "metadata": {},
   "outputs": [],
   "source": [
    "load.Rdata(\"vehicle.RData\",\"vehicle\")"
   ]
  },
  {
   "cell_type": "code",
   "execution_count": 4,
   "metadata": {},
   "outputs": [
    {
     "data": {
      "text/html": [
       "<table>\n",
       "<thead><tr><th scope=col>Comp</th><th scope=col>Circ</th><th scope=col>Dcirc</th><th scope=col>RR</th><th scope=col>PrAxisAR</th><th scope=col>MaxLAR</th><th scope=col>ScatterR</th><th scope=col>Elong</th><th scope=col>PrAxisRect</th><th scope=col>MaxLRect</th><th scope=col>SvarMajAxis</th><th scope=col>SvarMinAxis</th><th scope=col>SradGyration</th><th scope=col>SkewMajAxis</th><th scope=col>SkewMinAxis</th><th scope=col>KurtMinAxis</th><th scope=col>KurtMajAxis</th><th scope=col>Hratio</th><th scope=col>classdigit</th><th scope=col>class</th></tr></thead>\n",
       "<tbody>\n",
       "\t<tr><td>109 </td><td>52  </td><td>104 </td><td>199 </td><td>60  </td><td>12  </td><td>215 </td><td>31  </td><td>24  </td><td>162 </td><td>220 </td><td>691 </td><td>212 </td><td>67  </td><td>11  </td><td>7   </td><td>189 </td><td>199 </td><td>2   </td><td>saab</td></tr>\n",
       "</tbody>\n",
       "</table>\n"
      ],
      "text/latex": [
       "\\begin{tabular}{r|llllllllllllllllllll}\n",
       " Comp & Circ & Dcirc & RR & PrAxisAR & MaxLAR & ScatterR & Elong & PrAxisRect & MaxLRect & SvarMajAxis & SvarMinAxis & SradGyration & SkewMajAxis & SkewMinAxis & KurtMinAxis & KurtMajAxis & Hratio & classdigit & class\\\\\n",
       "\\hline\n",
       "\t 109  & 52   & 104  & 199  & 60   & 12   & 215  & 31   & 24   & 162  & 220  & 691  & 212  & 67   & 11   & 7    & 189  & 199  & 2    & saab\\\\\n",
       "\\end{tabular}\n"
      ],
      "text/markdown": [
       "\n",
       "| Comp | Circ | Dcirc | RR | PrAxisAR | MaxLAR | ScatterR | Elong | PrAxisRect | MaxLRect | SvarMajAxis | SvarMinAxis | SradGyration | SkewMajAxis | SkewMinAxis | KurtMinAxis | KurtMajAxis | Hratio | classdigit | class |\n",
       "|---|---|---|---|---|---|---|---|---|---|---|---|---|---|---|---|---|---|---|---|\n",
       "| 109  | 52   | 104  | 199  | 60   | 12   | 215  | 31   | 24   | 162  | 220  | 691  | 212  | 67   | 11   | 7    | 189  | 199  | 2    | saab |\n",
       "\n"
      ],
      "text/plain": [
       "  Comp Circ Dcirc RR  PrAxisAR MaxLAR ScatterR Elong PrAxisRect MaxLRect\n",
       "1 109  52   104   199 60       12     215      31    24         162     \n",
       "  SvarMajAxis SvarMinAxis SradGyration SkewMajAxis SkewMinAxis KurtMinAxis\n",
       "1 220         691         212          67          11          7          \n",
       "  KurtMajAxis Hratio classdigit class\n",
       "1 189         199    2          saab "
      ]
     },
     "metadata": {},
     "output_type": "display_data"
    }
   ],
   "source": [
    "head(vehicle,1)"
   ]
  },
  {
   "cell_type": "code",
   "execution_count": 5,
   "metadata": {},
   "outputs": [
    {
     "data": {
      "text/html": [
       "<ol class=list-inline>\n",
       "\t<li>564</li>\n",
       "\t<li>20</li>\n",
       "</ol>\n"
      ],
      "text/latex": [
       "\\begin{enumerate*}\n",
       "\\item 564\n",
       "\\item 20\n",
       "\\end{enumerate*}\n"
      ],
      "text/markdown": [
       "1. 564\n",
       "2. 20\n",
       "\n",
       "\n"
      ],
      "text/plain": [
       "[1] 564  20"
      ]
     },
     "metadata": {},
     "output_type": "display_data"
    }
   ],
   "source": [
    "dim(vehicle)"
   ]
  },
  {
   "cell_type": "code",
   "execution_count": 6,
   "metadata": {
    "scrolled": false
   },
   "outputs": [
    {
     "name": "stdout",
     "output_type": "stream",
     "text": [
      "'data.frame':\t564 obs. of  20 variables:\n",
      " $ Comp        : int  109 91 108 90 83 96 82 91 89 79 ...\n",
      " $ Circ        : int  52 46 54 44 40 41 45 42 42 40 ...\n",
      " $ Dcirc       : int  104 75 103 72 59 69 66 84 66 80 ...\n",
      " $ RR          : int  199 185 212 157 116 153 252 209 125 133 ...\n",
      " $ PrAxisAR    : int  60 75 65 64 53 56 126 75 53 55 ...\n",
      " $ MaxLAR      : int  12 7 11 8 7 7 52 6 7 7 ...\n",
      " $ ScatterR    : int  215 154 208 137 132 141 148 171 131 147 ...\n",
      " $ Elong       : int  31 42 32 48 52 47 45 38 51 47 ...\n",
      " $ PrAxisRect  : int  24 19 24 18 18 18 19 20 18 19 ...\n",
      " $ MaxLRect    : int  162 147 162 144 137 141 144 138 144 135 ...\n",
      " $ SvarMajAxis : int  220 178 228 159 145 162 237 189 162 172 ...\n",
      " $ SvarMinAxis : int  691 362 648 283 250 297 326 446 254 311 ...\n",
      " $ SradGyration: int  212 192 240 171 157 169 185 161 162 144 ...\n",
      " $ SkewMajAxis : int  67 72 71 65 84 61 119 69 73 76 ...\n",
      " $ SkewMinAxis : int  11 8 9 9 12 11 1 3 10 8 ...\n",
      " $ KurtMinAxis : int  7 8 0 4 6 8 1 12 17 30 ...\n",
      " $ KurtMajAxis : int  189 192 189 196 177 202 181 196 188 181 ...\n",
      " $ Hratio      : int  199 199 197 203 183 209 185 201 191 193 ...\n",
      " $ classdigit  : Factor w/ 4 levels \"1\",\"2\",\"3\",\"4\": 2 3 2 4 4 2 3 3 4 1 ...\n",
      " $ class       : Factor w/ 4 levels \"bus\",\"opel\",\"saab\",..: 3 1 3 4 4 3 1 1 4 2 ...\n"
     ]
    }
   ],
   "source": [
    "str(vehicle)"
   ]
  },
  {
   "cell_type": "markdown",
   "metadata": {},
   "source": [
    "- \"class\" and \"classdigit\" are redundant, let's drop \"classdigit\""
   ]
  },
  {
   "cell_type": "code",
   "execution_count": 7,
   "metadata": {},
   "outputs": [],
   "source": [
    "vehicle <- vehicle[,-19]"
   ]
  },
  {
   "cell_type": "code",
   "execution_count": 8,
   "metadata": {},
   "outputs": [
    {
     "data": {
      "text/html": [
       "<ol class=list-inline>\n",
       "\t<li>'Comp'</li>\n",
       "\t<li>'Circ'</li>\n",
       "\t<li>'Dcirc'</li>\n",
       "\t<li>'RR'</li>\n",
       "\t<li>'PrAxisAR'</li>\n",
       "\t<li>'MaxLAR'</li>\n",
       "\t<li>'ScatterR'</li>\n",
       "\t<li>'Elong'</li>\n",
       "\t<li>'PrAxisRect'</li>\n",
       "\t<li>'MaxLRect'</li>\n",
       "\t<li>'SvarMajAxis'</li>\n",
       "\t<li>'SvarMinAxis'</li>\n",
       "\t<li>'SradGyration'</li>\n",
       "\t<li>'SkewMajAxis'</li>\n",
       "\t<li>'SkewMinAxis'</li>\n",
       "\t<li>'KurtMinAxis'</li>\n",
       "\t<li>'KurtMajAxis'</li>\n",
       "\t<li>'Hratio'</li>\n",
       "\t<li>'class'</li>\n",
       "</ol>\n"
      ],
      "text/latex": [
       "\\begin{enumerate*}\n",
       "\\item 'Comp'\n",
       "\\item 'Circ'\n",
       "\\item 'Dcirc'\n",
       "\\item 'RR'\n",
       "\\item 'PrAxisAR'\n",
       "\\item 'MaxLAR'\n",
       "\\item 'ScatterR'\n",
       "\\item 'Elong'\n",
       "\\item 'PrAxisRect'\n",
       "\\item 'MaxLRect'\n",
       "\\item 'SvarMajAxis'\n",
       "\\item 'SvarMinAxis'\n",
       "\\item 'SradGyration'\n",
       "\\item 'SkewMajAxis'\n",
       "\\item 'SkewMinAxis'\n",
       "\\item 'KurtMinAxis'\n",
       "\\item 'KurtMajAxis'\n",
       "\\item 'Hratio'\n",
       "\\item 'class'\n",
       "\\end{enumerate*}\n"
      ],
      "text/markdown": [
       "1. 'Comp'\n",
       "2. 'Circ'\n",
       "3. 'Dcirc'\n",
       "4. 'RR'\n",
       "5. 'PrAxisAR'\n",
       "6. 'MaxLAR'\n",
       "7. 'ScatterR'\n",
       "8. 'Elong'\n",
       "9. 'PrAxisRect'\n",
       "10. 'MaxLRect'\n",
       "11. 'SvarMajAxis'\n",
       "12. 'SvarMinAxis'\n",
       "13. 'SradGyration'\n",
       "14. 'SkewMajAxis'\n",
       "15. 'SkewMinAxis'\n",
       "16. 'KurtMinAxis'\n",
       "17. 'KurtMajAxis'\n",
       "18. 'Hratio'\n",
       "19. 'class'\n",
       "\n",
       "\n"
      ],
      "text/plain": [
       " [1] \"Comp\"         \"Circ\"         \"Dcirc\"        \"RR\"           \"PrAxisAR\"    \n",
       " [6] \"MaxLAR\"       \"ScatterR\"     \"Elong\"        \"PrAxisRect\"   \"MaxLRect\"    \n",
       "[11] \"SvarMajAxis\"  \"SvarMinAxis\"  \"SradGyration\" \"SkewMajAxis\"  \"SkewMinAxis\" \n",
       "[16] \"KurtMinAxis\"  \"KurtMajAxis\"  \"Hratio\"       \"class\"       "
      ]
     },
     "metadata": {},
     "output_type": "display_data"
    },
    {
     "data": {
      "text/html": [
       "<ol class=list-inline>\n",
       "\t<li>564</li>\n",
       "\t<li>19</li>\n",
       "</ol>\n"
      ],
      "text/latex": [
       "\\begin{enumerate*}\n",
       "\\item 564\n",
       "\\item 19\n",
       "\\end{enumerate*}\n"
      ],
      "text/markdown": [
       "1. 564\n",
       "2. 19\n",
       "\n",
       "\n"
      ],
      "text/plain": [
       "[1] 564  19"
      ]
     },
     "metadata": {},
     "output_type": "display_data"
    }
   ],
   "source": [
    "names(vehicle)\n",
    "dim(vehicle)"
   ]
  },
  {
   "cell_type": "markdown",
   "metadata": {},
   "source": [
    "### Fit regression tree"
   ]
  },
  {
   "cell_type": "code",
   "execution_count": 9,
   "metadata": {},
   "outputs": [],
   "source": [
    "model_control <- rpart.control(minsplit=10,xval=10,cp=0)"
   ]
  },
  {
   "cell_type": "code",
   "execution_count": 10,
   "metadata": {},
   "outputs": [],
   "source": [
    "fit_vehicle <- rpart(class~.,data=vehicle,method=\"class\",control=model_control)"
   ]
  },
  {
   "cell_type": "code",
   "execution_count": 11,
   "metadata": {},
   "outputs": [
    {
     "data": {
      "image/png": "[encoded data removed]",
      "text/plain": [
       "Plot with title \"Full Tree - Vehicle Data\""
      ]
     },
     "metadata": {},
     "output_type": "display_data"
    }
   ],
   "source": [
    "options(repr.plot.width=10, repr.plot.height=10)\n",
    "\n",
    "plot(fit_vehicle,uniform=T,compress=T,main=\"Full Tree - Vehicle Data\")\n",
    "text(fit_vehicle,cex=0.5,all=T)"
   ]
  },
  {
   "cell_type": "markdown",
   "metadata": {},
   "source": [
    "- we can see that all classes were represented at the terminal nodes "
   ]
  },
  {
   "cell_type": "markdown",
   "metadata": {},
   "source": [
    "### Further information on the tree"
   ]
  },
  {
   "cell_type": "code",
   "execution_count": 12,
   "metadata": {},
   "outputs": [],
   "source": [
    "cp_table = data.frame(fit_vehicle$cptable)"
   ]
  },
  {
   "cell_type": "code",
   "execution_count": 13,
   "metadata": {},
   "outputs": [],
   "source": [
    "var_importance <- fit_vehicle$variable.importance"
   ]
  },
  {
   "cell_type": "code",
   "execution_count": 14,
   "metadata": {},
   "outputs": [
    {
     "data": {
      "text/html": [
       "<ol class=list-inline>\n",
       "\t<li>'ScatterR'</li>\n",
       "\t<li>'SvarMinAxis'</li>\n",
       "\t<li>'Elong'</li>\n",
       "\t<li>'SvarMajAxis'</li>\n",
       "\t<li>'PrAxisRect'</li>\n",
       "\t<li>'MaxLAR'</li>\n",
       "\t<li>'Dcirc'</li>\n",
       "\t<li>'MaxLRect'</li>\n",
       "\t<li>'RR'</li>\n",
       "\t<li>'SkewMajAxis'</li>\n",
       "\t<li>'Hratio'</li>\n",
       "\t<li>'SradGyration'</li>\n",
       "\t<li>'Circ'</li>\n",
       "\t<li>'Comp'</li>\n",
       "\t<li>'KurtMajAxis'</li>\n",
       "\t<li>'KurtMinAxis'</li>\n",
       "\t<li>'SkewMinAxis'</li>\n",
       "\t<li>'PrAxisAR'</li>\n",
       "</ol>\n"
      ],
      "text/latex": [
       "\\begin{enumerate*}\n",
       "\\item 'ScatterR'\n",
       "\\item 'SvarMinAxis'\n",
       "\\item 'Elong'\n",
       "\\item 'SvarMajAxis'\n",
       "\\item 'PrAxisRect'\n",
       "\\item 'MaxLAR'\n",
       "\\item 'Dcirc'\n",
       "\\item 'MaxLRect'\n",
       "\\item 'RR'\n",
       "\\item 'SkewMajAxis'\n",
       "\\item 'Hratio'\n",
       "\\item 'SradGyration'\n",
       "\\item 'Circ'\n",
       "\\item 'Comp'\n",
       "\\item 'KurtMajAxis'\n",
       "\\item 'KurtMinAxis'\n",
       "\\item 'SkewMinAxis'\n",
       "\\item 'PrAxisAR'\n",
       "\\end{enumerate*}\n"
      ],
      "text/markdown": [
       "1. 'ScatterR'\n",
       "2. 'SvarMinAxis'\n",
       "3. 'Elong'\n",
       "4. 'SvarMajAxis'\n",
       "5. 'PrAxisRect'\n",
       "6. 'MaxLAR'\n",
       "7. 'Dcirc'\n",
       "8. 'MaxLRect'\n",
       "9. 'RR'\n",
       "10. 'SkewMajAxis'\n",
       "11. 'Hratio'\n",
       "12. 'SradGyration'\n",
       "13. 'Circ'\n",
       "14. 'Comp'\n",
       "15. 'KurtMajAxis'\n",
       "16. 'KurtMinAxis'\n",
       "17. 'SkewMinAxis'\n",
       "18. 'PrAxisAR'\n",
       "\n",
       "\n"
      ],
      "text/plain": [
       " [1] \"ScatterR\"     \"SvarMinAxis\"  \"Elong\"        \"SvarMajAxis\"  \"PrAxisRect\"  \n",
       " [6] \"MaxLAR\"       \"Dcirc\"        \"MaxLRect\"     \"RR\"           \"SkewMajAxis\" \n",
       "[11] \"Hratio\"       \"SradGyration\" \"Circ\"         \"Comp\"         \"KurtMajAxis\" \n",
       "[16] \"KurtMinAxis\"  \"SkewMinAxis\"  \"PrAxisAR\"    "
      ]
     },
     "metadata": {},
     "output_type": "display_data"
    }
   ],
   "source": [
    "names(var_importance)"
   ]
  },
  {
   "cell_type": "code",
   "execution_count": null,
   "metadata": {},
   "outputs": [],
   "source": []
  },
  {
   "cell_type": "code",
   "execution_count": 15,
   "metadata": {},
   "outputs": [
    {
     "data": {
      "image/png": "[encoded data removed]",
      "text/plain": [
       "Plot with title \"Variable Importance\""
      ]
     },
     "metadata": {},
     "output_type": "display_data"
    }
   ],
   "source": [
    "options(repr.plot.width=6, repr.plot.height=8)\n",
    "\n",
    "barplot(var_importance, \n",
    "        main=\"Variable Importance\",\n",
    "        xlab=\"Score\",\n",
    "        horiz=T,\n",
    "        las=2,\n",
    "        col.lab = \"orange\",\n",
    "        col.axis= \"blue\",\n",
    "        cex.axis=0.5)"
   ]
  },
  {
   "cell_type": "markdown",
   "metadata": {},
   "source": [
    "- Here we can visualize the importance of each variable in our decision tree, with \"scatterR\" being the most important, and \"PrAxisAR\" being the least important. \n",
    "- It is also important to note that, the importance of variables in the decision tree is different than that on the barchart, which is resonable, not all variables will be used, but the unused variables will be considered in the decision making "
   ]
  },
  {
   "cell_type": "markdown",
   "metadata": {},
   "source": [
    "#### Making prediction using the full tree (not assinged) "
   ]
  },
  {
   "cell_type": "code",
   "execution_count": 16,
   "metadata": {},
   "outputs": [],
   "source": [
    "fit_vehicle_pred <- predict(fit_vehicle, vehicle, type = \"class\")\n"
   ]
  },
  {
   "cell_type": "code",
   "execution_count": 17,
   "metadata": {},
   "outputs": [],
   "source": [
    "full_cm <- confusionMatrix(data = fit_vehicle_pred, reference = vehicle$class)"
   ]
  },
  {
   "cell_type": "code",
   "execution_count": 18,
   "metadata": {},
   "outputs": [
    {
     "data": {
      "text/plain": [
       "          Reference\n",
       "Prediction bus opel saab van\n",
       "      bus  144    2    4   0\n",
       "      opel   1  117   20   8\n",
       "      saab   2   20  109   2\n",
       "      van    1    1    3 130"
      ]
     },
     "metadata": {},
     "output_type": "display_data"
    }
   ],
   "source": [
    "full_cm$table"
   ]
  },
  {
   "cell_type": "markdown",
   "metadata": {},
   "source": [
    "### Pruning\n",
    "- prune the tree using the cross validation error"
   ]
  },
  {
   "cell_type": "code",
   "execution_count": 19,
   "metadata": {
    "scrolled": false
   },
   "outputs": [
    {
     "data": {
      "image/png": "[encoded data removed]",
      "text/plain": [
       "Plot with title \"cv_error\""
      ]
     },
     "metadata": {},
     "output_type": "display_data"
    }
   ],
   "source": [
    "options(repr.plot.width=3, repr.plot.height=3)\n",
    "plot(cp_table$xerror, col=\"red\",type = \"l\",lty=2,main=\"cv_error\",xlab=\"index\",ylab=\"cv_error\")"
   ]
  },
  {
   "cell_type": "markdown",
   "metadata": {},
   "source": [
    "- 5th split (index at 5) has a resonal cross validation error, which we can use to prune the decision tree"
   ]
  },
  {
   "cell_type": "code",
   "execution_count": 20,
   "metadata": {},
   "outputs": [],
   "source": [
    "pruned_vehicle <- prune(fit_vehicle,cp=cp_table[5,1])"
   ]
  },
  {
   "cell_type": "code",
   "execution_count": 21,
   "metadata": {},
   "outputs": [
    {
     "data": {
      "image/png": "[encoded data removed]",
      "text/plain": [
       "Plot with title \"Pruned Tree - Vehicle Data\""
      ]
     },
     "metadata": {},
     "output_type": "display_data"
    }
   ],
   "source": [
    "options(repr.plot.width=6, repr.plot.height=7)\n",
    "\n",
    "fancyRpartPlot(pruned_vehicle,main=\"Pruned Tree - Vehicle Data\")"
   ]
  },
  {
   "cell_type": "markdown",
   "metadata": {},
   "source": [
    "#### Making predictions using the pruned tree"
   ]
  },
  {
   "cell_type": "code",
   "execution_count": 22,
   "metadata": {},
   "outputs": [],
   "source": [
    "pruned_pred <- predict(pruned_vehicle, vehicle, type = \"class\")"
   ]
  },
  {
   "cell_type": "code",
   "execution_count": 23,
   "metadata": {},
   "outputs": [],
   "source": [
    "pruned_cm <- confusionMatrix(data = pruned_pred, reference = vehicle$class)"
   ]
  },
  {
   "cell_type": "code",
   "execution_count": 24,
   "metadata": {},
   "outputs": [
    {
     "data": {
      "text/plain": [
       "          Reference\n",
       "Prediction bus opel saab van\n",
       "      bus  142   24   28   3\n",
       "      opel   0   75   36   0\n",
       "      saab   0   19   48   0\n",
       "      van    6   22   24 137"
      ]
     },
     "metadata": {},
     "output_type": "display_data"
    }
   ],
   "source": [
    "pruned_cm$table"
   ]
  },
  {
   "cell_type": "markdown",
   "metadata": {},
   "source": [
    "### Obtain accuracies for the full tree and the pruned tree"
   ]
  },
  {
   "cell_type": "code",
   "execution_count": 25,
   "metadata": {},
   "outputs": [
    {
     "data": {
      "text/html": [
       "<strong>Accuracy:</strong> 0.712765957446808"
      ],
      "text/latex": [
       "\\textbf{Accuracy:} 0.712765957446808"
      ],
      "text/markdown": [
       "**Accuracy:** 0.712765957446808"
      ],
      "text/plain": [
       "Accuracy \n",
       "0.712766 "
      ]
     },
     "metadata": {},
     "output_type": "display_data"
    }
   ],
   "source": [
    "pruned_cm$overall['Accuracy']"
   ]
  },
  {
   "cell_type": "code",
   "execution_count": 26,
   "metadata": {},
   "outputs": [
    {
     "data": {
      "text/html": [
       "<strong>Accuracy:</strong> 0.886524822695035"
      ],
      "text/latex": [
       "\\textbf{Accuracy:} 0.886524822695035"
      ],
      "text/markdown": [
       "**Accuracy:** 0.886524822695035"
      ],
      "text/plain": [
       " Accuracy \n",
       "0.8865248 "
      ]
     },
     "metadata": {},
     "output_type": "display_data"
    }
   ],
   "source": [
    "full_cm$overall['Accuracy']"
   ]
  },
  {
   "cell_type": "markdown",
   "metadata": {},
   "source": [
    "- the prune tree has ~17% lower prediction accuracy than the full tree, we might have over-pruned here. "
   ]
  },
  {
   "cell_type": "markdown",
   "metadata": {},
   "source": [
    "# Question2\n",
    "- 2) For the prostate data, carry out a best\n",
    "subset regression analysis, as in Table 3.3 (third column from the left).\n",
    "Compute the AIC, BIC, five-and tenfold cross-validation, and bootstrap\n",
    ".632 estimates of prediction error. \n"
   ]
  },
  {
   "cell_type": "code",
   "execution_count": 135,
   "metadata": {},
   "outputs": [],
   "source": [
    "# library(faraway)"
   ]
  },
  {
   "cell_type": "markdown",
   "metadata": {},
   "source": [
    "## Explore the dataset"
   ]
  },
  {
   "cell_type": "code",
   "execution_count": 30,
   "metadata": {},
   "outputs": [
    {
     "data": {
      "text/html": [
       "<table>\n",
       "<thead><tr><th scope=col>lcavol</th><th scope=col>lweight</th><th scope=col>age</th><th scope=col>lbph</th><th scope=col>svi</th><th scope=col>lcp</th><th scope=col>gleason</th><th scope=col>pgg45</th><th scope=col>lpsa</th></tr></thead>\n",
       "<tbody>\n",
       "\t<tr><td>-0.5798185</td><td>2.7695    </td><td>50        </td><td>-1.386294 </td><td>0         </td><td>-1.38629  </td><td>6         </td><td> 0        </td><td>-0.43078  </td></tr>\n",
       "\t<tr><td>-0.9942523</td><td>3.3196    </td><td>58        </td><td>-1.386294 </td><td>0         </td><td>-1.38629  </td><td>6         </td><td> 0        </td><td>-0.16252  </td></tr>\n",
       "\t<tr><td>-0.5108256</td><td>2.6912    </td><td>74        </td><td>-1.386294 </td><td>0         </td><td>-1.38629  </td><td>7         </td><td>20        </td><td>-0.16252  </td></tr>\n",
       "\t<tr><td>-1.2039728</td><td>3.2828    </td><td>58        </td><td>-1.386294 </td><td>0         </td><td>-1.38629  </td><td>6         </td><td> 0        </td><td>-0.16252  </td></tr>\n",
       "\t<tr><td> 0.7514161</td><td>3.4324    </td><td>62        </td><td>-1.386294 </td><td>0         </td><td>-1.38629  </td><td>6         </td><td> 0        </td><td> 0.37156  </td></tr>\n",
       "\t<tr><td>-1.0498221</td><td>3.2288    </td><td>50        </td><td>-1.386294 </td><td>0         </td><td>-1.38629  </td><td>6         </td><td> 0        </td><td> 0.76547  </td></tr>\n",
       "</tbody>\n",
       "</table>\n"
      ],
      "text/latex": [
       "\\begin{tabular}{r|lllllllll}\n",
       " lcavol & lweight & age & lbph & svi & lcp & gleason & pgg45 & lpsa\\\\\n",
       "\\hline\n",
       "\t -0.5798185 & 2.7695     & 50         & -1.386294  & 0          & -1.38629   & 6          &  0         & -0.43078  \\\\\n",
       "\t -0.9942523 & 3.3196     & 58         & -1.386294  & 0          & -1.38629   & 6          &  0         & -0.16252  \\\\\n",
       "\t -0.5108256 & 2.6912     & 74         & -1.386294  & 0          & -1.38629   & 7          & 20         & -0.16252  \\\\\n",
       "\t -1.2039728 & 3.2828     & 58         & -1.386294  & 0          & -1.38629   & 6          &  0         & -0.16252  \\\\\n",
       "\t  0.7514161 & 3.4324     & 62         & -1.386294  & 0          & -1.38629   & 6          &  0         &  0.37156  \\\\\n",
       "\t -1.0498221 & 3.2288     & 50         & -1.386294  & 0          & -1.38629   & 6          &  0         &  0.76547  \\\\\n",
       "\\end{tabular}\n"
      ],
      "text/markdown": [
       "\n",
       "| lcavol | lweight | age | lbph | svi | lcp | gleason | pgg45 | lpsa |\n",
       "|---|---|---|---|---|---|---|---|---|\n",
       "| -0.5798185 | 2.7695     | 50         | -1.386294  | 0          | -1.38629   | 6          |  0         | -0.43078   |\n",
       "| -0.9942523 | 3.3196     | 58         | -1.386294  | 0          | -1.38629   | 6          |  0         | -0.16252   |\n",
       "| -0.5108256 | 2.6912     | 74         | -1.386294  | 0          | -1.38629   | 7          | 20         | -0.16252   |\n",
       "| -1.2039728 | 3.2828     | 58         | -1.386294  | 0          | -1.38629   | 6          |  0         | -0.16252   |\n",
       "|  0.7514161 | 3.4324     | 62         | -1.386294  | 0          | -1.38629   | 6          |  0         |  0.37156   |\n",
       "| -1.0498221 | 3.2288     | 50         | -1.386294  | 0          | -1.38629   | 6          |  0         |  0.76547   |\n",
       "\n"
      ],
      "text/plain": [
       "  lcavol     lweight age lbph      svi lcp      gleason pgg45 lpsa    \n",
       "1 -0.5798185 2.7695  50  -1.386294 0   -1.38629 6        0    -0.43078\n",
       "2 -0.9942523 3.3196  58  -1.386294 0   -1.38629 6        0    -0.16252\n",
       "3 -0.5108256 2.6912  74  -1.386294 0   -1.38629 7       20    -0.16252\n",
       "4 -1.2039728 3.2828  58  -1.386294 0   -1.38629 6        0    -0.16252\n",
       "5  0.7514161 3.4324  62  -1.386294 0   -1.38629 6        0     0.37156\n",
       "6 -1.0498221 3.2288  50  -1.386294 0   -1.38629 6        0     0.76547"
      ]
     },
     "metadata": {},
     "output_type": "display_data"
    }
   ],
   "source": [
    "head(prostate)"
   ]
  },
  {
   "cell_type": "code",
   "execution_count": 31,
   "metadata": {},
   "outputs": [
    {
     "data": {
      "text/html": [
       "<ol class=list-inline>\n",
       "\t<li>97</li>\n",
       "\t<li>9</li>\n",
       "</ol>\n"
      ],
      "text/latex": [
       "\\begin{enumerate*}\n",
       "\\item 97\n",
       "\\item 9\n",
       "\\end{enumerate*}\n"
      ],
      "text/markdown": [
       "1. 97\n",
       "2. 9\n",
       "\n",
       "\n"
      ],
      "text/plain": [
       "[1] 97  9"
      ]
     },
     "metadata": {},
     "output_type": "display_data"
    }
   ],
   "source": [
    "dim(prostate)"
   ]
  },
  {
   "cell_type": "code",
   "execution_count": 32,
   "metadata": {},
   "outputs": [
    {
     "data": {
      "text/html": [
       "<ol class=list-inline>\n",
       "\t<li>'lcavol'</li>\n",
       "\t<li>'lweight'</li>\n",
       "\t<li>'age'</li>\n",
       "\t<li>'lbph'</li>\n",
       "\t<li>'svi'</li>\n",
       "\t<li>'lcp'</li>\n",
       "\t<li>'gleason'</li>\n",
       "\t<li>'pgg45'</li>\n",
       "\t<li>'lpsa'</li>\n",
       "</ol>\n"
      ],
      "text/latex": [
       "\\begin{enumerate*}\n",
       "\\item 'lcavol'\n",
       "\\item 'lweight'\n",
       "\\item 'age'\n",
       "\\item 'lbph'\n",
       "\\item 'svi'\n",
       "\\item 'lcp'\n",
       "\\item 'gleason'\n",
       "\\item 'pgg45'\n",
       "\\item 'lpsa'\n",
       "\\end{enumerate*}\n"
      ],
      "text/markdown": [
       "1. 'lcavol'\n",
       "2. 'lweight'\n",
       "3. 'age'\n",
       "4. 'lbph'\n",
       "5. 'svi'\n",
       "6. 'lcp'\n",
       "7. 'gleason'\n",
       "8. 'pgg45'\n",
       "9. 'lpsa'\n",
       "\n",
       "\n"
      ],
      "text/plain": [
       "[1] \"lcavol\"  \"lweight\" \"age\"     \"lbph\"    \"svi\"     \"lcp\"     \"gleason\"\n",
       "[8] \"pgg45\"   \"lpsa\"   "
      ]
     },
     "metadata": {},
     "output_type": "display_data"
    }
   ],
   "source": [
    "names(prostate)"
   ]
  },
  {
   "cell_type": "code",
   "execution_count": 33,
   "metadata": {},
   "outputs": [
    {
     "data": {
      "text/plain": [
       "     lcavol           lweight           age             lbph        \n",
       " Min.   :-1.3471   Min.   :2.375   Min.   :41.00   Min.   :-1.3863  \n",
       " 1st Qu.: 0.5128   1st Qu.:3.376   1st Qu.:60.00   1st Qu.:-1.3863  \n",
       " Median : 1.4469   Median :3.623   Median :65.00   Median : 0.3001  \n",
       " Mean   : 1.3500   Mean   :3.653   Mean   :63.87   Mean   : 0.1004  \n",
       " 3rd Qu.: 2.1270   3rd Qu.:3.878   3rd Qu.:68.00   3rd Qu.: 1.5581  \n",
       " Max.   : 3.8210   Max.   :6.108   Max.   :79.00   Max.   : 2.3263  \n",
       "      svi              lcp             gleason          pgg45       \n",
       " Min.   :0.0000   Min.   :-1.3863   Min.   :6.000   Min.   :  0.00  \n",
       " 1st Qu.:0.0000   1st Qu.:-1.3863   1st Qu.:6.000   1st Qu.:  0.00  \n",
       " Median :0.0000   Median :-0.7985   Median :7.000   Median : 15.00  \n",
       " Mean   :0.2165   Mean   :-0.1794   Mean   :6.753   Mean   : 24.38  \n",
       " 3rd Qu.:0.0000   3rd Qu.: 1.1786   3rd Qu.:7.000   3rd Qu.: 40.00  \n",
       " Max.   :1.0000   Max.   : 2.9042   Max.   :9.000   Max.   :100.00  \n",
       "      lpsa        \n",
       " Min.   :-0.4308  \n",
       " 1st Qu.: 1.7317  \n",
       " Median : 2.5915  \n",
       " Mean   : 2.4784  \n",
       " 3rd Qu.: 3.0564  \n",
       " Max.   : 5.5829  "
      ]
     },
     "metadata": {},
     "output_type": "display_data"
    }
   ],
   "source": [
    "summary(prostate)"
   ]
  },
  {
   "cell_type": "code",
   "execution_count": 34,
   "metadata": {},
   "outputs": [
    {
     "name": "stdout",
     "output_type": "stream",
     "text": [
      "'data.frame':\t97 obs. of  9 variables:\n",
      " $ lcavol : num  -0.58 -0.994 -0.511 -1.204 0.751 ...\n",
      " $ lweight: num  2.77 3.32 2.69 3.28 3.43 ...\n",
      " $ age    : int  50 58 74 58 62 50 64 58 47 63 ...\n",
      " $ lbph   : num  -1.39 -1.39 -1.39 -1.39 -1.39 ...\n",
      " $ svi    : int  0 0 0 0 0 0 0 0 0 0 ...\n",
      " $ lcp    : num  -1.39 -1.39 -1.39 -1.39 -1.39 ...\n",
      " $ gleason: int  6 6 7 6 6 6 6 6 6 6 ...\n",
      " $ pgg45  : int  0 0 20 0 0 0 0 0 0 0 ...\n",
      " $ lpsa   : num  -0.431 -0.163 -0.163 -0.163 0.372 ...\n"
     ]
    }
   ],
   "source": [
    "str(prostate)"
   ]
  },
  {
   "cell_type": "markdown",
   "metadata": {},
   "source": [
    "### Insample methods: AIC and BIC\n",
    "- in-sample methods utilize the entire dataset"
   ]
  },
  {
   "cell_type": "code",
   "execution_count": 136,
   "metadata": {},
   "outputs": [],
   "source": [
    "# library(leaps)"
   ]
  },
  {
   "cell_type": "code",
   "execution_count": 36,
   "metadata": {},
   "outputs": [],
   "source": [
    "fit_prostate <- regsubsets(lpsa~.,data=prostate,nvmax=8,method=\"exhaustive\")"
   ]
  },
  {
   "cell_type": "code",
   "execution_count": 37,
   "metadata": {},
   "outputs": [],
   "source": [
    "prostate_sum <- summary(fit_prostate)"
   ]
  },
  {
   "cell_type": "code",
   "execution_count": 38,
   "metadata": {},
   "outputs": [
    {
     "data": {
      "text/html": [
       "<table>\n",
       "<thead><tr><th></th><th scope=col>lcavol</th><th scope=col>lweight</th><th scope=col>age</th><th scope=col>lbph</th><th scope=col>svi</th><th scope=col>lcp</th><th scope=col>gleason</th><th scope=col>pgg45</th></tr></thead>\n",
       "<tbody>\n",
       "\t<tr><th scope=row>1  ( 1 )</th><td>*</td><td> </td><td> </td><td> </td><td> </td><td> </td><td> </td><td> </td></tr>\n",
       "\t<tr><th scope=row>2  ( 1 )</th><td>*</td><td>*</td><td> </td><td> </td><td> </td><td> </td><td> </td><td> </td></tr>\n",
       "\t<tr><th scope=row>3  ( 1 )</th><td>*</td><td>*</td><td> </td><td> </td><td>*</td><td> </td><td> </td><td> </td></tr>\n",
       "\t<tr><th scope=row>4  ( 1 )</th><td>*</td><td>*</td><td> </td><td>*</td><td>*</td><td> </td><td> </td><td> </td></tr>\n",
       "\t<tr><th scope=row>5  ( 1 )</th><td>*</td><td>*</td><td>*</td><td>*</td><td>*</td><td> </td><td> </td><td> </td></tr>\n",
       "\t<tr><th scope=row>6  ( 1 )</th><td>*</td><td>*</td><td>*</td><td>*</td><td>*</td><td> </td><td> </td><td>*</td></tr>\n",
       "\t<tr><th scope=row>7  ( 1 )</th><td>*</td><td>*</td><td>*</td><td>*</td><td>*</td><td>*</td><td> </td><td>*</td></tr>\n",
       "\t<tr><th scope=row>8  ( 1 )</th><td>*</td><td>*</td><td>*</td><td>*</td><td>*</td><td>*</td><td>*</td><td>*</td></tr>\n",
       "</tbody>\n",
       "</table>\n"
      ],
      "text/latex": [
       "\\begin{tabular}{r|llllllll}\n",
       "  & lcavol & lweight & age & lbph & svi & lcp & gleason & pgg45\\\\\n",
       "\\hline\n",
       "\t1  ( 1 ) & * &   &   &   &   &   &   &  \\\\\n",
       "\t2  ( 1 ) & * & * &   &   &   &   &   &  \\\\\n",
       "\t3  ( 1 ) & * & * &   &   & * &   &   &  \\\\\n",
       "\t4  ( 1 ) & * & * &   & * & * &   &   &  \\\\\n",
       "\t5  ( 1 ) & * & * & * & * & * &   &   &  \\\\\n",
       "\t6  ( 1 ) & * & * & * & * & * &   &   & *\\\\\n",
       "\t7  ( 1 ) & * & * & * & * & * & * &   & *\\\\\n",
       "\t8  ( 1 ) & * & * & * & * & * & * & * & *\\\\\n",
       "\\end{tabular}\n"
      ],
      "text/markdown": [
       "\n",
       "| <!--/--> | lcavol | lweight | age | lbph | svi | lcp | gleason | pgg45 |\n",
       "|---|---|---|---|---|---|---|---|---|\n",
       "| 1  ( 1 ) | * |   |   |   |   |   |   |   |\n",
       "| 2  ( 1 ) | * | * |   |   |   |   |   |   |\n",
       "| 3  ( 1 ) | * | * |   |   | * |   |   |   |\n",
       "| 4  ( 1 ) | * | * |   | * | * |   |   |   |\n",
       "| 5  ( 1 ) | * | * | * | * | * |   |   |   |\n",
       "| 6  ( 1 ) | * | * | * | * | * |   |   | * |\n",
       "| 7  ( 1 ) | * | * | * | * | * | * |   | * |\n",
       "| 8  ( 1 ) | * | * | * | * | * | * | * | * |\n",
       "\n"
      ],
      "text/plain": [
       "         lcavol lweight age lbph svi lcp gleason pgg45\n",
       "1  ( 1 ) *                                            \n",
       "2  ( 1 ) *      *                                     \n",
       "3  ( 1 ) *      *                *                    \n",
       "4  ( 1 ) *      *           *    *                    \n",
       "5  ( 1 ) *      *       *   *    *                    \n",
       "6  ( 1 ) *      *       *   *    *               *    \n",
       "7  ( 1 ) *      *       *   *    *   *           *    \n",
       "8  ( 1 ) *      *       *   *    *   *   *       *    "
      ]
     },
     "metadata": {},
     "output_type": "display_data"
    }
   ],
   "source": [
    "prostate_sum$outmat"
   ]
  },
  {
   "cell_type": "code",
   "execution_count": 39,
   "metadata": {},
   "outputs": [
    {
     "data": {
      "text/html": [
       "<ol class=list-inline>\n",
       "\t<li>'which'</li>\n",
       "\t<li>'rsq'</li>\n",
       "\t<li>'rss'</li>\n",
       "\t<li>'adjr2'</li>\n",
       "\t<li>'cp'</li>\n",
       "\t<li>'bic'</li>\n",
       "\t<li>'outmat'</li>\n",
       "\t<li>'obj'</li>\n",
       "</ol>\n"
      ],
      "text/latex": [
       "\\begin{enumerate*}\n",
       "\\item 'which'\n",
       "\\item 'rsq'\n",
       "\\item 'rss'\n",
       "\\item 'adjr2'\n",
       "\\item 'cp'\n",
       "\\item 'bic'\n",
       "\\item 'outmat'\n",
       "\\item 'obj'\n",
       "\\end{enumerate*}\n"
      ],
      "text/markdown": [
       "1. 'which'\n",
       "2. 'rsq'\n",
       "3. 'rss'\n",
       "4. 'adjr2'\n",
       "5. 'cp'\n",
       "6. 'bic'\n",
       "7. 'outmat'\n",
       "8. 'obj'\n",
       "\n",
       "\n"
      ],
      "text/plain": [
       "[1] \"which\"  \"rsq\"    \"rss\"    \"adjr2\"  \"cp\"     \"bic\"    \"outmat\" \"obj\"   "
      ]
     },
     "metadata": {},
     "output_type": "display_data"
    }
   ],
   "source": [
    "names(prostate_sum)"
   ]
  },
  {
   "cell_type": "markdown",
   "metadata": {},
   "source": [
    "### AIC and BIC\n",
    "- leaps AIC = mallow's cp, let's extract that."
   ]
  },
  {
   "cell_type": "code",
   "execution_count": 40,
   "metadata": {},
   "outputs": [],
   "source": [
    "AIC_prostate <- prostate_sum$cp"
   ]
  },
  {
   "cell_type": "code",
   "execution_count": 41,
   "metadata": {},
   "outputs": [],
   "source": [
    "BIC_prostate <- prostate_sum$bic"
   ]
  },
  {
   "cell_type": "code",
   "execution_count": 42,
   "metadata": {},
   "outputs": [],
   "source": [
    "AIC_min = which.min(AIC_prostate)"
   ]
  },
  {
   "cell_type": "code",
   "execution_count": 43,
   "metadata": {},
   "outputs": [
    {
     "data": {
      "text/html": [
       "4"
      ],
      "text/latex": [
       "4"
      ],
      "text/markdown": [
       "4"
      ],
      "text/plain": [
       "[1] 4"
      ]
     },
     "metadata": {},
     "output_type": "display_data"
    }
   ],
   "source": [
    "AIC_min"
   ]
  },
  {
   "cell_type": "code",
   "execution_count": 44,
   "metadata": {},
   "outputs": [
    {
     "data": {
      "image/png": "[encoded data removed]",
      "text/plain": [
       "Plot with title \"AIC and BIC\""
      ]
     },
     "metadata": {},
     "output_type": "display_data"
    }
   ],
   "source": [
    "options(repr.plot.width=5, repr.plot.height=4)\n",
    "index = (1:8)\n",
    "plot(index, AIC_prostate, type=\"o\", col=\"blue\", pch=\"o\", lty=1, ylim=c(-80,25),ylab=\"score\",main=\"AIC and BIC\" )\n",
    "points(index, BIC_prostate, col=\"red\", pch=\"*\")\n",
    "lines(index, BIC_prostate, col=\"red\",lty=2)\n",
    "legend(\"top\",legend=c(\"AIC_prostate\",\"BIC_prostate\"), bty=\"n\",col=c(\"blue\",\"red\"),pch=c(\"o\",\"*\"),lty=c(1,2), ncol=1,cex=0.5)"
   ]
  },
  {
   "cell_type": "code",
   "execution_count": 45,
   "metadata": {},
   "outputs": [
    {
     "name": "stdout",
     "output_type": "stream",
     "text": [
      "model with lowest AIC:  4 \n",
      "model with lowest BIC:  3"
     ]
    }
   ],
   "source": [
    "AIC_min = which.min(AIC_prostate)\n",
    "BIC_min = which.min(BIC_prostate)\n",
    "cat('model with lowest AIC: ',AIC_min,\"\\nmodel with lowest BIC: \",BIC_min)"
   ]
  },
  {
   "cell_type": "markdown",
   "metadata": {},
   "source": [
    "- We can extract the models with minium AIC and BIC. The model with  minimum AIC is the 4-variable, however by looking at the whole profile of AIC and BIC (the graph above), we can see that 3 model would've been the optimal choice, since 4-variable does not reduce the AIC score drastically. \n",
    "- conclusion: 3-variable model is the optimal model determined by AIC and BIC!"
   ]
  },
  {
   "cell_type": "markdown",
   "metadata": {},
   "source": [
    "### 5-fold Cross Validation"
   ]
  },
  {
   "cell_type": "code",
   "execution_count": 46,
   "metadata": {},
   "outputs": [],
   "source": [
    "set.seed(8999)\n",
    "fold5=sample(rep(1:5, length=nrow(prostate)))\n"
   ]
  },
  {
   "cell_type": "code",
   "execution_count": 47,
   "metadata": {},
   "outputs": [],
   "source": [
    "temp1=matrix(NA, 5, 8) #5 folds, 8 variables\n",
    "\n",
    "for (k in 1:5){\n",
    "    exh_fit=regsubsets(lpsa~., data=prostate[fold5!=k,], nvmax=8, method=\"exhaustive\")\n",
    "    test_matrix = model.matrix(lpsa~.,data=prostate[fold5==k,])\n",
    "  for (i in 1:8){\n",
    "    coefi = coef(exh_fit,id=i)\n",
    "    pred = test_matrix[,names(coefi)] %*% coefi\n",
    "    temp1[k,i]=mean((prostate$lpsa[fold5==k]-pred)^2)\n",
    "  }\n",
    "}\n"
   ]
  },
  {
   "cell_type": "code",
   "execution_count": 48,
   "metadata": {},
   "outputs": [],
   "source": [
    "cv5_errors=rep(NA, 8)\n",
    "for (i in 1:8){\n",
    "    cv5_errors[i] = mean(temp1[,i])\n",
    "}"
   ]
  },
  {
   "cell_type": "code",
   "execution_count": 49,
   "metadata": {},
   "outputs": [
    {
     "data": {
      "image/png": "[encoded data removed]",
      "text/plain": [
       "Plot with title \"5-fold Cross Validation\""
      ]
     },
     "metadata": {},
     "output_type": "display_data"
    }
   ],
   "source": [
    "options(repr.plot.width=4, repr.plot.height=4)\n",
    "\n",
    "plot(index, cv5_errors, type=\"o\", col=\"blue\", pch=\"o\", lty=1,ylab=\"Least-Squared Error\",main=\"5-fold Cross Validation\" )\n"
   ]
  },
  {
   "cell_type": "code",
   "execution_count": 50,
   "metadata": {},
   "outputs": [
    {
     "name": "stdout",
     "output_type": "stream",
     "text": [
      "model with lowest 5-fold CV error:  8"
     ]
    }
   ],
   "source": [
    "CV5_min = which.min(cv5_errors)\n",
    "cat('model with lowest 5-fold CV error: ',CV5_min)"
   ]
  },
  {
   "cell_type": "markdown",
   "metadata": {},
   "source": [
    "- We can extract the models with 5-fold cross validation error which is the 8 variable model, however by looking at the full profile of our 5-fold cross validation result, we see that 3 variable model would have done a similar job, since the additional variable does not drastically reduce the error rate\n",
    "- conclusion: optimal model from 5-fold cross validation is the 3-variable model."
   ]
  },
  {
   "cell_type": "markdown",
   "metadata": {},
   "source": [
    "### 10-fold Cross Validation"
   ]
  },
  {
   "cell_type": "code",
   "execution_count": 51,
   "metadata": {},
   "outputs": [],
   "source": [
    "fold10=sample(rep(1:10, length=nrow(prostate)))\n"
   ]
  },
  {
   "cell_type": "code",
   "execution_count": 52,
   "metadata": {},
   "outputs": [],
   "source": [
    "temp2=matrix(NA, 10, 8) #5 folds, 8 variables\n",
    "\n",
    "for (k in 1:10){\n",
    "    exh_fit=regsubsets(lpsa~., data=prostate[fold10!=k,], nvmax=8, method=\"exhaustive\")\n",
    "    test_matrix = model.matrix(lpsa~.,data=prostate[fold10==k,])\n",
    "  for (i in 1:8){\n",
    "    coefi = coef(exh_fit,id=i)\n",
    "    pred = test_matrix[,names(coefi)] %*% coefi\n",
    "    temp2[k,i]=mean((prostate$lpsa[fold10==k]-pred)^2)\n",
    "  }\n",
    "}\n"
   ]
  },
  {
   "cell_type": "code",
   "execution_count": 53,
   "metadata": {},
   "outputs": [],
   "source": [
    "cv10_errors=rep(NA, 8)\n",
    "for (i in 1:8){\n",
    "    cv10_errors[i] = mean(temp2[,i])\n",
    "}"
   ]
  },
  {
   "cell_type": "code",
   "execution_count": 54,
   "metadata": {},
   "outputs": [
    {
     "data": {
      "image/png": "[encoded data removed]",
      "text/plain": [
       "Plot with title \"10-fold Cross Validation\""
      ]
     },
     "metadata": {},
     "output_type": "display_data"
    }
   ],
   "source": [
    "plot(index, cv10_errors, type=\"o\", col=\"blue\", pch=\"o\", lty=1,ylab=\"Least-Squared Error\",main=\"10-fold Cross Validation\" )\n"
   ]
  },
  {
   "cell_type": "code",
   "execution_count": 55,
   "metadata": {},
   "outputs": [
    {
     "name": "stdout",
     "output_type": "stream",
     "text": [
      "model with lowest 10-fold CV error:  4"
     ]
    }
   ],
   "source": [
    "CV10_min = which.min(cv10_errors)\n",
    "cat('model with lowest 10-fold CV error: ',CV10_min)"
   ]
  },
  {
   "cell_type": "markdown",
   "metadata": {},
   "source": [
    "- conclusion: optimal model from 10-fold cross validation is the 4-variable model."
   ]
  },
  {
   "cell_type": "markdown",
   "metadata": {},
   "source": [
    "###  bootstrap .632 estimates"
   ]
  },
  {
   "cell_type": "code",
   "execution_count": 137,
   "metadata": {},
   "outputs": [],
   "source": [
    "# library(bootstrap)\n",
    "# library(boot)"
   ]
  },
  {
   "cell_type": "code",
   "execution_count": 57,
   "metadata": {},
   "outputs": [],
   "source": [
    "X <- prostate[,-9]\n",
    "Y <- prostate$lpsa"
   ]
  },
  {
   "cell_type": "code",
   "execution_count": 58,
   "metadata": {},
   "outputs": [],
   "source": [
    "# create the function that feeds into \"bootpred\"\n",
    "\n",
    "#fit the model \n",
    "theta.fit <- function(X,Y){\n",
    "    lsfit(X,Y) #works like lm\n",
    "}\n",
    "\n",
    "#\n",
    "theta.predict <-function(fit,X){\n",
    "    cbind(1,X) %*% fit$coef\n",
    "}\n",
    "\n",
    "sq.error <- function(Y,Yhat){\n",
    "    (Y-Yhat)^2\n",
    "}"
   ]
  },
  {
   "cell_type": "code",
   "execution_count": 59,
   "metadata": {},
   "outputs": [],
   "source": [
    "select = prostate_sum$outmat\n",
    "p632_est <- rep(NA,8)\n",
    "for (i in 1:8){\n",
    "\t# Pull out the model\n",
    "\ttemp <- which(select[i,] == \"*\")\n",
    "\n",
    "\tres <- bootpred(X[,temp], Y,\n",
    "                    nboot = 50,\n",
    "                    theta.fit = theta.fit,\n",
    "                    theta.predict = theta.predict,\n",
    "                    err.meas = sq.error) \n",
    "\tp632_est[i] <- res[[3]]\n",
    "}"
   ]
  },
  {
   "cell_type": "code",
   "execution_count": 60,
   "metadata": {},
   "outputs": [
    {
     "data": {
      "image/png": "[encoded data removed]",
      "text/plain": [
       "Plot with title \"Boostrap .632 Estimate\""
      ]
     },
     "metadata": {},
     "output_type": "display_data"
    }
   ],
   "source": [
    "plot(index, p632_est, type=\"o\", col=\"blue\", pch=\"o\", lty=1,ylab=\"Least-Squared Error\",main=\"Boostrap .632 Estimate\" )\n"
   ]
  },
  {
   "cell_type": "code",
   "execution_count": 61,
   "metadata": {},
   "outputs": [
    {
     "name": "stdout",
     "output_type": "stream",
     "text": [
      "model with lowest Boostrap .632 estimate error:  5"
     ]
    }
   ],
   "source": [
    "boot_min = which.min(p632_est)\n",
    "cat('model with lowest Boostrap .632 estimate error: ',boot_min)"
   ]
  },
  {
   "cell_type": "markdown",
   "metadata": {},
   "source": [
    "- We can extract the models with minimum .632 estimate error which is the 5-variable model, however by looking at the graph above, 3-variable would perform similarly as 5-variable model \n",
    "- conclusion: 3-variable model is the optimal model determined boostrap 0.632 estimate method"
   ]
  },
  {
   "cell_type": "markdown",
   "metadata": {},
   "source": [
    "### Conclusion"
   ]
  },
  {
   "cell_type": "code",
   "execution_count": 62,
   "metadata": {},
   "outputs": [
    {
     "data": {
      "image/png": "[encoded data removed]",
      "text/plain": [
       "Plot with title \"Boostrap .632 Estimate\""
      ]
     },
     "metadata": {},
     "output_type": "display_data"
    }
   ],
   "source": [
    "options(repr.plot.width=10, repr.plot.height=3)\n",
    "par(mfrow=c(1,4))\n",
    "index = (1:8)\n",
    "plot(index, AIC_prostate, type=\"o\", col=\"blue\", pch=\"o\", lty=1, ylim=c(-80,25),xlab=\"Number of Varaibles\",ylab=\"score\",main=\"AIC and BIC\" )\n",
    "points(index, BIC_prostate, col=\"red\", pch=\"*\")\n",
    "lines(index, BIC_prostate, col=\"red\",lty=2)\n",
    "legend(\"top\",legend=c(\"AIC_prostate\",\"BIC_prostate\"), bty=\"n\",col=c(\"blue\",\"red\"),pch=c(\"o\",\"*\"),lty=c(1,2), ncol=1,cex=0.5)\n",
    "plot(index, cv5_errors, type=\"o\", col=\"blue\", pch=\"o\", lty=1,xlab=\"Number of Varaibles\",ylab=\"Least-Squared Error\",main=\"5-fold Cross Validation\" )\n",
    "plot(index, cv10_errors, type=\"o\", col=\"blue\", pch=\"o\", lty=1,xlab=\"Number of Varaibles\",ylab=\"Least-Squared Error\",main=\"10-fold Cross Validation\" )\n",
    "plot(index, p632_est, type=\"o\", col=\"blue\", pch=\"o\", lty=1,xlab=\"Number of Varaibles\",ylab=\"Least-Squared Error\",main=\"Boostrap .632 Estimate\" )\n"
   ]
  },
  {
   "cell_type": "code",
   "execution_count": 63,
   "metadata": {},
   "outputs": [],
   "source": [
    "method <- c(\"AIC\",\"BIC\",\"5-Fold\",\"10-Fold\",\".632\")\n",
    "variables <- c(3,3,3,4,3)"
   ]
  },
  {
   "cell_type": "code",
   "execution_count": 64,
   "metadata": {},
   "outputs": [
    {
     "data": {
      "text/html": [
       "<table>\n",
       "<tbody>\n",
       "\t<tr><th scope=row>method</th><td>AIC    </td><td>BIC    </td><td>5-Fold </td><td>10-Fold</td><td>.632   </td></tr>\n",
       "\t<tr><th scope=row>variables</th><td>3      </td><td>3      </td><td>3      </td><td>4      </td><td>3      </td></tr>\n",
       "</tbody>\n",
       "</table>\n"
      ],
      "text/latex": [
       "\\begin{tabular}{r|lllll}\n",
       "\tmethod & AIC     & BIC     & 5-Fold  & 10-Fold & .632   \\\\\n",
       "\tvariables & 3       & 3       & 3       & 4       & 3      \\\\\n",
       "\\end{tabular}\n"
      ],
      "text/markdown": [
       "\n",
       "| method | AIC     | BIC     | 5-Fold  | 10-Fold | .632    |\n",
       "| variables | 3       | 3       | 3       | 4       | 3       |\n",
       "\n"
      ],
      "text/plain": [
       "          [,1] [,2] [,3]   [,4]    [,5]\n",
       "method    AIC  BIC  5-Fold 10-Fold .632\n",
       "variables 3    3    3      4       3   "
      ]
     },
     "metadata": {},
     "output_type": "display_data"
    }
   ],
   "source": [
    "rbind(method,variables)"
   ]
  },
  {
   "cell_type": "markdown",
   "metadata": {},
   "source": [
    "- in conlusion, all methods yielded 3-variable as the most optimal model (obtained from observing the graph, not by taking the minimum performance metrics), except for 10-fold cross validation method, which yielded 4-variable model as the optimal model. We can say that the 3-variable is the most optimal in terms of accuracy and computationally feasibility for future prediction algorithms "
   ]
  },
  {
   "cell_type": "markdown",
   "metadata": {},
   "source": [
    "# Question3\n",
    "\n",
    "- Access the wine data from the UCI machine learning repository\n",
    "(https://archive.ics.uci.edu/ml/datasets/wine). These data are the results of a\n",
    "chemical analysis of 178 wines grown over the decade 1970-1979 in the same\n",
    "region of Italy, but derived from three different cultivars (Barolo, Grignolino,\n",
    "Barbera). The Babera wines were predominately from a period that was much\n",
    "later than that of the Barolo and Grignolino wines. The analysis determined the\n",
    "quantities MalicAcid, Ash, AlcAsh, Mg, Phenols, Proa, Color, Hue, OD, and\n",
    "Proline. There are 50 Barolo wines, 71 Grignolino wines, and 48 Barbera wines.\n",
    "Construct the appropriate-size classification tree for this dataset. Apply an\n",
    "ensemble technique (e.g., random forests or boosting). Compare the performance.\n",
    "- Construct an LDA model, and compare your performance to part (A). "
   ]
  },
  {
   "cell_type": "code",
   "execution_count": 65,
   "metadata": {},
   "outputs": [
    {
     "data": {
      "text/html": [
       "<table>\n",
       "<thead><tr><th scope=col>Type</th><th scope=col>Alcohol</th><th scope=col>Malic</th><th scope=col>Ash</th><th scope=col>Alcalinity</th><th scope=col>Magnesium</th><th scope=col>Phenols</th><th scope=col>Flavanoids</th><th scope=col>Nonflavanoids</th><th scope=col>Proanthocyanins</th><th scope=col>Color</th><th scope=col>Hue</th><th scope=col>Dilution</th><th scope=col>Proline</th></tr></thead>\n",
       "<tbody>\n",
       "\t<tr><td>1    </td><td>14.23</td><td>1.71 </td><td>2.43 </td><td>15.6 </td><td>127  </td><td>2.80 </td><td>3.06 </td><td>0.28 </td><td>2.29 </td><td>5.64 </td><td>1.04 </td><td>3.92 </td><td>1065 </td></tr>\n",
       "\t<tr><td>1    </td><td>13.20</td><td>1.78 </td><td>2.14 </td><td>11.2 </td><td>100  </td><td>2.65 </td><td>2.76 </td><td>0.26 </td><td>1.28 </td><td>4.38 </td><td>1.05 </td><td>3.40 </td><td>1050 </td></tr>\n",
       "\t<tr><td>1    </td><td>13.16</td><td>2.36 </td><td>2.67 </td><td>18.6 </td><td>101  </td><td>2.80 </td><td>3.24 </td><td>0.30 </td><td>2.81 </td><td>5.68 </td><td>1.03 </td><td>3.17 </td><td>1185 </td></tr>\n",
       "\t<tr><td>1    </td><td>14.37</td><td>1.95 </td><td>2.50 </td><td>16.8 </td><td>113  </td><td>3.85 </td><td>3.49 </td><td>0.24 </td><td>2.18 </td><td>7.80 </td><td>0.86 </td><td>3.45 </td><td>1480 </td></tr>\n",
       "\t<tr><td>1    </td><td>13.24</td><td>2.59 </td><td>2.87 </td><td>21.0 </td><td>118  </td><td>2.80 </td><td>2.69 </td><td>0.39 </td><td>1.82 </td><td>4.32 </td><td>1.04 </td><td>2.93 </td><td> 735 </td></tr>\n",
       "\t<tr><td>1    </td><td>14.20</td><td>1.76 </td><td>2.45 </td><td>15.2 </td><td>112  </td><td>3.27 </td><td>3.39 </td><td>0.34 </td><td>1.97 </td><td>6.75 </td><td>1.05 </td><td>2.85 </td><td>1450 </td></tr>\n",
       "</tbody>\n",
       "</table>\n"
      ],
      "text/latex": [
       "\\begin{tabular}{r|llllllllllllll}\n",
       " Type & Alcohol & Malic & Ash & Alcalinity & Magnesium & Phenols & Flavanoids & Nonflavanoids & Proanthocyanins & Color & Hue & Dilution & Proline\\\\\n",
       "\\hline\n",
       "\t 1     & 14.23 & 1.71  & 2.43  & 15.6  & 127   & 2.80  & 3.06  & 0.28  & 2.29  & 5.64  & 1.04  & 3.92  & 1065 \\\\\n",
       "\t 1     & 13.20 & 1.78  & 2.14  & 11.2  & 100   & 2.65  & 2.76  & 0.26  & 1.28  & 4.38  & 1.05  & 3.40  & 1050 \\\\\n",
       "\t 1     & 13.16 & 2.36  & 2.67  & 18.6  & 101   & 2.80  & 3.24  & 0.30  & 2.81  & 5.68  & 1.03  & 3.17  & 1185 \\\\\n",
       "\t 1     & 14.37 & 1.95  & 2.50  & 16.8  & 113   & 3.85  & 3.49  & 0.24  & 2.18  & 7.80  & 0.86  & 3.45  & 1480 \\\\\n",
       "\t 1     & 13.24 & 2.59  & 2.87  & 21.0  & 118   & 2.80  & 2.69  & 0.39  & 1.82  & 4.32  & 1.04  & 2.93  &  735 \\\\\n",
       "\t 1     & 14.20 & 1.76  & 2.45  & 15.2  & 112   & 3.27  & 3.39  & 0.34  & 1.97  & 6.75  & 1.05  & 2.85  & 1450 \\\\\n",
       "\\end{tabular}\n"
      ],
      "text/markdown": [
       "\n",
       "| Type | Alcohol | Malic | Ash | Alcalinity | Magnesium | Phenols | Flavanoids | Nonflavanoids | Proanthocyanins | Color | Hue | Dilution | Proline |\n",
       "|---|---|---|---|---|---|---|---|---|---|---|---|---|---|\n",
       "| 1     | 14.23 | 1.71  | 2.43  | 15.6  | 127   | 2.80  | 3.06  | 0.28  | 2.29  | 5.64  | 1.04  | 3.92  | 1065  |\n",
       "| 1     | 13.20 | 1.78  | 2.14  | 11.2  | 100   | 2.65  | 2.76  | 0.26  | 1.28  | 4.38  | 1.05  | 3.40  | 1050  |\n",
       "| 1     | 13.16 | 2.36  | 2.67  | 18.6  | 101   | 2.80  | 3.24  | 0.30  | 2.81  | 5.68  | 1.03  | 3.17  | 1185  |\n",
       "| 1     | 14.37 | 1.95  | 2.50  | 16.8  | 113   | 3.85  | 3.49  | 0.24  | 2.18  | 7.80  | 0.86  | 3.45  | 1480  |\n",
       "| 1     | 13.24 | 2.59  | 2.87  | 21.0  | 118   | 2.80  | 2.69  | 0.39  | 1.82  | 4.32  | 1.04  | 2.93  |  735  |\n",
       "| 1     | 14.20 | 1.76  | 2.45  | 15.2  | 112   | 3.27  | 3.39  | 0.34  | 1.97  | 6.75  | 1.05  | 2.85  | 1450  |\n",
       "\n"
      ],
      "text/plain": [
       "  Type Alcohol Malic Ash  Alcalinity Magnesium Phenols Flavanoids Nonflavanoids\n",
       "1 1    14.23   1.71  2.43 15.6       127       2.80    3.06       0.28         \n",
       "2 1    13.20   1.78  2.14 11.2       100       2.65    2.76       0.26         \n",
       "3 1    13.16   2.36  2.67 18.6       101       2.80    3.24       0.30         \n",
       "4 1    14.37   1.95  2.50 16.8       113       3.85    3.49       0.24         \n",
       "5 1    13.24   2.59  2.87 21.0       118       2.80    2.69       0.39         \n",
       "6 1    14.20   1.76  2.45 15.2       112       3.27    3.39       0.34         \n",
       "  Proanthocyanins Color Hue  Dilution Proline\n",
       "1 2.29            5.64  1.04 3.92     1065   \n",
       "2 1.28            4.38  1.05 3.40     1050   \n",
       "3 2.81            5.68  1.03 3.17     1185   \n",
       "4 2.18            7.80  0.86 3.45     1480   \n",
       "5 1.82            4.32  1.04 2.93      735   \n",
       "6 1.97            6.75  1.05 2.85     1450   "
      ]
     },
     "metadata": {},
     "output_type": "display_data"
    }
   ],
   "source": [
    "head(wine)"
   ]
  },
  {
   "cell_type": "code",
   "execution_count": 66,
   "metadata": {},
   "outputs": [
    {
     "name": "stdout",
     "output_type": "stream",
     "text": [
      "'data.frame':\t178 obs. of  14 variables:\n",
      " $ Type           : Factor w/ 3 levels \"1\",\"2\",\"3\": 1 1 1 1 1 1 1 1 1 1 ...\n",
      " $ Alcohol        : num  14.2 13.2 13.2 14.4 13.2 ...\n",
      " $ Malic          : num  1.71 1.78 2.36 1.95 2.59 1.76 1.87 2.15 1.64 1.35 ...\n",
      " $ Ash            : num  2.43 2.14 2.67 2.5 2.87 2.45 2.45 2.61 2.17 2.27 ...\n",
      " $ Alcalinity     : num  15.6 11.2 18.6 16.8 21 15.2 14.6 17.6 14 16 ...\n",
      " $ Magnesium      : int  127 100 101 113 118 112 96 121 97 98 ...\n",
      " $ Phenols        : num  2.8 2.65 2.8 3.85 2.8 3.27 2.5 2.6 2.8 2.98 ...\n",
      " $ Flavanoids     : num  3.06 2.76 3.24 3.49 2.69 3.39 2.52 2.51 2.98 3.15 ...\n",
      " $ Nonflavanoids  : num  0.28 0.26 0.3 0.24 0.39 0.34 0.3 0.31 0.29 0.22 ...\n",
      " $ Proanthocyanins: num  2.29 1.28 2.81 2.18 1.82 1.97 1.98 1.25 1.98 1.85 ...\n",
      " $ Color          : num  5.64 4.38 5.68 7.8 4.32 6.75 5.25 5.05 5.2 7.22 ...\n",
      " $ Hue            : num  1.04 1.05 1.03 0.86 1.04 1.05 1.02 1.06 1.08 1.01 ...\n",
      " $ Dilution       : num  3.92 3.4 3.17 3.45 2.93 2.85 3.58 3.58 2.85 3.55 ...\n",
      " $ Proline        : int  1065 1050 1185 1480 735 1450 1290 1295 1045 1045 ...\n"
     ]
    }
   ],
   "source": [
    "str(wine)"
   ]
  },
  {
   "cell_type": "code",
   "execution_count": 67,
   "metadata": {},
   "outputs": [
    {
     "data": {
      "text/html": [
       "<ol class=list-inline>\n",
       "\t<li>178</li>\n",
       "\t<li>14</li>\n",
       "</ol>\n"
      ],
      "text/latex": [
       "\\begin{enumerate*}\n",
       "\\item 178\n",
       "\\item 14\n",
       "\\end{enumerate*}\n"
      ],
      "text/markdown": [
       "1. 178\n",
       "2. 14\n",
       "\n",
       "\n"
      ],
      "text/plain": [
       "[1] 178  14"
      ]
     },
     "metadata": {},
     "output_type": "display_data"
    }
   ],
   "source": [
    "dim(wine)"
   ]
  },
  {
   "cell_type": "code",
   "execution_count": 68,
   "metadata": {},
   "outputs": [
    {
     "data": {
      "text/html": [
       "<ol class=list-inline>\n",
       "\t<li>1</li>\n",
       "\t<li>2</li>\n",
       "\t<li>3</li>\n",
       "</ol>\n",
       "\n",
       "<details>\n",
       "\t<summary style=display:list-item;cursor:pointer>\n",
       "\t\t<strong>Levels</strong>:\n",
       "\t</summary>\n",
       "\t<ol class=list-inline>\n",
       "\t\t<li>'1'</li>\n",
       "\t\t<li>'2'</li>\n",
       "\t\t<li>'3'</li>\n",
       "\t</ol>\n",
       "</details>"
      ],
      "text/latex": [
       "\\begin{enumerate*}\n",
       "\\item 1\n",
       "\\item 2\n",
       "\\item 3\n",
       "\\end{enumerate*}\n",
       "\n",
       "\\emph{Levels}: \\begin{enumerate*}\n",
       "\\item '1'\n",
       "\\item '2'\n",
       "\\item '3'\n",
       "\\end{enumerate*}\n"
      ],
      "text/markdown": [
       "1. 1\n",
       "2. 2\n",
       "3. 3\n",
       "\n",
       "\n",
       "\n",
       "**Levels**: 1. '1'\n",
       "2. '2'\n",
       "3. '3'\n",
       "\n",
       "\n"
      ],
      "text/plain": [
       "[1] 1 2 3\n",
       "Levels: 1 2 3"
      ]
     },
     "metadata": {},
     "output_type": "display_data"
    }
   ],
   "source": [
    "unique(wine$Type)"
   ]
  },
  {
   "cell_type": "markdown",
   "metadata": {},
   "source": [
    "### Train Test Split"
   ]
  },
  {
   "cell_type": "code",
   "execution_count": 69,
   "metadata": {},
   "outputs": [],
   "source": [
    "set.seed(384902)"
   ]
  },
  {
   "cell_type": "code",
   "execution_count": 70,
   "metadata": {},
   "outputs": [],
   "source": [
    "inTrain <- createDataPartition(y = wine$Type,\n",
    "                               p = 0.7,\n",
    "                               list = FALSE)\n",
    "train_wine <-wine[inTrain,]\n",
    "test_wine <-wine[-inTrain,]"
   ]
  },
  {
   "cell_type": "markdown",
   "metadata": {},
   "source": [
    "- We will use 4 methods: single classification tree, random forest, bagging, and linear discriminant analysis to predict the Type of wine and compare the performances by doing the following:\n",
    "    - fit the model \n",
    "    - obtain the confusion matrices\n",
    "    - compute the training and test accuracies "
   ]
  },
  {
   "cell_type": "markdown",
   "metadata": {},
   "source": [
    "### Construct Classification Tree"
   ]
  },
  {
   "cell_type": "code",
   "execution_count": 71,
   "metadata": {},
   "outputs": [],
   "source": [
    "model_control <- rpart.control(minsplit=5,xval=10,cp=0)"
   ]
  },
  {
   "cell_type": "code",
   "execution_count": 72,
   "metadata": {},
   "outputs": [],
   "source": [
    "fit_wine <- rpart(Type~.,data=train_wine,method=\"class\",control=model_control)"
   ]
  },
  {
   "cell_type": "code",
   "execution_count": 73,
   "metadata": {},
   "outputs": [
    {
     "data": {
      "image/png": "[encoded data removed]",
      "text/plain": [
       "Plot with title \"Full Tree - Wine Data\""
      ]
     },
     "metadata": {},
     "output_type": "display_data"
    }
   ],
   "source": [
    "options(repr.plot.width=10, repr.plot.height=10)\n",
    "\n",
    "fancyRpartPlot(fit_wine,branch=0.22,compress=T,main=\"Full Tree - Wine Data\")\n",
    "text(fit_wine,cex=1,use.n=T,all=T)"
   ]
  },
  {
   "cell_type": "markdown",
   "metadata": {},
   "source": [
    "### Making Prediction"
   ]
  },
  {
   "cell_type": "code",
   "execution_count": 74,
   "metadata": {},
   "outputs": [],
   "source": [
    "wine_pred_train <- predict(fit_wine, train_wine,type=\"class\")\n",
    "wine_pred_test <- predict(fit_wine, test_wine,type=\"class\")\n"
   ]
  },
  {
   "cell_type": "code",
   "execution_count": 75,
   "metadata": {},
   "outputs": [],
   "source": [
    "wine_train_cm <- confusionMatrix(data = wine_pred_train, reference = train_wine$Type)\n",
    "wine_test_cm <- confusionMatrix(data = wine_pred_test, reference = test_wine$Type)\n"
   ]
  },
  {
   "cell_type": "code",
   "execution_count": 76,
   "metadata": {},
   "outputs": [
    {
     "data": {
      "text/plain": [
       "          Reference\n",
       "Prediction  1  2  3\n",
       "         1 41  0  0\n",
       "         2  1 49  0\n",
       "         3  0  1 34"
      ]
     },
     "metadata": {},
     "output_type": "display_data"
    },
    {
     "data": {
      "text/plain": [
       "          Reference\n",
       "Prediction  1  2  3\n",
       "         1 17  0  0\n",
       "         2  0 18  0\n",
       "         3  0  3 14"
      ]
     },
     "metadata": {},
     "output_type": "display_data"
    }
   ],
   "source": [
    "wine_train_cm$table\n",
    "wine_test_cm$table"
   ]
  },
  {
   "cell_type": "code",
   "execution_count": 77,
   "metadata": {},
   "outputs": [
    {
     "name": "stdout",
     "output_type": "stream",
     "text": [
      "Training Accuracy for classification tree: 0.984127 \n",
      "Testing Accuracy for classification tree: 0.9423077"
     ]
    }
   ],
   "source": [
    "tree_train_acc <- wine_train_cm$overall['Accuracy']\n",
    "tree_test_acc <- wine_test_cm$overall['Accuracy']\n",
    "cat(\"Training Accuracy for classification tree:\",tree_train_acc,\n",
    "   \"\\nTesting Accuracy for classification tree:\",tree_test_acc)"
   ]
  },
  {
   "cell_type": "markdown",
   "metadata": {},
   "source": [
    "### Random Forest"
   ]
  },
  {
   "cell_type": "code",
   "execution_count": 138,
   "metadata": {},
   "outputs": [],
   "source": [
    "# library(randomForest)"
   ]
  },
  {
   "cell_type": "code",
   "execution_count": 79,
   "metadata": {},
   "outputs": [],
   "source": [
    "wine_rf_fit <- randomForest(Type~.,data=train_wine,n.tree=500)"
   ]
  },
  {
   "cell_type": "code",
   "execution_count": 80,
   "metadata": {},
   "outputs": [
    {
     "data": {
      "text/html": [
       "<ol class=list-inline>\n",
       "\t<li>'call'</li>\n",
       "\t<li>'type'</li>\n",
       "\t<li>'predicted'</li>\n",
       "\t<li>'err.rate'</li>\n",
       "\t<li>'confusion'</li>\n",
       "\t<li>'votes'</li>\n",
       "\t<li>'oob.times'</li>\n",
       "\t<li>'classes'</li>\n",
       "\t<li>'importance'</li>\n",
       "\t<li>'importanceSD'</li>\n",
       "\t<li>'localImportance'</li>\n",
       "\t<li>'proximity'</li>\n",
       "\t<li>'ntree'</li>\n",
       "\t<li>'mtry'</li>\n",
       "\t<li>'forest'</li>\n",
       "\t<li>'y'</li>\n",
       "\t<li>'test'</li>\n",
       "\t<li>'inbag'</li>\n",
       "\t<li>'terms'</li>\n",
       "</ol>\n"
      ],
      "text/latex": [
       "\\begin{enumerate*}\n",
       "\\item 'call'\n",
       "\\item 'type'\n",
       "\\item 'predicted'\n",
       "\\item 'err.rate'\n",
       "\\item 'confusion'\n",
       "\\item 'votes'\n",
       "\\item 'oob.times'\n",
       "\\item 'classes'\n",
       "\\item 'importance'\n",
       "\\item 'importanceSD'\n",
       "\\item 'localImportance'\n",
       "\\item 'proximity'\n",
       "\\item 'ntree'\n",
       "\\item 'mtry'\n",
       "\\item 'forest'\n",
       "\\item 'y'\n",
       "\\item 'test'\n",
       "\\item 'inbag'\n",
       "\\item 'terms'\n",
       "\\end{enumerate*}\n"
      ],
      "text/markdown": [
       "1. 'call'\n",
       "2. 'type'\n",
       "3. 'predicted'\n",
       "4. 'err.rate'\n",
       "5. 'confusion'\n",
       "6. 'votes'\n",
       "7. 'oob.times'\n",
       "8. 'classes'\n",
       "9. 'importance'\n",
       "10. 'importanceSD'\n",
       "11. 'localImportance'\n",
       "12. 'proximity'\n",
       "13. 'ntree'\n",
       "14. 'mtry'\n",
       "15. 'forest'\n",
       "16. 'y'\n",
       "17. 'test'\n",
       "18. 'inbag'\n",
       "19. 'terms'\n",
       "\n",
       "\n"
      ],
      "text/plain": [
       " [1] \"call\"            \"type\"            \"predicted\"       \"err.rate\"       \n",
       " [5] \"confusion\"       \"votes\"           \"oob.times\"       \"classes\"        \n",
       " [9] \"importance\"      \"importanceSD\"    \"localImportance\" \"proximity\"      \n",
       "[13] \"ntree\"           \"mtry\"            \"forest\"          \"y\"              \n",
       "[17] \"test\"            \"inbag\"           \"terms\"          "
      ]
     },
     "metadata": {},
     "output_type": "display_data"
    }
   ],
   "source": [
    "names(wine_rf_fit)"
   ]
  },
  {
   "cell_type": "code",
   "execution_count": 81,
   "metadata": {},
   "outputs": [
    {
     "data": {
      "text/html": [
       "<table>\n",
       "<thead><tr><th></th><th scope=col>MeanDecreaseGini</th></tr></thead>\n",
       "<tbody>\n",
       "\t<tr><th scope=row>Alcohol</th><td>11.2756023</td></tr>\n",
       "\t<tr><th scope=row>Malic</th><td> 2.8526570</td></tr>\n",
       "\t<tr><th scope=row>Ash</th><td> 0.6757757</td></tr>\n",
       "\t<tr><th scope=row>Alcalinity</th><td> 2.4959445</td></tr>\n",
       "\t<tr><th scope=row>Magnesium</th><td> 2.6193796</td></tr>\n",
       "\t<tr><th scope=row>Phenols</th><td> 4.5425851</td></tr>\n",
       "\t<tr><th scope=row>Flavanoids</th><td>12.4191601</td></tr>\n",
       "\t<tr><th scope=row>Nonflavanoids</th><td> 1.4105023</td></tr>\n",
       "\t<tr><th scope=row>Proanthocyanins</th><td> 1.5644832</td></tr>\n",
       "\t<tr><th scope=row>Color</th><td>13.6088627</td></tr>\n",
       "\t<tr><th scope=row>Hue</th><td> 5.9122791</td></tr>\n",
       "\t<tr><th scope=row>Dilution</th><td>10.1409108</td></tr>\n",
       "\t<tr><th scope=row>Proline</th><td>12.8725877</td></tr>\n",
       "</tbody>\n",
       "</table>\n"
      ],
      "text/latex": [
       "\\begin{tabular}{r|l}\n",
       "  & MeanDecreaseGini\\\\\n",
       "\\hline\n",
       "\tAlcohol & 11.2756023\\\\\n",
       "\tMalic &  2.8526570\\\\\n",
       "\tAsh &  0.6757757\\\\\n",
       "\tAlcalinity &  2.4959445\\\\\n",
       "\tMagnesium &  2.6193796\\\\\n",
       "\tPhenols &  4.5425851\\\\\n",
       "\tFlavanoids & 12.4191601\\\\\n",
       "\tNonflavanoids &  1.4105023\\\\\n",
       "\tProanthocyanins &  1.5644832\\\\\n",
       "\tColor & 13.6088627\\\\\n",
       "\tHue &  5.9122791\\\\\n",
       "\tDilution & 10.1409108\\\\\n",
       "\tProline & 12.8725877\\\\\n",
       "\\end{tabular}\n"
      ],
      "text/markdown": [
       "\n",
       "| <!--/--> | MeanDecreaseGini |\n",
       "|---|---|\n",
       "| Alcohol | 11.2756023 |\n",
       "| Malic |  2.8526570 |\n",
       "| Ash |  0.6757757 |\n",
       "| Alcalinity |  2.4959445 |\n",
       "| Magnesium |  2.6193796 |\n",
       "| Phenols |  4.5425851 |\n",
       "| Flavanoids | 12.4191601 |\n",
       "| Nonflavanoids |  1.4105023 |\n",
       "| Proanthocyanins |  1.5644832 |\n",
       "| Color | 13.6088627 |\n",
       "| Hue |  5.9122791 |\n",
       "| Dilution | 10.1409108 |\n",
       "| Proline | 12.8725877 |\n",
       "\n"
      ],
      "text/plain": [
       "                MeanDecreaseGini\n",
       "Alcohol         11.2756023      \n",
       "Malic            2.8526570      \n",
       "Ash              0.6757757      \n",
       "Alcalinity       2.4959445      \n",
       "Magnesium        2.6193796      \n",
       "Phenols          4.5425851      \n",
       "Flavanoids      12.4191601      \n",
       "Nonflavanoids    1.4105023      \n",
       "Proanthocyanins  1.5644832      \n",
       "Color           13.6088627      \n",
       "Hue              5.9122791      \n",
       "Dilution        10.1409108      \n",
       "Proline         12.8725877      "
      ]
     },
     "metadata": {},
     "output_type": "display_data"
    }
   ],
   "source": [
    "importance(wine_rf_fit)"
   ]
  },
  {
   "cell_type": "code",
   "execution_count": 82,
   "metadata": {},
   "outputs": [],
   "source": [
    "wine_pred_train <- predict(wine_rf_fit,newdata=train_wine,type=\"response\")\n",
    "wine_pred_test <- predict(wine_rf_fit,newdata=test_wine,type=\"response\")\n"
   ]
  },
  {
   "cell_type": "code",
   "execution_count": 83,
   "metadata": {},
   "outputs": [],
   "source": [
    "wine_train_cm <- confusionMatrix(data = wine_pred_train, reference = train_wine$Type)\n",
    "wine_test_cm <- confusionMatrix(data = wine_pred_test, reference = test_wine$Type)\n"
   ]
  },
  {
   "cell_type": "code",
   "execution_count": 84,
   "metadata": {},
   "outputs": [
    {
     "data": {
      "text/plain": [
       "          Reference\n",
       "Prediction  1  2  3\n",
       "         1 42  0  0\n",
       "         2  0 50  0\n",
       "         3  0  0 34"
      ]
     },
     "metadata": {},
     "output_type": "display_data"
    },
    {
     "data": {
      "text/plain": [
       "          Reference\n",
       "Prediction  1  2  3\n",
       "         1 17  1  0\n",
       "         2  0 19  0\n",
       "         3  0  1 14"
      ]
     },
     "metadata": {},
     "output_type": "display_data"
    }
   ],
   "source": [
    "wine_train_cm$table\n",
    "wine_test_cm$table"
   ]
  },
  {
   "cell_type": "code",
   "execution_count": 85,
   "metadata": {},
   "outputs": [
    {
     "name": "stdout",
     "output_type": "stream",
     "text": [
      "Training Accuracy for Random Forest: 1 \n",
      "Testing Accuracy for Random Forest: 0.9615385"
     ]
    }
   ],
   "source": [
    "rf_train_acc <- wine_train_cm$overall['Accuracy']\n",
    "rf_test_acc <- wine_test_cm$overall['Accuracy']\n",
    "cat(\"Training Accuracy for Random Forest:\",rf_train_acc,\n",
    "   \"\\nTesting Accuracy for Random Forest:\",rf_test_acc)"
   ]
  },
  {
   "cell_type": "markdown",
   "metadata": {},
   "source": [
    "### Bagging"
   ]
  },
  {
   "cell_type": "code",
   "execution_count": 86,
   "metadata": {},
   "outputs": [
    {
     "data": {
      "text/html": [
       "<ol class=list-inline>\n",
       "\t<li>178</li>\n",
       "\t<li>14</li>\n",
       "</ol>\n"
      ],
      "text/latex": [
       "\\begin{enumerate*}\n",
       "\\item 178\n",
       "\\item 14\n",
       "\\end{enumerate*}\n"
      ],
      "text/markdown": [
       "1. 178\n",
       "2. 14\n",
       "\n",
       "\n"
      ],
      "text/plain": [
       "[1] 178  14"
      ]
     },
     "metadata": {},
     "output_type": "display_data"
    }
   ],
   "source": [
    "dim(wine)"
   ]
  },
  {
   "cell_type": "code",
   "execution_count": 87,
   "metadata": {},
   "outputs": [],
   "source": [
    "wine_bag_fit <- randomForest(Type~.,data=train_wine,n.tree=500,mtry=13)"
   ]
  },
  {
   "cell_type": "code",
   "execution_count": 88,
   "metadata": {},
   "outputs": [
    {
     "data": {
      "text/html": [
       "<table>\n",
       "<thead><tr><th></th><th scope=col>MeanDecreaseGini</th></tr></thead>\n",
       "<tbody>\n",
       "\t<tr><th scope=row>Alcohol</th><td>10.0863197</td></tr>\n",
       "\t<tr><th scope=row>Malic</th><td> 1.0941825</td></tr>\n",
       "\t<tr><th scope=row>Ash</th><td> 0.2392678</td></tr>\n",
       "\t<tr><th scope=row>Alcalinity</th><td> 0.3481463</td></tr>\n",
       "\t<tr><th scope=row>Magnesium</th><td> 0.8539957</td></tr>\n",
       "\t<tr><th scope=row>Phenols</th><td> 0.4283358</td></tr>\n",
       "\t<tr><th scope=row>Flavanoids</th><td>14.2704467</td></tr>\n",
       "\t<tr><th scope=row>Nonflavanoids</th><td> 0.1220859</td></tr>\n",
       "\t<tr><th scope=row>Proanthocyanins</th><td> 0.3338512</td></tr>\n",
       "\t<tr><th scope=row>Color</th><td>20.4398795</td></tr>\n",
       "\t<tr><th scope=row>Hue</th><td> 1.5557366</td></tr>\n",
       "\t<tr><th scope=row>Dilution</th><td>13.8603600</td></tr>\n",
       "\t<tr><th scope=row>Proline</th><td>18.6997733</td></tr>\n",
       "</tbody>\n",
       "</table>\n"
      ],
      "text/latex": [
       "\\begin{tabular}{r|l}\n",
       "  & MeanDecreaseGini\\\\\n",
       "\\hline\n",
       "\tAlcohol & 10.0863197\\\\\n",
       "\tMalic &  1.0941825\\\\\n",
       "\tAsh &  0.2392678\\\\\n",
       "\tAlcalinity &  0.3481463\\\\\n",
       "\tMagnesium &  0.8539957\\\\\n",
       "\tPhenols &  0.4283358\\\\\n",
       "\tFlavanoids & 14.2704467\\\\\n",
       "\tNonflavanoids &  0.1220859\\\\\n",
       "\tProanthocyanins &  0.3338512\\\\\n",
       "\tColor & 20.4398795\\\\\n",
       "\tHue &  1.5557366\\\\\n",
       "\tDilution & 13.8603600\\\\\n",
       "\tProline & 18.6997733\\\\\n",
       "\\end{tabular}\n"
      ],
      "text/markdown": [
       "\n",
       "| <!--/--> | MeanDecreaseGini |\n",
       "|---|---|\n",
       "| Alcohol | 10.0863197 |\n",
       "| Malic |  1.0941825 |\n",
       "| Ash |  0.2392678 |\n",
       "| Alcalinity |  0.3481463 |\n",
       "| Magnesium |  0.8539957 |\n",
       "| Phenols |  0.4283358 |\n",
       "| Flavanoids | 14.2704467 |\n",
       "| Nonflavanoids |  0.1220859 |\n",
       "| Proanthocyanins |  0.3338512 |\n",
       "| Color | 20.4398795 |\n",
       "| Hue |  1.5557366 |\n",
       "| Dilution | 13.8603600 |\n",
       "| Proline | 18.6997733 |\n",
       "\n"
      ],
      "text/plain": [
       "                MeanDecreaseGini\n",
       "Alcohol         10.0863197      \n",
       "Malic            1.0941825      \n",
       "Ash              0.2392678      \n",
       "Alcalinity       0.3481463      \n",
       "Magnesium        0.8539957      \n",
       "Phenols          0.4283358      \n",
       "Flavanoids      14.2704467      \n",
       "Nonflavanoids    0.1220859      \n",
       "Proanthocyanins  0.3338512      \n",
       "Color           20.4398795      \n",
       "Hue              1.5557366      \n",
       "Dilution        13.8603600      \n",
       "Proline         18.6997733      "
      ]
     },
     "metadata": {},
     "output_type": "display_data"
    }
   ],
   "source": [
    "importance(wine_bag_fit)"
   ]
  },
  {
   "cell_type": "code",
   "execution_count": 89,
   "metadata": {},
   "outputs": [],
   "source": [
    "wine_pred_train <- predict(wine_bag_fit,newdata=train_wine,type=\"response\")\n",
    "wine_pred_test <- predict(wine_bag_fit,newdata=test_wine,type=\"response\")\n"
   ]
  },
  {
   "cell_type": "code",
   "execution_count": 90,
   "metadata": {},
   "outputs": [],
   "source": [
    "wine_train_cm <- confusionMatrix(data = wine_pred_train, reference = train_wine$Type)\n",
    "wine_test_cm <- confusionMatrix(data = wine_pred_test, reference = test_wine$Type)\n"
   ]
  },
  {
   "cell_type": "code",
   "execution_count": 91,
   "metadata": {},
   "outputs": [
    {
     "data": {
      "text/plain": [
       "          Reference\n",
       "Prediction  1  2  3\n",
       "         1 42  0  0\n",
       "         2  0 50  0\n",
       "         3  0  0 34"
      ]
     },
     "metadata": {},
     "output_type": "display_data"
    },
    {
     "data": {
      "text/plain": [
       "          Reference\n",
       "Prediction  1  2  3\n",
       "         1 17  1  0\n",
       "         2  0 18  0\n",
       "         3  0  2 14"
      ]
     },
     "metadata": {},
     "output_type": "display_data"
    }
   ],
   "source": [
    "wine_train_cm$table\n",
    "wine_test_cm$table"
   ]
  },
  {
   "cell_type": "code",
   "execution_count": 92,
   "metadata": {},
   "outputs": [
    {
     "name": "stdout",
     "output_type": "stream",
     "text": [
      "Training Accuracy for Bagging: 1 \n",
      "Testing Accuracy for Bagging: 0.9423077"
     ]
    }
   ],
   "source": [
    "bag_train_acc <- wine_train_cm$overall['Accuracy']\n",
    "bag_test_acc <- wine_test_cm$overall['Accuracy']\n",
    "cat(\"Training Accuracy for Bagging:\",bag_train_acc,\n",
    "   \"\\nTesting Accuracy for Bagging:\",bag_test_acc)"
   ]
  },
  {
   "cell_type": "markdown",
   "metadata": {},
   "source": [
    "### LDA"
   ]
  },
  {
   "cell_type": "code",
   "execution_count": 139,
   "metadata": {},
   "outputs": [],
   "source": [
    "# library(\"MASS\")"
   ]
  },
  {
   "cell_type": "code",
   "execution_count": 94,
   "metadata": {},
   "outputs": [],
   "source": [
    "wine_lda_fit = lda(Type~.,data=train_wine)"
   ]
  },
  {
   "cell_type": "code",
   "execution_count": 95,
   "metadata": {},
   "outputs": [],
   "source": [
    "wine_pred_train <-predict(wine_lda_fit,newdata=train_wine)\n",
    "wine_pred_test <-predict(wine_lda_fit,newdata=test_wine)\n"
   ]
  },
  {
   "cell_type": "code",
   "execution_count": 96,
   "metadata": {},
   "outputs": [],
   "source": [
    "wine_pred_train <-wine_pred_train$class\n",
    "wine_pred_test <- wine_pred_test$class"
   ]
  },
  {
   "cell_type": "code",
   "execution_count": 97,
   "metadata": {},
   "outputs": [],
   "source": [
    "wine_train_cm <- confusionMatrix(data = wine_pred_train, reference = train_wine$Type)\n",
    "wine_test_cm <- confusionMatrix(data = wine_pred_test, reference = test_wine$Type)"
   ]
  },
  {
   "cell_type": "code",
   "execution_count": 98,
   "metadata": {},
   "outputs": [
    {
     "data": {
      "text/plain": [
       "          Reference\n",
       "Prediction  1  2  3\n",
       "         1 42  0  0\n",
       "         2  0 50  0\n",
       "         3  0  0 34"
      ]
     },
     "metadata": {},
     "output_type": "display_data"
    },
    {
     "data": {
      "text/plain": [
       "          Reference\n",
       "Prediction  1  2  3\n",
       "         1 17  1  0\n",
       "         2  0 19  0\n",
       "         3  0  1 14"
      ]
     },
     "metadata": {},
     "output_type": "display_data"
    }
   ],
   "source": [
    "wine_train_cm$table\n",
    "wine_test_cm$table"
   ]
  },
  {
   "cell_type": "code",
   "execution_count": 99,
   "metadata": {},
   "outputs": [
    {
     "name": "stdout",
     "output_type": "stream",
     "text": [
      "Training Accuracy for LDA: 1 \n",
      "Testing Accuracy for LDA: 0.9615385"
     ]
    }
   ],
   "source": [
    "lda_train_acc <- wine_train_cm$overall['Accuracy']\n",
    "lda_test_acc <- wine_test_cm$overall['Accuracy']\n",
    "cat(\"Training Accuracy for LDA:\",lda_train_acc,\n",
    "   \"\\nTesting Accuracy for LDA:\",lda_test_acc)"
   ]
  },
  {
   "cell_type": "code",
   "execution_count": 100,
   "metadata": {},
   "outputs": [],
   "source": [
    "training_accuracy<-rbind(tree_train_acc,rf_train_acc,bag_train_acc,lda_train_acc)\n",
    "testing_accuracy<-rbind(tree_test_acc,rf_test_acc,bag_test_acc,lda_test_acc)"
   ]
  },
  {
   "cell_type": "code",
   "execution_count": 101,
   "metadata": {},
   "outputs": [
    {
     "data": {
      "text/html": [
       "<table>\n",
       "<thead><tr><th></th><th scope=col>Accuracy</th></tr></thead>\n",
       "<tbody>\n",
       "\t<tr><th scope=row>tree_train_acc</th><td>0.984127</td></tr>\n",
       "\t<tr><th scope=row>rf_train_acc</th><td>1.000000</td></tr>\n",
       "\t<tr><th scope=row>bag_train_acc</th><td>1.000000</td></tr>\n",
       "\t<tr><th scope=row>lda_train_acc</th><td>1.000000</td></tr>\n",
       "</tbody>\n",
       "</table>\n"
      ],
      "text/latex": [
       "\\begin{tabular}{r|l}\n",
       "  & Accuracy\\\\\n",
       "\\hline\n",
       "\ttree\\_train\\_acc & 0.984127\\\\\n",
       "\trf\\_train\\_acc & 1.000000\\\\\n",
       "\tbag\\_train\\_acc & 1.000000\\\\\n",
       "\tlda\\_train\\_acc & 1.000000\\\\\n",
       "\\end{tabular}\n"
      ],
      "text/markdown": [
       "\n",
       "| <!--/--> | Accuracy |\n",
       "|---|---|\n",
       "| tree_train_acc | 0.984127 |\n",
       "| rf_train_acc | 1.000000 |\n",
       "| bag_train_acc | 1.000000 |\n",
       "| lda_train_acc | 1.000000 |\n",
       "\n"
      ],
      "text/plain": [
       "               Accuracy\n",
       "tree_train_acc 0.984127\n",
       "rf_train_acc   1.000000\n",
       "bag_train_acc  1.000000\n",
       "lda_train_acc  1.000000"
      ]
     },
     "metadata": {},
     "output_type": "display_data"
    },
    {
     "data": {
      "text/html": [
       "<table>\n",
       "<thead><tr><th></th><th scope=col>Accuracy</th></tr></thead>\n",
       "<tbody>\n",
       "\t<tr><th scope=row>tree_test_acc</th><td>0.9423077</td></tr>\n",
       "\t<tr><th scope=row>rf_test_acc</th><td>0.9615385</td></tr>\n",
       "\t<tr><th scope=row>bag_test_acc</th><td>0.9423077</td></tr>\n",
       "\t<tr><th scope=row>lda_test_acc</th><td>0.9615385</td></tr>\n",
       "</tbody>\n",
       "</table>\n"
      ],
      "text/latex": [
       "\\begin{tabular}{r|l}\n",
       "  & Accuracy\\\\\n",
       "\\hline\n",
       "\ttree\\_test\\_acc & 0.9423077\\\\\n",
       "\trf\\_test\\_acc & 0.9615385\\\\\n",
       "\tbag\\_test\\_acc & 0.9423077\\\\\n",
       "\tlda\\_test\\_acc & 0.9615385\\\\\n",
       "\\end{tabular}\n"
      ],
      "text/markdown": [
       "\n",
       "| <!--/--> | Accuracy |\n",
       "|---|---|\n",
       "| tree_test_acc | 0.9423077 |\n",
       "| rf_test_acc | 0.9615385 |\n",
       "| bag_test_acc | 0.9423077 |\n",
       "| lda_test_acc | 0.9615385 |\n",
       "\n"
      ],
      "text/plain": [
       "              Accuracy \n",
       "tree_test_acc 0.9423077\n",
       "rf_test_acc   0.9615385\n",
       "bag_test_acc  0.9423077\n",
       "lda_test_acc  0.9615385"
      ]
     },
     "metadata": {},
     "output_type": "display_data"
    }
   ],
   "source": [
    "training_accuracy\n",
    "testing_accuracy"
   ]
  },
  {
   "cell_type": "markdown",
   "metadata": {},
   "source": [
    "- training accuracy: we can see that random forest, bagging and LDA have 100 accuracy, single tree has ~98.4%.\n",
    "- testing accuracy: random forest and lda have the highest accuracy - ~96.2%, followed by bagging and single tree which is ~94.2%\n",
    "- In conclusion we can can say that random forest and LDA out performed the other two algorithms, and bagging outperforms the single tree algorithm."
   ]
  },
  {
   "cell_type": "markdown",
   "metadata": {},
   "source": [
    "# Extra Credit\n",
    "- 4) The “covertype” data (ub learns) was obtained from the US Forest Service and\n",
    "are concerned with seven different types of forest cover. The data can be found\n",
    "on UB learns. There are 581,012 observations (each a 30x30 meter cell) on 54\n",
    "input variables (10 quantitative variables, 4 binary wilderness areas, and 40 binary\n",
    "soil type variables). Divide these data randomly into a training set and a test set.\n",
    "Use any of the methods we discussed to develop a model that predicts the forest\n",
    "cover type. Report the training and test error rates. "
   ]
  },
  {
   "cell_type": "code",
   "execution_count": 102,
   "metadata": {},
   "outputs": [],
   "source": [
    "load.Rdata(\"covertype.RData\",\"covertype\")"
   ]
  },
  {
   "cell_type": "markdown",
   "metadata": {},
   "source": [
    "## EDA"
   ]
  },
  {
   "cell_type": "code",
   "execution_count": 103,
   "metadata": {},
   "outputs": [
    {
     "data": {
      "text/html": [
       "<ol class=list-inline>\n",
       "\t<li>581012</li>\n",
       "\t<li>55</li>\n",
       "</ol>\n"
      ],
      "text/latex": [
       "\\begin{enumerate*}\n",
       "\\item 581012\n",
       "\\item 55\n",
       "\\end{enumerate*}\n"
      ],
      "text/markdown": [
       "1. 581012\n",
       "2. 55\n",
       "\n",
       "\n"
      ],
      "text/plain": [
       "[1] 581012     55"
      ]
     },
     "metadata": {},
     "output_type": "display_data"
    }
   ],
   "source": [
    "dim(covertype)"
   ]
  },
  {
   "cell_type": "markdown",
   "metadata": {},
   "source": [
    "#### Check missing data"
   ]
  },
  {
   "cell_type": "code",
   "execution_count": 104,
   "metadata": {},
   "outputs": [
    {
     "data": {
      "text/html": [
       "0"
      ],
      "text/latex": [
       "0"
      ],
      "text/markdown": [
       "0"
      ],
      "text/plain": [
       "[1] 0"
      ]
     },
     "metadata": {},
     "output_type": "display_data"
    }
   ],
   "source": [
    "sum(is.na(covertype))"
   ]
  },
  {
   "cell_type": "markdown",
   "metadata": {},
   "source": [
    "- no missing data, let's proceed"
   ]
  },
  {
   "cell_type": "markdown",
   "metadata": {},
   "source": [
    "#### Organize the data"
   ]
  },
  {
   "cell_type": "code",
   "execution_count": 105,
   "metadata": {},
   "outputs": [
    {
     "data": {
      "text/html": [
       "<ol class=list-inline>\n",
       "\t<li>'V1'</li>\n",
       "\t<li>'V2'</li>\n",
       "\t<li>'V3'</li>\n",
       "\t<li>'V4'</li>\n",
       "\t<li>'V5'</li>\n",
       "\t<li>'V6'</li>\n",
       "\t<li>'V7'</li>\n",
       "\t<li>'V8'</li>\n",
       "\t<li>'V9'</li>\n",
       "\t<li>'V10'</li>\n",
       "\t<li>'V11'</li>\n",
       "\t<li>'V12'</li>\n",
       "\t<li>'V13'</li>\n",
       "\t<li>'V14'</li>\n",
       "\t<li>'V15'</li>\n",
       "\t<li>'V16'</li>\n",
       "\t<li>'V17'</li>\n",
       "\t<li>'V18'</li>\n",
       "\t<li>'V19'</li>\n",
       "\t<li>'V20'</li>\n",
       "\t<li>'V21'</li>\n",
       "\t<li>'V22'</li>\n",
       "\t<li>'V23'</li>\n",
       "\t<li>'V24'</li>\n",
       "\t<li>'V25'</li>\n",
       "\t<li>'V26'</li>\n",
       "\t<li>'V27'</li>\n",
       "\t<li>'V28'</li>\n",
       "\t<li>'V29'</li>\n",
       "\t<li>'V30'</li>\n",
       "\t<li>'V31'</li>\n",
       "\t<li>'V32'</li>\n",
       "\t<li>'V33'</li>\n",
       "\t<li>'V34'</li>\n",
       "\t<li>'V35'</li>\n",
       "\t<li>'V36'</li>\n",
       "\t<li>'V37'</li>\n",
       "\t<li>'V38'</li>\n",
       "\t<li>'V39'</li>\n",
       "\t<li>'V40'</li>\n",
       "\t<li>'V41'</li>\n",
       "\t<li>'V42'</li>\n",
       "\t<li>'V43'</li>\n",
       "\t<li>'V44'</li>\n",
       "\t<li>'V45'</li>\n",
       "\t<li>'V46'</li>\n",
       "\t<li>'V47'</li>\n",
       "\t<li>'V48'</li>\n",
       "\t<li>'V49'</li>\n",
       "\t<li>'V50'</li>\n",
       "\t<li>'V51'</li>\n",
       "\t<li>'V52'</li>\n",
       "\t<li>'V53'</li>\n",
       "\t<li>'V54'</li>\n",
       "\t<li>'V55'</li>\n",
       "</ol>\n"
      ],
      "text/latex": [
       "\\begin{enumerate*}\n",
       "\\item 'V1'\n",
       "\\item 'V2'\n",
       "\\item 'V3'\n",
       "\\item 'V4'\n",
       "\\item 'V5'\n",
       "\\item 'V6'\n",
       "\\item 'V7'\n",
       "\\item 'V8'\n",
       "\\item 'V9'\n",
       "\\item 'V10'\n",
       "\\item 'V11'\n",
       "\\item 'V12'\n",
       "\\item 'V13'\n",
       "\\item 'V14'\n",
       "\\item 'V15'\n",
       "\\item 'V16'\n",
       "\\item 'V17'\n",
       "\\item 'V18'\n",
       "\\item 'V19'\n",
       "\\item 'V20'\n",
       "\\item 'V21'\n",
       "\\item 'V22'\n",
       "\\item 'V23'\n",
       "\\item 'V24'\n",
       "\\item 'V25'\n",
       "\\item 'V26'\n",
       "\\item 'V27'\n",
       "\\item 'V28'\n",
       "\\item 'V29'\n",
       "\\item 'V30'\n",
       "\\item 'V31'\n",
       "\\item 'V32'\n",
       "\\item 'V33'\n",
       "\\item 'V34'\n",
       "\\item 'V35'\n",
       "\\item 'V36'\n",
       "\\item 'V37'\n",
       "\\item 'V38'\n",
       "\\item 'V39'\n",
       "\\item 'V40'\n",
       "\\item 'V41'\n",
       "\\item 'V42'\n",
       "\\item 'V43'\n",
       "\\item 'V44'\n",
       "\\item 'V45'\n",
       "\\item 'V46'\n",
       "\\item 'V47'\n",
       "\\item 'V48'\n",
       "\\item 'V49'\n",
       "\\item 'V50'\n",
       "\\item 'V51'\n",
       "\\item 'V52'\n",
       "\\item 'V53'\n",
       "\\item 'V54'\n",
       "\\item 'V55'\n",
       "\\end{enumerate*}\n"
      ],
      "text/markdown": [
       "1. 'V1'\n",
       "2. 'V2'\n",
       "3. 'V3'\n",
       "4. 'V4'\n",
       "5. 'V5'\n",
       "6. 'V6'\n",
       "7. 'V7'\n",
       "8. 'V8'\n",
       "9. 'V9'\n",
       "10. 'V10'\n",
       "11. 'V11'\n",
       "12. 'V12'\n",
       "13. 'V13'\n",
       "14. 'V14'\n",
       "15. 'V15'\n",
       "16. 'V16'\n",
       "17. 'V17'\n",
       "18. 'V18'\n",
       "19. 'V19'\n",
       "20. 'V20'\n",
       "21. 'V21'\n",
       "22. 'V22'\n",
       "23. 'V23'\n",
       "24. 'V24'\n",
       "25. 'V25'\n",
       "26. 'V26'\n",
       "27. 'V27'\n",
       "28. 'V28'\n",
       "29. 'V29'\n",
       "30. 'V30'\n",
       "31. 'V31'\n",
       "32. 'V32'\n",
       "33. 'V33'\n",
       "34. 'V34'\n",
       "35. 'V35'\n",
       "36. 'V36'\n",
       "37. 'V37'\n",
       "38. 'V38'\n",
       "39. 'V39'\n",
       "40. 'V40'\n",
       "41. 'V41'\n",
       "42. 'V42'\n",
       "43. 'V43'\n",
       "44. 'V44'\n",
       "45. 'V45'\n",
       "46. 'V46'\n",
       "47. 'V47'\n",
       "48. 'V48'\n",
       "49. 'V49'\n",
       "50. 'V50'\n",
       "51. 'V51'\n",
       "52. 'V52'\n",
       "53. 'V53'\n",
       "54. 'V54'\n",
       "55. 'V55'\n",
       "\n",
       "\n"
      ],
      "text/plain": [
       " [1] \"V1\"  \"V2\"  \"V3\"  \"V4\"  \"V5\"  \"V6\"  \"V7\"  \"V8\"  \"V9\"  \"V10\" \"V11\" \"V12\"\n",
       "[13] \"V13\" \"V14\" \"V15\" \"V16\" \"V17\" \"V18\" \"V19\" \"V20\" \"V21\" \"V22\" \"V23\" \"V24\"\n",
       "[25] \"V25\" \"V26\" \"V27\" \"V28\" \"V29\" \"V30\" \"V31\" \"V32\" \"V33\" \"V34\" \"V35\" \"V36\"\n",
       "[37] \"V37\" \"V38\" \"V39\" \"V40\" \"V41\" \"V42\" \"V43\" \"V44\" \"V45\" \"V46\" \"V47\" \"V48\"\n",
       "[49] \"V49\" \"V50\" \"V51\" \"V52\" \"V53\" \"V54\" \"V55\""
      ]
     },
     "metadata": {},
     "output_type": "display_data"
    }
   ],
   "source": [
    "names(covertype)"
   ]
  },
  {
   "cell_type": "code",
   "execution_count": 106,
   "metadata": {},
   "outputs": [
    {
     "data": {
      "text/html": [
       "<ol class=list-inline>\n",
       "\t<li>0</li>\n",
       "\t<li>0</li>\n",
       "\t<li>0</li>\n",
       "\t<li>0</li>\n",
       "\t<li>0</li>\n",
       "\t<li>0</li>\n",
       "</ol>\n"
      ],
      "text/latex": [
       "\\begin{enumerate*}\n",
       "\\item 0\n",
       "\\item 0\n",
       "\\item 0\n",
       "\\item 0\n",
       "\\item 0\n",
       "\\item 0\n",
       "\\end{enumerate*}\n"
      ],
      "text/markdown": [
       "1. 0\n",
       "2. 0\n",
       "3. 0\n",
       "4. 0\n",
       "5. 0\n",
       "6. 0\n",
       "\n",
       "\n"
      ],
      "text/plain": [
       "[1] 0 0 0 0 0 0"
      ]
     },
     "metadata": {},
     "output_type": "display_data"
    }
   ],
   "source": [
    "head(covertype$V40)"
   ]
  },
  {
   "cell_type": "markdown",
   "metadata": {},
   "source": [
    "- all the variables have generic names V1-V55, we should name them correctly"
   ]
  },
  {
   "cell_type": "code",
   "execution_count": 107,
   "metadata": {},
   "outputs": [],
   "source": [
    "## 10 quantitative variables\n",
    "names <- c(\"Elevation\",\"Aspect\",\"Slope\",\"HorDistToHydro\",\"VertDistToHydro\",\n",
    "           \"HorDistRoad\",\"Hillshade09\",\"Hillshade12\",\"Hillshade15\",\n",
    "           \"HorDistFire\")\n",
    "\n",
    "## 4 binary wilderness areas\n",
    "names <- c(names,\"WA_RWA\",\"WA_NWA\",\"WA_CPWA\",\"WA_CLPWA\")\n",
    "\n",
    "## 40 binary soil type variable\n",
    "names <- c(names,sprintf(\"ST%02d\",1:40))\n",
    "\n",
    "## response varible - forest cover type\n",
    "names <- c(names,\"Class\")\n"
   ]
  },
  {
   "cell_type": "code",
   "execution_count": 108,
   "metadata": {},
   "outputs": [],
   "source": [
    "names(covertype) <- names"
   ]
  },
  {
   "cell_type": "code",
   "execution_count": 109,
   "metadata": {
    "scrolled": true
   },
   "outputs": [
    {
     "data": {
      "text/html": [
       "<ol class=list-inline>\n",
       "\t<li>'Elevation'</li>\n",
       "\t<li>'Aspect'</li>\n",
       "\t<li>'Slope'</li>\n",
       "\t<li>'HorDistToHydro'</li>\n",
       "\t<li>'VertDistToHydro'</li>\n",
       "\t<li>'HorDistRoad'</li>\n",
       "\t<li>'Hillshade09'</li>\n",
       "\t<li>'Hillshade12'</li>\n",
       "\t<li>'Hillshade15'</li>\n",
       "\t<li>'HorDistFire'</li>\n",
       "\t<li>'WA_RWA'</li>\n",
       "\t<li>'WA_NWA'</li>\n",
       "\t<li>'WA_CPWA'</li>\n",
       "\t<li>'WA_CLPWA'</li>\n",
       "\t<li>'ST01'</li>\n",
       "\t<li>'ST02'</li>\n",
       "\t<li>'ST03'</li>\n",
       "\t<li>'ST04'</li>\n",
       "\t<li>'ST05'</li>\n",
       "\t<li>'ST06'</li>\n",
       "\t<li>'ST07'</li>\n",
       "\t<li>'ST08'</li>\n",
       "\t<li>'ST09'</li>\n",
       "\t<li>'ST10'</li>\n",
       "\t<li>'ST11'</li>\n",
       "\t<li>'ST12'</li>\n",
       "\t<li>'ST13'</li>\n",
       "\t<li>'ST14'</li>\n",
       "\t<li>'ST15'</li>\n",
       "\t<li>'ST16'</li>\n",
       "\t<li>'ST17'</li>\n",
       "\t<li>'ST18'</li>\n",
       "\t<li>'ST19'</li>\n",
       "\t<li>'ST20'</li>\n",
       "\t<li>'ST21'</li>\n",
       "\t<li>'ST22'</li>\n",
       "\t<li>'ST23'</li>\n",
       "\t<li>'ST24'</li>\n",
       "\t<li>'ST25'</li>\n",
       "\t<li>'ST26'</li>\n",
       "\t<li>'ST27'</li>\n",
       "\t<li>'ST28'</li>\n",
       "\t<li>'ST29'</li>\n",
       "\t<li>'ST30'</li>\n",
       "\t<li>'ST31'</li>\n",
       "\t<li>'ST32'</li>\n",
       "\t<li>'ST33'</li>\n",
       "\t<li>'ST34'</li>\n",
       "\t<li>'ST35'</li>\n",
       "\t<li>'ST36'</li>\n",
       "\t<li>'ST37'</li>\n",
       "\t<li>'ST38'</li>\n",
       "\t<li>'ST39'</li>\n",
       "\t<li>'ST40'</li>\n",
       "\t<li>'Class'</li>\n",
       "</ol>\n"
      ],
      "text/latex": [
       "\\begin{enumerate*}\n",
       "\\item 'Elevation'\n",
       "\\item 'Aspect'\n",
       "\\item 'Slope'\n",
       "\\item 'HorDistToHydro'\n",
       "\\item 'VertDistToHydro'\n",
       "\\item 'HorDistRoad'\n",
       "\\item 'Hillshade09'\n",
       "\\item 'Hillshade12'\n",
       "\\item 'Hillshade15'\n",
       "\\item 'HorDistFire'\n",
       "\\item 'WA\\_RWA'\n",
       "\\item 'WA\\_NWA'\n",
       "\\item 'WA\\_CPWA'\n",
       "\\item 'WA\\_CLPWA'\n",
       "\\item 'ST01'\n",
       "\\item 'ST02'\n",
       "\\item 'ST03'\n",
       "\\item 'ST04'\n",
       "\\item 'ST05'\n",
       "\\item 'ST06'\n",
       "\\item 'ST07'\n",
       "\\item 'ST08'\n",
       "\\item 'ST09'\n",
       "\\item 'ST10'\n",
       "\\item 'ST11'\n",
       "\\item 'ST12'\n",
       "\\item 'ST13'\n",
       "\\item 'ST14'\n",
       "\\item 'ST15'\n",
       "\\item 'ST16'\n",
       "\\item 'ST17'\n",
       "\\item 'ST18'\n",
       "\\item 'ST19'\n",
       "\\item 'ST20'\n",
       "\\item 'ST21'\n",
       "\\item 'ST22'\n",
       "\\item 'ST23'\n",
       "\\item 'ST24'\n",
       "\\item 'ST25'\n",
       "\\item 'ST26'\n",
       "\\item 'ST27'\n",
       "\\item 'ST28'\n",
       "\\item 'ST29'\n",
       "\\item 'ST30'\n",
       "\\item 'ST31'\n",
       "\\item 'ST32'\n",
       "\\item 'ST33'\n",
       "\\item 'ST34'\n",
       "\\item 'ST35'\n",
       "\\item 'ST36'\n",
       "\\item 'ST37'\n",
       "\\item 'ST38'\n",
       "\\item 'ST39'\n",
       "\\item 'ST40'\n",
       "\\item 'Class'\n",
       "\\end{enumerate*}\n"
      ],
      "text/markdown": [
       "1. 'Elevation'\n",
       "2. 'Aspect'\n",
       "3. 'Slope'\n",
       "4. 'HorDistToHydro'\n",
       "5. 'VertDistToHydro'\n",
       "6. 'HorDistRoad'\n",
       "7. 'Hillshade09'\n",
       "8. 'Hillshade12'\n",
       "9. 'Hillshade15'\n",
       "10. 'HorDistFire'\n",
       "11. 'WA_RWA'\n",
       "12. 'WA_NWA'\n",
       "13. 'WA_CPWA'\n",
       "14. 'WA_CLPWA'\n",
       "15. 'ST01'\n",
       "16. 'ST02'\n",
       "17. 'ST03'\n",
       "18. 'ST04'\n",
       "19. 'ST05'\n",
       "20. 'ST06'\n",
       "21. 'ST07'\n",
       "22. 'ST08'\n",
       "23. 'ST09'\n",
       "24. 'ST10'\n",
       "25. 'ST11'\n",
       "26. 'ST12'\n",
       "27. 'ST13'\n",
       "28. 'ST14'\n",
       "29. 'ST15'\n",
       "30. 'ST16'\n",
       "31. 'ST17'\n",
       "32. 'ST18'\n",
       "33. 'ST19'\n",
       "34. 'ST20'\n",
       "35. 'ST21'\n",
       "36. 'ST22'\n",
       "37. 'ST23'\n",
       "38. 'ST24'\n",
       "39. 'ST25'\n",
       "40. 'ST26'\n",
       "41. 'ST27'\n",
       "42. 'ST28'\n",
       "43. 'ST29'\n",
       "44. 'ST30'\n",
       "45. 'ST31'\n",
       "46. 'ST32'\n",
       "47. 'ST33'\n",
       "48. 'ST34'\n",
       "49. 'ST35'\n",
       "50. 'ST36'\n",
       "51. 'ST37'\n",
       "52. 'ST38'\n",
       "53. 'ST39'\n",
       "54. 'ST40'\n",
       "55. 'Class'\n",
       "\n",
       "\n"
      ],
      "text/plain": [
       " [1] \"Elevation\"       \"Aspect\"          \"Slope\"           \"HorDistToHydro\" \n",
       " [5] \"VertDistToHydro\" \"HorDistRoad\"     \"Hillshade09\"     \"Hillshade12\"    \n",
       " [9] \"Hillshade15\"     \"HorDistFire\"     \"WA_RWA\"          \"WA_NWA\"         \n",
       "[13] \"WA_CPWA\"         \"WA_CLPWA\"        \"ST01\"            \"ST02\"           \n",
       "[17] \"ST03\"            \"ST04\"            \"ST05\"            \"ST06\"           \n",
       "[21] \"ST07\"            \"ST08\"            \"ST09\"            \"ST10\"           \n",
       "[25] \"ST11\"            \"ST12\"            \"ST13\"            \"ST14\"           \n",
       "[29] \"ST15\"            \"ST16\"            \"ST17\"            \"ST18\"           \n",
       "[33] \"ST19\"            \"ST20\"            \"ST21\"            \"ST22\"           \n",
       "[37] \"ST23\"            \"ST24\"            \"ST25\"            \"ST26\"           \n",
       "[41] \"ST27\"            \"ST28\"            \"ST29\"            \"ST30\"           \n",
       "[45] \"ST31\"            \"ST32\"            \"ST33\"            \"ST34\"           \n",
       "[49] \"ST35\"            \"ST36\"            \"ST37\"            \"ST38\"           \n",
       "[53] \"ST39\"            \"ST40\"            \"Class\"          "
      ]
     },
     "metadata": {},
     "output_type": "display_data"
    }
   ],
   "source": [
    "names(covertype)"
   ]
  },
  {
   "cell_type": "markdown",
   "metadata": {},
   "source": [
    "#### Covert the 4 binary wilderness data intoa single 4-level cateogorical variable"
   ]
  },
  {
   "cell_type": "code",
   "execution_count": 110,
   "metadata": {},
   "outputs": [],
   "source": [
    "wilderness <- c(\"WA_RWA\",\"WA_NWA\",\"WA_CPWA\",\"WA_CLPWA\")\n",
    "index <- apply(covertype[,wilderness], 1, function(x) which(x == 1))\n",
    "factorize <- factor(index,labels = wilderness)\n",
    "covertype$wildA <- factorize\n",
    "covertype[wilderness] <-list(NULL)"
   ]
  },
  {
   "cell_type": "code",
   "execution_count": 111,
   "metadata": {},
   "outputs": [
    {
     "data": {
      "text/html": [
       "<ol class=list-inline>\n",
       "\t<li>WA_RWA</li>\n",
       "\t<li>WA_CPWA</li>\n",
       "\t<li>WA_CLPWA</li>\n",
       "\t<li>WA_NWA</li>\n",
       "</ol>\n",
       "\n",
       "<details>\n",
       "\t<summary style=display:list-item;cursor:pointer>\n",
       "\t\t<strong>Levels</strong>:\n",
       "\t</summary>\n",
       "\t<ol class=list-inline>\n",
       "\t\t<li>'WA_RWA'</li>\n",
       "\t\t<li>'WA_NWA'</li>\n",
       "\t\t<li>'WA_CPWA'</li>\n",
       "\t\t<li>'WA_CLPWA'</li>\n",
       "\t</ol>\n",
       "</details>"
      ],
      "text/latex": [
       "\\begin{enumerate*}\n",
       "\\item WA\\_RWA\n",
       "\\item WA\\_CPWA\n",
       "\\item WA\\_CLPWA\n",
       "\\item WA\\_NWA\n",
       "\\end{enumerate*}\n",
       "\n",
       "\\emph{Levels}: \\begin{enumerate*}\n",
       "\\item 'WA\\_RWA'\n",
       "\\item 'WA\\_NWA'\n",
       "\\item 'WA\\_CPWA'\n",
       "\\item 'WA\\_CLPWA'\n",
       "\\end{enumerate*}\n"
      ],
      "text/markdown": [
       "1. WA_RWA\n",
       "2. WA_CPWA\n",
       "3. WA_CLPWA\n",
       "4. WA_NWA\n",
       "\n",
       "\n",
       "\n",
       "**Levels**: 1. 'WA_RWA'\n",
       "2. 'WA_NWA'\n",
       "3. 'WA_CPWA'\n",
       "4. 'WA_CLPWA'\n",
       "\n",
       "\n"
      ],
      "text/plain": [
       "[1] WA_RWA   WA_CPWA  WA_CLPWA WA_NWA  \n",
       "Levels: WA_RWA WA_NWA WA_CPWA WA_CLPWA"
      ]
     },
     "metadata": {},
     "output_type": "display_data"
    }
   ],
   "source": [
    "unique(covertype$wildA)"
   ]
  },
  {
   "cell_type": "markdown",
   "metadata": {},
   "source": [
    "#### Covert the 40 binary soil type data into a single 40-level cateogorical variable"
   ]
  },
  {
   "cell_type": "code",
   "execution_count": 112,
   "metadata": {},
   "outputs": [],
   "source": [
    "soils <- sprintf(\"ST%02d\",1:40)\n",
    "index <- apply(covertype[,soils], 1, function(x) which(x == 1))\n",
    "factorize <- factor(index,labels = soils)\n",
    "covertype$soilType <- factorize\n",
    "covertype[soils] <-list(NULL)"
   ]
  },
  {
   "cell_type": "code",
   "execution_count": 113,
   "metadata": {},
   "outputs": [
    {
     "data": {
      "text/html": [
       "<ol class=list-inline>\n",
       "\t<li>'Elevation'</li>\n",
       "\t<li>'Aspect'</li>\n",
       "\t<li>'Slope'</li>\n",
       "\t<li>'HorDistToHydro'</li>\n",
       "\t<li>'VertDistToHydro'</li>\n",
       "\t<li>'HorDistRoad'</li>\n",
       "\t<li>'Hillshade09'</li>\n",
       "\t<li>'Hillshade12'</li>\n",
       "\t<li>'Hillshade15'</li>\n",
       "\t<li>'HorDistFire'</li>\n",
       "\t<li>'Class'</li>\n",
       "\t<li>'wildA'</li>\n",
       "\t<li>'soilType'</li>\n",
       "</ol>\n"
      ],
      "text/latex": [
       "\\begin{enumerate*}\n",
       "\\item 'Elevation'\n",
       "\\item 'Aspect'\n",
       "\\item 'Slope'\n",
       "\\item 'HorDistToHydro'\n",
       "\\item 'VertDistToHydro'\n",
       "\\item 'HorDistRoad'\n",
       "\\item 'Hillshade09'\n",
       "\\item 'Hillshade12'\n",
       "\\item 'Hillshade15'\n",
       "\\item 'HorDistFire'\n",
       "\\item 'Class'\n",
       "\\item 'wildA'\n",
       "\\item 'soilType'\n",
       "\\end{enumerate*}\n"
      ],
      "text/markdown": [
       "1. 'Elevation'\n",
       "2. 'Aspect'\n",
       "3. 'Slope'\n",
       "4. 'HorDistToHydro'\n",
       "5. 'VertDistToHydro'\n",
       "6. 'HorDistRoad'\n",
       "7. 'Hillshade09'\n",
       "8. 'Hillshade12'\n",
       "9. 'Hillshade15'\n",
       "10. 'HorDistFire'\n",
       "11. 'Class'\n",
       "12. 'wildA'\n",
       "13. 'soilType'\n",
       "\n",
       "\n"
      ],
      "text/plain": [
       " [1] \"Elevation\"       \"Aspect\"          \"Slope\"           \"HorDistToHydro\" \n",
       " [5] \"VertDistToHydro\" \"HorDistRoad\"     \"Hillshade09\"     \"Hillshade12\"    \n",
       " [9] \"Hillshade15\"     \"HorDistFire\"     \"Class\"           \"wildA\"          \n",
       "[13] \"soilType\"       "
      ]
     },
     "metadata": {},
     "output_type": "display_data"
    }
   ],
   "source": [
    "names(covertype)"
   ]
  },
  {
   "cell_type": "code",
   "execution_count": 114,
   "metadata": {},
   "outputs": [
    {
     "data": {
      "text/html": [
       "<ol class=list-inline>\n",
       "\t<li>ST29</li>\n",
       "\t<li>ST12</li>\n",
       "\t<li>ST30</li>\n",
       "\t<li>ST18</li>\n",
       "\t<li>ST16</li>\n",
       "\t<li>ST20</li>\n",
       "\t<li>ST24</li>\n",
       "\t<li>ST23</li>\n",
       "\t<li>ST40</li>\n",
       "\t<li>ST19</li>\n",
       "\t<li>ST08</li>\n",
       "\t<li>ST22</li>\n",
       "\t<li>ST39</li>\n",
       "\t<li>ST09</li>\n",
       "\t<li>ST38</li>\n",
       "\t<li>ST33</li>\n",
       "\t<li>ST31</li>\n",
       "\t<li>ST32</li>\n",
       "\t<li>ST11</li>\n",
       "\t<li>ST10</li>\n",
       "\t<li>ST05</li>\n",
       "\t<li>ST28</li>\n",
       "\t<li>ST04</li>\n",
       "\t<li>ST01</li>\n",
       "\t<li>ST13</li>\n",
       "\t<li>ST02</li>\n",
       "\t<li>ST17</li>\n",
       "\t<li>ST03</li>\n",
       "\t<li>ST34</li>\n",
       "\t<li>ST06</li>\n",
       "\t<li>ST14</li>\n",
       "\t<li>ST37</li>\n",
       "\t<li>ST35</li>\n",
       "\t<li>ST36</li>\n",
       "\t<li>ST21</li>\n",
       "\t<li>ST26</li>\n",
       "\t<li>ST27</li>\n",
       "\t<li>ST25</li>\n",
       "\t<li>ST07</li>\n",
       "\t<li>ST15</li>\n",
       "</ol>\n",
       "\n",
       "<details>\n",
       "\t<summary style=display:list-item;cursor:pointer>\n",
       "\t\t<strong>Levels</strong>:\n",
       "\t</summary>\n",
       "\t<ol class=list-inline>\n",
       "\t\t<li>'ST01'</li>\n",
       "\t\t<li>'ST02'</li>\n",
       "\t\t<li>'ST03'</li>\n",
       "\t\t<li>'ST04'</li>\n",
       "\t\t<li>'ST05'</li>\n",
       "\t\t<li>'ST06'</li>\n",
       "\t\t<li>'ST07'</li>\n",
       "\t\t<li>'ST08'</li>\n",
       "\t\t<li>'ST09'</li>\n",
       "\t\t<li>'ST10'</li>\n",
       "\t\t<li>'ST11'</li>\n",
       "\t\t<li>'ST12'</li>\n",
       "\t\t<li>'ST13'</li>\n",
       "\t\t<li>'ST14'</li>\n",
       "\t\t<li>'ST15'</li>\n",
       "\t\t<li>'ST16'</li>\n",
       "\t\t<li>'ST17'</li>\n",
       "\t\t<li>'ST18'</li>\n",
       "\t\t<li>'ST19'</li>\n",
       "\t\t<li>'ST20'</li>\n",
       "\t\t<li>'ST21'</li>\n",
       "\t\t<li>'ST22'</li>\n",
       "\t\t<li>'ST23'</li>\n",
       "\t\t<li>'ST24'</li>\n",
       "\t\t<li>'ST25'</li>\n",
       "\t\t<li>'ST26'</li>\n",
       "\t\t<li>'ST27'</li>\n",
       "\t\t<li>'ST28'</li>\n",
       "\t\t<li>'ST29'</li>\n",
       "\t\t<li>'ST30'</li>\n",
       "\t\t<li>'ST31'</li>\n",
       "\t\t<li>'ST32'</li>\n",
       "\t\t<li>'ST33'</li>\n",
       "\t\t<li>'ST34'</li>\n",
       "\t\t<li>'ST35'</li>\n",
       "\t\t<li>'ST36'</li>\n",
       "\t\t<li>'ST37'</li>\n",
       "\t\t<li>'ST38'</li>\n",
       "\t\t<li>'ST39'</li>\n",
       "\t\t<li>'ST40'</li>\n",
       "\t</ol>\n",
       "</details>"
      ],
      "text/latex": [
       "\\begin{enumerate*}\n",
       "\\item ST29\n",
       "\\item ST12\n",
       "\\item ST30\n",
       "\\item ST18\n",
       "\\item ST16\n",
       "\\item ST20\n",
       "\\item ST24\n",
       "\\item ST23\n",
       "\\item ST40\n",
       "\\item ST19\n",
       "\\item ST08\n",
       "\\item ST22\n",
       "\\item ST39\n",
       "\\item ST09\n",
       "\\item ST38\n",
       "\\item ST33\n",
       "\\item ST31\n",
       "\\item ST32\n",
       "\\item ST11\n",
       "\\item ST10\n",
       "\\item ST05\n",
       "\\item ST28\n",
       "\\item ST04\n",
       "\\item ST01\n",
       "\\item ST13\n",
       "\\item ST02\n",
       "\\item ST17\n",
       "\\item ST03\n",
       "\\item ST34\n",
       "\\item ST06\n",
       "\\item ST14\n",
       "\\item ST37\n",
       "\\item ST35\n",
       "\\item ST36\n",
       "\\item ST21\n",
       "\\item ST26\n",
       "\\item ST27\n",
       "\\item ST25\n",
       "\\item ST07\n",
       "\\item ST15\n",
       "\\end{enumerate*}\n",
       "\n",
       "\\emph{Levels}: \\begin{enumerate*}\n",
       "\\item 'ST01'\n",
       "\\item 'ST02'\n",
       "\\item 'ST03'\n",
       "\\item 'ST04'\n",
       "\\item 'ST05'\n",
       "\\item 'ST06'\n",
       "\\item 'ST07'\n",
       "\\item 'ST08'\n",
       "\\item 'ST09'\n",
       "\\item 'ST10'\n",
       "\\item 'ST11'\n",
       "\\item 'ST12'\n",
       "\\item 'ST13'\n",
       "\\item 'ST14'\n",
       "\\item 'ST15'\n",
       "\\item 'ST16'\n",
       "\\item 'ST17'\n",
       "\\item 'ST18'\n",
       "\\item 'ST19'\n",
       "\\item 'ST20'\n",
       "\\item 'ST21'\n",
       "\\item 'ST22'\n",
       "\\item 'ST23'\n",
       "\\item 'ST24'\n",
       "\\item 'ST25'\n",
       "\\item 'ST26'\n",
       "\\item 'ST27'\n",
       "\\item 'ST28'\n",
       "\\item 'ST29'\n",
       "\\item 'ST30'\n",
       "\\item 'ST31'\n",
       "\\item 'ST32'\n",
       "\\item 'ST33'\n",
       "\\item 'ST34'\n",
       "\\item 'ST35'\n",
       "\\item 'ST36'\n",
       "\\item 'ST37'\n",
       "\\item 'ST38'\n",
       "\\item 'ST39'\n",
       "\\item 'ST40'\n",
       "\\end{enumerate*}\n"
      ],
      "text/markdown": [
       "1. ST29\n",
       "2. ST12\n",
       "3. ST30\n",
       "4. ST18\n",
       "5. ST16\n",
       "6. ST20\n",
       "7. ST24\n",
       "8. ST23\n",
       "9. ST40\n",
       "10. ST19\n",
       "11. ST08\n",
       "12. ST22\n",
       "13. ST39\n",
       "14. ST09\n",
       "15. ST38\n",
       "16. ST33\n",
       "17. ST31\n",
       "18. ST32\n",
       "19. ST11\n",
       "20. ST10\n",
       "21. ST05\n",
       "22. ST28\n",
       "23. ST04\n",
       "24. ST01\n",
       "25. ST13\n",
       "26. ST02\n",
       "27. ST17\n",
       "28. ST03\n",
       "29. ST34\n",
       "30. ST06\n",
       "31. ST14\n",
       "32. ST37\n",
       "33. ST35\n",
       "34. ST36\n",
       "35. ST21\n",
       "36. ST26\n",
       "37. ST27\n",
       "38. ST25\n",
       "39. ST07\n",
       "40. ST15\n",
       "\n",
       "\n",
       "\n",
       "**Levels**: 1. 'ST01'\n",
       "2. 'ST02'\n",
       "3. 'ST03'\n",
       "4. 'ST04'\n",
       "5. 'ST05'\n",
       "6. 'ST06'\n",
       "7. 'ST07'\n",
       "8. 'ST08'\n",
       "9. 'ST09'\n",
       "10. 'ST10'\n",
       "11. 'ST11'\n",
       "12. 'ST12'\n",
       "13. 'ST13'\n",
       "14. 'ST14'\n",
       "15. 'ST15'\n",
       "16. 'ST16'\n",
       "17. 'ST17'\n",
       "18. 'ST18'\n",
       "19. 'ST19'\n",
       "20. 'ST20'\n",
       "21. 'ST21'\n",
       "22. 'ST22'\n",
       "23. 'ST23'\n",
       "24. 'ST24'\n",
       "25. 'ST25'\n",
       "26. 'ST26'\n",
       "27. 'ST27'\n",
       "28. 'ST28'\n",
       "29. 'ST29'\n",
       "30. 'ST30'\n",
       "31. 'ST31'\n",
       "32. 'ST32'\n",
       "33. 'ST33'\n",
       "34. 'ST34'\n",
       "35. 'ST35'\n",
       "36. 'ST36'\n",
       "37. 'ST37'\n",
       "38. 'ST38'\n",
       "39. 'ST39'\n",
       "40. 'ST40'\n",
       "\n",
       "\n"
      ],
      "text/plain": [
       " [1] ST29 ST12 ST30 ST18 ST16 ST20 ST24 ST23 ST40 ST19 ST08 ST22 ST39 ST09 ST38\n",
       "[16] ST33 ST31 ST32 ST11 ST10 ST05 ST28 ST04 ST01 ST13 ST02 ST17 ST03 ST34 ST06\n",
       "[31] ST14 ST37 ST35 ST36 ST21 ST26 ST27 ST25 ST07 ST15\n",
       "40 Levels: ST01 ST02 ST03 ST04 ST05 ST06 ST07 ST08 ST09 ST10 ST11 ST12 ... ST40"
      ]
     },
     "metadata": {},
     "output_type": "display_data"
    }
   ],
   "source": [
    "unique(covertype$soilType)"
   ]
  },
  {
   "cell_type": "code",
   "execution_count": 115,
   "metadata": {},
   "outputs": [
    {
     "data": {
      "text/html": [
       "<ol class=list-inline>\n",
       "\t<li>581012</li>\n",
       "\t<li>13</li>\n",
       "</ol>\n"
      ],
      "text/latex": [
       "\\begin{enumerate*}\n",
       "\\item 581012\n",
       "\\item 13\n",
       "\\end{enumerate*}\n"
      ],
      "text/markdown": [
       "1. 581012\n",
       "2. 13\n",
       "\n",
       "\n"
      ],
      "text/plain": [
       "[1] 581012     13"
      ]
     },
     "metadata": {},
     "output_type": "display_data"
    }
   ],
   "source": [
    "dim(covertype)"
   ]
  },
  {
   "cell_type": "markdown",
   "metadata": {},
   "source": [
    "#### Convert class to factor variable"
   ]
  },
  {
   "cell_type": "code",
   "execution_count": 116,
   "metadata": {},
   "outputs": [],
   "source": [
    "covertype$Class <- as.factor(covertype$Class)\n",
    "levels(covertype$Class) <- c(\"Spruce/Fir\", \"Lodgepole Pine\",\n",
    "                           \"Ponderosa Pine\",\"Cottonwood/Willow\",\"Aspen\",\n",
    "                           \"Douglas-fir\",\"Krummholz\")"
   ]
  },
  {
   "cell_type": "code",
   "execution_count": 117,
   "metadata": {},
   "outputs": [
    {
     "name": "stdout",
     "output_type": "stream",
     "text": [
      "'data.frame':\t581012 obs. of  13 variables:\n",
      " $ Elevation      : int  2596 2590 2804 2785 2595 2579 2606 2605 2617 2612 ...\n",
      " $ Aspect         : int  51 56 139 155 45 132 45 49 45 59 ...\n",
      " $ Slope          : int  3 2 9 18 2 6 7 4 9 10 ...\n",
      " $ HorDistToHydro : int  258 212 268 242 153 300 270 234 240 247 ...\n",
      " $ VertDistToHydro: int  0 -6 65 118 -1 -15 5 7 56 11 ...\n",
      " $ HorDistRoad    : int  510 390 3180 3090 391 67 633 573 666 636 ...\n",
      " $ Hillshade09    : int  221 220 234 238 220 230 222 222 223 228 ...\n",
      " $ Hillshade12    : int  232 235 238 238 234 237 225 230 221 219 ...\n",
      " $ Hillshade15    : int  148 151 135 122 150 140 138 144 133 124 ...\n",
      " $ HorDistFire    : int  6279 6225 6121 6211 6172 6031 6256 6228 6244 6230 ...\n",
      " $ Class          : Factor w/ 7 levels \"Spruce/Fir\",\"Lodgepole Pine\",..: 5 5 2 2 5 2 5 5 5 5 ...\n",
      " $ wildA          : Factor w/ 4 levels \"WA_RWA\",\"WA_NWA\",..: 1 1 1 1 1 1 1 1 1 1 ...\n",
      " $ soilType       : Factor w/ 40 levels \"ST01\",\"ST02\",..: 29 29 12 30 29 29 29 29 29 29 ...\n"
     ]
    }
   ],
   "source": [
    "str(covertype)"
   ]
  },
  {
   "cell_type": "code",
   "execution_count": 118,
   "metadata": {},
   "outputs": [
    {
     "data": {
      "text/html": [
       "<dl class=dl-horizontal>\n",
       "\t<dt>Spruce/Fir</dt>\n",
       "\t\t<dd>211840</dd>\n",
       "\t<dt>Lodgepole Pine</dt>\n",
       "\t\t<dd>283301</dd>\n",
       "\t<dt>Ponderosa Pine</dt>\n",
       "\t\t<dd>35754</dd>\n",
       "\t<dt>Cottonwood/Willow</dt>\n",
       "\t\t<dd>2747</dd>\n",
       "\t<dt>Aspen</dt>\n",
       "\t\t<dd>9493</dd>\n",
       "\t<dt>Douglas-fir</dt>\n",
       "\t\t<dd>17367</dd>\n",
       "\t<dt>Krummholz</dt>\n",
       "\t\t<dd>20510</dd>\n",
       "</dl>\n"
      ],
      "text/latex": [
       "\\begin{description*}\n",
       "\\item[Spruce/Fir] 211840\n",
       "\\item[Lodgepole Pine] 283301\n",
       "\\item[Ponderosa Pine] 35754\n",
       "\\item[Cottonwood/Willow] 2747\n",
       "\\item[Aspen] 9493\n",
       "\\item[Douglas-fir] 17367\n",
       "\\item[Krummholz] 20510\n",
       "\\end{description*}\n"
      ],
      "text/markdown": [
       "Spruce/Fir\n",
       ":   211840Lodgepole Pine\n",
       ":   283301Ponderosa Pine\n",
       ":   35754Cottonwood/Willow\n",
       ":   2747Aspen\n",
       ":   9493Douglas-fir\n",
       ":   17367Krummholz\n",
       ":   20510\n",
       "\n"
      ],
      "text/plain": [
       "       Spruce/Fir    Lodgepole Pine    Ponderosa Pine Cottonwood/Willow \n",
       "           211840            283301             35754              2747 \n",
       "            Aspen       Douglas-fir         Krummholz \n",
       "             9493             17367             20510 "
      ]
     },
     "metadata": {},
     "output_type": "display_data"
    }
   ],
   "source": [
    "summary(covertype$Class)"
   ]
  },
  {
   "cell_type": "markdown",
   "metadata": {},
   "source": [
    "#### The dataset is too large for my computational power, we will reduce the dataset by 1/10, 1/10 of each class will be taken randomly"
   ]
  },
  {
   "cell_type": "code",
   "execution_count": 119,
   "metadata": {},
   "outputs": [],
   "source": [
    "spruce_fir <- covertype[covertype$Class==\"Spruce/Fir\",]\n",
    "lodgepole_pine <- covertype[covertype$Class==\"Lodgepole Pine\",]\n",
    "ponderosa_pine <- covertype[covertype$Class==\"Ponderosa Pine\",]\n",
    "cottonwood_willow <- covertype[covertype$Class==\"Cottonwood/Willow\",]\n",
    "aspen <- covertype[covertype$Class==\"Aspen\",]\n",
    "douglas_fir <- covertype[covertype$Class==\"Douglas-fir\",]\n",
    "krummholz <- covertype[covertype$Class==\"Krummholz\",]"
   ]
  },
  {
   "cell_type": "code",
   "execution_count": 120,
   "metadata": {},
   "outputs": [],
   "source": [
    "indi_spruce_fir <- sample(1:nrow(spruce_fir), nrow(spruce_fir)*(1/10))\n",
    "indi_lodgepole_pine <- sample(1:nrow(lodgepole_pine), nrow(lodgepole_pine)*(1/10))\n",
    "indi_ponderosa_pine <- sample(1:nrow(ponderosa_pine), nrow(ponderosa_pine)*(1/10))\n",
    "indi_cottonwood_willow <- sample(1:nrow(cottonwood_willow), nrow(cottonwood_willow)*(1/10))\n",
    "indi_aspen <- sample(1:nrow(aspen), nrow(aspen)*(1/10))\n",
    "indi_douglas_fir <- sample(1:nrow(douglas_fir), nrow(douglas_fir)*(1/10))\n",
    "indi_krummholz <- sample(1:nrow(krummholz), nrow(krummholz)*(1/10))\n"
   ]
  },
  {
   "cell_type": "code",
   "execution_count": 121,
   "metadata": {},
   "outputs": [],
   "source": [
    "modified_df <- rbind.data.frame(spruce_fir[indi_spruce_fir,],\n",
    "                                 lodgepole_pine[indi_lodgepole_pine,], \n",
    "                                 ponderosa_pine[indi_ponderosa_pine,],\n",
    "                                 cottonwood_willow[indi_cottonwood_willow,],\n",
    "                                 aspen[indi_aspen,],\n",
    "                                 douglas_fir[indi_douglas_fir,],\n",
    "                                 krummholz[indi_krummholz,])\n"
   ]
  },
  {
   "cell_type": "code",
   "execution_count": 122,
   "metadata": {},
   "outputs": [],
   "source": [
    "# dim(modified_df)"
   ]
  },
  {
   "cell_type": "markdown",
   "metadata": {},
   "source": [
    "#### Train test split\n",
    "- There also exists some class imbalance, let's stratify our splitting"
   ]
  },
  {
   "cell_type": "code",
   "execution_count": 123,
   "metadata": {},
   "outputs": [],
   "source": [
    "spruce_fir <- modified_df[modified_df$Class==\"Spruce/Fir\",]\n",
    "lodgepole_pine <- modified_df[modified_df$Class==\"Lodgepole Pine\",]\n",
    "ponderosa_pine <- modified_df[modified_df$Class==\"Ponderosa Pine\",]\n",
    "cottonwood_willow <- modified_df[modified_df$Class==\"Cottonwood/Willow\",]\n",
    "aspen <- modified_df[modified_df$Class==\"Aspen\",]\n",
    "douglas_fir <- modified_df[modified_df$Class==\"Douglas-fir\",]\n",
    "krummholz <- modified_df[modified_df$Class==\"Krummholz\",]"
   ]
  },
  {
   "cell_type": "code",
   "execution_count": 124,
   "metadata": {},
   "outputs": [],
   "source": [
    "indi_spruce_fir <- sample(1:nrow(spruce_fir), nrow(spruce_fir)*(2/3))\n",
    "indi_lodgepole_pine <- sample(1:nrow(lodgepole_pine), nrow(lodgepole_pine)*(2/3))\n",
    "indi_ponderosa_pine <- sample(1:nrow(ponderosa_pine), nrow(ponderosa_pine)*(2/3))\n",
    "indi_cottonwood_willow <- sample(1:nrow(cottonwood_willow), nrow(cottonwood_willow)*(2/3))\n",
    "indi_aspen <- sample(1:nrow(aspen), nrow(aspen)*(2/3))\n",
    "indi_douglas_fir <- sample(1:nrow(douglas_fir), nrow(douglas_fir)*(2/3))\n",
    "indi_krummholz <- sample(1:nrow(krummholz), nrow(krummholz)*(2/3))\n"
   ]
  },
  {
   "cell_type": "code",
   "execution_count": 125,
   "metadata": {},
   "outputs": [],
   "source": [
    "train_ct <- rbind.data.frame(spruce_fir[indi_spruce_fir,],\n",
    "                                 lodgepole_pine[indi_lodgepole_pine,], \n",
    "                                 ponderosa_pine[indi_ponderosa_pine,],\n",
    "                                 cottonwood_willow[indi_cottonwood_willow,],\n",
    "                                 aspen[indi_aspen,],\n",
    "                                 douglas_fir[indi_douglas_fir,],\n",
    "                                 krummholz[indi_krummholz,])"
   ]
  },
  {
   "cell_type": "code",
   "execution_count": 126,
   "metadata": {},
   "outputs": [],
   "source": [
    "test_ct <- rbind.data.frame(spruce_fir[-indi_spruce_fir,],\n",
    "                                 lodgepole_pine[-indi_lodgepole_pine,], \n",
    "                                 ponderosa_pine[-indi_ponderosa_pine,],\n",
    "                                 cottonwood_willow[-indi_cottonwood_willow,],\n",
    "                                 aspen[-indi_aspen,],\n",
    "                                 douglas_fir[-indi_douglas_fir,],\n",
    "                                 krummholz[-indi_krummholz,])"
   ]
  },
  {
   "cell_type": "markdown",
   "metadata": {},
   "source": [
    "## Random Forest"
   ]
  },
  {
   "cell_type": "code",
   "execution_count": 127,
   "metadata": {},
   "outputs": [],
   "source": [
    "ct_rf_fit <- randomForest(train_ct$Class~., \n",
    "             data = train_ct,  \n",
    "             ntree=500,\n",
    "             replace = TRUE,\n",
    "             importance=TRUE)"
   ]
  },
  {
   "cell_type": "markdown",
   "metadata": {},
   "source": [
    "- here we set replace meaning, the sampling of the cases is done with replacement to make up for the reduced dataset size. We also set importance = TRUE, this allows the algorithm to assess the importance of variables. "
   ]
  },
  {
   "cell_type": "markdown",
   "metadata": {},
   "source": [
    "### Making predictions"
   ]
  },
  {
   "cell_type": "code",
   "execution_count": 128,
   "metadata": {},
   "outputs": [],
   "source": [
    "ct_pred_train <- predict(ct_rf_fit,newdata=train_ct,type=\"response\")\n",
    "ct_pred_test <- predict(ct_rf_fit,newdata=test_ct,type=\"response\")\n"
   ]
  },
  {
   "cell_type": "code",
   "execution_count": 129,
   "metadata": {},
   "outputs": [],
   "source": [
    "ct_train_cm <- confusionMatrix(data = ct_pred_train, reference = train_ct$Class)\n",
    "ct_test_cm <- confusionMatrix(data = ct_pred_test, reference = test_ct$Class)\n"
   ]
  },
  {
   "cell_type": "code",
   "execution_count": 130,
   "metadata": {},
   "outputs": [
    {
     "name": "stdout",
     "output_type": "stream",
     "text": [
      "Training Accuracy: 1 \n",
      "Testing Accuracy: 0.8882292"
     ]
    }
   ],
   "source": [
    "ct_train_acc <- ct_train_cm$overall['Accuracy']\n",
    "ct_test_acc <- ct_test_cm$overall['Accuracy']\n",
    "cat(\"Training Accuracy:\",ct_train_acc,\n",
    "   \"\\nTesting Accuracy:\",ct_test_acc)"
   ]
  },
  {
   "cell_type": "markdown",
   "metadata": {},
   "source": [
    "- we obtained a ~89% accuracy, which is not bad, if we plant more tree, or was able to to obtain more information. Previously I had extracted a smaller dataset from the original data set (1/500,1/100) which resulted is ~75% test accuracy. "
   ]
  }
 ],
 "metadata": {
  "kernelspec": {
   "display_name": "R",
   "language": "R",
   "name": "ir"
  },
  "language_info": {
   "codemirror_mode": "r",
   "file_extension": ".r",
   "mimetype": "text/x-r-source",
   "name": "R",
   "pygments_lexer": "r",
   "version": "3.6.1"
  }
 },
 "nbformat": 4,
 "nbformat_minor": 2
}
