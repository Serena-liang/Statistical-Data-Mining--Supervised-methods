{
 "cells": [
  {
   "cell_type": "code",
   "execution_count": 2,
   "metadata": {},
   "outputs": [
    {
     "data": {
      "text/html": [
       "'C:/Users/qlian/OneDrive/Desktop/Grad Fall 2020 Courses/EAS 506 Statistical Mining I/WEEK12-14'"
      ],
      "text/latex": [
       "'C:/Users/qlian/OneDrive/Desktop/Grad Fall 2020 Courses/EAS 506 Statistical Mining I/WEEK12-14'"
      ],
      "text/markdown": [
       "'C:/Users/qlian/OneDrive/Desktop/Grad Fall 2020 Courses/EAS 506 Statistical Mining I/WEEK12-14'"
      ],
      "text/plain": [
       "[1] \"C:/Users/qlian/OneDrive/Desktop/Grad Fall 2020 Courses/EAS 506 Statistical Mining I/WEEK12-14\""
      ]
     },
     "metadata": {},
     "output_type": "display_data"
    }
   ],
   "source": [
    "getwd()"
   ]
  },
  {
   "cell_type": "code",
   "execution_count": 333,
   "metadata": {},
   "outputs": [],
   "source": [
    "# library(arules)\n",
    "# library(gbm)\n",
    "# library(mlbench)\n",
    "# library(miceadds)\n",
    "# library(caret)\n",
    "# library(rattle)\n",
    "# library(MLmetrics)\n",
    "# library(kernlab)\n",
    "# library(rpart)\n",
    "# library(rpart.plot)\n",
    "# library(randomForest)\n",
    "# library(class)\n",
    "# library(pdp)\n",
    "# library(vip)\n",
    "# library(ggplot2)\n"
   ]
  },
  {
   "cell_type": "markdown",
   "metadata": {},
   "source": [
    "# Q1- Part (a)\n",
    "- Apply bagging, boosting, and random forests to a data set of your choice (not\n",
    "one used in the committee machines labs). Fit the models on a training set and\n",
    "evaluate them on a test set."
   ]
  },
  {
   "cell_type": "markdown",
   "metadata": {},
   "source": [
    "## Dataset Description\n",
    "\n",
    "- The titanic dataset is from a Kaggle competition. The dataset consists of passengers of the sunken ship, and whether or not each passenger as survived the accident. The goal is to predict, what kind of passengers will most likely to survive the crashing of the titanic."
   ]
  },
  {
   "cell_type": "markdown",
   "metadata": {},
   "source": [
    "## Load the Dataset"
   ]
  },
  {
   "cell_type": "code",
   "execution_count": 191,
   "metadata": {},
   "outputs": [],
   "source": [
    "titanic <- read.csv(file = \"C:/Users/qlian/OneDrive/Desktop/Grad Fall 2020 Courses/EAS 506 Statistical Mining I/WEEK12-14/titanic.csv\", header = TRUE) \n"
   ]
  },
  {
   "cell_type": "code",
   "execution_count": 155,
   "metadata": {},
   "outputs": [
    {
     "data": {
      "text/html": [
       "<ol class=list-inline>\n",
       "\t<li>891</li>\n",
       "\t<li>12</li>\n",
       "</ol>\n"
      ],
      "text/latex": [
       "\\begin{enumerate*}\n",
       "\\item 891\n",
       "\\item 12\n",
       "\\end{enumerate*}\n"
      ],
      "text/markdown": [
       "1. 891\n",
       "2. 12\n",
       "\n",
       "\n"
      ],
      "text/plain": [
       "[1] 891  12"
      ]
     },
     "metadata": {},
     "output_type": "display_data"
    }
   ],
   "source": [
    "dim(titanic)"
   ]
  },
  {
   "cell_type": "code",
   "execution_count": 156,
   "metadata": {},
   "outputs": [
    {
     "data": {
      "text/html": [
       "<table>\n",
       "<thead><tr><th scope=col>PassengerId</th><th scope=col>Survived</th><th scope=col>Pclass</th><th scope=col>Name</th><th scope=col>Sex</th><th scope=col>Age</th><th scope=col>SibSp</th><th scope=col>Parch</th><th scope=col>Ticket</th><th scope=col>Fare</th><th scope=col>Cabin</th><th scope=col>Embarked</th></tr></thead>\n",
       "<tbody>\n",
       "\t<tr><td>1                                                  </td><td>0                                                  </td><td>3                                                  </td><td>Braund, Mr. Owen Harris                            </td><td>male                                               </td><td>22                                                 </td><td>1                                                  </td><td>0                                                  </td><td>A/5 21171                                          </td><td> 7.2500                                            </td><td>                                                   </td><td>S                                                  </td></tr>\n",
       "\t<tr><td>2                                                  </td><td>1                                                  </td><td>1                                                  </td><td>Cumings, Mrs. John Bradley (Florence Briggs Thayer)</td><td>female                                             </td><td>38                                                 </td><td>1                                                  </td><td>0                                                  </td><td>PC 17599                                           </td><td>71.2833                                            </td><td>C85                                                </td><td>C                                                  </td></tr>\n",
       "\t<tr><td>3                                                  </td><td>1                                                  </td><td>3                                                  </td><td>Heikkinen, Miss. Laina                             </td><td>female                                             </td><td>26                                                 </td><td>0                                                  </td><td>0                                                  </td><td>STON/O2. 3101282                                   </td><td> 7.9250                                            </td><td>                                                   </td><td>S                                                  </td></tr>\n",
       "\t<tr><td>4                                                  </td><td>1                                                  </td><td>1                                                  </td><td>Futrelle, Mrs. Jacques Heath (Lily May Peel)       </td><td>female                                             </td><td>35                                                 </td><td>1                                                  </td><td>0                                                  </td><td>113803                                             </td><td>53.1000                                            </td><td>C123                                               </td><td>S                                                  </td></tr>\n",
       "\t<tr><td>5                                                  </td><td>0                                                  </td><td>3                                                  </td><td>Allen, Mr. William Henry                           </td><td>male                                               </td><td>35                                                 </td><td>0                                                  </td><td>0                                                  </td><td>373450                                             </td><td> 8.0500                                            </td><td>                                                   </td><td>S                                                  </td></tr>\n",
       "\t<tr><td>6                                                  </td><td>0                                                  </td><td>3                                                  </td><td>Moran, Mr. James                                   </td><td>male                                               </td><td>NA                                                 </td><td>0                                                  </td><td>0                                                  </td><td>330877                                             </td><td> 8.4583                                            </td><td>                                                   </td><td>Q                                                  </td></tr>\n",
       "</tbody>\n",
       "</table>\n"
      ],
      "text/latex": [
       "\\begin{tabular}{r|llllllllllll}\n",
       " PassengerId & Survived & Pclass & Name & Sex & Age & SibSp & Parch & Ticket & Fare & Cabin & Embarked\\\\\n",
       "\\hline\n",
       "\t 1                                                   & 0                                                   & 3                                                   & Braund, Mr. Owen Harris                             & male                                                & 22                                                  & 1                                                   & 0                                                   & A/5 21171                                           &  7.2500                                             &                                                     & S                                                  \\\\\n",
       "\t 2                                                   & 1                                                   & 1                                                   & Cumings, Mrs. John Bradley (Florence Briggs Thayer) & female                                              & 38                                                  & 1                                                   & 0                                                   & PC 17599                                            & 71.2833                                             & C85                                                 & C                                                  \\\\\n",
       "\t 3                                                   & 1                                                   & 3                                                   & Heikkinen, Miss. Laina                              & female                                              & 26                                                  & 0                                                   & 0                                                   & STON/O2. 3101282                                    &  7.9250                                             &                                                     & S                                                  \\\\\n",
       "\t 4                                                   & 1                                                   & 1                                                   & Futrelle, Mrs. Jacques Heath (Lily May Peel)        & female                                              & 35                                                  & 1                                                   & 0                                                   & 113803                                              & 53.1000                                             & C123                                                & S                                                  \\\\\n",
       "\t 5                                                   & 0                                                   & 3                                                   & Allen, Mr. William Henry                            & male                                                & 35                                                  & 0                                                   & 0                                                   & 373450                                              &  8.0500                                             &                                                     & S                                                  \\\\\n",
       "\t 6                                                   & 0                                                   & 3                                                   & Moran, Mr. James                                    & male                                                & NA                                                  & 0                                                   & 0                                                   & 330877                                              &  8.4583                                             &                                                     & Q                                                  \\\\\n",
       "\\end{tabular}\n"
      ],
      "text/markdown": [
       "\n",
       "| PassengerId | Survived | Pclass | Name | Sex | Age | SibSp | Parch | Ticket | Fare | Cabin | Embarked |\n",
       "|---|---|---|---|---|---|---|---|---|---|---|---|\n",
       "| 1                                                   | 0                                                   | 3                                                   | Braund, Mr. Owen Harris                             | male                                                | 22                                                  | 1                                                   | 0                                                   | A/5 21171                                           |  7.2500                                             |                                                     | S                                                   |\n",
       "| 2                                                   | 1                                                   | 1                                                   | Cumings, Mrs. John Bradley (Florence Briggs Thayer) | female                                              | 38                                                  | 1                                                   | 0                                                   | PC 17599                                            | 71.2833                                             | C85                                                 | C                                                   |\n",
       "| 3                                                   | 1                                                   | 3                                                   | Heikkinen, Miss. Laina                              | female                                              | 26                                                  | 0                                                   | 0                                                   | STON/O2. 3101282                                    |  7.9250                                             |                                                     | S                                                   |\n",
       "| 4                                                   | 1                                                   | 1                                                   | Futrelle, Mrs. Jacques Heath (Lily May Peel)        | female                                              | 35                                                  | 1                                                   | 0                                                   | 113803                                              | 53.1000                                             | C123                                                | S                                                   |\n",
       "| 5                                                   | 0                                                   | 3                                                   | Allen, Mr. William Henry                            | male                                                | 35                                                  | 0                                                   | 0                                                   | 373450                                              |  8.0500                                             |                                                     | S                                                   |\n",
       "| 6                                                   | 0                                                   | 3                                                   | Moran, Mr. James                                    | male                                                | NA                                                  | 0                                                   | 0                                                   | 330877                                              |  8.4583                                             |                                                     | Q                                                   |\n",
       "\n"
      ],
      "text/plain": [
       "  PassengerId Survived Pclass\n",
       "1 1           0        3     \n",
       "2 2           1        1     \n",
       "3 3           1        3     \n",
       "4 4           1        1     \n",
       "5 5           0        3     \n",
       "6 6           0        3     \n",
       "  Name                                                Sex    Age SibSp Parch\n",
       "1 Braund, Mr. Owen Harris                             male   22  1     0    \n",
       "2 Cumings, Mrs. John Bradley (Florence Briggs Thayer) female 38  1     0    \n",
       "3 Heikkinen, Miss. Laina                              female 26  0     0    \n",
       "4 Futrelle, Mrs. Jacques Heath (Lily May Peel)        female 35  1     0    \n",
       "5 Allen, Mr. William Henry                            male   35  0     0    \n",
       "6 Moran, Mr. James                                    male   NA  0     0    \n",
       "  Ticket           Fare    Cabin Embarked\n",
       "1 A/5 21171         7.2500       S       \n",
       "2 PC 17599         71.2833 C85   C       \n",
       "3 STON/O2. 3101282  7.9250       S       \n",
       "4 113803           53.1000 C123  S       \n",
       "5 373450            8.0500       S       \n",
       "6 330877            8.4583       Q       "
      ]
     },
     "metadata": {},
     "output_type": "display_data"
    }
   ],
   "source": [
    "head(titanic)"
   ]
  },
  {
   "cell_type": "code",
   "execution_count": 157,
   "metadata": {},
   "outputs": [
    {
     "name": "stdout",
     "output_type": "stream",
     "text": [
      "'data.frame':\t891 obs. of  12 variables:\n",
      " $ PassengerId: int  1 2 3 4 5 6 7 8 9 10 ...\n",
      " $ Survived   : int  0 1 1 1 0 0 0 0 1 1 ...\n",
      " $ Pclass     : int  3 1 3 1 3 3 1 3 3 2 ...\n",
      " $ Name       : Factor w/ 891 levels \"Abbing, Mr. Anthony\",..: 109 191 358 277 16 559 520 629 417 581 ...\n",
      " $ Sex        : Factor w/ 2 levels \"female\",\"male\": 2 1 1 1 2 2 2 2 1 1 ...\n",
      " $ Age        : num  22 38 26 35 35 NA 54 2 27 14 ...\n",
      " $ SibSp      : int  1 1 0 1 0 0 0 3 0 1 ...\n",
      " $ Parch      : int  0 0 0 0 0 0 0 1 2 0 ...\n",
      " $ Ticket     : Factor w/ 681 levels \"110152\",\"110413\",..: 524 597 670 50 473 276 86 396 345 133 ...\n",
      " $ Fare       : num  7.25 71.28 7.92 53.1 8.05 ...\n",
      " $ Cabin      : Factor w/ 148 levels \"\",\"A10\",\"A14\",..: 1 83 1 57 1 1 131 1 1 1 ...\n",
      " $ Embarked   : Factor w/ 4 levels \"\",\"C\",\"Q\",\"S\": 4 2 4 4 4 3 4 4 4 2 ...\n"
     ]
    }
   ],
   "source": [
    "str(titanic)"
   ]
  },
  {
   "cell_type": "markdown",
   "metadata": {},
   "source": [
    "#### \"Name\", \" Ticket\"  and \"Cabin \" have hundreds of unique value, assuming these are not indicative of the response variables, we can drop them "
   ]
  },
  {
   "cell_type": "code",
   "execution_count": 192,
   "metadata": {},
   "outputs": [],
   "source": [
    "titanic <- titanic[,-c(4,9,11)]"
   ]
  },
  {
   "cell_type": "code",
   "execution_count": 193,
   "metadata": {},
   "outputs": [
    {
     "data": {
      "text/html": [
       "<ol class=list-inline>\n",
       "\t<li>'PassengerId'</li>\n",
       "\t<li>'Survived'</li>\n",
       "\t<li>'Pclass'</li>\n",
       "\t<li>'Sex'</li>\n",
       "\t<li>'Age'</li>\n",
       "\t<li>'SibSp'</li>\n",
       "\t<li>'Parch'</li>\n",
       "\t<li>'Fare'</li>\n",
       "\t<li>'Embarked'</li>\n",
       "</ol>\n"
      ],
      "text/latex": [
       "\\begin{enumerate*}\n",
       "\\item 'PassengerId'\n",
       "\\item 'Survived'\n",
       "\\item 'Pclass'\n",
       "\\item 'Sex'\n",
       "\\item 'Age'\n",
       "\\item 'SibSp'\n",
       "\\item 'Parch'\n",
       "\\item 'Fare'\n",
       "\\item 'Embarked'\n",
       "\\end{enumerate*}\n"
      ],
      "text/markdown": [
       "1. 'PassengerId'\n",
       "2. 'Survived'\n",
       "3. 'Pclass'\n",
       "4. 'Sex'\n",
       "5. 'Age'\n",
       "6. 'SibSp'\n",
       "7. 'Parch'\n",
       "8. 'Fare'\n",
       "9. 'Embarked'\n",
       "\n",
       "\n"
      ],
      "text/plain": [
       "[1] \"PassengerId\" \"Survived\"    \"Pclass\"      \"Sex\"         \"Age\"        \n",
       "[6] \"SibSp\"       \"Parch\"       \"Fare\"        \"Embarked\"   "
      ]
     },
     "metadata": {},
     "output_type": "display_data"
    }
   ],
   "source": [
    "names(titanic)"
   ]
  },
  {
   "cell_type": "markdown",
   "metadata": {},
   "source": [
    "#### Missing values\n",
    "- we have missing values in age, let's take a look at it "
   ]
  },
  {
   "cell_type": "code",
   "execution_count": 194,
   "metadata": {},
   "outputs": [
    {
     "data": {
      "text/html": [
       "<dl class=dl-horizontal>\n",
       "\t<dt>PassengerId</dt>\n",
       "\t\t<dd>0</dd>\n",
       "\t<dt>Survived</dt>\n",
       "\t\t<dd>0</dd>\n",
       "\t<dt>Pclass</dt>\n",
       "\t\t<dd>0</dd>\n",
       "\t<dt>Sex</dt>\n",
       "\t\t<dd>0</dd>\n",
       "\t<dt>Age</dt>\n",
       "\t\t<dd>177</dd>\n",
       "\t<dt>SibSp</dt>\n",
       "\t\t<dd>0</dd>\n",
       "\t<dt>Parch</dt>\n",
       "\t\t<dd>0</dd>\n",
       "\t<dt>Fare</dt>\n",
       "\t\t<dd>0</dd>\n",
       "\t<dt>Embarked</dt>\n",
       "\t\t<dd>0</dd>\n",
       "</dl>\n"
      ],
      "text/latex": [
       "\\begin{description*}\n",
       "\\item[PassengerId] 0\n",
       "\\item[Survived] 0\n",
       "\\item[Pclass] 0\n",
       "\\item[Sex] 0\n",
       "\\item[Age] 177\n",
       "\\item[SibSp] 0\n",
       "\\item[Parch] 0\n",
       "\\item[Fare] 0\n",
       "\\item[Embarked] 0\n",
       "\\end{description*}\n"
      ],
      "text/markdown": [
       "PassengerId\n",
       ":   0Survived\n",
       ":   0Pclass\n",
       ":   0Sex\n",
       ":   0Age\n",
       ":   177SibSp\n",
       ":   0Parch\n",
       ":   0Fare\n",
       ":   0Embarked\n",
       ":   0\n",
       "\n"
      ],
      "text/plain": [
       "PassengerId    Survived      Pclass         Sex         Age       SibSp \n",
       "          0           0           0           0         177           0 \n",
       "      Parch        Fare    Embarked \n",
       "          0           0           0 "
      ]
     },
     "metadata": {},
     "output_type": "display_data"
    }
   ],
   "source": [
    "colSums(is.na(titanic))"
   ]
  },
  {
   "cell_type": "code",
   "execution_count": 195,
   "metadata": {},
   "outputs": [
    {
     "data": {
      "image/png": "[encoded data removed]",
      "text/plain": [
       "Plot with title \"Histogram of titanic$Age\""
      ]
     },
     "metadata": {},
     "output_type": "display_data"
    }
   ],
   "source": [
    "options(repr.plot.width=3, repr.plot.height=3)\n",
    "\n",
    "hist(titanic$Age,breaks=30)"
   ]
  },
  {
   "cell_type": "markdown",
   "metadata": {},
   "source": [
    "#### Extract the rows with missing values"
   ]
  },
  {
   "cell_type": "code",
   "execution_count": 196,
   "metadata": {},
   "outputs": [],
   "source": [
    "missing_val <- subset(titanic, is.na(titanic$Age))"
   ]
  },
  {
   "cell_type": "code",
   "execution_count": 197,
   "metadata": {},
   "outputs": [
    {
     "data": {
      "text/plain": [
       "  PassengerId       Survived          Pclass          Sex           Age     \n",
       " Min.   :  6.0   Min.   :0.0000   Min.   :1.000   female: 53   Min.   : NA  \n",
       " 1st Qu.:230.0   1st Qu.:0.0000   1st Qu.:3.000   male  :124   1st Qu.: NA  \n",
       " Median :452.0   Median :0.0000   Median :3.000                Median : NA  \n",
       " Mean   :435.6   Mean   :0.2938   Mean   :2.599                Mean   :NaN  \n",
       " 3rd Qu.:634.0   3rd Qu.:1.0000   3rd Qu.:3.000                3rd Qu.: NA  \n",
       " Max.   :889.0   Max.   :1.0000   Max.   :3.000                Max.   : NA  \n",
       "                                                               NA's   :177  \n",
       "     SibSp           Parch             Fare        Embarked\n",
       " Min.   :0.000   Min.   :0.0000   Min.   :  0.00    : 0    \n",
       " 1st Qu.:0.000   1st Qu.:0.0000   1st Qu.:  7.75   C:38    \n",
       " Median :0.000   Median :0.0000   Median :  8.05   Q:49    \n",
       " Mean   :0.565   Mean   :0.1808   Mean   : 22.16   S:90    \n",
       " 3rd Qu.:0.000   3rd Qu.:0.0000   3rd Qu.: 24.15           \n",
       " Max.   :8.000   Max.   :2.0000   Max.   :227.53           \n",
       "                                                           "
      ]
     },
     "metadata": {},
     "output_type": "display_data"
    }
   ],
   "source": [
    "summary(missing_val)"
   ]
  },
  {
   "cell_type": "code",
   "execution_count": 179,
   "metadata": {},
   "outputs": [
    {
     "data": {
      "text/plain": [
       "  PassengerId       Survived          Pclass          Sex           Age       \n",
       " Min.   :  1.0   Min.   :0.0000   Min.   :1.000   female:314   Min.   : 0.42  \n",
       " 1st Qu.:223.5   1st Qu.:0.0000   1st Qu.:2.000   male  :577   1st Qu.:20.12  \n",
       " Median :446.0   Median :0.0000   Median :3.000                Median :28.00  \n",
       " Mean   :446.0   Mean   :0.3838   Mean   :2.309                Mean   :29.70  \n",
       " 3rd Qu.:668.5   3rd Qu.:1.0000   3rd Qu.:3.000                3rd Qu.:38.00  \n",
       " Max.   :891.0   Max.   :1.0000   Max.   :3.000                Max.   :80.00  \n",
       "                                                               NA's   :177    \n",
       "     SibSp           Parch             Fare                Cabin     Embarked\n",
       " Min.   :0.000   Min.   :0.0000   Min.   :  0.00              :687    :  2   \n",
       " 1st Qu.:0.000   1st Qu.:0.0000   1st Qu.:  7.91   B96 B98    :  4   C:168   \n",
       " Median :0.000   Median :0.0000   Median : 14.45   C23 C25 C27:  4   Q: 77   \n",
       " Mean   :0.523   Mean   :0.3816   Mean   : 32.20   G6         :  4   S:644   \n",
       " 3rd Qu.:1.000   3rd Qu.:0.0000   3rd Qu.: 31.00   C22 C26    :  3           \n",
       " Max.   :8.000   Max.   :6.0000   Max.   :512.33   D          :  3           \n",
       "                                                   (Other)    :186           "
      ]
     },
     "metadata": {},
     "output_type": "display_data"
    }
   ],
   "source": [
    "summary(titanic)"
   ]
  },
  {
   "cell_type": "markdown",
   "metadata": {},
   "source": [
    "- By lookign at the summary of the rows with missing values, and the summary of the whole dataset, we can see that the mean of each variable is similar to that of the whole dataset. We can assume that the Age variable's missing variables is missing by random. More over the Age variable's distribution appears to be normal, we can then imptue the missing values by filling it in with mean."
   ]
  },
  {
   "cell_type": "markdown",
   "metadata": {},
   "source": [
    "#### Imptue the missing variables"
   ]
  },
  {
   "cell_type": "code",
   "execution_count": 198,
   "metadata": {},
   "outputs": [],
   "source": [
    "titanic$Age[is.na(titanic$Age)] = mean(titanic$Age, na.rm=TRUE)"
   ]
  },
  {
   "cell_type": "code",
   "execution_count": 199,
   "metadata": {},
   "outputs": [
    {
     "data": {
      "text/html": [
       "0"
      ],
      "text/latex": [
       "0"
      ],
      "text/markdown": [
       "0"
      ],
      "text/plain": [
       "[1] 0"
      ]
     },
     "metadata": {},
     "output_type": "display_data"
    }
   ],
   "source": [
    "sum(is.na(titanic))"
   ]
  },
  {
   "cell_type": "markdown",
   "metadata": {},
   "source": [
    "- no missing variables"
   ]
  },
  {
   "cell_type": "markdown",
   "metadata": {},
   "source": [
    "#### The response variable has \"int\" data type, we need to factorize it into {0,1}"
   ]
  },
  {
   "cell_type": "code",
   "execution_count": 186,
   "metadata": {},
   "outputs": [
    {
     "data": {
      "text/html": [
       "<ol class=list-inline>\n",
       "\t<li>0</li>\n",
       "\t<li>1</li>\n",
       "\t<li>1</li>\n",
       "\t<li>1</li>\n",
       "\t<li>0</li>\n",
       "\t<li>0</li>\n",
       "</ol>\n"
      ],
      "text/latex": [
       "\\begin{enumerate*}\n",
       "\\item 0\n",
       "\\item 1\n",
       "\\item 1\n",
       "\\item 1\n",
       "\\item 0\n",
       "\\item 0\n",
       "\\end{enumerate*}\n"
      ],
      "text/markdown": [
       "1. 0\n",
       "2. 1\n",
       "3. 1\n",
       "4. 1\n",
       "5. 0\n",
       "6. 0\n",
       "\n",
       "\n"
      ],
      "text/plain": [
       "[1] 0 1 1 1 0 0"
      ]
     },
     "metadata": {},
     "output_type": "display_data"
    }
   ],
   "source": [
    "head(titanic$Survived)"
   ]
  },
  {
   "cell_type": "code",
   "execution_count": 200,
   "metadata": {},
   "outputs": [],
   "source": [
    "titanic$Survived = as.factor(titanic$Survived)"
   ]
  },
  {
   "cell_type": "markdown",
   "metadata": {},
   "source": [
    "## Train Test Split"
   ]
  },
  {
   "cell_type": "code",
   "execution_count": 399,
   "metadata": {},
   "outputs": [],
   "source": [
    "set.seed(895678)"
   ]
  },
  {
   "cell_type": "code",
   "execution_count": 400,
   "metadata": {},
   "outputs": [],
   "source": [
    "inTrain <- createDataPartition(y = titanic$Survived,p = 0.7,list = FALSE)\n",
    "titanic_train <-titanic[inTrain,]\n",
    "titanic_test <-titanic[-inTrain,]"
   ]
  },
  {
   "cell_type": "markdown",
   "metadata": {},
   "source": [
    "## Bagged Trees"
   ]
  },
  {
   "cell_type": "code",
   "execution_count": 401,
   "metadata": {},
   "outputs": [],
   "source": [
    "bag_titanic <- randomForest(Survived~.,data=titanic_train,n.tree=500,mtry=8)"
   ]
  },
  {
   "cell_type": "markdown",
   "metadata": {},
   "source": [
    "#### Making Prediction"
   ]
  },
  {
   "cell_type": "code",
   "execution_count": 436,
   "metadata": {},
   "outputs": [],
   "source": [
    "bag_titanic_pred <- predict(bag_titanic,newdata=titanic_test,type=\"response\")"
   ]
  },
  {
   "cell_type": "code",
   "execution_count": 437,
   "metadata": {},
   "outputs": [],
   "source": [
    "titanic_cm <- confusionMatrix(data = bag_titanic_pred, reference=titanic_test$Survived)"
   ]
  },
  {
   "cell_type": "code",
   "execution_count": 438,
   "metadata": {},
   "outputs": [
    {
     "data": {
      "text/plain": [
       "          Reference\n",
       "Prediction   0   1\n",
       "         0 144  34\n",
       "         1  20  68"
      ]
     },
     "metadata": {},
     "output_type": "display_data"
    }
   ],
   "source": [
    "titanic_cm$table"
   ]
  },
  {
   "cell_type": "code",
   "execution_count": 439,
   "metadata": {},
   "outputs": [
    {
     "data": {
      "text/html": [
       "<strong>Accuracy:</strong> 0.796992481203007"
      ],
      "text/latex": [
       "\\textbf{Accuracy:} 0.796992481203007"
      ],
      "text/markdown": [
       "**Accuracy:** 0.796992481203007"
      ],
      "text/plain": [
       " Accuracy \n",
       "0.7969925 "
      ]
     },
     "metadata": {},
     "output_type": "display_data"
    }
   ],
   "source": [
    "bag_titanic_accuracy <- titanic_cm$overall['Accuracy']\n",
    "bag_titanic_accuracy"
   ]
  },
  {
   "cell_type": "markdown",
   "metadata": {},
   "source": [
    "## Random Forest"
   ]
  },
  {
   "cell_type": "code",
   "execution_count": 440,
   "metadata": {},
   "outputs": [],
   "source": [
    "rf_titanic <- randomForest(Survived~.,data=titanic_train,n.tree=500)"
   ]
  },
  {
   "cell_type": "markdown",
   "metadata": {},
   "source": [
    "#### Making Prediction"
   ]
  },
  {
   "cell_type": "code",
   "execution_count": 441,
   "metadata": {},
   "outputs": [],
   "source": [
    "rf_titanic_pred <- predict(rf_titanic,newdata=titanic_test,type=\"response\")"
   ]
  },
  {
   "cell_type": "code",
   "execution_count": 442,
   "metadata": {},
   "outputs": [],
   "source": [
    "titanic_cm <- confusionMatrix(data = rf_titanic_pred, reference=titanic_test$Survived)"
   ]
  },
  {
   "cell_type": "code",
   "execution_count": 443,
   "metadata": {},
   "outputs": [
    {
     "data": {
      "text/plain": [
       "          Reference\n",
       "Prediction   0   1\n",
       "         0 148  29\n",
       "         1  16  73"
      ]
     },
     "metadata": {},
     "output_type": "display_data"
    }
   ],
   "source": [
    "titanic_cm$table"
   ]
  },
  {
   "cell_type": "code",
   "execution_count": 444,
   "metadata": {},
   "outputs": [
    {
     "data": {
      "text/html": [
       "<strong>Accuracy:</strong> 0.830827067669173"
      ],
      "text/latex": [
       "\\textbf{Accuracy:} 0.830827067669173"
      ],
      "text/markdown": [
       "**Accuracy:** 0.830827067669173"
      ],
      "text/plain": [
       " Accuracy \n",
       "0.8308271 "
      ]
     },
     "metadata": {},
     "output_type": "display_data"
    }
   ],
   "source": [
    "rf_titanic_accuracy <- titanic_cm$overall['Accuracy']\n",
    "rf_titanic_accuracy"
   ]
  },
  {
   "cell_type": "markdown",
   "metadata": {},
   "source": [
    "## Gradient Boosting"
   ]
  },
  {
   "cell_type": "code",
   "execution_count": 411,
   "metadata": {},
   "outputs": [],
   "source": [
    "temp_train <- titanic_train\n",
    "temp_test <- titanic_test"
   ]
  },
  {
   "cell_type": "code",
   "execution_count": 412,
   "metadata": {},
   "outputs": [],
   "source": [
    "temp_train$Survived <- as.numeric(titanic_train$Survived)-1\n",
    "temp_test$Survived <- as.numeric(titanic_test$Survived)-1\n"
   ]
  },
  {
   "cell_type": "code",
   "execution_count": 413,
   "metadata": {},
   "outputs": [],
   "source": [
    "gb_titanic <-gbm(\n",
    "    formula = Survived ~ .,\n",
    "    distribution = \"bernoulli\",\n",
    "    data = temp_train,\n",
    "    n.trees = 500,\n",
    "    interaction.depth = 3,\n",
    "    shrinkage = 0.1,\n",
    "    verbose = FALSE\n",
    "    )  "
   ]
  },
  {
   "cell_type": "code",
   "execution_count": 414,
   "metadata": {},
   "outputs": [],
   "source": [
    "gb_titanic_pred <- predict(object=gb_titanic,newdata=temp_test,n.trees=500,type=\"response\")"
   ]
  },
  {
   "cell_type": "code",
   "execution_count": 415,
   "metadata": {},
   "outputs": [
    {
     "data": {
      "text/html": [
       "<ol class=list-inline>\n",
       "\t<li>0.248887708966274</li>\n",
       "\t<li>0.038386072343653</li>\n",
       "\t<li>0.913730508577159</li>\n",
       "\t<li>0.931916255590018</li>\n",
       "\t<li>0.922110113484738</li>\n",
       "\t<li>0.109442930438431</li>\n",
       "</ol>\n"
      ],
      "text/latex": [
       "\\begin{enumerate*}\n",
       "\\item 0.248887708966274\n",
       "\\item 0.038386072343653\n",
       "\\item 0.913730508577159\n",
       "\\item 0.931916255590018\n",
       "\\item 0.922110113484738\n",
       "\\item 0.109442930438431\n",
       "\\end{enumerate*}\n"
      ],
      "text/markdown": [
       "1. 0.248887708966274\n",
       "2. 0.038386072343653\n",
       "3. 0.913730508577159\n",
       "4. 0.931916255590018\n",
       "5. 0.922110113484738\n",
       "6. 0.109442930438431\n",
       "\n",
       "\n"
      ],
      "text/plain": [
       "[1] 0.24888771 0.03838607 0.91373051 0.93191626 0.92211011 0.10944293"
      ]
     },
     "metadata": {},
     "output_type": "display_data"
    }
   ],
   "source": [
    "head(gb_titanic_pred)"
   ]
  },
  {
   "cell_type": "code",
   "execution_count": 416,
   "metadata": {},
   "outputs": [],
   "source": [
    "gb_titanic_pred <- ifelse(gb_titanic_pred > 0.5, 1, 0)"
   ]
  },
  {
   "cell_type": "markdown",
   "metadata": {},
   "source": [
    "#### Making Prediction"
   ]
  },
  {
   "cell_type": "code",
   "execution_count": 417,
   "metadata": {},
   "outputs": [],
   "source": [
    "titanic_cm <- confusionMatrix(data = as.factor(gb_titanic_pred), reference = titanic_test$Survived)"
   ]
  },
  {
   "cell_type": "code",
   "execution_count": 419,
   "metadata": {},
   "outputs": [
    {
     "data": {
      "text/plain": [
       "          Reference\n",
       "Prediction   0   1\n",
       "         0 145  38\n",
       "         1  19  64"
      ]
     },
     "metadata": {},
     "output_type": "display_data"
    }
   ],
   "source": [
    "titanic_cm$table"
   ]
  },
  {
   "cell_type": "code",
   "execution_count": 421,
   "metadata": {},
   "outputs": [
    {
     "data": {
      "text/html": [
       "<strong>Accuracy:</strong> 0.785714285714286"
      ],
      "text/latex": [
       "\\textbf{Accuracy:} 0.785714285714286"
      ],
      "text/markdown": [
       "**Accuracy:** 0.785714285714286"
      ],
      "text/plain": [
       " Accuracy \n",
       "0.7857143 "
      ]
     },
     "metadata": {},
     "output_type": "display_data"
    }
   ],
   "source": [
    "gb_titanic_accuracy <- titanic_cm$overall['Accuracy']\n",
    "gb_titanic_accuracy"
   ]
  },
  {
   "cell_type": "markdown",
   "metadata": {},
   "source": [
    "# Q1 - Part (b)\n",
    "- How accurate are these results compared to more simplistic (non-ensemble)\n",
    "methods (e.g., logistic regression, kNN, etc)? Use the same test/training as in\n",
    "part A."
   ]
  },
  {
   "cell_type": "markdown",
   "metadata": {},
   "source": [
    "## KNN"
   ]
  },
  {
   "cell_type": "code",
   "execution_count": 244,
   "metadata": {},
   "outputs": [
    {
     "data": {
      "text/html": [
       "0"
      ],
      "text/latex": [
       "0"
      ],
      "text/markdown": [
       "0"
      ],
      "text/plain": [
       "[1] 0"
      ]
     },
     "metadata": {},
     "output_type": "display_data"
    }
   ],
   "source": [
    "sum(is.na(titanic_test))"
   ]
  },
  {
   "cell_type": "markdown",
   "metadata": {},
   "source": [
    "#### Set neighbors and fit knn\n",
    "\n",
    "- we will run knn over a large range of number of neighbors, and get the optimal k value, we will then take that value as our final prediction accuracy"
   ]
  },
  {
   "cell_type": "code",
   "execution_count": 422,
   "metadata": {},
   "outputs": [],
   "source": [
    "neighbors = c(seq(5,105,2))"
   ]
  },
  {
   "cell_type": "code",
   "execution_count": 423,
   "metadata": {},
   "outputs": [],
   "source": [
    "knn_titanic_accuracy <- rep(NA,length(neighbors)) \n",
    "\n",
    "for(i in 1:length(neighbors)){\n",
    "    #prediction \n",
    "    knn_pred_test <- knn(train=data.matrix(titanic_train),test=data.matrix(titanic_test),cl=titanic_train$Survived,k=neighbors[i])\n",
    "\n",
    "    #training and testing accuracy\n",
    "    cm <- confusionMatrix(data = as.factor(knn_pred_test), reference = titanic_test$Survived)\n",
    "    acc <-  cm$overall['Accuracy']\n",
    "    \n",
    "    #store mse and accuracy values\n",
    "    knn_titanic_accuracy[i] <- acc\n",
    "    \n",
    "}\n"
   ]
  },
  {
   "cell_type": "code",
   "execution_count": 424,
   "metadata": {},
   "outputs": [
    {
     "data": {
      "text/html": [
       "7"
      ],
      "text/latex": [
       "7"
      ],
      "text/markdown": [
       "7"
      ],
      "text/plain": [
       "[1] 7"
      ]
     },
     "metadata": {},
     "output_type": "display_data"
    }
   ],
   "source": [
    "best_k_val <- which.max(knn_titanic_accuracy)\n",
    "best_k_val"
   ]
  },
  {
   "cell_type": "code",
   "execution_count": 425,
   "metadata": {},
   "outputs": [
    {
     "data": {
      "text/html": [
       "0.672932330827068"
      ],
      "text/latex": [
       "0.672932330827068"
      ],
      "text/markdown": [
       "0.672932330827068"
      ],
      "text/plain": [
       "[1] 0.6729323"
      ]
     },
     "metadata": {},
     "output_type": "display_data"
    }
   ],
   "source": [
    "knn_titanic_accuracy <- max(knn_titanic_accuracy)\n",
    "knn_titanic_accuracy"
   ]
  },
  {
   "cell_type": "markdown",
   "metadata": {},
   "source": [
    "## Binary Logistic Regression"
   ]
  },
  {
   "cell_type": "code",
   "execution_count": 426,
   "metadata": {},
   "outputs": [],
   "source": [
    "log_titanic <-glm(Survived ~.,data=titanic_train, family=\"binomial\")"
   ]
  },
  {
   "cell_type": "code",
   "execution_count": 428,
   "metadata": {},
   "outputs": [],
   "source": [
    "log_titanic_pred <- predict(log_titanic,type=\"response\",newdata=titanic_test)"
   ]
  },
  {
   "cell_type": "markdown",
   "metadata": {},
   "source": [
    "#### glm outputs probability vector, we will threshold it by 0.5"
   ]
  },
  {
   "cell_type": "code",
   "execution_count": 430,
   "metadata": {},
   "outputs": [
    {
     "data": {
      "text/html": [
       "<dl class=dl-horizontal>\n",
       "\t<dt>1</dt>\n",
       "\t\t<dd>0.0774156425903807</dd>\n",
       "\t<dt>8</dt>\n",
       "\t\t<dd>0.084345952963945</dd>\n",
       "\t<dt>9</dt>\n",
       "\t\t<dd>0.524818366642784</dd>\n",
       "\t<dt>10</dt>\n",
       "\t\t<dd>0.874561518382561</dd>\n",
       "\t<dt>12</dt>\n",
       "\t\t<dd>0.816536219506503</dd>\n",
       "\t<dt>14</dt>\n",
       "\t\t<dd>0.0247169979844861</dd>\n",
       "</dl>\n"
      ],
      "text/latex": [
       "\\begin{description*}\n",
       "\\item[1] 0.0774156425903807\n",
       "\\item[8] 0.084345952963945\n",
       "\\item[9] 0.524818366642784\n",
       "\\item[10] 0.874561518382561\n",
       "\\item[12] 0.816536219506503\n",
       "\\item[14] 0.0247169979844861\n",
       "\\end{description*}\n"
      ],
      "text/markdown": [
       "1\n",
       ":   0.07741564259038078\n",
       ":   0.0843459529639459\n",
       ":   0.52481836664278410\n",
       ":   0.87456151838256112\n",
       ":   0.81653621950650314\n",
       ":   0.0247169979844861\n",
       "\n"
      ],
      "text/plain": [
       "         1          8          9         10         12         14 \n",
       "0.07741564 0.08434595 0.52481837 0.87456152 0.81653622 0.02471700 "
      ]
     },
     "metadata": {},
     "output_type": "display_data"
    }
   ],
   "source": [
    "head(log_titanic_pred)"
   ]
  },
  {
   "cell_type": "code",
   "execution_count": 431,
   "metadata": {},
   "outputs": [],
   "source": [
    "log_titanic_pred <- ifelse(log_titanic_pred > 0.5, 1, 0)"
   ]
  },
  {
   "cell_type": "code",
   "execution_count": 432,
   "metadata": {},
   "outputs": [],
   "source": [
    "titanic_cm <- confusionMatrix(data = as.factor(log_titanic_pred), reference=titanic_test$Survived)"
   ]
  },
  {
   "cell_type": "code",
   "execution_count": 433,
   "metadata": {},
   "outputs": [
    {
     "data": {
      "text/plain": [
       "          Reference\n",
       "Prediction   0   1\n",
       "         0 139  29\n",
       "         1  25  73"
      ]
     },
     "metadata": {},
     "output_type": "display_data"
    }
   ],
   "source": [
    "titanic_cm$table"
   ]
  },
  {
   "cell_type": "code",
   "execution_count": 434,
   "metadata": {},
   "outputs": [
    {
     "data": {
      "text/html": [
       "<strong>Accuracy:</strong> 0.796992481203007"
      ],
      "text/latex": [
       "\\textbf{Accuracy:} 0.796992481203007"
      ],
      "text/markdown": [
       "**Accuracy:** 0.796992481203007"
      ],
      "text/plain": [
       " Accuracy \n",
       "0.7969925 "
      ]
     },
     "metadata": {},
     "output_type": "display_data"
    }
   ],
   "source": [
    "log_titanic_accuracy <- titanic_cm$overall['Accuracy']\n",
    "log_titanic_accuracy"
   ]
  },
  {
   "cell_type": "markdown",
   "metadata": {},
   "source": [
    "## Performance Comparison"
   ]
  },
  {
   "cell_type": "code",
   "execution_count": 447,
   "metadata": {},
   "outputs": [
    {
     "data": {
      "text/html": [
       "<table>\n",
       "<thead><tr><th></th><th scope=col>bag_titanic_accuracy</th><th scope=col>rf_titanic_accuracy</th><th scope=col>gb_titanic_accuracy</th><th scope=col>knn_titanic_accuracy</th><th scope=col>log_titanic_accuracy</th></tr></thead>\n",
       "<tbody>\n",
       "\t<tr><th scope=row>Accuracy</th><td>0.7969925</td><td>0.8308271</td><td>0.7857143</td><td>0.6729323</td><td>0.7969925</td></tr>\n",
       "</tbody>\n",
       "</table>\n"
      ],
      "text/latex": [
       "\\begin{tabular}{r|lllll}\n",
       "  & bag\\_titanic\\_accuracy & rf\\_titanic\\_accuracy & gb\\_titanic\\_accuracy & knn\\_titanic\\_accuracy & log\\_titanic\\_accuracy\\\\\n",
       "\\hline\n",
       "\tAccuracy & 0.7969925 & 0.8308271 & 0.7857143 & 0.6729323 & 0.7969925\\\\\n",
       "\\end{tabular}\n"
      ],
      "text/markdown": [
       "\n",
       "| <!--/--> | bag_titanic_accuracy | rf_titanic_accuracy | gb_titanic_accuracy | knn_titanic_accuracy | log_titanic_accuracy |\n",
       "|---|---|---|---|---|---|\n",
       "| Accuracy | 0.7969925 | 0.8308271 | 0.7857143 | 0.6729323 | 0.7969925 |\n",
       "\n"
      ],
      "text/plain": [
       "         bag_titanic_accuracy rf_titanic_accuracy gb_titanic_accuracy\n",
       "Accuracy 0.7969925            0.8308271           0.7857143          \n",
       "         knn_titanic_accuracy log_titanic_accuracy\n",
       "Accuracy 0.6729323            0.7969925           "
      ]
     },
     "metadata": {},
     "output_type": "display_data"
    }
   ],
   "source": [
    "cbind.data.frame(bag_titanic_accuracy,rf_titanic_accuracy,gb_titanic_accuracy,knn_titanic_accuracy,log_titanic_accuracy)"
   ]
  },
  {
   "cell_type": "markdown",
   "metadata": {},
   "source": [
    "- Random forest algorithm resulted in the highest accuracy, around ~4% higher than the rest.\n",
    "- KNN resulted in the lowest accuracy, ~3% lower than the rest \n",
    "- bagging, gradient boost, and logistic regression resulted in similar prediction accuracy, with gradient boosting being slightly lower than the other two. (Although, the tuning parameters for the gbm function can be further tuned)\n",
    "- overall, ensemble method does not always outperform the more simplistic models."
   ]
  },
  {
   "cell_type": "markdown",
   "metadata": {},
   "source": [
    "# Q1 - Part (c)\n",
    "- What are some advantages (and disadvantages) do committee machines have\n",
    "related to the data set that you selected?"
   ]
  },
  {
   "cell_type": "markdown",
   "metadata": {},
   "source": [
    "- advantages\n",
    "    \n",
    "    - minimal data preparation for ensemble method is needed\n",
    "    - not sensitive to outliers \n",
    "    - stable, I split the data differents times, and even in different ratio, the prediction accuracy did not change drastically.\n",
    "    - \n",
    "- disadvantages\n",
    "    - although ensemble method is not sensitive to missing values, but for the packages used you still have to clean or impute the missing values. Of course, this has to be done for KNN and logistic regression as well\n",
    "    - a lot of tuning parameter for gbm function, although not fully explored in this homework. (I suspect the lower prediction accuracy comes from not having the optimal tuning parameters.) I have seen articles where more discovery is done on research the optimal parameter. This method is generally more exhaustive \n",
    "    - loss of intepretation"
   ]
  },
  {
   "cell_type": "markdown",
   "metadata": {},
   "source": [
    "# Q2 \n",
    "- Consider the pima data. Use boosting, random forests and a single tree (CART\n",
    "model). Comment on your performance. Explore the partial dependence plots for\n",
    "those variables that are have high ranking “variable importance”. "
   ]
  },
  {
   "cell_type": "markdown",
   "metadata": {},
   "source": [
    "### Load the dataset "
   ]
  },
  {
   "cell_type": "code",
   "execution_count": 283,
   "metadata": {},
   "outputs": [],
   "source": [
    "pima <- PimaIndiansDiabetes"
   ]
  },
  {
   "cell_type": "code",
   "execution_count": 5,
   "metadata": {},
   "outputs": [
    {
     "data": {
      "text/html": [
       "<ol class=list-inline>\n",
       "\t<li>768</li>\n",
       "\t<li>9</li>\n",
       "</ol>\n"
      ],
      "text/latex": [
       "\\begin{enumerate*}\n",
       "\\item 768\n",
       "\\item 9\n",
       "\\end{enumerate*}\n"
      ],
      "text/markdown": [
       "1. 768\n",
       "2. 9\n",
       "\n",
       "\n"
      ],
      "text/plain": [
       "[1] 768   9"
      ]
     },
     "metadata": {},
     "output_type": "display_data"
    }
   ],
   "source": [
    "dim(pima)"
   ]
  },
  {
   "cell_type": "code",
   "execution_count": 448,
   "metadata": {},
   "outputs": [
    {
     "data": {
      "text/html": [
       "<ol class=list-inline>\n",
       "\t<li>'pregnant'</li>\n",
       "\t<li>'glucose'</li>\n",
       "\t<li>'pressure'</li>\n",
       "\t<li>'triceps'</li>\n",
       "\t<li>'insulin'</li>\n",
       "\t<li>'mass'</li>\n",
       "\t<li>'pedigree'</li>\n",
       "\t<li>'age'</li>\n",
       "\t<li>'diabetes'</li>\n",
       "</ol>\n"
      ],
      "text/latex": [
       "\\begin{enumerate*}\n",
       "\\item 'pregnant'\n",
       "\\item 'glucose'\n",
       "\\item 'pressure'\n",
       "\\item 'triceps'\n",
       "\\item 'insulin'\n",
       "\\item 'mass'\n",
       "\\item 'pedigree'\n",
       "\\item 'age'\n",
       "\\item 'diabetes'\n",
       "\\end{enumerate*}\n"
      ],
      "text/markdown": [
       "1. 'pregnant'\n",
       "2. 'glucose'\n",
       "3. 'pressure'\n",
       "4. 'triceps'\n",
       "5. 'insulin'\n",
       "6. 'mass'\n",
       "7. 'pedigree'\n",
       "8. 'age'\n",
       "9. 'diabetes'\n",
       "\n",
       "\n"
      ],
      "text/plain": [
       "[1] \"pregnant\" \"glucose\"  \"pressure\" \"triceps\"  \"insulin\"  \"mass\"     \"pedigree\"\n",
       "[8] \"age\"      \"diabetes\""
      ]
     },
     "metadata": {},
     "output_type": "display_data"
    }
   ],
   "source": [
    "names(pima)"
   ]
  },
  {
   "cell_type": "code",
   "execution_count": 7,
   "metadata": {},
   "outputs": [
    {
     "data": {
      "text/html": [
       "0"
      ],
      "text/latex": [
       "0"
      ],
      "text/markdown": [
       "0"
      ],
      "text/plain": [
       "[1] 0"
      ]
     },
     "metadata": {},
     "output_type": "display_data"
    }
   ],
   "source": [
    "sum(is.na(pima))"
   ]
  },
  {
   "cell_type": "code",
   "execution_count": 8,
   "metadata": {},
   "outputs": [
    {
     "name": "stdout",
     "output_type": "stream",
     "text": [
      "'data.frame':\t768 obs. of  9 variables:\n",
      " $ pregnant: num  6 1 8 1 0 5 3 10 2 8 ...\n",
      " $ glucose : num  148 85 183 89 137 116 78 115 197 125 ...\n",
      " $ pressure: num  72 66 64 66 40 74 50 0 70 96 ...\n",
      " $ triceps : num  35 29 0 23 35 0 32 0 45 0 ...\n",
      " $ insulin : num  0 0 0 94 168 0 88 0 543 0 ...\n",
      " $ mass    : num  33.6 26.6 23.3 28.1 43.1 25.6 31 35.3 30.5 0 ...\n",
      " $ pedigree: num  0.627 0.351 0.672 0.167 2.288 ...\n",
      " $ age     : num  50 31 32 21 33 30 26 29 53 54 ...\n",
      " $ diabetes: Factor w/ 2 levels \"neg\",\"pos\": 2 1 2 1 2 1 2 1 2 2 ...\n"
     ]
    }
   ],
   "source": [
    "str(pima)"
   ]
  },
  {
   "cell_type": "code",
   "execution_count": 9,
   "metadata": {},
   "outputs": [
    {
     "data": {
      "image/png": "[encoded data removed]",
      "text/plain": [
       "Plot with title \"age\""
      ]
     },
     "metadata": {},
     "output_type": "display_data"
    }
   ],
   "source": [
    "par(mfrow = c(3,4))\n",
    "for (i in 1:8) {\n",
    "  hist((pima[,i]),breaks = 30,main=names(pima)[i],xlab=NULL)\n",
    "}"
   ]
  },
  {
   "cell_type": "markdown",
   "metadata": {},
   "source": [
    "- Pima consists of 768 observations and 8 features, not including the response variable \"diabetes\". The response \"diabetes\" is a 2-level factor variable, making this a binary classification problem. All 8 independent varaibles are numerical variables. No missing values is presented. Some variables exihibit positive skews, these are \"pregnant\", \"tricep\",\"insulin\",\"pedigree\",\"age\"."
   ]
  },
  {
   "cell_type": "markdown",
   "metadata": {},
   "source": [
    "## Train Test Split"
   ]
  },
  {
   "cell_type": "code",
   "execution_count": 449,
   "metadata": {},
   "outputs": [],
   "source": [
    "set.seed(32820)"
   ]
  },
  {
   "cell_type": "code",
   "execution_count": 450,
   "metadata": {},
   "outputs": [],
   "source": [
    "inTrain <- createDataPartition(y = pima$diabetes,p = 0.7,list = FALSE)\n",
    "pima_train <-pima[inTrain,]\n",
    "pima_test <-pima[-inTrain,]"
   ]
  },
  {
   "cell_type": "markdown",
   "metadata": {},
   "source": [
    "## Griadient Boosting"
   ]
  },
  {
   "cell_type": "markdown",
   "metadata": {},
   "source": [
    "####  Factorize the response variable to {0,1}"
   ]
  },
  {
   "cell_type": "code",
   "execution_count": 451,
   "metadata": {},
   "outputs": [],
   "source": [
    "temp_train = pima_train\n",
    "temp_test = pima_test"
   ]
  },
  {
   "cell_type": "code",
   "execution_count": 452,
   "metadata": {},
   "outputs": [],
   "source": [
    "temp_train$diabetes <- (as.numeric(pima_train$diabetes)-1)\n",
    "temp_test$diabetes <- (as.numeric(pima_test$diabetes)-1)"
   ]
  },
  {
   "cell_type": "markdown",
   "metadata": {},
   "source": [
    "#### Fit gradient boosting"
   ]
  },
  {
   "cell_type": "code",
   "execution_count": 453,
   "metadata": {},
   "outputs": [],
   "source": [
    "gb_pima <- gbm(\n",
    "  formula = diabetes ~ .,\n",
    "  distribution = \"bernoulli\",\n",
    "  data = temp_train,\n",
    "  n.trees = 1000,\n",
    "  interaction.depth = 3,\n",
    "  shrinkage = 0.1,\n",
    "  verbose = FALSE\n",
    "  )  \n"
   ]
  },
  {
   "cell_type": "markdown",
   "metadata": {},
   "source": [
    "#### Making prediction"
   ]
  },
  {
   "cell_type": "code",
   "execution_count": 454,
   "metadata": {},
   "outputs": [],
   "source": [
    "gb_pima_pred <- predict(object=gb_pima,newdata=temp_test,n.trees=1000,type=\"response\")"
   ]
  },
  {
   "cell_type": "markdown",
   "metadata": {},
   "source": [
    "- predict function returns probability of getting 0 or 1, we need to threshold the values for comparison with other models"
   ]
  },
  {
   "cell_type": "markdown",
   "metadata": {},
   "source": [
    "#### gbm function outputs a probabilities of each case, we need to threshold them to obtain the acacuracy "
   ]
  },
  {
   "cell_type": "code",
   "execution_count": 455,
   "metadata": {},
   "outputs": [
    {
     "data": {
      "text/html": [
       "<ol class=list-inline>\n",
       "\t<li>0.896180506386567</li>\n",
       "\t<li>5.72891997608607e-05</li>\n",
       "\t<li>0.188441548467739</li>\n",
       "\t<li>0.831934461747853</li>\n",
       "\t<li>0.0114278176148628</li>\n",
       "\t<li>0.14262175754734</li>\n",
       "</ol>\n"
      ],
      "text/latex": [
       "\\begin{enumerate*}\n",
       "\\item 0.896180506386567\n",
       "\\item 5.72891997608607e-05\n",
       "\\item 0.188441548467739\n",
       "\\item 0.831934461747853\n",
       "\\item 0.0114278176148628\n",
       "\\item 0.14262175754734\n",
       "\\end{enumerate*}\n"
      ],
      "text/markdown": [
       "1. 0.896180506386567\n",
       "2. 5.72891997608607e-05\n",
       "3. 0.188441548467739\n",
       "4. 0.831934461747853\n",
       "5. 0.0114278176148628\n",
       "6. 0.14262175754734\n",
       "\n",
       "\n"
      ],
      "text/plain": [
       "[1] 0.8961805064 0.0000572892 0.1884415485 0.8319344617 0.0114278176\n",
       "[6] 0.1426217575"
      ]
     },
     "metadata": {},
     "output_type": "display_data"
    }
   ],
   "source": [
    "head(gb_pima_pred)"
   ]
  },
  {
   "cell_type": "code",
   "execution_count": 456,
   "metadata": {},
   "outputs": [],
   "source": [
    "gb_pima_pred <- ifelse(gb_pima_pred > 0.5, 1, 0)"
   ]
  },
  {
   "cell_type": "code",
   "execution_count": 457,
   "metadata": {},
   "outputs": [],
   "source": [
    "pima_cm <- confusionMatrix(data = as.factor(gb_pima_pred), reference = as.factor(temp_test$diabetes))"
   ]
  },
  {
   "cell_type": "code",
   "execution_count": 458,
   "metadata": {},
   "outputs": [
    {
     "data": {
      "text/plain": [
       "          Reference\n",
       "Prediction   0   1\n",
       "         0 120  30\n",
       "         1  30  50"
      ]
     },
     "metadata": {},
     "output_type": "display_data"
    }
   ],
   "source": [
    "pima_cm$table"
   ]
  },
  {
   "cell_type": "code",
   "execution_count": 459,
   "metadata": {},
   "outputs": [
    {
     "data": {
      "text/html": [
       "<strong>Accuracy:</strong> 0.739130434782609"
      ],
      "text/latex": [
       "\\textbf{Accuracy:} 0.739130434782609"
      ],
      "text/markdown": [
       "**Accuracy:** 0.739130434782609"
      ],
      "text/plain": [
       " Accuracy \n",
       "0.7391304 "
      ]
     },
     "metadata": {},
     "output_type": "display_data"
    }
   ],
   "source": [
    "gb_pima_accuracy <- pima_cm$overall['Accuracy']\n",
    "gb_pima_accuracy "
   ]
  },
  {
   "cell_type": "markdown",
   "metadata": {},
   "source": [
    "#### Variable Importance"
   ]
  },
  {
   "cell_type": "code",
   "execution_count": 460,
   "metadata": {},
   "outputs": [
    {
     "name": "stderr",
     "output_type": "stream",
     "text": [
      "Warning message in vip.default(gb_pima, size = 0.5):\n",
      "\"Arguments `width`, `alpha`, `color`, `fill`, `size`, and `shape` have all been deprecated in favor of the new `mapping` and `aesthetics` arguments. They will be removed in version 0.3.0.\""
     ]
    },
    {
     "data": {
      "image/png": "[encoded data removed]",
      "text/plain": [
       "plot without title"
      ]
     },
     "metadata": {},
     "output_type": "display_data"
    }
   ],
   "source": [
    "options(repr.plot.width=5, repr.plot.height=3)\n",
    "vip(gb_pima, size = 0.5)  "
   ]
  },
  {
   "cell_type": "markdown",
   "metadata": {},
   "source": [
    "#### Partial Dependence Plot"
   ]
  },
  {
   "cell_type": "code",
   "execution_count": 461,
   "metadata": {},
   "outputs": [
    {
     "data": {
      "image/png": "[encoded data removed]",
      "text/plain": [
       "plot without title"
      ]
     },
     "metadata": {},
     "output_type": "display_data"
    }
   ],
   "source": [
    "\n",
    "options(repr.plot.width=7, repr.plot.height=7)\n",
    "glucose = plot(gb_pima, i.var= \"glucose\")\n",
    "mass = plot(gb_pima, i.var= \"mass\")\n",
    "pedigree = plot(gb_pima, i.var= \"pedigree\")\n",
    "age = plot(gb_pima, i.var= \"age\")\n",
    "\n",
    "grid.arrange(glucose,mass,pedigree, age, ncol = 2)  \n"
   ]
  },
  {
   "cell_type": "markdown",
   "metadata": {},
   "source": [
    "- partial plot does not work with gbm function. gbm.plot() function is then used. We can see that, glucose and mass have similar effects on the response variable. Beggining with a flat curve and leading to a proportionally increasing linear relationship. Pedigree and age behave the same, starting with positive relationship as the values of features increase, followed by a drastic dip and a flat curve. "
   ]
  },
  {
   "cell_type": "markdown",
   "metadata": {},
   "source": [
    "## Random Forest"
   ]
  },
  {
   "cell_type": "markdown",
   "metadata": {},
   "source": [
    "#### Fit random forest"
   ]
  },
  {
   "cell_type": "code",
   "execution_count": 462,
   "metadata": {},
   "outputs": [],
   "source": [
    "rf_pima <- randomForest(diabetes~.,data=pima_train,n.tree=5000)"
   ]
  },
  {
   "cell_type": "markdown",
   "metadata": {},
   "source": [
    "#### Making Prediction"
   ]
  },
  {
   "cell_type": "code",
   "execution_count": 463,
   "metadata": {},
   "outputs": [],
   "source": [
    "rf_pima_pred <- predict(rf_pima,newdata=pima_test,type=\"response\")"
   ]
  },
  {
   "cell_type": "code",
   "execution_count": 464,
   "metadata": {},
   "outputs": [],
   "source": [
    "pima_cm <- confusionMatrix(data = rf_pima_pred, reference = pima_test$diabetes)"
   ]
  },
  {
   "cell_type": "code",
   "execution_count": 465,
   "metadata": {},
   "outputs": [
    {
     "data": {
      "text/plain": [
       "          Reference\n",
       "Prediction neg pos\n",
       "       neg 126  30\n",
       "       pos  24  50"
      ]
     },
     "metadata": {},
     "output_type": "display_data"
    }
   ],
   "source": [
    "pima_cm$table"
   ]
  },
  {
   "cell_type": "code",
   "execution_count": 466,
   "metadata": {},
   "outputs": [
    {
     "data": {
      "text/html": [
       "<strong>Accuracy:</strong> 0.765217391304348"
      ],
      "text/latex": [
       "\\textbf{Accuracy:} 0.765217391304348"
      ],
      "text/markdown": [
       "**Accuracy:** 0.765217391304348"
      ],
      "text/plain": [
       " Accuracy \n",
       "0.7652174 "
      ]
     },
     "metadata": {},
     "output_type": "display_data"
    }
   ],
   "source": [
    "rf_pima_accuracy <- pima_cm$overall['Accuracy']\n",
    "rf_pima_accuracy"
   ]
  },
  {
   "cell_type": "markdown",
   "metadata": {},
   "source": [
    "#### Variable Importance"
   ]
  },
  {
   "cell_type": "code",
   "execution_count": 467,
   "metadata": {},
   "outputs": [
    {
     "name": "stderr",
     "output_type": "stream",
     "text": [
      "Warning message in vip.default(rf_pima, size = 0.5):\n",
      "\"Arguments `width`, `alpha`, `color`, `fill`, `size`, and `shape` have all been deprecated in favor of the new `mapping` and `aesthetics` arguments. They will be removed in version 0.3.0.\""
     ]
    },
    {
     "data": {
      "image/png": "[encoded data removed]",
      "text/plain": [
       "plot without title"
      ]
     },
     "metadata": {},
     "output_type": "display_data"
    }
   ],
   "source": [
    "options(repr.plot.width=5, repr.plot.height=3)\n",
    "vip(rf_pima, size = 0.5)  "
   ]
  },
  {
   "cell_type": "markdown",
   "metadata": {},
   "source": [
    "#### Partial Dependence Plot\n",
    "- plotting pdp for glucose, mass, pedigree anad age because there is a clear break between age and pressure. Also, the importance for variables after age is pretty uniform and low."
   ]
  },
  {
   "cell_type": "code",
   "execution_count": 468,
   "metadata": {},
   "outputs": [
    {
     "name": "stderr",
     "output_type": "stream",
     "text": [
      "Warning message:\n",
      "\"Use of `object[[1L]]` is discouraged. Use `.data[[1L]]` instead.\"Warning message:\n",
      "\"Use of `object[[\"yhat\"]]` is discouraged. Use `.data[[\"yhat\"]]` instead.\"Warning message:\n",
      "\"Use of `object[[1L]]` is discouraged. Use `.data[[1L]]` instead.\"Warning message:\n",
      "\"Use of `object[[\"yhat\"]]` is discouraged. Use `.data[[\"yhat\"]]` instead.\"`geom_smooth()` using method = 'loess'\n",
      "Warning message:\n",
      "\"Use of `object[[1L]]` is discouraged. Use `.data[[1L]]` instead.\"Warning message:\n",
      "\"Use of `object[[\"yhat\"]]` is discouraged. Use `.data[[\"yhat\"]]` instead.\"Warning message:\n",
      "\"Use of `object[[1L]]` is discouraged. Use `.data[[1L]]` instead.\"Warning message:\n",
      "\"Use of `object[[\"yhat\"]]` is discouraged. Use `.data[[\"yhat\"]]` instead.\"`geom_smooth()` using method = 'loess'\n",
      "Warning message:\n",
      "\"Use of `object[[1L]]` is discouraged. Use `.data[[1L]]` instead.\"Warning message:\n",
      "\"Use of `object[[\"yhat\"]]` is discouraged. Use `.data[[\"yhat\"]]` instead.\"Warning message:\n",
      "\"Use of `object[[1L]]` is discouraged. Use `.data[[1L]]` instead.\"Warning message:\n",
      "\"Use of `object[[\"yhat\"]]` is discouraged. Use `.data[[\"yhat\"]]` instead.\"`geom_smooth()` using method = 'loess'\n",
      "Warning message:\n",
      "\"Use of `object[[1L]]` is discouraged. Use `.data[[1L]]` instead.\"Warning message:\n",
      "\"Use of `object[[\"yhat\"]]` is discouraged. Use `.data[[\"yhat\"]]` instead.\"Warning message:\n",
      "\"Use of `object[[1L]]` is discouraged. Use `.data[[1L]]` instead.\"Warning message:\n",
      "\"Use of `object[[\"yhat\"]]` is discouraged. Use `.data[[\"yhat\"]]` instead.\"`geom_smooth()` using method = 'loess'\n"
     ]
    },
    {
     "data": {
      "image/png": "[encoded data removed]",
      "text/plain": [
       "plot without title"
      ]
     },
     "metadata": {},
     "output_type": "display_data"
    }
   ],
   "source": [
    "options(repr.plot.width=7, repr.plot.height=7)\n",
    "\n",
    "glucose <- rf_pima %>%  \n",
    "  partial(pred.var = \"glucose\") %>%\n",
    "  autoplot(smooth = TRUE, ylab = expression(f(glucose))) +\n",
    "  ggtitle(\"pdp - glucose\")\n",
    "mass <- rf_pima %>%  \n",
    "  partial(pred.var = \"mass\") %>%\n",
    "  autoplot(smooth = TRUE, ylab = expression(f(mass))) +\n",
    "  ggtitle(\"pdp - mass\")\n",
    "pedigree <- rf_pima %>% \n",
    "  partial(pred.var = \"pedigree\") %>%\n",
    "  autoplot(smooth = TRUE, ylab = expression(f(pedigree))) +\n",
    "  ggtitle(\"pdp - pedigree\")\n",
    "age <- rf_pima %>%  \n",
    "  partial(pred.var = \"age\") %>%\n",
    "  autoplot(smooth = TRUE, ylab = expression(f(age))) +\n",
    "  ggtitle(\"pdp - age\")\n",
    "grid.arrange(glucose,mass,pedigree, age, ncol = 2)  "
   ]
  },
  {
   "cell_type": "markdown",
   "metadata": {},
   "source": [
    "- we can see the glucose and mass have similar effect on the outcome, and pedigree and age have similar effec t on the outcome. "
   ]
  },
  {
   "cell_type": "markdown",
   "metadata": {},
   "source": [
    "## Single Tree"
   ]
  },
  {
   "cell_type": "markdown",
   "metadata": {},
   "source": [
    "#### Fitting a regression tree"
   ]
  },
  {
   "cell_type": "code",
   "execution_count": 469,
   "metadata": {},
   "outputs": [],
   "source": [
    "model_control <- rpart.control(minsplit=10,xval=10,cp=0)\n",
    "fit_pima <- rpart(diabetes~.,data=pima_train,method=\"class\",control=model_control)"
   ]
  },
  {
   "cell_type": "markdown",
   "metadata": {},
   "source": [
    "#### Plotting the full tree"
   ]
  },
  {
   "cell_type": "code",
   "execution_count": 470,
   "metadata": {},
   "outputs": [
    {
     "data": {
      "image/png": "[encoded data removed]",
      "text/plain": [
       "Plot with title \"Full Tree - Pima Data\""
      ]
     },
     "metadata": {},
     "output_type": "display_data"
    }
   ],
   "source": [
    "options(repr.plot.width=10, repr.plot.height=10)\n",
    "\n",
    "plot(fit_pima,uniform=T,compress=T,main=\"Full Tree - Pima Data\")\n",
    "text(fit_pima,cex=0.5,all=T)"
   ]
  },
  {
   "cell_type": "markdown",
   "metadata": {},
   "source": [
    "#### Making Prediction"
   ]
  },
  {
   "cell_type": "code",
   "execution_count": 471,
   "metadata": {},
   "outputs": [],
   "source": [
    "fit_pima_pred <- predict(fit_pima, pima_test, type = \"class\")"
   ]
  },
  {
   "cell_type": "code",
   "execution_count": 472,
   "metadata": {},
   "outputs": [],
   "source": [
    "pima_cm <- confusionMatrix(data = fit_pima_pred, reference=pima_test$diabetes)"
   ]
  },
  {
   "cell_type": "code",
   "execution_count": 473,
   "metadata": {},
   "outputs": [
    {
     "data": {
      "text/plain": [
       "          Reference\n",
       "Prediction neg pos\n",
       "       neg 120  35\n",
       "       pos  30  45"
      ]
     },
     "metadata": {},
     "output_type": "display_data"
    }
   ],
   "source": [
    "pima_cm$table"
   ]
  },
  {
   "cell_type": "code",
   "execution_count": 474,
   "metadata": {},
   "outputs": [
    {
     "data": {
      "text/html": [
       "<strong>Accuracy:</strong> 0.717391304347826"
      ],
      "text/latex": [
       "\\textbf{Accuracy:} 0.717391304347826"
      ],
      "text/markdown": [
       "**Accuracy:** 0.717391304347826"
      ],
      "text/plain": [
       " Accuracy \n",
       "0.7173913 "
      ]
     },
     "metadata": {},
     "output_type": "display_data"
    }
   ],
   "source": [
    "cart_pima_accuracy = pima_cm$overall['Accuracy']\n",
    "cart_pima_accuracy"
   ]
  },
  {
   "cell_type": "markdown",
   "metadata": {},
   "source": [
    "#### Variable Importance"
   ]
  },
  {
   "cell_type": "code",
   "execution_count": 475,
   "metadata": {},
   "outputs": [
    {
     "name": "stderr",
     "output_type": "stream",
     "text": [
      "Warning message in vip.default(fit_pima, size = 0.5):\n",
      "\"Arguments `width`, `alpha`, `color`, `fill`, `size`, and `shape` have all been deprecated in favor of the new `mapping` and `aesthetics` arguments. They will be removed in version 0.3.0.\""
     ]
    },
    {
     "data": {
      "image/png": "[encoded data removed]",
      "text/plain": [
       "plot without title"
      ]
     },
     "metadata": {},
     "output_type": "display_data"
    }
   ],
   "source": [
    "options(repr.plot.width=5, repr.plot.height=3)\n",
    "vip(fit_pima, size = 0.5)  "
   ]
  },
  {
   "cell_type": "markdown",
   "metadata": {},
   "source": [
    "#### Partial Dependence Plot\n",
    "- plotting pdp for glucose, mass, pedigree anad age because there is a clear break between age and pressure. Also, the importance for variables after age is pretty uniform and low."
   ]
  },
  {
   "cell_type": "code",
   "execution_count": 476,
   "metadata": {},
   "outputs": [
    {
     "name": "stderr",
     "output_type": "stream",
     "text": [
      "Warning message:\n",
      "\"Use of `object[[1L]]` is discouraged. Use `.data[[1L]]` instead.\"Warning message:\n",
      "\"Use of `object[[\"yhat\"]]` is discouraged. Use `.data[[\"yhat\"]]` instead.\"Warning message:\n",
      "\"Use of `object[[1L]]` is discouraged. Use `.data[[1L]]` instead.\"Warning message:\n",
      "\"Use of `object[[\"yhat\"]]` is discouraged. Use `.data[[\"yhat\"]]` instead.\"`geom_smooth()` using method = 'loess'\n",
      "Warning message:\n",
      "\"Use of `object[[1L]]` is discouraged. Use `.data[[1L]]` instead.\"Warning message:\n",
      "\"Use of `object[[\"yhat\"]]` is discouraged. Use `.data[[\"yhat\"]]` instead.\"Warning message:\n",
      "\"Use of `object[[1L]]` is discouraged. Use `.data[[1L]]` instead.\"Warning message:\n",
      "\"Use of `object[[\"yhat\"]]` is discouraged. Use `.data[[\"yhat\"]]` instead.\"`geom_smooth()` using method = 'loess'\n",
      "Warning message:\n",
      "\"Use of `object[[1L]]` is discouraged. Use `.data[[1L]]` instead.\"Warning message:\n",
      "\"Use of `object[[\"yhat\"]]` is discouraged. Use `.data[[\"yhat\"]]` instead.\"Warning message:\n",
      "\"Use of `object[[1L]]` is discouraged. Use `.data[[1L]]` instead.\"Warning message:\n",
      "\"Use of `object[[\"yhat\"]]` is discouraged. Use `.data[[\"yhat\"]]` instead.\"`geom_smooth()` using method = 'loess'\n",
      "Warning message:\n",
      "\"Use of `object[[1L]]` is discouraged. Use `.data[[1L]]` instead.\"Warning message:\n",
      "\"Use of `object[[\"yhat\"]]` is discouraged. Use `.data[[\"yhat\"]]` instead.\"Warning message:\n",
      "\"Use of `object[[1L]]` is discouraged. Use `.data[[1L]]` instead.\"Warning message:\n",
      "\"Use of `object[[\"yhat\"]]` is discouraged. Use `.data[[\"yhat\"]]` instead.\"`geom_smooth()` using method = 'loess'\n"
     ]
    },
    {
     "data": {
      "image/png": "[encoded data removed]",
      "text/plain": [
       "plot without title"
      ]
     },
     "metadata": {},
     "output_type": "display_data"
    }
   ],
   "source": [
    "options(repr.plot.width=7, repr.plot.height=7)\n",
    "\n",
    "glucose <- fit_pima %>%  \n",
    "  partial(pred.var = \"glucose\") %>%\n",
    "  autoplot(smooth = TRUE, ylab = expression(f(glucose))) +\n",
    "  ggtitle(\"pdp - glucose\")\n",
    "mass <- fit_pima %>%  \n",
    "  partial(pred.var = \"mass\") %>%\n",
    "  autoplot(smooth = TRUE, ylab = expression(f(mass))) +\n",
    "  ggtitle(\"pdp - mass\")\n",
    "pedigree <- fit_pima %>% \n",
    "  partial(pred.var = \"pedigree\") %>%\n",
    "  autoplot(smooth = TRUE, ylab = expression(f(pedigree))) +\n",
    "  ggtitle(\"pdp - pedigree\")\n",
    "age <- fit_pima %>%  \n",
    "  partial(pred.var = \"age\") %>%\n",
    "  autoplot(smooth = TRUE, ylab = expression(f(age))) +\n",
    "  ggtitle(\"pdp - age\")\n",
    "grid.arrange(glucose,mass,pedigree, age, ncol = 2)  "
   ]
  },
  {
   "cell_type": "markdown",
   "metadata": {},
   "source": [
    "- glucose and mass behave similarly in single tree as in random forest. We can see that the relationship is a lot more noisy. In pedigree, the relationship seems to be monotonically decreasing, probability of diabetes decrease as pedicure increases until it gets saturated around 2.5. Probability of getting diabetes decease and then increase, the dop accors at around age 25-60."
   ]
  },
  {
   "cell_type": "markdown",
   "metadata": {},
   "source": [
    "## Performance Comparison"
   ]
  },
  {
   "cell_type": "code",
   "execution_count": 486,
   "metadata": {},
   "outputs": [
    {
     "data": {
      "text/html": [
       "<table>\n",
       "<thead><tr><th></th><th scope=col>rf_pima_accuracy</th><th scope=col>gb_pima_accuracy</th><th scope=col>cart_pima_accuracy</th></tr></thead>\n",
       "<tbody>\n",
       "\t<tr><th scope=row>Accuracy</th><td>0.7652174</td><td>0.7391304</td><td>0.7173913</td></tr>\n",
       "</tbody>\n",
       "</table>\n"
      ],
      "text/latex": [
       "\\begin{tabular}{r|lll}\n",
       "  & rf\\_pima\\_accuracy & gb\\_pima\\_accuracy & cart\\_pima\\_accuracy\\\\\n",
       "\\hline\n",
       "\tAccuracy & 0.7652174 & 0.7391304 & 0.7173913\\\\\n",
       "\\end{tabular}\n"
      ],
      "text/markdown": [
       "\n",
       "| <!--/--> | rf_pima_accuracy | gb_pima_accuracy | cart_pima_accuracy |\n",
       "|---|---|---|---|\n",
       "| Accuracy | 0.7652174 | 0.7391304 | 0.7173913 |\n",
       "\n"
      ],
      "text/plain": [
       "         rf_pima_accuracy gb_pima_accuracy cart_pima_accuracy\n",
       "Accuracy 0.7652174        0.7391304        0.7173913         "
      ]
     },
     "metadata": {},
     "output_type": "display_data"
    }
   ],
   "source": [
    "cbind(rf_pima_accuracy,gb_pima_accuracy,cart_pima_accuracy)"
   ]
  },
  {
   "cell_type": "markdown",
   "metadata": {},
   "source": [
    "- the ensemble method outperformed the single tree method. Random forest resulted in the highest prediction accuracy.\n",
    "- Important to note that, all three algorithms has ranked \"glucose\",\"mass\",\"pedigree\",\"age\" as the four msot import features in order. Significantly more important than the rest of the features. "
   ]
  },
  {
   "cell_type": "markdown",
   "metadata": {},
   "source": [
    "# Q3\n",
    "- Fit a series of random-forest classifiers to the SPAM\n",
    "data, to explore the sensitivity to m (the number of randomly selected inputs for\n",
    "each tree). Plot both the OOB error as well as the test error against a suitably\n",
    "chosen range of values for m. "
   ]
  },
  {
   "cell_type": "markdown",
   "metadata": {},
   "source": [
    "## Load the dataset"
   ]
  },
  {
   "cell_type": "code",
   "execution_count": 477,
   "metadata": {},
   "outputs": [],
   "source": [
    "data(spam)\n"
   ]
  },
  {
   "cell_type": "code",
   "execution_count": 478,
   "metadata": {},
   "outputs": [
    {
     "data": {
      "text/html": [
       "<table>\n",
       "<thead><tr><th scope=col>make</th><th scope=col>address</th><th scope=col>all</th><th scope=col>num3d</th><th scope=col>our</th><th scope=col>over</th><th scope=col>remove</th><th scope=col>internet</th><th scope=col>order</th><th scope=col>mail</th><th scope=col>...</th><th scope=col>charSemicolon</th><th scope=col>charRoundbracket</th><th scope=col>charSquarebracket</th><th scope=col>charExclamation</th><th scope=col>charDollar</th><th scope=col>charHash</th><th scope=col>capitalAve</th><th scope=col>capitalLong</th><th scope=col>capitalTotal</th><th scope=col>type</th></tr></thead>\n",
       "<tbody>\n",
       "\t<tr><td>0.00 </td><td>0.64 </td><td>0.64 </td><td>0    </td><td>0.32 </td><td>0.00 </td><td>0.00 </td><td>0.00 </td><td>0.00 </td><td>0.00 </td><td>...  </td><td>0.00 </td><td>0.000</td><td>0    </td><td>0.778</td><td>0.000</td><td>0.000</td><td>3.756</td><td> 61  </td><td> 278 </td><td>spam </td></tr>\n",
       "\t<tr><td>0.21 </td><td>0.28 </td><td>0.50 </td><td>0    </td><td>0.14 </td><td>0.28 </td><td>0.21 </td><td>0.07 </td><td>0.00 </td><td>0.94 </td><td>...  </td><td>0.00 </td><td>0.132</td><td>0    </td><td>0.372</td><td>0.180</td><td>0.048</td><td>5.114</td><td>101  </td><td>1028 </td><td>spam </td></tr>\n",
       "\t<tr><td>0.06 </td><td>0.00 </td><td>0.71 </td><td>0    </td><td>1.23 </td><td>0.19 </td><td>0.19 </td><td>0.12 </td><td>0.64 </td><td>0.25 </td><td>...  </td><td>0.01 </td><td>0.143</td><td>0    </td><td>0.276</td><td>0.184</td><td>0.010</td><td>9.821</td><td>485  </td><td>2259 </td><td>spam </td></tr>\n",
       "\t<tr><td>0.00 </td><td>0.00 </td><td>0.00 </td><td>0    </td><td>0.63 </td><td>0.00 </td><td>0.31 </td><td>0.63 </td><td>0.31 </td><td>0.63 </td><td>...  </td><td>0.00 </td><td>0.137</td><td>0    </td><td>0.137</td><td>0.000</td><td>0.000</td><td>3.537</td><td> 40  </td><td> 191 </td><td>spam </td></tr>\n",
       "\t<tr><td>0.00 </td><td>0.00 </td><td>0.00 </td><td>0    </td><td>0.63 </td><td>0.00 </td><td>0.31 </td><td>0.63 </td><td>0.31 </td><td>0.63 </td><td>...  </td><td>0.00 </td><td>0.135</td><td>0    </td><td>0.135</td><td>0.000</td><td>0.000</td><td>3.537</td><td> 40  </td><td> 191 </td><td>spam </td></tr>\n",
       "\t<tr><td>0.00 </td><td>0.00 </td><td>0.00 </td><td>0    </td><td>1.85 </td><td>0.00 </td><td>0.00 </td><td>1.85 </td><td>0.00 </td><td>0.00 </td><td>...  </td><td>0.00 </td><td>0.223</td><td>0    </td><td>0.000</td><td>0.000</td><td>0.000</td><td>3.000</td><td> 15  </td><td>  54 </td><td>spam </td></tr>\n",
       "</tbody>\n",
       "</table>\n"
      ],
      "text/latex": [
       "\\begin{tabular}{r|llllllllllllllllllllllllllllllllllllllllllllllllllllllllll}\n",
       " make & address & all & num3d & our & over & remove & internet & order & mail & ... & charSemicolon & charRoundbracket & charSquarebracket & charExclamation & charDollar & charHash & capitalAve & capitalLong & capitalTotal & type\\\\\n",
       "\\hline\n",
       "\t 0.00  & 0.64  & 0.64  & 0     & 0.32  & 0.00  & 0.00  & 0.00  & 0.00  & 0.00  & ...   & 0.00  & 0.000 & 0     & 0.778 & 0.000 & 0.000 & 3.756 &  61   &  278  & spam \\\\\n",
       "\t 0.21  & 0.28  & 0.50  & 0     & 0.14  & 0.28  & 0.21  & 0.07  & 0.00  & 0.94  & ...   & 0.00  & 0.132 & 0     & 0.372 & 0.180 & 0.048 & 5.114 & 101   & 1028  & spam \\\\\n",
       "\t 0.06  & 0.00  & 0.71  & 0     & 1.23  & 0.19  & 0.19  & 0.12  & 0.64  & 0.25  & ...   & 0.01  & 0.143 & 0     & 0.276 & 0.184 & 0.010 & 9.821 & 485   & 2259  & spam \\\\\n",
       "\t 0.00  & 0.00  & 0.00  & 0     & 0.63  & 0.00  & 0.31  & 0.63  & 0.31  & 0.63  & ...   & 0.00  & 0.137 & 0     & 0.137 & 0.000 & 0.000 & 3.537 &  40   &  191  & spam \\\\\n",
       "\t 0.00  & 0.00  & 0.00  & 0     & 0.63  & 0.00  & 0.31  & 0.63  & 0.31  & 0.63  & ...   & 0.00  & 0.135 & 0     & 0.135 & 0.000 & 0.000 & 3.537 &  40   &  191  & spam \\\\\n",
       "\t 0.00  & 0.00  & 0.00  & 0     & 1.85  & 0.00  & 0.00  & 1.85  & 0.00  & 0.00  & ...   & 0.00  & 0.223 & 0     & 0.000 & 0.000 & 0.000 & 3.000 &  15   &   54  & spam \\\\\n",
       "\\end{tabular}\n"
      ],
      "text/markdown": [
       "\n",
       "| make | address | all | num3d | our | over | remove | internet | order | mail | ... | charSemicolon | charRoundbracket | charSquarebracket | charExclamation | charDollar | charHash | capitalAve | capitalLong | capitalTotal | type |\n",
       "|---|---|---|---|---|---|---|---|---|---|---|---|---|---|---|---|---|---|---|---|---|\n",
       "| 0.00  | 0.64  | 0.64  | 0     | 0.32  | 0.00  | 0.00  | 0.00  | 0.00  | 0.00  | ...   | 0.00  | 0.000 | 0     | 0.778 | 0.000 | 0.000 | 3.756 |  61   |  278  | spam  |\n",
       "| 0.21  | 0.28  | 0.50  | 0     | 0.14  | 0.28  | 0.21  | 0.07  | 0.00  | 0.94  | ...   | 0.00  | 0.132 | 0     | 0.372 | 0.180 | 0.048 | 5.114 | 101   | 1028  | spam  |\n",
       "| 0.06  | 0.00  | 0.71  | 0     | 1.23  | 0.19  | 0.19  | 0.12  | 0.64  | 0.25  | ...   | 0.01  | 0.143 | 0     | 0.276 | 0.184 | 0.010 | 9.821 | 485   | 2259  | spam  |\n",
       "| 0.00  | 0.00  | 0.00  | 0     | 0.63  | 0.00  | 0.31  | 0.63  | 0.31  | 0.63  | ...   | 0.00  | 0.137 | 0     | 0.137 | 0.000 | 0.000 | 3.537 |  40   |  191  | spam  |\n",
       "| 0.00  | 0.00  | 0.00  | 0     | 0.63  | 0.00  | 0.31  | 0.63  | 0.31  | 0.63  | ...   | 0.00  | 0.135 | 0     | 0.135 | 0.000 | 0.000 | 3.537 |  40   |  191  | spam  |\n",
       "| 0.00  | 0.00  | 0.00  | 0     | 1.85  | 0.00  | 0.00  | 1.85  | 0.00  | 0.00  | ...   | 0.00  | 0.223 | 0     | 0.000 | 0.000 | 0.000 | 3.000 |  15   |   54  | spam  |\n",
       "\n"
      ],
      "text/plain": [
       "  make address all  num3d our  over remove internet order mail ...\n",
       "1 0.00 0.64    0.64 0     0.32 0.00 0.00   0.00     0.00  0.00 ...\n",
       "2 0.21 0.28    0.50 0     0.14 0.28 0.21   0.07     0.00  0.94 ...\n",
       "3 0.06 0.00    0.71 0     1.23 0.19 0.19   0.12     0.64  0.25 ...\n",
       "4 0.00 0.00    0.00 0     0.63 0.00 0.31   0.63     0.31  0.63 ...\n",
       "5 0.00 0.00    0.00 0     0.63 0.00 0.31   0.63     0.31  0.63 ...\n",
       "6 0.00 0.00    0.00 0     1.85 0.00 0.00   1.85     0.00  0.00 ...\n",
       "  charSemicolon charRoundbracket charSquarebracket charExclamation charDollar\n",
       "1 0.00          0.000            0                 0.778           0.000     \n",
       "2 0.00          0.132            0                 0.372           0.180     \n",
       "3 0.01          0.143            0                 0.276           0.184     \n",
       "4 0.00          0.137            0                 0.137           0.000     \n",
       "5 0.00          0.135            0                 0.135           0.000     \n",
       "6 0.00          0.223            0                 0.000           0.000     \n",
       "  charHash capitalAve capitalLong capitalTotal type\n",
       "1 0.000    3.756       61          278         spam\n",
       "2 0.048    5.114      101         1028         spam\n",
       "3 0.010    9.821      485         2259         spam\n",
       "4 0.000    3.537       40          191         spam\n",
       "5 0.000    3.537       40          191         spam\n",
       "6 0.000    3.000       15           54         spam"
      ]
     },
     "metadata": {},
     "output_type": "display_data"
    }
   ],
   "source": [
    "head(spam)"
   ]
  },
  {
   "cell_type": "code",
   "execution_count": 479,
   "metadata": {},
   "outputs": [
    {
     "data": {
      "text/html": [
       "<ol class=list-inline>\n",
       "\t<li>4601</li>\n",
       "\t<li>58</li>\n",
       "</ol>\n"
      ],
      "text/latex": [
       "\\begin{enumerate*}\n",
       "\\item 4601\n",
       "\\item 58\n",
       "\\end{enumerate*}\n"
      ],
      "text/markdown": [
       "1. 4601\n",
       "2. 58\n",
       "\n",
       "\n"
      ],
      "text/plain": [
       "[1] 4601   58"
      ]
     },
     "metadata": {},
     "output_type": "display_data"
    }
   ],
   "source": [
    "dim(spam)"
   ]
  },
  {
   "cell_type": "code",
   "execution_count": 480,
   "metadata": {},
   "outputs": [
    {
     "name": "stdout",
     "output_type": "stream",
     "text": [
      "'data.frame':\t4601 obs. of  58 variables:\n",
      " $ make             : num  0 0.21 0.06 0 0 0 0 0 0.15 0.06 ...\n",
      " $ address          : num  0.64 0.28 0 0 0 0 0 0 0 0.12 ...\n",
      " $ all              : num  0.64 0.5 0.71 0 0 0 0 0 0.46 0.77 ...\n",
      " $ num3d            : num  0 0 0 0 0 0 0 0 0 0 ...\n",
      " $ our              : num  0.32 0.14 1.23 0.63 0.63 1.85 1.92 1.88 0.61 0.19 ...\n",
      " $ over             : num  0 0.28 0.19 0 0 0 0 0 0 0.32 ...\n",
      " $ remove           : num  0 0.21 0.19 0.31 0.31 0 0 0 0.3 0.38 ...\n",
      " $ internet         : num  0 0.07 0.12 0.63 0.63 1.85 0 1.88 0 0 ...\n",
      " $ order            : num  0 0 0.64 0.31 0.31 0 0 0 0.92 0.06 ...\n",
      " $ mail             : num  0 0.94 0.25 0.63 0.63 0 0.64 0 0.76 0 ...\n",
      " $ receive          : num  0 0.21 0.38 0.31 0.31 0 0.96 0 0.76 0 ...\n",
      " $ will             : num  0.64 0.79 0.45 0.31 0.31 0 1.28 0 0.92 0.64 ...\n",
      " $ people           : num  0 0.65 0.12 0.31 0.31 0 0 0 0 0.25 ...\n",
      " $ report           : num  0 0.21 0 0 0 0 0 0 0 0 ...\n",
      " $ addresses        : num  0 0.14 1.75 0 0 0 0 0 0 0.12 ...\n",
      " $ free             : num  0.32 0.14 0.06 0.31 0.31 0 0.96 0 0 0 ...\n",
      " $ business         : num  0 0.07 0.06 0 0 0 0 0 0 0 ...\n",
      " $ email            : num  1.29 0.28 1.03 0 0 0 0.32 0 0.15 0.12 ...\n",
      " $ you              : num  1.93 3.47 1.36 3.18 3.18 0 3.85 0 1.23 1.67 ...\n",
      " $ credit           : num  0 0 0.32 0 0 0 0 0 3.53 0.06 ...\n",
      " $ your             : num  0.96 1.59 0.51 0.31 0.31 0 0.64 0 2 0.71 ...\n",
      " $ font             : num  0 0 0 0 0 0 0 0 0 0 ...\n",
      " $ num000           : num  0 0.43 1.16 0 0 0 0 0 0 0.19 ...\n",
      " $ money            : num  0 0.43 0.06 0 0 0 0 0 0.15 0 ...\n",
      " $ hp               : num  0 0 0 0 0 0 0 0 0 0 ...\n",
      " $ hpl              : num  0 0 0 0 0 0 0 0 0 0 ...\n",
      " $ george           : num  0 0 0 0 0 0 0 0 0 0 ...\n",
      " $ num650           : num  0 0 0 0 0 0 0 0 0 0 ...\n",
      " $ lab              : num  0 0 0 0 0 0 0 0 0 0 ...\n",
      " $ labs             : num  0 0 0 0 0 0 0 0 0 0 ...\n",
      " $ telnet           : num  0 0 0 0 0 0 0 0 0 0 ...\n",
      " $ num857           : num  0 0 0 0 0 0 0 0 0 0 ...\n",
      " $ data             : num  0 0 0 0 0 0 0 0 0.15 0 ...\n",
      " $ num415           : num  0 0 0 0 0 0 0 0 0 0 ...\n",
      " $ num85            : num  0 0 0 0 0 0 0 0 0 0 ...\n",
      " $ technology       : num  0 0 0 0 0 0 0 0 0 0 ...\n",
      " $ num1999          : num  0 0.07 0 0 0 0 0 0 0 0 ...\n",
      " $ parts            : num  0 0 0 0 0 0 0 0 0 0 ...\n",
      " $ pm               : num  0 0 0 0 0 0 0 0 0 0 ...\n",
      " $ direct           : num  0 0 0.06 0 0 0 0 0 0 0 ...\n",
      " $ cs               : num  0 0 0 0 0 0 0 0 0 0 ...\n",
      " $ meeting          : num  0 0 0 0 0 0 0 0 0 0 ...\n",
      " $ original         : num  0 0 0.12 0 0 0 0 0 0.3 0 ...\n",
      " $ project          : num  0 0 0 0 0 0 0 0 0 0.06 ...\n",
      " $ re               : num  0 0 0.06 0 0 0 0 0 0 0 ...\n",
      " $ edu              : num  0 0 0.06 0 0 0 0 0 0 0 ...\n",
      " $ table            : num  0 0 0 0 0 0 0 0 0 0 ...\n",
      " $ conference       : num  0 0 0 0 0 0 0 0 0 0 ...\n",
      " $ charSemicolon    : num  0 0 0.01 0 0 0 0 0 0 0.04 ...\n",
      " $ charRoundbracket : num  0 0.132 0.143 0.137 0.135 0.223 0.054 0.206 0.271 0.03 ...\n",
      " $ charSquarebracket: num  0 0 0 0 0 0 0 0 0 0 ...\n",
      " $ charExclamation  : num  0.778 0.372 0.276 0.137 0.135 0 0.164 0 0.181 0.244 ...\n",
      " $ charDollar       : num  0 0.18 0.184 0 0 0 0.054 0 0.203 0.081 ...\n",
      " $ charHash         : num  0 0.048 0.01 0 0 0 0 0 0.022 0 ...\n",
      " $ capitalAve       : num  3.76 5.11 9.82 3.54 3.54 ...\n",
      " $ capitalLong      : num  61 101 485 40 40 15 4 11 445 43 ...\n",
      " $ capitalTotal     : num  278 1028 2259 191 191 ...\n",
      " $ type             : Factor w/ 2 levels \"nonspam\",\"spam\": 2 2 2 2 2 2 2 2 2 2 ...\n"
     ]
    }
   ],
   "source": [
    "str(spam)"
   ]
  },
  {
   "cell_type": "markdown",
   "metadata": {},
   "source": [
    "## Train Test Split"
   ]
  },
  {
   "cell_type": "code",
   "execution_count": 481,
   "metadata": {},
   "outputs": [],
   "source": [
    "inTrain <- createDataPartition(y = spam$type,p = 0.7,list = FALSE)\n",
    "spam_train <-spam[inTrain,]\n",
    "spam_test <-spam[-inTrain,]"
   ]
  },
  {
   "cell_type": "markdown",
   "metadata": {},
   "source": [
    "## Fit Models and Making predictions "
   ]
  },
  {
   "cell_type": "markdown",
   "metadata": {},
   "source": [
    "- 15 random forest models will be fit in order to test the sensitivity of \"m\" (number of features randomly selected at each split point) over the range of 1 to 57. \n",
    "- Both 1 and 57 are included in this range. This is done purposefully to include the bagging model \"57\" and a degenerate mdoel \"1\". This way, we get a greater diversity the result. "
   ]
  },
  {
   "cell_type": "code",
   "execution_count": 482,
   "metadata": {},
   "outputs": [
    {
     "data": {
      "text/html": [
       "15"
      ],
      "text/latex": [
       "15"
      ],
      "text/markdown": [
       "15"
      ],
      "text/plain": [
       "[1] 15"
      ]
     },
     "metadata": {},
     "output_type": "display_data"
    }
   ],
   "source": [
    "m = seq(1,57,by=4)\n",
    "length(m)"
   ]
  },
  {
   "cell_type": "code",
   "execution_count": 483,
   "metadata": {},
   "outputs": [],
   "source": [
    "m = seq(1,57,by=4)\n",
    "oob_err = c()\n",
    "test_err = c()\n",
    "for (i in 1:length(m)) {\n",
    "    ### fit random forest\n",
    "    rf_spam <- randomForest(type~.,data=spam_train,n.tree=200,mtry=m[i])\n",
    "    ### Making Prediction\n",
    "    rf_spam_pred <- predict(rf_spam,newdata=spam_test,type=\"response\")\n",
    "    ### get test error \n",
    "    current_test_error = MSE(as.numeric(rf_spam_pred),as.numeric(spam_test$type))\n",
    "    test_err[i] = current_test_error\n",
    "    ### get oob error\n",
    "    oob_error = sum(rf_spam$err.rate[,1])/length(rf_spam$err.rate[,1])\n",
    "    oob_err[i] = oob_error\n",
    "\n",
    "} \n"
   ]
  },
  {
   "cell_type": "markdown",
   "metadata": {},
   "source": [
    "## Visualizing errors"
   ]
  },
  {
   "cell_type": "code",
   "execution_count": 484,
   "metadata": {},
   "outputs": [
    {
     "data": {
      "text/html": [
       "<ol class=list-inline>\n",
       "\t<li>0.0920957215373459</li>\n",
       "\t<li>0.0500362581580856</li>\n",
       "\t<li>0.0500362581580856</li>\n",
       "\t<li>0.0529369108049311</li>\n",
       "\t<li>0.0543872371283539</li>\n",
       "\t<li>0.0551124002900653</li>\n",
       "\t<li>0.056562726613488</li>\n",
       "\t<li>0.0572878897751994</li>\n",
       "\t<li>0.0587382160986222</li>\n",
       "\t<li>0.0580130529369108</li>\n",
       "\t<li>0.0580130529369108</li>\n",
       "\t<li>0.0580130529369108</li>\n",
       "\t<li>0.0616388687454677</li>\n",
       "\t<li>0.0572878897751994</li>\n",
       "\t<li>0.060188542422045</li>\n",
       "</ol>\n"
      ],
      "text/latex": [
       "\\begin{enumerate*}\n",
       "\\item 0.0920957215373459\n",
       "\\item 0.0500362581580856\n",
       "\\item 0.0500362581580856\n",
       "\\item 0.0529369108049311\n",
       "\\item 0.0543872371283539\n",
       "\\item 0.0551124002900653\n",
       "\\item 0.056562726613488\n",
       "\\item 0.0572878897751994\n",
       "\\item 0.0587382160986222\n",
       "\\item 0.0580130529369108\n",
       "\\item 0.0580130529369108\n",
       "\\item 0.0580130529369108\n",
       "\\item 0.0616388687454677\n",
       "\\item 0.0572878897751994\n",
       "\\item 0.060188542422045\n",
       "\\end{enumerate*}\n"
      ],
      "text/markdown": [
       "1. 0.0920957215373459\n",
       "2. 0.0500362581580856\n",
       "3. 0.0500362581580856\n",
       "4. 0.0529369108049311\n",
       "5. 0.0543872371283539\n",
       "6. 0.0551124002900653\n",
       "7. 0.056562726613488\n",
       "8. 0.0572878897751994\n",
       "9. 0.0587382160986222\n",
       "10. 0.0580130529369108\n",
       "11. 0.0580130529369108\n",
       "12. 0.0580130529369108\n",
       "13. 0.0616388687454677\n",
       "14. 0.0572878897751994\n",
       "15. 0.060188542422045\n",
       "\n",
       "\n"
      ],
      "text/plain": [
       " [1] 0.09209572 0.05003626 0.05003626 0.05293691 0.05438724 0.05511240\n",
       " [7] 0.05656273 0.05728789 0.05873822 0.05801305 0.05801305 0.05801305\n",
       "[13] 0.06163887 0.05728789 0.06018854"
      ]
     },
     "metadata": {},
     "output_type": "display_data"
    }
   ],
   "source": [
    "test_err\n"
   ]
  },
  {
   "cell_type": "code",
   "execution_count": 485,
   "metadata": {},
   "outputs": [
    {
     "data": {
      "image/png": "[encoded data removed]",
      "text/plain": [
       "Plot with title \"Error vs. Number of Features\""
      ]
     },
     "metadata": {},
     "output_type": "display_data"
    }
   ],
   "source": [
    "options(repr.plot.width=5, repr.plot.height=5)\n",
    "\n",
    "plot(m, test_err, type=\"o\", col=\"blue\", pch=\"o\", lty=1, ylim=c(0,0.1),xlab=\"Number of Features\",ylab=\"Error\",main=\"Error vs. Number of Features\" )\n",
    "points(m, oob_err, col=\"red\", pch=\"*\")\n",
    "lines(m, oob_err, col=\"red\",lty=2)\n",
    "legend(\"top\",legend=c(\"Test Error\",\"Out-of-Bag Error\"), bty=\"n\",col=c(\"blue\",\"red\"),pch=c(\"o\",\"*\"),lty=c(1,2), ncol=1,cex=0.8)\n"
   ]
  },
  {
   "cell_type": "markdown",
   "metadata": {},
   "source": [
    "theoretically, out of bag error should generally be higher than test error.However in this case it's the opposite, the out of bad error is just below the test error. Overall, both error plots follow the same pattern, a drastic dip in the beginning as number of feature increases, until the addtion of more feature does not improve the performance of the algorithm. This can be due to the increase in correlation between trees as number of features increases, leading to error rate going up slightly. "
   ]
  }
 ],
 "metadata": {
  "kernelspec": {
   "display_name": "R",
   "language": "R",
   "name": "ir"
  },
  "language_info": {
   "codemirror_mode": "r",
   "file_extension": ".r",
   "mimetype": "text/x-r-source",
   "name": "R",
   "pygments_lexer": "r",
   "version": "3.6.1"
  }
 },
 "nbformat": 4,
 "nbformat_minor": 2
}
