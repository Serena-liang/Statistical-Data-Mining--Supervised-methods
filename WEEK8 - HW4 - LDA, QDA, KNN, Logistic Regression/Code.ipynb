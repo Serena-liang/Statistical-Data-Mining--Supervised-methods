{
 "cells": [
  {
   "cell_type": "code",
   "execution_count": 1,
   "metadata": {},
   "outputs": [],
   "source": [
    "rm(list=rm())"
   ]
  },
  {
   "cell_type": "code",
   "execution_count": 2,
   "metadata": {},
   "outputs": [],
   "source": [
    "setwd(\"C:/Users/qlian/OneDrive/Desktop/Grad Fall 2020 Courses/EAS 506 Statistical Mining I/WEEK8\")"
   ]
  },
  {
   "cell_type": "markdown",
   "metadata": {},
   "source": [
    "# Question 1\n",
    "\n",
    "1) Consider the Diabetes dataset (posted with assignment). Assume the\n",
    "population prior probabilities are estimated using the relative frequencies of the\n",
    "classes in the data.\n",
    "-  Produce pairwise scatterplots for all five variables, with different symbols or\n",
    "colors representing the three different classes. Do you see any evidence that\n",
    "the classes may have difference covariance matrices? That they may not be\n",
    "multivariate normal?\n",
    "- Apply linear discriminant analysis (LDA) and quadratic discriminant analysis\n",
    "(QDA). How does the performance of QDA compare to that of LDA in this\n",
    "case?\n",
    "- Suppose an individual has (glucose test/intolerence = 68, insulin test =122,\n",
    "SSPG = 544. Relative weight = 1.86, fasting plasma glucose = 184). To\n",
    "which class does LDA assign this individual? To which class does QDA?"
   ]
  },
  {
   "cell_type": "markdown",
   "metadata": {},
   "source": [
    "### Load the data"
   ]
  },
  {
   "cell_type": "code",
   "execution_count": 46,
   "metadata": {},
   "outputs": [],
   "source": [
    "diabetes <- read.csv(\"Diabetes.csv\")"
   ]
  },
  {
   "cell_type": "code",
   "execution_count": 35,
   "metadata": {},
   "outputs": [
    {
     "data": {
      "text/html": [
       "<table>\n",
       "<thead><tr><th scope=col>X</th><th scope=col>relwt</th><th scope=col>glufast</th><th scope=col>glutest</th><th scope=col>instest</th><th scope=col>sspg</th><th scope=col>group</th></tr></thead>\n",
       "<tbody>\n",
       "\t<tr><td>1     </td><td>0.81  </td><td> 80   </td><td>356   </td><td>124   </td><td> 55   </td><td>Normal</td></tr>\n",
       "\t<tr><td>2     </td><td>0.95  </td><td> 97   </td><td>289   </td><td>117   </td><td> 76   </td><td>Normal</td></tr>\n",
       "\t<tr><td>3     </td><td>0.94  </td><td>105   </td><td>319   </td><td>143   </td><td>105   </td><td>Normal</td></tr>\n",
       "\t<tr><td>4     </td><td>1.04  </td><td> 90   </td><td>356   </td><td>199   </td><td>108   </td><td>Normal</td></tr>\n",
       "\t<tr><td>5     </td><td>1.00  </td><td> 90   </td><td>323   </td><td>240   </td><td>143   </td><td>Normal</td></tr>\n",
       "\t<tr><td>6     </td><td>0.76  </td><td> 86   </td><td>381   </td><td>157   </td><td>165   </td><td>Normal</td></tr>\n",
       "</tbody>\n",
       "</table>\n"
      ],
      "text/latex": [
       "\\begin{tabular}{r|lllllll}\n",
       " X & relwt & glufast & glutest & instest & sspg & group\\\\\n",
       "\\hline\n",
       "\t 1      & 0.81   &  80    & 356    & 124    &  55    & Normal\\\\\n",
       "\t 2      & 0.95   &  97    & 289    & 117    &  76    & Normal\\\\\n",
       "\t 3      & 0.94   & 105    & 319    & 143    & 105    & Normal\\\\\n",
       "\t 4      & 1.04   &  90    & 356    & 199    & 108    & Normal\\\\\n",
       "\t 5      & 1.00   &  90    & 323    & 240    & 143    & Normal\\\\\n",
       "\t 6      & 0.76   &  86    & 381    & 157    & 165    & Normal\\\\\n",
       "\\end{tabular}\n"
      ],
      "text/markdown": [
       "\n",
       "| X | relwt | glufast | glutest | instest | sspg | group |\n",
       "|---|---|---|---|---|---|---|\n",
       "| 1      | 0.81   |  80    | 356    | 124    |  55    | Normal |\n",
       "| 2      | 0.95   |  97    | 289    | 117    |  76    | Normal |\n",
       "| 3      | 0.94   | 105    | 319    | 143    | 105    | Normal |\n",
       "| 4      | 1.04   |  90    | 356    | 199    | 108    | Normal |\n",
       "| 5      | 1.00   |  90    | 323    | 240    | 143    | Normal |\n",
       "| 6      | 0.76   |  86    | 381    | 157    | 165    | Normal |\n",
       "\n"
      ],
      "text/plain": [
       "  X relwt glufast glutest instest sspg group \n",
       "1 1 0.81   80     356     124      55  Normal\n",
       "2 2 0.95   97     289     117      76  Normal\n",
       "3 3 0.94  105     319     143     105  Normal\n",
       "4 4 1.04   90     356     199     108  Normal\n",
       "5 5 1.00   90     323     240     143  Normal\n",
       "6 6 0.76   86     381     157     165  Normal"
      ]
     },
     "metadata": {},
     "output_type": "display_data"
    }
   ],
   "source": [
    "head(diabetes)"
   ]
  },
  {
   "cell_type": "markdown",
   "metadata": {},
   "source": [
    "- let's drop the column \"X\" , which is just an indices column"
   ]
  },
  {
   "cell_type": "code",
   "execution_count": 47,
   "metadata": {},
   "outputs": [],
   "source": [
    "diabetes<-diabetes[,-1]"
   ]
  },
  {
   "cell_type": "code",
   "execution_count": 48,
   "metadata": {},
   "outputs": [
    {
     "data": {
      "text/html": [
       "<ol class=list-inline>\n",
       "\t<li>145</li>\n",
       "\t<li>6</li>\n",
       "</ol>\n"
      ],
      "text/latex": [
       "\\begin{enumerate*}\n",
       "\\item 145\n",
       "\\item 6\n",
       "\\end{enumerate*}\n"
      ],
      "text/markdown": [
       "1. 145\n",
       "2. 6\n",
       "\n",
       "\n"
      ],
      "text/plain": [
       "[1] 145   6"
      ]
     },
     "metadata": {},
     "output_type": "display_data"
    }
   ],
   "source": [
    "dim(diabetes)"
   ]
  },
  {
   "cell_type": "code",
   "execution_count": 39,
   "metadata": {},
   "outputs": [
    {
     "data": {
      "text/html": [
       "<dl class=dl-horizontal>\n",
       "\t<dt>X</dt>\n",
       "\t\t<dd>0</dd>\n",
       "\t<dt>relwt</dt>\n",
       "\t\t<dd>0</dd>\n",
       "\t<dt>glufast</dt>\n",
       "\t\t<dd>0</dd>\n",
       "\t<dt>glutest</dt>\n",
       "\t\t<dd>0</dd>\n",
       "\t<dt>instest</dt>\n",
       "\t\t<dd>0</dd>\n",
       "\t<dt>sspg</dt>\n",
       "\t\t<dd>0</dd>\n",
       "\t<dt>group</dt>\n",
       "\t\t<dd>0</dd>\n",
       "</dl>\n"
      ],
      "text/latex": [
       "\\begin{description*}\n",
       "\\item[X] 0\n",
       "\\item[relwt] 0\n",
       "\\item[glufast] 0\n",
       "\\item[glutest] 0\n",
       "\\item[instest] 0\n",
       "\\item[sspg] 0\n",
       "\\item[group] 0\n",
       "\\end{description*}\n"
      ],
      "text/markdown": [
       "X\n",
       ":   0relwt\n",
       ":   0glufast\n",
       ":   0glutest\n",
       ":   0instest\n",
       ":   0sspg\n",
       ":   0group\n",
       ":   0\n",
       "\n"
      ],
      "text/plain": [
       "      X   relwt glufast glutest instest    sspg   group \n",
       "      0       0       0       0       0       0       0 "
      ]
     },
     "metadata": {},
     "output_type": "display_data"
    }
   ],
   "source": [
    "colSums(is.na(diabetes))"
   ]
  },
  {
   "cell_type": "code",
   "execution_count": 40,
   "metadata": {},
   "outputs": [
    {
     "name": "stdout",
     "output_type": "stream",
     "text": [
      " Factor w/ 3 levels \"Chemical_Diabetic\",..: 2 2 2 2 2 2 2 2 2 2 ...\n"
     ]
    }
   ],
   "source": [
    "str(diabetes$group)"
   ]
  },
  {
   "cell_type": "code",
   "execution_count": 42,
   "metadata": {},
   "outputs": [
    {
     "data": {
      "text/html": [
       "<ol class=list-inline>\n",
       "\t<li>Normal</li>\n",
       "\t<li>Chemical_Diabetic</li>\n",
       "\t<li>Overt_Diabetic</li>\n",
       "</ol>\n",
       "\n",
       "<details>\n",
       "\t<summary style=display:list-item;cursor:pointer>\n",
       "\t\t<strong>Levels</strong>:\n",
       "\t</summary>\n",
       "\t<ol class=list-inline>\n",
       "\t\t<li>'Chemical_Diabetic'</li>\n",
       "\t\t<li>'Normal'</li>\n",
       "\t\t<li>'Overt_Diabetic'</li>\n",
       "\t</ol>\n",
       "</details>"
      ],
      "text/latex": [
       "\\begin{enumerate*}\n",
       "\\item Normal\n",
       "\\item Chemical\\_Diabetic\n",
       "\\item Overt\\_Diabetic\n",
       "\\end{enumerate*}\n",
       "\n",
       "\\emph{Levels}: \\begin{enumerate*}\n",
       "\\item 'Chemical\\_Diabetic'\n",
       "\\item 'Normal'\n",
       "\\item 'Overt\\_Diabetic'\n",
       "\\end{enumerate*}\n"
      ],
      "text/markdown": [
       "1. Normal\n",
       "2. Chemical_Diabetic\n",
       "3. Overt_Diabetic\n",
       "\n",
       "\n",
       "\n",
       "**Levels**: 1. 'Chemical_Diabetic'\n",
       "2. 'Normal'\n",
       "3. 'Overt_Diabetic'\n",
       "\n",
       "\n"
      ],
      "text/plain": [
       "[1] Normal            Chemical_Diabetic Overt_Diabetic   \n",
       "Levels: Chemical_Diabetic Normal Overt_Diabetic"
      ]
     },
     "metadata": {},
     "output_type": "display_data"
    }
   ],
   "source": [
    "unique(diabetes$group)"
   ]
  },
  {
   "cell_type": "markdown",
   "metadata": {},
   "source": [
    "- we have three categories"
   ]
  },
  {
   "cell_type": "markdown",
   "metadata": {},
   "source": [
    "## Question 1a\n",
    "-  Produce pairwise scatterplots for all five variables, with different symbols or\n",
    "colors representing the three different classes. Do you see any evidence that\n",
    "the classes may have difference covariance matrices? That they may not be\n",
    "multivariate normal?"
   ]
  },
  {
   "cell_type": "code",
   "execution_count": null,
   "metadata": {},
   "outputs": [],
   "source": [
    "## library(psych)\n"
   ]
  },
  {
   "cell_type": "code",
   "execution_count": 108,
   "metadata": {},
   "outputs": [
    {
     "data": {
      "image/png": "[encoded data removed]",
      "text/plain": [
       "plot without title"
      ]
     },
     "metadata": {},
     "output_type": "display_data"
    }
   ],
   "source": [
    "pairs.panels(diabetes[,-6], \n",
    "             hist.col = \"#00AFBB\",\n",
    "             density = TRUE,  # show density plots\n",
    "             ellipses = TRUE, # show correlation ellipses\n",
    "             col = diabetes$group,\n",
    "             bg=c(\"red\",\"yellow\",\"blue\")[diabetes$group],\n",
    "             pch=21\n",
    "             )"
   ]
  },
  {
   "cell_type": "markdown",
   "metadata": {},
   "source": [
    "- strong correlation between \"glufast\" and \"glutest\" \n",
    "- strong correlation between \"sspg\" and \"glufast\" \n",
    "- strong correlation between \"sspg\" and \"glutest\""
   ]
  },
  {
   "cell_type": "markdown",
   "metadata": {},
   "source": [
    "#### Normality\n",
    "- By looking at the pair-wise plot above, we can see the univariate distribution of each variable, and bivariate distribution between each pair of variable:\n",
    "    - univariate: first thing first we can see that \"glufast\", \"glutest\", \"intest\" are quite right skewed,  maybe we can do something about that later!\n",
    "    - bivariate: a perfect bivariate normality between two variable would be a circular cloud, we don't really see that most pairs, maybe in \"relwt\"vs.\"sspg\"\n"
   ]
  },
  {
   "cell_type": "markdown",
   "metadata": {},
   "source": [
    "### Goodness of fit test for multivariate normality "
   ]
  },
  {
   "cell_type": "code",
   "execution_count": 558,
   "metadata": {},
   "outputs": [],
   "source": [
    "# install.packages('MVN')\n",
    "# library(MVN)"
   ]
  },
  {
   "cell_type": "code",
   "execution_count": 81,
   "metadata": {},
   "outputs": [
    {
     "data": {
      "text/html": [
       "'data.frame'"
      ],
      "text/latex": [
       "'data.frame'"
      ],
      "text/markdown": [
       "'data.frame'"
      ],
      "text/plain": [
       "[1] \"data.frame\""
      ]
     },
     "metadata": {},
     "output_type": "display_data"
    }
   ],
   "source": [
    "as.numeric((diabetes[,-7])"
   ]
  },
  {
   "cell_type": "code",
   "execution_count": 99,
   "metadata": {},
   "outputs": [],
   "source": [
    "mardia <- mvn(data = diabetes[,1:5], mvnTest = \"mardia\")"
   ]
  },
  {
   "cell_type": "code",
   "execution_count": 101,
   "metadata": {},
   "outputs": [
    {
     "data": {
      "text/html": [
       "<table>\n",
       "<thead><tr><th scope=col>Test</th><th scope=col>Statistic</th><th scope=col>p value</th><th scope=col>Result</th></tr></thead>\n",
       "<tbody>\n",
       "\t<tr><td>Mardia Skewness     </td><td>402.412745893203    </td><td>5.38979452469584e-64</td><td>NO                  </td></tr>\n",
       "\t<tr><td>Mardia Kurtosis     </td><td>11.647662518592     </td><td>0                   </td><td>NO                  </td></tr>\n",
       "\t<tr><td>MVN                 </td><td>NA                  </td><td>NA                  </td><td>NO                  </td></tr>\n",
       "</tbody>\n",
       "</table>\n"
      ],
      "text/latex": [
       "\\begin{tabular}{r|llll}\n",
       " Test & Statistic & p value & Result\\\\\n",
       "\\hline\n",
       "\t Mardia Skewness      & 402.412745893203     & 5.38979452469584e-64 & NO                  \\\\\n",
       "\t Mardia Kurtosis      & 11.647662518592      & 0                    & NO                  \\\\\n",
       "\t MVN                  & NA                   & NA                   & NO                  \\\\\n",
       "\\end{tabular}\n"
      ],
      "text/markdown": [
       "\n",
       "| Test | Statistic | p value | Result |\n",
       "|---|---|---|---|\n",
       "| Mardia Skewness      | 402.412745893203     | 5.38979452469584e-64 | NO                   |\n",
       "| Mardia Kurtosis      | 11.647662518592      | 0                    | NO                   |\n",
       "| MVN                  | NA                   | NA                   | NO                   |\n",
       "\n"
      ],
      "text/plain": [
       "  Test            Statistic        p value              Result\n",
       "1 Mardia Skewness 402.412745893203 5.38979452469584e-64 NO    \n",
       "2 Mardia Kurtosis 11.647662518592  0                    NO    \n",
       "3 MVN             NA               NA                   NO    "
      ]
     },
     "metadata": {},
     "output_type": "display_data"
    }
   ],
   "source": [
    "mardia$multivariateNormality"
   ]
  },
  {
   "cell_type": "markdown",
   "metadata": {},
   "source": [
    "- the mardia test resulted in a high skewness and kurtosis values for multivariate normality test\n",
    "- let's transform our data and try to force it into a \"normal distribution\""
   ]
  },
  {
   "cell_type": "markdown",
   "metadata": {},
   "source": [
    "#### Feature Transformation"
   ]
  },
  {
   "cell_type": "code",
   "execution_count": 142,
   "metadata": {},
   "outputs": [
    {
     "data": {
      "text/html": [
       "<ol class=list-inline>\n",
       "\t<li>'relwt'</li>\n",
       "\t<li>'glufast'</li>\n",
       "\t<li>'glutest'</li>\n",
       "\t<li>'instest'</li>\n",
       "\t<li>'sspg'</li>\n",
       "\t<li>'group'</li>\n",
       "</ol>\n"
      ],
      "text/latex": [
       "\\begin{enumerate*}\n",
       "\\item 'relwt'\n",
       "\\item 'glufast'\n",
       "\\item 'glutest'\n",
       "\\item 'instest'\n",
       "\\item 'sspg'\n",
       "\\item 'group'\n",
       "\\end{enumerate*}\n"
      ],
      "text/markdown": [
       "1. 'relwt'\n",
       "2. 'glufast'\n",
       "3. 'glutest'\n",
       "4. 'instest'\n",
       "5. 'sspg'\n",
       "6. 'group'\n",
       "\n",
       "\n"
      ],
      "text/plain": [
       "[1] \"relwt\"   \"glufast\" \"glutest\" \"instest\" \"sspg\"    \"group\"  "
      ]
     },
     "metadata": {},
     "output_type": "display_data"
    }
   ],
   "source": [
    "names(diabetes)"
   ]
  },
  {
   "cell_type": "code",
   "execution_count": 161,
   "metadata": {},
   "outputs": [],
   "source": [
    "log_glufast = log(diabetes$glufast+5)\n",
    "log_glutest = log(diabetes$glutest+5)\n",
    "log_instest = log(diabetes$instest+5)\n",
    "log_sspg = log(diabetes$sspg+5)\n",
    "relwt = diabetes$relwt\n",
    "group = diabetes$group"
   ]
  },
  {
   "cell_type": "code",
   "execution_count": 164,
   "metadata": {},
   "outputs": [
    {
     "data": {
      "text/html": [
       "<ol class=list-inline>\n",
       "\t<li>Normal</li>\n",
       "\t<li>Normal</li>\n",
       "\t<li>Normal</li>\n",
       "\t<li>Normal</li>\n",
       "\t<li>Normal</li>\n",
       "\t<li>Normal</li>\n",
       "</ol>\n",
       "\n",
       "<details>\n",
       "\t<summary style=display:list-item;cursor:pointer>\n",
       "\t\t<strong>Levels</strong>:\n",
       "\t</summary>\n",
       "\t<ol class=list-inline>\n",
       "\t\t<li>'Chemical_Diabetic'</li>\n",
       "\t\t<li>'Normal'</li>\n",
       "\t\t<li>'Overt_Diabetic'</li>\n",
       "\t</ol>\n",
       "</details>"
      ],
      "text/latex": [
       "\\begin{enumerate*}\n",
       "\\item Normal\n",
       "\\item Normal\n",
       "\\item Normal\n",
       "\\item Normal\n",
       "\\item Normal\n",
       "\\item Normal\n",
       "\\end{enumerate*}\n",
       "\n",
       "\\emph{Levels}: \\begin{enumerate*}\n",
       "\\item 'Chemical\\_Diabetic'\n",
       "\\item 'Normal'\n",
       "\\item 'Overt\\_Diabetic'\n",
       "\\end{enumerate*}\n"
      ],
      "text/markdown": [
       "1. Normal\n",
       "2. Normal\n",
       "3. Normal\n",
       "4. Normal\n",
       "5. Normal\n",
       "6. Normal\n",
       "\n",
       "\n",
       "\n",
       "**Levels**: 1. 'Chemical_Diabetic'\n",
       "2. 'Normal'\n",
       "3. 'Overt_Diabetic'\n",
       "\n",
       "\n"
      ],
      "text/plain": [
       "[1] Normal Normal Normal Normal Normal Normal\n",
       "Levels: Chemical_Diabetic Normal Overt_Diabetic"
      ]
     },
     "metadata": {},
     "output_type": "display_data"
    }
   ],
   "source": [
    "head(group)"
   ]
  },
  {
   "cell_type": "code",
   "execution_count": 168,
   "metadata": {},
   "outputs": [],
   "source": [
    "new <- cbind.data.frame(relwt,log_glufast,log_glutest,log_instest,log_sspg,group)"
   ]
  },
  {
   "cell_type": "code",
   "execution_count": 169,
   "metadata": {},
   "outputs": [
    {
     "data": {
      "text/html": [
       "<table>\n",
       "<thead><tr><th scope=col>relwt</th><th scope=col>log_glufast</th><th scope=col>log_glutest</th><th scope=col>log_instest</th><th scope=col>log_sspg</th><th scope=col>group</th></tr></thead>\n",
       "<tbody>\n",
       "\t<tr><td>0.81    </td><td>4.442651</td><td>5.888878</td><td>4.859812</td><td>4.094345</td><td>Normal  </td></tr>\n",
       "\t<tr><td>0.95    </td><td>4.624973</td><td>5.683580</td><td>4.804021</td><td>4.394449</td><td>Normal  </td></tr>\n",
       "\t<tr><td>0.94    </td><td>4.700480</td><td>5.780744</td><td>4.997212</td><td>4.700480</td><td>Normal  </td></tr>\n",
       "\t<tr><td>1.04    </td><td>4.553877</td><td>5.888878</td><td>5.318120</td><td>4.727388</td><td>Normal  </td></tr>\n",
       "\t<tr><td>1.00    </td><td>4.553877</td><td>5.793014</td><td>5.501258</td><td>4.997212</td><td>Normal  </td></tr>\n",
       "\t<tr><td>0.76    </td><td>4.510860</td><td>5.955837</td><td>5.087596</td><td>5.135798</td><td>Normal  </td></tr>\n",
       "</tbody>\n",
       "</table>\n"
      ],
      "text/latex": [
       "\\begin{tabular}{r|llllll}\n",
       " relwt & log\\_glufast & log\\_glutest & log\\_instest & log\\_sspg & group\\\\\n",
       "\\hline\n",
       "\t 0.81     & 4.442651 & 5.888878 & 4.859812 & 4.094345 & Normal  \\\\\n",
       "\t 0.95     & 4.624973 & 5.683580 & 4.804021 & 4.394449 & Normal  \\\\\n",
       "\t 0.94     & 4.700480 & 5.780744 & 4.997212 & 4.700480 & Normal  \\\\\n",
       "\t 1.04     & 4.553877 & 5.888878 & 5.318120 & 4.727388 & Normal  \\\\\n",
       "\t 1.00     & 4.553877 & 5.793014 & 5.501258 & 4.997212 & Normal  \\\\\n",
       "\t 0.76     & 4.510860 & 5.955837 & 5.087596 & 5.135798 & Normal  \\\\\n",
       "\\end{tabular}\n"
      ],
      "text/markdown": [
       "\n",
       "| relwt | log_glufast | log_glutest | log_instest | log_sspg | group |\n",
       "|---|---|---|---|---|---|\n",
       "| 0.81     | 4.442651 | 5.888878 | 4.859812 | 4.094345 | Normal   |\n",
       "| 0.95     | 4.624973 | 5.683580 | 4.804021 | 4.394449 | Normal   |\n",
       "| 0.94     | 4.700480 | 5.780744 | 4.997212 | 4.700480 | Normal   |\n",
       "| 1.04     | 4.553877 | 5.888878 | 5.318120 | 4.727388 | Normal   |\n",
       "| 1.00     | 4.553877 | 5.793014 | 5.501258 | 4.997212 | Normal   |\n",
       "| 0.76     | 4.510860 | 5.955837 | 5.087596 | 5.135798 | Normal   |\n",
       "\n"
      ],
      "text/plain": [
       "  relwt log_glufast log_glutest log_instest log_sspg group \n",
       "1 0.81  4.442651    5.888878    4.859812    4.094345 Normal\n",
       "2 0.95  4.624973    5.683580    4.804021    4.394449 Normal\n",
       "3 0.94  4.700480    5.780744    4.997212    4.700480 Normal\n",
       "4 1.04  4.553877    5.888878    5.318120    4.727388 Normal\n",
       "5 1.00  4.553877    5.793014    5.501258    4.997212 Normal\n",
       "6 0.76  4.510860    5.955837    5.087596    5.135798 Normal"
      ]
     },
     "metadata": {},
     "output_type": "display_data"
    }
   ],
   "source": [
    "head(new)"
   ]
  },
  {
   "cell_type": "markdown",
   "metadata": {},
   "source": [
    "#### Let's check normality again"
   ]
  },
  {
   "cell_type": "code",
   "execution_count": 152,
   "metadata": {},
   "outputs": [
    {
     "data": {
      "image/png": "[encoded data removed]",
      "text/plain": [
       "plot without title"
      ]
     },
     "metadata": {},
     "output_type": "display_data"
    }
   ],
   "source": [
    "pairs.panels(new, \n",
    "             hist.col = \"#00AFBB\",\n",
    "             density = TRUE,  # show density plots\n",
    "             ellipses = TRUE, # show correlation ellipses\n",
    "             col = diabetes$group,\n",
    "             bg=c(\"red\",\"yellow\",\"blue\")[diabetes$group],\n",
    "             pch=21\n",
    "             )"
   ]
  },
  {
   "cell_type": "code",
   "execution_count": 156,
   "metadata": {},
   "outputs": [],
   "source": [
    "mardia_new <- mvn(data = new, mvnTest = \"mardia\")"
   ]
  },
  {
   "cell_type": "code",
   "execution_count": 158,
   "metadata": {},
   "outputs": [
    {
     "data": {
      "text/html": [
       "<table>\n",
       "<thead><tr><th scope=col>Test</th><th scope=col>Statistic</th><th scope=col>p value</th><th scope=col>Result</th></tr></thead>\n",
       "<tbody>\n",
       "\t<tr><td>Mardia Skewness     </td><td>125.302837275659    </td><td>4.33627223238337e-12</td><td>NO                  </td></tr>\n",
       "\t<tr><td>Mardia Kurtosis     </td><td>0.70376259018959    </td><td>0.481580634515705   </td><td>YES                 </td></tr>\n",
       "\t<tr><td>MVN                 </td><td>NA                  </td><td>NA                  </td><td>NO                  </td></tr>\n",
       "</tbody>\n",
       "</table>\n"
      ],
      "text/latex": [
       "\\begin{tabular}{r|llll}\n",
       " Test & Statistic & p value & Result\\\\\n",
       "\\hline\n",
       "\t Mardia Skewness      & 125.302837275659     & 4.33627223238337e-12 & NO                  \\\\\n",
       "\t Mardia Kurtosis      & 0.70376259018959     & 0.481580634515705    & YES                 \\\\\n",
       "\t MVN                  & NA                   & NA                   & NO                  \\\\\n",
       "\\end{tabular}\n"
      ],
      "text/markdown": [
       "\n",
       "| Test | Statistic | p value | Result |\n",
       "|---|---|---|---|\n",
       "| Mardia Skewness      | 125.302837275659     | 4.33627223238337e-12 | NO                   |\n",
       "| Mardia Kurtosis      | 0.70376259018959     | 0.481580634515705    | YES                  |\n",
       "| MVN                  | NA                   | NA                   | NO                   |\n",
       "\n"
      ],
      "text/plain": [
       "  Test            Statistic        p value              Result\n",
       "1 Mardia Skewness 125.302837275659 4.33627223238337e-12 NO    \n",
       "2 Mardia Kurtosis 0.70376259018959 0.481580634515705    YES   \n",
       "3 MVN             NA               NA                   NO    "
      ]
     },
     "metadata": {},
     "output_type": "display_data"
    }
   ],
   "source": [
    "mardia_new$multivariateNormality"
   ]
  },
  {
   "cell_type": "markdown",
   "metadata": {},
   "source": [
    "- slightly better than before, however not ideal!"
   ]
  },
  {
   "cell_type": "markdown",
   "metadata": {},
   "source": [
    "## Question 1b\n",
    "- Apply linear discriminant analysis (LDA) and quadratic discriminant analysis\n",
    "(QDA). How does the performance of QDA compare to that of LDA in this\n",
    "case?\n"
   ]
  },
  {
   "cell_type": "markdown",
   "metadata": {},
   "source": [
    "### Train test split\n",
    "- since we only have 145 datapoints, let's do a 1/3 and 2/3 split, so we can ensure that we have enough for testing\n",
    "- before we split the data, we should check if there's an imbalance in the dataset, if there is we should consider stratified splitting to avoid an unfortunate split. (Although, in a dataset this small, stratified splitting is a good idea regardless!)"
   ]
  },
  {
   "cell_type": "code",
   "execution_count": 66,
   "metadata": {},
   "outputs": [
    {
     "data": {
      "text/html": [
       "<dl class=dl-horizontal>\n",
       "\t<dt>Chemical_Diabetic</dt>\n",
       "\t\t<dd>36</dd>\n",
       "\t<dt>Normal</dt>\n",
       "\t\t<dd>76</dd>\n",
       "\t<dt>Overt_Diabetic</dt>\n",
       "\t\t<dd>33</dd>\n",
       "</dl>\n"
      ],
      "text/latex": [
       "\\begin{description*}\n",
       "\\item[Chemical\\textbackslash{}\\_Diabetic] 36\n",
       "\\item[Normal] 76\n",
       "\\item[Overt\\textbackslash{}\\_Diabetic] 33\n",
       "\\end{description*}\n"
      ],
      "text/markdown": [
       "Chemical_Diabetic\n",
       ":   36Normal\n",
       ":   76Overt_Diabetic\n",
       ":   33\n",
       "\n"
      ],
      "text/plain": [
       "Chemical_Diabetic            Normal    Overt_Diabetic \n",
       "               36                76                33 "
      ]
     },
     "metadata": {},
     "output_type": "display_data"
    }
   ],
   "source": [
    "summary(diabetes$group)"
   ]
  },
  {
   "cell_type": "markdown",
   "metadata": {},
   "source": [
    "- we can see that class \"Normal\" has slightly twice as many data points than the other two categories, more reason to perform stratified splitting!"
   ]
  },
  {
   "cell_type": "code",
   "execution_count": 170,
   "metadata": {},
   "outputs": [],
   "source": [
    "chemical <- new[diabetes$group==\"Chemical_Diabetic\",]\n",
    "normal <- new[diabetes$group==\"Normal\",]\n",
    "overt <- new[diabetes$group==\"Overt_Diabetic\",]"
   ]
  },
  {
   "cell_type": "code",
   "execution_count": 171,
   "metadata": {},
   "outputs": [],
   "source": [
    "set.seed(479284732)"
   ]
  },
  {
   "cell_type": "code",
   "execution_count": 172,
   "metadata": {},
   "outputs": [],
   "source": [
    "indi_chemical <- sample(1:nrow(chemical), nrow(chemical)*(2/3))\n",
    "indi_normal <- sample(1:nrow(normal), nrow(normal)*(2/3))\n",
    "indi_overt <- sample(1:nrow(overt), nrow(overt)*(2/3))\n"
   ]
  },
  {
   "cell_type": "code",
   "execution_count": 173,
   "metadata": {},
   "outputs": [],
   "source": [
    "diabetes_train<- rbind(chemical[indi_chemical,], normal[indi_normal,], overt[indi_overt,])\n",
    "diabetes_test<- rbind(chemical[-indi_chemical,], normal[-indi_normal,], overt[-indi_overt,])"
   ]
  },
  {
   "cell_type": "code",
   "execution_count": 174,
   "metadata": {},
   "outputs": [
    {
     "data": {
      "text/html": [
       "<ol class=list-inline>\n",
       "\t<li>96</li>\n",
       "\t<li>6</li>\n",
       "</ol>\n"
      ],
      "text/latex": [
       "\\begin{enumerate*}\n",
       "\\item 96\n",
       "\\item 6\n",
       "\\end{enumerate*}\n"
      ],
      "text/markdown": [
       "1. 96\n",
       "2. 6\n",
       "\n",
       "\n"
      ],
      "text/plain": [
       "[1] 96  6"
      ]
     },
     "metadata": {},
     "output_type": "display_data"
    },
    {
     "data": {
      "text/html": [
       "<ol class=list-inline>\n",
       "\t<li>49</li>\n",
       "\t<li>6</li>\n",
       "</ol>\n"
      ],
      "text/latex": [
       "\\begin{enumerate*}\n",
       "\\item 49\n",
       "\\item 6\n",
       "\\end{enumerate*}\n"
      ],
      "text/markdown": [
       "1. 49\n",
       "2. 6\n",
       "\n",
       "\n"
      ],
      "text/plain": [
       "[1] 49  6"
      ]
     },
     "metadata": {},
     "output_type": "display_data"
    }
   ],
   "source": [
    "dim(diabetes_train)\n",
    "dim(diabetes_test)"
   ]
  },
  {
   "cell_type": "code",
   "execution_count": 178,
   "metadata": {},
   "outputs": [
    {
     "data": {
      "text/html": [
       "<dl class=dl-horizontal>\n",
       "\t<dt>Chemical_Diabetic</dt>\n",
       "\t\t<dd>24</dd>\n",
       "\t<dt>Normal</dt>\n",
       "\t\t<dd>50</dd>\n",
       "\t<dt>Overt_Diabetic</dt>\n",
       "\t\t<dd>22</dd>\n",
       "</dl>\n"
      ],
      "text/latex": [
       "\\begin{description*}\n",
       "\\item[Chemical\\textbackslash{}\\_Diabetic] 24\n",
       "\\item[Normal] 50\n",
       "\\item[Overt\\textbackslash{}\\_Diabetic] 22\n",
       "\\end{description*}\n"
      ],
      "text/markdown": [
       "Chemical_Diabetic\n",
       ":   24Normal\n",
       ":   50Overt_Diabetic\n",
       ":   22\n",
       "\n"
      ],
      "text/plain": [
       "Chemical_Diabetic            Normal    Overt_Diabetic \n",
       "               24                50                22 "
      ]
     },
     "metadata": {},
     "output_type": "display_data"
    }
   ],
   "source": [
    "summary(diabetes_train$group)"
   ]
  },
  {
   "cell_type": "code",
   "execution_count": 177,
   "metadata": {},
   "outputs": [
    {
     "data": {
      "text/html": [
       "<dl class=dl-horizontal>\n",
       "\t<dt>Chemical_Diabetic</dt>\n",
       "\t\t<dd>12</dd>\n",
       "\t<dt>Normal</dt>\n",
       "\t\t<dd>26</dd>\n",
       "\t<dt>Overt_Diabetic</dt>\n",
       "\t\t<dd>11</dd>\n",
       "</dl>\n"
      ],
      "text/latex": [
       "\\begin{description*}\n",
       "\\item[Chemical\\textbackslash{}\\_Diabetic] 12\n",
       "\\item[Normal] 26\n",
       "\\item[Overt\\textbackslash{}\\_Diabetic] 11\n",
       "\\end{description*}\n"
      ],
      "text/markdown": [
       "Chemical_Diabetic\n",
       ":   12Normal\n",
       ":   26Overt_Diabetic\n",
       ":   11\n",
       "\n"
      ],
      "text/plain": [
       "Chemical_Diabetic            Normal    Overt_Diabetic \n",
       "               12                26                11 "
      ]
     },
     "metadata": {},
     "output_type": "display_data"
    }
   ],
   "source": [
    "summary(diabetes_test$group)"
   ]
  },
  {
   "cell_type": "markdown",
   "metadata": {},
   "source": [
    "Voila! we retained the ratio of classes in both sets"
   ]
  },
  {
   "cell_type": "markdown",
   "metadata": {},
   "source": [
    "### Linear Discriminant Analysis (LDA)"
   ]
  },
  {
   "cell_type": "code",
   "execution_count": 557,
   "metadata": {},
   "outputs": [],
   "source": [
    "# library(MASS)\n",
    "# library(caret)"
   ]
  },
  {
   "cell_type": "code",
   "execution_count": 181,
   "metadata": {},
   "outputs": [],
   "source": [
    "lda_fit = lda(group~.,data=diabetes_train)"
   ]
  },
  {
   "cell_type": "code",
   "execution_count": 182,
   "metadata": {},
   "outputs": [
    {
     "data": {
      "text/plain": [
       "Call:\n",
       "lda(group ~ ., data = diabetes_train)\n",
       "\n",
       "Prior probabilities of groups:\n",
       "Chemical_Diabetic            Normal    Overt_Diabetic \n",
       "        0.2500000         0.5208333         0.2291667 \n",
       "\n",
       "Group means:\n",
       "                      relwt log_glufast log_glutest log_instest log_sspg\n",
       "Chemical_Diabetic 1.0854167    4.632261    6.197395    5.525188 5.328835\n",
       "Normal            0.9378000    4.557081    5.862832    5.095112 4.683200\n",
       "Overt_Diabetic    0.9868182    5.364782    6.905421    4.459041 5.733872\n",
       "\n",
       "Coefficients of linear discriminants:\n",
       "                   LD1        LD2\n",
       "relwt        1.3873107  4.1102565\n",
       "log_glufast -0.8867316 -6.5104937\n",
       "log_glutest  6.4987563  4.6532668\n",
       "log_instest  0.4754850  0.3981816\n",
       "log_sspg     0.1505448  0.1377024\n",
       "\n",
       "Proportion of trace:\n",
       "   LD1    LD2 \n",
       "0.8805 0.1195 "
      ]
     },
     "metadata": {},
     "output_type": "display_data"
    }
   ],
   "source": [
    "lda_fit"
   ]
  },
  {
   "cell_type": "code",
   "execution_count": 183,
   "metadata": {},
   "outputs": [],
   "source": [
    "lda_pred_train <-predict(lda_fit,newdata=diabetes_train)"
   ]
  },
  {
   "cell_type": "code",
   "execution_count": 203,
   "metadata": {},
   "outputs": [],
   "source": [
    "y_train_pred_lda <- lda_pred_train$class"
   ]
  },
  {
   "cell_type": "code",
   "execution_count": 204,
   "metadata": {},
   "outputs": [],
   "source": [
    "lda_cm_train <- confusionMatrix(as.factor(y_train_pred_lda),as.factor(diabetes_train$group))"
   ]
  },
  {
   "cell_type": "code",
   "execution_count": 190,
   "metadata": {},
   "outputs": [
    {
     "data": {
      "text/plain": [
       "Confusion Matrix and Statistics\n",
       "\n",
       "                   Reference\n",
       "Prediction          Chemical_Diabetic Normal Overt_Diabetic\n",
       "  Chemical_Diabetic                22      2              5\n",
       "  Normal                            2     48              0\n",
       "  Overt_Diabetic                    0      0             17\n",
       "\n",
       "Overall Statistics\n",
       "                                          \n",
       "               Accuracy : 0.9062          \n",
       "                 95% CI : (0.8295, 0.9562)\n",
       "    No Information Rate : 0.5208          \n",
       "    P-Value [Acc > NIR] : 4.369e-16       \n",
       "                                          \n",
       "                  Kappa : 0.847           \n",
       "                                          \n",
       " Mcnemar's Test P-Value : NA              \n",
       "\n",
       "Statistics by Class:\n",
       "\n",
       "                     Class: Chemical_Diabetic Class: Normal\n",
       "Sensitivity                            0.9167        0.9600\n",
       "Specificity                            0.9028        0.9565\n",
       "Pos Pred Value                         0.7586        0.9600\n",
       "Neg Pred Value                         0.9701        0.9565\n",
       "Prevalence                             0.2500        0.5208\n",
       "Detection Rate                         0.2292        0.5000\n",
       "Detection Prevalence                   0.3021        0.5208\n",
       "Balanced Accuracy                      0.9097        0.9583\n",
       "                     Class: Overt_Diabetic\n",
       "Sensitivity                         0.7727\n",
       "Specificity                         1.0000\n",
       "Pos Pred Value                      1.0000\n",
       "Neg Pred Value                      0.9367\n",
       "Prevalence                          0.2292\n",
       "Detection Rate                      0.1771\n",
       "Detection Prevalence                0.1771\n",
       "Balanced Accuracy                   0.8864"
      ]
     },
     "metadata": {},
     "output_type": "display_data"
    }
   ],
   "source": [
    "lda_cm_train"
   ]
  },
  {
   "cell_type": "code",
   "execution_count": 191,
   "metadata": {},
   "outputs": [],
   "source": [
    "lda_pred_test <-predict(lda_fit,newdata=diabetes_test)"
   ]
  },
  {
   "cell_type": "code",
   "execution_count": 200,
   "metadata": {},
   "outputs": [],
   "source": [
    "y_test_pred_lda <- lda_pred_test$class"
   ]
  },
  {
   "cell_type": "code",
   "execution_count": 201,
   "metadata": {},
   "outputs": [],
   "source": [
    "lda_cm_test <- confusionMatrix(as.factor(y_test_pred_lda),as.factor(diabetes_test$group))"
   ]
  },
  {
   "cell_type": "code",
   "execution_count": 202,
   "metadata": {},
   "outputs": [
    {
     "data": {
      "text/plain": [
       "Confusion Matrix and Statistics\n",
       "\n",
       "                   Reference\n",
       "Prediction          Chemical_Diabetic Normal Overt_Diabetic\n",
       "  Chemical_Diabetic                12      2              2\n",
       "  Normal                            0     24              0\n",
       "  Overt_Diabetic                    0      0              9\n",
       "\n",
       "Overall Statistics\n",
       "                                         \n",
       "               Accuracy : 0.9184         \n",
       "                 95% CI : (0.804, 0.9773)\n",
       "    No Information Rate : 0.5306         \n",
       "    P-Value [Acc > NIR] : 4.686e-09      \n",
       "                                         \n",
       "                  Kappa : 0.8681         \n",
       "                                         \n",
       " Mcnemar's Test P-Value : NA             \n",
       "\n",
       "Statistics by Class:\n",
       "\n",
       "                     Class: Chemical_Diabetic Class: Normal\n",
       "Sensitivity                            1.0000        0.9231\n",
       "Specificity                            0.8919        1.0000\n",
       "Pos Pred Value                         0.7500        1.0000\n",
       "Neg Pred Value                         1.0000        0.9200\n",
       "Prevalence                             0.2449        0.5306\n",
       "Detection Rate                         0.2449        0.4898\n",
       "Detection Prevalence                   0.3265        0.4898\n",
       "Balanced Accuracy                      0.9459        0.9615\n",
       "                     Class: Overt_Diabetic\n",
       "Sensitivity                         0.8182\n",
       "Specificity                         1.0000\n",
       "Pos Pred Value                      1.0000\n",
       "Neg Pred Value                      0.9500\n",
       "Prevalence                          0.2245\n",
       "Detection Rate                      0.1837\n",
       "Detection Prevalence                0.1837\n",
       "Balanced Accuracy                   0.9091"
      ]
     },
     "metadata": {},
     "output_type": "display_data"
    }
   ],
   "source": [
    "lda_cm_test"
   ]
  },
  {
   "cell_type": "markdown",
   "metadata": {},
   "source": [
    "### Quadratic Discriminant Analysis (QDA)"
   ]
  },
  {
   "cell_type": "code",
   "execution_count": 196,
   "metadata": {},
   "outputs": [],
   "source": [
    "qda_fit = qda(group~.,data=diabetes_train)"
   ]
  },
  {
   "cell_type": "code",
   "execution_count": 197,
   "metadata": {},
   "outputs": [
    {
     "data": {
      "text/plain": [
       "Call:\n",
       "qda(group ~ ., data = diabetes_train)\n",
       "\n",
       "Prior probabilities of groups:\n",
       "Chemical_Diabetic            Normal    Overt_Diabetic \n",
       "        0.2500000         0.5208333         0.2291667 \n",
       "\n",
       "Group means:\n",
       "                      relwt log_glufast log_glutest log_instest log_sspg\n",
       "Chemical_Diabetic 1.0854167    4.632261    6.197395    5.525188 5.328835\n",
       "Normal            0.9378000    4.557081    5.862832    5.095112 4.683200\n",
       "Overt_Diabetic    0.9868182    5.364782    6.905421    4.459041 5.733872"
      ]
     },
     "metadata": {},
     "output_type": "display_data"
    }
   ],
   "source": [
    "qda_fit"
   ]
  },
  {
   "cell_type": "code",
   "execution_count": 198,
   "metadata": {},
   "outputs": [],
   "source": [
    "qda_pred_train <-predict(qda_fit,newdata=diabetes_train)"
   ]
  },
  {
   "cell_type": "code",
   "execution_count": 206,
   "metadata": {},
   "outputs": [],
   "source": [
    "y_pred_train_qda <- qda_pred_train$class"
   ]
  },
  {
   "cell_type": "code",
   "execution_count": 208,
   "metadata": {},
   "outputs": [],
   "source": [
    "qda_cm_train <- confusionMatrix(as.factor(y_pred_train_qda),as.factor(diabetes_train$group))"
   ]
  },
  {
   "cell_type": "code",
   "execution_count": 209,
   "metadata": {},
   "outputs": [
    {
     "data": {
      "text/plain": [
       "Confusion Matrix and Statistics\n",
       "\n",
       "                   Reference\n",
       "Prediction          Chemical_Diabetic Normal Overt_Diabetic\n",
       "  Chemical_Diabetic                24      1              0\n",
       "  Normal                            0     49              0\n",
       "  Overt_Diabetic                    0      0             22\n",
       "\n",
       "Overall Statistics\n",
       "                                          \n",
       "               Accuracy : 0.9896          \n",
       "                 95% CI : (0.9433, 0.9997)\n",
       "    No Information Rate : 0.5208          \n",
       "    P-Value [Acc > NIR] : < 2.2e-16       \n",
       "                                          \n",
       "                  Kappa : 0.9831          \n",
       "                                          \n",
       " Mcnemar's Test P-Value : NA              \n",
       "\n",
       "Statistics by Class:\n",
       "\n",
       "                     Class: Chemical_Diabetic Class: Normal\n",
       "Sensitivity                            1.0000        0.9800\n",
       "Specificity                            0.9861        1.0000\n",
       "Pos Pred Value                         0.9600        1.0000\n",
       "Neg Pred Value                         1.0000        0.9787\n",
       "Prevalence                             0.2500        0.5208\n",
       "Detection Rate                         0.2500        0.5104\n",
       "Detection Prevalence                   0.2604        0.5104\n",
       "Balanced Accuracy                      0.9931        0.9900\n",
       "                     Class: Overt_Diabetic\n",
       "Sensitivity                         1.0000\n",
       "Specificity                         1.0000\n",
       "Pos Pred Value                      1.0000\n",
       "Neg Pred Value                      1.0000\n",
       "Prevalence                          0.2292\n",
       "Detection Rate                      0.2292\n",
       "Detection Prevalence                0.2292\n",
       "Balanced Accuracy                   1.0000"
      ]
     },
     "metadata": {},
     "output_type": "display_data"
    }
   ],
   "source": [
    "qda_cm_train"
   ]
  },
  {
   "cell_type": "code",
   "execution_count": 210,
   "metadata": {},
   "outputs": [],
   "source": [
    "qda_pred_test <-predict(qda_fit,newdata=diabetes_test)"
   ]
  },
  {
   "cell_type": "code",
   "execution_count": 212,
   "metadata": {},
   "outputs": [],
   "source": [
    "y_pred_test_qda <- qda_pred_test$class"
   ]
  },
  {
   "cell_type": "code",
   "execution_count": 213,
   "metadata": {},
   "outputs": [],
   "source": [
    "qda_cm_test <- confusionMatrix(as.factor(y_pred_test_qda),as.factor(diabetes_test$group))"
   ]
  },
  {
   "cell_type": "code",
   "execution_count": 214,
   "metadata": {},
   "outputs": [
    {
     "data": {
      "text/plain": [
       "Confusion Matrix and Statistics\n",
       "\n",
       "                   Reference\n",
       "Prediction          Chemical_Diabetic Normal Overt_Diabetic\n",
       "  Chemical_Diabetic                 9      2              0\n",
       "  Normal                            1     24              0\n",
       "  Overt_Diabetic                    2      0             11\n",
       "\n",
       "Overall Statistics\n",
       "                                         \n",
       "               Accuracy : 0.898          \n",
       "                 95% CI : (0.7777, 0.966)\n",
       "    No Information Rate : 0.5306         \n",
       "    P-Value [Acc > NIR] : 3.843e-08      \n",
       "                                         \n",
       "                  Kappa : 0.834          \n",
       "                                         \n",
       " Mcnemar's Test P-Value : NA             \n",
       "\n",
       "Statistics by Class:\n",
       "\n",
       "                     Class: Chemical_Diabetic Class: Normal\n",
       "Sensitivity                            0.7500        0.9231\n",
       "Specificity                            0.9459        0.9565\n",
       "Pos Pred Value                         0.8182        0.9600\n",
       "Neg Pred Value                         0.9211        0.9167\n",
       "Prevalence                             0.2449        0.5306\n",
       "Detection Rate                         0.1837        0.4898\n",
       "Detection Prevalence                   0.2245        0.5102\n",
       "Balanced Accuracy                      0.8480        0.9398\n",
       "                     Class: Overt_Diabetic\n",
       "Sensitivity                         1.0000\n",
       "Specificity                         0.9474\n",
       "Pos Pred Value                      0.8462\n",
       "Neg Pred Value                      1.0000\n",
       "Prevalence                          0.2245\n",
       "Detection Rate                      0.2245\n",
       "Detection Prevalence                0.2653\n",
       "Balanced Accuracy                   0.9737"
      ]
     },
     "metadata": {},
     "output_type": "display_data"
    }
   ],
   "source": [
    "qda_cm_test"
   ]
  },
  {
   "cell_type": "code",
   "execution_count": 218,
   "metadata": {},
   "outputs": [],
   "source": [
    "lda_train_accuracy = lda_cm_train$overall['Accuracy']\n",
    "lda_test_accuracy = lda_cm_test$overall['Accuracy']\n",
    "qda_train_accuracy = qda_cm_train$overall['Accuracy']\n",
    "qda_test_accuracy = qda_cm_test$overall['Accuracy']"
   ]
  },
  {
   "cell_type": "code",
   "execution_count": 220,
   "metadata": {},
   "outputs": [
    {
     "data": {
      "text/html": [
       "<table>\n",
       "<thead><tr><th></th><th scope=col>Accuracy</th></tr></thead>\n",
       "<tbody>\n",
       "\t<tr><th scope=row>lda_train_accuracy</th><td>0.9062500</td></tr>\n",
       "\t<tr><th scope=row>lda_test_accuracy</th><td>0.9183673</td></tr>\n",
       "\t<tr><th scope=row>qda_train_accuracy</th><td>0.9895833</td></tr>\n",
       "\t<tr><th scope=row>qda_test_accuracy</th><td>0.8979592</td></tr>\n",
       "</tbody>\n",
       "</table>\n"
      ],
      "text/latex": [
       "\\begin{tabular}{r|l}\n",
       "  & Accuracy\\\\\n",
       "\\hline\n",
       "\tlda\\_train\\_accuracy & 0.9062500\\\\\n",
       "\tlda\\_test\\_accuracy & 0.9183673\\\\\n",
       "\tqda\\_train\\_accuracy & 0.9895833\\\\\n",
       "\tqda\\_test\\_accuracy & 0.8979592\\\\\n",
       "\\end{tabular}\n"
      ],
      "text/markdown": [
       "\n",
       "| <!--/--> | Accuracy |\n",
       "|---|---|\n",
       "| lda_train_accuracy | 0.9062500 |\n",
       "| lda_test_accuracy | 0.9183673 |\n",
       "| qda_train_accuracy | 0.9895833 |\n",
       "| qda_test_accuracy | 0.8979592 |\n",
       "\n"
      ],
      "text/plain": [
       "                   Accuracy \n",
       "lda_train_accuracy 0.9062500\n",
       "lda_test_accuracy  0.9183673\n",
       "qda_train_accuracy 0.9895833\n",
       "qda_test_accuracy  0.8979592"
      ]
     },
     "metadata": {},
     "output_type": "display_data"
    }
   ],
   "source": [
    "rbind(lda_train_accuracy,lda_test_accuracy,qda_train_accuracy,qda_test_accuracy)"
   ]
  },
  {
   "cell_type": "markdown",
   "metadata": {},
   "source": [
    "- We can compare the performance of lda and qda on both training and testing sets by examining their accuracies (this is just 1- mse). We can see that qda performed a lot better on the training set than lda (around 8%), however, it performed slightly worse on the testing set than lda (around 1%). \n",
    "- Overall, we can make the conclusion that, both lda and qda have performed similarly, in this case lda is computationally less expensive to perform."
   ]
  },
  {
   "cell_type": "markdown",
   "metadata": {},
   "source": [
    "## Question 1c\n",
    "Suppose an individual has (glucose test/intolerence = 68, insulin test =122, SSPG = 544. Relative weight = 1.86, fasting plasma glucose = 184). To which class does LDA assign this individual? To which class does QDA?"
   ]
  },
  {
   "cell_type": "code",
   "execution_count": 257,
   "metadata": {},
   "outputs": [],
   "source": [
    "xi <- cbind(1.86,log(184+5),log(68+5),log(122+5),log(544+5))"
   ]
  },
  {
   "cell_type": "code",
   "execution_count": 261,
   "metadata": {},
   "outputs": [],
   "source": [
    "xi <- data.frame(setNames(xi, c('relwt','log_glufast','log_glutest','log_instest','log_sspg')))"
   ]
  },
  {
   "cell_type": "code",
   "execution_count": 262,
   "metadata": {},
   "outputs": [
    {
     "data": {
      "text/html": [
       "<table>\n",
       "<thead><tr><th scope=col>relwt</th><th scope=col>log_glufast</th><th scope=col>log_glutest</th><th scope=col>log_instest</th><th scope=col>log_sspg</th></tr></thead>\n",
       "<tbody>\n",
       "\t<tr><td>1.86    </td><td>5.241747</td><td>4.290459</td><td>4.844187</td><td>6.308098</td></tr>\n",
       "</tbody>\n",
       "</table>\n"
      ],
      "text/latex": [
       "\\begin{tabular}{r|lllll}\n",
       " relwt & log\\_glufast & log\\_glutest & log\\_instest & log\\_sspg\\\\\n",
       "\\hline\n",
       "\t 1.86     & 5.241747 & 4.290459 & 4.844187 & 6.308098\\\\\n",
       "\\end{tabular}\n"
      ],
      "text/markdown": [
       "\n",
       "| relwt | log_glufast | log_glutest | log_instest | log_sspg |\n",
       "|---|---|---|---|---|\n",
       "| 1.86     | 5.241747 | 4.290459 | 4.844187 | 6.308098 |\n",
       "\n"
      ],
      "text/plain": [
       "  relwt log_glufast log_glutest log_instest log_sspg\n",
       "1 1.86  5.241747    4.290459    4.844187    6.308098"
      ]
     },
     "metadata": {},
     "output_type": "display_data"
    }
   ],
   "source": [
    "xi"
   ]
  },
  {
   "cell_type": "code",
   "execution_count": 267,
   "metadata": {},
   "outputs": [],
   "source": [
    "yi_lda <-predict(lda_fit,newdata=xi)$class"
   ]
  },
  {
   "cell_type": "code",
   "execution_count": 268,
   "metadata": {},
   "outputs": [
    {
     "data": {
      "text/html": [
       "Normal\n",
       "<details>\n",
       "\t<summary style=display:list-item;cursor:pointer>\n",
       "\t\t<strong>Levels</strong>:\n",
       "\t</summary>\n",
       "\t<ol class=list-inline>\n",
       "\t\t<li>'Chemical_Diabetic'</li>\n",
       "\t\t<li>'Normal'</li>\n",
       "\t\t<li>'Overt_Diabetic'</li>\n",
       "\t</ol>\n",
       "</details>"
      ],
      "text/latex": [
       "Normal\n",
       "\\emph{Levels}: \\begin{enumerate*}\n",
       "\\item 'Chemical\\_Diabetic'\n",
       "\\item 'Normal'\n",
       "\\item 'Overt\\_Diabetic'\n",
       "\\end{enumerate*}\n"
      ],
      "text/markdown": [
       "Normal\n",
       "**Levels**: 1. 'Chemical_Diabetic'\n",
       "2. 'Normal'\n",
       "3. 'Overt_Diabetic'\n",
       "\n",
       "\n"
      ],
      "text/plain": [
       "[1] Normal\n",
       "Levels: Chemical_Diabetic Normal Overt_Diabetic"
      ]
     },
     "metadata": {},
     "output_type": "display_data"
    }
   ],
   "source": [
    "yi_lda"
   ]
  },
  {
   "cell_type": "code",
   "execution_count": 271,
   "metadata": {},
   "outputs": [],
   "source": [
    "yi_qda <-predict(qda_fit,newdata=xi)$class"
   ]
  },
  {
   "cell_type": "code",
   "execution_count": 272,
   "metadata": {},
   "outputs": [
    {
     "data": {
      "text/html": [
       "Normal\n",
       "<details>\n",
       "\t<summary style=display:list-item;cursor:pointer>\n",
       "\t\t<strong>Levels</strong>:\n",
       "\t</summary>\n",
       "\t<ol class=list-inline>\n",
       "\t\t<li>'Chemical_Diabetic'</li>\n",
       "\t\t<li>'Normal'</li>\n",
       "\t\t<li>'Overt_Diabetic'</li>\n",
       "\t</ol>\n",
       "</details>"
      ],
      "text/latex": [
       "Normal\n",
       "\\emph{Levels}: \\begin{enumerate*}\n",
       "\\item 'Chemical\\_Diabetic'\n",
       "\\item 'Normal'\n",
       "\\item 'Overt\\_Diabetic'\n",
       "\\end{enumerate*}\n"
      ],
      "text/markdown": [
       "Normal\n",
       "**Levels**: 1. 'Chemical_Diabetic'\n",
       "2. 'Normal'\n",
       "3. 'Overt_Diabetic'\n",
       "\n",
       "\n"
      ],
      "text/plain": [
       "[1] Normal\n",
       "Levels: Chemical_Diabetic Normal Overt_Diabetic"
      ]
     },
     "metadata": {},
     "output_type": "display_data"
    }
   ],
   "source": [
    "yi_qda"
   ]
  },
  {
   "cell_type": "markdown",
   "metadata": {},
   "source": [
    "- Given the information provided (a new datapoint), and by using the models we generated for both lda and qda, we can use these to predict the class that the new datapoint most likely belong in (by maximizing it's likihood)! As we can see that both lda and qda have predicted the new data point xi to belong int the class \"normal\"."
   ]
  },
  {
   "cell_type": "markdown",
   "metadata": {},
   "source": [
    "# Question 2\n",
    "his question uses the “Weekly” dataset in the ISLR package. The\n",
    "data contains information for weekly returns for 21 years, beginning in 1990 and\n",
    "ending in 2010.\n",
    "- Produce some numerical and graphical summaries of the “Weekly” data. Do\n",
    "there appear to be any patterns?\n",
    "- Use the full data to perform logistic regression with “Direction” as the response\n",
    "and the five lag variables, plus volume, as predictors. Use the summary\n",
    "function to print the results. Do any of the predictors appear to be statistically\n",
    "significant? Comment on these.\n",
    "- Compute the “confusion matrix” and overall fraction of correct predictions.\n",
    "Explain what the confusion matrix is telling you about the types of mistakes\n",
    "made by logistic regression.\n",
    "- Fit the logistic model using a training data period from 1990-2008, with “Lag2”\n",
    "as the only predictor. Compute the confusion matrix, and the overall correct\n",
    "fraction of predictions (aka misclassification rate) for the held out data (that is,\n",
    "the data from 2009 and 2010).\n",
    "- Repeat (d) using LDA.\n",
    "- Repeat (d) using KNN with k=1.\n",
    "- Which method appears to provide the best results?\n",
    "- Experiment with different combinations of predictors, including possible\n",
    "transformations and interactions, for each method. Report the variables,\n",
    "method, and associated confusion matrix that appears to provide the best results\n",
    "on the held-out data. Note that you should also experiment with values for K\n",
    "in the kNN cla"
   ]
  },
  {
   "cell_type": "code",
   "execution_count": 281,
   "metadata": {},
   "outputs": [],
   "source": [
    "library(ISLR)\n",
    "library(MASS)\n"
   ]
  },
  {
   "cell_type": "code",
   "execution_count": 353,
   "metadata": {},
   "outputs": [],
   "source": [
    "data(Weekly)"
   ]
  },
  {
   "cell_type": "code",
   "execution_count": 328,
   "metadata": {},
   "outputs": [
    {
     "data": {
      "text/html": [
       "<table>\n",
       "<thead><tr><th scope=col>Year</th><th scope=col>Lag1</th><th scope=col>Lag2</th><th scope=col>Lag3</th><th scope=col>Lag4</th><th scope=col>Lag5</th><th scope=col>Volume</th><th scope=col>Today</th><th scope=col>Direction</th></tr></thead>\n",
       "<tbody>\n",
       "\t<tr><td>1990     </td><td> 0.816   </td><td> 1.572   </td><td>-3.936   </td><td>-0.229   </td><td>-3.484   </td><td>0.1549760</td><td>-0.270   </td><td>Down     </td></tr>\n",
       "\t<tr><td>1990     </td><td>-0.270   </td><td> 0.816   </td><td> 1.572   </td><td>-3.936   </td><td>-0.229   </td><td>0.1485740</td><td>-2.576   </td><td>Down     </td></tr>\n",
       "\t<tr><td>1990     </td><td>-2.576   </td><td>-0.270   </td><td> 0.816   </td><td> 1.572   </td><td>-3.936   </td><td>0.1598375</td><td> 3.514   </td><td>Up       </td></tr>\n",
       "\t<tr><td>1990     </td><td> 3.514   </td><td>-2.576   </td><td>-0.270   </td><td> 0.816   </td><td> 1.572   </td><td>0.1616300</td><td> 0.712   </td><td>Up       </td></tr>\n",
       "\t<tr><td>1990     </td><td> 0.712   </td><td> 3.514   </td><td>-2.576   </td><td>-0.270   </td><td> 0.816   </td><td>0.1537280</td><td> 1.178   </td><td>Up       </td></tr>\n",
       "\t<tr><td>1990     </td><td> 1.178   </td><td> 0.712   </td><td> 3.514   </td><td>-2.576   </td><td>-0.270   </td><td>0.1544440</td><td>-1.372   </td><td>Down     </td></tr>\n",
       "</tbody>\n",
       "</table>\n"
      ],
      "text/latex": [
       "\\begin{tabular}{r|lllllllll}\n",
       " Year & Lag1 & Lag2 & Lag3 & Lag4 & Lag5 & Volume & Today & Direction\\\\\n",
       "\\hline\n",
       "\t 1990      &  0.816    &  1.572    & -3.936    & -0.229    & -3.484    & 0.1549760 & -0.270    & Down     \\\\\n",
       "\t 1990      & -0.270    &  0.816    &  1.572    & -3.936    & -0.229    & 0.1485740 & -2.576    & Down     \\\\\n",
       "\t 1990      & -2.576    & -0.270    &  0.816    &  1.572    & -3.936    & 0.1598375 &  3.514    & Up       \\\\\n",
       "\t 1990      &  3.514    & -2.576    & -0.270    &  0.816    &  1.572    & 0.1616300 &  0.712    & Up       \\\\\n",
       "\t 1990      &  0.712    &  3.514    & -2.576    & -0.270    &  0.816    & 0.1537280 &  1.178    & Up       \\\\\n",
       "\t 1990      &  1.178    &  0.712    &  3.514    & -2.576    & -0.270    & 0.1544440 & -1.372    & Down     \\\\\n",
       "\\end{tabular}\n"
      ],
      "text/markdown": [
       "\n",
       "| Year | Lag1 | Lag2 | Lag3 | Lag4 | Lag5 | Volume | Today | Direction |\n",
       "|---|---|---|---|---|---|---|---|---|\n",
       "| 1990      |  0.816    |  1.572    | -3.936    | -0.229    | -3.484    | 0.1549760 | -0.270    | Down      |\n",
       "| 1990      | -0.270    |  0.816    |  1.572    | -3.936    | -0.229    | 0.1485740 | -2.576    | Down      |\n",
       "| 1990      | -2.576    | -0.270    |  0.816    |  1.572    | -3.936    | 0.1598375 |  3.514    | Up        |\n",
       "| 1990      |  3.514    | -2.576    | -0.270    |  0.816    |  1.572    | 0.1616300 |  0.712    | Up        |\n",
       "| 1990      |  0.712    |  3.514    | -2.576    | -0.270    |  0.816    | 0.1537280 |  1.178    | Up        |\n",
       "| 1990      |  1.178    |  0.712    |  3.514    | -2.576    | -0.270    | 0.1544440 | -1.372    | Down      |\n",
       "\n"
      ],
      "text/plain": [
       "  Year Lag1   Lag2   Lag3   Lag4   Lag5   Volume    Today  Direction\n",
       "1 1990  0.816  1.572 -3.936 -0.229 -3.484 0.1549760 -0.270 Down     \n",
       "2 1990 -0.270  0.816  1.572 -3.936 -0.229 0.1485740 -2.576 Down     \n",
       "3 1990 -2.576 -0.270  0.816  1.572 -3.936 0.1598375  3.514 Up       \n",
       "4 1990  3.514 -2.576 -0.270  0.816  1.572 0.1616300  0.712 Up       \n",
       "5 1990  0.712  3.514 -2.576 -0.270  0.816 0.1537280  1.178 Up       \n",
       "6 1990  1.178  0.712  3.514 -2.576 -0.270 0.1544440 -1.372 Down     "
      ]
     },
     "metadata": {},
     "output_type": "display_data"
    }
   ],
   "source": [
    "head(Weekly)"
   ]
  },
  {
   "cell_type": "code",
   "execution_count": 287,
   "metadata": {},
   "outputs": [
    {
     "data": {
      "text/plain": [
       "      Year           Lag1               Lag2               Lag3         \n",
       " Min.   :1990   Min.   :-18.1950   Min.   :-18.1950   Min.   :-18.1950  \n",
       " 1st Qu.:1995   1st Qu.: -1.1540   1st Qu.: -1.1540   1st Qu.: -1.1580  \n",
       " Median :2000   Median :  0.2410   Median :  0.2410   Median :  0.2410  \n",
       " Mean   :2000   Mean   :  0.1506   Mean   :  0.1511   Mean   :  0.1472  \n",
       " 3rd Qu.:2005   3rd Qu.:  1.4050   3rd Qu.:  1.4090   3rd Qu.:  1.4090  \n",
       " Max.   :2010   Max.   : 12.0260   Max.   : 12.0260   Max.   : 12.0260  \n",
       "      Lag4               Lag5              Volume            Today         \n",
       " Min.   :-18.1950   Min.   :-18.1950   Min.   :0.08747   Min.   :-18.1950  \n",
       " 1st Qu.: -1.1580   1st Qu.: -1.1660   1st Qu.:0.33202   1st Qu.: -1.1540  \n",
       " Median :  0.2380   Median :  0.2340   Median :1.00268   Median :  0.2410  \n",
       " Mean   :  0.1458   Mean   :  0.1399   Mean   :1.57462   Mean   :  0.1499  \n",
       " 3rd Qu.:  1.4090   3rd Qu.:  1.4050   3rd Qu.:2.05373   3rd Qu.:  1.4050  \n",
       " Max.   : 12.0260   Max.   : 12.0260   Max.   :9.32821   Max.   : 12.0260  \n",
       " Direction \n",
       " Down:484  \n",
       " Up  :605  \n",
       "           \n",
       "           \n",
       "           \n",
       "           "
      ]
     },
     "metadata": {},
     "output_type": "display_data"
    }
   ],
   "source": [
    "summary(Weekly)"
   ]
  },
  {
   "cell_type": "markdown",
   "metadata": {},
   "source": [
    "## Question 2a\n",
    "- Produce some numerical and graphical summaries of the “Weekly” data. Do\n",
    "there appear to be any patterns?"
   ]
  },
  {
   "cell_type": "code",
   "execution_count": 316,
   "metadata": {},
   "outputs": [
    {
     "data": {
      "text/html": [
       "<ol class=list-inline>\n",
       "\t<li>'Year'</li>\n",
       "\t<li>'Lag1'</li>\n",
       "\t<li>'Lag2'</li>\n",
       "\t<li>'Lag3'</li>\n",
       "\t<li>'Lag4'</li>\n",
       "\t<li>'Lag5'</li>\n",
       "\t<li>'Volume'</li>\n",
       "\t<li>'Today'</li>\n",
       "\t<li>'Direction'</li>\n",
       "</ol>\n"
      ],
      "text/latex": [
       "\\begin{enumerate*}\n",
       "\\item 'Year'\n",
       "\\item 'Lag1'\n",
       "\\item 'Lag2'\n",
       "\\item 'Lag3'\n",
       "\\item 'Lag4'\n",
       "\\item 'Lag5'\n",
       "\\item 'Volume'\n",
       "\\item 'Today'\n",
       "\\item 'Direction'\n",
       "\\end{enumerate*}\n"
      ],
      "text/markdown": [
       "1. 'Year'\n",
       "2. 'Lag1'\n",
       "3. 'Lag2'\n",
       "4. 'Lag3'\n",
       "5. 'Lag4'\n",
       "6. 'Lag5'\n",
       "7. 'Volume'\n",
       "8. 'Today'\n",
       "9. 'Direction'\n",
       "\n",
       "\n"
      ],
      "text/plain": [
       "[1] \"Year\"      \"Lag1\"      \"Lag2\"      \"Lag3\"      \"Lag4\"      \"Lag5\"     \n",
       "[7] \"Volume\"    \"Today\"     \"Direction\""
      ]
     },
     "metadata": {},
     "output_type": "display_data"
    }
   ],
   "source": [
    "names(Weekly)"
   ]
  },
  {
   "cell_type": "code",
   "execution_count": 317,
   "metadata": {},
   "outputs": [],
   "source": [
    "lag = Weekly[,-c(1,7,9)]\n",
    "lag_mean = c()\n",
    "lag_median = c()\n",
    "for (i in 1:6) {\n",
    "  lag_mean[i] =  mean(lag[,i])\n",
    "  lag_median[i]  = median(lag[,i])\n",
    " \n",
    "}"
   ]
  },
  {
   "cell_type": "code",
   "execution_count": 320,
   "metadata": {},
   "outputs": [],
   "source": [
    "\n",
    "name = names(lag)"
   ]
  },
  {
   "cell_type": "code",
   "execution_count": 321,
   "metadata": {},
   "outputs": [
    {
     "data": {
      "text/html": [
       "<table>\n",
       "<thead><tr><th scope=col>name</th><th scope=col>lag_mean</th><th scope=col>lag_median</th></tr></thead>\n",
       "<tbody>\n",
       "\t<tr><td>Lag1     </td><td>0.1505849</td><td>0.241    </td></tr>\n",
       "\t<tr><td>Lag2     </td><td>0.1510790</td><td>0.241    </td></tr>\n",
       "\t<tr><td>Lag3     </td><td>0.1472048</td><td>0.241    </td></tr>\n",
       "\t<tr><td>Lag4     </td><td>0.1458182</td><td>0.238    </td></tr>\n",
       "\t<tr><td>Lag5     </td><td>0.1398926</td><td>0.234    </td></tr>\n",
       "\t<tr><td>Today    </td><td>0.1498990</td><td>0.241    </td></tr>\n",
       "</tbody>\n",
       "</table>\n"
      ],
      "text/latex": [
       "\\begin{tabular}{r|lll}\n",
       " name & lag\\_mean & lag\\_median\\\\\n",
       "\\hline\n",
       "\t Lag1      & 0.1505849 & 0.241    \\\\\n",
       "\t Lag2      & 0.1510790 & 0.241    \\\\\n",
       "\t Lag3      & 0.1472048 & 0.241    \\\\\n",
       "\t Lag4      & 0.1458182 & 0.238    \\\\\n",
       "\t Lag5      & 0.1398926 & 0.234    \\\\\n",
       "\t Today     & 0.1498990 & 0.241    \\\\\n",
       "\\end{tabular}\n"
      ],
      "text/markdown": [
       "\n",
       "| name | lag_mean | lag_median |\n",
       "|---|---|---|\n",
       "| Lag1      | 0.1505849 | 0.241     |\n",
       "| Lag2      | 0.1510790 | 0.241     |\n",
       "| Lag3      | 0.1472048 | 0.241     |\n",
       "| Lag4      | 0.1458182 | 0.238     |\n",
       "| Lag5      | 0.1398926 | 0.234     |\n",
       "| Today     | 0.1498990 | 0.241     |\n",
       "\n"
      ],
      "text/plain": [
       "  name  lag_mean  lag_median\n",
       "1 Lag1  0.1505849 0.241     \n",
       "2 Lag2  0.1510790 0.241     \n",
       "3 Lag3  0.1472048 0.241     \n",
       "4 Lag4  0.1458182 0.238     \n",
       "5 Lag5  0.1398926 0.234     \n",
       "6 Today 0.1498990 0.241     "
      ]
     },
     "metadata": {},
     "output_type": "display_data"
    }
   ],
   "source": [
    "cbind.data.frame(name,lag_mean,lag_median)"
   ]
  },
  {
   "cell_type": "markdown",
   "metadata": {},
   "source": [
    "- the range for return regardless of what weeks is the same, mean and medians are very close to each other as well. "
   ]
  },
  {
   "cell_type": "code",
   "execution_count": 322,
   "metadata": {},
   "outputs": [
    {
     "data": {
      "image/png": "[encoded data removed]",
      "text/plain": [
       "Plot with title \"Direction\""
      ]
     },
     "metadata": {},
     "output_type": "display_data"
    }
   ],
   "source": [
    "par(mfrow = c(3,3))\n",
    "for (i in 1:9) {\n",
    "  hist(as.numeric(Weekly[,i]),breaks = 20,main=names(Weekly)[i],xlab=NULL)\n",
    "}"
   ]
  },
  {
   "cell_type": "markdown",
   "metadata": {},
   "source": [
    "- we can see that most of return variables are normally distributed and has a lower standard deviation.\n",
    "- \"Volume\" is right skewed - we can perform log transformation on this\n",
    "- \"Year\" mostly uniformly distributed, except for in 1990, a lot of data is collected\n",
    "- \"Direction\"- our response variable, we have two levels up and down, we don't seem to have an imbalanced dataset."
   ]
  },
  {
   "cell_type": "markdown",
   "metadata": {},
   "source": [
    "#### Transform \"Volume\" Variable"
   ]
  },
  {
   "cell_type": "code",
   "execution_count": 358,
   "metadata": {},
   "outputs": [],
   "source": [
    "log_Volume = log(Weekly$Volume)"
   ]
  },
  {
   "cell_type": "code",
   "execution_count": 360,
   "metadata": {},
   "outputs": [],
   "source": [
    "temp = Weekly[,-c(7,9)]"
   ]
  },
  {
   "cell_type": "code",
   "execution_count": 361,
   "metadata": {},
   "outputs": [],
   "source": [
    "Direction = Weekly$Direction"
   ]
  },
  {
   "cell_type": "code",
   "execution_count": 362,
   "metadata": {},
   "outputs": [],
   "source": [
    "Weekly = cbind.data.frame(temp,log_Volume,Direction)"
   ]
  },
  {
   "cell_type": "code",
   "execution_count": 363,
   "metadata": {},
   "outputs": [
    {
     "data": {
      "text/html": [
       "<table>\n",
       "<thead><tr><th scope=col>Year</th><th scope=col>Lag1</th><th scope=col>Lag2</th><th scope=col>Lag3</th><th scope=col>Lag4</th><th scope=col>Lag5</th><th scope=col>Today</th><th scope=col>log_Volume</th><th scope=col>Direction</th></tr></thead>\n",
       "<tbody>\n",
       "\t<tr><td>1990     </td><td> 0.816   </td><td> 1.572   </td><td>-3.936   </td><td>-0.229   </td><td>-3.484   </td><td>-0.270   </td><td>-1.864485</td><td>Down     </td></tr>\n",
       "\t<tr><td>1990     </td><td>-0.270   </td><td> 0.816   </td><td> 1.572   </td><td>-3.936   </td><td>-0.229   </td><td>-2.576   </td><td>-1.906672</td><td>Down     </td></tr>\n",
       "\t<tr><td>1990     </td><td>-2.576   </td><td>-0.270   </td><td> 0.816   </td><td> 1.572   </td><td>-3.936   </td><td> 3.514   </td><td>-1.833598</td><td>Up       </td></tr>\n",
       "\t<tr><td>1990     </td><td> 3.514   </td><td>-2.576   </td><td>-0.270   </td><td> 0.816   </td><td> 1.572   </td><td> 0.712   </td><td>-1.822446</td><td>Up       </td></tr>\n",
       "\t<tr><td>1990     </td><td> 0.712   </td><td> 3.514   </td><td>-2.576   </td><td>-0.270   </td><td> 0.816   </td><td> 1.178   </td><td>-1.872570</td><td>Up       </td></tr>\n",
       "\t<tr><td>1990     </td><td> 1.178   </td><td> 0.712   </td><td> 3.514   </td><td>-2.576   </td><td>-0.270   </td><td>-1.372   </td><td>-1.867924</td><td>Down     </td></tr>\n",
       "</tbody>\n",
       "</table>\n"
      ],
      "text/latex": [
       "\\begin{tabular}{r|lllllllll}\n",
       " Year & Lag1 & Lag2 & Lag3 & Lag4 & Lag5 & Today & log\\_Volume & Direction\\\\\n",
       "\\hline\n",
       "\t 1990      &  0.816    &  1.572    & -3.936    & -0.229    & -3.484    & -0.270    & -1.864485 & Down     \\\\\n",
       "\t 1990      & -0.270    &  0.816    &  1.572    & -3.936    & -0.229    & -2.576    & -1.906672 & Down     \\\\\n",
       "\t 1990      & -2.576    & -0.270    &  0.816    &  1.572    & -3.936    &  3.514    & -1.833598 & Up       \\\\\n",
       "\t 1990      &  3.514    & -2.576    & -0.270    &  0.816    &  1.572    &  0.712    & -1.822446 & Up       \\\\\n",
       "\t 1990      &  0.712    &  3.514    & -2.576    & -0.270    &  0.816    &  1.178    & -1.872570 & Up       \\\\\n",
       "\t 1990      &  1.178    &  0.712    &  3.514    & -2.576    & -0.270    & -1.372    & -1.867924 & Down     \\\\\n",
       "\\end{tabular}\n"
      ],
      "text/markdown": [
       "\n",
       "| Year | Lag1 | Lag2 | Lag3 | Lag4 | Lag5 | Today | log_Volume | Direction |\n",
       "|---|---|---|---|---|---|---|---|---|\n",
       "| 1990      |  0.816    |  1.572    | -3.936    | -0.229    | -3.484    | -0.270    | -1.864485 | Down      |\n",
       "| 1990      | -0.270    |  0.816    |  1.572    | -3.936    | -0.229    | -2.576    | -1.906672 | Down      |\n",
       "| 1990      | -2.576    | -0.270    |  0.816    |  1.572    | -3.936    |  3.514    | -1.833598 | Up        |\n",
       "| 1990      |  3.514    | -2.576    | -0.270    |  0.816    |  1.572    |  0.712    | -1.822446 | Up        |\n",
       "| 1990      |  0.712    |  3.514    | -2.576    | -0.270    |  0.816    |  1.178    | -1.872570 | Up        |\n",
       "| 1990      |  1.178    |  0.712    |  3.514    | -2.576    | -0.270    | -1.372    | -1.867924 | Down      |\n",
       "\n"
      ],
      "text/plain": [
       "  Year Lag1   Lag2   Lag3   Lag4   Lag5   Today  log_Volume Direction\n",
       "1 1990  0.816  1.572 -3.936 -0.229 -3.484 -0.270 -1.864485  Down     \n",
       "2 1990 -0.270  0.816  1.572 -3.936 -0.229 -2.576 -1.906672  Down     \n",
       "3 1990 -2.576 -0.270  0.816  1.572 -3.936  3.514 -1.833598  Up       \n",
       "4 1990  3.514 -2.576 -0.270  0.816  1.572  0.712 -1.822446  Up       \n",
       "5 1990  0.712  3.514 -2.576 -0.270  0.816  1.178 -1.872570  Up       \n",
       "6 1990  1.178  0.712  3.514 -2.576 -0.270 -1.372 -1.867924  Down     "
      ]
     },
     "metadata": {},
     "output_type": "display_data"
    }
   ],
   "source": [
    "head(Weekly)"
   ]
  },
  {
   "cell_type": "code",
   "execution_count": 365,
   "metadata": {
    "scrolled": true
   },
   "outputs": [
    {
     "data": {
      "image/png": "[encoded data removed]",
      "text/plain": [
       "Plot with title \"log_Volume\""
      ]
     },
     "metadata": {},
     "output_type": "display_data"
    }
   ],
   "source": [
    "hist(log_Volume,main =\"log_Volume\",xlab=NULL)"
   ]
  },
  {
   "cell_type": "markdown",
   "metadata": {},
   "source": [
    "- the histogram of log_Volume looks like a bell curve!"
   ]
  },
  {
   "cell_type": "markdown",
   "metadata": {},
   "source": [
    "### Correlation Plot"
   ]
  },
  {
   "cell_type": "code",
   "execution_count": 367,
   "metadata": {},
   "outputs": [
    {
     "data": {
      "image/png": "[encoded data removed]",
      "text/plain": [
       "plot without title"
      ]
     },
     "metadata": {},
     "output_type": "display_data"
    }
   ],
   "source": [
    "pairs.panels(Weekly[,-c(1,9)], \n",
    "             hist.col = \"#00AFBB\",\n",
    "             density = TRUE,  # show density plots\n",
    "             ellipses = TRUE, # show correlation ellipses\n",
    "             col = Weekly$Direction,\n",
    "             bg=c(\"red\",\"yellow\")[Weekly$Direction],\n",
    "             pch=21\n",
    "             )"
   ]
  },
  {
   "cell_type": "markdown",
   "metadata": {},
   "source": [
    "- no outstanding high correlation between any two variables\n",
    "- we can also see bivariate normality for most pairs of variables, we can we do more normality tests later.\n",
    "- we can also see in the bivariate scatter plots between \"Today\" variable to other variables, we can see very well separated clusters between two classes (might not be stable for logistic regression)"
   ]
  },
  {
   "cell_type": "markdown",
   "metadata": {},
   "source": [
    "## Question 2b\n",
    " - Use the full data to perform logistic regression with “Direction” as the response\n",
    "and the five lag variables, plus volume, as predictors. Use the summary\n",
    "function to print the results. Do any of the predictors appear to be statistically\n",
    "significant? Comment on these. "
   ]
  },
  {
   "cell_type": "code",
   "execution_count": 369,
   "metadata": {},
   "outputs": [],
   "source": [
    "Weekly_log_reg = Weekly[,-7]"
   ]
  },
  {
   "cell_type": "markdown",
   "metadata": {},
   "source": [
    "- dropping \"today\" variables"
   ]
  },
  {
   "cell_type": "code",
   "execution_count": 370,
   "metadata": {},
   "outputs": [],
   "source": [
    "log_reg_fit <-glm(Direction ~.,data=Weekly_log_reg, family=\"binomial\")"
   ]
  },
  {
   "cell_type": "code",
   "execution_count": 372,
   "metadata": {},
   "outputs": [
    {
     "data": {
      "text/plain": [
       "\n",
       "Call:\n",
       "glm(formula = Direction ~ ., family = \"binomial\", data = Weekly_log_reg)\n",
       "\n",
       "Deviance Residuals: \n",
       "    Min       1Q   Median       3Q      Max  \n",
       "-1.6578  -1.2590   0.9901   1.0796   1.4747  \n",
       "\n",
       "Coefficients:\n",
       "             Estimate Std. Error z value Pr(>|z|)  \n",
       "(Intercept) -96.33447  117.94679  -0.817   0.4141  \n",
       "Year          0.04827    0.05896   0.819   0.4130  \n",
       "Lag1         -0.04294    0.02643  -1.625   0.1042  \n",
       "Lag2          0.05454    0.02716   2.008   0.0446 *\n",
       "Lag3         -0.01807    0.02671  -0.677   0.4987  \n",
       "Lag4         -0.02972    0.02651  -1.121   0.2622  \n",
       "Lag5         -0.01625    0.02642  -0.615   0.5385  \n",
       "log_Volume   -0.31284    0.32430  -0.965   0.3347  \n",
       "---\n",
       "Signif. codes:  0 '***' 0.001 '**' 0.01 '*' 0.05 '.' 0.1 ' ' 1\n",
       "\n",
       "(Dispersion parameter for binomial family taken to be 1)\n",
       "\n",
       "    Null deviance: 1496.2  on 1088  degrees of freedom\n",
       "Residual deviance: 1485.2  on 1081  degrees of freedom\n",
       "AIC: 1501.2\n",
       "\n",
       "Number of Fisher Scoring iterations: 4\n"
      ]
     },
     "metadata": {},
     "output_type": "display_data"
    }
   ],
   "source": [
    "summary(log_reg_fit)"
   ]
  },
  {
   "cell_type": "markdown",
   "metadata": {},
   "source": [
    "- we can see that only \"Lag2\" variables appears to be significant."
   ]
  },
  {
   "cell_type": "markdown",
   "metadata": {},
   "source": [
    "#### Enconde our response variables to 0 and 1"
   ]
  },
  {
   "cell_type": "code",
   "execution_count": 378,
   "metadata": {},
   "outputs": [],
   "source": [
    "y_true_log_reg = as.numeric(Weekly_log_reg$Direction)-1"
   ]
  },
  {
   "cell_type": "markdown",
   "metadata": {},
   "source": [
    "#### Predict"
   ]
  },
  {
   "cell_type": "code",
   "execution_count": 375,
   "metadata": {},
   "outputs": [],
   "source": [
    "y_pred_log_reg <- round(predict(log_reg_fit,type=\"response\",newdata=Weekly_log_reg))"
   ]
  },
  {
   "cell_type": "code",
   "execution_count": 394,
   "metadata": {},
   "outputs": [
    {
     "data": {
      "text/html": [
       "<table>\n",
       "<thead><tr><th scope=col>y_true_log_reg</th><th scope=col>y_pred_log_reg</th><th scope=col>Weekly$Direction</th></tr></thead>\n",
       "<tbody>\n",
       "\t<tr><td>0   </td><td>1   </td><td>Down</td></tr>\n",
       "\t<tr><td>0   </td><td>1   </td><td>Down</td></tr>\n",
       "\t<tr><td>1   </td><td>1   </td><td>Up  </td></tr>\n",
       "\t<tr><td>1   </td><td>0   </td><td>Up  </td></tr>\n",
       "\t<tr><td>1   </td><td>1   </td><td>Up  </td></tr>\n",
       "\t<tr><td>0   </td><td>1   </td><td>Down</td></tr>\n",
       "</tbody>\n",
       "</table>\n"
      ],
      "text/latex": [
       "\\begin{tabular}{r|lll}\n",
       " y\\_true\\_log\\_reg & y\\_pred\\_log\\_reg & Weekly\\$Direction\\\\\n",
       "\\hline\n",
       "\t 0    & 1    & Down\\\\\n",
       "\t 0    & 1    & Down\\\\\n",
       "\t 1    & 1    & Up  \\\\\n",
       "\t 1    & 0    & Up  \\\\\n",
       "\t 1    & 1    & Up  \\\\\n",
       "\t 0    & 1    & Down\\\\\n",
       "\\end{tabular}\n"
      ],
      "text/markdown": [
       "\n",
       "| y_true_log_reg | y_pred_log_reg | Weekly$Direction |\n",
       "|---|---|---|\n",
       "| 0    | 1    | Down |\n",
       "| 0    | 1    | Down |\n",
       "| 1    | 1    | Up   |\n",
       "| 1    | 0    | Up   |\n",
       "| 1    | 1    | Up   |\n",
       "| 0    | 1    | Down |\n",
       "\n"
      ],
      "text/plain": [
       "  y_true_log_reg y_pred_log_reg Weekly$Direction\n",
       "1 0              1              Down            \n",
       "2 0              1              Down            \n",
       "3 1              1              Up              \n",
       "4 1              0              Up              \n",
       "5 1              1              Up              \n",
       "6 0              1              Down            "
      ]
     },
     "metadata": {},
     "output_type": "display_data"
    }
   ],
   "source": [
    "head(cbind.data.frame(y_true_log_reg,y_pred_log_reg,Weekly$Direction))"
   ]
  },
  {
   "cell_type": "code",
   "execution_count": 381,
   "metadata": {},
   "outputs": [],
   "source": [
    "MSE_log_reg = MSE(y_pred_log_reg,y_true_log_reg)"
   ]
  },
  {
   "cell_type": "code",
   "execution_count": 382,
   "metadata": {},
   "outputs": [
    {
     "data": {
      "text/html": [
       "0.433425160697888"
      ],
      "text/latex": [
       "0.433425160697888"
      ],
      "text/markdown": [
       "0.433425160697888"
      ],
      "text/plain": [
       "[1] 0.4334252"
      ]
     },
     "metadata": {},
     "output_type": "display_data"
    }
   ],
   "source": [
    "MSE_log_reg"
   ]
  },
  {
   "cell_type": "markdown",
   "metadata": {},
   "source": [
    "- we actually got a quite high MSE values from performing logistic regression"
   ]
  },
  {
   "cell_type": "markdown",
   "metadata": {},
   "source": [
    "#### Let's try again with our only significant variables \"Lag2\""
   ]
  },
  {
   "cell_type": "code",
   "execution_count": 385,
   "metadata": {},
   "outputs": [],
   "source": [
    "Weekly_log_reg_new = Weekly[,c(3,9)]"
   ]
  },
  {
   "cell_type": "code",
   "execution_count": 388,
   "metadata": {},
   "outputs": [],
   "source": [
    "log_reg_fit_new <-glm(Direction ~.,data=Weekly_log_reg_new, family=\"binomial\")"
   ]
  },
  {
   "cell_type": "code",
   "execution_count": 389,
   "metadata": {},
   "outputs": [],
   "source": [
    "y_pred_log_reg_new <- round(predict(log_reg_fit_new,type=\"response\",newdata=Weekly_log_reg_new))"
   ]
  },
  {
   "cell_type": "code",
   "execution_count": 392,
   "metadata": {},
   "outputs": [],
   "source": [
    "MSE_log_reg_new = MSE(y_pred_log_reg_new,y_true_log_reg)"
   ]
  },
  {
   "cell_type": "code",
   "execution_count": 393,
   "metadata": {},
   "outputs": [
    {
     "data": {
      "text/html": [
       "0.43801652892562"
      ],
      "text/latex": [
       "0.43801652892562"
      ],
      "text/markdown": [
       "0.43801652892562"
      ],
      "text/plain": [
       "[1] 0.4380165"
      ]
     },
     "metadata": {},
     "output_type": "display_data"
    }
   ],
   "source": [
    "MSE_log_reg_new"
   ]
  },
  {
   "cell_type": "markdown",
   "metadata": {},
   "source": [
    "- we didn't really see any improvement in the model. We can conclude that logistic regression actually performed pretty poorly on the Weekly dataset"
   ]
  },
  {
   "cell_type": "markdown",
   "metadata": {},
   "source": [
    "## Question 2c\n",
    "- Compute the “confusion matrix” and overall fraction of correct predictions.\n",
    "Explain what the confusion matrix is telling you about the types of mistakes\n",
    "made by logistic regression. "
   ]
  },
  {
   "cell_type": "code",
   "execution_count": 434,
   "metadata": {},
   "outputs": [],
   "source": [
    "cm_log_reg = confusionMatrix(as.factor(y_pred_log_reg),as.factor(y_true_log_reg),positive=\"1\")"
   ]
  },
  {
   "cell_type": "code",
   "execution_count": 435,
   "metadata": {},
   "outputs": [
    {
     "data": {
      "text/plain": [
       "Confusion Matrix and Statistics\n",
       "\n",
       "          Reference\n",
       "Prediction   0   1\n",
       "         0  68  56\n",
       "         1 416 549\n",
       "                                          \n",
       "               Accuracy : 0.5666          \n",
       "                 95% CI : (0.5365, 0.5963)\n",
       "    No Information Rate : 0.5556          \n",
       "    P-Value [Acc > NIR] : 0.2417          \n",
       "                                          \n",
       "                  Kappa : 0.0518          \n",
       "                                          \n",
       " Mcnemar's Test P-Value : <2e-16          \n",
       "                                          \n",
       "            Sensitivity : 0.9074          \n",
       "            Specificity : 0.1405          \n",
       "         Pos Pred Value : 0.5689          \n",
       "         Neg Pred Value : 0.5484          \n",
       "             Prevalence : 0.5556          \n",
       "         Detection Rate : 0.5041          \n",
       "   Detection Prevalence : 0.8861          \n",
       "      Balanced Accuracy : 0.5240          \n",
       "                                          \n",
       "       'Positive' Class : 1               \n",
       "                                          "
      ]
     },
     "metadata": {},
     "output_type": "display_data"
    }
   ],
   "source": [
    "cm_log_reg"
   ]
  },
  {
   "cell_type": "code",
   "execution_count": 403,
   "metadata": {},
   "outputs": [
    {
     "data": {
      "text/html": [
       "38.2001836547291"
      ],
      "text/latex": [
       "38.2001836547291"
      ],
      "text/markdown": [
       "38.2001836547291"
      ],
      "text/plain": [
       "[1] 38.20018"
      ]
     },
     "metadata": {},
     "output_type": "display_data"
    }
   ],
   "source": [
    "fp_rate = (416/1089)*100\n",
    "fp_rate"
   ]
  },
  {
   "cell_type": "markdown",
   "metadata": {},
   "source": [
    "- We can tell from our confusion matrix, that we have a lot of false positives (about 38% of the total dataset), which gave us a low specificity value. We can say that our logistic model tends to predict return going up more often."
   ]
  },
  {
   "cell_type": "markdown",
   "metadata": {},
   "source": [
    "## Question 3d\n",
    "\n",
    "- Fit the logistic model using a training data period from 1990-2008, with “Lag2”\n",
    "as the only predictor. Compute the confusion matrix, and the overall correct\n",
    "fraction of predictions (aka misclassification rate) for the held out data (that is,\n",
    "the data from 2009 and 2010)."
   ]
  },
  {
   "cell_type": "markdown",
   "metadata": {},
   "source": [
    "### Train test split"
   ]
  },
  {
   "cell_type": "code",
   "execution_count": 414,
   "metadata": {},
   "outputs": [
    {
     "data": {
      "text/html": [
       "<ol class=list-inline>\n",
       "\t<li>1990</li>\n",
       "\t<li>1991</li>\n",
       "\t<li>1992</li>\n",
       "\t<li>1993</li>\n",
       "\t<li>1994</li>\n",
       "\t<li>1995</li>\n",
       "\t<li>1996</li>\n",
       "\t<li>1997</li>\n",
       "\t<li>1998</li>\n",
       "\t<li>1999</li>\n",
       "\t<li>2000</li>\n",
       "\t<li>2001</li>\n",
       "\t<li>2002</li>\n",
       "\t<li>2003</li>\n",
       "\t<li>2004</li>\n",
       "\t<li>2005</li>\n",
       "\t<li>2006</li>\n",
       "\t<li>2007</li>\n",
       "\t<li>2008</li>\n",
       "\t<li>2009</li>\n",
       "\t<li>2010</li>\n",
       "</ol>\n"
      ],
      "text/latex": [
       "\\begin{enumerate*}\n",
       "\\item 1990\n",
       "\\item 1991\n",
       "\\item 1992\n",
       "\\item 1993\n",
       "\\item 1994\n",
       "\\item 1995\n",
       "\\item 1996\n",
       "\\item 1997\n",
       "\\item 1998\n",
       "\\item 1999\n",
       "\\item 2000\n",
       "\\item 2001\n",
       "\\item 2002\n",
       "\\item 2003\n",
       "\\item 2004\n",
       "\\item 2005\n",
       "\\item 2006\n",
       "\\item 2007\n",
       "\\item 2008\n",
       "\\item 2009\n",
       "\\item 2010\n",
       "\\end{enumerate*}\n"
      ],
      "text/markdown": [
       "1. 1990\n",
       "2. 1991\n",
       "3. 1992\n",
       "4. 1993\n",
       "5. 1994\n",
       "6. 1995\n",
       "7. 1996\n",
       "8. 1997\n",
       "9. 1998\n",
       "10. 1999\n",
       "11. 2000\n",
       "12. 2001\n",
       "13. 2002\n",
       "14. 2003\n",
       "15. 2004\n",
       "16. 2005\n",
       "17. 2006\n",
       "18. 2007\n",
       "19. 2008\n",
       "20. 2009\n",
       "21. 2010\n",
       "\n",
       "\n"
      ],
      "text/plain": [
       " [1] 1990 1991 1992 1993 1994 1995 1996 1997 1998 1999 2000 2001 2002 2003 2004\n",
       "[16] 2005 2006 2007 2008 2009 2010"
      ]
     },
     "metadata": {},
     "output_type": "display_data"
    }
   ],
   "source": [
    "unique(Weekly$Year)"
   ]
  },
  {
   "cell_type": "code",
   "execution_count": 437,
   "metadata": {},
   "outputs": [],
   "source": [
    "Weekly_train = Weekly[(Weekly$Year != 2009) & (Weekly$Year != 2009),]\n",
    "Weekly_test = Weekly[(Weekly$Year == 2009) & (Weekly$Year == 2009),]\n"
   ]
  },
  {
   "cell_type": "code",
   "execution_count": 438,
   "metadata": {},
   "outputs": [],
   "source": [
    "Weekly_train = Weekly_train[,c(3,9)]\n",
    "Weekly_test = Weekly_test[,c(3,9)]\n"
   ]
  },
  {
   "cell_type": "code",
   "execution_count": 454,
   "metadata": {},
   "outputs": [],
   "source": [
    "y_true_lag2_train = as.numeric(Weekly_train$Direction)-1\n",
    "y_true_lag2_test = as.numeric(Weekly_test$Direction)-1"
   ]
  },
  {
   "cell_type": "code",
   "execution_count": 439,
   "metadata": {},
   "outputs": [
    {
     "data": {
      "text/html": [
       "<ol class=list-inline>\n",
       "\t<li>1037</li>\n",
       "\t<li>2</li>\n",
       "</ol>\n"
      ],
      "text/latex": [
       "\\begin{enumerate*}\n",
       "\\item 1037\n",
       "\\item 2\n",
       "\\end{enumerate*}\n"
      ],
      "text/markdown": [
       "1. 1037\n",
       "2. 2\n",
       "\n",
       "\n"
      ],
      "text/plain": [
       "[1] 1037    2"
      ]
     },
     "metadata": {},
     "output_type": "display_data"
    },
    {
     "data": {
      "text/html": [
       "<ol class=list-inline>\n",
       "\t<li>52</li>\n",
       "\t<li>2</li>\n",
       "</ol>\n"
      ],
      "text/latex": [
       "\\begin{enumerate*}\n",
       "\\item 52\n",
       "\\item 2\n",
       "\\end{enumerate*}\n"
      ],
      "text/markdown": [
       "1. 52\n",
       "2. 2\n",
       "\n",
       "\n"
      ],
      "text/plain": [
       "[1] 52  2"
      ]
     },
     "metadata": {},
     "output_type": "display_data"
    }
   ],
   "source": [
    "dim(Weekly_train)\n",
    "dim(Weekly_test)\n"
   ]
  },
  {
   "cell_type": "markdown",
   "metadata": {},
   "source": [
    "### logistic regression"
   ]
  },
  {
   "cell_type": "code",
   "execution_count": 440,
   "metadata": {},
   "outputs": [],
   "source": [
    "log_reg_lag2_fit <- glm(Direction ~.,data=Weekly_train, family=\"binomial\")"
   ]
  },
  {
   "cell_type": "code",
   "execution_count": 441,
   "metadata": {},
   "outputs": [
    {
     "data": {
      "text/plain": [
       "\n",
       "Call:\n",
       "glm(formula = Direction ~ ., family = \"binomial\", data = Weekly_train)\n",
       "\n",
       "Deviance Residuals: \n",
       "   Min      1Q  Median      3Q     Max  \n",
       "-1.598  -1.266   1.002   1.084   1.423  \n",
       "\n",
       "Coefficients:\n",
       "            Estimate Std. Error z value Pr(>|z|)    \n",
       "(Intercept)  0.21446    0.06275   3.418 0.000632 ***\n",
       "Lag2         0.07015    0.02809   2.497 0.012511 *  \n",
       "---\n",
       "Signif. codes:  0 '***' 0.001 '**' 0.01 '*' 0.05 '.' 0.1 ' ' 1\n",
       "\n",
       "(Dispersion parameter for binomial family taken to be 1)\n",
       "\n",
       "    Null deviance: 1424.8  on 1036  degrees of freedom\n",
       "Residual deviance: 1418.4  on 1035  degrees of freedom\n",
       "AIC: 1422.4\n",
       "\n",
       "Number of Fisher Scoring iterations: 4\n"
      ]
     },
     "metadata": {},
     "output_type": "display_data"
    }
   ],
   "source": [
    "summary(log_reg_lag2_fit)"
   ]
  },
  {
   "cell_type": "code",
   "execution_count": 446,
   "metadata": {},
   "outputs": [],
   "source": [
    "y_pred_lag2_train <- round(predict(log_reg_lag2_fit,type=\"response\",newdata=Weekly_train))"
   ]
  },
  {
   "cell_type": "code",
   "execution_count": 451,
   "metadata": {},
   "outputs": [
    {
     "data": {
      "text/html": [
       "<table>\n",
       "<thead><tr><th scope=col>y_pred_lag2_train</th><th scope=col>y_true_lag2_train</th><th scope=col>Weekly_train$Direction</th></tr></thead>\n",
       "<tbody>\n",
       "\t<tr><td>1   </td><td>0   </td><td>Down</td></tr>\n",
       "\t<tr><td>1   </td><td>0   </td><td>Down</td></tr>\n",
       "\t<tr><td>1   </td><td>1   </td><td>Up  </td></tr>\n",
       "\t<tr><td>1   </td><td>1   </td><td>Up  </td></tr>\n",
       "\t<tr><td>1   </td><td>1   </td><td>Up  </td></tr>\n",
       "\t<tr><td>1   </td><td>0   </td><td>Down</td></tr>\n",
       "</tbody>\n",
       "</table>\n"
      ],
      "text/latex": [
       "\\begin{tabular}{r|lll}\n",
       " y\\_pred\\_lag2\\_train & y\\_true\\_lag2\\_train & Weekly\\_train\\$Direction\\\\\n",
       "\\hline\n",
       "\t 1    & 0    & Down\\\\\n",
       "\t 1    & 0    & Down\\\\\n",
       "\t 1    & 1    & Up  \\\\\n",
       "\t 1    & 1    & Up  \\\\\n",
       "\t 1    & 1    & Up  \\\\\n",
       "\t 1    & 0    & Down\\\\\n",
       "\\end{tabular}\n"
      ],
      "text/markdown": [
       "\n",
       "| y_pred_lag2_train | y_true_lag2_train | Weekly_train$Direction |\n",
       "|---|---|---|\n",
       "| 1    | 0    | Down |\n",
       "| 1    | 0    | Down |\n",
       "| 1    | 1    | Up   |\n",
       "| 1    | 1    | Up   |\n",
       "| 1    | 1    | Up   |\n",
       "| 1    | 0    | Down |\n",
       "\n"
      ],
      "text/plain": [
       "  y_pred_lag2_train y_true_lag2_train Weekly_train$Direction\n",
       "1 1                 0                 Down                  \n",
       "2 1                 0                 Down                  \n",
       "3 1                 1                 Up                    \n",
       "4 1                 1                 Up                    \n",
       "5 1                 1                 Up                    \n",
       "6 1                 0                 Down                  "
      ]
     },
     "metadata": {},
     "output_type": "display_data"
    }
   ],
   "source": [
    "head(cbind.data.frame(y_pred_lag2_train,y_true_lag2_train,Weekly_train$Direction))"
   ]
  },
  {
   "cell_type": "markdown",
   "metadata": {},
   "source": [
    "#### Test data "
   ]
  },
  {
   "cell_type": "code",
   "execution_count": 448,
   "metadata": {},
   "outputs": [],
   "source": [
    "y_pred_lag2_test <- round(predict(log_reg_lag2_fit,type=\"response\",newdata=Weekly_test))"
   ]
  },
  {
   "cell_type": "code",
   "execution_count": 527,
   "metadata": {},
   "outputs": [],
   "source": [
    "MSE_logreg_train_weekly = MSE(y_pred_lag2_train,y_true_lag2_train)\n",
    "MSE_logreg_test_weekly = MSE(y_pred_lag2_test,y_true_lag2_test)"
   ]
  },
  {
   "cell_type": "code",
   "execution_count": 528,
   "metadata": {},
   "outputs": [
    {
     "data": {
      "text/html": [
       "<table>\n",
       "<tbody>\n",
       "\t<tr><th scope=row>MSE_logreg_train_weekly</th><td>0.4378014</td></tr>\n",
       "\t<tr><th scope=row>MSE_logreg_test_weekly</th><td>0.4423077</td></tr>\n",
       "</tbody>\n",
       "</table>\n"
      ],
      "text/latex": [
       "\\begin{tabular}{r|l}\n",
       "\tMSE\\_logreg\\_train\\_weekly & 0.4378014\\\\\n",
       "\tMSE\\_logreg\\_test\\_weekly & 0.4423077\\\\\n",
       "\\end{tabular}\n"
      ],
      "text/markdown": [
       "\n",
       "| MSE_logreg_train_weekly | 0.4378014 |\n",
       "| MSE_logreg_test_weekly | 0.4423077 |\n",
       "\n"
      ],
      "text/plain": [
       "                        [,1]     \n",
       "MSE_logreg_train_weekly 0.4378014\n",
       "MSE_logreg_test_weekly  0.4423077"
      ]
     },
     "metadata": {},
     "output_type": "display_data"
    }
   ],
   "source": [
    "rbind(MSE_logreg_train_weekly,MSE_logreg_test_weekly)"
   ]
  },
  {
   "cell_type": "code",
   "execution_count": 460,
   "metadata": {},
   "outputs": [],
   "source": [
    "cm_test_lag2 = confusionMatrix(as.factor(y_pred_lag2_test),as.factor(y_true_lag2_test),positive=\"1\")"
   ]
  },
  {
   "cell_type": "code",
   "execution_count": 461,
   "metadata": {},
   "outputs": [
    {
     "data": {
      "text/plain": [
       "Confusion Matrix and Statistics\n",
       "\n",
       "          Reference\n",
       "Prediction  0  1\n",
       "         0  4  4\n",
       "         1 19 25\n",
       "                                          \n",
       "               Accuracy : 0.5577          \n",
       "                 95% CI : (0.4133, 0.6953)\n",
       "    No Information Rate : 0.5577          \n",
       "    P-Value [Acc > NIR] : 0.557522        \n",
       "                                          \n",
       "                  Kappa : 0.0386          \n",
       "                                          \n",
       " Mcnemar's Test P-Value : 0.003509        \n",
       "                                          \n",
       "            Sensitivity : 0.8621          \n",
       "            Specificity : 0.1739          \n",
       "         Pos Pred Value : 0.5682          \n",
       "         Neg Pred Value : 0.5000          \n",
       "             Prevalence : 0.5577          \n",
       "         Detection Rate : 0.4808          \n",
       "   Detection Prevalence : 0.8462          \n",
       "      Balanced Accuracy : 0.5180          \n",
       "                                          \n",
       "       'Positive' Class : 1               \n",
       "                                          "
      ]
     },
     "metadata": {},
     "output_type": "display_data"
    }
   ],
   "source": [
    "cm_test_lag2"
   ]
  },
  {
   "cell_type": "markdown",
   "metadata": {},
   "source": [
    "- logistic regression performed on dataset only using \"Lag2\" as a variable (our most significant variable), we still got the similar result as before, when all variables were included. Same phenomenom can be observed, in the \"new dataset\", we can see that our model also resulted in a higher false positive rate, which resulted in low specificty value."
   ]
  },
  {
   "cell_type": "markdown",
   "metadata": {},
   "source": [
    "## Question 3e\n",
    "- Repeat (d) using LDA."
   ]
  },
  {
   "cell_type": "code",
   "execution_count": 463,
   "metadata": {},
   "outputs": [],
   "source": [
    "lda_fit = lda(Direction~.,data=Weekly_train)"
   ]
  },
  {
   "cell_type": "code",
   "execution_count": 464,
   "metadata": {},
   "outputs": [
    {
     "data": {
      "text/plain": [
       "Call:\n",
       "lda(Direction ~ ., data = Weekly_train)\n",
       "\n",
       "Prior probabilities of groups:\n",
       "     Down        Up \n",
       "0.4445516 0.5554484 \n",
       "\n",
       "Group means:\n",
       "            Lag2\n",
       "Down -0.06443818\n",
       "Up    0.29375174\n",
       "\n",
       "Coefficients of linear discriminants:\n",
       "           LD1\n",
       "Lag2 0.4405173"
      ]
     },
     "metadata": {},
     "output_type": "display_data"
    }
   ],
   "source": [
    "lda_fit"
   ]
  },
  {
   "cell_type": "code",
   "execution_count": 469,
   "metadata": {},
   "outputs": [],
   "source": [
    "lda_pred_train <-predict(lda_fit,newdata=Weekly_train)$class"
   ]
  },
  {
   "cell_type": "code",
   "execution_count": 481,
   "metadata": {},
   "outputs": [],
   "source": [
    "cm_train_lag2_lda = confusionMatrix(as.factor(Weekly_train$Direction),as.factor(lda_pred_train),positive=\"Up\")"
   ]
  },
  {
   "cell_type": "code",
   "execution_count": 482,
   "metadata": {},
   "outputs": [
    {
     "data": {
      "text/plain": [
       "Confusion Matrix and Statistics\n",
       "\n",
       "          Reference\n",
       "Prediction Down  Up\n",
       "      Down   34 427\n",
       "      Up     27 549\n",
       "                                          \n",
       "               Accuracy : 0.5622          \n",
       "                 95% CI : (0.5314, 0.5927)\n",
       "    No Information Rate : 0.9412          \n",
       "    P-Value [Acc > NIR] : 1               \n",
       "                                          \n",
       "                  Kappa : 0.0294          \n",
       "                                          \n",
       " Mcnemar's Test P-Value : <2e-16          \n",
       "                                          \n",
       "            Sensitivity : 0.56250         \n",
       "            Specificity : 0.55738         \n",
       "         Pos Pred Value : 0.95312         \n",
       "         Neg Pred Value : 0.07375         \n",
       "             Prevalence : 0.94118         \n",
       "         Detection Rate : 0.52941         \n",
       "   Detection Prevalence : 0.55545         \n",
       "      Balanced Accuracy : 0.55994         \n",
       "                                          \n",
       "       'Positive' Class : Up              \n",
       "                                          "
      ]
     },
     "metadata": {},
     "output_type": "display_data"
    }
   ],
   "source": [
    "cm_train_lag2_lda"
   ]
  },
  {
   "cell_type": "code",
   "execution_count": 483,
   "metadata": {},
   "outputs": [],
   "source": [
    "lda_pred_test <-predict(lda_fit,newdata=Weekly_test)$class"
   ]
  },
  {
   "cell_type": "code",
   "execution_count": 484,
   "metadata": {},
   "outputs": [],
   "source": [
    "cm_test_lag2_lda = confusionMatrix(as.factor(Weekly_test$Direction),as.factor(lda_pred_test),positive=\"Up\")"
   ]
  },
  {
   "cell_type": "code",
   "execution_count": 485,
   "metadata": {},
   "outputs": [
    {
     "data": {
      "text/plain": [
       "Confusion Matrix and Statistics\n",
       "\n",
       "          Reference\n",
       "Prediction Down Up\n",
       "      Down    4 19\n",
       "      Up      4 25\n",
       "                                          \n",
       "               Accuracy : 0.5577          \n",
       "                 95% CI : (0.4133, 0.6953)\n",
       "    No Information Rate : 0.8462          \n",
       "    P-Value [Acc > NIR] : 1.000000        \n",
       "                                          \n",
       "                  Kappa : 0.0386          \n",
       "                                          \n",
       " Mcnemar's Test P-Value : 0.003509        \n",
       "                                          \n",
       "            Sensitivity : 0.5682          \n",
       "            Specificity : 0.5000          \n",
       "         Pos Pred Value : 0.8621          \n",
       "         Neg Pred Value : 0.1739          \n",
       "             Prevalence : 0.8462          \n",
       "         Detection Rate : 0.4808          \n",
       "   Detection Prevalence : 0.5577          \n",
       "      Balanced Accuracy : 0.5341          \n",
       "                                          \n",
       "       'Positive' Class : Up              \n",
       "                                          "
      ]
     },
     "metadata": {},
     "output_type": "display_data"
    }
   ],
   "source": [
    "cm_test_lag2_lda"
   ]
  },
  {
   "cell_type": "code",
   "execution_count": null,
   "metadata": {},
   "outputs": [],
   "source": [
    "MSE_lda_train_Weekly = as.numeric(1- cm_train_lag2_lda$overall['Accuracy'])\n",
    "MSE_lda_test_Weekly = as.numeric(1- cm_test_lag2_lda$overall['Accuracy'])"
   ]
  },
  {
   "cell_type": "code",
   "execution_count": 492,
   "metadata": {},
   "outputs": [
    {
     "data": {
      "text/html": [
       "0.437801350048216"
      ],
      "text/latex": [
       "0.437801350048216"
      ],
      "text/markdown": [
       "0.437801350048216"
      ],
      "text/plain": [
       "[1] 0.4378014"
      ]
     },
     "metadata": {},
     "output_type": "display_data"
    },
    {
     "data": {
      "text/html": [
       "0.442307692307692"
      ],
      "text/latex": [
       "0.442307692307692"
      ],
      "text/markdown": [
       "0.442307692307692"
      ],
      "text/plain": [
       "[1] 0.4423077"
      ]
     },
     "metadata": {},
     "output_type": "display_data"
    }
   ],
   "source": [
    "MSE_lda_train_Weekly\n",
    "MSE_lda_test_Weekly"
   ]
  },
  {
   "cell_type": "markdown",
   "metadata": {},
   "source": [
    "- as we can see that MSE values for training and testing are not very similar to that of results from logistic regression. Interestingly, though, you we take a look at the confusion matrix (both training and testing) from LDA results. We can see that we have a lot of false negative results, we know that this would give us a low F1 score, and lower out sensitivity values. This is interesting, we can say that unlike logistic regression which tend to have more false positives and tend to predict positive returns. LDA tends to predict the stock having negative returns."
   ]
  },
  {
   "cell_type": "markdown",
   "metadata": {},
   "source": [
    "## Question 2f\n",
    "- Repeat (d) using KNN with k=1"
   ]
  },
  {
   "cell_type": "code",
   "execution_count": 493,
   "metadata": {},
   "outputs": [
    {
     "name": "stderr",
     "output_type": "stream",
     "text": [
      "Warning message:\n",
      "\"package 'class' was built under R version 3.6.3\""
     ]
    }
   ],
   "source": [
    "library(class)"
   ]
  },
  {
   "cell_type": "code",
   "execution_count": 504,
   "metadata": {},
   "outputs": [],
   "source": [
    "y_pred_train_knn <- knn(train = data.matrix(Weekly_train$Lag2), test = data.matrix(Weekly_train$Lag2), cl = data.matrix(y_true_lag2_train), k =1)"
   ]
  },
  {
   "cell_type": "code",
   "execution_count": 511,
   "metadata": {},
   "outputs": [],
   "source": [
    "knn_cm_train <- confusionMatrix(as.factor(y_pred_train_knn),as.factor(y_true_lag2_train),positive=\"1\")"
   ]
  },
  {
   "cell_type": "code",
   "execution_count": 512,
   "metadata": {},
   "outputs": [
    {
     "data": {
      "text/plain": [
       "Confusion Matrix and Statistics\n",
       "\n",
       "          Reference\n",
       "Prediction   0   1\n",
       "         0 440  22\n",
       "         1  21 554\n",
       "                                          \n",
       "               Accuracy : 0.9585          \n",
       "                 95% CI : (0.9445, 0.9698)\n",
       "    No Information Rate : 0.5554          \n",
       "    P-Value [Acc > NIR] : <2e-16          \n",
       "                                          \n",
       "                  Kappa : 0.9161          \n",
       "                                          \n",
       " Mcnemar's Test P-Value : 1               \n",
       "                                          \n",
       "            Sensitivity : 0.9618          \n",
       "            Specificity : 0.9544          \n",
       "         Pos Pred Value : 0.9635          \n",
       "         Neg Pred Value : 0.9524          \n",
       "             Prevalence : 0.5554          \n",
       "         Detection Rate : 0.5342          \n",
       "   Detection Prevalence : 0.5545          \n",
       "      Balanced Accuracy : 0.9581          \n",
       "                                          \n",
       "       'Positive' Class : 1               \n",
       "                                          "
      ]
     },
     "metadata": {},
     "output_type": "display_data"
    }
   ],
   "source": [
    "knn_cm_train"
   ]
  },
  {
   "cell_type": "code",
   "execution_count": 523,
   "metadata": {},
   "outputs": [],
   "source": [
    "MSE_knn_train_weekly= as.numeric(1- knn_cm_train$overall['Accuracy'])"
   ]
  },
  {
   "cell_type": "code",
   "execution_count": 505,
   "metadata": {},
   "outputs": [],
   "source": [
    "y_pred_test_knn <- knn(train = data.matrix(Weekly_test$Lag2), test = data.matrix(Weekly_test$Lag2), cl = data.matrix(y_true_lag2_test), k =1)"
   ]
  },
  {
   "cell_type": "code",
   "execution_count": 524,
   "metadata": {},
   "outputs": [],
   "source": [
    "knn_cm_test <- confusionMatrix(as.factor(y_pred_test_knn),as.factor(y_true_lag2_test),positive=\"1\")"
   ]
  },
  {
   "cell_type": "code",
   "execution_count": 525,
   "metadata": {},
   "outputs": [
    {
     "data": {
      "text/plain": [
       "Confusion Matrix and Statistics\n",
       "\n",
       "          Reference\n",
       "Prediction  0  1\n",
       "         0 23  0\n",
       "         1  0 29\n",
       "                                     \n",
       "               Accuracy : 1          \n",
       "                 95% CI : (0.9315, 1)\n",
       "    No Information Rate : 0.5577     \n",
       "    P-Value [Acc > NIR] : 6.494e-14  \n",
       "                                     \n",
       "                  Kappa : 1          \n",
       "                                     \n",
       " Mcnemar's Test P-Value : NA         \n",
       "                                     \n",
       "            Sensitivity : 1.0000     \n",
       "            Specificity : 1.0000     \n",
       "         Pos Pred Value : 1.0000     \n",
       "         Neg Pred Value : 1.0000     \n",
       "             Prevalence : 0.5577     \n",
       "         Detection Rate : 0.5577     \n",
       "   Detection Prevalence : 0.5577     \n",
       "      Balanced Accuracy : 1.0000     \n",
       "                                     \n",
       "       'Positive' Class : 1          \n",
       "                                     "
      ]
     },
     "metadata": {},
     "output_type": "display_data"
    }
   ],
   "source": [
    "knn_cm_test"
   ]
  },
  {
   "cell_type": "code",
   "execution_count": 526,
   "metadata": {},
   "outputs": [],
   "source": [
    "MSE_knn_test_weekly = as.numeric(1- knn_cm_test$overall['Accuracy'])"
   ]
  },
  {
   "cell_type": "code",
   "execution_count": 533,
   "metadata": {},
   "outputs": [
    {
     "data": {
      "text/html": [
       "<table>\n",
       "<tbody>\n",
       "\t<tr><th scope=row>MSE_knn_train_weekly</th><td>0.04146577</td></tr>\n",
       "\t<tr><th scope=row>MSE_knn_test_weekly</th><td>0.00000000</td></tr>\n",
       "</tbody>\n",
       "</table>\n"
      ],
      "text/latex": [
       "\\begin{tabular}{r|l}\n",
       "\tMSE\\_knn\\_train\\_weekly & 0.04146577\\\\\n",
       "\tMSE\\_knn\\_test\\_weekly & 0.00000000\\\\\n",
       "\\end{tabular}\n"
      ],
      "text/markdown": [
       "\n",
       "| MSE_knn_train_weekly | 0.04146577 |\n",
       "| MSE_knn_test_weekly | 0.00000000 |\n",
       "\n"
      ],
      "text/plain": [
       "                     [,1]      \n",
       "MSE_knn_train_weekly 0.04146577\n",
       "MSE_knn_test_weekly  0.00000000"
      ]
     },
     "metadata": {},
     "output_type": "display_data"
    }
   ],
   "source": [
    "rbind(MSE_knn_train_weekly,MSE_knn_test_weekly)"
   ]
  },
  {
   "cell_type": "markdown",
   "metadata": {},
   "source": [
    "- After performing KNN, we can see that MSE's are significantly smaller in both training and testing sets than the other two methos (logistic regression and LDA). "
   ]
  },
  {
   "cell_type": "markdown",
   "metadata": {},
   "source": [
    "## Question 3g\n",
    "- Which method appears to provide the best results?"
   ]
  },
  {
   "cell_type": "code",
   "execution_count": 531,
   "metadata": {},
   "outputs": [],
   "source": [
    "MSE_values = rbind(MSE_logreg_train_weekly,MSE_logreg_test_weekly,MSE_lda_train_Weekly,MSE_lda_test_Weekly,MSE_knn_train,MSE_knn_test)"
   ]
  },
  {
   "cell_type": "code",
   "execution_count": 532,
   "metadata": {},
   "outputs": [
    {
     "data": {
      "text/html": [
       "<table>\n",
       "<tbody>\n",
       "\t<tr><th scope=row>MSE_logreg_train_weekly</th><td>0.43780135</td></tr>\n",
       "\t<tr><th scope=row>MSE_logreg_test_weekly</th><td>0.44230769</td></tr>\n",
       "\t<tr><th scope=row>MSE_lda_train_Weekly</th><td>0.43780135</td></tr>\n",
       "\t<tr><th scope=row>MSE_lda_test_Weekly</th><td>0.44230769</td></tr>\n",
       "\t<tr><th scope=row>MSE_knn_train</th><td>0.04146577</td></tr>\n",
       "\t<tr><th scope=row>MSE_knn_test</th><td>0.00000000</td></tr>\n",
       "</tbody>\n",
       "</table>\n"
      ],
      "text/latex": [
       "\\begin{tabular}{r|l}\n",
       "\tMSE\\_logreg\\_train\\_weekly & 0.43780135\\\\\n",
       "\tMSE\\_logreg\\_test\\_weekly & 0.44230769\\\\\n",
       "\tMSE\\_lda\\_train\\_Weekly & 0.43780135\\\\\n",
       "\tMSE\\_lda\\_test\\_Weekly & 0.44230769\\\\\n",
       "\tMSE\\_knn\\_train & 0.04146577\\\\\n",
       "\tMSE\\_knn\\_test & 0.00000000\\\\\n",
       "\\end{tabular}\n"
      ],
      "text/markdown": [
       "\n",
       "| MSE_logreg_train_weekly | 0.43780135 |\n",
       "| MSE_logreg_test_weekly | 0.44230769 |\n",
       "| MSE_lda_train_Weekly | 0.43780135 |\n",
       "| MSE_lda_test_Weekly | 0.44230769 |\n",
       "| MSE_knn_train | 0.04146577 |\n",
       "| MSE_knn_test | 0.00000000 |\n",
       "\n"
      ],
      "text/plain": [
       "                        [,1]      \n",
       "MSE_logreg_train_weekly 0.43780135\n",
       "MSE_logreg_test_weekly  0.44230769\n",
       "MSE_lda_train_Weekly    0.43780135\n",
       "MSE_lda_test_Weekly     0.44230769\n",
       "MSE_knn_train           0.04146577\n",
       "MSE_knn_test            0.00000000"
      ]
     },
     "metadata": {},
     "output_type": "display_data"
    }
   ],
   "source": [
    "MSE_values"
   ]
  },
  {
   "cell_type": "markdown",
   "metadata": {},
   "source": [
    "- It is very apparent in this case that KNN out performed both logistic regression and LDA by a LOT! Not only KNN results have significantly lower MSE values, it also didnt suffer from the problems that the other two methods. Logistic regression resulted in high false positive cases which would drove down the specificity value. And on the other end, LDA resuled in high false negative cases which drove down the sensitivity values. "
   ]
  },
  {
   "cell_type": "markdown",
   "metadata": {},
   "source": [
    "## Question 3h\n",
    "- Experiment with different combinations of predictors, including possible\n",
    "transformations and interactions, for each method. Report the variables,\n",
    "method, and associated confusion matrix that appears to provide the best results\n",
    "on the held-out data. Note that you should also experiment with values for K\n",
    "in the kNN classifier. "
   ]
  },
  {
   "cell_type": "markdown",
   "metadata": {},
   "source": [
    "- One thing I am quite curious about, is LDA's performance on dataset including the \"today\" variable. We can tell from our pair wise plots, that classes are well separated in the bivariate plots of \"today\" variable with other variables. Since LDA is based on maximizing the separability between classes, LDA ideally should perform well. \n",
    "- Let's try it on dataset only including today variable first!"
   ]
  },
  {
   "cell_type": "markdown",
   "metadata": {},
   "source": [
    "#### Split the data same way as before"
   ]
  },
  {
   "cell_type": "code",
   "execution_count": 537,
   "metadata": {},
   "outputs": [],
   "source": [
    "train = Weekly[(Weekly$Year != 2009) & (Weekly$Year != 2009),]\n",
    "test = Weekly[(Weekly$Year == 2009) & (Weekly$Year == 2009),]\n"
   ]
  },
  {
   "cell_type": "code",
   "execution_count": 541,
   "metadata": {},
   "outputs": [],
   "source": [
    "my_weekly_train = train[,c(7,9)]\n",
    "my_weekly_test = test[,c(7,9)]"
   ]
  },
  {
   "cell_type": "code",
   "execution_count": 542,
   "metadata": {},
   "outputs": [],
   "source": [
    "lda_fit = qda(Direction~.,data=my_weekly_train)"
   ]
  },
  {
   "cell_type": "code",
   "execution_count": 544,
   "metadata": {},
   "outputs": [],
   "source": [
    "lda_pred_train = predict(lda_fit,newdata=my_weekly_train)$class"
   ]
  },
  {
   "cell_type": "code",
   "execution_count": 545,
   "metadata": {},
   "outputs": [],
   "source": [
    "cm_lda_train = confusionMatrix(as.factor(my_weekly_train$Direction),as.factor(lda_pred_train),positive=\"Up\")"
   ]
  },
  {
   "cell_type": "code",
   "execution_count": 546,
   "metadata": {},
   "outputs": [
    {
     "data": {
      "text/plain": [
       "Confusion Matrix and Statistics\n",
       "\n",
       "          Reference\n",
       "Prediction Down  Up\n",
       "      Down  422  39\n",
       "      Up      0 576\n",
       "                                          \n",
       "               Accuracy : 0.9624          \n",
       "                 95% CI : (0.9489, 0.9731)\n",
       "    No Information Rate : 0.5931          \n",
       "    P-Value [Acc > NIR] : < 2.2e-16       \n",
       "                                          \n",
       "                  Kappa : 0.9232          \n",
       "                                          \n",
       " Mcnemar's Test P-Value : 1.166e-09       \n",
       "                                          \n",
       "            Sensitivity : 0.9366          \n",
       "            Specificity : 1.0000          \n",
       "         Pos Pred Value : 1.0000          \n",
       "         Neg Pred Value : 0.9154          \n",
       "             Prevalence : 0.5931          \n",
       "         Detection Rate : 0.5554          \n",
       "   Detection Prevalence : 0.5554          \n",
       "      Balanced Accuracy : 0.9683          \n",
       "                                          \n",
       "       'Positive' Class : Up              \n",
       "                                          "
      ]
     },
     "metadata": {},
     "output_type": "display_data"
    }
   ],
   "source": [
    "cm_lda_train"
   ]
  },
  {
   "cell_type": "code",
   "execution_count": 548,
   "metadata": {},
   "outputs": [],
   "source": [
    "lda_pred_test = predict(lda_fit,newdata=my_weekly_test)$class"
   ]
  },
  {
   "cell_type": "code",
   "execution_count": 551,
   "metadata": {},
   "outputs": [],
   "source": [
    "cm_lda_test = confusionMatrix(as.factor(my_weekly_test$Direction),as.factor(lda_pred_test),positive=\"Up\")"
   ]
  },
  {
   "cell_type": "code",
   "execution_count": 552,
   "metadata": {},
   "outputs": [
    {
     "data": {
      "text/plain": [
       "Confusion Matrix and Statistics\n",
       "\n",
       "          Reference\n",
       "Prediction Down Up\n",
       "      Down   22  1\n",
       "      Up      0 29\n",
       "                                          \n",
       "               Accuracy : 0.9808          \n",
       "                 95% CI : (0.8974, 0.9995)\n",
       "    No Information Rate : 0.5769          \n",
       "    P-Value [Acc > NIR] : 1.481e-11       \n",
       "                                          \n",
       "                  Kappa : 0.9608          \n",
       "                                          \n",
       " Mcnemar's Test P-Value : 1               \n",
       "                                          \n",
       "            Sensitivity : 0.9667          \n",
       "            Specificity : 1.0000          \n",
       "         Pos Pred Value : 1.0000          \n",
       "         Neg Pred Value : 0.9565          \n",
       "             Prevalence : 0.5769          \n",
       "         Detection Rate : 0.5577          \n",
       "   Detection Prevalence : 0.5577          \n",
       "      Balanced Accuracy : 0.9833          \n",
       "                                          \n",
       "       'Positive' Class : Up              \n",
       "                                          "
      ]
     },
     "metadata": {},
     "output_type": "display_data"
    }
   ],
   "source": [
    "cm_lda_test"
   ]
  },
  {
   "cell_type": "code",
   "execution_count": 553,
   "metadata": {},
   "outputs": [],
   "source": [
    "MSE_lda_today_train = as.numeric(1- cm_lda_train$overall['Accuracy'])\n",
    "MSE_lda_today_test = as.numeric(1- cm_lda_test$overall['Accuracy'])"
   ]
  },
  {
   "cell_type": "code",
   "execution_count": 554,
   "metadata": {},
   "outputs": [],
   "source": [
    "MSE_values = rbind(MSE_logreg_train_weekly,MSE_logreg_test_weekly,MSE_lda_train_Weekly,MSE_lda_test_Weekly,MSE_knn_train,MSE_knn_test,MSE_lda_today_train,MSE_lda_today_test)"
   ]
  },
  {
   "cell_type": "code",
   "execution_count": 555,
   "metadata": {},
   "outputs": [
    {
     "data": {
      "text/html": [
       "<table>\n",
       "<tbody>\n",
       "\t<tr><th scope=row>MSE_logreg_train_weekly</th><td>0.43780135</td></tr>\n",
       "\t<tr><th scope=row>MSE_logreg_test_weekly</th><td>0.44230769</td></tr>\n",
       "\t<tr><th scope=row>MSE_lda_train_Weekly</th><td>0.43780135</td></tr>\n",
       "\t<tr><th scope=row>MSE_lda_test_Weekly</th><td>0.44230769</td></tr>\n",
       "\t<tr><th scope=row>MSE_knn_train</th><td>0.04146577</td></tr>\n",
       "\t<tr><th scope=row>MSE_knn_test</th><td>0.00000000</td></tr>\n",
       "\t<tr><th scope=row>MSE_lda_today_train</th><td>0.03760849</td></tr>\n",
       "\t<tr><th scope=row>MSE_lda_today_test</th><td>0.01923077</td></tr>\n",
       "</tbody>\n",
       "</table>\n"
      ],
      "text/latex": [
       "\\begin{tabular}{r|l}\n",
       "\tMSE\\_logreg\\_train\\_weekly & 0.43780135\\\\\n",
       "\tMSE\\_logreg\\_test\\_weekly & 0.44230769\\\\\n",
       "\tMSE\\_lda\\_train\\_Weekly & 0.43780135\\\\\n",
       "\tMSE\\_lda\\_test\\_Weekly & 0.44230769\\\\\n",
       "\tMSE\\_knn\\_train & 0.04146577\\\\\n",
       "\tMSE\\_knn\\_test & 0.00000000\\\\\n",
       "\tMSE\\_lda\\_today\\_train & 0.03760849\\\\\n",
       "\tMSE\\_lda\\_today\\_test & 0.01923077\\\\\n",
       "\\end{tabular}\n"
      ],
      "text/markdown": [
       "\n",
       "| MSE_logreg_train_weekly | 0.43780135 |\n",
       "| MSE_logreg_test_weekly | 0.44230769 |\n",
       "| MSE_lda_train_Weekly | 0.43780135 |\n",
       "| MSE_lda_test_Weekly | 0.44230769 |\n",
       "| MSE_knn_train | 0.04146577 |\n",
       "| MSE_knn_test | 0.00000000 |\n",
       "| MSE_lda_today_train | 0.03760849 |\n",
       "| MSE_lda_today_test | 0.01923077 |\n",
       "\n"
      ],
      "text/plain": [
       "                        [,1]      \n",
       "MSE_logreg_train_weekly 0.43780135\n",
       "MSE_logreg_test_weekly  0.44230769\n",
       "MSE_lda_train_Weekly    0.43780135\n",
       "MSE_lda_test_Weekly     0.44230769\n",
       "MSE_knn_train           0.04146577\n",
       "MSE_knn_test            0.00000000\n",
       "MSE_lda_today_train     0.03760849\n",
       "MSE_lda_today_test      0.01923077"
      ]
     },
     "metadata": {},
     "output_type": "display_data"
    }
   ],
   "source": [
    "MSE_values"
   ]
  },
  {
   "cell_type": "markdown",
   "metadata": {},
   "source": [
    "- Voila! Well, we can see that our new LDA model (which only includes \"Today\") variables performed really well, comparable to that result of KNN, this may have supported that my earlier claim. LDA performs well when variables clearly separates the classes!"
   ]
  }
 ],
 "metadata": {
  "kernelspec": {
   "display_name": "R",
   "language": "R",
   "name": "ir"
  },
  "language_info": {
   "codemirror_mode": "r",
   "file_extension": ".r",
   "mimetype": "text/x-r-source",
   "name": "R",
   "pygments_lexer": "r",
   "version": "3.6.1"
  }
 },
 "nbformat": 4,
 "nbformat_minor": 4
}
