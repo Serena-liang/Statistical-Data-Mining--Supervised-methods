{
 "cells": [
  {
   "cell_type": "code",
   "execution_count": 2,
   "metadata": {},
   "outputs": [],
   "source": [
    "setwd('C:/Users/qlian/OneDrive/Desktop/Grad Fall 2020 Courses/EAS 506 Statistical Mining I/WEEK6')"
   ]
  },
  {
   "cell_type": "markdown",
   "metadata": {},
   "source": [
    "## Import Libraries"
   ]
  },
  {
   "cell_type": "code",
   "execution_count": 2,
   "metadata": {},
   "outputs": [
    {
     "name": "stderr",
     "output_type": "stream",
     "text": [
      "Warning message:\n",
      "\"package 'leaps' was built under R version 3.6.3\"Warning message:\n",
      "\"package 'Metrics' was built under R version 3.6.3\""
     ]
    }
   ],
   "source": [
    "library(leaps)\n",
    "library(Metrics)"
   ]
  },
  {
   "cell_type": "markdown",
   "metadata": {},
   "source": [
    "# Question 1\n",
    "\n",
    "The insurance company benchmark data set gives information on customers.\n",
    "Specifically, it contains 86 variables on product-usage data and socio-demographic\n",
    "data derived from zip area codes. There are 5,822 customers in the training set and\n",
    "another 4,000 in the test set. The data were collected to answer the following\n",
    "questions: Can you predict who will be interested in buying a caravan insurance\n",
    "policy and give an explanation why? Compute the OLS estimates and compare them\n",
    "with those obtained from the following variable-selection algorithms: Forwards\n",
    "Selection, Backwards Selection, Lasso regression, and Ridge regression. Support\n",
    "your answer.\n",
    "\n",
    "\n",
    "(The data can be downloaded from https://kdd.ics.uci.edu/databases/tic/tic.html. )"
   ]
  },
  {
   "cell_type": "markdown",
   "metadata": {},
   "source": [
    "## Load dataset and define dependent and independent variables"
   ]
  },
  {
   "cell_type": "markdown",
   "metadata": {},
   "source": [
    "The training set provided includes the response variable (the 86th variable specifically). Let's go ahead and separate that out!"
   ]
  },
  {
   "cell_type": "markdown",
   "metadata": {},
   "source": [
    "### Training set"
   ]
  },
  {
   "cell_type": "code",
   "execution_count": 3,
   "metadata": {},
   "outputs": [],
   "source": [
    "df_train = read.csv(\"ticdata2000.txt\",header=F,na.string=\"?\",sep=\"\\t\")"
   ]
  },
  {
   "cell_type": "code",
   "execution_count": 4,
   "metadata": {},
   "outputs": [
    {
     "data": {
      "text/html": [
       "<ol class=list-inline>\n",
       "\t<li>'V1'</li>\n",
       "\t<li>'V2'</li>\n",
       "\t<li>'V3'</li>\n",
       "\t<li>'V4'</li>\n",
       "\t<li>'V5'</li>\n",
       "\t<li>'V6'</li>\n",
       "\t<li>'V7'</li>\n",
       "\t<li>'V8'</li>\n",
       "\t<li>'V9'</li>\n",
       "\t<li>'V10'</li>\n",
       "\t<li>'V11'</li>\n",
       "\t<li>'V12'</li>\n",
       "\t<li>'V13'</li>\n",
       "\t<li>'V14'</li>\n",
       "\t<li>'V15'</li>\n",
       "\t<li>'V16'</li>\n",
       "\t<li>'V17'</li>\n",
       "\t<li>'V18'</li>\n",
       "\t<li>'V19'</li>\n",
       "\t<li>'V20'</li>\n",
       "\t<li>'V21'</li>\n",
       "\t<li>'V22'</li>\n",
       "\t<li>'V23'</li>\n",
       "\t<li>'V24'</li>\n",
       "\t<li>'V25'</li>\n",
       "\t<li>'V26'</li>\n",
       "\t<li>'V27'</li>\n",
       "\t<li>'V28'</li>\n",
       "\t<li>'V29'</li>\n",
       "\t<li>'V30'</li>\n",
       "\t<li>'V31'</li>\n",
       "\t<li>'V32'</li>\n",
       "\t<li>'V33'</li>\n",
       "\t<li>'V34'</li>\n",
       "\t<li>'V35'</li>\n",
       "\t<li>'V36'</li>\n",
       "\t<li>'V37'</li>\n",
       "\t<li>'V38'</li>\n",
       "\t<li>'V39'</li>\n",
       "\t<li>'V40'</li>\n",
       "\t<li>'V41'</li>\n",
       "\t<li>'V42'</li>\n",
       "\t<li>'V43'</li>\n",
       "\t<li>'V44'</li>\n",
       "\t<li>'V45'</li>\n",
       "\t<li>'V46'</li>\n",
       "\t<li>'V47'</li>\n",
       "\t<li>'V48'</li>\n",
       "\t<li>'V49'</li>\n",
       "\t<li>'V50'</li>\n",
       "\t<li>'V51'</li>\n",
       "\t<li>'V52'</li>\n",
       "\t<li>'V53'</li>\n",
       "\t<li>'V54'</li>\n",
       "\t<li>'V55'</li>\n",
       "\t<li>'V56'</li>\n",
       "\t<li>'V57'</li>\n",
       "\t<li>'V58'</li>\n",
       "\t<li>'V59'</li>\n",
       "\t<li>'V60'</li>\n",
       "\t<li>'V61'</li>\n",
       "\t<li>'V62'</li>\n",
       "\t<li>'V63'</li>\n",
       "\t<li>'V64'</li>\n",
       "\t<li>'V65'</li>\n",
       "\t<li>'V66'</li>\n",
       "\t<li>'V67'</li>\n",
       "\t<li>'V68'</li>\n",
       "\t<li>'V69'</li>\n",
       "\t<li>'V70'</li>\n",
       "\t<li>'V71'</li>\n",
       "\t<li>'V72'</li>\n",
       "\t<li>'V73'</li>\n",
       "\t<li>'V74'</li>\n",
       "\t<li>'V75'</li>\n",
       "\t<li>'V76'</li>\n",
       "\t<li>'V77'</li>\n",
       "\t<li>'V78'</li>\n",
       "\t<li>'V79'</li>\n",
       "\t<li>'V80'</li>\n",
       "\t<li>'V81'</li>\n",
       "\t<li>'V82'</li>\n",
       "\t<li>'V83'</li>\n",
       "\t<li>'V84'</li>\n",
       "\t<li>'V85'</li>\n",
       "\t<li>'V86'</li>\n",
       "</ol>\n"
      ],
      "text/latex": [
       "\\begin{enumerate*}\n",
       "\\item 'V1'\n",
       "\\item 'V2'\n",
       "\\item 'V3'\n",
       "\\item 'V4'\n",
       "\\item 'V5'\n",
       "\\item 'V6'\n",
       "\\item 'V7'\n",
       "\\item 'V8'\n",
       "\\item 'V9'\n",
       "\\item 'V10'\n",
       "\\item 'V11'\n",
       "\\item 'V12'\n",
       "\\item 'V13'\n",
       "\\item 'V14'\n",
       "\\item 'V15'\n",
       "\\item 'V16'\n",
       "\\item 'V17'\n",
       "\\item 'V18'\n",
       "\\item 'V19'\n",
       "\\item 'V20'\n",
       "\\item 'V21'\n",
       "\\item 'V22'\n",
       "\\item 'V23'\n",
       "\\item 'V24'\n",
       "\\item 'V25'\n",
       "\\item 'V26'\n",
       "\\item 'V27'\n",
       "\\item 'V28'\n",
       "\\item 'V29'\n",
       "\\item 'V30'\n",
       "\\item 'V31'\n",
       "\\item 'V32'\n",
       "\\item 'V33'\n",
       "\\item 'V34'\n",
       "\\item 'V35'\n",
       "\\item 'V36'\n",
       "\\item 'V37'\n",
       "\\item 'V38'\n",
       "\\item 'V39'\n",
       "\\item 'V40'\n",
       "\\item 'V41'\n",
       "\\item 'V42'\n",
       "\\item 'V43'\n",
       "\\item 'V44'\n",
       "\\item 'V45'\n",
       "\\item 'V46'\n",
       "\\item 'V47'\n",
       "\\item 'V48'\n",
       "\\item 'V49'\n",
       "\\item 'V50'\n",
       "\\item 'V51'\n",
       "\\item 'V52'\n",
       "\\item 'V53'\n",
       "\\item 'V54'\n",
       "\\item 'V55'\n",
       "\\item 'V56'\n",
       "\\item 'V57'\n",
       "\\item 'V58'\n",
       "\\item 'V59'\n",
       "\\item 'V60'\n",
       "\\item 'V61'\n",
       "\\item 'V62'\n",
       "\\item 'V63'\n",
       "\\item 'V64'\n",
       "\\item 'V65'\n",
       "\\item 'V66'\n",
       "\\item 'V67'\n",
       "\\item 'V68'\n",
       "\\item 'V69'\n",
       "\\item 'V70'\n",
       "\\item 'V71'\n",
       "\\item 'V72'\n",
       "\\item 'V73'\n",
       "\\item 'V74'\n",
       "\\item 'V75'\n",
       "\\item 'V76'\n",
       "\\item 'V77'\n",
       "\\item 'V78'\n",
       "\\item 'V79'\n",
       "\\item 'V80'\n",
       "\\item 'V81'\n",
       "\\item 'V82'\n",
       "\\item 'V83'\n",
       "\\item 'V84'\n",
       "\\item 'V85'\n",
       "\\item 'V86'\n",
       "\\end{enumerate*}\n"
      ],
      "text/markdown": [
       "1. 'V1'\n",
       "2. 'V2'\n",
       "3. 'V3'\n",
       "4. 'V4'\n",
       "5. 'V5'\n",
       "6. 'V6'\n",
       "7. 'V7'\n",
       "8. 'V8'\n",
       "9. 'V9'\n",
       "10. 'V10'\n",
       "11. 'V11'\n",
       "12. 'V12'\n",
       "13. 'V13'\n",
       "14. 'V14'\n",
       "15. 'V15'\n",
       "16. 'V16'\n",
       "17. 'V17'\n",
       "18. 'V18'\n",
       "19. 'V19'\n",
       "20. 'V20'\n",
       "21. 'V21'\n",
       "22. 'V22'\n",
       "23. 'V23'\n",
       "24. 'V24'\n",
       "25. 'V25'\n",
       "26. 'V26'\n",
       "27. 'V27'\n",
       "28. 'V28'\n",
       "29. 'V29'\n",
       "30. 'V30'\n",
       "31. 'V31'\n",
       "32. 'V32'\n",
       "33. 'V33'\n",
       "34. 'V34'\n",
       "35. 'V35'\n",
       "36. 'V36'\n",
       "37. 'V37'\n",
       "38. 'V38'\n",
       "39. 'V39'\n",
       "40. 'V40'\n",
       "41. 'V41'\n",
       "42. 'V42'\n",
       "43. 'V43'\n",
       "44. 'V44'\n",
       "45. 'V45'\n",
       "46. 'V46'\n",
       "47. 'V47'\n",
       "48. 'V48'\n",
       "49. 'V49'\n",
       "50. 'V50'\n",
       "51. 'V51'\n",
       "52. 'V52'\n",
       "53. 'V53'\n",
       "54. 'V54'\n",
       "55. 'V55'\n",
       "56. 'V56'\n",
       "57. 'V57'\n",
       "58. 'V58'\n",
       "59. 'V59'\n",
       "60. 'V60'\n",
       "61. 'V61'\n",
       "62. 'V62'\n",
       "63. 'V63'\n",
       "64. 'V64'\n",
       "65. 'V65'\n",
       "66. 'V66'\n",
       "67. 'V67'\n",
       "68. 'V68'\n",
       "69. 'V69'\n",
       "70. 'V70'\n",
       "71. 'V71'\n",
       "72. 'V72'\n",
       "73. 'V73'\n",
       "74. 'V74'\n",
       "75. 'V75'\n",
       "76. 'V76'\n",
       "77. 'V77'\n",
       "78. 'V78'\n",
       "79. 'V79'\n",
       "80. 'V80'\n",
       "81. 'V81'\n",
       "82. 'V82'\n",
       "83. 'V83'\n",
       "84. 'V84'\n",
       "85. 'V85'\n",
       "86. 'V86'\n",
       "\n",
       "\n"
      ],
      "text/plain": [
       " [1] \"V1\"  \"V2\"  \"V3\"  \"V4\"  \"V5\"  \"V6\"  \"V7\"  \"V8\"  \"V9\"  \"V10\" \"V11\" \"V12\"\n",
       "[13] \"V13\" \"V14\" \"V15\" \"V16\" \"V17\" \"V18\" \"V19\" \"V20\" \"V21\" \"V22\" \"V23\" \"V24\"\n",
       "[25] \"V25\" \"V26\" \"V27\" \"V28\" \"V29\" \"V30\" \"V31\" \"V32\" \"V33\" \"V34\" \"V35\" \"V36\"\n",
       "[37] \"V37\" \"V38\" \"V39\" \"V40\" \"V41\" \"V42\" \"V43\" \"V44\" \"V45\" \"V46\" \"V47\" \"V48\"\n",
       "[49] \"V49\" \"V50\" \"V51\" \"V52\" \"V53\" \"V54\" \"V55\" \"V56\" \"V57\" \"V58\" \"V59\" \"V60\"\n",
       "[61] \"V61\" \"V62\" \"V63\" \"V64\" \"V65\" \"V66\" \"V67\" \"V68\" \"V69\" \"V70\" \"V71\" \"V72\"\n",
       "[73] \"V73\" \"V74\" \"V75\" \"V76\" \"V77\" \"V78\" \"V79\" \"V80\" \"V81\" \"V82\" \"V83\" \"V84\"\n",
       "[85] \"V85\" \"V86\""
      ]
     },
     "metadata": {},
     "output_type": "display_data"
    }
   ],
   "source": [
    "names(df_train)"
   ]
  },
  {
   "cell_type": "code",
   "execution_count": 5,
   "metadata": {},
   "outputs": [
    {
     "data": {
      "text/html": [
       "<ol class=list-inline>\n",
       "\t<li>5822</li>\n",
       "\t<li>86</li>\n",
       "</ol>\n"
      ],
      "text/latex": [
       "\\begin{enumerate*}\n",
       "\\item 5822\n",
       "\\item 86\n",
       "\\end{enumerate*}\n"
      ],
      "text/markdown": [
       "1. 5822\n",
       "2. 86\n",
       "\n",
       "\n"
      ],
      "text/plain": [
       "[1] 5822   86"
      ]
     },
     "metadata": {},
     "output_type": "display_data"
    }
   ],
   "source": [
    "dim(df_train)"
   ]
  },
  {
   "cell_type": "markdown",
   "metadata": {},
   "source": [
    "#### Check for missing values"
   ]
  },
  {
   "cell_type": "code",
   "execution_count": 6,
   "metadata": {},
   "outputs": [
    {
     "data": {
      "text/html": [
       "0"
      ],
      "text/latex": [
       "0"
      ],
      "text/markdown": [
       "0"
      ],
      "text/plain": [
       "[1] 0"
      ]
     },
     "metadata": {},
     "output_type": "display_data"
    }
   ],
   "source": [
    "sum(is.na(df_train))"
   ]
  },
  {
   "cell_type": "markdown",
   "metadata": {},
   "source": [
    "no missing values, let's proceed!"
   ]
  },
  {
   "cell_type": "markdown",
   "metadata": {},
   "source": [
    "#### Define the dependent and independent variables for the training set "
   ]
  },
  {
   "cell_type": "code",
   "execution_count": 7,
   "metadata": {},
   "outputs": [],
   "source": [
    "X_train_insure = df_train[-c(86)]"
   ]
  },
  {
   "cell_type": "code",
   "execution_count": 8,
   "metadata": {},
   "outputs": [],
   "source": [
    "y_train_insure = df_train[c(86)]"
   ]
  },
  {
   "cell_type": "markdown",
   "metadata": {},
   "source": [
    "- we know that this is a binary class problem with class 0 and 1, but let's go ahead and see how many obsevations belong in each class"
   ]
  },
  {
   "cell_type": "code",
   "execution_count": 9,
   "metadata": {},
   "outputs": [
    {
     "data": {
      "text/html": [
       "<table>\n",
       "<thead><tr><th scope=col>y_train_insure</th><th scope=col>Freq</th></tr></thead>\n",
       "<tbody>\n",
       "\t<tr><td>0   </td><td>5474</td></tr>\n",
       "\t<tr><td>1   </td><td> 348</td></tr>\n",
       "</tbody>\n",
       "</table>\n"
      ],
      "text/latex": [
       "\\begin{tabular}{r|ll}\n",
       " y\\_train\\_insure & Freq\\\\\n",
       "\\hline\n",
       "\t 0    & 5474\\\\\n",
       "\t 1    &  348\\\\\n",
       "\\end{tabular}\n"
      ],
      "text/markdown": [
       "\n",
       "| y_train_insure | Freq |\n",
       "|---|---|\n",
       "| 0    | 5474 |\n",
       "| 1    |  348 |\n",
       "\n"
      ],
      "text/plain": [
       "  y_train_insure Freq\n",
       "1 0              5474\n",
       "2 1               348"
      ]
     },
     "metadata": {},
     "output_type": "display_data"
    }
   ],
   "source": [
    "as.data.frame(table(y_train_insure))"
   ]
  },
  {
   "cell_type": "code",
   "execution_count": 10,
   "metadata": {},
   "outputs": [
    {
     "data": {
      "text/html": [
       "5.95"
      ],
      "text/latex": [
       "5.95"
      ],
      "text/markdown": [
       "5.95"
      ],
      "text/plain": [
       "[1] 5.95"
      ]
     },
     "metadata": {},
     "output_type": "display_data"
    }
   ],
   "source": [
    "round(348/5844*100,2)"
   ]
  },
  {
   "cell_type": "markdown",
   "metadata": {},
   "source": [
    "- in training set, only less than 6% of the car owners bought the caravan insurance. Indicating that this is an imbalanced dataset. This is very important later, in terms of how we would measure the performance of our model. Let's proceed for now."
   ]
  },
  {
   "cell_type": "markdown",
   "metadata": {},
   "source": [
    "#### Testing set "
   ]
  },
  {
   "cell_type": "code",
   "execution_count": 11,
   "metadata": {},
   "outputs": [],
   "source": [
    "X_test_insure = read.csv(\"ticeval2000.txt\",header=F,na.string=\"?\",sep=\"\\t\")"
   ]
  },
  {
   "cell_type": "code",
   "execution_count": 12,
   "metadata": {},
   "outputs": [],
   "source": [
    "y_test_insure  = read.csv(\"tictgts2000.txt\",header=F,na.string=\"?\",sep=\"\\t\")"
   ]
  },
  {
   "cell_type": "markdown",
   "metadata": {},
   "source": [
    "#### The dependent and indepenent variables are already separated, but let's just create a merged data frame so it's easier to use for some algorithms "
   ]
  },
  {
   "cell_type": "code",
   "execution_count": 13,
   "metadata": {},
   "outputs": [],
   "source": [
    "df_test = X_test_insure"
   ]
  },
  {
   "cell_type": "code",
   "execution_count": 14,
   "metadata": {},
   "outputs": [],
   "source": [
    "df_test['V86'] <- y_test_insure  "
   ]
  },
  {
   "cell_type": "markdown",
   "metadata": {},
   "source": [
    "#### Check for missing values"
   ]
  },
  {
   "cell_type": "code",
   "execution_count": 15,
   "metadata": {},
   "outputs": [
    {
     "data": {
      "text/html": [
       "0"
      ],
      "text/latex": [
       "0"
      ],
      "text/markdown": [
       "0"
      ],
      "text/plain": [
       "[1] 0"
      ]
     },
     "metadata": {},
     "output_type": "display_data"
    }
   ],
   "source": [
    "sum(is.na(df_test))"
   ]
  },
  {
   "cell_type": "markdown",
   "metadata": {},
   "source": [
    "## Least Squares"
   ]
  },
  {
   "cell_type": "code",
   "execution_count": 16,
   "metadata": {},
   "outputs": [],
   "source": [
    "lm_mod_insure <- lm(formula = df_train$V86 ~.,data = df_train)"
   ]
  },
  {
   "cell_type": "markdown",
   "metadata": {},
   "source": [
    "#### Making prediction"
   ]
  },
  {
   "cell_type": "code",
   "execution_count": 17,
   "metadata": {},
   "outputs": [],
   "source": [
    "y_pred_insure_train <- predict(lm_mod_insure,X_train_insure)"
   ]
  },
  {
   "cell_type": "code",
   "execution_count": 18,
   "metadata": {},
   "outputs": [],
   "source": [
    "y_pred_insure_test <- predict(lm_mod_insure,X_test_insure)"
   ]
  },
  {
   "cell_type": "code",
   "execution_count": 19,
   "metadata": {},
   "outputs": [
    {
     "data": {
      "text/html": [
       "<table>\n",
       "<thead><tr><th scope=col>y_pred_insure_train</th><th scope=col>V86</th></tr></thead>\n",
       "<tbody>\n",
       "\t<tr><td>0.09738541</td><td>0         </td></tr>\n",
       "\t<tr><td>0.01345938</td><td>0         </td></tr>\n",
       "\t<tr><td>0.08354523</td><td>0         </td></tr>\n",
       "\t<tr><td>0.09075754</td><td>0         </td></tr>\n",
       "\t<tr><td>0.04307400</td><td>0         </td></tr>\n",
       "\t<tr><td>0.01475749</td><td>0         </td></tr>\n",
       "</tbody>\n",
       "</table>\n"
      ],
      "text/latex": [
       "\\begin{tabular}{r|ll}\n",
       " y\\_pred\\_insure\\_train & V86\\\\\n",
       "\\hline\n",
       "\t 0.09738541 & 0         \\\\\n",
       "\t 0.01345938 & 0         \\\\\n",
       "\t 0.08354523 & 0         \\\\\n",
       "\t 0.09075754 & 0         \\\\\n",
       "\t 0.04307400 & 0         \\\\\n",
       "\t 0.01475749 & 0         \\\\\n",
       "\\end{tabular}\n"
      ],
      "text/markdown": [
       "\n",
       "| y_pred_insure_train | V86 |\n",
       "|---|---|\n",
       "| 0.09738541 | 0          |\n",
       "| 0.01345938 | 0          |\n",
       "| 0.08354523 | 0          |\n",
       "| 0.09075754 | 0          |\n",
       "| 0.04307400 | 0          |\n",
       "| 0.01475749 | 0          |\n",
       "\n"
      ],
      "text/plain": [
       "  y_pred_insure_train V86\n",
       "1 0.09738541          0  \n",
       "2 0.01345938          0  \n",
       "3 0.08354523          0  \n",
       "4 0.09075754          0  \n",
       "5 0.04307400          0  \n",
       "6 0.01475749          0  "
      ]
     },
     "metadata": {},
     "output_type": "display_data"
    },
    {
     "data": {
      "text/html": [
       "<table>\n",
       "<thead><tr><th scope=col>y_pred_insure_test</th><th scope=col>V1</th></tr></thead>\n",
       "<tbody>\n",
       "\t<tr><td>0.014441132</td><td>0          </td></tr>\n",
       "\t<tr><td>0.215946829</td><td>1          </td></tr>\n",
       "\t<tr><td>0.099937482</td><td>0          </td></tr>\n",
       "\t<tr><td>0.095439888</td><td>0          </td></tr>\n",
       "\t<tr><td>0.005945841</td><td>0          </td></tr>\n",
       "\t<tr><td>0.027520016</td><td>0          </td></tr>\n",
       "</tbody>\n",
       "</table>\n"
      ],
      "text/latex": [
       "\\begin{tabular}{r|ll}\n",
       " y\\_pred\\_insure\\_test & V1\\\\\n",
       "\\hline\n",
       "\t 0.014441132 & 0          \\\\\n",
       "\t 0.215946829 & 1          \\\\\n",
       "\t 0.099937482 & 0          \\\\\n",
       "\t 0.095439888 & 0          \\\\\n",
       "\t 0.005945841 & 0          \\\\\n",
       "\t 0.027520016 & 0          \\\\\n",
       "\\end{tabular}\n"
      ],
      "text/markdown": [
       "\n",
       "| y_pred_insure_test | V1 |\n",
       "|---|---|\n",
       "| 0.014441132 | 0           |\n",
       "| 0.215946829 | 1           |\n",
       "| 0.099937482 | 0           |\n",
       "| 0.095439888 | 0           |\n",
       "| 0.005945841 | 0           |\n",
       "| 0.027520016 | 0           |\n",
       "\n"
      ],
      "text/plain": [
       "  y_pred_insure_test V1\n",
       "1 0.014441132        0 \n",
       "2 0.215946829        1 \n",
       "3 0.099937482        0 \n",
       "4 0.095439888        0 \n",
       "5 0.005945841        0 \n",
       "6 0.027520016        0 "
      ]
     },
     "metadata": {},
     "output_type": "display_data"
    }
   ],
   "source": [
    "head(cbind(data.frame(y_pred_insure_train),y_train_insure))\n",
    "head(cbind(data.frame(y_pred_insure_test),y_test_insure))"
   ]
  },
  {
   "cell_type": "markdown",
   "metadata": {},
   "source": [
    "#### Tresholding the predicted values into 0 and 1s\n",
    "- since this is techinically a classfication problem with two classes 0 and 1, and we are applying the least square method, we will get values that are continuous. In order to measure the performance of the least square model, we will threshold the predicted values into 0 and 1 by 0.5. If y_pred_insure(i) is > 0.5, the datapoint will be marked as 1, and 0 otherwise."
   ]
  },
  {
   "cell_type": "code",
   "execution_count": 20,
   "metadata": {},
   "outputs": [],
   "source": [
    "## Training\n",
    "for (i in 1:length(y_pred_insure_train)){\n",
    "    if (y_pred_insure_train[i] >= 0.5){\n",
    "        y_pred_insure_train[i] <- 1\n",
    "    } else{\n",
    "        y_pred_insure_train[i] <- 0\n",
    "    }\n",
    "}"
   ]
  },
  {
   "cell_type": "code",
   "execution_count": 21,
   "metadata": {},
   "outputs": [],
   "source": [
    "## Testing\n",
    "for (i in 1:length(y_pred_insure_test)){\n",
    "    if (y_pred_insure_test[i] >= 0.5){\n",
    "        y_pred_insure_test[i] <- 1\n",
    "    } else{\n",
    "        y_pred_insure_test[i] <- 0\n",
    "    }\n",
    "}"
   ]
  },
  {
   "cell_type": "code",
   "execution_count": 22,
   "metadata": {},
   "outputs": [
    {
     "data": {
      "text/html": [
       "<table>\n",
       "<thead><tr><th scope=col>(y_pred_insure_train)</th><th scope=col>V86</th></tr></thead>\n",
       "<tbody>\n",
       "\t<tr><td>0</td><td>0</td></tr>\n",
       "\t<tr><td>0</td><td>0</td></tr>\n",
       "\t<tr><td>0</td><td>0</td></tr>\n",
       "\t<tr><td>0</td><td>0</td></tr>\n",
       "\t<tr><td>0</td><td>0</td></tr>\n",
       "\t<tr><td>0</td><td>0</td></tr>\n",
       "</tbody>\n",
       "</table>\n"
      ],
      "text/latex": [
       "\\begin{tabular}{r|ll}\n",
       " (y\\_pred\\_insure\\_train) & V86\\\\\n",
       "\\hline\n",
       "\t 0 & 0\\\\\n",
       "\t 0 & 0\\\\\n",
       "\t 0 & 0\\\\\n",
       "\t 0 & 0\\\\\n",
       "\t 0 & 0\\\\\n",
       "\t 0 & 0\\\\\n",
       "\\end{tabular}\n"
      ],
      "text/markdown": [
       "\n",
       "| (y_pred_insure_train) | V86 |\n",
       "|---|---|\n",
       "| 0 | 0 |\n",
       "| 0 | 0 |\n",
       "| 0 | 0 |\n",
       "| 0 | 0 |\n",
       "| 0 | 0 |\n",
       "| 0 | 0 |\n",
       "\n"
      ],
      "text/plain": [
       "  (y_pred_insure_train) V86\n",
       "1 0                     0  \n",
       "2 0                     0  \n",
       "3 0                     0  \n",
       "4 0                     0  \n",
       "5 0                     0  \n",
       "6 0                     0  "
      ]
     },
     "metadata": {},
     "output_type": "display_data"
    },
    {
     "data": {
      "text/html": [
       "<table>\n",
       "<thead><tr><th scope=col>(y_pred_insure_test)</th><th scope=col>V1</th></tr></thead>\n",
       "<tbody>\n",
       "\t<tr><td>0</td><td>0</td></tr>\n",
       "\t<tr><td>0</td><td>1</td></tr>\n",
       "\t<tr><td>0</td><td>0</td></tr>\n",
       "\t<tr><td>0</td><td>0</td></tr>\n",
       "\t<tr><td>0</td><td>0</td></tr>\n",
       "\t<tr><td>0</td><td>0</td></tr>\n",
       "</tbody>\n",
       "</table>\n"
      ],
      "text/latex": [
       "\\begin{tabular}{r|ll}\n",
       " (y\\_pred\\_insure\\_test) & V1\\\\\n",
       "\\hline\n",
       "\t 0 & 0\\\\\n",
       "\t 0 & 1\\\\\n",
       "\t 0 & 0\\\\\n",
       "\t 0 & 0\\\\\n",
       "\t 0 & 0\\\\\n",
       "\t 0 & 0\\\\\n",
       "\\end{tabular}\n"
      ],
      "text/markdown": [
       "\n",
       "| (y_pred_insure_test) | V1 |\n",
       "|---|---|\n",
       "| 0 | 0 |\n",
       "| 0 | 1 |\n",
       "| 0 | 0 |\n",
       "| 0 | 0 |\n",
       "| 0 | 0 |\n",
       "| 0 | 0 |\n",
       "\n"
      ],
      "text/plain": [
       "  (y_pred_insure_test) V1\n",
       "1 0                    0 \n",
       "2 0                    1 \n",
       "3 0                    0 \n",
       "4 0                    0 \n",
       "5 0                    0 \n",
       "6 0                    0 "
      ]
     },
     "metadata": {},
     "output_type": "display_data"
    }
   ],
   "source": [
    "head(cbind((y_pred_insure_train),y_train_insure))\n",
    "head(cbind((y_pred_insure_test),y_test_insure))"
   ]
  },
  {
   "cell_type": "markdown",
   "metadata": {},
   "source": [
    "#### Making sure there's no masking of classes"
   ]
  },
  {
   "cell_type": "code",
   "execution_count": 23,
   "metadata": {},
   "outputs": [
    {
     "data": {
      "text/html": [
       "<ol class=list-inline>\n",
       "\t<li>0</li>\n",
       "\t<li>1</li>\n",
       "</ol>\n"
      ],
      "text/latex": [
       "\\begin{enumerate*}\n",
       "\\item 0\n",
       "\\item 1\n",
       "\\end{enumerate*}\n"
      ],
      "text/markdown": [
       "1. 0\n",
       "2. 1\n",
       "\n",
       "\n"
      ],
      "text/plain": [
       "[1] 0 1"
      ]
     },
     "metadata": {},
     "output_type": "display_data"
    },
    {
     "data": {
      "text/html": [
       "<ol class=list-inline>\n",
       "\t<li>0</li>\n",
       "\t<li>1</li>\n",
       "</ol>\n"
      ],
      "text/latex": [
       "\\begin{enumerate*}\n",
       "\\item 0\n",
       "\\item 1\n",
       "\\end{enumerate*}\n"
      ],
      "text/markdown": [
       "1. 0\n",
       "2. 1\n",
       "\n",
       "\n"
      ],
      "text/plain": [
       "[1] 0 1"
      ]
     },
     "metadata": {},
     "output_type": "display_data"
    }
   ],
   "source": [
    "unique(y_pred_insure_train)\n",
    "unique(y_pred_insure_test)"
   ]
  },
  {
   "cell_type": "markdown",
   "metadata": {},
   "source": [
    "There are two classes !"
   ]
  },
  {
   "cell_type": "markdown",
   "metadata": {},
   "source": [
    "#### Calculate MSE\n",
    "\n",
    "- First we need to convert the target variables from dataframe to numeric "
   ]
  },
  {
   "cell_type": "code",
   "execution_count": 24,
   "metadata": {},
   "outputs": [],
   "source": [
    "y_train_insure = y_train_insure[,1]"
   ]
  },
  {
   "cell_type": "code",
   "execution_count": 25,
   "metadata": {},
   "outputs": [],
   "source": [
    "y_test_insure = y_test_insure[,1]"
   ]
  },
  {
   "cell_type": "code",
   "execution_count": 26,
   "metadata": {},
   "outputs": [
    {
     "name": "stdout",
     "output_type": "stream",
     "text": [
      "MSE for least-square method model:  0.05960151 \n",
      "MSE for least-square method model:  0.05975"
     ]
    }
   ],
   "source": [
    "MSE_insure_train = mse(y_train_insure,y_pred_insure_train)\n",
    "cat(\"MSE for least-square method model: \", MSE_insure_train,\"\\n\")\n",
    "\n",
    "MSE_insure = mse(y_test_insure,y_pred_insure_test)\n",
    "cat(\"MSE for least-square method model: \", MSE_insure)\n",
    "\n"
   ]
  },
  {
   "cell_type": "markdown",
   "metadata": {},
   "source": [
    "- We can see that both training and testing errors are really low, and are quite similar. Let's look at further into this"
   ]
  },
  {
   "cell_type": "markdown",
   "metadata": {},
   "source": [
    "#### Confusion Matrix\n",
    "\n",
    "- confusion matrix is a good way to access the performance of a classification problem. Although in this problem, we are solving it as regression problem. Since we are thresholding the data, it'll still be a good idea to take a look at this. \n",
    "- It is especially important to look at the confusion matrix since we already know that we have an imbalanced dataset at hand. I will explain this later after I displayed the confusion matrix"
   ]
  },
  {
   "cell_type": "code",
   "execution_count": 27,
   "metadata": {},
   "outputs": [
    {
     "name": "stderr",
     "output_type": "stream",
     "text": [
      "Warning message:\n",
      "\"package 'caret' was built under R version 3.6.3\"Loading required package: lattice\n",
      "Warning message:\n",
      "\"package 'lattice' was built under R version 3.6.3\"Loading required package: ggplot2\n",
      "Warning message:\n",
      "\"package 'ggplot2' was built under R version 3.6.2\"\n",
      "Attaching package: 'caret'\n",
      "\n",
      "The following objects are masked from 'package:Metrics':\n",
      "\n",
      "    precision, recall\n",
      "\n",
      "Warning message:\n",
      "\"package 'e1071' was built under R version 3.6.3\""
     ]
    }
   ],
   "source": [
    "library(caret)\n",
    "library(e1071) "
   ]
  },
  {
   "cell_type": "code",
   "execution_count": 28,
   "metadata": {},
   "outputs": [
    {
     "name": "stdout",
     "output_type": "stream",
     "text": [
      "[1] \"Confusion Matrix for Training Set: \"\n"
     ]
    },
    {
     "data": {
      "text/plain": [
       "                   y_train_insure\n",
       "y_pred_insure_train    0    1\n",
       "                  0 5473  346\n",
       "                  1    1    2"
      ]
     },
     "metadata": {},
     "output_type": "display_data"
    }
   ],
   "source": [
    "CM_insure_train = table(y_pred_insure_train,y_train_insure)\n",
    "print(\"Confusion Matrix for Training Set: \")\n",
    "CM_insure_train"
   ]
  },
  {
   "cell_type": "code",
   "execution_count": 177,
   "metadata": {},
   "outputs": [
    {
     "name": "stdout",
     "output_type": "stream",
     "text": [
      "[1] \"Confusion Matrix for Testing Set: \"\n"
     ]
    },
    {
     "data": {
      "text/plain": [
       "                  y_test_insure\n",
       "y_pred_insure_test    0    1\n",
       "                 0 3760  237\n",
       "                 1    2    1"
      ]
     },
     "metadata": {},
     "output_type": "display_data"
    }
   ],
   "source": [
    "CM_insure_test = table(y_pred_insure_test,y_test_insure)\n",
    "print(\"Confusion Matrix for Testing Set: \")\n",
    "CM_insure_test"
   ]
  },
  {
   "cell_type": "code",
   "execution_count": 30,
   "metadata": {},
   "outputs": [
    {
     "data": {
      "text/html": [
       "<table>\n",
       "<tbody>\n",
       "\t<tr><td>                              </td><td>Training                      </td><td>Testing                       </td></tr>\n",
       "\t<tr><td>total observations:           </td><td>5822                          </td><td>4000                          </td></tr>\n",
       "\t<tr><td>True Positive:                </td><td>5473                          </td><td>3760                          </td></tr>\n",
       "\t<tr><td>False Negative:               </td><td>346                           </td><td>237                           </td></tr>\n",
       "\t<tr><td>actually purchased insurance: </td><td>348                           </td><td>238                           </td></tr>\n",
       "</tbody>\n",
       "</table>\n"
      ],
      "text/latex": [
       "\\begin{tabular}{lll}\n",
       "\t                                & Training                       & Testing                       \\\\\n",
       "\t total observations:            & 5822                           & 4000                          \\\\\n",
       "\t True Positive:                 & 5473                           & 3760                          \\\\\n",
       "\t False Negative:                & 346                            & 237                           \\\\\n",
       "\t actually purchased insurance:  & 348                            & 238                           \\\\\n",
       "\\end{tabular}\n"
      ],
      "text/markdown": [
       "\n",
       "|                                | Training                       | Testing                        |\n",
       "| total observations:            | 5822                           | 4000                           |\n",
       "| True Positive:                 | 5473                           | 3760                           |\n",
       "| False Negative:                | 346                            | 237                            |\n",
       "| actually purchased insurance:  | 348                            | 238                            |\n",
       "\n"
      ],
      "text/plain": [
       "     [,1]                           [,2]     [,3]   \n",
       "[1,]                                Training Testing\n",
       "[2,] total observations:            5822     4000   \n",
       "[3,] True Positive:                 5473     3760   \n",
       "[4,] False Negative:                346      237    \n",
       "[5,] actually purchased insurance:  348      238    "
      ]
     },
     "metadata": {},
     "output_type": "display_data"
    }
   ],
   "source": [
    "total = cbind(\"total observations: \",dim(X_train_insure)[1],dim(X_test_insure)[1])\n",
    "bought_insurance = cbind(\"actually purchased insurance: \",as.data.frame(table(y_train_insure))[2,2],as.data.frame(table(y_test_insure))[2,2])\n",
    "TP =  cbind(\"True Positive: \",5473,3760)\n",
    "FN = cbind(\"False Negative: \",346,237)\n",
    "title = cbind(\" \",\"Training\",\"Testing\")\n",
    "rbind(title,total,TP,FN,bought_insurance)"
   ]
  },
  {
   "cell_type": "markdown",
   "metadata": {},
   "source": [
    "- By looking at the confusion matrix for both training and testing set, we can see that: yes our model did predicted most of the values correctly. However we can also see that we have a lot of false negatives. False negative is the group that originally bought the insurance, however our model did not pick it up. We can see that the false negative rates are really really BIG for training and testing set in the table I showed above. \n",
    "    - 346 out of 348 of people in the training set who originally bought the insurance is not predicted correctly by the model\n",
    "    - 237 out of 238 of people in the training set who originally bought the insurance is not predicted correctly by the model\n",
    "    \n",
    "    \n",
    "- In reality, false negatives are quite of a serious consequence, this is exactly the reason why screening tests tend to generate more false positive rate because, by setting the threshold lower, the model will tend to predict more poeople with the disease and less people without it. \n",
    "\n",
    "\n",
    "- We can draw two conclusion from this:\n",
    "\n",
    "    1) this is not the best model \n",
    "    \n",
    "    2) Methods other than MSE or accuracy to evaluate the model in an imbalanced dataset is VERY important. "
   ]
  },
  {
   "cell_type": "markdown",
   "metadata": {},
   "source": [
    "#### Recall, Precision, F1 Score \n",
    "- one commond approach is to look at the ratio of F1 score. (We want a F1-score close to 1)\n",
    "- precision: TP/(TP+FP), the ratio of correctly predicted positive observations to the total predicted positive observations. Meaning out of all people that we predicted would buy the insurance, how many actually bought it.\n",
    "- recall = TP/(TP+FN), the ratio of correctly predicted positive observations to the all observations in postive actual class.\n",
    "- F1 Score is the weighted average of Precision and Recall. Therefore, this score takes both false positives and false negatives into account. Intuitively it is not as easy to understand as accuracy, but F1 is usually more useful than accuracy, especially if you have an uneven class distribution. Accuracy works best if false positives and false negatives have similar cost. As we can see MSE (which is just the conjugate of accuracy) is still really low, even if the model had not predictedly almost any class of \"1\" correctly. However, you'll still get a small error because, as you can see the model still predicted almost all values in the class \"0\" correctly."
   ]
  },
  {
   "cell_type": "code",
   "execution_count": 31,
   "metadata": {},
   "outputs": [],
   "source": [
    "CM_train = confusionMatrix(factor(y_pred_insure_train), factor(y_train_insure),positive=\"1\")\n",
    "precision_train =  CM_train$byClass['Pos Pred Value']    \n",
    "recall_train = CM_train$byClass['Sensitivity']\n",
    "F1_score_train = 2*(precision_train*recall_train)/(precision_train+recall_train)"
   ]
  },
  {
   "cell_type": "code",
   "execution_count": 32,
   "metadata": {},
   "outputs": [
    {
     "data": {
      "text/html": [
       "<table>\n",
       "<thead><tr><th scope=col>precision_train</th><th scope=col>recall_train</th><th scope=col>F1_score_train</th></tr></thead>\n",
       "<tbody>\n",
       "\t<tr><td>0.6666667  </td><td>0.005747126</td><td>0.01139601 </td></tr>\n",
       "</tbody>\n",
       "</table>\n"
      ],
      "text/latex": [
       "\\begin{tabular}{r|lll}\n",
       " precision\\_train & recall\\_train & F1\\_score\\_train\\\\\n",
       "\\hline\n",
       "\t 0.6666667   & 0.005747126 & 0.01139601 \\\\\n",
       "\\end{tabular}\n"
      ],
      "text/markdown": [
       "\n",
       "| precision_train | recall_train | F1_score_train |\n",
       "|---|---|---|\n",
       "| 0.6666667   | 0.005747126 | 0.01139601  |\n",
       "\n"
      ],
      "text/plain": [
       " precision_train recall_train F1_score_train\n",
       " 0.6666667       0.005747126  0.01139601    "
      ]
     },
     "metadata": {},
     "output_type": "display_data"
    }
   ],
   "source": [
    "data.frame(precision_train,recall_train,F1_score_train,row.names=\"\")"
   ]
  },
  {
   "cell_type": "code",
   "execution_count": 178,
   "metadata": {},
   "outputs": [],
   "source": [
    "CM_test = confusionMatrix(factor(y_pred_insure_test), factor(y_test_insure),positive=\"1\")\n",
    "precision_test =  CM_test$byClass['Pos Pred Value']    \n",
    "recall_test = CM_test$byClass['Sensitivity']\n",
    "F1_score_test = 2*(precision_test*recall_test)/(precision_test+recall_test)"
   ]
  },
  {
   "cell_type": "code",
   "execution_count": 179,
   "metadata": {},
   "outputs": [
    {
     "data": {
      "text/html": [
       "<table>\n",
       "<thead><tr><th scope=col>precision_test</th><th scope=col>recall_test</th><th scope=col>F1_score_test</th></tr></thead>\n",
       "<tbody>\n",
       "\t<tr><td>0.3333333  </td><td>0.004201681</td><td>0.008298755</td></tr>\n",
       "</tbody>\n",
       "</table>\n"
      ],
      "text/latex": [
       "\\begin{tabular}{r|lll}\n",
       " precision\\_test & recall\\_test & F1\\_score\\_test\\\\\n",
       "\\hline\n",
       "\t 0.3333333   & 0.004201681 & 0.008298755\\\\\n",
       "\\end{tabular}\n"
      ],
      "text/markdown": [
       "\n",
       "| precision_test | recall_test | F1_score_test |\n",
       "|---|---|---|\n",
       "| 0.3333333   | 0.004201681 | 0.008298755 |\n",
       "\n"
      ],
      "text/plain": [
       " precision_test recall_test F1_score_test\n",
       " 0.3333333      0.004201681 0.008298755  "
      ]
     },
     "metadata": {},
     "output_type": "display_data"
    }
   ],
   "source": [
    "data.frame(precision_test,recall_test,F1_score_test,row.names=\"\")"
   ]
  },
  {
   "cell_type": "markdown",
   "metadata": {},
   "source": [
    "- in both training and testing set, the F1_scores are extremely low. This contradicts the MSE's we obtained earlier, which further proves that MSE or accuracy is not a good measure when there is an imbalanced dataset. "
   ]
  },
  {
   "cell_type": "markdown",
   "metadata": {},
   "source": [
    "## Forwards Selection Cross-Validation Approach"
   ]
  },
  {
   "cell_type": "code",
   "execution_count": 35,
   "metadata": {},
   "outputs": [],
   "source": [
    "insure_fwd_mod <- regsubsets(df_train$V86~., data=df_train, nbest = 1, nvmax= 85, method=\"forward\")"
   ]
  },
  {
   "cell_type": "markdown",
   "metadata": {},
   "source": [
    "#### Create model matrix"
   ]
  },
  {
   "cell_type": "code",
   "execution_count": 36,
   "metadata": {},
   "outputs": [],
   "source": [
    "test_mat_insure = model.matrix(df_test$V86~.,data=df_test)"
   ]
  },
  {
   "cell_type": "markdown",
   "metadata": {},
   "source": [
    "#### Making prediction for each model"
   ]
  },
  {
   "cell_type": "code",
   "execution_count": 71,
   "metadata": {},
   "outputs": [],
   "source": [
    "cv_err_insure_fwd <- c()\n",
    "\n",
    "for (i in 1:85){\n",
    "    coefi = coef(insure_fwd_mod,id=i)\n",
    "    pred = test_mat_insure[,names(coefi)] %*% coefi\n",
    "    #thresholding\n",
    "    for (j in 1:length(pred)){\n",
    "        if (pred[j] >= 0.5){\n",
    "            pred[j] <- 1\n",
    "        } else{\n",
    "            pred[j] <- 0\n",
    "        }\n",
    "    }\n",
    "    \n",
    "    \n",
    "    cv_err_insure_fwd[i] = mean((y_test_insure)!=(pred))\n",
    "}\n",
    "\n",
    "\n"
   ]
  },
  {
   "cell_type": "markdown",
   "metadata": {},
   "source": [
    "#### Plot error curve"
   ]
  },
  {
   "cell_type": "code",
   "execution_count": 72,
   "metadata": {},
   "outputs": [
    {
     "data": {
      "image/png": "[encoded data removed]",
      "text/plain": [
       "Plot with title \"Forward Selection Error\""
      ]
     },
     "metadata": {},
     "output_type": "display_data"
    }
   ],
   "source": [
    "plot(1:85,cv_err_insure_fwd,main = \"Forward Selection Error\",ylab=\"error\",xlab=\"number of variables\",type='l')"
   ]
  },
  {
   "cell_type": "code",
   "execution_count": 55,
   "metadata": {},
   "outputs": [
    {
     "data": {
      "text/html": [
       "1"
      ],
      "text/latex": [
       "1"
      ],
      "text/markdown": [
       "1"
      ],
      "text/plain": [
       "[1] 1"
      ]
     },
     "metadata": {},
     "output_type": "display_data"
    }
   ],
   "source": [
    "which.min(cv_err_insure_fwd)"
   ]
  },
  {
   "cell_type": "markdown",
   "metadata": {},
   "source": [
    "- we can see that from the error plot above, the model with lowest error rate from forward subset selection is the model with one only variable. \n",
    "- we can also see that, the error rate after 1-variable model stays constant, this is saying that, the additional variables do not contribute in bettering the our prediction accuracy. "
   ]
  },
  {
   "cell_type": "markdown",
   "metadata": {},
   "source": [
    "#### Making Predictions"
   ]
  },
  {
   "cell_type": "code",
   "execution_count": 69,
   "metadata": {},
   "outputs": [],
   "source": [
    "coefi = coef(insure_fwd_mod,id=1)\n",
    "y_pred_fwd = test_mat_insure[,names(coefi)] %*% coefi\n",
    "\n",
    "for (i in 1:length(y_pred_fwd)){\n",
    "        if (y_pred_fwd[i] >= 0.5){\n",
    "            y_pred_fwd[i] <- 1\n",
    "        } else{\n",
    "            y_pred_fwd[i] <- 0\n",
    "        }\n",
    "}"
   ]
  },
  {
   "cell_type": "markdown",
   "metadata": {},
   "source": [
    "#### Confusion Matrix"
   ]
  },
  {
   "cell_type": "code",
   "execution_count": 115,
   "metadata": {},
   "outputs": [
    {
     "name": "stdout",
     "output_type": "stream",
     "text": [
      "[1] \"Confusion Matrix for Testing Set: \"\n"
     ]
    },
    {
     "data": {
      "text/plain": [
       "          y_test_insure\n",
       "y_pred_fwd    0    1\n",
       "         0 3760  237\n",
       "         1    2    1"
      ]
     },
     "metadata": {},
     "output_type": "display_data"
    }
   ],
   "source": [
    "print(\"Confusion Matrix for Testing Set: \")\n",
    " table(y_pred_fwd,y_test_insure)\n"
   ]
  },
  {
   "cell_type": "markdown",
   "metadata": {},
   "source": [
    "- By looking at our confusion, we can observe masking phenomenom. The class \"1\" is completely masked. \n",
    "- Let's choose a different model, since all MSE's are the same after 1-variable, let's just pick the 5-variable model as our model."
   ]
  },
  {
   "cell_type": "markdown",
   "metadata": {},
   "source": [
    "#### Making predictions again"
   ]
  },
  {
   "cell_type": "code",
   "execution_count": 127,
   "metadata": {},
   "outputs": [],
   "source": [
    "coefi = coef(insure_fwd_mod,id=5)\n",
    "y_pred_fwd = test_mat_insure[,names(coefi)] %*% coefi\n",
    "\n",
    "for (i in 1:length(y_pred_fwd)){\n",
    "        if (y_pred_fwd[i] >= 0.5){\n",
    "            y_pred_fwd[i] <- 1\n",
    "        } else{\n",
    "            y_pred_fwd[i] <- 0\n",
    "        }\n",
    "}"
   ]
  },
  {
   "cell_type": "code",
   "execution_count": 128,
   "metadata": {},
   "outputs": [
    {
     "data": {
      "text/plain": [
       "          y_test_insure\n",
       "y_pred_fwd    0    1\n",
       "         0 3760  237\n",
       "         1    2    1"
      ]
     },
     "metadata": {},
     "output_type": "display_data"
    }
   ],
   "source": [
    "table(y_pred_fwd,y_test_insure)\n"
   ]
  },
  {
   "cell_type": "markdown",
   "metadata": {},
   "source": [
    "- voila, no more masking!"
   ]
  },
  {
   "cell_type": "code",
   "execution_count": 189,
   "metadata": {},
   "outputs": [],
   "source": [
    "CM_test_fwd = confusionMatrix(factor(y_pred_fwd), factor(data.matrix(y_test_insure)),positive=\"1\")\n",
    "precision_test_fwd =  CM_test_fwd$byClass['Pos Pred Value']    \n",
    "recall_test_fwd = CM_test_fwd$byClass['Sensitivity']\n",
    "F1_score_test_fwd = 2*(precision_test_fwd*recall_test_fwd)/(precision_test_fwd+recall_test_fwd)"
   ]
  },
  {
   "cell_type": "code",
   "execution_count": 190,
   "metadata": {},
   "outputs": [
    {
     "data": {
      "text/html": [
       "<table>\n",
       "<thead><tr><th scope=col>precision_test_fwd</th><th scope=col>recall_test_fwd</th><th scope=col>F1_score_test_fwd</th></tr></thead>\n",
       "<tbody>\n",
       "\t<tr><td>0.3333333  </td><td>0.004201681</td><td>0.008298755</td></tr>\n",
       "</tbody>\n",
       "</table>\n"
      ],
      "text/latex": [
       "\\begin{tabular}{r|lll}\n",
       " precision\\_test\\_fwd & recall\\_test\\_fwd & F1\\_score\\_test\\_fwd\\\\\n",
       "\\hline\n",
       "\t 0.3333333   & 0.004201681 & 0.008298755\\\\\n",
       "\\end{tabular}\n"
      ],
      "text/markdown": [
       "\n",
       "| precision_test_fwd | recall_test_fwd | F1_score_test_fwd |\n",
       "|---|---|---|\n",
       "| 0.3333333   | 0.004201681 | 0.008298755 |\n",
       "\n"
      ],
      "text/plain": [
       " precision_test_fwd recall_test_fwd F1_score_test_fwd\n",
       " 0.3333333          0.004201681     0.008298755      "
      ]
     },
     "metadata": {},
     "output_type": "display_data"
    }
   ],
   "source": [
    "data.frame(precision_test_fwd,recall_test_fwd,F1_score_test_fwd,row.names=\"\")"
   ]
  },
  {
   "cell_type": "markdown",
   "metadata": {},
   "source": [
    "- okay, even tho the class \"1\" is not masked anymore, but our model still performs very poorly in prediction the smaller class correctly, same problem as our linear model before. Let's explore other model selection methods and see if we can find anything better."
   ]
  },
  {
   "cell_type": "markdown",
   "metadata": {},
   "source": [
    "## Backwards Selection"
   ]
  },
  {
   "cell_type": "code",
   "execution_count": 131,
   "metadata": {},
   "outputs": [],
   "source": [
    "insure_bwd_mod <- regsubsets(df_train$V86~., data=df_train, nbest = 1, nvmax= 85, method=\"backward\")"
   ]
  },
  {
   "cell_type": "code",
   "execution_count": 132,
   "metadata": {},
   "outputs": [],
   "source": [
    "cv_err_insure_bwd <- rep(NA,85) \n",
    "\n",
    "for (i in 1:85){\n",
    "    coefi = coef(insure_bwd_mod,id=i)\n",
    "    pred = test_mat_insure[,names(coefi)] %*% coefi\n",
    "    #thresholding\n",
    "    for (j in 1:length(pred)){\n",
    "        if (pred[j] >= 0.5){\n",
    "            pred[j] <- 1\n",
    "        } else{\n",
    "            pred[j] <- 0\n",
    "        }\n",
    "    }\n",
    "    \n",
    "    \n",
    "    cv_err_insure_bwd[i] = mean((y_test_insure)!=(pred))\n",
    "}\n",
    "\n",
    "\n"
   ]
  },
  {
   "cell_type": "markdown",
   "metadata": {},
   "source": [
    "#### Plot error curve"
   ]
  },
  {
   "cell_type": "code",
   "execution_count": 133,
   "metadata": {},
   "outputs": [
    {
     "data": {
      "image/png": "[encoded data removed]",
      "text/plain": [
       "Plot with title \"Backward Selection Error\""
      ]
     },
     "metadata": {},
     "output_type": "display_data"
    }
   ],
   "source": [
    "plot(1:85,cv_err_insure_fwd,main = \"Backward Selection Error\",ylab=\"error\",xlab=\"number of variables\",type='l')"
   ]
  },
  {
   "cell_type": "markdown",
   "metadata": {},
   "source": [
    "- interesting, note, the backward model generated same exact errors for all models as the forward model.\n"
   ]
  },
  {
   "cell_type": "code",
   "execution_count": 134,
   "metadata": {},
   "outputs": [],
   "source": [
    "coefi = coef(insure_bwd_mod,id=5)\n",
    "y_pred_bwd = test_mat_insure[,names(coefi)] %*% coefi\n",
    "\n",
    "for (i in 1:length(y_pred_bwd)){\n",
    "        if (y_pred_bwd[i] >= 0.5){\n",
    "            y_pred_bwd[i] <- 1\n",
    "        } else{\n",
    "            y_pred_bwd[i] <- 0\n",
    "        }\n",
    "}"
   ]
  },
  {
   "cell_type": "code",
   "execution_count": 135,
   "metadata": {},
   "outputs": [
    {
     "data": {
      "text/plain": [
       "          y_test_insure\n",
       "y_pred_bwd    0    1\n",
       "         0 3760  237\n",
       "         1    2    1"
      ]
     },
     "metadata": {},
     "output_type": "display_data"
    }
   ],
   "source": [
    "table(y_pred_bwd,y_test_insure)\n"
   ]
  },
  {
   "cell_type": "code",
   "execution_count": 191,
   "metadata": {},
   "outputs": [],
   "source": [
    "CM_test_bwd = confusionMatrix(factor(y_pred_bwd), factor(data.matrix(y_test_insure)),positive=\"1\")\n",
    "precision_test_bwd =  CM_test_bwd$byClass['Pos Pred Value']    \n",
    "recall_test_bwd = CM_test_bwd$byClass['Sensitivity']\n",
    "F1_score_test_bwd = 2*(precision_test_bwd*recall_test_bwd)/(precision_test_bwd+recall_test_bwd)"
   ]
  },
  {
   "cell_type": "code",
   "execution_count": 192,
   "metadata": {},
   "outputs": [
    {
     "data": {
      "text/html": [
       "<table>\n",
       "<thead><tr><th scope=col>precision_test_bwd</th><th scope=col>recall_test_bwd</th><th scope=col>F1_score_test_bwd</th></tr></thead>\n",
       "<tbody>\n",
       "\t<tr><td>0.3333333  </td><td>0.004201681</td><td>0.008298755</td></tr>\n",
       "</tbody>\n",
       "</table>\n"
      ],
      "text/latex": [
       "\\begin{tabular}{r|lll}\n",
       " precision\\_test\\_bwd & recall\\_test\\_bwd & F1\\_score\\_test\\_bwd\\\\\n",
       "\\hline\n",
       "\t 0.3333333   & 0.004201681 & 0.008298755\\\\\n",
       "\\end{tabular}\n"
      ],
      "text/markdown": [
       "\n",
       "| precision_test_bwd | recall_test_bwd | F1_score_test_bwd |\n",
       "|---|---|---|\n",
       "| 0.3333333   | 0.004201681 | 0.008298755 |\n",
       "\n"
      ],
      "text/plain": [
       " precision_test_bwd recall_test_bwd F1_score_test_bwd\n",
       " 0.3333333          0.004201681     0.008298755      "
      ]
     },
     "metadata": {},
     "output_type": "display_data"
    }
   ],
   "source": [
    "data.frame(precision_test_bwd,recall_test_bwd,F1_score_test_bwd,row.names=\"\")"
   ]
  },
  {
   "cell_type": "markdown",
   "metadata": {},
   "source": [
    "- we can see that everything is the SAME as our forward model. Let's go ahead and check the coefficients for 5-variable (what we chose as our optimal models for each method), and see if the same coefficents were generated"
   ]
  },
  {
   "cell_type": "code",
   "execution_count": 251,
   "metadata": {},
   "outputs": [
    {
     "data": {
      "text/html": [
       "<dl class=dl-horizontal>\n",
       "\t<dt>(Intercept)</dt>\n",
       "\t\t<dd>0.00543630178145268</dd>\n",
       "\t<dt>V18</dt>\n",
       "\t\t<dd>-0.00575625349040463</dd>\n",
       "\t<dt>V43</dt>\n",
       "\t\t<dd>0.00768629314903049</dd>\n",
       "\t<dt>V44</dt>\n",
       "\t\t<dd>0.0179449111352317</dd>\n",
       "\t<dt>V47</dt>\n",
       "\t\t<dd>0.0109490702897292</dd>\n",
       "\t<dt>V82</dt>\n",
       "\t\t<dd>0.28818481088542</dd>\n",
       "</dl>\n"
      ],
      "text/latex": [
       "\\begin{description*}\n",
       "\\item[(Intercept)] 0.00543630178145268\n",
       "\\item[V18] -0.00575625349040463\n",
       "\\item[V43] 0.00768629314903049\n",
       "\\item[V44] 0.0179449111352317\n",
       "\\item[V47] 0.0109490702897292\n",
       "\\item[V82] 0.28818481088542\n",
       "\\end{description*}\n"
      ],
      "text/markdown": [
       "(Intercept)\n",
       ":   0.00543630178145268V18\n",
       ":   -0.00575625349040463V43\n",
       ":   0.00768629314903049V44\n",
       ":   0.0179449111352317V47\n",
       ":   0.0109490702897292V82\n",
       ":   0.28818481088542\n",
       "\n"
      ],
      "text/plain": [
       " (Intercept)          V18          V43          V44          V47          V82 \n",
       " 0.005436302 -0.005756253  0.007686293  0.017944911  0.010949070  0.288184811 "
      ]
     },
     "metadata": {},
     "output_type": "display_data"
    },
    {
     "data": {
      "text/html": [
       "<dl class=dl-horizontal>\n",
       "\t<dt>(Intercept)</dt>\n",
       "\t\t<dd>0.00317623308379387</dd>\n",
       "\t<dt>V10</dt>\n",
       "\t\t<dd>0.0069049826868272</dd>\n",
       "\t<dt>V18</dt>\n",
       "\t\t<dd>-0.00849269144284859</dd>\n",
       "\t<dt>V47</dt>\n",
       "\t\t<dd>0.0112918109061731</dd>\n",
       "\t<dt>V59</dt>\n",
       "\t\t<dd>0.00955663125604176</dd>\n",
       "\t<dt>V82</dt>\n",
       "\t\t<dd>0.286852632958527</dd>\n",
       "</dl>\n"
      ],
      "text/latex": [
       "\\begin{description*}\n",
       "\\item[(Intercept)] 0.00317623308379387\n",
       "\\item[V10] 0.0069049826868272\n",
       "\\item[V18] -0.00849269144284859\n",
       "\\item[V47] 0.0112918109061731\n",
       "\\item[V59] 0.00955663125604176\n",
       "\\item[V82] 0.286852632958527\n",
       "\\end{description*}\n"
      ],
      "text/markdown": [
       "(Intercept)\n",
       ":   0.00317623308379387V10\n",
       ":   0.0069049826868272V18\n",
       ":   -0.00849269144284859V47\n",
       ":   0.0112918109061731V59\n",
       ":   0.00955663125604176V82\n",
       ":   0.286852632958527\n",
       "\n"
      ],
      "text/plain": [
       " (Intercept)          V10          V18          V47          V59          V82 \n",
       " 0.003176233  0.006904983 -0.008492691  0.011291811  0.009556631  0.286852633 "
      ]
     },
     "metadata": {},
     "output_type": "display_data"
    }
   ],
   "source": [
    "coef(insure_fwd_mod,5)\n",
    "\n",
    "coef(insure_bwd_mod,5)\n"
   ]
  },
  {
   "cell_type": "markdown",
   "metadata": {},
   "source": [
    "- we can see that although the errors and the confusion matrices are identical. Different models are generated. We can start to see a pattern here. That linear models, regardless of of how many variables are included tend to perform poorly (low F1 score) in an imbalanced dataset. Let's further examine this using ridge and lasso methods."
   ]
  },
  {
   "cell_type": "markdown",
   "metadata": {},
   "source": [
    "## Ridge Regression"
   ]
  },
  {
   "cell_type": "code",
   "execution_count": 139,
   "metadata": {},
   "outputs": [
    {
     "name": "stderr",
     "output_type": "stream",
     "text": [
      "Warning message:\n",
      "\"package 'glmnet' was built under R version 3.6.3\"Loading required package: Matrix\n",
      "Loaded glmnet 4.0-2\n"
     ]
    }
   ],
   "source": [
    "library(glmnet)"
   ]
  },
  {
   "cell_type": "markdown",
   "metadata": {},
   "source": [
    "#### Set a range of lambda values of 100 values\n",
    "- lambda: range(10^10,10^-2)"
   ]
  },
  {
   "cell_type": "code",
   "execution_count": 140,
   "metadata": {},
   "outputs": [],
   "source": [
    "lambda_range = 10^seq(10,-2,length=100) "
   ]
  },
  {
   "cell_type": "code",
   "execution_count": 141,
   "metadata": {},
   "outputs": [],
   "source": [
    "ridge_mod = glmnet(data.matrix(X_train_insure),data.matrix(y_train_insure),alpha=0,lambda=lambda_range)"
   ]
  },
  {
   "cell_type": "code",
   "execution_count": 142,
   "metadata": {},
   "outputs": [
    {
     "data": {
      "image/png": "[encoded data removed]",
      "text/plain": [
       "plot without title"
      ]
     },
     "metadata": {},
     "output_type": "display_data"
    }
   ],
   "source": [
    "plot(ridge_mod,xvar=\"lambda\")\n"
   ]
  },
  {
   "cell_type": "markdown",
   "metadata": {},
   "source": [
    "- visualizing the relationship between coefficients and log lambd"
   ]
  },
  {
   "cell_type": "markdown",
   "metadata": {},
   "source": [
    "#### Lamda value selection method using cross validation approach"
   ]
  },
  {
   "cell_type": "code",
   "execution_count": 143,
   "metadata": {},
   "outputs": [
    {
     "data": {
      "text/html": [
       "0.111824383646147"
      ],
      "text/latex": [
       "0.111824383646147"
      ],
      "text/markdown": [
       "0.111824383646147"
      ],
      "text/plain": [
       "[1] 0.1118244"
      ]
     },
     "metadata": {},
     "output_type": "display_data"
    },
    {
     "data": {
      "image/png": "[encoded data removed]",
      "text/plain": [
       "plot without title"
      ]
     },
     "metadata": {},
     "output_type": "display_data"
    }
   ],
   "source": [
    "set.seed(20)\n",
    "cv_err_ridge = cv.glmnet(data.matrix(X_train_insure),data.matrix(y_train_insure),alpha=0)\n",
    "plot(cv_err_ridge)\n",
    "bestlam_ridge = cv_err_ridge$lambda.min\n",
    "bestlam_ridge"
   ]
  },
  {
   "cell_type": "markdown",
   "metadata": {},
   "source": [
    "- here we can see that the lambda value which minimizes MSE in ridge model is 0.111824383646147"
   ]
  },
  {
   "cell_type": "markdown",
   "metadata": {},
   "source": [
    "#### Making prediction using our best lambda value"
   ]
  },
  {
   "cell_type": "code",
   "execution_count": 144,
   "metadata": {},
   "outputs": [],
   "source": [
    "y_pred_ridge = predict(ridge_mod,s=bestlam_ridge,newx=data.matrix(X_test_insure))\n"
   ]
  },
  {
   "cell_type": "code",
   "execution_count": 149,
   "metadata": {},
   "outputs": [],
   "source": [
    "for (i in 1:length(y_pred_ridge)){\n",
    "        if (y_pred_ridge[i] >= 0.5){\n",
    "            y_pred_ridge[i] <- 1\n",
    "        } else{\n",
    "            y_pred_ridge[i] <- 0\n",
    "        }\n",
    "}"
   ]
  },
  {
   "cell_type": "markdown",
   "metadata": {},
   "source": [
    "#### Calculate MSE"
   ]
  },
  {
   "cell_type": "code",
   "execution_count": 150,
   "metadata": {},
   "outputs": [
    {
     "name": "stdout",
     "output_type": "stream",
     "text": [
      "MSE for Ridge method model:  0.05925"
     ]
    }
   ],
   "source": [
    "MSE_ridge = mse(y_test_insure,y_pred_ridge)\n",
    "cat(\"MSE for Ridge method model: \", MSE_ridge)"
   ]
  },
  {
   "cell_type": "markdown",
   "metadata": {},
   "source": [
    "#### Confusion Matrix"
   ]
  },
  {
   "cell_type": "code",
   "execution_count": 151,
   "metadata": {},
   "outputs": [
    {
     "data": {
      "text/plain": [
       "            y_test_insure\n",
       "y_pred_ridge    0    1\n",
       "           0 3762  237\n",
       "           1    0    1"
      ]
     },
     "metadata": {},
     "output_type": "display_data"
    }
   ],
   "source": [
    "table(y_pred_ridge,y_test_insure)"
   ]
  },
  {
   "cell_type": "code",
   "execution_count": 193,
   "metadata": {},
   "outputs": [],
   "source": [
    "CM_test_ridge = confusionMatrix(factor(y_pred_bwd), factor(data.matrix(y_test_insure)),positive=\"1\")\n",
    "precision_test_ridge =  CM_test_ridge$byClass['Pos Pred Value']    \n",
    "recall_test_ridge = CM_test_ridge$byClass['Sensitivity']\n",
    "F1_score_test_ridge = 2*(precision_test_ridge*recall_test_ridge)/(precision_test_ridge+recall_test_ridge)"
   ]
  },
  {
   "cell_type": "code",
   "execution_count": 194,
   "metadata": {},
   "outputs": [
    {
     "data": {
      "text/html": [
       "<table>\n",
       "<thead><tr><th scope=col>precision_test_ridge</th><th scope=col>recall_test_ridge</th><th scope=col>F1_score_test_ridge</th></tr></thead>\n",
       "<tbody>\n",
       "\t<tr><td>0.3333333  </td><td>0.004201681</td><td>0.008298755</td></tr>\n",
       "</tbody>\n",
       "</table>\n"
      ],
      "text/latex": [
       "\\begin{tabular}{r|lll}\n",
       " precision\\_test\\_ridge & recall\\_test\\_ridge & F1\\_score\\_test\\_ridge\\\\\n",
       "\\hline\n",
       "\t 0.3333333   & 0.004201681 & 0.008298755\\\\\n",
       "\\end{tabular}\n"
      ],
      "text/markdown": [
       "\n",
       "| precision_test_ridge | recall_test_ridge | F1_score_test_ridge |\n",
       "|---|---|---|\n",
       "| 0.3333333   | 0.004201681 | 0.008298755 |\n",
       "\n"
      ],
      "text/plain": [
       " precision_test_ridge recall_test_ridge F1_score_test_ridge\n",
       " 0.3333333            0.004201681       0.008298755        "
      ]
     },
     "metadata": {},
     "output_type": "display_data"
    }
   ],
   "source": [
    "data.frame(precision_test_ridge,recall_test_ridge,F1_score_test_ridge,row.names=\"\")"
   ]
  },
  {
   "cell_type": "markdown",
   "metadata": {},
   "source": [
    "## Lasso Regression "
   ]
  },
  {
   "cell_type": "code",
   "execution_count": null,
   "metadata": {},
   "outputs": [],
   "source": [
    "lambda_range = 10^seq(10,-2,length=100) "
   ]
  },
  {
   "cell_type": "code",
   "execution_count": 154,
   "metadata": {},
   "outputs": [],
   "source": [
    "lasso_mod = glmnet(data.matrix(X_train_insure),data.matrix(y_train_insure),alpha=1,lambda=lambda_range)"
   ]
  },
  {
   "cell_type": "code",
   "execution_count": 156,
   "metadata": {
    "scrolled": false
   },
   "outputs": [
    {
     "data": {
      "image/png": "[encoded data removed]",
      "text/plain": [
       "plot without title"
      ]
     },
     "metadata": {},
     "output_type": "display_data"
    }
   ],
   "source": [
    "plot(lasso_mod,xvar=\"lambda\")\n"
   ]
  },
  {
   "cell_type": "markdown",
   "metadata": {},
   "source": [
    "- we can see that the coeficients become zero really early, around where log(lambda=-5) ~ 0.05"
   ]
  },
  {
   "cell_type": "markdown",
   "metadata": {},
   "source": [
    "#### Best Lambda Value selection using cross validation method"
   ]
  },
  {
   "cell_type": "code",
   "execution_count": 240,
   "metadata": {},
   "outputs": [
    {
     "data": {
      "text/html": [
       "0.00318479854596551"
      ],
      "text/latex": [
       "0.00318479854596551"
      ],
      "text/markdown": [
       "0.00318479854596551"
      ],
      "text/plain": [
       "[1] 0.003184799"
      ]
     },
     "metadata": {},
     "output_type": "display_data"
    },
    {
     "data": {
      "image/png": "[encoded data removed]",
      "text/plain": [
       "plot without title"
      ]
     },
     "metadata": {},
     "output_type": "display_data"
    }
   ],
   "source": [
    "set.seed(20)\n",
    "cv_err_lasso = cv.glmnet(data.matrix(X_train_insure),data.matrix(y_train_insure),alpha=1)\n",
    "plot(cv_err_lasso)\n",
    "bestlam_lasso = cv_err_lasso$lambda.min\n",
    "bestlam_lasso"
   ]
  },
  {
   "cell_type": "markdown",
   "metadata": {},
   "source": [
    "#### Prediction using our best lambda value"
   ]
  },
  {
   "cell_type": "code",
   "execution_count": 241,
   "metadata": {},
   "outputs": [],
   "source": [
    "y_pred_lasso = predict(lasso_mod,s=bestlam_lasso,newx=data.matrix(X_test_insure))"
   ]
  },
  {
   "cell_type": "code",
   "execution_count": 242,
   "metadata": {},
   "outputs": [],
   "source": [
    "for (i in 1:length(y_pred_lasso)){\n",
    "        if (y_pred_lasso[i] >= 0.5){\n",
    "            y_pred_lasso[i] <- 1\n",
    "        } else{\n",
    "            y_pred_lasso[i] <- 0\n",
    "        }\n",
    "}"
   ]
  },
  {
   "cell_type": "markdown",
   "metadata": {},
   "source": [
    "#### Calculate MSE"
   ]
  },
  {
   "cell_type": "code",
   "execution_count": 243,
   "metadata": {},
   "outputs": [
    {
     "name": "stdout",
     "output_type": "stream",
     "text": [
      "MSE for Ridge method model:  0.0595"
     ]
    }
   ],
   "source": [
    "MSE_lasso = mse(y_test_insure,y_pred_lasso)\n",
    "cat(\"MSE for Ridge method model: \", MSE_lasso)"
   ]
  },
  {
   "cell_type": "markdown",
   "metadata": {},
   "source": [
    "#### Confusion Matrix"
   ]
  },
  {
   "cell_type": "code",
   "execution_count": 244,
   "metadata": {},
   "outputs": [
    {
     "data": {
      "text/plain": [
       "            y_test_insure\n",
       "y_pred_lasso    0    1\n",
       "           0 3762  238"
      ]
     },
     "metadata": {},
     "output_type": "display_data"
    }
   ],
   "source": [
    "table(y_pred_lasso,y_test_insure)"
   ]
  },
  {
   "cell_type": "markdown",
   "metadata": {},
   "source": [
    "- we observe masking again, however it's quite difficult to adjust our lambda value by just looking and guessing around, as we can see in our backward selection example, by choosing a different model although we avoided masking, it did not provide any betterresult. Therefore we are going to proceed. We are not going to calculate precision, recall and f1-score since we have masking in our solution"
   ]
  },
  {
   "cell_type": "markdown",
   "metadata": {},
   "source": [
    "#### Taking a look at our coefficient "
   ]
  },
  {
   "cell_type": "code",
   "execution_count": 245,
   "metadata": {},
   "outputs": [
    {
     "data": {
      "text/plain": [
       "86 x 1 sparse Matrix of class \"dgCMatrix\"\n",
       "                     1\n",
       "(Intercept) 0.05977327\n",
       "V1          .         \n",
       "V2          .         \n",
       "V3          .         \n",
       "V4          .         \n",
       "V5          .         \n",
       "V6          .         \n",
       "V7          .         \n",
       "V8          .         \n",
       "V9          .         \n",
       "V10         .         \n",
       "V11         .         \n",
       "V12         .         \n",
       "V13         .         \n",
       "V14         .         \n",
       "V15         .         \n",
       "V16         .         \n",
       "V17         .         \n",
       "V18         .         \n",
       "V19         .         \n",
       "V20         .         \n",
       "V21         .         \n",
       "V22         .         \n",
       "V23         .         \n",
       "V24         .         \n",
       "V25         .         \n",
       "V26         .         \n",
       "V27         .         \n",
       "V28         .         \n",
       "V29         .         \n",
       "V30         .         \n",
       "V31         .         \n",
       "V32         .         \n",
       "V33         .         \n",
       "V34         .         \n",
       "V35         .         \n",
       "V36         .         \n",
       "V37         .         \n",
       "V38         .         \n",
       "V39         .         \n",
       "V40         .         \n",
       "V41         .         \n",
       "V42         .         \n",
       "V43         .         \n",
       "V44         .         \n",
       "V45         .         \n",
       "V46         .         \n",
       "V47         .         \n",
       "V48         .         \n",
       "V49         .         \n",
       "V50         .         \n",
       "V51         .         \n",
       "V52         .         \n",
       "V53         .         \n",
       "V54         .         \n",
       "V55         .         \n",
       "V56         .         \n",
       "V57         .         \n",
       "V58         .         \n",
       "V59         .         \n",
       "V60         .         \n",
       "V61         .         \n",
       "V62         .         \n",
       "V63         .         \n",
       "V64         .         \n",
       "V65         .         \n",
       "V66         .         \n",
       "V67         .         \n",
       "V68         .         \n",
       "V69         .         \n",
       "V70         .         \n",
       "V71         .         \n",
       "V72         .         \n",
       "V73         .         \n",
       "V74         .         \n",
       "V75         .         \n",
       "V76         .         \n",
       "V77         .         \n",
       "V78         .         \n",
       "V79         .         \n",
       "V80         .         \n",
       "V81         .         \n",
       "V82         .         \n",
       "V83         .         \n",
       "V84         .         \n",
       "V85         .         "
      ]
     },
     "metadata": {},
     "output_type": "display_data"
    }
   ],
   "source": [
    "predict(lasso_mod,type=\"coefficients\",s=bestlam_ridge)"
   ]
  },
  {
   "cell_type": "markdown",
   "metadata": {},
   "source": [
    "- everything is set to 0"
   ]
  },
  {
   "cell_type": "markdown",
   "metadata": {},
   "source": [
    "#### To answer the question who is more likely to purchase a caravan insurance policy,\n",
    "- let's take a look at the most correlated (>0.9) with respect to our response variables\n",
    "- let's take a look at the likelihood P(class|feature) of these variables"
   ]
  },
  {
   "cell_type": "code",
   "execution_count": 282,
   "metadata": {},
   "outputs": [
    {
     "data": {
      "text/html": [
       "<dl class=dl-horizontal>\n",
       "\t<dt>V66</dt>\n",
       "\t\t<dd>0.000758997536814735</dd>\n",
       "\t<dt>V38</dt>\n",
       "\t\t<dd>0.000982360320606608</dd>\n",
       "\t<dt>V45</dt>\n",
       "\t\t<dd>0.00185239018646493</dd>\n",
       "\t<dt>V41</dt>\n",
       "\t\t<dd>0.00201323586654711</dd>\n",
       "\t<dt>V8</dt>\n",
       "\t\t<dd>0.00403940366870679</dd>\n",
       "\t<dt>V27</dt>\n",
       "\t\t<dd>0.00404026069615615</dd>\n",
       "\t<dt>V4</dt>\n",
       "\t\t<dd>0.00449069728181701</dd>\n",
       "\t<dt>V63</dt>\n",
       "\t\t<dd>0.00552810021345379</dd>\n",
       "\t<dt>V49</dt>\n",
       "\t\t<dd>0.00563016084588059</dd>\n",
       "\t<dt>V6</dt>\n",
       "\t\t<dd>0.00622542350664918</dd>\n",
       "\t<dt>V48</dt>\n",
       "\t\t<dd>0.00654068022417002</dd>\n",
       "\t<dt>V33</dt>\n",
       "\t\t<dd>0.00776807560219217</dd>\n",
       "\t<dt>V14</dt>\n",
       "\t\t<dd>0.00798142966782806</dd>\n",
       "\t<dt>V77</dt>\n",
       "\t\t<dd>0.00849194293960926</dd>\n",
       "\t<dt>V70</dt>\n",
       "\t\t<dd>0.00858913969585687</dd>\n",
       "\t<dt>V71</dt>\n",
       "\t\t<dd>0.00896302874679833</dd>\n",
       "\t<dt>V69</dt>\n",
       "\t\t<dd>0.00917608651642879</dd>\n",
       "\t<dt>V72</dt>\n",
       "\t\t<dd>0.00942822505233189</dd>\n",
       "\t<dt>V56</dt>\n",
       "\t\t<dd>0.00963261309602768</dd>\n",
       "\t<dt>V50</dt>\n",
       "\t\t<dd>0.00973586681501956</dd>\n",
       "\t<dt>V2</dt>\n",
       "\t\t<dd>0.00980902756201638</dd>\n",
       "\t<dt>V60</dt>\n",
       "\t\t<dd>0.0116891605261846</dd>\n",
       "\t<dt>V52</dt>\n",
       "\t\t<dd>0.0122766710536871</dd>\n",
       "\t<dt>V74</dt>\n",
       "\t\t<dd>0.0125550984685697</dd>\n",
       "\t<dt>V51</dt>\n",
       "\t\t<dd>0.0126284578180558</dd>\n",
       "\t<dt>V53</dt>\n",
       "\t\t<dd>0.0143800094794187</dd>\n",
       "\t<dt>V73</dt>\n",
       "\t\t<dd>0.0172020196896908</dd>\n",
       "\t<dt>V84</dt>\n",
       "\t\t<dd>0.0180255830417799</dd>\n",
       "\t<dt>V55</dt>\n",
       "\t\t<dd>0.0211521954353141</dd>\n",
       "\t<dt>V67</dt>\n",
       "\t\t<dd>0.0212790766585742</dd>\n",
       "\t<dt>V46</dt>\n",
       "\t\t<dd>0.0216306916642414</dd>\n",
       "\t<dt>V20</dt>\n",
       "\t\t<dd>0.0219744984919237</dd>\n",
       "\t<dt>V79</dt>\n",
       "\t\t<dd>0.0223373106600219</dd>\n",
       "\t<dt>V81</dt>\n",
       "\t\t<dd>0.0262010877090515</dd>\n",
       "\t<dt>V62</dt>\n",
       "\t\t<dd>0.0286954417883942</dd>\n",
       "\t<dt>V26</dt>\n",
       "\t\t<dd>0.0287629713210226</dd>\n",
       "\t<dt>V58</dt>\n",
       "\t\t<dd>0.0305286400673721</dd>\n",
       "\t<dt>V15</dt>\n",
       "\t\t<dd>0.0323460866280479</dd>\n",
       "\t<dt>V7</dt>\n",
       "\t\t<dd>0.0328663302406927</dd>\n",
       "\t<dt>V11</dt>\n",
       "\t\t<dd>0.0333622934015314</dd>\n",
       "\t<dt>V78</dt>\n",
       "\t\t<dd>0.0335484032015175</dd>\n",
       "\t<dt>V83</dt>\n",
       "\t\t<dd>0.0341439482107677</dd>\n",
       "\t<dt>V3</dt>\n",
       "\t\t<dd>0.0355731574350967</dd>\n",
       "\t<dt>V76</dt>\n",
       "\t\t<dd>0.0371176229881796</dd>\n",
       "\t<dt>V57</dt>\n",
       "\t\t<dd>0.0402076295376165</dd>\n",
       "\t<dt>V9</dt>\n",
       "\t\t<dd>0.0417068857472191</dd>\n",
       "\t<dt>V28</dt>\n",
       "\t\t<dd>0.0423093665155348</dd>\n",
       "\t<dt>V23</dt>\n",
       "\t\t<dd>0.0424958378289171</dd>\n",
       "\t<dt>V17</dt>\n",
       "\t\t<dd>0.0435170674257126</dd>\n",
       "\t<dt>V54</dt>\n",
       "\t\t<dd>0.0444097107118216</dd>\n",
       "\t<dt>V75</dt>\n",
       "\t\t<dd>0.0451163961535562</dd>\n",
       "\t<dt>V22</dt>\n",
       "\t\t<dd>0.0477161871680187</dd>\n",
       "\t<dt>V13</dt>\n",
       "\t\t<dd>0.0531021573695092</dd>\n",
       "\t<dt>V21</dt>\n",
       "\t\t<dd>0.0540025662531408</dd>\n",
       "\t<dt>V24</dt>\n",
       "\t\t<dd>0.0546323864530238</dd>\n",
       "\t<dt>V36</dt>\n",
       "\t\t<dd>0.0575181930098014</dd>\n",
       "\t<dt>V39</dt>\n",
       "\t\t<dd>0.0576918268988428</dd>\n",
       "\t<dt>V40</dt>\n",
       "\t\t<dd>0.0579205698608533</dd>\n",
       "\t<dt>V35</dt>\n",
       "\t\t<dd>0.0583778480864822</dd>\n",
       "\t<dt>V80</dt>\n",
       "\t\t<dd>0.0613811659504619</dd>\n",
       "\t<dt>V12</dt>\n",
       "\t\t<dd>0.0622853592695469</dd>\n",
       "\t<dt>V64</dt>\n",
       "\t\t<dd>0.0627888617305439</dd>\n",
       "\t<dt>V29</dt>\n",
       "\t\t<dd>0.063070265521851</dd>\n",
       "\t<dt>V25</dt>\n",
       "\t\t<dd>0.0634975982389849</dd>\n",
       "\t<dt>V19</dt>\n",
       "\t\t<dd>0.065081606018764</dd>\n",
       "\t<dt>V85</dt>\n",
       "\t\t<dd>0.0666578512997043</dd>\n",
       "\t<dt>V5</dt>\n",
       "\t\t<dd>0.0692998303587383</dd>\n",
       "\t<dt>V1</dt>\n",
       "\t\t<dd>0.0693852373222291</dd>\n",
       "\t<dt>V32</dt>\n",
       "\t\t<dd>0.0699738687710985</dd>\n",
       "\t<dt>V10</dt>\n",
       "\t\t<dd>0.0702638278780495</dd>\n",
       "\t<dt>V34</dt>\n",
       "\t\t<dd>0.0765007838792945</dd>\n",
       "\t<dt>V31</dt>\n",
       "\t\t<dd>0.0784289164850287</dd>\n",
       "\t<dt>V30</dt>\n",
       "\t\t<dd>0.0791434983880166</dd>\n",
       "\t<dt>V37</dt>\n",
       "\t\t<dd>0.0797651168996315</dd>\n",
       "\t<dt>V16</dt>\n",
       "\t\t<dd>0.0846353376303661</dd>\n",
       "\t<dt>V65</dt>\n",
       "\t\t<dd>0.0893874726788694</dd>\n",
       "\t<dt>V42</dt>\n",
       "\t\t<dd>0.0901853819579985</dd>\n",
       "\t<dt>V18</dt>\n",
       "\t\t<dd>0.0905613304412673</dd>\n",
       "\t<dt>V61</dt>\n",
       "\t\t<dd>0.0913611588629102</dd>\n",
       "\t<dt>V59</dt>\n",
       "\t\t<dd>0.0944459896550117</dd>\n",
       "\t<dt>V43</dt>\n",
       "\t\t<dd>0.0959382627094113</dd>\n",
       "\t<dt>V44</dt>\n",
       "\t\t<dd>0.0964626876771548</dd>\n",
       "\t<dt>V82</dt>\n",
       "\t\t<dd>0.105699504466039</dd>\n",
       "\t<dt>V68</dt>\n",
       "\t\t<dd>0.144210464452192</dd>\n",
       "\t<dt>V47</dt>\n",
       "\t\t<dd>0.150909714824454</dd>\n",
       "\t<dt>V86</dt>\n",
       "\t\t<dd>1</dd>\n",
       "</dl>\n"
      ],
      "text/latex": [
       "\\begin{description*}\n",
       "\\item[V66] 0.000758997536814735\n",
       "\\item[V38] 0.000982360320606608\n",
       "\\item[V45] 0.00185239018646493\n",
       "\\item[V41] 0.00201323586654711\n",
       "\\item[V8] 0.00403940366870679\n",
       "\\item[V27] 0.00404026069615615\n",
       "\\item[V4] 0.00449069728181701\n",
       "\\item[V63] 0.00552810021345379\n",
       "\\item[V49] 0.00563016084588059\n",
       "\\item[V6] 0.00622542350664918\n",
       "\\item[V48] 0.00654068022417002\n",
       "\\item[V33] 0.00776807560219217\n",
       "\\item[V14] 0.00798142966782806\n",
       "\\item[V77] 0.00849194293960926\n",
       "\\item[V70] 0.00858913969585687\n",
       "\\item[V71] 0.00896302874679833\n",
       "\\item[V69] 0.00917608651642879\n",
       "\\item[V72] 0.00942822505233189\n",
       "\\item[V56] 0.00963261309602768\n",
       "\\item[V50] 0.00973586681501956\n",
       "\\item[V2] 0.00980902756201638\n",
       "\\item[V60] 0.0116891605261846\n",
       "\\item[V52] 0.0122766710536871\n",
       "\\item[V74] 0.0125550984685697\n",
       "\\item[V51] 0.0126284578180558\n",
       "\\item[V53] 0.0143800094794187\n",
       "\\item[V73] 0.0172020196896908\n",
       "\\item[V84] 0.0180255830417799\n",
       "\\item[V55] 0.0211521954353141\n",
       "\\item[V67] 0.0212790766585742\n",
       "\\item[V46] 0.0216306916642414\n",
       "\\item[V20] 0.0219744984919237\n",
       "\\item[V79] 0.0223373106600219\n",
       "\\item[V81] 0.0262010877090515\n",
       "\\item[V62] 0.0286954417883942\n",
       "\\item[V26] 0.0287629713210226\n",
       "\\item[V58] 0.0305286400673721\n",
       "\\item[V15] 0.0323460866280479\n",
       "\\item[V7] 0.0328663302406927\n",
       "\\item[V11] 0.0333622934015314\n",
       "\\item[V78] 0.0335484032015175\n",
       "\\item[V83] 0.0341439482107677\n",
       "\\item[V3] 0.0355731574350967\n",
       "\\item[V76] 0.0371176229881796\n",
       "\\item[V57] 0.0402076295376165\n",
       "\\item[V9] 0.0417068857472191\n",
       "\\item[V28] 0.0423093665155348\n",
       "\\item[V23] 0.0424958378289171\n",
       "\\item[V17] 0.0435170674257126\n",
       "\\item[V54] 0.0444097107118216\n",
       "\\item[V75] 0.0451163961535562\n",
       "\\item[V22] 0.0477161871680187\n",
       "\\item[V13] 0.0531021573695092\n",
       "\\item[V21] 0.0540025662531408\n",
       "\\item[V24] 0.0546323864530238\n",
       "\\item[V36] 0.0575181930098014\n",
       "\\item[V39] 0.0576918268988428\n",
       "\\item[V40] 0.0579205698608533\n",
       "\\item[V35] 0.0583778480864822\n",
       "\\item[V80] 0.0613811659504619\n",
       "\\item[V12] 0.0622853592695469\n",
       "\\item[V64] 0.0627888617305439\n",
       "\\item[V29] 0.063070265521851\n",
       "\\item[V25] 0.0634975982389849\n",
       "\\item[V19] 0.065081606018764\n",
       "\\item[V85] 0.0666578512997043\n",
       "\\item[V5] 0.0692998303587383\n",
       "\\item[V1] 0.0693852373222291\n",
       "\\item[V32] 0.0699738687710985\n",
       "\\item[V10] 0.0702638278780495\n",
       "\\item[V34] 0.0765007838792945\n",
       "\\item[V31] 0.0784289164850287\n",
       "\\item[V30] 0.0791434983880166\n",
       "\\item[V37] 0.0797651168996315\n",
       "\\item[V16] 0.0846353376303661\n",
       "\\item[V65] 0.0893874726788694\n",
       "\\item[V42] 0.0901853819579985\n",
       "\\item[V18] 0.0905613304412673\n",
       "\\item[V61] 0.0913611588629102\n",
       "\\item[V59] 0.0944459896550117\n",
       "\\item[V43] 0.0959382627094113\n",
       "\\item[V44] 0.0964626876771548\n",
       "\\item[V82] 0.105699504466039\n",
       "\\item[V68] 0.144210464452192\n",
       "\\item[V47] 0.150909714824454\n",
       "\\item[V86] 1\n",
       "\\end{description*}\n"
      ],
      "text/markdown": [
       "V66\n",
       ":   0.000758997536814735V38\n",
       ":   0.000982360320606608V45\n",
       ":   0.00185239018646493V41\n",
       ":   0.00201323586654711V8\n",
       ":   0.00403940366870679V27\n",
       ":   0.00404026069615615V4\n",
       ":   0.00449069728181701V63\n",
       ":   0.00552810021345379V49\n",
       ":   0.00563016084588059V6\n",
       ":   0.00622542350664918V48\n",
       ":   0.00654068022417002V33\n",
       ":   0.00776807560219217V14\n",
       ":   0.00798142966782806V77\n",
       ":   0.00849194293960926V70\n",
       ":   0.00858913969585687V71\n",
       ":   0.00896302874679833V69\n",
       ":   0.00917608651642879V72\n",
       ":   0.00942822505233189V56\n",
       ":   0.00963261309602768V50\n",
       ":   0.00973586681501956V2\n",
       ":   0.00980902756201638V60\n",
       ":   0.0116891605261846V52\n",
       ":   0.0122766710536871V74\n",
       ":   0.0125550984685697V51\n",
       ":   0.0126284578180558V53\n",
       ":   0.0143800094794187V73\n",
       ":   0.0172020196896908V84\n",
       ":   0.0180255830417799V55\n",
       ":   0.0211521954353141V67\n",
       ":   0.0212790766585742V46\n",
       ":   0.0216306916642414V20\n",
       ":   0.0219744984919237V79\n",
       ":   0.0223373106600219V81\n",
       ":   0.0262010877090515V62\n",
       ":   0.0286954417883942V26\n",
       ":   0.0287629713210226V58\n",
       ":   0.0305286400673721V15\n",
       ":   0.0323460866280479V7\n",
       ":   0.0328663302406927V11\n",
       ":   0.0333622934015314V78\n",
       ":   0.0335484032015175V83\n",
       ":   0.0341439482107677V3\n",
       ":   0.0355731574350967V76\n",
       ":   0.0371176229881796V57\n",
       ":   0.0402076295376165V9\n",
       ":   0.0417068857472191V28\n",
       ":   0.0423093665155348V23\n",
       ":   0.0424958378289171V17\n",
       ":   0.0435170674257126V54\n",
       ":   0.0444097107118216V75\n",
       ":   0.0451163961535562V22\n",
       ":   0.0477161871680187V13\n",
       ":   0.0531021573695092V21\n",
       ":   0.0540025662531408V24\n",
       ":   0.0546323864530238V36\n",
       ":   0.0575181930098014V39\n",
       ":   0.0576918268988428V40\n",
       ":   0.0579205698608533V35\n",
       ":   0.0583778480864822V80\n",
       ":   0.0613811659504619V12\n",
       ":   0.0622853592695469V64\n",
       ":   0.0627888617305439V29\n",
       ":   0.063070265521851V25\n",
       ":   0.0634975982389849V19\n",
       ":   0.065081606018764V85\n",
       ":   0.0666578512997043V5\n",
       ":   0.0692998303587383V1\n",
       ":   0.0693852373222291V32\n",
       ":   0.0699738687710985V10\n",
       ":   0.0702638278780495V34\n",
       ":   0.0765007838792945V31\n",
       ":   0.0784289164850287V30\n",
       ":   0.0791434983880166V37\n",
       ":   0.0797651168996315V16\n",
       ":   0.0846353376303661V65\n",
       ":   0.0893874726788694V42\n",
       ":   0.0901853819579985V18\n",
       ":   0.0905613304412673V61\n",
       ":   0.0913611588629102V59\n",
       ":   0.0944459896550117V43\n",
       ":   0.0959382627094113V44\n",
       ":   0.0964626876771548V82\n",
       ":   0.105699504466039V68\n",
       ":   0.144210464452192V47\n",
       ":   0.150909714824454V86\n",
       ":   1\n",
       "\n"
      ],
      "text/plain": [
       "         V66          V38          V45          V41           V8          V27 \n",
       "0.0007589975 0.0009823603 0.0018523902 0.0020132359 0.0040394037 0.0040402607 \n",
       "          V4          V63          V49           V6          V48          V33 \n",
       "0.0044906973 0.0055281002 0.0056301608 0.0062254235 0.0065406802 0.0077680756 \n",
       "         V14          V77          V70          V71          V69          V72 \n",
       "0.0079814297 0.0084919429 0.0085891397 0.0089630287 0.0091760865 0.0094282251 \n",
       "         V56          V50           V2          V60          V52          V74 \n",
       "0.0096326131 0.0097358668 0.0098090276 0.0116891605 0.0122766711 0.0125550985 \n",
       "         V51          V53          V73          V84          V55          V67 \n",
       "0.0126284578 0.0143800095 0.0172020197 0.0180255830 0.0211521954 0.0212790767 \n",
       "         V46          V20          V79          V81          V62          V26 \n",
       "0.0216306917 0.0219744985 0.0223373107 0.0262010877 0.0286954418 0.0287629713 \n",
       "         V58          V15           V7          V11          V78          V83 \n",
       "0.0305286401 0.0323460866 0.0328663302 0.0333622934 0.0335484032 0.0341439482 \n",
       "          V3          V76          V57           V9          V28          V23 \n",
       "0.0355731574 0.0371176230 0.0402076295 0.0417068857 0.0423093665 0.0424958378 \n",
       "         V17          V54          V75          V22          V13          V21 \n",
       "0.0435170674 0.0444097107 0.0451163962 0.0477161872 0.0531021574 0.0540025663 \n",
       "         V24          V36          V39          V40          V35          V80 \n",
       "0.0546323865 0.0575181930 0.0576918269 0.0579205699 0.0583778481 0.0613811660 \n",
       "         V12          V64          V29          V25          V19          V85 \n",
       "0.0622853593 0.0627888617 0.0630702655 0.0634975982 0.0650816060 0.0666578513 \n",
       "          V5           V1          V32          V10          V34          V31 \n",
       "0.0692998304 0.0693852373 0.0699738688 0.0702638279 0.0765007839 0.0784289165 \n",
       "         V30          V37          V16          V65          V42          V18 \n",
       "0.0791434984 0.0797651169 0.0846353376 0.0893874727 0.0901853820 0.0905613304 \n",
       "         V61          V59          V43          V44          V82          V68 \n",
       "0.0913611589 0.0944459897 0.0959382627 0.0964626877 0.1056995045 0.1442104645 \n",
       "         V47          V86 \n",
       "0.1509097148 1.0000000000 "
      ]
     },
     "metadata": {},
     "output_type": "display_data"
    }
   ],
   "source": [
    "sort(abs(cor(df_train)[,86]),)"
   ]
  },
  {
   "cell_type": "code",
   "execution_count": 306,
   "metadata": {},
   "outputs": [
    {
     "data": {
      "image/png": "[encoded data removed]",
      "text/plain": [
       "Plot with title \"Number of boat policies\""
      ]
     },
     "metadata": {},
     "output_type": "display_data"
    }
   ],
   "source": [
    "par(mfrow=c(3,3))\n",
    "\n",
    "v47<-table(df_train$V47[df_train$V86==1])\n",
    "pie(v47,main =\"Contribution car policies\")\n",
    "\n",
    "v68<-table(df_train$V68[df_train$V86==1])\n",
    "pie(v68,main =\"Number of car policies\")\n",
    "\n",
    "v82<-table(df_train$V82[df_train$V86==1])\n",
    "pie(v82,main =\"Number of boat policies\")\n",
    "\n",
    "v44<-table(df_train$V44[df_train$V86==1])\n",
    "pie(v44,main =\"Contribution private third party insurance\")\n",
    "\n",
    "v43<-table(df_train$V43[df_train$V86==1])\n",
    "pie(v43,main =\"Purchasing power class\")\n",
    "\n",
    "v59<-table(df_train$V59[df_train$V86==1])\n",
    "pie(v59,main =\"Contribution fire policies\")\n",
    "\n",
    "v61<-table(df_train$V61[df_train$V86==1])\n",
    "pie(v61,main =\"Contribution boat policies\")\n",
    "\n",
    "v18<-table(df_train$V18[df_train$V86==1])\n",
    "pie(v18,main =\"Lower level education\")\n",
    "\n",
    "v82<-table(df_train$V82[df_train$V86==1])\n",
    "pie(v82,main =\"Number of boat policies\")\n",
    "\n",
    "\n"
   ]
  },
  {
   "cell_type": "markdown",
   "metadata": {},
   "source": [
    "#### let's take a look at some intersting variables"
   ]
  },
  {
   "cell_type": "code",
   "execution_count": 315,
   "metadata": {},
   "outputs": [
    {
     "data": {
      "image/png": "[encoded data removed]",
      "text/plain": [
       "Plot with title \"Avg size household\""
      ]
     },
     "metadata": {},
     "output_type": "display_data"
    }
   ],
   "source": [
    "par(mfrow=c(2,2))\n",
    "v1<-table(df_train$V1[df_train$V86==1])\n",
    "pie(v1,main =\"Customer Subtype\")\n",
    "\n",
    "v4<-table(df_train$V4[df_train$V86==1])\n",
    "pie(v4,main =\"Avg age\")\n",
    "\n",
    "v5<-table(df_train$V5[df_train$V86==1])\n",
    "pie(v5,main =\"Customer main type\")\n",
    "\n",
    "\n",
    "v3<-table(df_train$V3[df_train$V86==1])\n",
    "pie(v3,main =\"Avg size household\")"
   ]
  },
  {
   "cell_type": "markdown",
   "metadata": {},
   "source": [
    "- by looking at the pie charts above:\n",
    "    - amount of car insurance paid : 1000 - 4999\n",
    "    - number of car insurance owned: 1\n",
    "    - has third party insurance\n",
    "    - mostly don't pay boat insruance or own boat \n",
    "    - pay 200-499 for fire policy\n",
    "    - customer subtype 8, 33: middle class families, or lower class large families\n",
    "    - mostly 20-30  years old\n",
    "    - customer main type: large family, family with grownups\n",
    "    - Average household: 2,3,4\n",
    " - we kinda see a group of people who pays a lot of insurance for one car. And the insurance owner is 20-30 year old with a family. Either in middle class/ lower with a median to large family. Seem like a group that would take a lot of a family vacations and road trips!"
   ]
  },
  {
   "cell_type": "markdown",
   "metadata": {},
   "source": [
    "### Conclusion"
   ]
  },
  {
   "cell_type": "code",
   "execution_count": 237,
   "metadata": {},
   "outputs": [
    {
     "data": {
      "text/html": [
       "<table>\n",
       "<thead><tr><th></th><th scope=col>F1_score_test</th><th scope=col>F1_score_test_fwd</th><th scope=col>F1_score_test_bwd</th><th scope=col>F1_score_test_ridge</th></tr></thead>\n",
       "<tbody>\n",
       "\t<tr><th scope=row> </th><td>0.008298755</td><td>0.008298755</td><td>0.008298755</td><td>0.008298755</td></tr>\n",
       "</tbody>\n",
       "</table>\n"
      ],
      "text/latex": [
       "\\begin{tabular}{r|llll}\n",
       "  & F1\\_score\\_test & F1\\_score\\_test\\_fwd & F1\\_score\\_test\\_bwd & F1\\_score\\_test\\_ridge\\\\\n",
       "\\hline\n",
       "\t  & 0.008298755 & 0.008298755 & 0.008298755 & 0.008298755\\\\\n",
       "\\end{tabular}\n"
      ],
      "text/markdown": [
       "\n",
       "| <!--/--> | F1_score_test | F1_score_test_fwd | F1_score_test_bwd | F1_score_test_ridge |\n",
       "|---|---|---|---|---|\n",
       "|   | 0.008298755 | 0.008298755 | 0.008298755 | 0.008298755 |\n",
       "\n"
      ],
      "text/plain": [
       "  F1_score_test F1_score_test_fwd F1_score_test_bwd F1_score_test_ridge\n",
       "  0.008298755   0.008298755       0.008298755       0.008298755        "
      ]
     },
     "metadata": {},
     "output_type": "display_data"
    }
   ],
   "source": [
    "data.frame(F1_score_test,F1_score_test_fwd,F1_score_test_bwd,F1_score_test_ridge,row.names=\" \")\n"
   ]
  },
  {
   "cell_type": "code",
   "execution_count": 236,
   "metadata": {},
   "outputs": [
    {
     "data": {
      "text/plain": [
       "                  y_test_insure\n",
       "y_pred_insure_test    0    1\n",
       "                 0 3760  237\n",
       "                 1    2    1"
      ]
     },
     "metadata": {},
     "output_type": "display_data"
    },
    {
     "data": {
      "text/plain": [
       "          y_test_insure\n",
       "y_pred_fwd    0    1\n",
       "         0 3760  237\n",
       "         1    2    1"
      ]
     },
     "metadata": {},
     "output_type": "display_data"
    },
    {
     "data": {
      "text/plain": [
       "          y_test_insure\n",
       "y_pred_bwd    0    1\n",
       "         0 3760  237\n",
       "         1    2    1"
      ]
     },
     "metadata": {},
     "output_type": "display_data"
    },
    {
     "data": {
      "text/plain": [
       "            y_test_insure\n",
       "y_pred_ridge    0    1\n",
       "           0 3762  237\n",
       "           1    0    1"
      ]
     },
     "metadata": {},
     "output_type": "display_data"
    },
    {
     "data": {
      "text/plain": [
       "            y_test_insure\n",
       "y_pred_lasso    0    1\n",
       "           0 3762  238"
      ]
     },
     "metadata": {},
     "output_type": "display_data"
    }
   ],
   "source": [
    "table(y_pred_insure_test,y_test_insure)\n",
    "table(y_pred_fwd,y_test_insure)\n",
    "table(y_pred_bwd,y_test_insure)\n",
    "table(y_pred_ridge,y_test_insure)\n",
    "table(y_pred_lasso,y_test_insure)"
   ]
  },
  {
   "cell_type": "code",
   "execution_count": null,
   "metadata": {},
   "outputs": [],
   "source": []
  },
  {
   "cell_type": "markdown",
   "metadata": {},
   "source": [
    "- Finally,the point to take away from this problem is that when dealing with an imbalanced / biased dataset (in this case ~94% \"0\"s and 6% \"1s\"), simple performing a regression /classfication model and measure its performance by MSE will simply not going to give you what you want. When working with an imbalanced classification problem, the minority class is typically of the most interest. This means that a model’s skill in correctly predicting the class label or probability for the minority class is more important than the majority class or classes. In our case we see that in almost all models above class of \"1\", our minority group resulted in mostly false negatives, in severe cases we even see masking. There are ways to  deal with challege:\n",
    "    - using the right performance metrics, such as f1-score\n",
    "    - over/under sampling\n",
    "    - generating synthetic data etc.\n",
    "    \n",
    " "
   ]
  },
  {
   "cell_type": "markdown",
   "metadata": {},
   "source": [
    "# Question 2\n",
    "\n",
    "2) We have seen that as the number of features used in a model increases, the\n",
    "training error will necessarily decrease, but the test error may not. We will now\n",
    "explore this in a simulated data set.\n",
    "Generate a data set with p = 20 features, n = 1, 000 observations, and an\n",
    "associated quantitative response vector generated according to the model\n",
    "\n",
    "Y =X*Beta + e\n",
    "\n",
    "where β has some elements that are exactly equal to zero. Split your data set into\n",
    "a training set containing 800 observations and a test set containing 200\n",
    "observations.\n",
    "Perform best subset selection or forward stepwise selection -- on the training set,\n",
    "and plot the training set MSE associated with the best model of each size. Plot\n",
    "the test set MSE associated with the best model of each size.\n",
    "\n",
    "\n",
    "For which model size does the test set MSE take on its minimum value?\n",
    "Comment on your results. How does the model at which the test set MSE is\n",
    "minimized compare to the true model used to generate the data? Comment on the\n",
    "coefficient values."
   ]
  },
  {
   "cell_type": "markdown",
   "metadata": {},
   "source": [
    "#### Randomly enerate X matrix - 100*20, using rnorm "
   ]
  },
  {
   "cell_type": "code",
   "execution_count": 202,
   "metadata": {},
   "outputs": [],
   "source": [
    "set.seed(8989)\n",
    "sim_df <- matrix(, nrow =1000, ncol = 20)\n",
    "for(column in 1:20){\n",
    "  sim_df[, column] <- rnorm(1000,mean=2,sd=4)\n",
    "}\n"
   ]
  },
  {
   "cell_type": "markdown",
   "metadata": {},
   "source": [
    "#### name the variables"
   ]
  },
  {
   "cell_type": "code",
   "execution_count": 203,
   "metadata": {},
   "outputs": [],
   "source": [
    "colnames(sim_df) <- c(\"Var1\",\"Var2\",\"Var3\",\"Var4\",\"Var5\",\"Var6\",\"Var7\",\"Var8\",\"Var9\",\"Var10\",\"Var11\",\n",
    "                \"Var12\",\"Var13\",\"Var14\",\"Var15\",\"Var16\",\"Var17\",\"Var18\",\"Var19\",\"Var20\")\n"
   ]
  },
  {
   "cell_type": "code",
   "execution_count": 204,
   "metadata": {},
   "outputs": [
    {
     "data": {
      "text/html": [
       "<table>\n",
       "<thead><tr><th scope=col>Var1</th><th scope=col>Var2</th><th scope=col>Var3</th><th scope=col>Var4</th><th scope=col>Var5</th><th scope=col>Var6</th><th scope=col>Var7</th><th scope=col>Var8</th><th scope=col>Var9</th><th scope=col>Var10</th><th scope=col>Var11</th><th scope=col>Var12</th><th scope=col>Var13</th><th scope=col>Var14</th><th scope=col>Var15</th><th scope=col>Var16</th><th scope=col>Var17</th><th scope=col>Var18</th><th scope=col>Var19</th><th scope=col>Var20</th></tr></thead>\n",
       "<tbody>\n",
       "\t<tr><td> 0.5899540 </td><td> 7.6557120 </td><td>-7.1979743 </td><td> 3.3339426 </td><td> 4.7491648 </td><td> 1.4539029 </td><td>-4.9459782 </td><td> 0.47432583</td><td>2.312378   </td><td>-0.6815444 </td><td> 6.8389075 </td><td> 6.381265  </td><td> 3.8094817 </td><td>-4.142716  </td><td>-1.9235424 </td><td>0.3917823  </td><td>-0.2464930 </td><td>-0.3018462 </td><td>-3.733281  </td><td> 7.3470128 </td></tr>\n",
       "\t<tr><td> 2.9269113 </td><td> 0.4947942 </td><td>-2.0123855 </td><td> 3.8815339 </td><td> 9.3410245 </td><td> 9.0440503 </td><td> 2.4866724 </td><td>-6.08230796</td><td>1.325527   </td><td> 7.8101041 </td><td>-3.2556310 </td><td>-1.349193  </td><td> 3.9673540 </td><td> 4.475452  </td><td>-7.2890262 </td><td>1.5260523  </td><td> 0.5285554 </td><td> 7.7544583 </td><td> 3.302379  </td><td> 4.2864024 </td></tr>\n",
       "\t<tr><td>-1.1401706 </td><td> 4.1437642 </td><td>-3.1134437 </td><td> 0.4143469 </td><td>-0.9110781 </td><td> 0.8634104 </td><td> 0.6106556 </td><td>-0.05907016</td><td>6.750857   </td><td>11.5009168 </td><td> 0.8302854 </td><td>-6.022417  </td><td>-1.9807823 </td><td> 1.323191  </td><td> 3.3259144 </td><td>5.3779171  </td><td> 2.8121452 </td><td>-2.9889996 </td><td>12.513585  </td><td>-1.9415721 </td></tr>\n",
       "\t<tr><td> 2.4834228 </td><td> 1.1414497 </td><td> 0.3419856 </td><td>12.2584136 </td><td> 1.7044997 </td><td> 2.1544490 </td><td>-7.8726140 </td><td>-0.72548522</td><td>5.483285   </td><td>14.6904116 </td><td>-3.6167791 </td><td> 3.781231  </td><td> 5.9204764 </td><td> 2.668345  </td><td> 1.4607624 </td><td>4.4476727  </td><td> 3.7377474 </td><td>-1.2918495 </td><td> 3.071980  </td><td>-3.4825944 </td></tr>\n",
       "\t<tr><td> 0.3059988 </td><td> 4.8298619 </td><td> 0.8162793 </td><td> 1.6364514 </td><td> 6.2544056 </td><td>-4.3138342 </td><td> 5.3734103 </td><td> 6.44811055</td><td>1.136111   </td><td>-0.2450956 </td><td> 2.1020690 </td><td>-2.484432  </td><td>-0.9902991 </td><td>-3.857786  </td><td> 0.3240063 </td><td>3.2358775  </td><td> 5.6506824 </td><td> 3.4558206 </td><td> 1.857429  </td><td> 5.8300298 </td></tr>\n",
       "\t<tr><td> 2.5181749 </td><td>-0.7939086 </td><td>-0.1929420 </td><td>-1.5275363 </td><td> 2.3742929 </td><td> 0.4298700 </td><td> 4.5016804 </td><td>-4.36224303</td><td>2.603856   </td><td> 6.0865402 </td><td> 2.4513135 </td><td> 6.678859  </td><td>10.7450483 </td><td> 1.197975  </td><td> 1.3789283 </td><td>3.5518914  </td><td> 5.4125069 </td><td> 6.1429933 </td><td> 7.394971  </td><td> 0.3657843 </td></tr>\n",
       "</tbody>\n",
       "</table>\n"
      ],
      "text/latex": [
       "\\begin{tabular}{llllllllllllllllllll}\n",
       " Var1 & Var2 & Var3 & Var4 & Var5 & Var6 & Var7 & Var8 & Var9 & Var10 & Var11 & Var12 & Var13 & Var14 & Var15 & Var16 & Var17 & Var18 & Var19 & Var20\\\\\n",
       "\\hline\n",
       "\t  0.5899540  &  7.6557120  & -7.1979743  &  3.3339426  &  4.7491648  &  1.4539029  & -4.9459782  &  0.47432583 & 2.312378    & -0.6815444  &  6.8389075  &  6.381265   &  3.8094817  & -4.142716   & -1.9235424  & 0.3917823   & -0.2464930  & -0.3018462  & -3.733281   &  7.3470128 \\\\\n",
       "\t  2.9269113  &  0.4947942  & -2.0123855  &  3.8815339  &  9.3410245  &  9.0440503  &  2.4866724  & -6.08230796 & 1.325527    &  7.8101041  & -3.2556310  & -1.349193   &  3.9673540  &  4.475452   & -7.2890262  & 1.5260523   &  0.5285554  &  7.7544583  &  3.302379   &  4.2864024 \\\\\n",
       "\t -1.1401706  &  4.1437642  & -3.1134437  &  0.4143469  & -0.9110781  &  0.8634104  &  0.6106556  & -0.05907016 & 6.750857    & 11.5009168  &  0.8302854  & -6.022417   & -1.9807823  &  1.323191   &  3.3259144  & 5.3779171   &  2.8121452  & -2.9889996  & 12.513585   & -1.9415721 \\\\\n",
       "\t  2.4834228  &  1.1414497  &  0.3419856  & 12.2584136  &  1.7044997  &  2.1544490  & -7.8726140  & -0.72548522 & 5.483285    & 14.6904116  & -3.6167791  &  3.781231   &  5.9204764  &  2.668345   &  1.4607624  & 4.4476727   &  3.7377474  & -1.2918495  &  3.071980   & -3.4825944 \\\\\n",
       "\t  0.3059988  &  4.8298619  &  0.8162793  &  1.6364514  &  6.2544056  & -4.3138342  &  5.3734103  &  6.44811055 & 1.136111    & -0.2450956  &  2.1020690  & -2.484432   & -0.9902991  & -3.857786   &  0.3240063  & 3.2358775   &  5.6506824  &  3.4558206  &  1.857429   &  5.8300298 \\\\\n",
       "\t  2.5181749  & -0.7939086  & -0.1929420  & -1.5275363  &  2.3742929  &  0.4298700  &  4.5016804  & -4.36224303 & 2.603856    &  6.0865402  &  2.4513135  &  6.678859   & 10.7450483  &  1.197975   &  1.3789283  & 3.5518914   &  5.4125069  &  6.1429933  &  7.394971   &  0.3657843 \\\\\n",
       "\\end{tabular}\n"
      ],
      "text/markdown": [
       "\n",
       "| Var1 | Var2 | Var3 | Var4 | Var5 | Var6 | Var7 | Var8 | Var9 | Var10 | Var11 | Var12 | Var13 | Var14 | Var15 | Var16 | Var17 | Var18 | Var19 | Var20 |\n",
       "|---|---|---|---|---|---|---|---|---|---|---|---|---|---|---|---|---|---|---|---|\n",
       "|  0.5899540  |  7.6557120  | -7.1979743  |  3.3339426  |  4.7491648  |  1.4539029  | -4.9459782  |  0.47432583 | 2.312378    | -0.6815444  |  6.8389075  |  6.381265   |  3.8094817  | -4.142716   | -1.9235424  | 0.3917823   | -0.2464930  | -0.3018462  | -3.733281   |  7.3470128  |\n",
       "|  2.9269113  |  0.4947942  | -2.0123855  |  3.8815339  |  9.3410245  |  9.0440503  |  2.4866724  | -6.08230796 | 1.325527    |  7.8101041  | -3.2556310  | -1.349193   |  3.9673540  |  4.475452   | -7.2890262  | 1.5260523   |  0.5285554  |  7.7544583  |  3.302379   |  4.2864024  |\n",
       "| -1.1401706  |  4.1437642  | -3.1134437  |  0.4143469  | -0.9110781  |  0.8634104  |  0.6106556  | -0.05907016 | 6.750857    | 11.5009168  |  0.8302854  | -6.022417   | -1.9807823  |  1.323191   |  3.3259144  | 5.3779171   |  2.8121452  | -2.9889996  | 12.513585   | -1.9415721  |\n",
       "|  2.4834228  |  1.1414497  |  0.3419856  | 12.2584136  |  1.7044997  |  2.1544490  | -7.8726140  | -0.72548522 | 5.483285    | 14.6904116  | -3.6167791  |  3.781231   |  5.9204764  |  2.668345   |  1.4607624  | 4.4476727   |  3.7377474  | -1.2918495  |  3.071980   | -3.4825944  |\n",
       "|  0.3059988  |  4.8298619  |  0.8162793  |  1.6364514  |  6.2544056  | -4.3138342  |  5.3734103  |  6.44811055 | 1.136111    | -0.2450956  |  2.1020690  | -2.484432   | -0.9902991  | -3.857786   |  0.3240063  | 3.2358775   |  5.6506824  |  3.4558206  |  1.857429   |  5.8300298  |\n",
       "|  2.5181749  | -0.7939086  | -0.1929420  | -1.5275363  |  2.3742929  |  0.4298700  |  4.5016804  | -4.36224303 | 2.603856    |  6.0865402  |  2.4513135  |  6.678859   | 10.7450483  |  1.197975   |  1.3789283  | 3.5518914   |  5.4125069  |  6.1429933  |  7.394971   |  0.3657843  |\n",
       "\n"
      ],
      "text/plain": [
       "     Var1       Var2       Var3       Var4       Var5       Var6      \n",
       "[1,]  0.5899540  7.6557120 -7.1979743  3.3339426  4.7491648  1.4539029\n",
       "[2,]  2.9269113  0.4947942 -2.0123855  3.8815339  9.3410245  9.0440503\n",
       "[3,] -1.1401706  4.1437642 -3.1134437  0.4143469 -0.9110781  0.8634104\n",
       "[4,]  2.4834228  1.1414497  0.3419856 12.2584136  1.7044997  2.1544490\n",
       "[5,]  0.3059988  4.8298619  0.8162793  1.6364514  6.2544056 -4.3138342\n",
       "[6,]  2.5181749 -0.7939086 -0.1929420 -1.5275363  2.3742929  0.4298700\n",
       "     Var7       Var8        Var9     Var10      Var11      Var12     Var13     \n",
       "[1,] -4.9459782  0.47432583 2.312378 -0.6815444  6.8389075  6.381265  3.8094817\n",
       "[2,]  2.4866724 -6.08230796 1.325527  7.8101041 -3.2556310 -1.349193  3.9673540\n",
       "[3,]  0.6106556 -0.05907016 6.750857 11.5009168  0.8302854 -6.022417 -1.9807823\n",
       "[4,] -7.8726140 -0.72548522 5.483285 14.6904116 -3.6167791  3.781231  5.9204764\n",
       "[5,]  5.3734103  6.44811055 1.136111 -0.2450956  2.1020690 -2.484432 -0.9902991\n",
       "[6,]  4.5016804 -4.36224303 2.603856  6.0865402  2.4513135  6.678859 10.7450483\n",
       "     Var14     Var15      Var16     Var17      Var18      Var19     Var20     \n",
       "[1,] -4.142716 -1.9235424 0.3917823 -0.2464930 -0.3018462 -3.733281  7.3470128\n",
       "[2,]  4.475452 -7.2890262 1.5260523  0.5285554  7.7544583  3.302379  4.2864024\n",
       "[3,]  1.323191  3.3259144 5.3779171  2.8121452 -2.9889996 12.513585 -1.9415721\n",
       "[4,]  2.668345  1.4607624 4.4476727  3.7377474 -1.2918495  3.071980 -3.4825944\n",
       "[5,] -3.857786  0.3240063 3.2358775  5.6506824  3.4558206  1.857429  5.8300298\n",
       "[6,]  1.197975  1.3789283 3.5518914  5.4125069  6.1429933  7.394971  0.3657843"
      ]
     },
     "metadata": {},
     "output_type": "display_data"
    },
    {
     "data": {
      "text/html": [
       "<ol class=list-inline>\n",
       "\t<li>1000</li>\n",
       "\t<li>20</li>\n",
       "</ol>\n"
      ],
      "text/latex": [
       "\\begin{enumerate*}\n",
       "\\item 1000\n",
       "\\item 20\n",
       "\\end{enumerate*}\n"
      ],
      "text/markdown": [
       "1. 1000\n",
       "2. 20\n",
       "\n",
       "\n"
      ],
      "text/plain": [
       "[1] 1000   20"
      ]
     },
     "metadata": {},
     "output_type": "display_data"
    }
   ],
   "source": [
    "head(sim_df)\n",
    "dim(sim_df)"
   ]
  },
  {
   "cell_type": "markdown",
   "metadata": {},
   "source": [
    "#### Randomly generate coefficient vector (beta) using runif"
   ]
  },
  {
   "cell_type": "code",
   "execution_count": 205,
   "metadata": {},
   "outputs": [],
   "source": [
    "set.seed(890890)\n",
    "coef  = runif(20, min=-5, max=5)"
   ]
  },
  {
   "cell_type": "markdown",
   "metadata": {},
   "source": [
    "#### Setting some coefficients to 0"
   ]
  },
  {
   "cell_type": "code",
   "execution_count": 206,
   "metadata": {},
   "outputs": [],
   "source": [
    "coef[3] = 0\n",
    "coef[6] = 0\n",
    "coef[9] = 0\n",
    "coef[10] = 0\n",
    "coef[13] = 0\n",
    "coef[17] = 0\n",
    "coef[19] = 0\n"
   ]
  },
  {
   "cell_type": "code",
   "execution_count": 152,
   "metadata": {},
   "outputs": [
    {
     "data": {
      "text/html": [
       "<ol class=list-inline>\n",
       "\t<li>3.80187549861148</li>\n",
       "\t<li>-3.74009472550824</li>\n",
       "\t<li>0</li>\n",
       "\t<li>3.55059191118926</li>\n",
       "\t<li>-2.78321244521067</li>\n",
       "\t<li>0</li>\n",
       "\t<li>-0.314407253172249</li>\n",
       "\t<li>-4.61570978397503</li>\n",
       "\t<li>0</li>\n",
       "\t<li>0</li>\n",
       "\t<li>0.74080168036744</li>\n",
       "\t<li>-4.25492402398959</li>\n",
       "\t<li>0</li>\n",
       "\t<li>-0.972846488002688</li>\n",
       "\t<li>1.06491789221764</li>\n",
       "\t<li>-2.1191826579161</li>\n",
       "\t<li>0</li>\n",
       "\t<li>-2.37922734580934</li>\n",
       "\t<li>2.58772406727076</li>\n",
       "\t<li>4.07467626268044</li>\n",
       "</ol>\n"
      ],
      "text/latex": [
       "\\begin{enumerate*}\n",
       "\\item 3.80187549861148\n",
       "\\item -3.74009472550824\n",
       "\\item 0\n",
       "\\item 3.55059191118926\n",
       "\\item -2.78321244521067\n",
       "\\item 0\n",
       "\\item -0.314407253172249\n",
       "\\item -4.61570978397503\n",
       "\\item 0\n",
       "\\item 0\n",
       "\\item 0.74080168036744\n",
       "\\item -4.25492402398959\n",
       "\\item 0\n",
       "\\item -0.972846488002688\n",
       "\\item 1.06491789221764\n",
       "\\item -2.1191826579161\n",
       "\\item 0\n",
       "\\item -2.37922734580934\n",
       "\\item 2.58772406727076\n",
       "\\item 4.07467626268044\n",
       "\\end{enumerate*}\n"
      ],
      "text/markdown": [
       "1. 3.80187549861148\n",
       "2. -3.74009472550824\n",
       "3. 0\n",
       "4. 3.55059191118926\n",
       "5. -2.78321244521067\n",
       "6. 0\n",
       "7. -0.314407253172249\n",
       "8. -4.61570978397503\n",
       "9. 0\n",
       "10. 0\n",
       "11. 0.74080168036744\n",
       "12. -4.25492402398959\n",
       "13. 0\n",
       "14. -0.972846488002688\n",
       "15. 1.06491789221764\n",
       "16. -2.1191826579161\n",
       "17. 0\n",
       "18. -2.37922734580934\n",
       "19. 2.58772406727076\n",
       "20. 4.07467626268044\n",
       "\n",
       "\n"
      ],
      "text/plain": [
       " [1]  3.8018755 -3.7400947  0.0000000  3.5505919 -2.7832124  0.0000000\n",
       " [7] -0.3144073 -4.6157098  0.0000000  0.0000000  0.7408017 -4.2549240\n",
       "[13]  0.0000000 -0.9728465  1.0649179 -2.1191827  0.0000000 -2.3792273\n",
       "[19]  2.5877241  4.0746763"
      ]
     },
     "metadata": {},
     "output_type": "display_data"
    }
   ],
   "source": [
    "coef"
   ]
  },
  {
   "cell_type": "markdown",
   "metadata": {},
   "source": [
    "#### Randomly generate error vector"
   ]
  },
  {
   "cell_type": "code",
   "execution_count": 188,
   "metadata": {},
   "outputs": [],
   "source": [
    "set.seed(654)\n",
    "err = rnorm(1000,mean=0,sd=1)\n"
   ]
  },
  {
   "cell_type": "markdown",
   "metadata": {},
   "source": [
    "#### Calculate Actual response variable - Y-actual\n",
    "- this is our groundtruth"
   ]
  },
  {
   "cell_type": "code",
   "execution_count": 207,
   "metadata": {},
   "outputs": [],
   "source": [
    "Y_actual<-sim_df%*% coef"
   ]
  },
  {
   "cell_type": "code",
   "execution_count": 208,
   "metadata": {},
   "outputs": [],
   "source": [
    "colnames(Y_actual) <- \"Y_actual\""
   ]
  },
  {
   "cell_type": "code",
   "execution_count": 209,
   "metadata": {},
   "outputs": [],
   "source": [
    "sim_df<- cbind(sim_df,Y_actual)"
   ]
  },
  {
   "cell_type": "code",
   "execution_count": 210,
   "metadata": {},
   "outputs": [
    {
     "data": {
      "text/html": [
       "<table>\n",
       "<thead><tr><th scope=col>Var1</th><th scope=col>Var2</th><th scope=col>Var3</th><th scope=col>Var4</th><th scope=col>Var5</th><th scope=col>Var6</th><th scope=col>Var7</th><th scope=col>Var8</th><th scope=col>Var9</th><th scope=col>Var10</th><th scope=col>...</th><th scope=col>Var12</th><th scope=col>Var13</th><th scope=col>Var14</th><th scope=col>Var15</th><th scope=col>Var16</th><th scope=col>Var17</th><th scope=col>Var18</th><th scope=col>Var19</th><th scope=col>Var20</th><th scope=col>Y_actual</th></tr></thead>\n",
       "<tbody>\n",
       "\t<tr><td> 0.5899540 </td><td> 7.6557120 </td><td>-7.1979743 </td><td> 3.3339426 </td><td> 4.7491648 </td><td> 1.4539029 </td><td>-4.9459782 </td><td> 0.47432583</td><td>2.312378   </td><td>-0.6815444 </td><td>...        </td><td> 6.381265  </td><td> 3.8094817 </td><td>-4.142716  </td><td>-1.9235424 </td><td>0.3917823  </td><td>-0.2464930 </td><td>-0.3018462 </td><td>-3.733281  </td><td> 7.3470128 </td><td>-18.6840326</td></tr>\n",
       "\t<tr><td> 2.9269113 </td><td> 0.4947942 </td><td>-2.0123855 </td><td> 3.8815339 </td><td> 9.3410245 </td><td> 9.0440503 </td><td> 2.4866724 </td><td>-6.08230796</td><td>1.325527   </td><td> 7.8101041 </td><td>...        </td><td>-1.349193  </td><td> 3.9673540 </td><td> 4.475452  </td><td>-7.2890262 </td><td>1.5260523  </td><td> 0.5285554 </td><td> 7.7544583 </td><td> 3.302379  </td><td> 4.2864024 </td><td> 11.3480968</td></tr>\n",
       "\t<tr><td>-1.1401706 </td><td> 4.1437642 </td><td>-3.1134437 </td><td> 0.4143469 </td><td>-0.9110781 </td><td> 0.8634104 </td><td> 0.6106556 </td><td>-0.05907016</td><td>6.750857   </td><td>11.5009168 </td><td>...        </td><td>-6.022417  </td><td>-1.9807823 </td><td> 1.323191  </td><td> 3.3259144 </td><td>5.3779171  </td><td> 2.8121452 </td><td>-2.9889996 </td><td>12.513585  </td><td>-1.9415721 </td><td>  0.5527117</td></tr>\n",
       "\t<tr><td> 2.4834228 </td><td> 1.1414497 </td><td> 0.3419856 </td><td>12.2584136 </td><td> 1.7044997 </td><td> 2.1544490 </td><td>-7.8726140 </td><td>-0.72548522</td><td>5.483285   </td><td>14.6904116 </td><td>...        </td><td> 3.781231  </td><td> 5.9204764 </td><td> 2.668345  </td><td> 1.4607624 </td><td>4.4476727  </td><td> 3.7377474 </td><td>-1.2918495 </td><td> 3.071980  </td><td>-3.4825944 </td><td>  9.4262748</td></tr>\n",
       "\t<tr><td> 0.3059988 </td><td> 4.8298619 </td><td> 0.8162793 </td><td> 1.6364514 </td><td> 6.2544056 </td><td>-4.3138342 </td><td> 5.3734103 </td><td> 6.44811055</td><td>1.136111   </td><td>-0.2450956 </td><td>...        </td><td>-2.484432  </td><td>-0.9902991 </td><td>-3.857786  </td><td> 0.3240063 </td><td>3.2358775  </td><td> 5.6506824 </td><td> 3.4558206 </td><td> 1.857429  </td><td> 5.8300298 </td><td>-35.0475397</td></tr>\n",
       "\t<tr><td> 2.5181749 </td><td>-0.7939086 </td><td>-0.1929420 </td><td>-1.5275363 </td><td> 2.3742929 </td><td> 0.4298700 </td><td> 4.5016804 </td><td>-4.36224303</td><td>2.603856   </td><td> 6.0865402 </td><td>...        </td><td> 6.678859  </td><td>10.7450483 </td><td> 1.197975  </td><td> 1.3789283 </td><td>3.5518914  </td><td> 5.4125069 </td><td> 6.1429933 </td><td> 7.394971  </td><td> 0.3657843 </td><td>-27.7205838</td></tr>\n",
       "</tbody>\n",
       "</table>\n"
      ],
      "text/latex": [
       "\\begin{tabular}{lllllllllllllllllllll}\n",
       " Var1 & Var2 & Var3 & Var4 & Var5 & Var6 & Var7 & Var8 & Var9 & Var10 & ... & Var12 & Var13 & Var14 & Var15 & Var16 & Var17 & Var18 & Var19 & Var20 & Y\\_actual\\\\\n",
       "\\hline\n",
       "\t  0.5899540  &  7.6557120  & -7.1979743  &  3.3339426  &  4.7491648  &  1.4539029  & -4.9459782  &  0.47432583 & 2.312378    & -0.6815444  & ...         &  6.381265   &  3.8094817  & -4.142716   & -1.9235424  & 0.3917823   & -0.2464930  & -0.3018462  & -3.733281   &  7.3470128  & -18.6840326\\\\\n",
       "\t  2.9269113  &  0.4947942  & -2.0123855  &  3.8815339  &  9.3410245  &  9.0440503  &  2.4866724  & -6.08230796 & 1.325527    &  7.8101041  & ...         & -1.349193   &  3.9673540  &  4.475452   & -7.2890262  & 1.5260523   &  0.5285554  &  7.7544583  &  3.302379   &  4.2864024  &  11.3480968\\\\\n",
       "\t -1.1401706  &  4.1437642  & -3.1134437  &  0.4143469  & -0.9110781  &  0.8634104  &  0.6106556  & -0.05907016 & 6.750857    & 11.5009168  & ...         & -6.022417   & -1.9807823  &  1.323191   &  3.3259144  & 5.3779171   &  2.8121452  & -2.9889996  & 12.513585   & -1.9415721  &   0.5527117\\\\\n",
       "\t  2.4834228  &  1.1414497  &  0.3419856  & 12.2584136  &  1.7044997  &  2.1544490  & -7.8726140  & -0.72548522 & 5.483285    & 14.6904116  & ...         &  3.781231   &  5.9204764  &  2.668345   &  1.4607624  & 4.4476727   &  3.7377474  & -1.2918495  &  3.071980   & -3.4825944  &   9.4262748\\\\\n",
       "\t  0.3059988  &  4.8298619  &  0.8162793  &  1.6364514  &  6.2544056  & -4.3138342  &  5.3734103  &  6.44811055 & 1.136111    & -0.2450956  & ...         & -2.484432   & -0.9902991  & -3.857786   &  0.3240063  & 3.2358775   &  5.6506824  &  3.4558206  &  1.857429   &  5.8300298  & -35.0475397\\\\\n",
       "\t  2.5181749  & -0.7939086  & -0.1929420  & -1.5275363  &  2.3742929  &  0.4298700  &  4.5016804  & -4.36224303 & 2.603856    &  6.0865402  & ...         &  6.678859   & 10.7450483  &  1.197975   &  1.3789283  & 3.5518914   &  5.4125069  &  6.1429933  &  7.394971   &  0.3657843  & -27.7205838\\\\\n",
       "\\end{tabular}\n"
      ],
      "text/markdown": [
       "\n",
       "| Var1 | Var2 | Var3 | Var4 | Var5 | Var6 | Var7 | Var8 | Var9 | Var10 | ... | Var12 | Var13 | Var14 | Var15 | Var16 | Var17 | Var18 | Var19 | Var20 | Y_actual |\n",
       "|---|---|---|---|---|---|---|---|---|---|---|---|---|---|---|---|---|---|---|---|---|\n",
       "|  0.5899540  |  7.6557120  | -7.1979743  |  3.3339426  |  4.7491648  |  1.4539029  | -4.9459782  |  0.47432583 | 2.312378    | -0.6815444  | ...         |  6.381265   |  3.8094817  | -4.142716   | -1.9235424  | 0.3917823   | -0.2464930  | -0.3018462  | -3.733281   |  7.3470128  | -18.6840326 |\n",
       "|  2.9269113  |  0.4947942  | -2.0123855  |  3.8815339  |  9.3410245  |  9.0440503  |  2.4866724  | -6.08230796 | 1.325527    |  7.8101041  | ...         | -1.349193   |  3.9673540  |  4.475452   | -7.2890262  | 1.5260523   |  0.5285554  |  7.7544583  |  3.302379   |  4.2864024  |  11.3480968 |\n",
       "| -1.1401706  |  4.1437642  | -3.1134437  |  0.4143469  | -0.9110781  |  0.8634104  |  0.6106556  | -0.05907016 | 6.750857    | 11.5009168  | ...         | -6.022417   | -1.9807823  |  1.323191   |  3.3259144  | 5.3779171   |  2.8121452  | -2.9889996  | 12.513585   | -1.9415721  |   0.5527117 |\n",
       "|  2.4834228  |  1.1414497  |  0.3419856  | 12.2584136  |  1.7044997  |  2.1544490  | -7.8726140  | -0.72548522 | 5.483285    | 14.6904116  | ...         |  3.781231   |  5.9204764  |  2.668345   |  1.4607624  | 4.4476727   |  3.7377474  | -1.2918495  |  3.071980   | -3.4825944  |   9.4262748 |\n",
       "|  0.3059988  |  4.8298619  |  0.8162793  |  1.6364514  |  6.2544056  | -4.3138342  |  5.3734103  |  6.44811055 | 1.136111    | -0.2450956  | ...         | -2.484432   | -0.9902991  | -3.857786   |  0.3240063  | 3.2358775   |  5.6506824  |  3.4558206  |  1.857429   |  5.8300298  | -35.0475397 |\n",
       "|  2.5181749  | -0.7939086  | -0.1929420  | -1.5275363  |  2.3742929  |  0.4298700  |  4.5016804  | -4.36224303 | 2.603856    |  6.0865402  | ...         |  6.678859   | 10.7450483  |  1.197975   |  1.3789283  | 3.5518914   |  5.4125069  |  6.1429933  |  7.394971   |  0.3657843  | -27.7205838 |\n",
       "\n"
      ],
      "text/plain": [
       "     Var1       Var2       Var3       Var4       Var5       Var6      \n",
       "[1,]  0.5899540  7.6557120 -7.1979743  3.3339426  4.7491648  1.4539029\n",
       "[2,]  2.9269113  0.4947942 -2.0123855  3.8815339  9.3410245  9.0440503\n",
       "[3,] -1.1401706  4.1437642 -3.1134437  0.4143469 -0.9110781  0.8634104\n",
       "[4,]  2.4834228  1.1414497  0.3419856 12.2584136  1.7044997  2.1544490\n",
       "[5,]  0.3059988  4.8298619  0.8162793  1.6364514  6.2544056 -4.3138342\n",
       "[6,]  2.5181749 -0.7939086 -0.1929420 -1.5275363  2.3742929  0.4298700\n",
       "     Var7       Var8        Var9     Var10      ... Var12     Var13     \n",
       "[1,] -4.9459782  0.47432583 2.312378 -0.6815444 ...  6.381265  3.8094817\n",
       "[2,]  2.4866724 -6.08230796 1.325527  7.8101041 ... -1.349193  3.9673540\n",
       "[3,]  0.6106556 -0.05907016 6.750857 11.5009168 ... -6.022417 -1.9807823\n",
       "[4,] -7.8726140 -0.72548522 5.483285 14.6904116 ...  3.781231  5.9204764\n",
       "[5,]  5.3734103  6.44811055 1.136111 -0.2450956 ... -2.484432 -0.9902991\n",
       "[6,]  4.5016804 -4.36224303 2.603856  6.0865402 ...  6.678859 10.7450483\n",
       "     Var14     Var15      Var16     Var17      Var18      Var19     Var20     \n",
       "[1,] -4.142716 -1.9235424 0.3917823 -0.2464930 -0.3018462 -3.733281  7.3470128\n",
       "[2,]  4.475452 -7.2890262 1.5260523  0.5285554  7.7544583  3.302379  4.2864024\n",
       "[3,]  1.323191  3.3259144 5.3779171  2.8121452 -2.9889996 12.513585 -1.9415721\n",
       "[4,]  2.668345  1.4607624 4.4476727  3.7377474 -1.2918495  3.071980 -3.4825944\n",
       "[5,] -3.857786  0.3240063 3.2358775  5.6506824  3.4558206  1.857429  5.8300298\n",
       "[6,]  1.197975  1.3789283 3.5518914  5.4125069  6.1429933  7.394971  0.3657843\n",
       "     Y_actual   \n",
       "[1,] -18.6840326\n",
       "[2,]  11.3480968\n",
       "[3,]   0.5527117\n",
       "[4,]   9.4262748\n",
       "[5,] -35.0475397\n",
       "[6,] -27.7205838"
      ]
     },
     "metadata": {},
     "output_type": "display_data"
    }
   ],
   "source": [
    "head(sim_df)"
   ]
  },
  {
   "cell_type": "markdown",
   "metadata": {},
   "source": [
    "#### Train Test Split \n",
    "- 80% train, 20% test"
   ]
  },
  {
   "cell_type": "code",
   "execution_count": 211,
   "metadata": {},
   "outputs": [],
   "source": [
    "set.seed(1)"
   ]
  },
  {
   "cell_type": "code",
   "execution_count": 212,
   "metadata": {},
   "outputs": [],
   "source": [
    "indi = sample(1:length(sim_df[,1]), 4/5*length(sim_df[,1]))\n",
    "sim_train_df = data.frame(sim_df[indi,])\n",
    "sim_test_df = data.frame(sim_df[-indi,])\n"
   ]
  },
  {
   "cell_type": "markdown",
   "metadata": {},
   "source": [
    "### Best Subset Selection"
   ]
  },
  {
   "cell_type": "code",
   "execution_count": 213,
   "metadata": {},
   "outputs": [],
   "source": [
    "sim_exh_mod <- regsubsets(sim_train_df$Y_actual~., data=sim_train_df, nbest = 1, nvmax= 20, method=\"exhaustive\")"
   ]
  },
  {
   "cell_type": "markdown",
   "metadata": {},
   "source": [
    "#### Make predictions"
   ]
  },
  {
   "cell_type": "code",
   "execution_count": 214,
   "metadata": {},
   "outputs": [],
   "source": [
    "mat_sim_train = model.matrix(sim_train_df$Y_actual~.,data=sim_train_df)\n",
    "mat_sim_test = model.matrix(sim_test_df$Y_actual~.,data=sim_test_df)\n"
   ]
  },
  {
   "cell_type": "markdown",
   "metadata": {},
   "source": [
    "#### Calculate MSE"
   ]
  },
  {
   "cell_type": "code",
   "execution_count": 215,
   "metadata": {},
   "outputs": [],
   "source": [
    "MSE_sim_train = c()\n",
    "MSE_sim_test = c()\n",
    "for (i in 1:20){\n",
    "    coefi = coef(sim_exh_mod,i)\n",
    "    y_pred_sim_train = mat_sim_train[,names(coefi)] %*% coefi\n",
    "    MSE_sim_train[i] = mse(sim_train_df$Y_actual,y_pred_sim_train)\n",
    "    y_pred_sim_test = mat_sim_test[,names(coefi)] %*% coefi\n",
    "    MSE_sim_test[i] = mse(sim_test_df$Y_actual,y_pred_sim_test)\n",
    "}\n",
    "    \n"
   ]
  },
  {
   "cell_type": "markdown",
   "metadata": {},
   "source": [
    "#### Plot training and testing error"
   ]
  },
  {
   "cell_type": "code",
   "execution_count": 216,
   "metadata": {
    "scrolled": true
   },
   "outputs": [
    {
     "data": {
      "image/png": "[encoded data removed]",
      "text/plain": [
       "Plot with title \"Error\""
      ]
     },
     "metadata": {},
     "output_type": "display_data"
    }
   ],
   "source": [
    "par(mfrow=c(2,2))\n",
    "plot(1:20,MSE_sim_train,type=\"l\",main = \"Training Error\",xlab=\"Number of Variables\",ylab=\"MSE\")\n",
    "plot(1:20,MSE_sim_test,type=\"l\",main = \"Testing Error\",xlab=\"Number of Variables\",ylab=\"MSE\",)\n",
    "\n",
    "plot(1:20, MSE_sim_train, type=\"o\", col=\"blue\", pch=\"o\",main = \"Error\",xlab=\"Number of Variables\",ylab=\"MSE\")\n",
    "points(1:20, MSE_sim_test, col=\"red\", pch=\"*\")\n",
    "lines(1:20, MSE_sim_test, col=\"red\",lty=2)\n",
    "legend(\"top\",legend=c(\"Train\", \"Test\"),col=c(\"blue\", \"red\"), lty=1:2,cex=0.8)\n",
    "\n"
   ]
  },
  {
   "cell_type": "markdown",
   "metadata": {},
   "source": [
    "- we can see from the three graphs above that test and train errors dont behave too differently as number of variables increases (the trends are almost identical). It is important to note here that, training error will decrease as the number of variable increases, however this is not the same for testing error. The testing error should have a u-shape like graph. Because the error is high with few variables (underfitting) and as the number of variables increases the testing error would decrease (just right), and until it goes up again, since inclusion of too many variables in the model would reduce the generalizability of the model and perform badly on the new dataset. A phenomenom known as overfitting.\n",
    "- More over we can see that, starting from 10 variables, the error does not decrease too much afterward (for both testing and training). Personally, I would choose the 10-variable and proceed even if it does not necessarily have the lowest error.\n",
    "- It is important to note, we expect to see a U shape in MSE vs. number of variable graphs ideally, in order to observe a underfitting to overfitting process. "
   ]
  },
  {
   "cell_type": "code",
   "execution_count": 217,
   "metadata": {},
   "outputs": [
    {
     "data": {
      "text/html": [
       "16"
      ],
      "text/latex": [
       "16"
      ],
      "text/markdown": [
       "16"
      ],
      "text/plain": [
       "[1] 16"
      ]
     },
     "metadata": {},
     "output_type": "display_data"
    }
   ],
   "source": [
    "which.min(MSE_sim_test)"
   ]
  },
  {
   "cell_type": "code",
   "execution_count": 221,
   "metadata": {},
   "outputs": [
    {
     "data": {
      "text/html": [
       "1.67495226966936e-26"
      ],
      "text/latex": [
       "1.67495226966936e-26"
      ],
      "text/markdown": [
       "1.67495226966936e-26"
      ],
      "text/plain": [
       "[1] 1.674952e-26"
      ]
     },
     "metadata": {},
     "output_type": "display_data"
    }
   ],
   "source": [
    "min(MSE_sim_test)"
   ]
  },
  {
   "cell_type": "markdown",
   "metadata": {},
   "source": [
    "- By using the best subset selection method, the model that generates the smallest testing error is the model with 16 variables. Let's take a look at which 16 are included:"
   ]
  },
  {
   "cell_type": "code",
   "execution_count": 222,
   "metadata": {},
   "outputs": [
    {
     "data": {
      "text/html": [
       "<dl class=dl-horizontal>\n",
       "\t<dt>(Intercept)</dt>\n",
       "\t\t<dd>1.59872115546023e-14</dd>\n",
       "\t<dt>Var1</dt>\n",
       "\t\t<dd>3.80187549861148</dd>\n",
       "\t<dt>Var2</dt>\n",
       "\t\t<dd>-3.74009472550824</dd>\n",
       "\t<dt>Var3</dt>\n",
       "\t\t<dd>-4.44089209850063e-16</dd>\n",
       "\t<dt>Var4</dt>\n",
       "\t\t<dd>3.55059191118927</dd>\n",
       "\t<dt>Var5</dt>\n",
       "\t\t<dd>-2.78321244521068</dd>\n",
       "\t<dt>Var6</dt>\n",
       "\t\t<dd>-1.53696499971545e-15</dd>\n",
       "\t<dt>Var7</dt>\n",
       "\t\t<dd>-0.314407253172247</dd>\n",
       "\t<dt>Var8</dt>\n",
       "\t\t<dd>-4.61570978397504</dd>\n",
       "\t<dt>Var11</dt>\n",
       "\t\t<dd>0.740801680367442</dd>\n",
       "\t<dt>Var12</dt>\n",
       "\t\t<dd>-4.25492402398959</dd>\n",
       "\t<dt>Var14</dt>\n",
       "\t\t<dd>-0.972846488002687</dd>\n",
       "\t<dt>Var15</dt>\n",
       "\t\t<dd>1.06491789221764</dd>\n",
       "\t<dt>Var16</dt>\n",
       "\t\t<dd>-2.11918265791611</dd>\n",
       "\t<dt>Var17</dt>\n",
       "\t\t<dd>-9.43689570931383e-16</dd>\n",
       "\t<dt>Var18</dt>\n",
       "\t\t<dd>-2.37922734580934</dd>\n",
       "\t<dt>Var20</dt>\n",
       "\t\t<dd>4.07467626268046</dd>\n",
       "</dl>\n"
      ],
      "text/latex": [
       "\\begin{description*}\n",
       "\\item[(Intercept)] 1.59872115546023e-14\n",
       "\\item[Var1] 3.80187549861148\n",
       "\\item[Var2] -3.74009472550824\n",
       "\\item[Var3] -4.44089209850063e-16\n",
       "\\item[Var4] 3.55059191118927\n",
       "\\item[Var5] -2.78321244521068\n",
       "\\item[Var6] -1.53696499971545e-15\n",
       "\\item[Var7] -0.314407253172247\n",
       "\\item[Var8] -4.61570978397504\n",
       "\\item[Var11] 0.740801680367442\n",
       "\\item[Var12] -4.25492402398959\n",
       "\\item[Var14] -0.972846488002687\n",
       "\\item[Var15] 1.06491789221764\n",
       "\\item[Var16] -2.11918265791611\n",
       "\\item[Var17] -9.43689570931383e-16\n",
       "\\item[Var18] -2.37922734580934\n",
       "\\item[Var20] 4.07467626268046\n",
       "\\end{description*}\n"
      ],
      "text/markdown": [
       "(Intercept)\n",
       ":   1.59872115546023e-14Var1\n",
       ":   3.80187549861148Var2\n",
       ":   -3.74009472550824Var3\n",
       ":   -4.44089209850063e-16Var4\n",
       ":   3.55059191118927Var5\n",
       ":   -2.78321244521068Var6\n",
       ":   -1.53696499971545e-15Var7\n",
       ":   -0.314407253172247Var8\n",
       ":   -4.61570978397504Var11\n",
       ":   0.740801680367442Var12\n",
       ":   -4.25492402398959Var14\n",
       ":   -0.972846488002687Var15\n",
       ":   1.06491789221764Var16\n",
       ":   -2.11918265791611Var17\n",
       ":   -9.43689570931383e-16Var18\n",
       ":   -2.37922734580934Var20\n",
       ":   4.07467626268046\n",
       "\n"
      ],
      "text/plain": [
       "  (Intercept)          Var1          Var2          Var3          Var4 \n",
       " 1.598721e-14  3.801875e+00 -3.740095e+00 -4.440892e-16  3.550592e+00 \n",
       "         Var5          Var6          Var7          Var8         Var11 \n",
       "-2.783212e+00 -1.536965e-15 -3.144073e-01 -4.615710e+00  7.408017e-01 \n",
       "        Var12         Var14         Var15         Var16         Var17 \n",
       "-4.254924e+00 -9.728465e-01  1.064918e+00 -2.119183e+00 -9.436896e-16 \n",
       "        Var18         Var20 \n",
       "-2.379227e+00  4.074676e+00 "
      ]
     },
     "metadata": {},
     "output_type": "display_data"
    }
   ],
   "source": [
    "coef(sim_exh_mod,16)"
   ]
  },
  {
   "cell_type": "code",
   "execution_count": 227,
   "metadata": {},
   "outputs": [
    {
     "data": {
      "text/html": [
       "<table>\n",
       "<tbody>\n",
       "\t<tr><td>Variables not included in the model:</td><td>9,10,13,19                          </td></tr>\n",
       "\t<tr><td>Variables = 0 in the original model:</td><td>3,6,9,10,13,17,19                   </td></tr>\n",
       "</tbody>\n",
       "</table>\n"
      ],
      "text/latex": [
       "\\begin{tabular}{ll}\n",
       "\t Variables not included in the model: & 9,10,13,19                          \\\\\n",
       "\t Variables = 0 in the original model: & 3,6,9,10,13,17,19                   \\\\\n",
       "\\end{tabular}\n"
      ],
      "text/markdown": [
       "\n",
       "| Variables not included in the model: | 9,10,13,19                           |\n",
       "| Variables = 0 in the original model: | 3,6,9,10,13,17,19                    |\n",
       "\n"
      ],
      "text/plain": [
       "     [,1]                                 [,2]             \n",
       "[1,] Variables not included in the model: 9,10,13,19       \n",
       "[2,] Variables = 0 in the original model: 3,6,9,10,13,17,19"
      ]
     },
     "metadata": {},
     "output_type": "display_data"
    }
   ],
   "source": [
    "cbind(rbind(\"Variables not included in the model:\",\"Variables = 0 in the original model:\"),rbind(\"9,10,13,19\",\"3,6,9,10,13,17,19\"))"
   ]
  },
  {
   "cell_type": "markdown",
   "metadata": {},
   "source": [
    "- we can see that variable: 9,10,13,19 are not included in the 16-variable model which is our optimal model. This is essentially saying that the inclusion of these models actually lower the performance of our linear model. \n",
    "- we already know what variables do not contribute to the model since we have set beta (the parameters) to 0 when we tried to simulate our model. \n",
    "- So the question is, were we able to recover the original model, in this case the optimal model would have been a 13-variable model exluding the variables with beta set to 0 in the first place. \n",
    "    - not quite! We were not able to recover the original model, however, the model did not do a terrible job. In the table above, we can see that the model had decided 9,10,13,19 were not useful, and these are 4 of the 7 variables we set to 0 in the beginning! And variable 3, 6 and 17 are included in our model however. \n"
   ]
  },
  {
   "cell_type": "markdown",
   "metadata": {},
   "source": [
    "# Question 3 part a.\n",
    "a) Perform k-nearest neighbor on the data for a range of k values. Plot the error\n",
    "rate as a function of k. Report the confusion matrix for the optimal model.\n",
    "Comment on the ability of kNN to discriminate the various species."
   ]
  },
  {
   "cell_type": "code",
   "execution_count": 8,
   "metadata": {},
   "outputs": [],
   "source": [
    "library(datasets)"
   ]
  },
  {
   "cell_type": "code",
   "execution_count": 7,
   "metadata": {},
   "outputs": [],
   "source": [
    "data(iris)"
   ]
  },
  {
   "cell_type": "markdown",
   "metadata": {},
   "source": [
    "## Exploring the dataset"
   ]
  },
  {
   "cell_type": "code",
   "execution_count": 6,
   "metadata": {},
   "outputs": [
    {
     "data": {
      "text/html": [
       "<table>\n",
       "<thead><tr><th scope=col>Sepal.Length</th><th scope=col>Sepal.Width</th><th scope=col>Petal.Length</th><th scope=col>Petal.Width</th><th scope=col>Species</th></tr></thead>\n",
       "<tbody>\n",
       "\t<tr><td>5.1   </td><td>3.5   </td><td>1.4   </td><td>0.2   </td><td>setosa</td></tr>\n",
       "\t<tr><td>4.9   </td><td>3.0   </td><td>1.4   </td><td>0.2   </td><td>setosa</td></tr>\n",
       "\t<tr><td>4.7   </td><td>3.2   </td><td>1.3   </td><td>0.2   </td><td>setosa</td></tr>\n",
       "\t<tr><td>4.6   </td><td>3.1   </td><td>1.5   </td><td>0.2   </td><td>setosa</td></tr>\n",
       "\t<tr><td>5.0   </td><td>3.6   </td><td>1.4   </td><td>0.2   </td><td>setosa</td></tr>\n",
       "\t<tr><td>5.4   </td><td>3.9   </td><td>1.7   </td><td>0.4   </td><td>setosa</td></tr>\n",
       "</tbody>\n",
       "</table>\n"
      ],
      "text/latex": [
       "\\begin{tabular}{r|lllll}\n",
       " Sepal.Length & Sepal.Width & Petal.Length & Petal.Width & Species\\\\\n",
       "\\hline\n",
       "\t 5.1    & 3.5    & 1.4    & 0.2    & setosa\\\\\n",
       "\t 4.9    & 3.0    & 1.4    & 0.2    & setosa\\\\\n",
       "\t 4.7    & 3.2    & 1.3    & 0.2    & setosa\\\\\n",
       "\t 4.6    & 3.1    & 1.5    & 0.2    & setosa\\\\\n",
       "\t 5.0    & 3.6    & 1.4    & 0.2    & setosa\\\\\n",
       "\t 5.4    & 3.9    & 1.7    & 0.4    & setosa\\\\\n",
       "\\end{tabular}\n"
      ],
      "text/markdown": [
       "\n",
       "| Sepal.Length | Sepal.Width | Petal.Length | Petal.Width | Species |\n",
       "|---|---|---|---|---|\n",
       "| 5.1    | 3.5    | 1.4    | 0.2    | setosa |\n",
       "| 4.9    | 3.0    | 1.4    | 0.2    | setosa |\n",
       "| 4.7    | 3.2    | 1.3    | 0.2    | setosa |\n",
       "| 4.6    | 3.1    | 1.5    | 0.2    | setosa |\n",
       "| 5.0    | 3.6    | 1.4    | 0.2    | setosa |\n",
       "| 5.4    | 3.9    | 1.7    | 0.4    | setosa |\n",
       "\n"
      ],
      "text/plain": [
       "  Sepal.Length Sepal.Width Petal.Length Petal.Width Species\n",
       "1 5.1          3.5         1.4          0.2         setosa \n",
       "2 4.9          3.0         1.4          0.2         setosa \n",
       "3 4.7          3.2         1.3          0.2         setosa \n",
       "4 4.6          3.1         1.5          0.2         setosa \n",
       "5 5.0          3.6         1.4          0.2         setosa \n",
       "6 5.4          3.9         1.7          0.4         setosa "
      ]
     },
     "metadata": {},
     "output_type": "display_data"
    }
   ],
   "source": [
    "head(iris)"
   ]
  },
  {
   "cell_type": "code",
   "execution_count": 7,
   "metadata": {},
   "outputs": [
    {
     "data": {
      "text/html": [
       "<ol class=list-inline>\n",
       "\t<li>150</li>\n",
       "\t<li>5</li>\n",
       "</ol>\n"
      ],
      "text/latex": [
       "\\begin{enumerate*}\n",
       "\\item 150\n",
       "\\item 5\n",
       "\\end{enumerate*}\n"
      ],
      "text/markdown": [
       "1. 150\n",
       "2. 5\n",
       "\n",
       "\n"
      ],
      "text/plain": [
       "[1] 150   5"
      ]
     },
     "metadata": {},
     "output_type": "display_data"
    }
   ],
   "source": [
    "dim(iris)"
   ]
  },
  {
   "cell_type": "code",
   "execution_count": 8,
   "metadata": {},
   "outputs": [
    {
     "name": "stdout",
     "output_type": "stream",
     "text": [
      "'data.frame':\t150 obs. of  5 variables:\n",
      " $ Sepal.Length: num  5.1 4.9 4.7 4.6 5 5.4 4.6 5 4.4 4.9 ...\n",
      " $ Sepal.Width : num  3.5 3 3.2 3.1 3.6 3.9 3.4 3.4 2.9 3.1 ...\n",
      " $ Petal.Length: num  1.4 1.4 1.3 1.5 1.4 1.7 1.4 1.5 1.4 1.5 ...\n",
      " $ Petal.Width : num  0.2 0.2 0.2 0.2 0.2 0.4 0.3 0.2 0.2 0.1 ...\n",
      " $ Species     : Factor w/ 3 levels \"setosa\",\"versicolor\",..: 1 1 1 1 1 1 1 1 1 1 ...\n"
     ]
    }
   ],
   "source": [
    "str(iris)"
   ]
  },
  {
   "cell_type": "code",
   "execution_count": 321,
   "metadata": {},
   "outputs": [
    {
     "data": {
      "text/html": [
       "0"
      ],
      "text/latex": [
       "0"
      ],
      "text/markdown": [
       "0"
      ],
      "text/plain": [
       "[1] 0"
      ]
     },
     "metadata": {},
     "output_type": "display_data"
    }
   ],
   "source": [
    "sum(is.na(iris))"
   ]
  },
  {
   "cell_type": "code",
   "execution_count": 322,
   "metadata": {},
   "outputs": [
    {
     "data": {
      "text/plain": [
       "  Sepal.Length    Sepal.Width     Petal.Length    Petal.Width   \n",
       " Min.   :4.300   Min.   :2.000   Min.   :1.000   Min.   :0.100  \n",
       " 1st Qu.:5.100   1st Qu.:2.800   1st Qu.:1.600   1st Qu.:0.300  \n",
       " Median :5.800   Median :3.000   Median :4.350   Median :1.300  \n",
       " Mean   :5.843   Mean   :3.057   Mean   :3.758   Mean   :1.199  \n",
       " 3rd Qu.:6.400   3rd Qu.:3.300   3rd Qu.:5.100   3rd Qu.:1.800  \n",
       " Max.   :7.900   Max.   :4.400   Max.   :6.900   Max.   :2.500  \n",
       "       Species  \n",
       " setosa    :50  \n",
       " versicolor:50  \n",
       " virginica :50  \n",
       "                \n",
       "                \n",
       "                "
      ]
     },
     "metadata": {},
     "output_type": "display_data"
    }
   ],
   "source": [
    "summary(iris)"
   ]
  },
  {
   "cell_type": "markdown",
   "metadata": {},
   "source": [
    "- we can the range for each variables are slightly far from each other. It is very important to scale our data before performing KNN. So let's do that after the splitting our data into training and testing set. "
   ]
  },
  {
   "cell_type": "markdown",
   "metadata": {},
   "source": [
    "#### Train test split\n",
    "- Since this is a smaller data set, we will split our data into 7:3 split, so we will have enough data in testing set.\n",
    "- Also note that, the response variables are uniformly distributed, meaning that each class has the same number of observations belong to them.\n",
    "- Since this is a really small dataset, when we split the 150 datapoints into two groups, we need to make sure that both training and testing (especially testing) sets need to include relatively even amount of datapoints from each species (stratified sampling. So let's do that!!"
   ]
  },
  {
   "cell_type": "code",
   "execution_count": 9,
   "metadata": {},
   "outputs": [],
   "source": [
    "set.seed(666666)"
   ]
  },
  {
   "cell_type": "code",
   "execution_count": 10,
   "metadata": {},
   "outputs": [],
   "source": [
    "setosa <- iris[iris$Species==\"setosa\",]\n",
    "versicolor <- iris[iris$Species==\"versicolor\",]\n",
    "virginica <- iris[iris$Species==\"virginica\",]\n",
    "\n"
   ]
  },
  {
   "cell_type": "code",
   "execution_count": 11,
   "metadata": {},
   "outputs": [],
   "source": [
    "indi <- sample(1:50, 50*0.7)\n",
    "iris_train_df<- rbind(setosa[indi,], versicolor[indi,], virginica[indi,])\n",
    "iris_test_df<- rbind(setosa[-indi,], versicolor[-indi,], virginica[-indi,])\n"
   ]
  },
  {
   "cell_type": "markdown",
   "metadata": {},
   "source": [
    "- 70% of data from each species is put into training and the rest is testing "
   ]
  },
  {
   "cell_type": "markdown",
   "metadata": {},
   "source": [
    "#### Define dependent and independent variable\n",
    "\n",
    "- we also scaled the variables, separately, after splitting them into training and testing sets"
   ]
  },
  {
   "cell_type": "code",
   "execution_count": 12,
   "metadata": {},
   "outputs": [],
   "source": [
    "X_train_iris_df = scale(iris_train_df[,-5])\n",
    "y_train_iris_df = iris_train_df[,5]"
   ]
  },
  {
   "cell_type": "code",
   "execution_count": 13,
   "metadata": {},
   "outputs": [],
   "source": [
    "X_test_iris_df = scale(iris_test_df[,-5])\n",
    "y_test_iris_df = iris_test_df[,5]"
   ]
  },
  {
   "cell_type": "markdown",
   "metadata": {},
   "source": [
    "## KNN without PCA"
   ]
  },
  {
   "cell_type": "code",
   "execution_count": null,
   "metadata": {},
   "outputs": [],
   "source": [
    "library(class)\n"
   ]
  },
  {
   "cell_type": "markdown",
   "metadata": {},
   "source": [
    "#### Presetting the neighbor parameter\n",
    "- k = 1 to 21 odd numbers, to avoid ties in even numbered neighbors"
   ]
  },
  {
   "cell_type": "code",
   "execution_count": 9,
   "metadata": {},
   "outputs": [],
   "source": [
    "neighbors = c(seq(1,21,2))"
   ]
  },
  {
   "cell_type": "markdown",
   "metadata": {},
   "source": [
    "#### perform knn and calculate training and testing errors"
   ]
  },
  {
   "cell_type": "code",
   "execution_count": 344,
   "metadata": {},
   "outputs": [],
   "source": [
    "MSE_KNN_iris_train <- c()\n",
    "MSE_KNN_iris_test <- c()\n",
    "\n",
    "for (i in 1:length(neighbors))\n",
    "{\n",
    "    knn_predict_train <- knn(train = X_train_iris_df, test = X_train_iris_df, cl = y_train_iris_df, k = neighbors[i])\n",
    "    knn_predict_test <- knn(train = X_train_iris_df, test = X_test_iris_df, cl = y_train_iris_df, k = neighbors[i])    \n",
    "    MSE_KNN_iris_train[i] <-mean(knn_predict_train != y_train_iris_df)\n",
    "    MSE_KNN_iris_test[i] = mean(knn_predict_test != y_test_iris_df)\n",
    "}"
   ]
  },
  {
   "cell_type": "code",
   "execution_count": 345,
   "metadata": {},
   "outputs": [
    {
     "data": {
      "image/png": "[encoded data removed]",
      "text/plain": [
       "Plot with title \"Error plot - testing set\""
      ]
     },
     "metadata": {},
     "output_type": "display_data"
    }
   ],
   "source": [
    "par(mfrow=c(2,2))\n",
    "plot(neighbors,MSE_KNN_iris_train,main = \"Error plot - training set\",xlab = \"Number of Neighbors\",ylab=\"error\",type=\"l\")\n",
    "plot(neighbors,MSE_KNN_iris_test,main = \"Error plot - testing set\",xlab = \"Number of Neighbors\",ylab=\"error\",type=\"l\")"
   ]
  },
  {
   "cell_type": "markdown",
   "metadata": {},
   "source": [
    "- we can see from the two graphs above that:\n",
    "    - training error: increases as k get's bigger (although there are incidences where the training error decreased as k got bigger, but the general trend is a proportional relationship between the two). This makes sense for training set, since the smaller the k is, the more overfitted the model to the data is.\n",
    "    - testing error: We can kind of see a pattern of decreasing and then increasing, with error being lowest at k = 15. we will go head and use that as our optimal model.\n",
    "    \n"
   ]
  },
  {
   "cell_type": "markdown",
   "metadata": {},
   "source": [
    "#### Confusion Matrix with our optimal model k = 15"
   ]
  },
  {
   "cell_type": "code",
   "execution_count": 346,
   "metadata": {},
   "outputs": [],
   "source": [
    "knn_pred_train <- knn(train = X_train_iris_df, test = X_train_iris_df, cl = y_train_iris_df, k = 15)"
   ]
  },
  {
   "cell_type": "code",
   "execution_count": 347,
   "metadata": {},
   "outputs": [
    {
     "data": {
      "text/plain": [
       "              y_train_iris_df\n",
       "knn_pred_train setosa versicolor virginica\n",
       "    setosa         35          0         0\n",
       "    versicolor      0         30         4\n",
       "    virginica       0          5        31"
      ]
     },
     "metadata": {},
     "output_type": "display_data"
    }
   ],
   "source": [
    "table(knn_pred_train,y_train_iris_df)"
   ]
  },
  {
   "cell_type": "code",
   "execution_count": 386,
   "metadata": {},
   "outputs": [
    {
     "name": "stdout",
     "output_type": "stream",
     "text": [
      "The training MSE is: 0.08571429"
     ]
    }
   ],
   "source": [
    "train_mse = mean(knn_pred_train != y_train_iris_df)\n",
    "\n",
    "cat(\"The training MSE is:\",train_iris_mse)"
   ]
  },
  {
   "cell_type": "code",
   "execution_count": 350,
   "metadata": {},
   "outputs": [],
   "source": [
    "knn_pred_test <- knn(train = X_train_iris_df, test = X_test_iris_df, cl = y_train_iris_df, k = 15)"
   ]
  },
  {
   "cell_type": "code",
   "execution_count": 351,
   "metadata": {},
   "outputs": [
    {
     "data": {
      "text/plain": [
       "             y_test_iris_df\n",
       "knn_pred_test setosa versicolor virginica\n",
       "   setosa         15          0         0\n",
       "   versicolor      0         15         1\n",
       "   virginica       0          0        14"
      ]
     },
     "metadata": {},
     "output_type": "display_data"
    }
   ],
   "source": [
    "table(knn_pred_test,y_test_iris_df)"
   ]
  },
  {
   "cell_type": "code",
   "execution_count": 385,
   "metadata": {},
   "outputs": [
    {
     "name": "stdout",
     "output_type": "stream",
     "text": [
      "The testing MSE is: 0.02222222"
     ]
    }
   ],
   "source": [
    "test_mse = mean(knn_pred_test != y_test_iris_df)\n",
    "\n",
    "cat(\"The testing MSE is:\",test_iris_mse)"
   ]
  },
  {
   "cell_type": "markdown",
   "metadata": {},
   "source": [
    "- Overall, KNN perform really well on the iris dataset, but it is very impportant to note that iris dataset is a quite ideal and simple dataset with:\n",
    "    - very few features, p = 4\n",
    "    - 100% balanced dataset \n",
    "    - although not ideal: only 150 datapoints\n",
    "- KNN cons:\n",
    "    - KNN tend to perform badly with high-p data, since calculating  euclidean distance would be an issue (should perform dimensionality reduction beforehand)\n",
    "    - The KNN algorithm has a high prediction cost for large datasets. This is because in large datasets the cost of calculating distance between new point and each existing point becomes higher.\n",
    "    - KNN performs badly if there's a categorical feature, since finding the distance between dimension with categorical features are difficult\n",
    "- we can see very clearly that KNN actually performed really well, but we can see that the iris dataset is essentially the perfect dataset for an algorithm like KNN. If you have datasets that has properties of what is described above (KNN cons), knn might not perform well. "
   ]
  },
  {
   "cell_type": "markdown",
   "metadata": {},
   "source": [
    "# Question 3 Part b:\n",
    "## KNN with PCA\n",
    "b).Perform k-nearest neighbor on the first two principal components. Plot the\n",
    "error rate as a function of k. Report the confusion matrix. Plot the scores for\n",
    "the first two principal components and color the samples by class (Species).\n",
    "How does error rate compare to Part (A)?"
   ]
  },
  {
   "cell_type": "code",
   "execution_count": 14,
   "metadata": {},
   "outputs": [],
   "source": [
    "library(class)\n",
    "library(stats)"
   ]
  },
  {
   "cell_type": "markdown",
   "metadata": {},
   "source": [
    "#### Perform Principle Component Analysis \n",
    "- note to set scale to false, since we already scaled the data before performing KNN in part a"
   ]
  },
  {
   "cell_type": "code",
   "execution_count": 15,
   "metadata": {},
   "outputs": [],
   "source": [
    "pca_iris_train = prcomp(X_train_iris_df,scale=FALSE)\n",
    "pca_iris_test = prcomp(X_test_iris_df,scale=FALSE)"
   ]
  },
  {
   "cell_type": "code",
   "execution_count": 16,
   "metadata": {},
   "outputs": [
    {
     "data": {
      "text/plain": [
       "Standard deviations (1, .., p=4):\n",
       "[1] 1.7001609 0.9680455 0.3878045 0.1481503\n",
       "\n",
       "Rotation (n x k) = (4 x 4):\n",
       "                    PC1         PC2        PC3        PC4\n",
       "Sepal.Length  0.5201165 0.383985043 -0.7227723 -0.2442018\n",
       "Sepal.Width  -0.2592431 0.921242422  0.2583601  0.1317403\n",
       "Petal.Length  0.5829914 0.006883709  0.1536375  0.7977902\n",
       "Petal.Width   0.5677965 0.061810202  0.6222908 -0.5352951"
      ]
     },
     "metadata": {},
     "output_type": "display_data"
    },
    {
     "data": {
      "text/plain": [
       "Importance of components:\n",
       "                          PC1    PC2    PC3     PC4\n",
       "Standard deviation     1.7002 0.9680 0.3878 0.14815\n",
       "Proportion of Variance 0.7226 0.2343 0.0376 0.00549\n",
       "Cumulative Proportion  0.7226 0.9569 0.9945 1.00000"
      ]
     },
     "metadata": {},
     "output_type": "display_data"
    }
   ],
   "source": [
    "pca_iris_train\n",
    "summary(pca_iris_train)"
   ]
  },
  {
   "cell_type": "code",
   "execution_count": 17,
   "metadata": {},
   "outputs": [
    {
     "data": {
      "text/plain": [
       "Standard deviations (1, .., p=4):\n",
       "[1] 1.7315871 0.9326110 0.3380602 0.1325069\n",
       "\n",
       "Rotation (n x k) = (4 x 4):\n",
       "                    PC1        PC2        PC3         PC4\n",
       "Sepal.Length  0.5231999 0.36953974  0.7196669 -0.26792134\n",
       "Sepal.Width  -0.2888946 0.92461418 -0.2296495  0.09428489\n",
       "Petal.Length  0.5725745 0.06019024 -0.1477885  0.80417296\n",
       "Petal.Width   0.5612132 0.07004375 -0.6383567 -0.52214401"
      ]
     },
     "metadata": {},
     "output_type": "display_data"
    },
    {
     "data": {
      "text/plain": [
       "Importance of components:\n",
       "                          PC1    PC2     PC3     PC4\n",
       "Standard deviation     1.7316 0.9326 0.33806 0.13251\n",
       "Proportion of Variance 0.7496 0.2174 0.02857 0.00439\n",
       "Cumulative Proportion  0.7496 0.9670 0.99561 1.00000"
      ]
     },
     "metadata": {},
     "output_type": "display_data"
    }
   ],
   "source": [
    "pca_iris_test\n",
    "summary(pca_iris_test)"
   ]
  },
  {
   "cell_type": "code",
   "execution_count": 18,
   "metadata": {},
   "outputs": [],
   "source": [
    "pca_score_train = pca_iris_train$x[,1:2]\n",
    "pca_score_test = pca_iris_test$x[,1:2]\n"
   ]
  },
  {
   "cell_type": "code",
   "execution_count": 19,
   "metadata": {},
   "outputs": [],
   "source": [
    "pca_df_train = pca_iris_train$x[,1:2]\n",
    "pca_df_train = data.frame(pca_df_train,y_train_iris_df)\n",
    "\n",
    "pca_df_test = pca_iris_test$x[,1:2]\n",
    "pca_df_test = data.frame(pca_df_test,y_test_iris_df)"
   ]
  },
  {
   "cell_type": "markdown",
   "metadata": {},
   "source": [
    "#### Plot the pca score for training set"
   ]
  },
  {
   "cell_type": "code",
   "execution_count": 34,
   "metadata": {},
   "outputs": [
    {
     "name": "stderr",
     "output_type": "stream",
     "text": [
      "Installing package into 'C:/Users/qlian/OneDrive/Documents/R/win-library/3.6'\n",
      "(as 'lib' is unspecified)\n"
     ]
    },
    {
     "name": "stdout",
     "output_type": "stream",
     "text": [
      "package 'ellipse' successfully unpacked and MD5 sums checked\n",
      "\n",
      "The downloaded binary packages are in\n",
      "\tC:\\Users\\qlian\\AppData\\Local\\Temp\\RtmpgxielO\\downloaded_packages\n"
     ]
    }
   ],
   "source": [
    "install.packages(\"ellipse\")"
   ]
  },
  {
   "cell_type": "code",
   "execution_count": 35,
   "metadata": {},
   "outputs": [
    {
     "name": "stderr",
     "output_type": "stream",
     "text": [
      "Warning message:\n",
      "\"package 'ellipse' was built under R version 3.6.3\"\n",
      "Attaching package: 'ellipse'\n",
      "\n",
      "The following object is masked from 'package:graphics':\n",
      "\n",
      "    pairs\n",
      "\n"
     ]
    }
   ],
   "source": [
    "library(ellipse)"
   ]
  },
  {
   "cell_type": "code",
   "execution_count": 63,
   "metadata": {},
   "outputs": [
    {
     "data": {
      "image/png": "[encoded data removed]",
      "text/plain": [
       "plot without title"
      ]
     },
     "metadata": {},
     "output_type": "display_data"
    }
   ],
   "source": [
    "\n",
    "col_choice <- rep(\"black\", length(pca_score_train[,1]))\n",
    "id_set <- which(pca_df_train$y_train_iris_df == \"setosa\")\n",
    "id_vir <- which(pca_df_train$y_train_iris_df == \"virginica\")\n",
    "id_ver <- which(pca_df_train$y_train_iris_df == \"versicolor\")\n",
    "\n",
    "col_choice[id_set] <- \"red\"\n",
    "col_choice[id_vir] <- \"blue\"\n",
    "\n",
    "plot(pca_score_train, xlim = c(-5, 5), ylim = c(-5,5), col = col_choice)\n",
    "\n",
    "polygon(ellipse(x=cor(pca_df_train[id_set,1],pca_df_train[id_set,2]), centre=colMeans(pca_score_train[id_set,1:2]), level=0.70), col=adjustcolor(\"skyblue2\", alpha.f=0.01), border=\"skyblue\")\n",
    "polygon(ellipse(x=cor(pca_df_train[id_vir,1],pca_df_train[id_vir,2]), centre=colMeans(pca_score_train[id_vir,1:2]), level=0.70), col=adjustcolor(\"gold2\", alpha.f=0.01), border=\"gold2\")\n",
    "polygon(ellipse(x=cor(pca_df_train[id_ver,1],pca_df_train[id_ver,2]), centre=colMeans(pca_score_train[id_ver,1:2]), level=0.70), col=adjustcolor(\"green2\", alpha.f=0.01), border=\"green\")\n",
    "\n",
    "\n",
    "\n",
    "# text(pca_score_train, col = col_choice, labels = 1:length(pima[,1]))\n",
    "legend(\"topleft\", c(\"versicolor\", \"setosa\",\"virginica\"), pch = .5, col = c(\"green\", \"blue\",\"yellow\"))"
   ]
  },
  {
   "cell_type": "markdown",
   "metadata": {},
   "source": [
    "#### Plot the score for testing set"
   ]
  },
  {
   "cell_type": "code",
   "execution_count": 62,
   "metadata": {},
   "outputs": [
    {
     "data": {
      "image/png": "[encoded data removed]",
      "text/plain": [
       "plot without title"
      ]
     },
     "metadata": {},
     "output_type": "display_data"
    }
   ],
   "source": [
    "col_choice <- rep(\"black\", length(pca_score_train[,1]))\n",
    "id_set <- which(pca_df_test$y_test_iris_df == \"setosa\")\n",
    "id_vir <- which(pca_df_test$y_test_iris_df == \"virginica\")\n",
    "id_ver <- which(pca_df_test$y_test_iris_df == \"versicolor\")\n",
    "\n",
    "col_choice[id_set] <- \"red\"\n",
    "col_choice[id_vir] <- \"blue\"\n",
    "\n",
    "plot(pca_score_test, xlim = c(-5, 5), ylim = c(-5,5), col = col_choice)\n",
    "\n",
    "polygon(ellipse(x=cor(pca_df_test[id_set,1],pca_df_test[id_set,2]), centre=colMeans(pca_score_test[id_set,1:2]), level=0.70), col=adjustcolor(\"skyblue2\", alpha.f=0.01), border=\"skyblue\")\n",
    "polygon(ellipse(x=cor(pca_df_test[id_vir,1],pca_df_test[id_vir,2]), centre=colMeans(pca_score_test[id_vir,1:2]), level=0.70), col=adjustcolor(\"gold2\", alpha.f=0.01), border=\"gold2\")\n",
    "polygon(ellipse(x=cor(pca_df_test[id_ver,1],pca_df_test[id_ver,2]), centre=colMeans(pca_score_test[id_ver,1:2]), level=0.70), col=adjustcolor(\"green2\", alpha.f=0.01), border=\"green\")\n",
    "\n",
    "\n",
    "\n",
    "# text(pca_score_train, col = col_choice, labels = 1:length(pima[,1]))\n",
    "legend(\"topleft\", c(\"versicolor\", \"setosa\",\"virginica\"), pch = .5, col = c(\"green\", \"blue\",\"yellow\"))"
   ]
  },
  {
   "cell_type": "markdown",
   "metadata": {},
   "source": [
    "#### KNN with PCA (first two components)"
   ]
  },
  {
   "cell_type": "code",
   "execution_count": 366,
   "metadata": {},
   "outputs": [],
   "source": [
    "MSE_PCA_train <- c()\n",
    "MSE_PCA_test <- c()\n",
    "\n",
    "for (i in 1:length(neighbors))\n",
    "{\n",
    "    knn_predict_train <- knn(train = as.matrix(pca_df_train[,1:2]), test = as.matrix(pca_df_train[,1:2]), cl = y_train_iris_df, k = neighbors[i])\n",
    "    knn_predict_test <- knn(train = as.matrix(pca_df_train[,1:2]), test = as.matrix(pca_df_test[,1:2]), cl = y_train_iris_df, k = neighbors[i])\n",
    "    MSE_PCA_train[i] <-mean(knn_predict_train != y_train_iris_df)\n",
    "    MSE_PCA_test[i] <- mean(knn_predict_test != y_test_iris_df)\n",
    "}\n",
    "\n"
   ]
  },
  {
   "cell_type": "markdown",
   "metadata": {},
   "source": [
    "#### Plot training and testing errors\n"
   ]
  },
  {
   "cell_type": "code",
   "execution_count": 368,
   "metadata": {},
   "outputs": [
    {
     "data": {
      "image/png": "[encoded data removed]",
      "text/plain": [
       "Plot with title \"Error Plot - testing set\""
      ]
     },
     "metadata": {},
     "output_type": "display_data"
    }
   ],
   "source": [
    "par(mfrow=c(2,2))\n",
    "\n",
    "plot(neighbors,MSE_PCA_train,main = \"Error Plot - training set\",xlab = \"Number of Neighbors\",ylab=\"error\",type=\"l\")\n",
    "plot(neighbors,MSE_PCA_test,main = \"Error Plot - testing set\",xlab = \"Number of Neighbors\",ylab=\"error\",type=\"l\")"
   ]
  },
  {
   "cell_type": "code",
   "execution_count": 369,
   "metadata": {},
   "outputs": [
    {
     "data": {
      "text/html": [
       "<ol class=list-inline>\n",
       "\t<li>0.155555555555556</li>\n",
       "\t<li>0.0666666666666667</li>\n",
       "\t<li>0.0888888888888889</li>\n",
       "\t<li>0.0888888888888889</li>\n",
       "\t<li>0.0444444444444444</li>\n",
       "\t<li>0.0444444444444444</li>\n",
       "\t<li>0.0444444444444444</li>\n",
       "\t<li>0.0444444444444444</li>\n",
       "\t<li>0.0444444444444444</li>\n",
       "\t<li>0.0666666666666667</li>\n",
       "\t<li>0.0666666666666667</li>\n",
       "</ol>\n"
      ],
      "text/latex": [
       "\\begin{enumerate*}\n",
       "\\item 0.155555555555556\n",
       "\\item 0.0666666666666667\n",
       "\\item 0.0888888888888889\n",
       "\\item 0.0888888888888889\n",
       "\\item 0.0444444444444444\n",
       "\\item 0.0444444444444444\n",
       "\\item 0.0444444444444444\n",
       "\\item 0.0444444444444444\n",
       "\\item 0.0444444444444444\n",
       "\\item 0.0666666666666667\n",
       "\\item 0.0666666666666667\n",
       "\\end{enumerate*}\n"
      ],
      "text/markdown": [
       "1. 0.155555555555556\n",
       "2. 0.0666666666666667\n",
       "3. 0.0888888888888889\n",
       "4. 0.0888888888888889\n",
       "5. 0.0444444444444444\n",
       "6. 0.0444444444444444\n",
       "7. 0.0444444444444444\n",
       "8. 0.0444444444444444\n",
       "9. 0.0444444444444444\n",
       "10. 0.0666666666666667\n",
       "11. 0.0666666666666667\n",
       "\n",
       "\n"
      ],
      "text/plain": [
       " [1] 0.15555556 0.06666667 0.08888889 0.08888889 0.04444444 0.04444444\n",
       " [7] 0.04444444 0.04444444 0.04444444 0.06666667 0.06666667"
      ]
     },
     "metadata": {},
     "output_type": "display_data"
    }
   ],
   "source": [
    "MSE_PCA_test"
   ]
  },
  {
   "cell_type": "markdown",
   "metadata": {},
   "source": [
    "- as we can see from the graphs above:\n",
    "    - for KNN after the application of PCA:\n",
    "        - training set: the general trend is the same as KNN without PCA. smaller k generates smaller error, and as k increaes, the error increases as well. \n",
    "        - testing set: the error goes up and down, we can also see an down and then up trend (what we want to see from overfitting to underfitting). We see that the errors are the lowest from k = 9 - 17 (odd number). Since we chose 15 for our model without PCA, let's also choose 15 to be our k for our pca model for a even more accurate comparison!"
   ]
  },
  {
   "cell_type": "code",
   "execution_count": 387,
   "metadata": {},
   "outputs": [],
   "source": [
    "knn_pca_pred_train<- knn(train = as.matrix(pca_df_train[,1:2]), test = as.matrix(pca_df_train[,1:2]), cl = y_train_iris_df, k = 15)\n"
   ]
  },
  {
   "cell_type": "code",
   "execution_count": 388,
   "metadata": {},
   "outputs": [
    {
     "data": {
      "text/plain": [
       "                  y_train_iris_df\n",
       "knn_pca_pred_train setosa versicolor virginica\n",
       "        setosa         35          0         0\n",
       "        versicolor      0         29         4\n",
       "        virginica       0          6        31"
      ]
     },
     "metadata": {},
     "output_type": "display_data"
    }
   ],
   "source": [
    "table(knn_pca_pred_train,y_train_iris_df)"
   ]
  },
  {
   "cell_type": "code",
   "execution_count": 389,
   "metadata": {},
   "outputs": [
    {
     "name": "stdout",
     "output_type": "stream",
     "text": [
      "The training MSE is: 0.0952381"
     ]
    }
   ],
   "source": [
    "train_pca_mse = mean(knn_pca_pred_train != y_train_iris_df)\n",
    "\n",
    "cat(\"The training MSE is:\",train_pca_mse)"
   ]
  },
  {
   "cell_type": "code",
   "execution_count": 390,
   "metadata": {},
   "outputs": [],
   "source": [
    "knn_pca_pred_test<- knn(train = as.matrix(pca_df_train[,1:2]), test = as.matrix(pca_df_test[,1:2]), cl = y_train_iris_df, k = 15)\n"
   ]
  },
  {
   "cell_type": "code",
   "execution_count": 391,
   "metadata": {},
   "outputs": [
    {
     "data": {
      "text/plain": [
       "                 y_test_iris_df\n",
       "knn_pca_pred_test setosa versicolor virginica\n",
       "       setosa         15          0         0\n",
       "       versicolor      0         14         1\n",
       "       virginica       0          1        14"
      ]
     },
     "metadata": {},
     "output_type": "display_data"
    }
   ],
   "source": [
    "table(knn_pca_pred_test,y_test_iris_df)"
   ]
  },
  {
   "cell_type": "code",
   "execution_count": 392,
   "metadata": {},
   "outputs": [
    {
     "name": "stdout",
     "output_type": "stream",
     "text": [
      "The training MSE is: 0.0952381"
     ]
    }
   ],
   "source": [
    "test_pca_mse = mean(knn_pca_pred_test != y_test_iris_df)\n",
    "\n",
    "cat(\"The training MSE is:\",train_pca_mse)"
   ]
  },
  {
   "cell_type": "code",
   "execution_count": 394,
   "metadata": {},
   "outputs": [
    {
     "data": {
      "text/html": [
       "<table>\n",
       "<tbody>\n",
       "\t<tr><th scope=row>train_mse</th><td>0.08571429</td></tr>\n",
       "\t<tr><th scope=row>test_mse</th><td>0.02222222</td></tr>\n",
       "\t<tr><th scope=row>train_pca_mse</th><td>0.09523810</td></tr>\n",
       "\t<tr><th scope=row>test_pca_mse</th><td>0.04444444</td></tr>\n",
       "</tbody>\n",
       "</table>\n"
      ],
      "text/latex": [
       "\\begin{tabular}{r|l}\n",
       "\ttrain\\_mse & 0.08571429\\\\\n",
       "\ttest\\_mse & 0.02222222\\\\\n",
       "\ttrain\\_pca\\_mse & 0.09523810\\\\\n",
       "\ttest\\_pca\\_mse & 0.04444444\\\\\n",
       "\\end{tabular}\n"
      ],
      "text/markdown": [
       "\n",
       "| train_mse | 0.08571429 |\n",
       "| test_mse | 0.02222222 |\n",
       "| train_pca_mse | 0.09523810 |\n",
       "| test_pca_mse | 0.04444444 |\n",
       "\n"
      ],
      "text/plain": [
       "              [,1]      \n",
       "train_mse     0.08571429\n",
       "test_mse      0.02222222\n",
       "train_pca_mse 0.09523810\n",
       "test_pca_mse  0.04444444"
      ]
     },
     "metadata": {},
     "output_type": "display_data"
    }
   ],
   "source": [
    "rbind(train_mse,test_mse,train_pca_mse,test_pca_mse)"
   ]
  },
  {
   "cell_type": "markdown",
   "metadata": {},
   "source": [
    "- we can see that chart from above that, the training error and testing erros are both lowest in KNN without PCA. It is also important to note that, we only have 4 variables in this dataset. The n to p ratio is 150:4, which is quite good and also it is a balanced dataset. In real life, you wouldn't really perform pca on a dataset like this, however we saw that, pca did produce slightly worse result (although won't always be the case, but almost definitely in a high p data, or p>>n), it still gave us realtively low testing error rate (technically only two missifications), as compared to without PCA which had only 1)"
   ]
  }
 ],
 "metadata": {
  "kernelspec": {
   "display_name": "R",
   "language": "R",
   "name": "ir"
  },
  "language_info": {
   "codemirror_mode": "r",
   "file_extension": ".r",
   "mimetype": "text/x-r-source",
   "name": "R",
   "pygments_lexer": "r",
   "version": "3.6.1"
  }
 },
 "nbformat": 4,
 "nbformat_minor": 4
}
