{
 "cells": [
  {
   "cell_type": "code",
   "execution_count": 119,
   "metadata": {},
   "outputs": [],
   "source": [
    "setwd('C:/Users/qlian/OneDrive/Desktop/Grad Fall 2020 Courses/EAS 506 Statistical Mining I/WEEK4')"
   ]
  },
  {
   "cell_type": "markdown",
   "metadata": {},
   "source": [
    "# Question 1"
   ]
  },
  {
   "cell_type": "markdown",
   "metadata": {},
   "source": [
    "### Import Libraries"
   ]
  },
  {
   "cell_type": "code",
   "execution_count": 120,
   "metadata": {},
   "outputs": [],
   "source": [
    "library(leaps)\n",
    "library(Metrics)"
   ]
  },
  {
   "cell_type": "markdown",
   "metadata": {},
   "source": [
    "### Load the dataset"
   ]
  },
  {
   "cell_type": "code",
   "execution_count": 121,
   "metadata": {},
   "outputs": [],
   "source": [
    "cereal_df = read.csv(\"cereal.csv\",header=T,na.string=\"?\")"
   ]
  },
  {
   "cell_type": "code",
   "execution_count": 122,
   "metadata": {},
   "outputs": [
    {
     "data": {
      "text/html": [
       "<table>\n",
       "<thead><tr><th scope=col>name</th><th scope=col>mfr</th><th scope=col>type</th><th scope=col>calories</th><th scope=col>protein</th><th scope=col>fat</th><th scope=col>sodium</th><th scope=col>fiber</th><th scope=col>carbo</th><th scope=col>sugars</th><th scope=col>potass</th><th scope=col>vitamins</th><th scope=col>shelf</th><th scope=col>weight</th><th scope=col>cups</th><th scope=col>rating</th></tr></thead>\n",
       "<tbody>\n",
       "\t<tr><td>100% Bran                </td><td>N                        </td><td>C                        </td><td> 70                      </td><td>4                        </td><td>1                        </td><td>130                      </td><td>10.0                     </td><td> 5.0                     </td><td> 6                       </td><td>280                      </td><td>25                       </td><td>3                        </td><td>1                        </td><td>0.33                     </td><td>68.40297                 </td></tr>\n",
       "\t<tr><td>100% Natural Bran        </td><td>Q                        </td><td>C                        </td><td>120                      </td><td>3                        </td><td>5                        </td><td> 15                      </td><td> 2.0                     </td><td> 8.0                     </td><td> 8                       </td><td>135                      </td><td> 0                       </td><td>3                        </td><td>1                        </td><td>1.00                     </td><td>33.98368                 </td></tr>\n",
       "\t<tr><td>All-Bran                 </td><td>K                        </td><td>C                        </td><td> 70                      </td><td>4                        </td><td>1                        </td><td>260                      </td><td> 9.0                     </td><td> 7.0                     </td><td> 5                       </td><td>320                      </td><td>25                       </td><td>3                        </td><td>1                        </td><td>0.33                     </td><td>59.42551                 </td></tr>\n",
       "\t<tr><td>All-Bran with Extra Fiber</td><td>K                        </td><td>C                        </td><td> 50                      </td><td>4                        </td><td>0                        </td><td>140                      </td><td>14.0                     </td><td> 8.0                     </td><td> 0                       </td><td>330                      </td><td>25                       </td><td>3                        </td><td>1                        </td><td>0.50                     </td><td>93.70491                 </td></tr>\n",
       "\t<tr><td>Almond Delight           </td><td>R                        </td><td>C                        </td><td>110                      </td><td>2                        </td><td>2                        </td><td>200                      </td><td> 1.0                     </td><td>14.0                     </td><td> 8                       </td><td> -1                      </td><td>25                       </td><td>3                        </td><td>1                        </td><td>0.75                     </td><td>34.38484                 </td></tr>\n",
       "\t<tr><td>Apple Cinnamon Cheerios  </td><td>G                        </td><td>C                        </td><td>110                      </td><td>2                        </td><td>2                        </td><td>180                      </td><td> 1.5                     </td><td>10.5                     </td><td>10                       </td><td> 70                      </td><td>25                       </td><td>1                        </td><td>1                        </td><td>0.75                     </td><td>29.50954                 </td></tr>\n",
       "</tbody>\n",
       "</table>\n"
      ],
      "text/latex": [
       "\\begin{tabular}{r|llllllllllllllll}\n",
       " name & mfr & type & calories & protein & fat & sodium & fiber & carbo & sugars & potass & vitamins & shelf & weight & cups & rating\\\\\n",
       "\\hline\n",
       "\t 100\\% Bran                 & N                           & C                           &  70                         & 4                           & 1                           & 130                         & 10.0                        &  5.0                        &  6                          & 280                         & 25                          & 3                           & 1                           & 0.33                        & 68.40297                   \\\\\n",
       "\t 100\\% Natural Bran         & Q                           & C                           & 120                         & 3                           & 5                           &  15                         &  2.0                        &  8.0                        &  8                          & 135                         &  0                          & 3                           & 1                           & 1.00                        & 33.98368                   \\\\\n",
       "\t All-Bran                  & K                         & C                         &  70                       & 4                         & 1                         & 260                       &  9.0                      &  7.0                      &  5                        & 320                       & 25                        & 3                         & 1                         & 0.33                      & 59.42551                 \\\\\n",
       "\t All-Bran with Extra Fiber & K                         & C                         &  50                       & 4                         & 0                         & 140                       & 14.0                      &  8.0                      &  0                        & 330                       & 25                        & 3                         & 1                         & 0.50                      & 93.70491                 \\\\\n",
       "\t Almond Delight            & R                         & C                         & 110                       & 2                         & 2                         & 200                       &  1.0                      & 14.0                      &  8                        &  -1                       & 25                        & 3                         & 1                         & 0.75                      & 34.38484                 \\\\\n",
       "\t Apple Cinnamon Cheerios   & G                         & C                         & 110                       & 2                         & 2                         & 180                       &  1.5                      & 10.5                      & 10                        &  70                       & 25                        & 1                         & 1                         & 0.75                      & 29.50954                 \\\\\n",
       "\\end{tabular}\n"
      ],
      "text/markdown": [
       "\n",
       "| name | mfr | type | calories | protein | fat | sodium | fiber | carbo | sugars | potass | vitamins | shelf | weight | cups | rating |\n",
       "|---|---|---|---|---|---|---|---|---|---|---|---|---|---|---|---|\n",
       "| 100% Bran                 | N                         | C                         |  70                       | 4                         | 1                         | 130                       | 10.0                      |  5.0                      |  6                        | 280                       | 25                        | 3                         | 1                         | 0.33                      | 68.40297                  |\n",
       "| 100% Natural Bran         | Q                         | C                         | 120                       | 3                         | 5                         |  15                       |  2.0                      |  8.0                      |  8                        | 135                       |  0                        | 3                         | 1                         | 1.00                      | 33.98368                  |\n",
       "| All-Bran                  | K                         | C                         |  70                       | 4                         | 1                         | 260                       |  9.0                      |  7.0                      |  5                        | 320                       | 25                        | 3                         | 1                         | 0.33                      | 59.42551                  |\n",
       "| All-Bran with Extra Fiber | K                         | C                         |  50                       | 4                         | 0                         | 140                       | 14.0                      |  8.0                      |  0                        | 330                       | 25                        | 3                         | 1                         | 0.50                      | 93.70491                  |\n",
       "| Almond Delight            | R                         | C                         | 110                       | 2                         | 2                         | 200                       |  1.0                      | 14.0                      |  8                        |  -1                       | 25                        | 3                         | 1                         | 0.75                      | 34.38484                  |\n",
       "| Apple Cinnamon Cheerios   | G                         | C                         | 110                       | 2                         | 2                         | 180                       |  1.5                      | 10.5                      | 10                        |  70                       | 25                        | 1                         | 1                         | 0.75                      | 29.50954                  |\n",
       "\n"
      ],
      "text/plain": [
       "  name                      mfr type calories protein fat sodium fiber carbo\n",
       "1 100% Bran                 N   C     70      4       1   130    10.0   5.0 \n",
       "2 100% Natural Bran         Q   C    120      3       5    15     2.0   8.0 \n",
       "3 All-Bran                  K   C     70      4       1   260     9.0   7.0 \n",
       "4 All-Bran with Extra Fiber K   C     50      4       0   140    14.0   8.0 \n",
       "5 Almond Delight            R   C    110      2       2   200     1.0  14.0 \n",
       "6 Apple Cinnamon Cheerios   G   C    110      2       2   180     1.5  10.5 \n",
       "  sugars potass vitamins shelf weight cups rating  \n",
       "1  6     280    25       3     1      0.33 68.40297\n",
       "2  8     135     0       3     1      1.00 33.98368\n",
       "3  5     320    25       3     1      0.33 59.42551\n",
       "4  0     330    25       3     1      0.50 93.70491\n",
       "5  8      -1    25       3     1      0.75 34.38484\n",
       "6 10      70    25       1     1      0.75 29.50954"
      ]
     },
     "metadata": {},
     "output_type": "display_data"
    }
   ],
   "source": [
    "head(cereal_df)"
   ]
  },
  {
   "cell_type": "code",
   "execution_count": 123,
   "metadata": {},
   "outputs": [
    {
     "data": {
      "text/html": [
       "<ol class=list-inline>\n",
       "\t<li>77</li>\n",
       "\t<li>16</li>\n",
       "</ol>\n"
      ],
      "text/latex": [
       "\\begin{enumerate*}\n",
       "\\item 77\n",
       "\\item 16\n",
       "\\end{enumerate*}\n"
      ],
      "text/markdown": [
       "1. 77\n",
       "2. 16\n",
       "\n",
       "\n"
      ],
      "text/plain": [
       "[1] 77 16"
      ]
     },
     "metadata": {},
     "output_type": "display_data"
    }
   ],
   "source": [
    "dim(cereal_df)"
   ]
  },
  {
   "cell_type": "code",
   "execution_count": 124,
   "metadata": {
    "scrolled": true
   },
   "outputs": [
    {
     "name": "stdout",
     "output_type": "stream",
     "text": [
      "'data.frame':\t77 obs. of  16 variables:\n",
      " $ name    : Factor w/ 77 levels \"100% Bran\",\"100% Natural Bran\",..: 1 2 3 4 5 6 7 8 9 10 ...\n",
      " $ mfr     : Factor w/ 7 levels \"A\",\"G\",\"K\",\"N\",..: 4 6 3 3 7 2 3 2 7 5 ...\n",
      " $ type    : Factor w/ 2 levels \"C\",\"H\": 1 1 1 1 1 1 1 1 1 1 ...\n",
      " $ calories: int  70 120 70 50 110 110 110 130 90 90 ...\n",
      " $ protein : int  4 3 4 4 2 2 2 3 2 3 ...\n",
      " $ fat     : int  1 5 1 0 2 2 0 2 1 0 ...\n",
      " $ sodium  : int  130 15 260 140 200 180 125 210 200 210 ...\n",
      " $ fiber   : num  10 2 9 14 1 1.5 1 2 4 5 ...\n",
      " $ carbo   : num  5 8 7 8 14 10.5 11 18 15 13 ...\n",
      " $ sugars  : int  6 8 5 0 8 10 14 8 6 5 ...\n",
      " $ potass  : int  280 135 320 330 -1 70 30 100 125 190 ...\n",
      " $ vitamins: int  25 0 25 25 25 25 25 25 25 25 ...\n",
      " $ shelf   : int  3 3 3 3 3 1 2 3 1 3 ...\n",
      " $ weight  : num  1 1 1 1 1 1 1 1.33 1 1 ...\n",
      " $ cups    : num  0.33 1 0.33 0.5 0.75 0.75 1 0.75 0.67 0.67 ...\n",
      " $ rating  : num  68.4 34 59.4 93.7 34.4 ...\n"
     ]
    }
   ],
   "source": [
    "str(cereal_df)"
   ]
  },
  {
   "cell_type": "markdown",
   "metadata": {},
   "source": [
    "- we have three factor variables, \"name\", \"mfr\" and \"type\". Notice that \"name\" variable have 77 levels and we have 77 obervations.Indicating that each row has a unique name. We can go ahead and drop this variable, since it will not provide us with any useful information.\n",
    "- we can go ahead and convert, \"mfr\" and \"type\" to numeric variables"
   ]
  },
  {
   "cell_type": "markdown",
   "metadata": {},
   "source": [
    "#### Dropping variable \"name\""
   ]
  },
  {
   "cell_type": "code",
   "execution_count": 125,
   "metadata": {},
   "outputs": [],
   "source": [
    "cereal_df <- cereal_df[,-c(1)]"
   ]
  },
  {
   "cell_type": "markdown",
   "metadata": {},
   "source": [
    "#### Covert Factor data to Numerical data"
   ]
  },
  {
   "cell_type": "code",
   "execution_count": 126,
   "metadata": {},
   "outputs": [],
   "source": [
    "cereal_df$mfr <- as.numeric(cereal_df$mfr)"
   ]
  },
  {
   "cell_type": "code",
   "execution_count": 127,
   "metadata": {},
   "outputs": [],
   "source": [
    "cereal_df$type <- as.numeric(cereal_df$type)"
   ]
  },
  {
   "cell_type": "markdown",
   "metadata": {},
   "source": [
    "#### Check for missing values"
   ]
  },
  {
   "cell_type": "code",
   "execution_count": 128,
   "metadata": {},
   "outputs": [
    {
     "data": {
      "text/html": [
       "<dl class=dl-horizontal>\n",
       "\t<dt>mfr</dt>\n",
       "\t\t<dd>0</dd>\n",
       "\t<dt>type</dt>\n",
       "\t\t<dd>0</dd>\n",
       "\t<dt>calories</dt>\n",
       "\t\t<dd>0</dd>\n",
       "\t<dt>protein</dt>\n",
       "\t\t<dd>0</dd>\n",
       "\t<dt>fat</dt>\n",
       "\t\t<dd>0</dd>\n",
       "\t<dt>sodium</dt>\n",
       "\t\t<dd>0</dd>\n",
       "\t<dt>fiber</dt>\n",
       "\t\t<dd>0</dd>\n",
       "\t<dt>carbo</dt>\n",
       "\t\t<dd>0</dd>\n",
       "\t<dt>sugars</dt>\n",
       "\t\t<dd>0</dd>\n",
       "\t<dt>potass</dt>\n",
       "\t\t<dd>0</dd>\n",
       "\t<dt>vitamins</dt>\n",
       "\t\t<dd>0</dd>\n",
       "\t<dt>shelf</dt>\n",
       "\t\t<dd>0</dd>\n",
       "\t<dt>weight</dt>\n",
       "\t\t<dd>0</dd>\n",
       "\t<dt>cups</dt>\n",
       "\t\t<dd>0</dd>\n",
       "\t<dt>rating</dt>\n",
       "\t\t<dd>0</dd>\n",
       "</dl>\n"
      ],
      "text/latex": [
       "\\begin{description*}\n",
       "\\item[mfr] 0\n",
       "\\item[type] 0\n",
       "\\item[calories] 0\n",
       "\\item[protein] 0\n",
       "\\item[fat] 0\n",
       "\\item[sodium] 0\n",
       "\\item[fiber] 0\n",
       "\\item[carbo] 0\n",
       "\\item[sugars] 0\n",
       "\\item[potass] 0\n",
       "\\item[vitamins] 0\n",
       "\\item[shelf] 0\n",
       "\\item[weight] 0\n",
       "\\item[cups] 0\n",
       "\\item[rating] 0\n",
       "\\end{description*}\n"
      ],
      "text/markdown": [
       "mfr\n",
       ":   0type\n",
       ":   0calories\n",
       ":   0protein\n",
       ":   0fat\n",
       ":   0sodium\n",
       ":   0fiber\n",
       ":   0carbo\n",
       ":   0sugars\n",
       ":   0potass\n",
       ":   0vitamins\n",
       ":   0shelf\n",
       ":   0weight\n",
       ":   0cups\n",
       ":   0rating\n",
       ":   0\n",
       "\n"
      ],
      "text/plain": [
       "     mfr     type calories  protein      fat   sodium    fiber    carbo \n",
       "       0        0        0        0        0        0        0        0 \n",
       "  sugars   potass vitamins    shelf   weight     cups   rating \n",
       "       0        0        0        0        0        0        0 "
      ]
     },
     "metadata": {},
     "output_type": "display_data"
    }
   ],
   "source": [
    "colSums(is.na(cereal_df))"
   ]
  },
  {
   "cell_type": "markdown",
   "metadata": {},
   "source": [
    "- No missing values, let's proceed!"
   ]
  },
  {
   "cell_type": "code",
   "execution_count": 129,
   "metadata": {},
   "outputs": [
    {
     "name": "stderr",
     "output_type": "stream",
     "text": [
      "The following objects are masked from cereal_df (pos = 3):\n",
      "\n",
      "    calories, carbo, cups, fat, fiber, mfr, potass, protein, rating,\n",
      "    shelf, sodium, sugars, type, vitamins, weight\n",
      "\n"
     ]
    }
   ],
   "source": [
    "attach(cereal_df)"
   ]
  },
  {
   "cell_type": "markdown",
   "metadata": {},
   "source": [
    "## Part (a)"
   ]
  },
  {
   "cell_type": "markdown",
   "metadata": {},
   "source": [
    "### Train test split \n",
    "- We will perform 70/30 train test split. We will also randomize the data before splitting it. \n"
   ]
  },
  {
   "cell_type": "code",
   "execution_count": 130,
   "metadata": {},
   "outputs": [],
   "source": [
    "set.seed(50)"
   ]
  },
  {
   "cell_type": "code",
   "execution_count": 131,
   "metadata": {},
   "outputs": [],
   "source": [
    "indi = sample(1:length(cereal_df[,1]), 2/3*length(cereal_df[,1]))\n",
    "cereal_train_df = cereal_df[indi,]\n",
    "cereal_test_df = cereal_df[-indi,]\n"
   ]
  },
  {
   "cell_type": "markdown",
   "metadata": {},
   "source": [
    "### Defining independent and depednent variables"
   ]
  },
  {
   "cell_type": "code",
   "execution_count": 132,
   "metadata": {},
   "outputs": [],
   "source": [
    "y_idx = grep(\"rating\", colnames(cereal_train_df))\n",
    "y_train_cereal = cereal_train_df[,y_idx]\n",
    "X_train_cereal = cereal_train_df[,-y_idx]\n",
    "y_test_cereal = cereal_test_df[,y_idx]\n",
    "X_test_cereal = cereal_test_df[,-y_idx]"
   ]
  },
  {
   "cell_type": "markdown",
   "metadata": {},
   "source": [
    "### Least Square Method\n",
    "- we will fit a liear model using lm() function without performing any feature selection technique. We will use this model as our baseline model to compare with other models"
   ]
  },
  {
   "cell_type": "code",
   "execution_count": 133,
   "metadata": {},
   "outputs": [],
   "source": [
    "lm_mod_cereal <- lm(formula = rating ~.,data = cereal_train_df)"
   ]
  },
  {
   "cell_type": "markdown",
   "metadata": {},
   "source": [
    "#### Calculate MSE"
   ]
  },
  {
   "cell_type": "code",
   "execution_count": 390,
   "metadata": {},
   "outputs": [
    {
     "name": "stdout",
     "output_type": "stream",
     "text": [
      "MSE for least-square method model:  2.972988e-13"
     ]
    }
   ],
   "source": [
    "MSE_cereal = mse(y_test_cereal,y_pred_cereal)\n",
    "cat(\"MSE for least-square method model: \", MSE_cereal)"
   ]
  },
  {
   "cell_type": "markdown",
   "metadata": {},
   "source": [
    "## Part (b) Forward Subset Selection\n",
    "- we will perform forward subset selection to generate a new model\n",
    "- we will explore two methods to choose the best combination of variables for this method\n",
    "    - in-sample method by looking at rss, adjusted R-square, Cp, and BIC\n",
    "    - validation set method, by using a test data set "
   ]
  },
  {
   "cell_type": "markdown",
   "metadata": {},
   "source": [
    "### Forward  subset selection In sample Method"
   ]
  },
  {
   "cell_type": "code",
   "execution_count": 173,
   "metadata": {},
   "outputs": [],
   "source": [
    "regfit_fwd <- regsubsets(rating~., data=cereal_df, nbest = 1, nvmax= 14, method=\"forward\")"
   ]
  },
  {
   "cell_type": "code",
   "execution_count": 174,
   "metadata": {},
   "outputs": [],
   "source": [
    "regfit_fwd_sum <- summary(regfit_fwd)"
   ]
  },
  {
   "cell_type": "code",
   "execution_count": null,
   "metadata": {},
   "outputs": [],
   "source": []
  },
  {
   "cell_type": "code",
   "execution_count": 175,
   "metadata": {},
   "outputs": [
    {
     "data": {
      "text/html": [
       "<table>\n",
       "<thead><tr><th></th><th scope=col>mfr</th><th scope=col>type</th><th scope=col>calories</th><th scope=col>protein</th><th scope=col>fat</th><th scope=col>sodium</th><th scope=col>fiber</th><th scope=col>carbo</th><th scope=col>sugars</th><th scope=col>potass</th><th scope=col>vitamins</th><th scope=col>shelf</th><th scope=col>weight</th><th scope=col>cups</th></tr></thead>\n",
       "<tbody>\n",
       "\t<tr><th scope=row>1  ( 1 )</th><td> </td><td> </td><td> </td><td> </td><td> </td><td> </td><td> </td><td> </td><td>*</td><td> </td><td> </td><td> </td><td> </td><td> </td></tr>\n",
       "\t<tr><th scope=row>2  ( 1 )</th><td> </td><td> </td><td> </td><td> </td><td> </td><td> </td><td>*</td><td> </td><td>*</td><td> </td><td> </td><td> </td><td> </td><td> </td></tr>\n",
       "\t<tr><th scope=row>3  ( 1 )</th><td> </td><td> </td><td> </td><td> </td><td> </td><td>*</td><td>*</td><td> </td><td>*</td><td> </td><td> </td><td> </td><td> </td><td> </td></tr>\n",
       "\t<tr><th scope=row>4  ( 1 )</th><td> </td><td> </td><td> </td><td> </td><td>*</td><td>*</td><td>*</td><td> </td><td>*</td><td> </td><td> </td><td> </td><td> </td><td> </td></tr>\n",
       "\t<tr><th scope=row>5  ( 1 )</th><td> </td><td> </td><td> </td><td>*</td><td>*</td><td>*</td><td>*</td><td> </td><td>*</td><td> </td><td> </td><td> </td><td> </td><td> </td></tr>\n",
       "\t<tr><th scope=row>6  ( 1 )</th><td> </td><td> </td><td> </td><td>*</td><td>*</td><td>*</td><td>*</td><td>*</td><td>*</td><td> </td><td> </td><td> </td><td> </td><td> </td></tr>\n",
       "\t<tr><th scope=row>7  ( 1 )</th><td> </td><td> </td><td>*</td><td>*</td><td>*</td><td>*</td><td>*</td><td>*</td><td>*</td><td> </td><td> </td><td> </td><td> </td><td> </td></tr>\n",
       "\t<tr><th scope=row>8  ( 1 )</th><td> </td><td> </td><td>*</td><td>*</td><td>*</td><td>*</td><td>*</td><td>*</td><td>*</td><td> </td><td>*</td><td> </td><td> </td><td> </td></tr>\n",
       "\t<tr><th scope=row>9  ( 1 )</th><td> </td><td> </td><td>*</td><td>*</td><td>*</td><td>*</td><td>*</td><td>*</td><td>*</td><td>*</td><td>*</td><td> </td><td> </td><td> </td></tr>\n",
       "\t<tr><th scope=row>10  ( 1 )</th><td> </td><td> </td><td>*</td><td>*</td><td>*</td><td>*</td><td>*</td><td>*</td><td>*</td><td>*</td><td>*</td><td> </td><td> </td><td>*</td></tr>\n",
       "\t<tr><th scope=row>11  ( 1 )</th><td> </td><td> </td><td>*</td><td>*</td><td>*</td><td>*</td><td>*</td><td>*</td><td>*</td><td>*</td><td>*</td><td> </td><td>*</td><td>*</td></tr>\n",
       "\t<tr><th scope=row>12  ( 1 )</th><td> </td><td> </td><td>*</td><td>*</td><td>*</td><td>*</td><td>*</td><td>*</td><td>*</td><td>*</td><td>*</td><td>*</td><td>*</td><td>*</td></tr>\n",
       "\t<tr><th scope=row>13  ( 1 )</th><td>*</td><td> </td><td>*</td><td>*</td><td>*</td><td>*</td><td>*</td><td>*</td><td>*</td><td>*</td><td>*</td><td>*</td><td>*</td><td>*</td></tr>\n",
       "\t<tr><th scope=row>14  ( 1 )</th><td>*</td><td>*</td><td>*</td><td>*</td><td>*</td><td>*</td><td>*</td><td>*</td><td>*</td><td>*</td><td>*</td><td>*</td><td>*</td><td>*</td></tr>\n",
       "</tbody>\n",
       "</table>\n"
      ],
      "text/latex": [
       "\\begin{tabular}{r|llllllllllllll}\n",
       "  & mfr & type & calories & protein & fat & sodium & fiber & carbo & sugars & potass & vitamins & shelf & weight & cups\\\\\n",
       "\\hline\n",
       "\t1  ( 1 ) &   &   &   &   &   &   &   &   & * &   &   &   &   &  \\\\\n",
       "\t2  ( 1 ) &   &   &   &   &   &   & * &   & * &   &   &   &   &  \\\\\n",
       "\t3  ( 1 ) &   &   &   &   &   & * & * &   & * &   &   &   &   &  \\\\\n",
       "\t4  ( 1 ) &   &   &   &   & * & * & * &   & * &   &   &   &   &  \\\\\n",
       "\t5  ( 1 ) &   &   &   & * & * & * & * &   & * &   &   &   &   &  \\\\\n",
       "\t6  ( 1 ) &   &   &   & * & * & * & * & * & * &   &   &   &   &  \\\\\n",
       "\t7  ( 1 ) &   &   & * & * & * & * & * & * & * &   &   &   &   &  \\\\\n",
       "\t8  ( 1 ) &   &   & * & * & * & * & * & * & * &   & * &   &   &  \\\\\n",
       "\t9  ( 1 ) &   &   & * & * & * & * & * & * & * & * & * &   &   &  \\\\\n",
       "\t10  ( 1 ) &   &   & * & * & * & * & * & * & * & * & * &   &   & *\\\\\n",
       "\t11  ( 1 ) &   &   & * & * & * & * & * & * & * & * & * &   & * & *\\\\\n",
       "\t12  ( 1 ) &   &   & * & * & * & * & * & * & * & * & * & * & * & *\\\\\n",
       "\t13  ( 1 ) & * &   & * & * & * & * & * & * & * & * & * & * & * & *\\\\\n",
       "\t14  ( 1 ) & * & * & * & * & * & * & * & * & * & * & * & * & * & *\\\\\n",
       "\\end{tabular}\n"
      ],
      "text/markdown": [
       "\n",
       "| <!--/--> | mfr | type | calories | protein | fat | sodium | fiber | carbo | sugars | potass | vitamins | shelf | weight | cups |\n",
       "|---|---|---|---|---|---|---|---|---|---|---|---|---|---|---|\n",
       "| 1  ( 1 ) |   |   |   |   |   |   |   |   | * |   |   |   |   |   |\n",
       "| 2  ( 1 ) |   |   |   |   |   |   | * |   | * |   |   |   |   |   |\n",
       "| 3  ( 1 ) |   |   |   |   |   | * | * |   | * |   |   |   |   |   |\n",
       "| 4  ( 1 ) |   |   |   |   | * | * | * |   | * |   |   |   |   |   |\n",
       "| 5  ( 1 ) |   |   |   | * | * | * | * |   | * |   |   |   |   |   |\n",
       "| 6  ( 1 ) |   |   |   | * | * | * | * | * | * |   |   |   |   |   |\n",
       "| 7  ( 1 ) |   |   | * | * | * | * | * | * | * |   |   |   |   |   |\n",
       "| 8  ( 1 ) |   |   | * | * | * | * | * | * | * |   | * |   |   |   |\n",
       "| 9  ( 1 ) |   |   | * | * | * | * | * | * | * | * | * |   |   |   |\n",
       "| 10  ( 1 ) |   |   | * | * | * | * | * | * | * | * | * |   |   | * |\n",
       "| 11  ( 1 ) |   |   | * | * | * | * | * | * | * | * | * |   | * | * |\n",
       "| 12  ( 1 ) |   |   | * | * | * | * | * | * | * | * | * | * | * | * |\n",
       "| 13  ( 1 ) | * |   | * | * | * | * | * | * | * | * | * | * | * | * |\n",
       "| 14  ( 1 ) | * | * | * | * | * | * | * | * | * | * | * | * | * | * |\n",
       "\n"
      ],
      "text/plain": [
       "          mfr type calories protein fat sodium fiber carbo sugars potass\n",
       "1  ( 1 )                                                   *            \n",
       "2  ( 1 )                                       *           *            \n",
       "3  ( 1 )                                *      *           *            \n",
       "4  ( 1 )                            *   *      *           *            \n",
       "5  ( 1 )                    *       *   *      *           *            \n",
       "6  ( 1 )                    *       *   *      *     *     *            \n",
       "7  ( 1 )           *        *       *   *      *     *     *            \n",
       "8  ( 1 )           *        *       *   *      *     *     *            \n",
       "9  ( 1 )           *        *       *   *      *     *     *      *     \n",
       "10  ( 1 )          *        *       *   *      *     *     *      *     \n",
       "11  ( 1 )          *        *       *   *      *     *     *      *     \n",
       "12  ( 1 )          *        *       *   *      *     *     *      *     \n",
       "13  ( 1 ) *        *        *       *   *      *     *     *      *     \n",
       "14  ( 1 ) *   *    *        *       *   *      *     *     *      *     \n",
       "          vitamins shelf weight cups\n",
       "1  ( 1 )                            \n",
       "2  ( 1 )                            \n",
       "3  ( 1 )                            \n",
       "4  ( 1 )                            \n",
       "5  ( 1 )                            \n",
       "6  ( 1 )                            \n",
       "7  ( 1 )                            \n",
       "8  ( 1 )  *                         \n",
       "9  ( 1 )  *                         \n",
       "10  ( 1 ) *                     *   \n",
       "11  ( 1 ) *              *      *   \n",
       "12  ( 1 ) *        *     *      *   \n",
       "13  ( 1 ) *        *     *      *   \n",
       "14  ( 1 ) *        *     *      *   "
      ]
     },
     "metadata": {},
     "output_type": "display_data"
    }
   ],
   "source": [
    "regfit_fwd_sum$outmat"
   ]
  },
  {
   "cell_type": "markdown",
   "metadata": {},
   "source": [
    "- we can see that \"sugars\" have been included in every variable"
   ]
  },
  {
   "cell_type": "code",
   "execution_count": 176,
   "metadata": {},
   "outputs": [
    {
     "data": {
      "image/png": "[encoded data removed]",
      "text/plain": [
       "plot without title"
      ]
     },
     "metadata": {},
     "output_type": "display_data"
    }
   ],
   "source": [
    "par(mfrow=c(2,2))\n",
    "\n",
    "plot(regfit_fwd_sum$rss,xlab = \"Number of Variables\", ylab = \"RSS\", type = \"l\")\n",
    "min_rss <- which.min(regfit_fwd_sum$rss)\n",
    "points(min_rss,regfit_fwd_sum$rss[min_rss],col=\"red\",cex=2,pch=20)\n",
    "\n",
    "plot(regfit_fwd_sum$adjr2,xlab = \"Number of Variables\", ylab = \"Adjusted Rsq\", type = \"l\")\n",
    "max_adjrsq <- which.max(regfit_fwd_sum$adjr2)\n",
    "points(max_adjrsq,regfit_fwd_sum$adjr2[max_adjrsq],col=\"red\",cex=2,pch=20)\n",
    "\n",
    "plot(regfit_fwd_sum$cp,xlab = \"Number of Variables\", ylab = \"Cp\", type = \"l\")\n",
    "min_cp <- which.min(regfit_fwd_sum$cp)\n",
    "points(min_cp,regfit_fwd_sum$cp[min_cp],col=\"red\",cex=2,pch=20)\n",
    "\n",
    "plot(regfit_fwd_sum$bic,xlab = \"Number of Variables\", ylab = \"BIC\", type = \"l\")\n",
    "min_bic <- which.min(regfit_fwd_sum$bic)\n",
    "points(min_bic,regfit_fwd_sum$bic[min_bic],col=\"red\",cex=2,pch=20)"
   ]
  },
  {
   "cell_type": "code",
   "execution_count": 177,
   "metadata": {},
   "outputs": [
    {
     "data": {
      "text/html": [
       "<table>\n",
       "<thead><tr><th scope=col>min_rss</th><th scope=col>max_adj</th><th scope=col>min_cp</th><th scope=col>min_bic</th></tr></thead>\n",
       "<tbody>\n",
       "\t<tr><td>14</td><td>9 </td><td>9 </td><td>9 </td></tr>\n",
       "</tbody>\n",
       "</table>\n"
      ],
      "text/latex": [
       "\\begin{tabular}{llll}\n",
       " min\\_rss & max\\_adj & min\\_cp & min\\_bic\\\\\n",
       "\\hline\n",
       "\t 14 & 9  & 9  & 9 \\\\\n",
       "\\end{tabular}\n"
      ],
      "text/markdown": [
       "\n",
       "| min_rss | max_adj | min_cp | min_bic |\n",
       "|---|---|---|---|\n",
       "| 14 | 9  | 9  | 9  |\n",
       "\n"
      ],
      "text/plain": [
       "     min_rss max_adj min_cp min_bic\n",
       "[1,] 14      9       9      9      "
      ]
     },
     "metadata": {},
     "output_type": "display_data"
    }
   ],
   "source": [
    "cbind(min_rss,max_adj,min_cp,min_bic)"
   ]
  },
  {
   "cell_type": "markdown",
   "metadata": {},
   "source": [
    "- By looking at rss, adjusted R-squared, Cp and BIC, we can see that adjusted R-squared is largest, Cp and BIC are lowest with the 9-variable model. Rss is smallest with 14-variable model, although you can see 9-variable model performs similarly accordin to the graph above. Notice this is a big decrease in BIC going from 8 to 9 variables. \n",
    "- We will generate a 9-variable model using the in-sample method. cbind(min_rss,max_adj,min_cp,min_bic)"
   ]
  },
  {
   "cell_type": "code",
   "execution_count": 409,
   "metadata": {},
   "outputs": [],
   "source": [
    "coef_fwd_insample = coef(regfit_fwd,9)\n"
   ]
  },
  {
   "cell_type": "code",
   "execution_count": 393,
   "metadata": {},
   "outputs": [],
   "source": [
    "mat_cereal = model.matrix(cereal_df$rating~.,data=cereal_df)"
   ]
  },
  {
   "cell_type": "code",
   "execution_count": 395,
   "metadata": {},
   "outputs": [],
   "source": [
    "y_pred_cereal_fwd = mat_cereal[,names(coef_fwd_insample)] %*% coef_fwd_insample"
   ]
  },
  {
   "cell_type": "markdown",
   "metadata": {},
   "source": [
    "#### Calculate MSE"
   ]
  },
  {
   "cell_type": "code",
   "execution_count": 402,
   "metadata": {},
   "outputs": [
    {
     "name": "stdout",
     "output_type": "stream",
     "text": [
      "MSE for forward subset selection using the in-sample method is: 7.970696e-14"
     ]
    }
   ],
   "source": [
    "MSE_fwd_insample = mse(cereal_df$rating,y_pred_cereal_fwd)\n",
    "cat(\"MSE for forward subset selection using the in-sample method is:\", MSE_fwd_insample)"
   ]
  },
  {
   "cell_type": "markdown",
   "metadata": {},
   "source": [
    "### Model selection for forward method using the validation set approach "
   ]
  },
  {
   "cell_type": "code",
   "execution_count": 179,
   "metadata": {},
   "outputs": [],
   "source": [
    "regfit_fwd_train <- regsubsets(cereal_train_df$rating~., data=cereal_train_df, nbest = 1, nvmax= 14, method=\"forward\")"
   ]
  },
  {
   "cell_type": "code",
   "execution_count": 181,
   "metadata": {},
   "outputs": [],
   "source": [
    "test_mat_cereal = model.matrix(cereal_test_df$rating~.,data=cereal_test_df)"
   ]
  },
  {
   "cell_type": "code",
   "execution_count": 182,
   "metadata": {},
   "outputs": [],
   "source": [
    "cv_err_cereal_fwd <- rep(NA,14) \n",
    "for (i in 1:14){\n",
    "    coefi = coef(regfit_fwd_train,id=i)\n",
    "    pred = test_mat_cereal[,names(coefi)] %*% coefi\n",
    "    cv_err_cereal_fwd[i] = mse(y_test_cereal,pred)\n",
    "}"
   ]
  },
  {
   "cell_type": "code",
   "execution_count": 534,
   "metadata": {},
   "outputs": [
    {
     "data": {
      "text/html": [
       "10"
      ],
      "text/latex": [
       "10"
      ],
      "text/markdown": [
       "10"
      ],
      "text/plain": [
       "[1] 10"
      ]
     },
     "metadata": {},
     "output_type": "display_data"
    }
   ],
   "source": [
    "which.min(cv_err_cereal_fwd)"
   ]
  },
  {
   "cell_type": "markdown",
   "metadata": {},
   "source": [
    "- Model with 10 variables yielded the lowest cross validation error, this will be our final model for forward subset selection using the validation set method"
   ]
  },
  {
   "cell_type": "markdown",
   "metadata": {},
   "source": [
    "#### Calculate MSE"
   ]
  },
  {
   "cell_type": "code",
   "execution_count": 525,
   "metadata": {},
   "outputs": [
    {
     "name": "stdout",
     "output_type": "stream",
     "text": [
      "MSE for forward subset selection using the validation set method is: 2.344651e-13"
     ]
    }
   ],
   "source": [
    "MSE_fwd_valset = min(cv_err_cereal_fwd)\n",
    "cat(\"MSE for forward subset selection using the validation set method is:\", MSE_fwd_valset)"
   ]
  },
  {
   "cell_type": "code",
   "execution_count": 407,
   "metadata": {},
   "outputs": [],
   "source": [
    "coef_fwd_valset = coef(regfit_fwd_train,10)"
   ]
  },
  {
   "cell_type": "code",
   "execution_count": 417,
   "metadata": {},
   "outputs": [
    {
     "data": {
      "text/html": [
       "<dl class=dl-horizontal>\n",
       "\t<dt>(Intercept)</dt>\n",
       "\t\t<dd>53.2917843641118</dd>\n",
       "\t<dt>protein</dt>\n",
       "\t\t<dd>2.79094178500666</dd>\n",
       "\t<dt>fat</dt>\n",
       "\t\t<dd>-3.64590156361347</dd>\n",
       "\t<dt>sodium</dt>\n",
       "\t\t<dd>-0.053274455224439</dd>\n",
       "\t<dt>fiber</dt>\n",
       "\t\t<dd>3.29380148718158</dd>\n",
       "\t<dt>carbo</dt>\n",
       "\t\t<dd>0.119509518678946</dd>\n",
       "\t<dt>sugars</dt>\n",
       "\t\t<dd>-1.60217890828136</dd>\n",
       "\t<dt>potass</dt>\n",
       "\t\t<dd>-0.0329449795814349</dd>\n",
       "\t<dt>vitamins</dt>\n",
       "\t\t<dd>-0.0523762521717826</dd>\n",
       "\t<dt>cups</dt>\n",
       "\t\t<dd>1.84828306401681</dd>\n",
       "</dl>\n"
      ],
      "text/latex": [
       "\\begin{description*}\n",
       "\\item[(Intercept)] 53.2917843641118\n",
       "\\item[protein] 2.79094178500666\n",
       "\\item[fat] -3.64590156361347\n",
       "\\item[sodium] -0.053274455224439\n",
       "\\item[fiber] 3.29380148718158\n",
       "\\item[carbo] 0.119509518678946\n",
       "\\item[sugars] -1.60217890828136\n",
       "\\item[potass] -0.0329449795814349\n",
       "\\item[vitamins] -0.0523762521717826\n",
       "\\item[cups] 1.84828306401681\n",
       "\\end{description*}\n"
      ],
      "text/markdown": [
       "(Intercept)\n",
       ":   53.2917843641118protein\n",
       ":   2.79094178500666fat\n",
       ":   -3.64590156361347sodium\n",
       ":   -0.053274455224439fiber\n",
       ":   3.29380148718158carbo\n",
       ":   0.119509518678946sugars\n",
       ":   -1.60217890828136potass\n",
       ":   -0.0329449795814349vitamins\n",
       ":   -0.0523762521717826cups\n",
       ":   1.84828306401681\n",
       "\n"
      ],
      "text/plain": [
       "(Intercept)     protein         fat      sodium       fiber       carbo \n",
       "53.29178436  2.79094179 -3.64590156 -0.05327446  3.29380149  0.11950952 \n",
       "     sugars      potass    vitamins        cups \n",
       "-1.60217891 -0.03294498 -0.05237625  1.84828306 "
      ]
     },
     "metadata": {},
     "output_type": "display_data"
    }
   ],
   "source": [
    "coef(regfit_fwd_train,9)\n"
   ]
  },
  {
   "cell_type": "markdown",
   "metadata": {},
   "source": [
    "### Comparing the two methods for subset section: in-sample and validation set approach"
   ]
  },
  {
   "cell_type": "code",
   "execution_count": 406,
   "metadata": {},
   "outputs": [
    {
     "data": {
      "text/html": [
       "<table>\n",
       "<thead><tr><th scope=col>MSE_fwd_insample</th><th scope=col>MSE_fwd_valset</th></tr></thead>\n",
       "<tbody>\n",
       "\t<tr><td>7.970696e-14</td><td>2.344651e-13</td></tr>\n",
       "</tbody>\n",
       "</table>\n"
      ],
      "text/latex": [
       "\\begin{tabular}{ll}\n",
       " MSE\\_fwd\\_insample & MSE\\_fwd\\_valset\\\\\n",
       "\\hline\n",
       "\t 7.970696e-14 & 2.344651e-13\\\\\n",
       "\\end{tabular}\n"
      ],
      "text/markdown": [
       "\n",
       "| MSE_fwd_insample | MSE_fwd_valset |\n",
       "|---|---|\n",
       "| 7.970696e-14 | 2.344651e-13 |\n",
       "\n"
      ],
      "text/plain": [
       "     MSE_fwd_insample MSE_fwd_valset\n",
       "[1,] 7.970696e-14     2.344651e-13  "
      ]
     },
     "metadata": {},
     "output_type": "display_data"
    }
   ],
   "source": [
    "cbind(MSE_fwd_insample,MSE_fwd_valset)"
   ]
  },
  {
   "cell_type": "code",
   "execution_count": 416,
   "metadata": {},
   "outputs": [
    {
     "name": "stdout",
     "output_type": "stream",
     "text": [
      "[1] \"cofficients included in the final model using the in-sample method, and it has a total of 9 variables: \"\n"
     ]
    },
    {
     "data": {
      "text/html": [
       "<dl class=dl-horizontal>\n",
       "\t<dt>(Intercept)</dt>\n",
       "\t\t<dd>54.9271841950588</dd>\n",
       "\t<dt>calories</dt>\n",
       "\t\t<dd>-0.222724165705644</dd>\n",
       "\t<dt>protein</dt>\n",
       "\t\t<dd>3.27317386835415</dd>\n",
       "\t<dt>fat</dt>\n",
       "\t\t<dd>-1.6914079966361</dd>\n",
       "\t<dt>sodium</dt>\n",
       "\t\t<dd>-0.0544927022174234</dd>\n",
       "\t<dt>fiber</dt>\n",
       "\t\t<dd>3.44347977073152</dd>\n",
       "\t<dt>carbo</dt>\n",
       "\t\t<dd>1.09245094414232</dd>\n",
       "\t<dt>sugars</dt>\n",
       "\t\t<dd>-0.724895140896281</dd>\n",
       "\t<dt>potass</dt>\n",
       "\t\t<dd>-0.0339933511228597</dd>\n",
       "\t<dt>vitamins</dt>\n",
       "\t\t<dd>-0.0512119694161837</dd>\n",
       "</dl>\n"
      ],
      "text/latex": [
       "\\begin{description*}\n",
       "\\item[(Intercept)] 54.9271841950588\n",
       "\\item[calories] -0.222724165705644\n",
       "\\item[protein] 3.27317386835415\n",
       "\\item[fat] -1.6914079966361\n",
       "\\item[sodium] -0.0544927022174234\n",
       "\\item[fiber] 3.44347977073152\n",
       "\\item[carbo] 1.09245094414232\n",
       "\\item[sugars] -0.724895140896281\n",
       "\\item[potass] -0.0339933511228597\n",
       "\\item[vitamins] -0.0512119694161837\n",
       "\\end{description*}\n"
      ],
      "text/markdown": [
       "(Intercept)\n",
       ":   54.9271841950588calories\n",
       ":   -0.222724165705644protein\n",
       ":   3.27317386835415fat\n",
       ":   -1.6914079966361sodium\n",
       ":   -0.0544927022174234fiber\n",
       ":   3.44347977073152carbo\n",
       ":   1.09245094414232sugars\n",
       ":   -0.724895140896281potass\n",
       ":   -0.0339933511228597vitamins\n",
       ":   -0.0512119694161837\n",
       "\n"
      ],
      "text/plain": [
       "(Intercept)    calories     protein         fat      sodium       fiber \n",
       "54.92718420 -0.22272417  3.27317387 -1.69140800 -0.05449270  3.44347977 \n",
       "      carbo      sugars      potass    vitamins \n",
       " 1.09245094 -0.72489514 -0.03399335 -0.05121197 "
      ]
     },
     "metadata": {},
     "output_type": "display_data"
    },
    {
     "name": "stdout",
     "output_type": "stream",
     "text": [
      "[1] \"cofficients included in the final model using the in-validation set method, and it has a total of 10 variables: \"\n"
     ]
    },
    {
     "data": {
      "text/html": [
       "<dl class=dl-horizontal>\n",
       "\t<dt>(Intercept)</dt>\n",
       "\t\t<dd>54.9271839743419</dd>\n",
       "\t<dt>calories</dt>\n",
       "\t\t<dd>-0.222724176660115</dd>\n",
       "\t<dt>protein</dt>\n",
       "\t\t<dd>3.27317378195982</dd>\n",
       "\t<dt>fat</dt>\n",
       "\t\t<dd>-1.6914078465002</dd>\n",
       "\t<dt>sodium</dt>\n",
       "\t\t<dd>-0.0544927036009103</dd>\n",
       "\t<dt>fiber</dt>\n",
       "\t\t<dd>3.44347980850732</dd>\n",
       "\t<dt>carbo</dt>\n",
       "\t\t<dd>1.09245101657234</dd>\n",
       "\t<dt>sugars</dt>\n",
       "\t\t<dd>-0.724895086932914</dd>\n",
       "\t<dt>potass</dt>\n",
       "\t\t<dd>-0.0339933504588502</dd>\n",
       "\t<dt>vitamins</dt>\n",
       "\t\t<dd>-0.051211969006637</dd>\n",
       "\t<dt>cups</dt>\n",
       "\t\t<dd>5.15897959907363e-08</dd>\n",
       "</dl>\n"
      ],
      "text/latex": [
       "\\begin{description*}\n",
       "\\item[(Intercept)] 54.9271839743419\n",
       "\\item[calories] -0.222724176660115\n",
       "\\item[protein] 3.27317378195982\n",
       "\\item[fat] -1.6914078465002\n",
       "\\item[sodium] -0.0544927036009103\n",
       "\\item[fiber] 3.44347980850732\n",
       "\\item[carbo] 1.09245101657234\n",
       "\\item[sugars] -0.724895086932914\n",
       "\\item[potass] -0.0339933504588502\n",
       "\\item[vitamins] -0.051211969006637\n",
       "\\item[cups] 5.15897959907363e-08\n",
       "\\end{description*}\n"
      ],
      "text/markdown": [
       "(Intercept)\n",
       ":   54.9271839743419calories\n",
       ":   -0.222724176660115protein\n",
       ":   3.27317378195982fat\n",
       ":   -1.6914078465002sodium\n",
       ":   -0.0544927036009103fiber\n",
       ":   3.44347980850732carbo\n",
       ":   1.09245101657234sugars\n",
       ":   -0.724895086932914potass\n",
       ":   -0.0339933504588502vitamins\n",
       ":   -0.051211969006637cups\n",
       ":   5.15897959907363e-08\n",
       "\n"
      ],
      "text/plain": [
       "  (Intercept)      calories       protein           fat        sodium \n",
       " 5.492718e+01 -2.227242e-01  3.273174e+00 -1.691408e+00 -5.449270e-02 \n",
       "        fiber         carbo        sugars        potass      vitamins \n",
       " 3.443480e+00  1.092451e+00 -7.248951e-01 -3.399335e-02 -5.121197e-02 \n",
       "         cups \n",
       " 5.158980e-08 "
      ]
     },
     "metadata": {},
     "output_type": "display_data"
    }
   ],
   "source": [
    "print(\"cofficients included in the final model using the in-sample method, and it has a total of 9 variables: \")\n",
    "coef_fwd_insample\n",
    "\n",
    "print(\"cofficients included in the final model using the in-validation set method, and it has a total of 10 variables: \")\n",
    "coef_fwd_valset"
   ]
  },
  {
   "cell_type": "markdown",
   "metadata": {},
   "source": [
    "- we can see that the best model using the validation set approach included 10 variables, 1 more than the in-sample method. The validation set model had an additional variable - \"cups\", but everything else is the same.\n",
    "- we can see that the MSE for the validation set is higher than the MSE for the in-sample method, in this case. This could be due to that the in-sample method is performed using whole dataset. However, this method could be subject to error, since the number of variables that will be included in the final model is up to the person who is performing the subset selection. (although here, we took the min, since BIC had a substantial decrease from 8-variable model to 9-variable model.\" Even though the MSE calculated using the validation set approach, is higher, however, the it is in general a pretty small MSE with a value of ~2.344e-13."
   ]
  },
  {
   "cell_type": "markdown",
   "metadata": {},
   "source": [
    "## Part (c) Best Subset/ Exhaustive Subset Selection\n",
    "- we will do perform the same methods in part(b) for exhaustive subset selection, using both the in-sample and validation set approach"
   ]
  },
  {
   "cell_type": "markdown",
   "metadata": {},
   "source": [
    "### Exhaustive subset selection"
   ]
  },
  {
   "cell_type": "code",
   "execution_count": 185,
   "metadata": {},
   "outputs": [],
   "source": [
    "regfit_exh <- regsubsets(rating~., data=cereal_df, nbest = 1, nvmax=14, method='exhaustive')"
   ]
  },
  {
   "cell_type": "code",
   "execution_count": 186,
   "metadata": {},
   "outputs": [],
   "source": [
    "regfit_exh_sum <- summary(regfit_exh)"
   ]
  },
  {
   "cell_type": "code",
   "execution_count": 187,
   "metadata": {},
   "outputs": [
    {
     "data": {
      "text/html": [
       "<table>\n",
       "<thead><tr><th></th><th scope=col>mfr</th><th scope=col>type</th><th scope=col>calories</th><th scope=col>protein</th><th scope=col>fat</th><th scope=col>sodium</th><th scope=col>fiber</th><th scope=col>carbo</th><th scope=col>sugars</th><th scope=col>potass</th><th scope=col>vitamins</th><th scope=col>shelf</th><th scope=col>weight</th><th scope=col>cups</th></tr></thead>\n",
       "<tbody>\n",
       "\t<tr><th scope=row>1  ( 1 )</th><td> </td><td> </td><td> </td><td> </td><td> </td><td> </td><td> </td><td> </td><td>*</td><td> </td><td> </td><td> </td><td> </td><td> </td></tr>\n",
       "\t<tr><th scope=row>2  ( 1 )</th><td> </td><td> </td><td> </td><td> </td><td> </td><td> </td><td>*</td><td> </td><td>*</td><td> </td><td> </td><td> </td><td> </td><td> </td></tr>\n",
       "\t<tr><th scope=row>3  ( 1 )</th><td> </td><td> </td><td> </td><td> </td><td> </td><td>*</td><td>*</td><td> </td><td>*</td><td> </td><td> </td><td> </td><td> </td><td> </td></tr>\n",
       "\t<tr><th scope=row>4  ( 1 )</th><td> </td><td> </td><td> </td><td> </td><td>*</td><td>*</td><td>*</td><td> </td><td>*</td><td> </td><td> </td><td> </td><td> </td><td> </td></tr>\n",
       "\t<tr><th scope=row>5  ( 1 )</th><td> </td><td> </td><td>*</td><td>*</td><td> </td><td>*</td><td>*</td><td>*</td><td> </td><td> </td><td> </td><td> </td><td> </td><td> </td></tr>\n",
       "\t<tr><th scope=row>6  ( 1 )</th><td> </td><td> </td><td>*</td><td>*</td><td> </td><td>*</td><td>*</td><td>*</td><td>*</td><td> </td><td> </td><td> </td><td> </td><td> </td></tr>\n",
       "\t<tr><th scope=row>7  ( 1 )</th><td> </td><td> </td><td>*</td><td>*</td><td>*</td><td>*</td><td>*</td><td>*</td><td>*</td><td> </td><td> </td><td> </td><td> </td><td> </td></tr>\n",
       "\t<tr><th scope=row>8  ( 1 )</th><td> </td><td> </td><td>*</td><td>*</td><td>*</td><td>*</td><td>*</td><td>*</td><td>*</td><td> </td><td>*</td><td> </td><td> </td><td> </td></tr>\n",
       "\t<tr><th scope=row>9  ( 1 )</th><td> </td><td> </td><td>*</td><td>*</td><td>*</td><td>*</td><td>*</td><td>*</td><td>*</td><td>*</td><td>*</td><td> </td><td> </td><td> </td></tr>\n",
       "\t<tr><th scope=row>10  ( 1 )</th><td> </td><td> </td><td>*</td><td>*</td><td>*</td><td>*</td><td>*</td><td>*</td><td>*</td><td>*</td><td>*</td><td> </td><td> </td><td>*</td></tr>\n",
       "\t<tr><th scope=row>11  ( 1 )</th><td> </td><td> </td><td>*</td><td>*</td><td>*</td><td>*</td><td>*</td><td>*</td><td>*</td><td>*</td><td>*</td><td> </td><td>*</td><td>*</td></tr>\n",
       "\t<tr><th scope=row>12  ( 1 )</th><td> </td><td> </td><td>*</td><td>*</td><td>*</td><td>*</td><td>*</td><td>*</td><td>*</td><td>*</td><td>*</td><td>*</td><td>*</td><td>*</td></tr>\n",
       "\t<tr><th scope=row>13  ( 1 )</th><td>*</td><td> </td><td>*</td><td>*</td><td>*</td><td>*</td><td>*</td><td>*</td><td>*</td><td>*</td><td>*</td><td>*</td><td>*</td><td>*</td></tr>\n",
       "\t<tr><th scope=row>14  ( 1 )</th><td>*</td><td>*</td><td>*</td><td>*</td><td>*</td><td>*</td><td>*</td><td>*</td><td>*</td><td>*</td><td>*</td><td>*</td><td>*</td><td>*</td></tr>\n",
       "</tbody>\n",
       "</table>\n"
      ],
      "text/latex": [
       "\\begin{tabular}{r|llllllllllllll}\n",
       "  & mfr & type & calories & protein & fat & sodium & fiber & carbo & sugars & potass & vitamins & shelf & weight & cups\\\\\n",
       "\\hline\n",
       "\t1  ( 1 ) &   &   &   &   &   &   &   &   & * &   &   &   &   &  \\\\\n",
       "\t2  ( 1 ) &   &   &   &   &   &   & * &   & * &   &   &   &   &  \\\\\n",
       "\t3  ( 1 ) &   &   &   &   &   & * & * &   & * &   &   &   &   &  \\\\\n",
       "\t4  ( 1 ) &   &   &   &   & * & * & * &   & * &   &   &   &   &  \\\\\n",
       "\t5  ( 1 ) &   &   & * & * &   & * & * & * &   &   &   &   &   &  \\\\\n",
       "\t6  ( 1 ) &   &   & * & * &   & * & * & * & * &   &   &   &   &  \\\\\n",
       "\t7  ( 1 ) &   &   & * & * & * & * & * & * & * &   &   &   &   &  \\\\\n",
       "\t8  ( 1 ) &   &   & * & * & * & * & * & * & * &   & * &   &   &  \\\\\n",
       "\t9  ( 1 ) &   &   & * & * & * & * & * & * & * & * & * &   &   &  \\\\\n",
       "\t10  ( 1 ) &   &   & * & * & * & * & * & * & * & * & * &   &   & *\\\\\n",
       "\t11  ( 1 ) &   &   & * & * & * & * & * & * & * & * & * &   & * & *\\\\\n",
       "\t12  ( 1 ) &   &   & * & * & * & * & * & * & * & * & * & * & * & *\\\\\n",
       "\t13  ( 1 ) & * &   & * & * & * & * & * & * & * & * & * & * & * & *\\\\\n",
       "\t14  ( 1 ) & * & * & * & * & * & * & * & * & * & * & * & * & * & *\\\\\n",
       "\\end{tabular}\n"
      ],
      "text/markdown": [
       "\n",
       "| <!--/--> | mfr | type | calories | protein | fat | sodium | fiber | carbo | sugars | potass | vitamins | shelf | weight | cups |\n",
       "|---|---|---|---|---|---|---|---|---|---|---|---|---|---|---|\n",
       "| 1  ( 1 ) |   |   |   |   |   |   |   |   | * |   |   |   |   |   |\n",
       "| 2  ( 1 ) |   |   |   |   |   |   | * |   | * |   |   |   |   |   |\n",
       "| 3  ( 1 ) |   |   |   |   |   | * | * |   | * |   |   |   |   |   |\n",
       "| 4  ( 1 ) |   |   |   |   | * | * | * |   | * |   |   |   |   |   |\n",
       "| 5  ( 1 ) |   |   | * | * |   | * | * | * |   |   |   |   |   |   |\n",
       "| 6  ( 1 ) |   |   | * | * |   | * | * | * | * |   |   |   |   |   |\n",
       "| 7  ( 1 ) |   |   | * | * | * | * | * | * | * |   |   |   |   |   |\n",
       "| 8  ( 1 ) |   |   | * | * | * | * | * | * | * |   | * |   |   |   |\n",
       "| 9  ( 1 ) |   |   | * | * | * | * | * | * | * | * | * |   |   |   |\n",
       "| 10  ( 1 ) |   |   | * | * | * | * | * | * | * | * | * |   |   | * |\n",
       "| 11  ( 1 ) |   |   | * | * | * | * | * | * | * | * | * |   | * | * |\n",
       "| 12  ( 1 ) |   |   | * | * | * | * | * | * | * | * | * | * | * | * |\n",
       "| 13  ( 1 ) | * |   | * | * | * | * | * | * | * | * | * | * | * | * |\n",
       "| 14  ( 1 ) | * | * | * | * | * | * | * | * | * | * | * | * | * | * |\n",
       "\n"
      ],
      "text/plain": [
       "          mfr type calories protein fat sodium fiber carbo sugars potass\n",
       "1  ( 1 )                                                   *            \n",
       "2  ( 1 )                                       *           *            \n",
       "3  ( 1 )                                *      *           *            \n",
       "4  ( 1 )                            *   *      *           *            \n",
       "5  ( 1 )           *        *           *      *     *                  \n",
       "6  ( 1 )           *        *           *      *     *     *            \n",
       "7  ( 1 )           *        *       *   *      *     *     *            \n",
       "8  ( 1 )           *        *       *   *      *     *     *            \n",
       "9  ( 1 )           *        *       *   *      *     *     *      *     \n",
       "10  ( 1 )          *        *       *   *      *     *     *      *     \n",
       "11  ( 1 )          *        *       *   *      *     *     *      *     \n",
       "12  ( 1 )          *        *       *   *      *     *     *      *     \n",
       "13  ( 1 ) *        *        *       *   *      *     *     *      *     \n",
       "14  ( 1 ) *   *    *        *       *   *      *     *     *      *     \n",
       "          vitamins shelf weight cups\n",
       "1  ( 1 )                            \n",
       "2  ( 1 )                            \n",
       "3  ( 1 )                            \n",
       "4  ( 1 )                            \n",
       "5  ( 1 )                            \n",
       "6  ( 1 )                            \n",
       "7  ( 1 )                            \n",
       "8  ( 1 )  *                         \n",
       "9  ( 1 )  *                         \n",
       "10  ( 1 ) *                     *   \n",
       "11  ( 1 ) *              *      *   \n",
       "12  ( 1 ) *        *     *      *   \n",
       "13  ( 1 ) *        *     *      *   \n",
       "14  ( 1 ) *        *     *      *   "
      ]
     },
     "metadata": {},
     "output_type": "display_data"
    }
   ],
   "source": [
    "regfit_exh_sum$outmat"
   ]
  },
  {
   "cell_type": "markdown",
   "metadata": {},
   "source": [
    "- we can see that \"sugar\" was included in also every model, but in 5-variable, \"sugars\" is not considered, since this is a greedy subset selection method"
   ]
  },
  {
   "cell_type": "code",
   "execution_count": 188,
   "metadata": {},
   "outputs": [
    {
     "data": {
      "image/png": "[encoded data removed]",
      "text/plain": [
       "plot without title"
      ]
     },
     "metadata": {},
     "output_type": "display_data"
    }
   ],
   "source": [
    "par(mfrow=c(2,2))\n",
    "plot(regfit_exh_sum$rss,xlab = \"Number of Variables\", ylab = \"Residual Sum of Squares\",type=\"l\")\n",
    "min_rss = which.min(regfit_exh_sum$rss)\n",
    "points(min_rss,regfit_exh_sum$rss[min_rss],col=\"red\",cex=2,pch=20)\n",
    "\n",
    "plot(regfit_exh_sum$adjr2,xlab = \"Number of Variables\", ylab = \"Adjusted R-Squared\",type=\"l\")\n",
    "max_adj = which.max(regfit_exh_sum$adjr2)\n",
    "points(max_adj,regfit_exh_sum$adjr2[max_adj],col=\"red\",cex=2,pch=20)\n",
    "\n",
    "plot(regfit_exh_sum$cp,xlab = \"Number of Variables\", ylab = \"Complexity Parameters\",type=\"l\")\n",
    "min_cp = which.min(regfit_exh_sum$cp)\n",
    "points(min_cp,regfit_exh_sum$cp[min_cp],col=\"red\",cex=2,pch=20)\n",
    "\n",
    "plot(regfit_exh_sum$bic,xlab = \"Number of Variables\", ylab = \"BIC\",type=\"l\")\n",
    "min_bic = which.min(regfit_exh_sum$bic)\n",
    "points(min_bic,regfit_exh_sum$bic[min_bic],col=\"red\",cex=2,pch=20)\n"
   ]
  },
  {
   "cell_type": "code",
   "execution_count": 189,
   "metadata": {},
   "outputs": [
    {
     "data": {
      "text/html": [
       "<table>\n",
       "<thead><tr><th scope=col>min_rss</th><th scope=col>max_adj</th><th scope=col>min_cp</th><th scope=col>min_bic</th></tr></thead>\n",
       "<tbody>\n",
       "\t<tr><td>14</td><td>9 </td><td>9 </td><td>9 </td></tr>\n",
       "</tbody>\n",
       "</table>\n"
      ],
      "text/latex": [
       "\\begin{tabular}{llll}\n",
       " min\\_rss & max\\_adj & min\\_cp & min\\_bic\\\\\n",
       "\\hline\n",
       "\t 14 & 9  & 9  & 9 \\\\\n",
       "\\end{tabular}\n"
      ],
      "text/markdown": [
       "\n",
       "| min_rss | max_adj | min_cp | min_bic |\n",
       "|---|---|---|---|\n",
       "| 14 | 9  | 9  | 9  |\n",
       "\n"
      ],
      "text/plain": [
       "     min_rss max_adj min_cp min_bic\n",
       "[1,] 14      9       9      9      "
      ]
     },
     "metadata": {},
     "output_type": "display_data"
    }
   ],
   "source": [
    "cbind(min_rss,max_adj,min_cp,min_bic)"
   ]
  },
  {
   "cell_type": "markdown",
   "metadata": {},
   "source": [
    "- By looking at rss, adjusted R-squared, Cp and BIC, we can see that adjusted R-squared is largest, Cp and BIC are lowest with the 9-variable model. Rss is smallest with 14-variable model, although you can see 9-variable model performs similarly accordin to the graph above. Notice this is a big decrease in BIC going from 8 to 9 variables. \n",
    "- We will generate a 9-variable model using the in-sample method. cbind(min_rss,max_adj,min_cp,min_bic)\n",
    "- note that this is very similar (even identical to the forward subset selection in sample appraoch)\n"
   ]
  },
  {
   "cell_type": "code",
   "execution_count": 418,
   "metadata": {},
   "outputs": [],
   "source": [
    "coef_exh_insample = coef(regfit_exh,9)"
   ]
  },
  {
   "cell_type": "code",
   "execution_count": 421,
   "metadata": {},
   "outputs": [],
   "source": [
    "y_pred_cereal_exh = mat_cereal[,names(coef_exh_insample)] %*% coef_fwd_insample"
   ]
  },
  {
   "cell_type": "markdown",
   "metadata": {},
   "source": [
    "#### Calculate MSE"
   ]
  },
  {
   "cell_type": "code",
   "execution_count": 420,
   "metadata": {},
   "outputs": [
    {
     "name": "stdout",
     "output_type": "stream",
     "text": [
      "MSE for best subset selection using the in-sample method is: 7.970696e-14"
     ]
    }
   ],
   "source": [
    "MSE_exh_insample = mse(cereal_df$rating,y_pred_cereal_exh)\n",
    "cat(\"MSE for best subset selection using the in-sample method is:\", MSE_exh_insample)"
   ]
  },
  {
   "cell_type": "markdown",
   "metadata": {},
   "source": [
    "- note that the MSE is identical as the forward selection method using the insample technique. This indicates that these two methods outputted two identical models"
   ]
  },
  {
   "cell_type": "markdown",
   "metadata": {},
   "source": [
    "### Model selection for exhaustive method using the validation set approach "
   ]
  },
  {
   "cell_type": "code",
   "execution_count": 191,
   "metadata": {},
   "outputs": [],
   "source": [
    "regfit_exh_train <- regsubsets(cereal_train_df$rating~., data=cereal_train_df, nbest = 1, nvmax= 14, method=\"exhaustive\")"
   ]
  },
  {
   "cell_type": "code",
   "execution_count": 192,
   "metadata": {},
   "outputs": [],
   "source": [
    "test_mat_cereal = model.matrix(cereal_test_df$rating~.,data=cereal_test_df)"
   ]
  },
  {
   "cell_type": "code",
   "execution_count": 193,
   "metadata": {},
   "outputs": [],
   "source": [
    "cv_err_cereal_exh <- rep(NA,14) \n",
    "for (i in 1:14){\n",
    "    coefi = coef(regfit_exh_train,id=i)\n",
    "    pred = test_mat_cereal[,names(coefi)] %*% coefi\n",
    "    cv_err_cereal_exh[i] = mse(y_test_cereal,pred)\n",
    "}"
   ]
  },
  {
   "cell_type": "code",
   "execution_count": 526,
   "metadata": {},
   "outputs": [
    {
     "data": {
      "text/html": [
       "9"
      ],
      "text/latex": [
       "9"
      ],
      "text/markdown": [
       "9"
      ],
      "text/plain": [
       "[1] 9"
      ]
     },
     "metadata": {},
     "output_type": "display_data"
    },
    {
     "name": "stdout",
     "output_type": "stream",
     "text": [
      "MSE for best subset selection using the vailidation-set method is: 2.4719e-13"
     ]
    }
   ],
   "source": [
    "which.min(cv_err_cereal_exh)\n",
    "MSE_exh_valset = min(cv_err_cereal_exh)\n",
    "cat(\"MSE for best subset selection using the vailidation-set method is:\", MSE_exh_valset)"
   ]
  },
  {
   "cell_type": "markdown",
   "metadata": {},
   "source": [
    "- Model with 9 variables yielded the lowest MSE, this will be our final model for best set selection using the validation set approach"
   ]
  },
  {
   "cell_type": "code",
   "execution_count": 422,
   "metadata": {},
   "outputs": [],
   "source": [
    "coef_exh_valset = coef(regfit_exh_train,9)"
   ]
  },
  {
   "cell_type": "markdown",
   "metadata": {},
   "source": [
    "### Comparing insample and validation set approach for best subset seletion"
   ]
  },
  {
   "cell_type": "code",
   "execution_count": 426,
   "metadata": {},
   "outputs": [
    {
     "data": {
      "text/html": [
       "<table>\n",
       "<thead><tr><th scope=col>MSE_exh_insample</th><th scope=col>MSE_exh_valset</th></tr></thead>\n",
       "<tbody>\n",
       "\t<tr><td>7.970696e-14</td><td>2.4719e-13  </td></tr>\n",
       "</tbody>\n",
       "</table>\n"
      ],
      "text/latex": [
       "\\begin{tabular}{ll}\n",
       " MSE\\_exh\\_insample & MSE\\_exh\\_valset\\\\\n",
       "\\hline\n",
       "\t 7.970696e-14 & 2.4719e-13  \\\\\n",
       "\\end{tabular}\n"
      ],
      "text/markdown": [
       "\n",
       "| MSE_exh_insample | MSE_exh_valset |\n",
       "|---|---|\n",
       "| 7.970696e-14 | 2.4719e-13   |\n",
       "\n"
      ],
      "text/plain": [
       "     MSE_exh_insample MSE_exh_valset\n",
       "[1,] 7.970696e-14     2.4719e-13    "
      ]
     },
     "metadata": {},
     "output_type": "display_data"
    }
   ],
   "source": [
    "cbind(MSE_exh_insample,MSE_exh_valset)"
   ]
  },
  {
   "cell_type": "code",
   "execution_count": 428,
   "metadata": {},
   "outputs": [
    {
     "name": "stdout",
     "output_type": "stream",
     "text": [
      "[1] \"cofficients included in the final model using the in-sample method, and it has a total of 9 variables: \"\n"
     ]
    },
    {
     "data": {
      "text/html": [
       "<dl class=dl-horizontal>\n",
       "\t<dt>(Intercept)</dt>\n",
       "\t\t<dd>54.9271841950587</dd>\n",
       "\t<dt>calories</dt>\n",
       "\t\t<dd>-0.222724165705644</dd>\n",
       "\t<dt>protein</dt>\n",
       "\t\t<dd>3.27317386835413</dd>\n",
       "\t<dt>fat</dt>\n",
       "\t\t<dd>-1.69140799663611</dd>\n",
       "\t<dt>sodium</dt>\n",
       "\t\t<dd>-0.0544927022174233</dd>\n",
       "\t<dt>fiber</dt>\n",
       "\t\t<dd>3.44347977073152</dd>\n",
       "\t<dt>carbo</dt>\n",
       "\t\t<dd>1.09245094414232</dd>\n",
       "\t<dt>sugars</dt>\n",
       "\t\t<dd>-0.724895140896283</dd>\n",
       "\t<dt>potass</dt>\n",
       "\t\t<dd>-0.0339933511228595</dd>\n",
       "\t<dt>vitamins</dt>\n",
       "\t\t<dd>-0.0512119694161837</dd>\n",
       "</dl>\n"
      ],
      "text/latex": [
       "\\begin{description*}\n",
       "\\item[(Intercept)] 54.9271841950587\n",
       "\\item[calories] -0.222724165705644\n",
       "\\item[protein] 3.27317386835413\n",
       "\\item[fat] -1.69140799663611\n",
       "\\item[sodium] -0.0544927022174233\n",
       "\\item[fiber] 3.44347977073152\n",
       "\\item[carbo] 1.09245094414232\n",
       "\\item[sugars] -0.724895140896283\n",
       "\\item[potass] -0.0339933511228595\n",
       "\\item[vitamins] -0.0512119694161837\n",
       "\\end{description*}\n"
      ],
      "text/markdown": [
       "(Intercept)\n",
       ":   54.9271841950587calories\n",
       ":   -0.222724165705644protein\n",
       ":   3.27317386835413fat\n",
       ":   -1.69140799663611sodium\n",
       ":   -0.0544927022174233fiber\n",
       ":   3.44347977073152carbo\n",
       ":   1.09245094414232sugars\n",
       ":   -0.724895140896283potass\n",
       ":   -0.0339933511228595vitamins\n",
       ":   -0.0512119694161837\n",
       "\n"
      ],
      "text/plain": [
       "(Intercept)    calories     protein         fat      sodium       fiber \n",
       "54.92718420 -0.22272417  3.27317387 -1.69140800 -0.05449270  3.44347977 \n",
       "      carbo      sugars      potass    vitamins \n",
       " 1.09245094 -0.72489514 -0.03399335 -0.05121197 "
      ]
     },
     "metadata": {},
     "output_type": "display_data"
    },
    {
     "name": "stdout",
     "output_type": "stream",
     "text": [
      "[1] \"cofficients included in the final model using the in-validation set method, and it has a total of 9 variables: \"\n"
     ]
    },
    {
     "data": {
      "text/html": [
       "<dl class=dl-horizontal>\n",
       "\t<dt>(Intercept)</dt>\n",
       "\t\t<dd>54.9271840213155</dd>\n",
       "\t<dt>calories</dt>\n",
       "\t\t<dd>-0.222724177347383</dd>\n",
       "\t<dt>protein</dt>\n",
       "\t\t<dd>3.27317378019761</dd>\n",
       "\t<dt>fat</dt>\n",
       "\t\t<dd>-1.69140784171944</dd>\n",
       "\t<dt>sodium</dt>\n",
       "\t\t<dd>-0.0544927036262074</dd>\n",
       "\t<dt>fiber</dt>\n",
       "\t\t<dd>3.44347980796964</dd>\n",
       "\t<dt>carbo</dt>\n",
       "\t\t<dd>1.09245102019956</dd>\n",
       "\t<dt>sugars</dt>\n",
       "\t\t<dd>-0.724895084319459</dd>\n",
       "\t<dt>potass</dt>\n",
       "\t\t<dd>-0.0339933504657634</dd>\n",
       "\t<dt>vitamins</dt>\n",
       "\t\t<dd>-0.0512119689326026</dd>\n",
       "</dl>\n"
      ],
      "text/latex": [
       "\\begin{description*}\n",
       "\\item[(Intercept)] 54.9271840213155\n",
       "\\item[calories] -0.222724177347383\n",
       "\\item[protein] 3.27317378019761\n",
       "\\item[fat] -1.69140784171944\n",
       "\\item[sodium] -0.0544927036262074\n",
       "\\item[fiber] 3.44347980796964\n",
       "\\item[carbo] 1.09245102019956\n",
       "\\item[sugars] -0.724895084319459\n",
       "\\item[potass] -0.0339933504657634\n",
       "\\item[vitamins] -0.0512119689326026\n",
       "\\end{description*}\n"
      ],
      "text/markdown": [
       "(Intercept)\n",
       ":   54.9271840213155calories\n",
       ":   -0.222724177347383protein\n",
       ":   3.27317378019761fat\n",
       ":   -1.69140784171944sodium\n",
       ":   -0.0544927036262074fiber\n",
       ":   3.44347980796964carbo\n",
       ":   1.09245102019956sugars\n",
       ":   -0.724895084319459potass\n",
       ":   -0.0339933504657634vitamins\n",
       ":   -0.0512119689326026\n",
       "\n"
      ],
      "text/plain": [
       "(Intercept)    calories     protein         fat      sodium       fiber \n",
       "54.92718402 -0.22272418  3.27317378 -1.69140784 -0.05449270  3.44347981 \n",
       "      carbo      sugars      potass    vitamins \n",
       " 1.09245102 -0.72489508 -0.03399335 -0.05121197 "
      ]
     },
     "metadata": {},
     "output_type": "display_data"
    }
   ],
   "source": [
    "print(\"cofficients included in the final model using the in-sample method, and it has a total of 9 variables: \")\n",
    "coef_exh_insample\n",
    "\n",
    "print(\"cofficients included in the final model using the in-validation set method, and it has a total of 9 variables: \")\n",
    "coef_exh_valset"
   ]
  },
  {
   "cell_type": "markdown",
   "metadata": {},
   "source": [
    "- we can see that both in-sample and validation set approaches both generated a 9-variable model with same coefficients \n",
    "\n",
    "- we can see that the MSE for the validation set is higher than the MSE for the in-sample method, just like in forward subset selection . This could be due to that the in-sample method is performed using whole dataset. However, this method could be subject to error, since the number of variables that will be included in the final model is up to the person who is performing the subset selection. (although here, we took the min, since BIC had a substantial decrease from 8-variable model to 9-variable model.\" Even though the MSE calculated using the validation set approach, is higher, however, the it is in general a pretty small MSE with a value of ~2.472e-13."
   ]
  },
  {
   "cell_type": "markdown",
   "metadata": {},
   "source": [
    "## Part (d)\n",
    "Draw some conclusions through comparisons between models (a-c). Reflect on\n",
    "the comparative predictive accuracy, and model interpretation. Which model would\n",
    "you say is the “best one” based on your results? "
   ]
  },
  {
   "cell_type": "code",
   "execution_count": 434,
   "metadata": {},
   "outputs": [
    {
     "data": {
      "text/html": [
       "<table>\n",
       "<thead><tr><th scope=col>MSE_cereal</th><th scope=col>MSE_fwd_insample</th><th scope=col>MSE_fwd_valset</th><th scope=col>MSE_exh_insample</th><th scope=col>MSE_exh_valset</th></tr></thead>\n",
       "<tbody>\n",
       "\t<tr><td>2.972988e-13</td><td>7.970696e-14</td><td>2.344651e-13</td><td>7.970696e-14</td><td>2.4719e-13  </td></tr>\n",
       "</tbody>\n",
       "</table>\n"
      ],
      "text/latex": [
       "\\begin{tabular}{lllll}\n",
       " MSE\\_cereal & MSE\\_fwd\\_insample & MSE\\_fwd\\_valset & MSE\\_exh\\_insample & MSE\\_exh\\_valset\\\\\n",
       "\\hline\n",
       "\t 2.972988e-13 & 7.970696e-14 & 2.344651e-13 & 7.970696e-14 & 2.4719e-13  \\\\\n",
       "\\end{tabular}\n"
      ],
      "text/markdown": [
       "\n",
       "| MSE_cereal | MSE_fwd_insample | MSE_fwd_valset | MSE_exh_insample | MSE_exh_valset |\n",
       "|---|---|---|---|---|\n",
       "| 2.972988e-13 | 7.970696e-14 | 2.344651e-13 | 7.970696e-14 | 2.4719e-13   |\n",
       "\n"
      ],
      "text/plain": [
       "     MSE_cereal   MSE_fwd_insample MSE_fwd_valset MSE_exh_insample\n",
       "[1,] 2.972988e-13 7.970696e-14     2.344651e-13   7.970696e-14    \n",
       "     MSE_exh_valset\n",
       "[1,] 2.4719e-13    "
      ]
     },
     "metadata": {},
     "output_type": "display_data"
    }
   ],
   "source": [
    "cbind(MSE_cereal,MSE_fwd_insample,MSE_fwd_valset,MSE_exh_insample,MSE_exh_valset)"
   ]
  },
  {
   "cell_type": "code",
   "execution_count": 448,
   "metadata": {},
   "outputs": [
    {
     "data": {
      "image/png": "[encoded data removed]",
      "text/plain": [
       "Plot with title \"Best Subset\""
      ]
     },
     "metadata": {},
     "output_type": "display_data"
    }
   ],
   "source": [
    "par(mfrow=c(2,2))\n",
    "plot(c(1:14),cv_err_cereal_fwd, xlab =\"number of variables\", ylab= \"CV error\", main = \"Forward\",type=\"l\")\n",
    "plot(c(1:14),cv_err_cereal_exh,xlab =\"number of variables\", ylab= \"CV error\", main = \"Best Subset\",type=\"l\")\n"
   ]
  },
  {
   "cell_type": "code",
   "execution_count": 432,
   "metadata": {},
   "outputs": [
    {
     "name": "stdout",
     "output_type": "stream",
     "text": [
      "[1] \"cofficients included in the final model using the in-sample method, and it has a total of 9 variables: \"\n"
     ]
    },
    {
     "data": {
      "text/html": [
       "<dl class=dl-horizontal>\n",
       "\t<dt>(Intercept)</dt>\n",
       "\t\t<dd>54.9271841950588</dd>\n",
       "\t<dt>calories</dt>\n",
       "\t\t<dd>-0.222724165705644</dd>\n",
       "\t<dt>protein</dt>\n",
       "\t\t<dd>3.27317386835415</dd>\n",
       "\t<dt>fat</dt>\n",
       "\t\t<dd>-1.6914079966361</dd>\n",
       "\t<dt>sodium</dt>\n",
       "\t\t<dd>-0.0544927022174234</dd>\n",
       "\t<dt>fiber</dt>\n",
       "\t\t<dd>3.44347977073152</dd>\n",
       "\t<dt>carbo</dt>\n",
       "\t\t<dd>1.09245094414232</dd>\n",
       "\t<dt>sugars</dt>\n",
       "\t\t<dd>-0.724895140896281</dd>\n",
       "\t<dt>potass</dt>\n",
       "\t\t<dd>-0.0339933511228597</dd>\n",
       "\t<dt>vitamins</dt>\n",
       "\t\t<dd>-0.0512119694161837</dd>\n",
       "</dl>\n"
      ],
      "text/latex": [
       "\\begin{description*}\n",
       "\\item[(Intercept)] 54.9271841950588\n",
       "\\item[calories] -0.222724165705644\n",
       "\\item[protein] 3.27317386835415\n",
       "\\item[fat] -1.6914079966361\n",
       "\\item[sodium] -0.0544927022174234\n",
       "\\item[fiber] 3.44347977073152\n",
       "\\item[carbo] 1.09245094414232\n",
       "\\item[sugars] -0.724895140896281\n",
       "\\item[potass] -0.0339933511228597\n",
       "\\item[vitamins] -0.0512119694161837\n",
       "\\end{description*}\n"
      ],
      "text/markdown": [
       "(Intercept)\n",
       ":   54.9271841950588calories\n",
       ":   -0.222724165705644protein\n",
       ":   3.27317386835415fat\n",
       ":   -1.6914079966361sodium\n",
       ":   -0.0544927022174234fiber\n",
       ":   3.44347977073152carbo\n",
       ":   1.09245094414232sugars\n",
       ":   -0.724895140896281potass\n",
       ":   -0.0339933511228597vitamins\n",
       ":   -0.0512119694161837\n",
       "\n"
      ],
      "text/plain": [
       "(Intercept)    calories     protein         fat      sodium       fiber \n",
       "54.92718420 -0.22272417  3.27317387 -1.69140800 -0.05449270  3.44347977 \n",
       "      carbo      sugars      potass    vitamins \n",
       " 1.09245094 -0.72489514 -0.03399335 -0.05121197 "
      ]
     },
     "metadata": {},
     "output_type": "display_data"
    },
    {
     "name": "stdout",
     "output_type": "stream",
     "text": [
      "[1] \"cofficients included in the final model using the in-validation set method, and it has a total of 9 variables: \"\n"
     ]
    },
    {
     "data": {
      "text/html": [
       "<dl class=dl-horizontal>\n",
       "\t<dt>(Intercept)</dt>\n",
       "\t\t<dd>54.9271839743419</dd>\n",
       "\t<dt>calories</dt>\n",
       "\t\t<dd>-0.222724176660115</dd>\n",
       "\t<dt>protein</dt>\n",
       "\t\t<dd>3.27317378195982</dd>\n",
       "\t<dt>fat</dt>\n",
       "\t\t<dd>-1.6914078465002</dd>\n",
       "\t<dt>sodium</dt>\n",
       "\t\t<dd>-0.0544927036009103</dd>\n",
       "\t<dt>fiber</dt>\n",
       "\t\t<dd>3.44347980850732</dd>\n",
       "\t<dt>carbo</dt>\n",
       "\t\t<dd>1.09245101657234</dd>\n",
       "\t<dt>sugars</dt>\n",
       "\t\t<dd>-0.724895086932914</dd>\n",
       "\t<dt>potass</dt>\n",
       "\t\t<dd>-0.0339933504588502</dd>\n",
       "\t<dt>vitamins</dt>\n",
       "\t\t<dd>-0.051211969006637</dd>\n",
       "\t<dt>cups</dt>\n",
       "\t\t<dd>5.15897959907363e-08</dd>\n",
       "</dl>\n"
      ],
      "text/latex": [
       "\\begin{description*}\n",
       "\\item[(Intercept)] 54.9271839743419\n",
       "\\item[calories] -0.222724176660115\n",
       "\\item[protein] 3.27317378195982\n",
       "\\item[fat] -1.6914078465002\n",
       "\\item[sodium] -0.0544927036009103\n",
       "\\item[fiber] 3.44347980850732\n",
       "\\item[carbo] 1.09245101657234\n",
       "\\item[sugars] -0.724895086932914\n",
       "\\item[potass] -0.0339933504588502\n",
       "\\item[vitamins] -0.051211969006637\n",
       "\\item[cups] 5.15897959907363e-08\n",
       "\\end{description*}\n"
      ],
      "text/markdown": [
       "(Intercept)\n",
       ":   54.9271839743419calories\n",
       ":   -0.222724176660115protein\n",
       ":   3.27317378195982fat\n",
       ":   -1.6914078465002sodium\n",
       ":   -0.0544927036009103fiber\n",
       ":   3.44347980850732carbo\n",
       ":   1.09245101657234sugars\n",
       ":   -0.724895086932914potass\n",
       ":   -0.0339933504588502vitamins\n",
       ":   -0.051211969006637cups\n",
       ":   5.15897959907363e-08\n",
       "\n"
      ],
      "text/plain": [
       "  (Intercept)      calories       protein           fat        sodium \n",
       " 5.492718e+01 -2.227242e-01  3.273174e+00 -1.691408e+00 -5.449270e-02 \n",
       "        fiber         carbo        sugars        potass      vitamins \n",
       " 3.443480e+00  1.092451e+00 -7.248951e-01 -3.399335e-02 -5.121197e-02 \n",
       "         cups \n",
       " 5.158980e-08 "
      ]
     },
     "metadata": {},
     "output_type": "display_data"
    },
    {
     "name": "stdout",
     "output_type": "stream",
     "text": [
      "[1] \"cofficients included in the final model using the in-sample method, and it has a total of 9 variables: \"\n"
     ]
    },
    {
     "data": {
      "text/html": [
       "<dl class=dl-horizontal>\n",
       "\t<dt>(Intercept)</dt>\n",
       "\t\t<dd>54.9271841950587</dd>\n",
       "\t<dt>calories</dt>\n",
       "\t\t<dd>-0.222724165705644</dd>\n",
       "\t<dt>protein</dt>\n",
       "\t\t<dd>3.27317386835413</dd>\n",
       "\t<dt>fat</dt>\n",
       "\t\t<dd>-1.69140799663611</dd>\n",
       "\t<dt>sodium</dt>\n",
       "\t\t<dd>-0.0544927022174233</dd>\n",
       "\t<dt>fiber</dt>\n",
       "\t\t<dd>3.44347977073152</dd>\n",
       "\t<dt>carbo</dt>\n",
       "\t\t<dd>1.09245094414232</dd>\n",
       "\t<dt>sugars</dt>\n",
       "\t\t<dd>-0.724895140896283</dd>\n",
       "\t<dt>potass</dt>\n",
       "\t\t<dd>-0.0339933511228595</dd>\n",
       "\t<dt>vitamins</dt>\n",
       "\t\t<dd>-0.0512119694161837</dd>\n",
       "</dl>\n"
      ],
      "text/latex": [
       "\\begin{description*}\n",
       "\\item[(Intercept)] 54.9271841950587\n",
       "\\item[calories] -0.222724165705644\n",
       "\\item[protein] 3.27317386835413\n",
       "\\item[fat] -1.69140799663611\n",
       "\\item[sodium] -0.0544927022174233\n",
       "\\item[fiber] 3.44347977073152\n",
       "\\item[carbo] 1.09245094414232\n",
       "\\item[sugars] -0.724895140896283\n",
       "\\item[potass] -0.0339933511228595\n",
       "\\item[vitamins] -0.0512119694161837\n",
       "\\end{description*}\n"
      ],
      "text/markdown": [
       "(Intercept)\n",
       ":   54.9271841950587calories\n",
       ":   -0.222724165705644protein\n",
       ":   3.27317386835413fat\n",
       ":   -1.69140799663611sodium\n",
       ":   -0.0544927022174233fiber\n",
       ":   3.44347977073152carbo\n",
       ":   1.09245094414232sugars\n",
       ":   -0.724895140896283potass\n",
       ":   -0.0339933511228595vitamins\n",
       ":   -0.0512119694161837\n",
       "\n"
      ],
      "text/plain": [
       "(Intercept)    calories     protein         fat      sodium       fiber \n",
       "54.92718420 -0.22272417  3.27317387 -1.69140800 -0.05449270  3.44347977 \n",
       "      carbo      sugars      potass    vitamins \n",
       " 1.09245094 -0.72489514 -0.03399335 -0.05121197 "
      ]
     },
     "metadata": {},
     "output_type": "display_data"
    },
    {
     "name": "stdout",
     "output_type": "stream",
     "text": [
      "[1] \"cofficients included in the final model using the in-validation set method, and it has a total of 9 variables: \"\n"
     ]
    },
    {
     "data": {
      "text/html": [
       "<dl class=dl-horizontal>\n",
       "\t<dt>(Intercept)</dt>\n",
       "\t\t<dd>54.9271840213155</dd>\n",
       "\t<dt>calories</dt>\n",
       "\t\t<dd>-0.222724177347383</dd>\n",
       "\t<dt>protein</dt>\n",
       "\t\t<dd>3.27317378019761</dd>\n",
       "\t<dt>fat</dt>\n",
       "\t\t<dd>-1.69140784171944</dd>\n",
       "\t<dt>sodium</dt>\n",
       "\t\t<dd>-0.0544927036262074</dd>\n",
       "\t<dt>fiber</dt>\n",
       "\t\t<dd>3.44347980796964</dd>\n",
       "\t<dt>carbo</dt>\n",
       "\t\t<dd>1.09245102019956</dd>\n",
       "\t<dt>sugars</dt>\n",
       "\t\t<dd>-0.724895084319459</dd>\n",
       "\t<dt>potass</dt>\n",
       "\t\t<dd>-0.0339933504657634</dd>\n",
       "\t<dt>vitamins</dt>\n",
       "\t\t<dd>-0.0512119689326026</dd>\n",
       "</dl>\n"
      ],
      "text/latex": [
       "\\begin{description*}\n",
       "\\item[(Intercept)] 54.9271840213155\n",
       "\\item[calories] -0.222724177347383\n",
       "\\item[protein] 3.27317378019761\n",
       "\\item[fat] -1.69140784171944\n",
       "\\item[sodium] -0.0544927036262074\n",
       "\\item[fiber] 3.44347980796964\n",
       "\\item[carbo] 1.09245102019956\n",
       "\\item[sugars] -0.724895084319459\n",
       "\\item[potass] -0.0339933504657634\n",
       "\\item[vitamins] -0.0512119689326026\n",
       "\\end{description*}\n"
      ],
      "text/markdown": [
       "(Intercept)\n",
       ":   54.9271840213155calories\n",
       ":   -0.222724177347383protein\n",
       ":   3.27317378019761fat\n",
       ":   -1.69140784171944sodium\n",
       ":   -0.0544927036262074fiber\n",
       ":   3.44347980796964carbo\n",
       ":   1.09245102019956sugars\n",
       ":   -0.724895084319459potass\n",
       ":   -0.0339933504657634vitamins\n",
       ":   -0.0512119689326026\n",
       "\n"
      ],
      "text/plain": [
       "(Intercept)    calories     protein         fat      sodium       fiber \n",
       "54.92718402 -0.22272418  3.27317378 -1.69140784 -0.05449270  3.44347981 \n",
       "      carbo      sugars      potass    vitamins \n",
       " 1.09245102 -0.72489508 -0.03399335 -0.05121197 "
      ]
     },
     "metadata": {},
     "output_type": "display_data"
    }
   ],
   "source": [
    "print(\"cofficients included in the final model using the in-sample method, and it has a total of 9 variables: \")\n",
    "coef_fwd_insample\n",
    "\n",
    "print(\"cofficients included in the final model using the in-validation set method, and it has a total of 9 variables: \")\n",
    "coef_fwd_valset\n",
    "\n",
    "print(\"cofficients included in the final model using the in-sample method, and it has a total of 9 variables: \")\n",
    "coef_exh_insample\n",
    "\n",
    "print(\"cofficients included in the final model using the in-validation set method, and it has a total of 9 variables: \")\n",
    "coef_exh_valset"
   ]
  },
  {
   "cell_type": "markdown",
   "metadata": {},
   "source": [
    "- By looking at the MSE for all methods, we can see that the least square method has the highest MSE, this indicates that the baseline model included more than what necessary in predicting ratings. \n",
    "- Between in-sample method and validation set approach, I argue that the validation set approach since the in-sample method although spans a larger sample (entire dataset), it lack a new set of data to validate the model which validation set approach makes up for. \n",
    "- Between forward and best subset selection method using the validation set method, we can see that MSE for forward selection method is slightly lower than best subset selection method. Therefore, in this case we can go ahead and day that forward selection gave us an even better model! Since this dataset included only a very few variables, therefore we might not see a drastic difference in our final model using either method. However in practice, when we have a dataset with higher dimension, the forward subset selection can yield a way higher error than the best subset method. However, as the dimension increases, the best subset selection, it would be computationally expensive to perform since it is a 2^p model. Therefore we should resort to other methods such as forward or backward method, and generate a model with a low enough error that we can accept. \n",
    "- Also, a model with more coefficient can reduce our ability to interpret the model, even if it can increase the predictive accuracy, this is a decision that we the person has to make.\n",
    "- In conclusion, since the cereal dataset only has 14 (excluding name) varaibles, it really doesn't matter which model we use, it provided us with the similar results. However, since best subset selection gave us a lower MSE value, and only included 9 variables (1 less than forward subset selection), and this is a small enough dataset (few variable) so we can easily compute best-subet. Therefore in this case, we will say that our best model is the 9 variable model generated using best subset selection. \n"
   ]
  },
  {
   "cell_type": "markdown",
   "metadata": {},
   "source": [
    "# Question 2"
   ]
  },
  {
   "cell_type": "code",
   "execution_count": 223,
   "metadata": {},
   "outputs": [
    {
     "name": "stderr",
     "output_type": "stream",
     "text": [
      "Warning message:\n",
      "\"package 'robust' was built under R version 3.6.3\"Loading required package: fit.models\n",
      "Warning message:\n",
      "\"package 'fit.models' was built under R version 3.6.3\"Registered S3 methods overwritten by 'robust':\n",
      "  method              from      \n",
      "  plot.covfm          fit.models\n",
      "  print.covfm         fit.models\n",
      "  summary.covfm       fit.models\n",
      "  print.summary.covfm fit.models\n",
      "rlm is already registered in the fit.models registry\n",
      "covfm is already registered in the fit.models registry\n",
      "\n",
      "Attaching package: 'robust'\n",
      "\n",
      "The following objects are masked from 'package:fit.models':\n",
      "\n",
      "    ddPlot.covfm, distancePlot.covfm, ellipsesPlot.covfm,\n",
      "    screePlot.covfm\n",
      "\n"
     ]
    }
   ],
   "source": [
    "library(mclust)\n",
    "library(robust)"
   ]
  },
  {
   "cell_type": "markdown",
   "metadata": {},
   "source": [
    "### Load dataset  & Define independent and dependent variables"
   ]
  },
  {
   "cell_type": "code",
   "execution_count": 1,
   "metadata": {},
   "outputs": [],
   "source": [
    "load(file = \"zip.train.RData\")\n"
   ]
  },
  {
   "cell_type": "code",
   "execution_count": null,
   "metadata": {},
   "outputs": [],
   "source": []
  },
  {
   "cell_type": "markdown",
   "metadata": {},
   "source": [
    "#### Extractings 2's and 3's"
   ]
  },
  {
   "cell_type": "code",
   "execution_count": 2,
   "metadata": {},
   "outputs": [],
   "source": [
    "twothr_idx = which((zip.train[,1]==2) | (zip.train[,1]==3))\n",
    "zip_train_df = zip.train[twothr_idx,]\n",
    "zip_train_df = data.frame(zip_train_df)"
   ]
  },
  {
   "cell_type": "code",
   "execution_count": 3,
   "metadata": {},
   "outputs": [],
   "source": [
    "y_train_zip = zip_train_df[,1]\n",
    "X_train_zip = zip_train_df[,-1]"
   ]
  },
  {
   "cell_type": "code",
   "execution_count": 210,
   "metadata": {},
   "outputs": [],
   "source": [
    "load(file = \"zip.test.RData\")"
   ]
  },
  {
   "cell_type": "code",
   "execution_count": 211,
   "metadata": {},
   "outputs": [],
   "source": [
    "twothr_idx_test = which((zip.test[,1]==2) | (zip.test[,1]==3))\n",
    "zip_test_df= zip.test[twothr_idx_test,]\n",
    "zip_test_df = data.frame(zip_test_df)"
   ]
  },
  {
   "cell_type": "code",
   "execution_count": 271,
   "metadata": {},
   "outputs": [],
   "source": [
    "y_test_zip = zip_test_df[,1]\n",
    "X_test_zip = zip_test_df[,-1]\n"
   ]
  },
  {
   "cell_type": "code",
   "execution_count": 511,
   "metadata": {},
   "outputs": [
    {
     "data": {
      "text/html": [
       "<ol class=list-inline>\n",
       "\t<li>1389</li>\n",
       "\t<li>257</li>\n",
       "</ol>\n"
      ],
      "text/latex": [
       "\\begin{enumerate*}\n",
       "\\item 1389\n",
       "\\item 257\n",
       "\\end{enumerate*}\n"
      ],
      "text/markdown": [
       "1. 1389\n",
       "2. 257\n",
       "\n",
       "\n"
      ],
      "text/plain": [
       "[1] 1389  257"
      ]
     },
     "metadata": {},
     "output_type": "display_data"
    },
    {
     "data": {
      "text/html": [
       "<ol class=list-inline>\n",
       "\t<li>364</li>\n",
       "\t<li>257</li>\n",
       "</ol>\n"
      ],
      "text/latex": [
       "\\begin{enumerate*}\n",
       "\\item 364\n",
       "\\item 257\n",
       "\\end{enumerate*}\n"
      ],
      "text/markdown": [
       "1. 364\n",
       "2. 257\n",
       "\n",
       "\n"
      ],
      "text/plain": [
       "[1] 364 257"
      ]
     },
     "metadata": {},
     "output_type": "display_data"
    }
   ],
   "source": [
    "dim(zip_train_df)\n",
    "dim(zip_test_df)"
   ]
  },
  {
   "cell_type": "markdown",
   "metadata": {},
   "source": [
    "### Least Squares Method"
   ]
  },
  {
   "cell_type": "code",
   "execution_count": 213,
   "metadata": {},
   "outputs": [],
   "source": [
    "lm_mod_zip <- lm(formula = zip_train_df[,1] ~ . ,data=X_train_zip)"
   ]
  },
  {
   "cell_type": "code",
   "execution_count": 214,
   "metadata": {},
   "outputs": [],
   "source": [
    "y_pred_zip <- predict(lm_mod_zip,X_test_zip)"
   ]
  },
  {
   "cell_type": "markdown",
   "metadata": {},
   "source": [
    "#### Thresholding the prediction values by 2.5\n",
    "- rounding up to 3 if the value is larger than 2.5, rounding down to 2 otherwise"
   ]
  },
  {
   "cell_type": "code",
   "execution_count": 216,
   "metadata": {},
   "outputs": [],
   "source": [
    "for (i in 1:length(y_pred_zip)){\n",
    "    if (y_pred_zip[i] >= 2.5){\n",
    "        y_pred_zip[i] <- 3\n",
    "    } else{\n",
    "        y_pred_zip[i] <- 2\n",
    "    }\n",
    "}"
   ]
  },
  {
   "cell_type": "markdown",
   "metadata": {},
   "source": [
    "#### Calculate MSE"
   ]
  },
  {
   "cell_type": "code",
   "execution_count": 502,
   "metadata": {},
   "outputs": [
    {
     "data": {
      "text/html": [
       "0.0412087912087912"
      ],
      "text/latex": [
       "0.0412087912087912"
      ],
      "text/markdown": [
       "0.0412087912087912"
      ],
      "text/plain": [
       "[1] 0.04120879"
      ]
     },
     "metadata": {},
     "output_type": "display_data"
    }
   ],
   "source": [
    "MSE_zip_lm =  mse(y_test_zip,y_pred_zip)\n",
    "MSE_zip_lm"
   ]
  },
  {
   "cell_type": "markdown",
   "metadata": {},
   "source": [
    "#### Testing accuracy"
   ]
  },
  {
   "cell_type": "code",
   "execution_count": 501,
   "metadata": {},
   "outputs": [
    {
     "data": {
      "text/html": [
       "0.958791208791209"
      ],
      "text/latex": [
       "0.958791208791209"
      ],
      "text/markdown": [
       "0.958791208791209"
      ],
      "text/plain": [
       "[1] 0.9587912"
      ]
     },
     "metadata": {},
     "output_type": "display_data"
    }
   ],
   "source": [
    "test_acc_zip_lm = accuracy(y_pred_zip,y_test_zip)\n",
    "test_acc_zip_lm"
   ]
  },
  {
   "cell_type": "markdown",
   "metadata": {},
   "source": [
    "#### Confusion Matrix"
   ]
  },
  {
   "cell_type": "code",
   "execution_count": 273,
   "metadata": {},
   "outputs": [
    {
     "data": {
      "text/plain": [
       "          y_pred_zip\n",
       "y_test_zip   2   3\n",
       "         2 191   7\n",
       "         3   8 158"
      ]
     },
     "metadata": {},
     "output_type": "display_data"
    }
   ],
   "source": [
    "cm_zip_lm = table(y_test_zip,y_pred_zip)\n",
    "cm_zip_lm"
   ]
  },
  {
   "cell_type": "markdown",
   "metadata": {},
   "source": [
    "### KNN"
   ]
  },
  {
   "cell_type": "code",
   "execution_count": 458,
   "metadata": {},
   "outputs": [
    {
     "name": "stderr",
     "output_type": "stream",
     "text": [
      "Installing package into 'C:/Users/qlian/OneDrive/Documents/R/win-library/3.6'\n",
      "(as 'lib' is unspecified)\n",
      "also installing the dependency 'XML'\n",
      "\n"
     ]
    },
    {
     "name": "stdout",
     "output_type": "stream",
     "text": [
      "package 'XML' successfully unpacked and MD5 sums checked\n",
      "package 'rlist' successfully unpacked and MD5 sums checked\n",
      "\n",
      "The downloaded binary packages are in\n",
      "\tC:\\Users\\qlian\\AppData\\Local\\Temp\\Rtmp6ryqLA\\downloaded_packages\n"
     ]
    },
    {
     "name": "stderr",
     "output_type": "stream",
     "text": [
      "Warning message:\n",
      "\"package 'rlist' was built under R version 3.6.3\""
     ]
    }
   ],
   "source": [
    "# install.packages(\"class\")\n",
    "library(class)\n",
    "install.packages('rlist')\n",
    "library(rlist)"
   ]
  },
  {
   "cell_type": "markdown",
   "metadata": {},
   "source": [
    "#### Presetting the \"neighbor\" parameter\n",
    "- we are doing 1 - 31 odd number of neighbors, to avoid even number of neighbors (to avoid a \"tie\" in decision within in neighbors). Also, a wide enough range we can potentially see an effect of overfitting and underfitting by using different number of neighbors\n",
    "- Although, in the question, we are only asked to perform with odd numbers in range 1 to 15, however I ran this from 1:31, in order to get a greater grasp of how accuracy and mse changes as k changes"
   ]
  },
  {
   "cell_type": "code",
   "execution_count": 475,
   "metadata": {},
   "outputs": [],
   "source": [
    "neighbors = c(seq(1,31,2))"
   ]
  },
  {
   "cell_type": "code",
   "execution_count": 485,
   "metadata": {
    "scrolled": false
   },
   "outputs": [
    {
     "name": "stdout",
     "output_type": "stream",
     "text": [
      "training accuracy with k = 1 is: 1 and the class error is: 0 \n",
      "testing accuracy with k = 1 is: 0.9752747 and the class error is: 0.02472527 \n",
      "\n",
      "training accuracy with k = 3 is: 0.9949604 and the class error is: 0.005039597 \n",
      "testing accuracy with k = 3 is: 0.9697802 and the class error is: 0.03021978 \n",
      "\n",
      "training accuracy with k = 5 is: 0.9942405 and the class error is: 0.005759539 \n",
      "testing accuracy with k = 5 is: 0.9697802 and the class error is: 0.03021978 \n",
      "\n",
      "training accuracy with k = 7 is: 0.9935205 and the class error is: 0.006479482 \n",
      "testing accuracy with k = 7 is: 0.967033 and the class error is: 0.03296703 \n",
      "\n",
      "training accuracy with k = 9 is: 0.9906407 and the class error is: 0.009359251 \n",
      "testing accuracy with k = 9 is: 0.9642857 and the class error is: 0.03571429 \n",
      "\n",
      "training accuracy with k = 11 is: 0.9913607 and the class error is: 0.008639309 \n",
      "testing accuracy with k = 11 is: 0.9642857 and the class error is: 0.03571429 \n",
      "\n",
      "training accuracy with k = 13 is: 0.9913607 and the class error is: 0.008639309 \n",
      "testing accuracy with k = 13 is: 0.9615385 and the class error is: 0.03846154 \n",
      "\n",
      "training accuracy with k = 15 is: 0.9906407 and the class error is: 0.009359251 \n",
      "testing accuracy with k = 15 is: 0.9615385 and the class error is: 0.03846154 \n",
      "\n",
      "training accuracy with k = 17 is: 0.9892009 and the class error is: 0.01079914 \n",
      "testing accuracy with k = 17 is: 0.9615385 and the class error is: 0.03846154 \n",
      "\n",
      "training accuracy with k = 19 is: 0.9892009 and the class error is: 0.01079914 \n",
      "testing accuracy with k = 19 is: 0.9587912 and the class error is: 0.04120879 \n",
      "\n",
      "training accuracy with k = 21 is: 0.987041 and the class error is: 0.01295896 \n",
      "testing accuracy with k = 21 is: 0.9587912 and the class error is: 0.04120879 \n",
      "\n",
      "training accuracy with k = 23 is: 0.9863211 and the class error is: 0.01367891 \n",
      "testing accuracy with k = 23 is: 0.9587912 and the class error is: 0.04120879 \n",
      "\n",
      "training accuracy with k = 25 is: 0.9856012 and the class error is: 0.01439885 \n",
      "testing accuracy with k = 25 is: 0.9587912 and the class error is: 0.04120879 \n",
      "\n",
      "training accuracy with k = 27 is: 0.9841613 and the class error is: 0.01583873 \n",
      "testing accuracy with k = 27 is: 0.9587912 and the class error is: 0.04120879 \n",
      "\n",
      "training accuracy with k = 29 is: 0.9841613 and the class error is: 0.01583873 \n",
      "testing accuracy with k = 29 is: 0.9587912 and the class error is: 0.04120879 \n",
      "\n",
      "training accuracy with k = 31 is: 0.9834413 and the class error is: 0.01655868 \n",
      "testing accuracy with k = 31 is: 0.9587912 and the class error is: 0.04120879 \n",
      "\n"
     ]
    }
   ],
   "source": [
    "mse_train_knn <- rep(NA,length(neighbors)) \n",
    "mse_test_knn <- rep(NA,length(neighbors))  \n",
    "training_acc_knn <- rep(NA,length(neighbors)) \n",
    "testing_acc_knn <- rep(NA,length(neighbors)) \n",
    "\n",
    "for(i in 1:length(neighbors)){\n",
    "    #prediction \n",
    "    knn_pred_train <- knn(train=X_train_zip,test=X_train_zip,cl=y_train_zip,k=neighbors[i])\n",
    "    knn_pred_test <- knn(train=X_train_zip,test=X_test_zip,cl=y_train_zip,k=neighbors[i])\n",
    "    \n",
    "    #training and testing accuracy\n",
    "    training_acc <- accuracy(knn_pred_train,y_train_zip)\n",
    "    testing_acc <- accuracy(knn_pred_test,y_test_zip)\n",
    "    \n",
    "    #training and testing MSE\n",
    "    mse_val_train <- mse(y_train_zip,as.numeric(as.character(knn_pred_train)))\n",
    "    mse_val_test <- mse(y_test_zip,as.numeric(as.character(knn_pred_test)))\n",
    "    \n",
    "    #store mse and accuracy values\n",
    "    mse_train_knn[i] <- mse_val_train\n",
    "    mse_test_knn[i] <- mse_val_test\n",
    "    training_acc_knn[i] <- training_acc\n",
    "    testing_acc_knn[i] <- testing_acc\n",
    "    \n",
    "    cat(\"training accuracy with k =\",neighbors[i],\"is:\",training_acc,\"and the class error is:\",mse_val_train,\"\\n\")\n",
    "    cat(\"testing accuracy with k =\",neighbors[i],\"is:\",testing_acc,\"and the class error is:\",mse_val_test,\"\\n\\n\")\n",
    "}\n"
   ]
  },
  {
   "cell_type": "markdown",
   "metadata": {},
   "source": [
    "#### Plotting MSE and accuracy values for training and testing\n",
    "- we will plot MSE and accuracy values for train and test set with respsect to k"
   ]
  },
  {
   "cell_type": "code",
   "execution_count": 498,
   "metadata": {},
   "outputs": [
    {
     "data": {
      "image/png": "[encoded data removed]",
      "text/plain": [
       "Plot with title \"testing set\""
      ]
     },
     "metadata": {},
     "output_type": "display_data"
    }
   ],
   "source": [
    "par(mfrow=c(2,2))\n",
    "plot(neighbors,mse_train_knn,xlab=\"k\",ylab=\"mse\",main=\"training set\",type=\"o\")\n",
    "plot(neighbors,mse_test_knn,xlab=\"k\",ylab=\"mse\",main=\"testing set\",type=\"o\")\n",
    "plot(neighbors,training_acc_knn,xlab=\"k\",ylab=\"accuracy\",main=\"training set\",type=\"o\")\n",
    "plot(neighbors,testing_acc_knn,xlab=\"k\",ylab=\"accuracy\",main=\"testing set\",type=\"o\")\n"
   ]
  },
  {
   "cell_type": "markdown",
   "metadata": {},
   "source": [
    "- Overall, as k gets bigger, the error rate should increase since we are going from a situation where we are overfitting with a really small k value to a larger k value that could lead to underfitting if it is too big. \n",
    "- we can see that training MSE steadily increasses as k increases, however in testing set the increase in MSE is more rapid. If we look at it more closely, we see a stair case effect, for example, with k= 3,5 and k the MSE stayed the same. Same thing can be observed for other pairs of k values. Until it gets to 17 and beyong, we can see that MSE saturates at same value, little over 0.41. We can contribute this to the size of testing set, since it is a lot smaller than the training set, it is less sensitive to the choice of k value. Performing KNN with k=3 or k=5 are essentially the same.\n",
    "- Accuracy is similar to MSE, but instead of increasing, it decreases as k gets bigger, it folows the same trend as MSE for both training and testing"
   ]
  },
  {
   "cell_type": "code",
   "execution_count": 510,
   "metadata": {},
   "outputs": [
    {
     "data": {
      "text/html": [
       "<table>\n",
       "<thead><tr><th scope=col>neighbors</th><th scope=col>mse_train_knn</th><th scope=col>mse_test_knn</th><th scope=col>training_acc_knn</th><th scope=col>testing_acc_knn</th></tr></thead>\n",
       "<tbody>\n",
       "\t<tr><td> 1         </td><td>0.000000000</td><td>0.02472527 </td><td>1.0000000  </td><td>0.9752747  </td></tr>\n",
       "\t<tr><td> 3         </td><td>0.005039597</td><td>0.03021978 </td><td>0.9949604  </td><td>0.9697802  </td></tr>\n",
       "\t<tr><td> 5         </td><td>0.005759539</td><td>0.03021978 </td><td>0.9942405  </td><td>0.9697802  </td></tr>\n",
       "\t<tr><td> 7         </td><td>0.006479482</td><td>0.03296703 </td><td>0.9935205  </td><td>0.9670330  </td></tr>\n",
       "\t<tr><td> 9         </td><td>0.009359251</td><td>0.03571429 </td><td>0.9906407  </td><td>0.9642857  </td></tr>\n",
       "\t<tr><td>11         </td><td>0.008639309</td><td>0.03571429 </td><td>0.9913607  </td><td>0.9642857  </td></tr>\n",
       "\t<tr><td>13         </td><td>0.008639309</td><td>0.03846154 </td><td>0.9913607  </td><td>0.9615385  </td></tr>\n",
       "\t<tr><td>15         </td><td>0.009359251</td><td>0.03846154 </td><td>0.9906407  </td><td>0.9615385  </td></tr>\n",
       "\t<tr><td>17         </td><td>0.010799136</td><td>0.03846154 </td><td>0.9892009  </td><td>0.9615385  </td></tr>\n",
       "\t<tr><td>19         </td><td>0.010799136</td><td>0.04120879 </td><td>0.9892009  </td><td>0.9587912  </td></tr>\n",
       "\t<tr><td>21         </td><td>0.012958963</td><td>0.04120879 </td><td>0.9870410  </td><td>0.9587912  </td></tr>\n",
       "\t<tr><td>23         </td><td>0.013678906</td><td>0.04120879 </td><td>0.9863211  </td><td>0.9587912  </td></tr>\n",
       "\t<tr><td>25         </td><td>0.014398848</td><td>0.04120879 </td><td>0.9856012  </td><td>0.9587912  </td></tr>\n",
       "\t<tr><td>27         </td><td>0.015838733</td><td>0.04120879 </td><td>0.9841613  </td><td>0.9587912  </td></tr>\n",
       "\t<tr><td>29         </td><td>0.015838733</td><td>0.04120879 </td><td>0.9841613  </td><td>0.9587912  </td></tr>\n",
       "\t<tr><td>31         </td><td>0.016558675</td><td>0.04120879 </td><td>0.9834413  </td><td>0.9587912  </td></tr>\n",
       "</tbody>\n",
       "</table>\n"
      ],
      "text/latex": [
       "\\begin{tabular}{lllll}\n",
       " neighbors & mse\\_train\\_knn & mse\\_test\\_knn & training\\_acc\\_knn & testing\\_acc\\_knn\\\\\n",
       "\\hline\n",
       "\t  1          & 0.000000000 & 0.02472527  & 1.0000000   & 0.9752747  \\\\\n",
       "\t  3          & 0.005039597 & 0.03021978  & 0.9949604   & 0.9697802  \\\\\n",
       "\t  5          & 0.005759539 & 0.03021978  & 0.9942405   & 0.9697802  \\\\\n",
       "\t  7          & 0.006479482 & 0.03296703  & 0.9935205   & 0.9670330  \\\\\n",
       "\t  9          & 0.009359251 & 0.03571429  & 0.9906407   & 0.9642857  \\\\\n",
       "\t 11          & 0.008639309 & 0.03571429  & 0.9913607   & 0.9642857  \\\\\n",
       "\t 13          & 0.008639309 & 0.03846154  & 0.9913607   & 0.9615385  \\\\\n",
       "\t 15          & 0.009359251 & 0.03846154  & 0.9906407   & 0.9615385  \\\\\n",
       "\t 17          & 0.010799136 & 0.03846154  & 0.9892009   & 0.9615385  \\\\\n",
       "\t 19          & 0.010799136 & 0.04120879  & 0.9892009   & 0.9587912  \\\\\n",
       "\t 21          & 0.012958963 & 0.04120879  & 0.9870410   & 0.9587912  \\\\\n",
       "\t 23          & 0.013678906 & 0.04120879  & 0.9863211   & 0.9587912  \\\\\n",
       "\t 25          & 0.014398848 & 0.04120879  & 0.9856012   & 0.9587912  \\\\\n",
       "\t 27          & 0.015838733 & 0.04120879  & 0.9841613   & 0.9587912  \\\\\n",
       "\t 29          & 0.015838733 & 0.04120879  & 0.9841613   & 0.9587912  \\\\\n",
       "\t 31          & 0.016558675 & 0.04120879  & 0.9834413   & 0.9587912  \\\\\n",
       "\\end{tabular}\n"
      ],
      "text/markdown": [
       "\n",
       "| neighbors | mse_train_knn | mse_test_knn | training_acc_knn | testing_acc_knn |\n",
       "|---|---|---|---|---|\n",
       "|  1          | 0.000000000 | 0.02472527  | 1.0000000   | 0.9752747   |\n",
       "|  3          | 0.005039597 | 0.03021978  | 0.9949604   | 0.9697802   |\n",
       "|  5          | 0.005759539 | 0.03021978  | 0.9942405   | 0.9697802   |\n",
       "|  7          | 0.006479482 | 0.03296703  | 0.9935205   | 0.9670330   |\n",
       "|  9          | 0.009359251 | 0.03571429  | 0.9906407   | 0.9642857   |\n",
       "| 11          | 0.008639309 | 0.03571429  | 0.9913607   | 0.9642857   |\n",
       "| 13          | 0.008639309 | 0.03846154  | 0.9913607   | 0.9615385   |\n",
       "| 15          | 0.009359251 | 0.03846154  | 0.9906407   | 0.9615385   |\n",
       "| 17          | 0.010799136 | 0.03846154  | 0.9892009   | 0.9615385   |\n",
       "| 19          | 0.010799136 | 0.04120879  | 0.9892009   | 0.9587912   |\n",
       "| 21          | 0.012958963 | 0.04120879  | 0.9870410   | 0.9587912   |\n",
       "| 23          | 0.013678906 | 0.04120879  | 0.9863211   | 0.9587912   |\n",
       "| 25          | 0.014398848 | 0.04120879  | 0.9856012   | 0.9587912   |\n",
       "| 27          | 0.015838733 | 0.04120879  | 0.9841613   | 0.9587912   |\n",
       "| 29          | 0.015838733 | 0.04120879  | 0.9841613   | 0.9587912   |\n",
       "| 31          | 0.016558675 | 0.04120879  | 0.9834413   | 0.9587912   |\n",
       "\n"
      ],
      "text/plain": [
       "      neighbors mse_train_knn mse_test_knn training_acc_knn testing_acc_knn\n",
       " [1,]  1        0.000000000   0.02472527   1.0000000        0.9752747      \n",
       " [2,]  3        0.005039597   0.03021978   0.9949604        0.9697802      \n",
       " [3,]  5        0.005759539   0.03021978   0.9942405        0.9697802      \n",
       " [4,]  7        0.006479482   0.03296703   0.9935205        0.9670330      \n",
       " [5,]  9        0.009359251   0.03571429   0.9906407        0.9642857      \n",
       " [6,] 11        0.008639309   0.03571429   0.9913607        0.9642857      \n",
       " [7,] 13        0.008639309   0.03846154   0.9913607        0.9615385      \n",
       " [8,] 15        0.009359251   0.03846154   0.9906407        0.9615385      \n",
       " [9,] 17        0.010799136   0.03846154   0.9892009        0.9615385      \n",
       "[10,] 19        0.010799136   0.04120879   0.9892009        0.9587912      \n",
       "[11,] 21        0.012958963   0.04120879   0.9870410        0.9587912      \n",
       "[12,] 23        0.013678906   0.04120879   0.9863211        0.9587912      \n",
       "[13,] 25        0.014398848   0.04120879   0.9856012        0.9587912      \n",
       "[14,] 27        0.015838733   0.04120879   0.9841613        0.9587912      \n",
       "[15,] 29        0.015838733   0.04120879   0.9841613        0.9587912      \n",
       "[16,] 31        0.016558675   0.04120879   0.9834413        0.9587912      "
      ]
     },
     "metadata": {},
     "output_type": "display_data"
    }
   ],
   "source": [
    "cbind(neighbors,mse_train_knn,mse_test_knn,training_acc_knn,testing_acc_knn)"
   ]
  },
  {
   "cell_type": "code",
   "execution_count": 507,
   "metadata": {},
   "outputs": [
    {
     "data": {
      "text/html": [
       "<table>\n",
       "<thead><tr><th scope=col>MSE_zip_lm</th><th scope=col>test_acc_zip_lm</th></tr></thead>\n",
       "<tbody>\n",
       "\t<tr><td>0.04120879</td><td>0.9587912 </td></tr>\n",
       "</tbody>\n",
       "</table>\n"
      ],
      "text/latex": [
       "\\begin{tabular}{ll}\n",
       " MSE\\_zip\\_lm & test\\_acc\\_zip\\_lm\\\\\n",
       "\\hline\n",
       "\t 0.04120879 & 0.9587912 \\\\\n",
       "\\end{tabular}\n"
      ],
      "text/markdown": [
       "\n",
       "| MSE_zip_lm | test_acc_zip_lm |\n",
       "|---|---|\n",
       "| 0.04120879 | 0.9587912  |\n",
       "\n"
      ],
      "text/plain": [
       "     MSE_zip_lm test_acc_zip_lm\n",
       "[1,] 0.04120879 0.9587912      "
      ]
     },
     "metadata": {},
     "output_type": "display_data"
    }
   ],
   "source": [
    "cbind(MSE_zip_lm,test_acc_zip_lm)"
   ]
  },
  {
   "cell_type": "code",
   "execution_count": null,
   "metadata": {},
   "outputs": [],
   "source": [
    "dim"
   ]
  },
  {
   "cell_type": "markdown",
   "metadata": {},
   "source": [
    "- By comparing testing accuracy and testing MSE we can see that:\n",
    "    - MSE obtained from the linear model is ~0.04120879, notice that this value is the same ass any MSE for KNN with k larger or equal to 19. We can see that MSE does not decrease tremendously as k decreases. This can be attributed to a small test set with a high dimension -> (364 257). However in general, we should see a more drastic change in MSE as k values change. \n",
    "    - In this case, the linear model performed really well in terms of model predictability. It produced a small MSE value that's comparable to knn algorithm when K=19 or larger. With smaller k value in KNN algorithm with smaller MSE for example, MSE =~ 0.033 when k = 7"
   ]
  },
  {
   "cell_type": "markdown",
   "metadata": {},
   "source": [
    "# Question 3"
   ]
  },
  {
   "cell_type": "markdown",
   "metadata": {},
   "source": [
    "## Part (a)"
   ]
  },
  {
   "cell_type": "markdown",
   "metadata": {},
   "source": [
    "### Load the dataset"
   ]
  },
  {
   "cell_type": "code",
   "execution_count": 281,
   "metadata": {},
   "outputs": [
    {
     "name": "stderr",
     "output_type": "stream",
     "text": [
      "Warning message:\n",
      "\"package 'ISLR' was built under R version 3.6.3\""
     ]
    }
   ],
   "source": [
    "# install.packages(\"ISLR\")\n",
    "library(ISLR)"
   ]
  },
  {
   "cell_type": "code",
   "execution_count": 2,
   "metadata": {},
   "outputs": [
    {
     "data": {
      "text/html": [
       "<ol class=list-inline>\n",
       "\t<li>777</li>\n",
       "\t<li>18</li>\n",
       "</ol>\n"
      ],
      "text/latex": [
       "\\begin{enumerate*}\n",
       "\\item 777\n",
       "\\item 18\n",
       "\\end{enumerate*}\n"
      ],
      "text/markdown": [
       "1. 777\n",
       "2. 18\n",
       "\n",
       "\n"
      ],
      "text/plain": [
       "[1] 777  18"
      ]
     },
     "metadata": {},
     "output_type": "display_data"
    }
   ],
   "source": [
    "dim(College)"
   ]
  },
  {
   "cell_type": "code",
   "execution_count": 3,
   "metadata": {},
   "outputs": [
    {
     "name": "stdout",
     "output_type": "stream",
     "text": [
      "'data.frame':\t777 obs. of  18 variables:\n",
      " $ Private    : Factor w/ 2 levels \"No\",\"Yes\": 2 2 2 2 2 2 2 2 2 2 ...\n",
      " $ Apps       : num  1660 2186 1428 417 193 ...\n",
      " $ Accept     : num  1232 1924 1097 349 146 ...\n",
      " $ Enroll     : num  721 512 336 137 55 158 103 489 227 172 ...\n",
      " $ Top10perc  : num  23 16 22 60 16 38 17 37 30 21 ...\n",
      " $ Top25perc  : num  52 29 50 89 44 62 45 68 63 44 ...\n",
      " $ F.Undergrad: num  2885 2683 1036 510 249 ...\n",
      " $ P.Undergrad: num  537 1227 99 63 869 ...\n",
      " $ Outstate   : num  7440 12280 11250 12960 7560 ...\n",
      " $ Room.Board : num  3300 6450 3750 5450 4120 ...\n",
      " $ Books      : num  450 750 400 450 800 500 500 450 300 660 ...\n",
      " $ Personal   : num  2200 1500 1165 875 1500 ...\n",
      " $ PhD        : num  70 29 53 92 76 67 90 89 79 40 ...\n",
      " $ Terminal   : num  78 30 66 97 72 73 93 100 84 41 ...\n",
      " $ S.F.Ratio  : num  18.1 12.2 12.9 7.7 11.9 9.4 11.5 13.7 11.3 11.5 ...\n",
      " $ perc.alumni: num  12 16 30 37 2 11 26 37 23 15 ...\n",
      " $ Expend     : num  7041 10527 8735 19016 10922 ...\n",
      " $ Grad.Rate  : num  60 56 54 59 15 55 63 73 80 52 ...\n"
     ]
    }
   ],
   "source": [
    "str(College)"
   ]
  },
  {
   "cell_type": "markdown",
   "metadata": {},
   "source": [
    "#### Convert \"Private\" to numeric "
   ]
  },
  {
   "cell_type": "code",
   "execution_count": 282,
   "metadata": {},
   "outputs": [],
   "source": [
    "College$Private <- as.numeric(College$Private)-1"
   ]
  },
  {
   "cell_type": "markdown",
   "metadata": {},
   "source": [
    "#### Check for missing values"
   ]
  },
  {
   "cell_type": "code",
   "execution_count": 283,
   "metadata": {},
   "outputs": [
    {
     "data": {
      "text/html": [
       "<dl class=dl-horizontal>\n",
       "\t<dt>Private</dt>\n",
       "\t\t<dd>0</dd>\n",
       "\t<dt>Apps</dt>\n",
       "\t\t<dd>0</dd>\n",
       "\t<dt>Accept</dt>\n",
       "\t\t<dd>0</dd>\n",
       "\t<dt>Enroll</dt>\n",
       "\t\t<dd>0</dd>\n",
       "\t<dt>Top10perc</dt>\n",
       "\t\t<dd>0</dd>\n",
       "\t<dt>Top25perc</dt>\n",
       "\t\t<dd>0</dd>\n",
       "\t<dt>F.Undergrad</dt>\n",
       "\t\t<dd>0</dd>\n",
       "\t<dt>P.Undergrad</dt>\n",
       "\t\t<dd>0</dd>\n",
       "\t<dt>Outstate</dt>\n",
       "\t\t<dd>0</dd>\n",
       "\t<dt>Room.Board</dt>\n",
       "\t\t<dd>0</dd>\n",
       "\t<dt>Books</dt>\n",
       "\t\t<dd>0</dd>\n",
       "\t<dt>Personal</dt>\n",
       "\t\t<dd>0</dd>\n",
       "\t<dt>PhD</dt>\n",
       "\t\t<dd>0</dd>\n",
       "\t<dt>Terminal</dt>\n",
       "\t\t<dd>0</dd>\n",
       "\t<dt>S.F.Ratio</dt>\n",
       "\t\t<dd>0</dd>\n",
       "\t<dt>perc.alumni</dt>\n",
       "\t\t<dd>0</dd>\n",
       "\t<dt>Expend</dt>\n",
       "\t\t<dd>0</dd>\n",
       "\t<dt>Grad.Rate</dt>\n",
       "\t\t<dd>0</dd>\n",
       "</dl>\n"
      ],
      "text/latex": [
       "\\begin{description*}\n",
       "\\item[Private] 0\n",
       "\\item[Apps] 0\n",
       "\\item[Accept] 0\n",
       "\\item[Enroll] 0\n",
       "\\item[Top10perc] 0\n",
       "\\item[Top25perc] 0\n",
       "\\item[F.Undergrad] 0\n",
       "\\item[P.Undergrad] 0\n",
       "\\item[Outstate] 0\n",
       "\\item[Room.Board] 0\n",
       "\\item[Books] 0\n",
       "\\item[Personal] 0\n",
       "\\item[PhD] 0\n",
       "\\item[Terminal] 0\n",
       "\\item[S.F.Ratio] 0\n",
       "\\item[perc.alumni] 0\n",
       "\\item[Expend] 0\n",
       "\\item[Grad.Rate] 0\n",
       "\\end{description*}\n"
      ],
      "text/markdown": [
       "Private\n",
       ":   0Apps\n",
       ":   0Accept\n",
       ":   0Enroll\n",
       ":   0Top10perc\n",
       ":   0Top25perc\n",
       ":   0F.Undergrad\n",
       ":   0P.Undergrad\n",
       ":   0Outstate\n",
       ":   0Room.Board\n",
       ":   0Books\n",
       ":   0Personal\n",
       ":   0PhD\n",
       ":   0Terminal\n",
       ":   0S.F.Ratio\n",
       ":   0perc.alumni\n",
       ":   0Expend\n",
       ":   0Grad.Rate\n",
       ":   0\n",
       "\n"
      ],
      "text/plain": [
       "    Private        Apps      Accept      Enroll   Top10perc   Top25perc \n",
       "          0           0           0           0           0           0 \n",
       "F.Undergrad P.Undergrad    Outstate  Room.Board       Books    Personal \n",
       "          0           0           0           0           0           0 \n",
       "        PhD    Terminal   S.F.Ratio perc.alumni      Expend   Grad.Rate \n",
       "          0           0           0           0           0           0 "
      ]
     },
     "metadata": {},
     "output_type": "display_data"
    }
   ],
   "source": [
    "colSums(is.na(College))"
   ]
  },
  {
   "cell_type": "markdown",
   "metadata": {},
   "source": [
    "- no missing values! Let's proceed"
   ]
  },
  {
   "cell_type": "markdown",
   "metadata": {},
   "source": [
    "### Check distribution of the variables"
   ]
  },
  {
   "cell_type": "code",
   "execution_count": 284,
   "metadata": {},
   "outputs": [
    {
     "data": {
      "image/png": "[encoded data removed]",
      "text/plain": [
       "Plot with title \"Outstate\""
      ]
     },
     "metadata": {},
     "output_type": "display_data"
    },
    {
     "data": {
      "image/png": "[encoded data removed]",
      "text/plain": [
       "Plot with title \"Grad.Rate\""
      ]
     },
     "metadata": {},
     "output_type": "display_data"
    }
   ],
   "source": [
    "par(mfrow = c(3,3))\n",
    "\n",
    "for (i in 1:length(College)) {\n",
    "  hist(as.numeric(College[,i]),breaks = 20,main=names(College)[i],xlab=NULL)\n",
    "}"
   ]
  },
  {
   "cell_type": "markdown",
   "metadata": {},
   "source": [
    "- some features are heavily skewed, therefore we will be performing some transformation on some of these features in order to achieve or simulate \"Gaussian distribution\" since the models that we will be fitting have normality assumption\n",
    "- also notice that the feature parameteres have very different scales, we will be performing feature standardization as well, after the train test split. Since the models we will be using will include some type of Euclidean distance calculation, scaling is important."
   ]
  },
  {
   "cell_type": "code",
   "execution_count": 285,
   "metadata": {},
   "outputs": [
    {
     "data": {
      "text/html": [
       "<ol class=list-inline>\n",
       "\t<li>'Private'</li>\n",
       "\t<li>'Apps'</li>\n",
       "\t<li>'Accept'</li>\n",
       "\t<li>'Enroll'</li>\n",
       "\t<li>'Top10perc'</li>\n",
       "\t<li>'Top25perc'</li>\n",
       "\t<li>'F.Undergrad'</li>\n",
       "\t<li>'P.Undergrad'</li>\n",
       "\t<li>'Outstate'</li>\n",
       "\t<li>'Room.Board'</li>\n",
       "\t<li>'Books'</li>\n",
       "\t<li>'Personal'</li>\n",
       "\t<li>'PhD'</li>\n",
       "\t<li>'Terminal'</li>\n",
       "\t<li>'S.F.Ratio'</li>\n",
       "\t<li>'perc.alumni'</li>\n",
       "\t<li>'Expend'</li>\n",
       "\t<li>'Grad.Rate'</li>\n",
       "</ol>\n"
      ],
      "text/latex": [
       "\\begin{enumerate*}\n",
       "\\item 'Private'\n",
       "\\item 'Apps'\n",
       "\\item 'Accept'\n",
       "\\item 'Enroll'\n",
       "\\item 'Top10perc'\n",
       "\\item 'Top25perc'\n",
       "\\item 'F.Undergrad'\n",
       "\\item 'P.Undergrad'\n",
       "\\item 'Outstate'\n",
       "\\item 'Room.Board'\n",
       "\\item 'Books'\n",
       "\\item 'Personal'\n",
       "\\item 'PhD'\n",
       "\\item 'Terminal'\n",
       "\\item 'S.F.Ratio'\n",
       "\\item 'perc.alumni'\n",
       "\\item 'Expend'\n",
       "\\item 'Grad.Rate'\n",
       "\\end{enumerate*}\n"
      ],
      "text/markdown": [
       "1. 'Private'\n",
       "2. 'Apps'\n",
       "3. 'Accept'\n",
       "4. 'Enroll'\n",
       "5. 'Top10perc'\n",
       "6. 'Top25perc'\n",
       "7. 'F.Undergrad'\n",
       "8. 'P.Undergrad'\n",
       "9. 'Outstate'\n",
       "10. 'Room.Board'\n",
       "11. 'Books'\n",
       "12. 'Personal'\n",
       "13. 'PhD'\n",
       "14. 'Terminal'\n",
       "15. 'S.F.Ratio'\n",
       "16. 'perc.alumni'\n",
       "17. 'Expend'\n",
       "18. 'Grad.Rate'\n",
       "\n",
       "\n"
      ],
      "text/plain": [
       " [1] \"Private\"     \"Apps\"        \"Accept\"      \"Enroll\"      \"Top10perc\"  \n",
       " [6] \"Top25perc\"   \"F.Undergrad\" \"P.Undergrad\" \"Outstate\"    \"Room.Board\" \n",
       "[11] \"Books\"       \"Personal\"    \"PhD\"         \"Terminal\"    \"S.F.Ratio\"  \n",
       "[16] \"perc.alumni\" \"Expend\"      \"Grad.Rate\"  "
      ]
     },
     "metadata": {},
     "output_type": "display_data"
    }
   ],
   "source": [
    "names(College)"
   ]
  },
  {
   "cell_type": "markdown",
   "metadata": {},
   "source": [
    "### Feature Engineering\n",
    "- we can see that \"Apps\", \"Accept\", \"Enroll\", \"Top10perc\",\"F.Undergrad\", \"P.Undergrad\", \"Personal\", \"S.F.Ratio\" and \"Expend\", are postively skewed, and  \"PhD\", \"Terminal\" are negatively skewed\n",
    "- we will perform transformation on these variables\n"
   ]
  },
  {
   "cell_type": "code",
   "execution_count": 512,
   "metadata": {},
   "outputs": [],
   "source": [
    "#postively skewed variables transformed using log(var+C), where c is a constant (5 in this case)\n",
    "log_Apps = log(College$Apps+5)\n",
    "log_Accept = log(College$Accept+5)\n",
    "log_Enroll = log(College$Enroll+5)\n",
    "log_Top10perc = log(College$Top10perc+5)\n",
    "log_F.Undergrad = log(College$F.Undergrad+5)\n",
    "log_P.Undergrad = log(College$F.Undergrad+5)\n",
    "log_Books = log(College$Books+5)\n",
    "log_Personal = log(College$Personal+5)\n",
    "log_S.F.Ratio = log(College$S.F.Ratio+5)\n",
    "log_Expend = log(College$Expend+5)\n",
    "\n",
    "#negatively skewed variables transformed using log((max(var)-var)+C), where c is a constant (5 in this case)\n",
    "\n",
    "log_PhD = log((max(College$PhD)-(College$PhD))+5)\n",
    "log_Terminal = log((max(College$Terminal)-(College$Terminal))+5)\n",
    "\n"
   ]
  },
  {
   "cell_type": "markdown",
   "metadata": {},
   "source": [
    "#### Replacing the original variables with the variables we just transformed "
   ]
  },
  {
   "cell_type": "code",
   "execution_count": 287,
   "metadata": {},
   "outputs": [],
   "source": [
    "temp <- College[,-c(2,3,4,5,7,8,9,11,12,13,14,17)]"
   ]
  },
  {
   "cell_type": "code",
   "execution_count": 288,
   "metadata": {},
   "outputs": [],
   "source": [
    "College_transformed <- as.data.frame(cbind(temp,\n",
    "                               log_Apps,\n",
    "                               log_Accept,\n",
    "                               log_Enroll,\n",
    "                               log_Top10perc,\n",
    "                               log_F.Undergrad,\n",
    "                               log_P.Undergrad,\n",
    "                               log_Books,\n",
    "                               log_Personal,\n",
    "                               log_S.F.Ratio,\n",
    "                               log_Expend,\n",
    "                               log_PhD,\n",
    "                               log_Terminal))"
   ]
  },
  {
   "cell_type": "code",
   "execution_count": 289,
   "metadata": {},
   "outputs": [
    {
     "data": {
      "text/html": [
       "<table>\n",
       "<thead><tr><th></th><th scope=col>Private</th><th scope=col>Apps</th><th scope=col>Accept</th><th scope=col>Enroll</th><th scope=col>Top10perc</th><th scope=col>Top25perc</th><th scope=col>F.Undergrad</th><th scope=col>P.Undergrad</th><th scope=col>Outstate</th><th scope=col>Room.Board</th><th scope=col>Books</th><th scope=col>Personal</th><th scope=col>PhD</th><th scope=col>Terminal</th><th scope=col>S.F.Ratio</th><th scope=col>perc.alumni</th><th scope=col>Expend</th><th scope=col>Grad.Rate</th></tr></thead>\n",
       "<tbody>\n",
       "\t<tr><th scope=row>Abilene Christian University</th><td>1    </td><td>1660 </td><td>1232 </td><td>721  </td><td>23   </td><td>52   </td><td>2885 </td><td> 537 </td><td> 7440</td><td>3300 </td><td>450  </td><td>2200 </td><td>70   </td><td>78   </td><td>18.1 </td><td>12   </td><td> 7041</td><td>60   </td></tr>\n",
       "\t<tr><th scope=row>Adelphi University</th><td>1    </td><td>2186 </td><td>1924 </td><td>512  </td><td>16   </td><td>29   </td><td>2683 </td><td>1227 </td><td>12280</td><td>6450 </td><td>750  </td><td>1500 </td><td>29   </td><td>30   </td><td>12.2 </td><td>16   </td><td>10527</td><td>56   </td></tr>\n",
       "\t<tr><th scope=row>Adrian College</th><td>1    </td><td>1428 </td><td>1097 </td><td>336  </td><td>22   </td><td>50   </td><td>1036 </td><td>  99 </td><td>11250</td><td>3750 </td><td>400  </td><td>1165 </td><td>53   </td><td>66   </td><td>12.9 </td><td>30   </td><td> 8735</td><td>54   </td></tr>\n",
       "\t<tr><th scope=row>Agnes Scott College</th><td>1    </td><td> 417 </td><td> 349 </td><td>137  </td><td>60   </td><td>89   </td><td> 510 </td><td>  63 </td><td>12960</td><td>5450 </td><td>450  </td><td> 875 </td><td>92   </td><td>97   </td><td> 7.7 </td><td>37   </td><td>19016</td><td>59   </td></tr>\n",
       "\t<tr><th scope=row>Alaska Pacific University</th><td>1    </td><td> 193 </td><td> 146 </td><td> 55  </td><td>16   </td><td>44   </td><td> 249 </td><td> 869 </td><td> 7560</td><td>4120 </td><td>800  </td><td>1500 </td><td>76   </td><td>72   </td><td>11.9 </td><td> 2   </td><td>10922</td><td>15   </td></tr>\n",
       "\t<tr><th scope=row>Albertson College</th><td>1    </td><td> 587 </td><td> 479 </td><td>158  </td><td>38   </td><td>62   </td><td> 678 </td><td>  41 </td><td>13500</td><td>3335 </td><td>500  </td><td> 675 </td><td>67   </td><td>73   </td><td> 9.4 </td><td>11   </td><td> 9727</td><td>55   </td></tr>\n",
       "</tbody>\n",
       "</table>\n"
      ],
      "text/latex": [
       "\\begin{tabular}{r|llllllllllllllllll}\n",
       "  & Private & Apps & Accept & Enroll & Top10perc & Top25perc & F.Undergrad & P.Undergrad & Outstate & Room.Board & Books & Personal & PhD & Terminal & S.F.Ratio & perc.alumni & Expend & Grad.Rate\\\\\n",
       "\\hline\n",
       "\tAbilene Christian University & 1     & 1660  & 1232  & 721   & 23    & 52    & 2885  &  537  &  7440 & 3300  & 450   & 2200  & 70    & 78    & 18.1  & 12    &  7041 & 60   \\\\\n",
       "\tAdelphi University & 1     & 2186  & 1924  & 512   & 16    & 29    & 2683  & 1227  & 12280 & 6450  & 750   & 1500  & 29    & 30    & 12.2  & 16    & 10527 & 56   \\\\\n",
       "\tAdrian College & 1     & 1428  & 1097  & 336   & 22    & 50    & 1036  &   99  & 11250 & 3750  & 400   & 1165  & 53    & 66    & 12.9  & 30    &  8735 & 54   \\\\\n",
       "\tAgnes Scott College & 1     &  417  &  349  & 137   & 60    & 89    &  510  &   63  & 12960 & 5450  & 450   &  875  & 92    & 97    &  7.7  & 37    & 19016 & 59   \\\\\n",
       "\tAlaska Pacific University & 1     &  193  &  146  &  55   & 16    & 44    &  249  &  869  &  7560 & 4120  & 800   & 1500  & 76    & 72    & 11.9  &  2    & 10922 & 15   \\\\\n",
       "\tAlbertson College & 1     &  587  &  479  & 158   & 38    & 62    &  678  &   41  & 13500 & 3335  & 500   &  675  & 67    & 73    &  9.4  & 11    &  9727 & 55   \\\\\n",
       "\\end{tabular}\n"
      ],
      "text/markdown": [
       "\n",
       "| <!--/--> | Private | Apps | Accept | Enroll | Top10perc | Top25perc | F.Undergrad | P.Undergrad | Outstate | Room.Board | Books | Personal | PhD | Terminal | S.F.Ratio | perc.alumni | Expend | Grad.Rate |\n",
       "|---|---|---|---|---|---|---|---|---|---|---|---|---|---|---|---|---|---|---|\n",
       "| Abilene Christian University | 1     | 1660  | 1232  | 721   | 23    | 52    | 2885  |  537  |  7440 | 3300  | 450   | 2200  | 70    | 78    | 18.1  | 12    |  7041 | 60    |\n",
       "| Adelphi University | 1     | 2186  | 1924  | 512   | 16    | 29    | 2683  | 1227  | 12280 | 6450  | 750   | 1500  | 29    | 30    | 12.2  | 16    | 10527 | 56    |\n",
       "| Adrian College | 1     | 1428  | 1097  | 336   | 22    | 50    | 1036  |   99  | 11250 | 3750  | 400   | 1165  | 53    | 66    | 12.9  | 30    |  8735 | 54    |\n",
       "| Agnes Scott College | 1     |  417  |  349  | 137   | 60    | 89    |  510  |   63  | 12960 | 5450  | 450   |  875  | 92    | 97    |  7.7  | 37    | 19016 | 59    |\n",
       "| Alaska Pacific University | 1     |  193  |  146  |  55   | 16    | 44    |  249  |  869  |  7560 | 4120  | 800   | 1500  | 76    | 72    | 11.9  |  2    | 10922 | 15    |\n",
       "| Albertson College | 1     |  587  |  479  | 158   | 38    | 62    |  678  |   41  | 13500 | 3335  | 500   |  675  | 67    | 73    |  9.4  | 11    |  9727 | 55    |\n",
       "\n"
      ],
      "text/plain": [
       "                             Private Apps Accept Enroll Top10perc Top25perc\n",
       "Abilene Christian University 1       1660 1232   721    23        52       \n",
       "Adelphi University           1       2186 1924   512    16        29       \n",
       "Adrian College               1       1428 1097   336    22        50       \n",
       "Agnes Scott College          1        417  349   137    60        89       \n",
       "Alaska Pacific University    1        193  146    55    16        44       \n",
       "Albertson College            1        587  479   158    38        62       \n",
       "                             F.Undergrad P.Undergrad Outstate Room.Board Books\n",
       "Abilene Christian University 2885         537         7440    3300       450  \n",
       "Adelphi University           2683        1227        12280    6450       750  \n",
       "Adrian College               1036          99        11250    3750       400  \n",
       "Agnes Scott College           510          63        12960    5450       450  \n",
       "Alaska Pacific University     249         869         7560    4120       800  \n",
       "Albertson College             678          41        13500    3335       500  \n",
       "                             Personal PhD Terminal S.F.Ratio perc.alumni Expend\n",
       "Abilene Christian University 2200     70  78       18.1      12           7041 \n",
       "Adelphi University           1500     29  30       12.2      16          10527 \n",
       "Adrian College               1165     53  66       12.9      30           8735 \n",
       "Agnes Scott College           875     92  97        7.7      37          19016 \n",
       "Alaska Pacific University    1500     76  72       11.9       2          10922 \n",
       "Albertson College             675     67  73        9.4      11           9727 \n",
       "                             Grad.Rate\n",
       "Abilene Christian University 60       \n",
       "Adelphi University           56       \n",
       "Adrian College               54       \n",
       "Agnes Scott College          59       \n",
       "Alaska Pacific University    15       \n",
       "Albertson College            55       "
      ]
     },
     "metadata": {},
     "output_type": "display_data"
    }
   ],
   "source": [
    "head(College)"
   ]
  },
  {
   "cell_type": "markdown",
   "metadata": {},
   "source": [
    "#### Now, let's take a look at the distribution of all the variables again"
   ]
  },
  {
   "cell_type": "code",
   "execution_count": 290,
   "metadata": {},
   "outputs": [
    {
     "data": {
      "image/png": "[encoded data removed]",
      "text/plain": [
       "Plot with title \"log_Enroll\""
      ]
     },
     "metadata": {},
     "output_type": "display_data"
    },
    {
     "data": {
      "image/png": "[encoded data removed]",
      "text/plain": [
       "Plot with title \"log_Terminal\""
      ]
     },
     "metadata": {},
     "output_type": "display_data"
    }
   ],
   "source": [
    "par(mfrow=c(3,3))\n",
    "for (i in 1:length(College_transformed)){\n",
    "    hist(College_transformed[,i],breaks=20,xlab=NULL,main = names(College_transformed)[i])\n",
    "}"
   ]
  },
  {
   "cell_type": "markdown",
   "metadata": {},
   "source": [
    "- almost all variables are close to normal distribution, let's proceed"
   ]
  },
  {
   "cell_type": "code",
   "execution_count": 291,
   "metadata": {},
   "outputs": [],
   "source": [
    "College_df <- College_transformed"
   ]
  },
  {
   "cell_type": "markdown",
   "metadata": {},
   "source": [
    "### Define independent and dependent variables"
   ]
  },
  {
   "cell_type": "code",
   "execution_count": 292,
   "metadata": {},
   "outputs": [],
   "source": [
    "X <- model.matrix(College_df$log_Apps~.,College_df)[,-7]\n",
    "y <- College_df$log_Apps"
   ]
  },
  {
   "cell_type": "markdown",
   "metadata": {},
   "source": [
    "## Train test split"
   ]
  },
  {
   "cell_type": "code",
   "execution_count": 329,
   "metadata": {},
   "outputs": [],
   "source": [
    "set.seed(20)"
   ]
  },
  {
   "cell_type": "code",
   "execution_count": 330,
   "metadata": {},
   "outputs": [],
   "source": [
    "indx = sample(1:length(College_df[,1]), 2/3*length(College_df[,1]))\n",
    "College_train_df = College_df[indx,]\n",
    "College_test_df = College_df[-indx,]\n"
   ]
  },
  {
   "cell_type": "markdown",
   "metadata": {},
   "source": [
    "### Scaling feature parameters"
   ]
  },
  {
   "cell_type": "code",
   "execution_count": 331,
   "metadata": {},
   "outputs": [],
   "source": [
    "College_train_df <- as.data.frame(scale(College_train_df))"
   ]
  },
  {
   "cell_type": "code",
   "execution_count": 332,
   "metadata": {},
   "outputs": [],
   "source": [
    "College_test_df <- as.data.frame(scale(College_test_df))"
   ]
  },
  {
   "cell_type": "markdown",
   "metadata": {},
   "source": [
    "### Define Independent and dependent variables"
   ]
  },
  {
   "cell_type": "code",
   "execution_count": 335,
   "metadata": {},
   "outputs": [],
   "source": [
    "idx = grep(\"log_Apps\", colnames(College_train_df))\n",
    "y_train_college <- College_train_df[,idx]\n",
    "X_train_college <- College_train_df[,-idx]\n",
    "y_test_college <- College_test_df[,idx]\n",
    "X_test_college <- College_test_df[,-idx]\n"
   ]
  },
  {
   "cell_type": "code",
   "execution_count": null,
   "metadata": {},
   "outputs": [],
   "source": [
    "X_mat_train_college <- model.matrix(College_train_df$log_Apps~.,X_train_college)[,-idx]\n",
    "X_mat_test_college <- model.matrix(College_test_df$log_Apps~.,X_test_college)[,-idx]"
   ]
  },
  {
   "cell_type": "markdown",
   "metadata": {},
   "source": [
    "## Least Squares Method Regression"
   ]
  },
  {
   "cell_type": "code",
   "execution_count": 336,
   "metadata": {},
   "outputs": [],
   "source": [
    "lm_mod_college <- lm(formula = College_train_df$log_Apps~.,data = College_train_df)"
   ]
  },
  {
   "cell_type": "code",
   "execution_count": 337,
   "metadata": {},
   "outputs": [
    {
     "name": "stderr",
     "output_type": "stream",
     "text": [
      "Warning message in predict.lm(lm_mod_college, X_test_college):\n",
      "\"prediction from a rank-deficient fit may be misleading\""
     ]
    }
   ],
   "source": [
    "y_pred_college = predict(lm_mod_college,X_test_college)"
   ]
  },
  {
   "cell_type": "markdown",
   "metadata": {},
   "source": [
    "#### Calculate MSE"
   ]
  },
  {
   "cell_type": "code",
   "execution_count": 531,
   "metadata": {},
   "outputs": [
    {
     "name": "stdout",
     "output_type": "stream",
     "text": [
      "MSE for least-square method model:  0.03581371"
     ]
    }
   ],
   "source": [
    "MSE_lm = mse(y_test_college, y_pred_college)\n",
    "cat(\"MSE for least-square method model: \", MSE_lm)"
   ]
  },
  {
   "cell_type": "markdown",
   "metadata": {},
   "source": [
    "## Ridge"
   ]
  },
  {
   "cell_type": "code",
   "execution_count": 304,
   "metadata": {},
   "outputs": [
    {
     "name": "stderr",
     "output_type": "stream",
     "text": [
      "Warning message:\n",
      "\"package 'glmnet' was built under R version 3.6.3\"Loading required package: Matrix\n",
      "Loaded glmnet 4.0-2\n"
     ]
    }
   ],
   "source": [
    "library(glmnet)"
   ]
  },
  {
   "cell_type": "code",
   "execution_count": 315,
   "metadata": {},
   "outputs": [],
   "source": [
    "lambda_range = 10^seq(10,-2,length=100) "
   ]
  },
  {
   "cell_type": "code",
   "execution_count": 341,
   "metadata": {},
   "outputs": [],
   "source": [
    "ridge_mod = glmnet(X_mat_train_college,y_train_college,alpha=0,lambda=lambda_range,standardization=FALSE)"
   ]
  },
  {
   "cell_type": "markdown",
   "metadata": {},
   "source": [
    "#### Let's plot our coefficent values against lambda "
   ]
  },
  {
   "cell_type": "code",
   "execution_count": 514,
   "metadata": {},
   "outputs": [
    {
     "data": {
      "image/png": "[encoded data removed]",
      "text/plain": [
       "plot without title"
      ]
     },
     "metadata": {},
     "output_type": "display_data"
    }
   ],
   "source": [
    "plot(ridge_mod,xvar=\"lambda\")\n"
   ]
  },
  {
   "cell_type": "markdown",
   "metadata": {},
   "source": [
    "- we can see that at log lambda  ~6, all the variable parameters are almost close to 0"
   ]
  },
  {
   "cell_type": "markdown",
   "metadata": {},
   "source": [
    "### Lambda value selection using Cross-Validation method"
   ]
  },
  {
   "cell_type": "code",
   "execution_count": 359,
   "metadata": {},
   "outputs": [
    {
     "data": {
      "text/html": [
       "0.0973506217377627"
      ],
      "text/latex": [
       "0.0973506217377627"
      ],
      "text/markdown": [
       "0.0973506217377627"
      ],
      "text/plain": [
       "[1] 0.09735062"
      ]
     },
     "metadata": {},
     "output_type": "display_data"
    },
    {
     "data": {
      "image/png": "[encoded data removed]",
      "text/plain": [
       "plot without title"
      ]
     },
     "metadata": {},
     "output_type": "display_data"
    }
   ],
   "source": [
    "set.seed(20)\n",
    "cv_err_ridge = cv.glmnet(X_mat_train_college,y_train_college,alpha=0,standardization=FALSE)\n",
    "plot(cv_err_ridge)\n",
    "bestlam_ridge = cv_err_ridge$lambda.min\n",
    "bestlam_ridge"
   ]
  },
  {
   "cell_type": "code",
   "execution_count": 515,
   "metadata": {},
   "outputs": [],
   "source": [
    "y_pred_ridge = predict(ridge_mod,s=bestlam_ridge,newx=X_mat_test_college)"
   ]
  },
  {
   "cell_type": "markdown",
   "metadata": {},
   "source": [
    "#### Calculate MSE"
   ]
  },
  {
   "cell_type": "code",
   "execution_count": 517,
   "metadata": {},
   "outputs": [
    {
     "name": "stdout",
     "output_type": "stream",
     "text": [
      "MSE for Ridge method model:  0.05209206"
     ]
    }
   ],
   "source": [
    "MSE_ridge = mse(y_test_college,y_pred_ridge)\n",
    "cat(\"MSE for Ridge method model: \", MSE_ridge)"
   ]
  },
  {
   "cell_type": "markdown",
   "metadata": {},
   "source": [
    "## Lasso"
   ]
  },
  {
   "cell_type": "code",
   "execution_count": 356,
   "metadata": {},
   "outputs": [],
   "source": [
    "lasso_mod <- glmnet(X_mat_train_college,y_train_college,alpha=1,lambda=lambda_range,standardization=FALSE)"
   ]
  },
  {
   "cell_type": "markdown",
   "metadata": {},
   "source": [
    "#### Let's plot our coefficent values against lambda "
   ]
  },
  {
   "cell_type": "code",
   "execution_count": 518,
   "metadata": {},
   "outputs": [
    {
     "data": {
      "image/png": "[encoded data removed]",
      "text/plain": [
       "plot without title"
      ]
     },
     "metadata": {},
     "output_type": "display_data"
    }
   ],
   "source": [
    "plot(lasso_mod,xvar=\"lambda\")\n"
   ]
  },
  {
   "cell_type": "markdown",
   "metadata": {},
   "source": [
    "- we can see from this figure that, lasso set most variables to 0 at around ~log(lambda=-2.5) "
   ]
  },
  {
   "cell_type": "code",
   "execution_count": 519,
   "metadata": {},
   "outputs": [
    {
     "data": {
      "text/html": [
       "0.00191103227248065"
      ],
      "text/latex": [
       "0.00191103227248065"
      ],
      "text/markdown": [
       "0.00191103227248065"
      ],
      "text/plain": [
       "[1] 0.001911032"
      ]
     },
     "metadata": {},
     "output_type": "display_data"
    },
    {
     "data": {
      "image/png": "[encoded data removed]",
      "text/plain": [
       "plot without title"
      ]
     },
     "metadata": {},
     "output_type": "display_data"
    }
   ],
   "source": [
    "set.seed(20)\n",
    "cv_err_lasso = cv.glmnet(X_mat_train_college,y_train_college,alpha=1,standardization=FALSE)\n",
    "plot(cv_err_lasso)\n",
    "bestlam_lasso = cv_err_lasso$lambda.min\n",
    "bestlam_lasso"
   ]
  },
  {
   "cell_type": "code",
   "execution_count": 520,
   "metadata": {},
   "outputs": [
    {
     "data": {
      "text/html": [
       "0.0356836177342734"
      ],
      "text/latex": [
       "0.0356836177342734"
      ],
      "text/markdown": [
       "0.0356836177342734"
      ],
      "text/plain": [
       "[1] 0.03568362"
      ]
     },
     "metadata": {},
     "output_type": "display_data"
    }
   ],
   "source": [
    "y_pred_lasso = predict(lasso_mod,s=bestlam_lasso,newx=X_mat_test_college)\n"
   ]
  },
  {
   "cell_type": "markdown",
   "metadata": {},
   "source": [
    "#### Calculate MSE"
   ]
  },
  {
   "cell_type": "code",
   "execution_count": 521,
   "metadata": {},
   "outputs": [
    {
     "name": "stdout",
     "output_type": "stream",
     "text": [
      "MSE for Lasso method model:  0.03568362"
     ]
    }
   ],
   "source": [
    "MSE_lasso = mse(y_test_college,y_pred_lasso)\n",
    "cat(\"MSE for Lasso method model: \", MSE_lasso)"
   ]
  },
  {
   "cell_type": "markdown",
   "metadata": {},
   "source": [
    "#### View the the remaining variables in the final model, since lasso method performs \"variable selection\" by setting some variables to 0 with some lambda value"
   ]
  },
  {
   "cell_type": "code",
   "execution_count": 368,
   "metadata": {},
   "outputs": [
    {
     "data": {
      "text/html": [
       "<dl class=dl-horizontal>\n",
       "\t<dt>(Intercept)</dt>\n",
       "\t\t<dd>-4.23906247810162e-16</dd>\n",
       "\t<dt>(Intercept)</dt>\n",
       "\t\t<dd>0</dd>\n",
       "\t<dt>Private</dt>\n",
       "\t\t<dd>-0.0294507660898275</dd>\n",
       "\t<dt>Top25perc</dt>\n",
       "\t\t<dd>0.0580084154906407</dd>\n",
       "\t<dt>Room.Board</dt>\n",
       "\t\t<dd>0.025522166524713</dd>\n",
       "\t<dt>S.F.Ratio</dt>\n",
       "\t\t<dd>0</dd>\n",
       "\t<dt>perc.alumni</dt>\n",
       "\t\t<dd>0</dd>\n",
       "\t<dt>log_Accept</dt>\n",
       "\t\t<dd>0.843295380976188</dd>\n",
       "\t<dt>log_Enroll</dt>\n",
       "\t\t<dd>0.0300545042201934</dd>\n",
       "\t<dt>log_Top10perc</dt>\n",
       "\t\t<dd>0</dd>\n",
       "\t<dt>log_F.Undergrad</dt>\n",
       "\t\t<dd>0.0478110167486787</dd>\n",
       "\t<dt>log_P.Undergrad</dt>\n",
       "\t\t<dd>0.000708158837435835</dd>\n",
       "\t<dt>log_Books</dt>\n",
       "\t\t<dd>0.0125790414620045</dd>\n",
       "\t<dt>log_Personal</dt>\n",
       "\t\t<dd>0</dd>\n",
       "\t<dt>log_S.F.Ratio</dt>\n",
       "\t\t<dd>0</dd>\n",
       "\t<dt>log_Expend</dt>\n",
       "\t\t<dd>0.0559768860233716</dd>\n",
       "\t<dt>log_PhD</dt>\n",
       "\t\t<dd>0</dd>\n",
       "\t<dt>log_Terminal</dt>\n",
       "\t\t<dd>0</dd>\n",
       "</dl>\n"
      ],
      "text/latex": [
       "\\begin{description*}\n",
       "\\item[(Intercept)] -4.23906247810162e-16\n",
       "\\item[(Intercept)] 0\n",
       "\\item[Private] -0.0294507660898275\n",
       "\\item[Top25perc] 0.0580084154906407\n",
       "\\item[Room.Board] 0.025522166524713\n",
       "\\item[S.F.Ratio] 0\n",
       "\\item[perc.alumni] 0\n",
       "\\item[log\\textbackslash{}\\_Accept] 0.843295380976188\n",
       "\\item[log\\textbackslash{}\\_Enroll] 0.0300545042201934\n",
       "\\item[log\\textbackslash{}\\_Top10perc] 0\n",
       "\\item[log\\textbackslash{}\\_F.Undergrad] 0.0478110167486787\n",
       "\\item[log\\textbackslash{}\\_P.Undergrad] 0.000708158837435835\n",
       "\\item[log\\textbackslash{}\\_Books] 0.0125790414620045\n",
       "\\item[log\\textbackslash{}\\_Personal] 0\n",
       "\\item[log\\textbackslash{}\\_S.F.Ratio] 0\n",
       "\\item[log\\textbackslash{}\\_Expend] 0.0559768860233716\n",
       "\\item[log\\textbackslash{}\\_PhD] 0\n",
       "\\item[log\\textbackslash{}\\_Terminal] 0\n",
       "\\end{description*}\n"
      ],
      "text/markdown": [
       "(Intercept)\n",
       ":   -4.23906247810162e-16(Intercept)\n",
       ":   0Private\n",
       ":   -0.0294507660898275Top25perc\n",
       ":   0.0580084154906407Room.Board\n",
       ":   0.025522166524713S.F.Ratio\n",
       ":   0perc.alumni\n",
       ":   0log_Accept\n",
       ":   0.843295380976188log_Enroll\n",
       ":   0.0300545042201934log_Top10perc\n",
       ":   0log_F.Undergrad\n",
       ":   0.0478110167486787log_P.Undergrad\n",
       ":   0.000708158837435835log_Books\n",
       ":   0.0125790414620045log_Personal\n",
       ":   0log_S.F.Ratio\n",
       ":   0log_Expend\n",
       ":   0.0559768860233716log_PhD\n",
       ":   0log_Terminal\n",
       ":   0\n",
       "\n"
      ],
      "text/plain": [
       "    (Intercept)     (Intercept)         Private       Top25perc      Room.Board \n",
       "  -4.239062e-16    0.000000e+00   -2.945077e-02    5.800842e-02    2.552217e-02 \n",
       "      S.F.Ratio     perc.alumni      log_Accept      log_Enroll   log_Top10perc \n",
       "   0.000000e+00    0.000000e+00    8.432954e-01    3.005450e-02    0.000000e+00 \n",
       "log_F.Undergrad log_P.Undergrad       log_Books    log_Personal   log_S.F.Ratio \n",
       "   4.781102e-02    7.081588e-04    1.257904e-02    0.000000e+00    0.000000e+00 \n",
       "     log_Expend         log_PhD    log_Terminal \n",
       "   5.597689e-02    0.000000e+00    0.000000e+00 "
      ]
     },
     "metadata": {},
     "output_type": "display_data"
    }
   ],
   "source": [
    "predict(lasso_mod,type=\"coefficients\",s=bestlam_lasso)[1:18,]"
   ]
  },
  {
   "cell_type": "markdown",
   "metadata": {},
   "source": [
    "- we can see that we now have 9 variables in the final model (not including intercept), instead of 17 variables in the dataset"
   ]
  },
  {
   "cell_type": "markdown",
   "metadata": {},
   "source": [
    "## Principle Component Regression"
   ]
  },
  {
   "cell_type": "code",
   "execution_count": 369,
   "metadata": {},
   "outputs": [
    {
     "name": "stderr",
     "output_type": "stream",
     "text": [
      "Warning message:\n",
      "\"package 'pls' was built under R version 3.6.3\"\n",
      "Attaching package: 'pls'\n",
      "\n",
      "The following object is masked from 'package:stats':\n",
      "\n",
      "    loadings\n",
      "\n"
     ]
    }
   ],
   "source": [
    "# install.packages(\"pls\")\n",
    "library(pls)"
   ]
  },
  {
   "cell_type": "code",
   "execution_count": 370,
   "metadata": {},
   "outputs": [],
   "source": [
    "set.seed(30)"
   ]
  },
  {
   "cell_type": "code",
   "execution_count": 1,
   "metadata": {},
   "outputs": [
    {
     "ename": "ERROR",
     "evalue": "Error in pcrcomp(log_Apps ~ ., data = College_train_df, scale = FALSE, : could not find function \"pcrcomp\"\n",
     "output_type": "error",
     "traceback": [
      "Error in pcrcomp(log_Apps ~ ., data = College_train_df, scale = FALSE, : could not find function \"pcrcomp\"\nTraceback:\n"
     ]
    }
   ],
   "source": [
    "pcr_mod = pcrcomp(log_Apps~.,data=College_train_df,scale=FALSE,validation=\"CV\")"
   ]
  },
  {
   "cell_type": "markdown",
   "metadata": {},
   "source": [
    "#### Let's plot a validation plot"
   ]
  },
  {
   "cell_type": "code",
   "execution_count": 372,
   "metadata": {},
   "outputs": [
    {
     "data": {
      "image/png": "[encoded data removed]",
      "text/plain": [
       "Plot with title \"log_Apps\""
      ]
     },
     "metadata": {},
     "output_type": "display_data"
    }
   ],
   "source": [
    "validationplot(pcr_mod,val.type=\"MSEP\")"
   ]
  },
  {
   "cell_type": "markdown",
   "metadata": {},
   "source": [
    "- visually, we can see that 156components has the lowest msep, however, we can see that the MSEP values really did not change that much from 6~15 components roughtly"
   ]
  },
  {
   "cell_type": "code",
   "execution_count": 373,
   "metadata": {},
   "outputs": [
    {
     "name": "stdout",
     "output_type": "stream",
     "text": [
      "Data: \tX dimension: 518 17 \n",
      "\tY dimension: 518 1\n",
      "Fit method: svdpc\n",
      "Number of components considered: 17\n",
      "\n",
      "VALIDATION: RMSEP\n",
      "Cross-validated using 10 random segments.\n"
     ]
    },
    {
     "name": "stderr",
     "output_type": "stream",
     "text": [
      "Warning message in sqrt(z$val):\n",
      "\"NaNs produced\""
     ]
    },
    {
     "name": "stdout",
     "output_type": "stream",
     "text": [
      "       (Intercept)  1 comps  2 comps  3 comps  4 comps  5 comps  6 comps\n",
      "CV           1.001   0.8240   0.3669   0.3699   0.3575   0.3428   0.2874\n",
      "adjCV        1.001   0.8243   0.3667   0.3698   0.3585   0.3445   0.2866\n",
      "       7 comps  8 comps  9 comps  10 comps  11 comps  12 comps  13 comps\n",
      "CV      0.2873   0.2865   0.2780    0.2724    0.2739    0.2739    0.2017\n",
      "adjCV   0.2868   0.2861   0.2777    0.2720    0.2735    0.2736    0.2010\n",
      "       14 comps  15 comps  16 comps  17 comps\n",
      "CV       0.2017    0.1964    0.1950    0.7037\n",
      "adjCV    0.2014    0.1960    0.1946       NaN\n",
      "\n",
      "TRAINING: % variance explained\n",
      "          1 comps  2 comps  3 comps  4 comps  5 comps  6 comps  7 comps\n",
      "X           32.15    62.09    69.97    75.81    80.96    85.84    89.54\n",
      "log_Apps    34.62    86.71    86.71    87.96    89.16    92.13    92.15\n",
      "          8 comps  9 comps  10 comps  11 comps  12 comps  13 comps  14 comps\n",
      "X           92.76    95.17     96.90     97.93     98.80     99.34     99.75\n",
      "log_Apps    92.21    92.64     92.94     92.94     92.97     96.18     96.18\n",
      "          15 comps  16 comps  17 comps\n",
      "X            99.91     100.0     100.0\n",
      "log_Apps     96.42      96.5      96.5\n"
     ]
    }
   ],
   "source": [
    "summary(pcr_mod)"
   ]
  },
  {
   "cell_type": "markdown",
   "metadata": {},
   "source": [
    "-we can look at the CV error for number of components, it seems like from 12 components to 13 components there is a drastic decrease in MSEP values, and did not change too much after that until 17 components. Therefore we will be using 13 components in our model  even though 15 gave use the minimum MSEP, but 13 would do the justice."
   ]
  },
  {
   "cell_type": "code",
   "execution_count": 527,
   "metadata": {},
   "outputs": [],
   "source": [
    "y_pred_pcr = predict(pcr_mod,X_mat_test_college,ncomp=13)"
   ]
  },
  {
   "cell_type": "markdown",
   "metadata": {},
   "source": [
    "#### Calculate MSE"
   ]
  },
  {
   "cell_type": "code",
   "execution_count": 529,
   "metadata": {},
   "outputs": [
    {
     "name": "stdout",
     "output_type": "stream",
     "text": [
      "MSE for PCR method model:  0.07456351"
     ]
    }
   ],
   "source": [
    "MSE_pcr = mse(y_test_college,y_pred_pcr)\n",
    "cat(\"MSE for PCR method model: \", MSE_pcr)"
   ]
  },
  {
   "cell_type": "markdown",
   "metadata": {},
   "source": [
    "## Partial Least Square"
   ]
  },
  {
   "cell_type": "code",
   "execution_count": 377,
   "metadata": {},
   "outputs": [],
   "source": [
    "set.seed(30)"
   ]
  },
  {
   "cell_type": "code",
   "execution_count": 378,
   "metadata": {},
   "outputs": [],
   "source": [
    "pls_mod = plsr(log_Apps~.,data=College_train_df,scale=FALSE,validation=\"CV\")"
   ]
  },
  {
   "cell_type": "markdown",
   "metadata": {},
   "source": [
    "#### Let's plot a validation plot"
   ]
  },
  {
   "cell_type": "code",
   "execution_count": 234,
   "metadata": {},
   "outputs": [
    {
     "data": {
      "image/png": "[encoded data removed]",
      "text/plain": [
       "Plot with title \"log_Apps\""
      ]
     },
     "metadata": {},
     "output_type": "display_data"
    }
   ],
   "source": [
    "validationplot(pls_mod,val.type=\"MSEP\")"
   ]
  },
  {
   "cell_type": "markdown",
   "metadata": {},
   "source": [
    "- we can see from the graph above that there is a big jump in MSEP, however MSEP kind of saturates after ~5 components"
   ]
  },
  {
   "cell_type": "code",
   "execution_count": 233,
   "metadata": {},
   "outputs": [
    {
     "name": "stdout",
     "output_type": "stream",
     "text": [
      "Data: \tX dimension: 518 17 \n",
      "\tY dimension: 518 1\n",
      "Fit method: kernelpls\n",
      "Number of components considered: 17\n",
      "\n",
      "VALIDATION: RMSEP\n",
      "Cross-validated using 10 random segments.\n",
      "       (Intercept)  1 comps  2 comps  3 comps  4 comps  5 comps  6 comps\n",
      "CV           1.001   0.3429   0.2949   0.2691   0.2369   0.2208   0.2115\n",
      "adjCV        1.001   0.3423   0.2953   0.2691   0.2354   0.2192   0.2102\n",
      "       7 comps  8 comps  9 comps  10 comps  11 comps  12 comps  13 comps\n",
      "CV      0.2103   0.2102   0.2087    0.2079    0.2073    0.2070    0.2074\n",
      "adjCV   0.2094   0.2094   0.2081    0.2074    0.2069    0.2066    0.2069\n",
      "       14 comps  15 comps  16 comps  17 comps\n",
      "CV       0.2072    0.2070    0.2070    0.2070\n",
      "adjCV    0.2068    0.2065    0.2066    0.2066\n",
      "\n",
      "TRAINING: % variance explained\n",
      "          1 comps  2 comps  3 comps  4 comps  5 comps  6 comps  7 comps\n",
      "X           31.08    47.12    67.60    69.87    73.25    75.78    78.55\n",
      "log_Apps    88.55    91.60    93.08    94.89    95.57    95.87    95.92\n",
      "          8 comps  9 comps  10 comps  11 comps  12 comps  13 comps  14 comps\n",
      "X           83.15    86.65     89.68     93.74     95.45     98.45     98.99\n",
      "log_Apps    95.94    95.99     96.02     96.04     96.05     96.05     96.06\n",
      "          15 comps  16 comps  17 comps\n",
      "X            99.60    100.00    100.77\n",
      "log_Apps     96.07     96.07     96.07\n"
     ]
    }
   ],
   "source": [
    "summary(pls_mod)"
   ]
  },
  {
   "cell_type": "markdown",
   "metadata": {},
   "source": [
    "- by looking at the summary table. we see that 4 components model seems to yield a low CV error, from 3 components to 4 components there is a somewhat significant decrease in MSEP values. However after 4 components, MSEP does not have drastic changes. We will include 4 components in our final model for PLS"
   ]
  },
  {
   "cell_type": "code",
   "execution_count": 381,
   "metadata": {},
   "outputs": [],
   "source": [
    "y_pred_pls = predict(pls_mod,X_mat_test_college,ncomp=4)"
   ]
  },
  {
   "cell_type": "markdown",
   "metadata": {},
   "source": [
    "#### Calculate MSE"
   ]
  },
  {
   "cell_type": "code",
   "execution_count": 530,
   "metadata": {},
   "outputs": [
    {
     "name": "stdout",
     "output_type": "stream",
     "text": [
      "MSE for PLS method model:  0.05698753"
     ]
    }
   ],
   "source": [
    "MSE_pls = mse(y_test_college,y_pred_pls)\n",
    "cat(\"MSE for PLS method model: \", MSE_pls)\n"
   ]
  },
  {
   "cell_type": "markdown",
   "metadata": {},
   "source": [
    "## Compare all 5 methods: \n",
    "- Least squares (baseline)\n",
    "- Ridge\n",
    "- Lasso\n",
    "- Principle Component Regression\n",
    "- Partial Least Square"
   ]
  },
  {
   "cell_type": "code",
   "execution_count": 532,
   "metadata": {},
   "outputs": [
    {
     "data": {
      "text/html": [
       "<table>\n",
       "<thead><tr><th scope=col>MSE_lm</th><th scope=col>MSE_ridge</th><th scope=col>MSE_lasso</th><th scope=col>MSE_pcr</th><th scope=col>MSE_pls</th></tr></thead>\n",
       "<tbody>\n",
       "\t<tr><td>0.03581371</td><td>0.05209206</td><td>0.03568362</td><td>0.07456351</td><td>0.05698753</td></tr>\n",
       "</tbody>\n",
       "</table>\n"
      ],
      "text/latex": [
       "\\begin{tabular}{lllll}\n",
       " MSE\\_lm & MSE\\_ridge & MSE\\_lasso & MSE\\_pcr & MSE\\_pls\\\\\n",
       "\\hline\n",
       "\t 0.03581371 & 0.05209206 & 0.03568362 & 0.07456351 & 0.05698753\\\\\n",
       "\\end{tabular}\n"
      ],
      "text/markdown": [
       "\n",
       "| MSE_lm | MSE_ridge | MSE_lasso | MSE_pcr | MSE_pls |\n",
       "|---|---|---|---|---|\n",
       "| 0.03581371 | 0.05209206 | 0.03568362 | 0.07456351 | 0.05698753 |\n",
       "\n"
      ],
      "text/plain": [
       "     MSE_lm     MSE_ridge  MSE_lasso  MSE_pcr    MSE_pls   \n",
       "[1,] 0.03581371 0.05209206 0.03568362 0.07456351 0.05698753"
      ]
     },
     "metadata": {},
     "output_type": "display_data"
    }
   ],
   "source": [
    "cbind(MSE_lm,MSE_ridge,MSE_lasso,MSE_pcr,MSE_pls)"
   ]
  },
  {
   "cell_type": "markdown",
   "metadata": {},
   "source": [
    "- the table above displays all the MSE values from the 5 technique above, the model with \"best\" parameters, such as lambda values for ridge and lasso, number of components for PCR and PLS are chosen to generate the final model. I am using least square method model as a baseline to compare with other models. The \"best\" parameter are sometimes determines by the algorithm where parameters that produces the minimum error is taken. However for PCR, and PLS, I personally chose number of components that gives us the best trade-off not necessarily the smallest error. Of course my choice could biased and different from others. However, if we look at the table above, we can see that there is not a huge different among these MSE values with highest being the MSE from PCR and lowest being the MSE from least square method (which is our baseline method). This could be due to many faactors, one of them is that in a model with a small observation and small dimensions, sometimes we do not need complex methods to perform feature selection or feature engineering. In this case, the linear model can do the job perfectly fine, and predict the applications received well. However in a dataset with high p, these method would come in handy and are expected to perform substantially better. "
   ]
  }
 ],
 "metadata": {
  "kernelspec": {
   "display_name": "R",
   "language": "R",
   "name": "ir"
  },
  "language_info": {
   "codemirror_mode": "r",
   "file_extension": ".r",
   "mimetype": "text/x-r-source",
   "name": "R",
   "pygments_lexer": "r",
   "version": "3.6.1"
  }
 },
 "nbformat": 4,
 "nbformat_minor": 4
}
