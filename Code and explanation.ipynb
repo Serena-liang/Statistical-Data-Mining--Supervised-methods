{
 "cells": [
  {
   "cell_type": "code",
   "execution_count": 262,
   "metadata": {},
   "outputs": [],
   "source": [
    "rm(list = ls())\n"
   ]
  },
  {
   "cell_type": "markdown",
   "metadata": {},
   "source": [
    "# Question 1"
   ]
  },
  {
   "cell_type": "markdown",
   "metadata": {},
   "source": [
    "## Import libraries"
   ]
  },
  {
   "cell_type": "code",
   "execution_count": 263,
   "metadata": {},
   "outputs": [],
   "source": [
    "install.packages(\"psych\")\n",
    "library(psych)\n",
    "install.packages(\"ggcorrplot\")\n",
    "library(ggplot2)\n",
    "library(ggcorrplot)\n",
    "install.packages(\"PerformanceAnalytics\")\n",
    "library(\"PerformanceAnalytics\")\n",
    "library(coefplot)\n",
    "library(dplyr)\n",
    "\n"
   ]
  },
  {
   "cell_type": "markdown",
   "metadata": {},
   "source": [
    "## Load and view the dataset"
   ]
  },
  {
   "cell_type": "code",
   "execution_count": 1,
   "metadata": {},
   "outputs": [
    {
     "name": "stderr",
     "output_type": "stream",
     "text": [
      "Warning message in file(file, \"rt\"):\n",
      "\"cannot open file 'cereal.csv': No such file or directory\""
     ]
    },
    {
     "ename": "ERROR",
     "evalue": "Error in file(file, \"rt\"): cannot open the connection\n",
     "output_type": "error",
     "traceback": [
      "Error in file(file, \"rt\"): cannot open the connection\nTraceback:\n",
      "1. read.csv(\"cereal.csv\", header = T, na.string = \"?\")",
      "2. read.table(file = file, header = header, sep = sep, quote = quote, \n .     dec = dec, fill = fill, comment.char = comment.char, ...)",
      "3. file(file, \"rt\")"
     ]
    }
   ],
   "source": [
    "Auto <- read.csv(\"Auto.csv\",header=T,na.string=\"?\")\n",
    "attach(Auto)\n",
    "head(Auto)\n",
    "\n"
   ]
  },
  {
   "cell_type": "code",
   "execution_count": null,
   "metadata": {
    "collapsed": true
   },
   "outputs": [],
   "source": []
  },
  {
   "cell_type": "markdown",
   "metadata": {},
   "source": [
    "## Explore dataset structure"
   ]
  },
  {
   "cell_type": "code",
   "execution_count": 6,
   "metadata": {
    "scrolled": true
   },
   "outputs": [
    {
     "data": {
      "text/html": [
       "<ol class=list-inline>\n",
       "\t<li>397</li>\n",
       "\t<li>9</li>\n",
       "</ol>\n"
      ],
      "text/latex": [
       "\\begin{enumerate*}\n",
       "\\item 397\n",
       "\\item 9\n",
       "\\end{enumerate*}\n"
      ],
      "text/markdown": [
       "1. 397\n",
       "2. 9\n",
       "\n",
       "\n"
      ],
      "text/plain": [
       "[1] 397   9"
      ]
     },
     "metadata": {},
     "output_type": "display_data"
    },
    {
     "data": {
      "text/html": [
       "<ol class=list-inline>\n",
       "\t<li>'mpg'</li>\n",
       "\t<li>'cylinders'</li>\n",
       "\t<li>'displacement'</li>\n",
       "\t<li>'horsepower'</li>\n",
       "\t<li>'weight'</li>\n",
       "\t<li>'acceleration'</li>\n",
       "\t<li>'year'</li>\n",
       "\t<li>'origin'</li>\n",
       "\t<li>'name'</li>\n",
       "</ol>\n"
      ],
      "text/latex": [
       "\\begin{enumerate*}\n",
       "\\item 'mpg'\n",
       "\\item 'cylinders'\n",
       "\\item 'displacement'\n",
       "\\item 'horsepower'\n",
       "\\item 'weight'\n",
       "\\item 'acceleration'\n",
       "\\item 'year'\n",
       "\\item 'origin'\n",
       "\\item 'name'\n",
       "\\end{enumerate*}\n"
      ],
      "text/markdown": [
       "1. 'mpg'\n",
       "2. 'cylinders'\n",
       "3. 'displacement'\n",
       "4. 'horsepower'\n",
       "5. 'weight'\n",
       "6. 'acceleration'\n",
       "7. 'year'\n",
       "8. 'origin'\n",
       "9. 'name'\n",
       "\n",
       "\n"
      ],
      "text/plain": [
       "[1] \"mpg\"          \"cylinders\"    \"displacement\" \"horsepower\"   \"weight\"      \n",
       "[6] \"acceleration\" \"year\"         \"origin\"       \"name\"        "
      ]
     },
     "metadata": {},
     "output_type": "display_data"
    },
    {
     "data": {
      "text/html": [
       "<table>\n",
       "<thead><tr><th></th><th scope=col>vars</th><th scope=col>n</th><th scope=col>mean</th><th scope=col>sd</th><th scope=col>median</th><th scope=col>trimmed</th><th scope=col>mad</th><th scope=col>min</th><th scope=col>max</th><th scope=col>range</th><th scope=col>skew</th><th scope=col>kurtosis</th><th scope=col>se</th></tr></thead>\n",
       "<tbody>\n",
       "\t<tr><th scope=row>mpg</th><td>1          </td><td>397        </td><td>  23.515869</td><td>  7.8258039</td><td>  23.0     </td><td>  23.064890</td><td>  8.89560  </td><td>   9       </td><td>  46.6     </td><td>  37.6     </td><td>0.45256487 </td><td>-0.5383528 </td><td> 0.3927658 </td></tr>\n",
       "\t<tr><th scope=row>cylinders</th><td>2          </td><td>397        </td><td>   5.458438</td><td>  1.7015770</td><td>   4.0     </td><td>   5.338558</td><td>  0.00000  </td><td>   3       </td><td>   8.0     </td><td>   5.0     </td><td>0.51887425 </td><td>-1.3865752 </td><td> 0.0853997 </td></tr>\n",
       "\t<tr><th scope=row>displacement</th><td>3          </td><td>397        </td><td> 193.532746</td><td>104.3795833</td><td> 146.0     </td><td> 182.920063</td><td> 83.02560  </td><td>  68       </td><td> 455.0     </td><td> 387.0     </td><td>0.71087813 </td><td>-0.7703360 </td><td> 5.2386611 </td></tr>\n",
       "\t<tr><th scope=row>horsepower</th><td>4          </td><td>392        </td><td> 104.469388</td><td> 38.4911599</td><td>  93.5     </td><td>  99.818471</td><td> 28.91070  </td><td>  46       </td><td> 230.0     </td><td> 184.0     </td><td>1.07901906 </td><td> 0.6541069 </td><td> 1.9440972 </td></tr>\n",
       "\t<tr><th scope=row>weight</th><td>5          </td><td>397        </td><td>2970.261965</td><td>847.9041195</td><td>2800.0     </td><td>2909.247649</td><td>942.93360  </td><td>1613       </td><td>5140.0     </td><td>3527.0     </td><td>0.52698320 </td><td>-0.8069030 </td><td>42.5550879 </td></tr>\n",
       "\t<tr><th scope=row>acceleration</th><td>6          </td><td>397        </td><td>  15.555668</td><td>  2.7499953</td><td>  15.5     </td><td>  15.496552</td><td>  2.52042  </td><td>   8       </td><td>  24.8     </td><td>  16.8     </td><td>0.27869902 </td><td> 0.4076265 </td><td> 0.1380183 </td></tr>\n",
       "\t<tr><th scope=row>year</th><td>7          </td><td>397        </td><td>  75.994962</td><td>  3.6900049</td><td>  76.0     </td><td>  75.990596</td><td>  4.44780  </td><td>  70       </td><td>  82.0     </td><td>  12.0     </td><td>0.01300922 </td><td>-1.1883950 </td><td> 0.1851960 </td></tr>\n",
       "\t<tr><th scope=row>origin</th><td>8          </td><td>397        </td><td>   1.574307</td><td>  0.8025495</td><td>   1.0     </td><td>   1.470219</td><td>  0.00000  </td><td>   1       </td><td>   3.0     </td><td>   2.0     </td><td>0.91297154 </td><td>-0.8404597 </td><td> 0.0402788 </td></tr>\n",
       "\t<tr><th scope=row>name*</th><td>9          </td><td>397        </td><td> 148.926952</td><td> 89.2924330</td><td> 150.0     </td><td> 148.746082</td><td>118.60800  </td><td>   1       </td><td> 304.0     </td><td> 303.0     </td><td>0.01789530 </td><td>-1.2461765 </td><td> 4.4814587 </td></tr>\n",
       "</tbody>\n",
       "</table>\n"
      ],
      "text/latex": [
       "\\begin{tabular}{r|lllllllllllll}\n",
       "  & vars & n & mean & sd & median & trimmed & mad & min & max & range & skew & kurtosis & se\\\\\n",
       "\\hline\n",
       "\tmpg & 1           & 397         &   23.515869 &   7.8258039 &   23.0      &   23.064890 &   8.89560   &    9        &   46.6      &   37.6      & 0.45256487  & -0.5383528  &  0.3927658 \\\\\n",
       "\tcylinders & 2           & 397         &    5.458438 &   1.7015770 &    4.0      &    5.338558 &   0.00000   &    3        &    8.0      &    5.0      & 0.51887425  & -1.3865752  &  0.0853997 \\\\\n",
       "\tdisplacement & 3           & 397         &  193.532746 & 104.3795833 &  146.0      &  182.920063 &  83.02560   &   68        &  455.0      &  387.0      & 0.71087813  & -0.7703360  &  5.2386611 \\\\\n",
       "\thorsepower & 4           & 392         &  104.469388 &  38.4911599 &   93.5      &   99.818471 &  28.91070   &   46        &  230.0      &  184.0      & 1.07901906  &  0.6541069  &  1.9440972 \\\\\n",
       "\tweight & 5           & 397         & 2970.261965 & 847.9041195 & 2800.0      & 2909.247649 & 942.93360   & 1613        & 5140.0      & 3527.0      & 0.52698320  & -0.8069030  & 42.5550879 \\\\\n",
       "\tacceleration & 6           & 397         &   15.555668 &   2.7499953 &   15.5      &   15.496552 &   2.52042   &    8        &   24.8      &   16.8      & 0.27869902  &  0.4076265  &  0.1380183 \\\\\n",
       "\tyear & 7           & 397         &   75.994962 &   3.6900049 &   76.0      &   75.990596 &   4.44780   &   70        &   82.0      &   12.0      & 0.01300922  & -1.1883950  &  0.1851960 \\\\\n",
       "\torigin & 8           & 397         &    1.574307 &   0.8025495 &    1.0      &    1.470219 &   0.00000   &    1        &    3.0      &    2.0      & 0.91297154  & -0.8404597  &  0.0402788 \\\\\n",
       "\tname* & 9           & 397         &  148.926952 &  89.2924330 &  150.0      &  148.746082 & 118.60800   &    1        &  304.0      &  303.0      & 0.01789530  & -1.2461765  &  4.4814587 \\\\\n",
       "\\end{tabular}\n"
      ],
      "text/markdown": [
       "\n",
       "| <!--/--> | vars | n | mean | sd | median | trimmed | mad | min | max | range | skew | kurtosis | se |\n",
       "|---|---|---|---|---|---|---|---|---|---|---|---|---|---|\n",
       "| mpg | 1           | 397         |   23.515869 |   7.8258039 |   23.0      |   23.064890 |   8.89560   |    9        |   46.6      |   37.6      | 0.45256487  | -0.5383528  |  0.3927658  |\n",
       "| cylinders | 2           | 397         |    5.458438 |   1.7015770 |    4.0      |    5.338558 |   0.00000   |    3        |    8.0      |    5.0      | 0.51887425  | -1.3865752  |  0.0853997  |\n",
       "| displacement | 3           | 397         |  193.532746 | 104.3795833 |  146.0      |  182.920063 |  83.02560   |   68        |  455.0      |  387.0      | 0.71087813  | -0.7703360  |  5.2386611  |\n",
       "| horsepower | 4           | 392         |  104.469388 |  38.4911599 |   93.5      |   99.818471 |  28.91070   |   46        |  230.0      |  184.0      | 1.07901906  |  0.6541069  |  1.9440972  |\n",
       "| weight | 5           | 397         | 2970.261965 | 847.9041195 | 2800.0      | 2909.247649 | 942.93360   | 1613        | 5140.0      | 3527.0      | 0.52698320  | -0.8069030  | 42.5550879  |\n",
       "| acceleration | 6           | 397         |   15.555668 |   2.7499953 |   15.5      |   15.496552 |   2.52042   |    8        |   24.8      |   16.8      | 0.27869902  |  0.4076265  |  0.1380183  |\n",
       "| year | 7           | 397         |   75.994962 |   3.6900049 |   76.0      |   75.990596 |   4.44780   |   70        |   82.0      |   12.0      | 0.01300922  | -1.1883950  |  0.1851960  |\n",
       "| origin | 8           | 397         |    1.574307 |   0.8025495 |    1.0      |    1.470219 |   0.00000   |    1        |    3.0      |    2.0      | 0.91297154  | -0.8404597  |  0.0402788  |\n",
       "| name* | 9           | 397         |  148.926952 |  89.2924330 |  150.0      |  148.746082 | 118.60800   |    1        |  304.0      |  303.0      | 0.01789530  | -1.2461765  |  4.4814587  |\n",
       "\n"
      ],
      "text/plain": [
       "             vars n   mean        sd          median trimmed     mad       min \n",
       "mpg          1    397   23.515869   7.8258039   23.0   23.064890   8.89560    9\n",
       "cylinders    2    397    5.458438   1.7015770    4.0    5.338558   0.00000    3\n",
       "displacement 3    397  193.532746 104.3795833  146.0  182.920063  83.02560   68\n",
       "horsepower   4    392  104.469388  38.4911599   93.5   99.818471  28.91070   46\n",
       "weight       5    397 2970.261965 847.9041195 2800.0 2909.247649 942.93360 1613\n",
       "acceleration 6    397   15.555668   2.7499953   15.5   15.496552   2.52042    8\n",
       "year         7    397   75.994962   3.6900049   76.0   75.990596   4.44780   70\n",
       "origin       8    397    1.574307   0.8025495    1.0    1.470219   0.00000    1\n",
       "name*        9    397  148.926952  89.2924330  150.0  148.746082 118.60800    1\n",
       "             max    range  skew       kurtosis   se        \n",
       "mpg            46.6   37.6 0.45256487 -0.5383528  0.3927658\n",
       "cylinders       8.0    5.0 0.51887425 -1.3865752  0.0853997\n",
       "displacement  455.0  387.0 0.71087813 -0.7703360  5.2386611\n",
       "horsepower    230.0  184.0 1.07901906  0.6541069  1.9440972\n",
       "weight       5140.0 3527.0 0.52698320 -0.8069030 42.5550879\n",
       "acceleration   24.8   16.8 0.27869902  0.4076265  0.1380183\n",
       "year           82.0   12.0 0.01300922 -1.1883950  0.1851960\n",
       "origin          3.0    2.0 0.91297154 -0.8404597  0.0402788\n",
       "name*         304.0  303.0 0.01789530 -1.2461765  4.4814587"
      ]
     },
     "metadata": {},
     "output_type": "display_data"
    },
    {
     "name": "stdout",
     "output_type": "stream",
     "text": [
      "'data.frame':\t397 obs. of  9 variables:\n",
      " $ mpg         : num  18 15 18 16 17 15 14 14 14 15 ...\n",
      " $ cylinders   : int  8 8 8 8 8 8 8 8 8 8 ...\n",
      " $ displacement: num  307 350 318 304 302 429 454 440 455 390 ...\n",
      " $ horsepower  : int  130 165 150 150 140 198 220 215 225 190 ...\n",
      " $ weight      : int  3504 3693 3436 3433 3449 4341 4354 4312 4425 3850 ...\n",
      " $ acceleration: num  12 11.5 11 12 10.5 10 9 8.5 10 8.5 ...\n",
      " $ year        : int  70 70 70 70 70 70 70 70 70 70 ...\n",
      " $ origin      : int  1 1 1 1 1 1 1 1 1 1 ...\n",
      " $ name        : Factor w/ 304 levels \"amc ambassador brougham\",..: 49 36 231 14 161 141 54 223 241 2 ...\n",
      "[1] \"_______________________________________________________\"\n",
      "mpg:  129 \n",
      "cylinders:  5 \n",
      "displacement:  82 \n",
      "horsepower:  94 \n",
      "weight:  350acceleration:  95 \n",
      "year:  13 \n",
      "origin:  3 \n",
      "name:  304 \n"
     ]
    }
   ],
   "source": [
    "dim(Auto) # 397*9\n",
    "names(Auto) # 8 varables\n",
    "describe(Auto)\n",
    "str(Auto) \n",
    "\n",
    "# length(unique(X)) to check the level of each feature\n",
    "print(\"_______________________________________________________\")\n",
    "cat(\"mpg: \", length(unique(Auto$mpg)),\"\\n\")\n",
    "cat(\"cylinders: \", length(unique(Auto$cylinders)),\"\\n\")\n",
    "cat(\"displacement: \", length(unique(Auto$displacement)),\"\\n\")\n",
    "cat(\"horsepower: \", length(unique(Auto$horsepower)),\"\\n\")\n",
    "cat(\"weight: \", length(unique(Auto$weight)))\n",
    "cat(\"acceleration: \", length(unique(Auto$acceleration)),\"\\n\")\n",
    "cat(\"year: \", length(unique(Auto$year)),\"\\n\")\n",
    "cat(\"origin: \", length(unique(Auto$origin)),\"\\n\")\n",
    "cat(\"name: \", length(unique(Auto$name)),\"\\n\")"
   ]
  },
  {
   "cell_type": "markdown",
   "metadata": {},
   "source": [
    "- the dataset is composed of 397 observations and 9 variables with \"mpg\" being the response variable, and the rest of the 8 being our features for predicting \"mpg\"\n",
    "\n",
    "- by using the str(), we can observe the datatype of each variable:\n",
    "    - mpg: numerical continuous variable\n",
    "    - cylinders: categorical variable with 5 classes (3,4,5,6,7,8)\n",
    "    - displacement: numerical continuous variable\n",
    "    - horsepower: continuous variable with only integers\n",
    "    - weight: numerical variable with only integers\n",
    "    - acceleration: numerical continuous variable\n",
    "    - year: numerical variable with only integers\n",
    "    - origin: categorical variable with 3 classes {1: American, 2:European, 3: Japanese}\n",
    "    - name: character type with 304 levels - can be mapped to numerical value "
   ]
  },
  {
   "cell_type": "markdown",
   "metadata": {},
   "source": [
    "## Check for missing values\n",
    "- exploring existing missing values and check which features are missing values"
   ]
  },
  {
   "cell_type": "markdown",
   "metadata": {},
   "source": [
    "#### Find the missing values and their features "
   ]
  },
  {
   "cell_type": "code",
   "execution_count": 7,
   "metadata": {},
   "outputs": [
    {
     "data": {
      "text/html": [
       "5"
      ],
      "text/latex": [
       "5"
      ],
      "text/markdown": [
       "5"
      ],
      "text/plain": [
       "[1] 5"
      ]
     },
     "metadata": {},
     "output_type": "display_data"
    },
    {
     "data": {
      "text/html": [
       "<dl class=dl-horizontal>\n",
       "\t<dt>mpg</dt>\n",
       "\t\t<dd>0</dd>\n",
       "\t<dt>cylinders</dt>\n",
       "\t\t<dd>0</dd>\n",
       "\t<dt>displacement</dt>\n",
       "\t\t<dd>0</dd>\n",
       "\t<dt>horsepower</dt>\n",
       "\t\t<dd>5</dd>\n",
       "\t<dt>weight</dt>\n",
       "\t\t<dd>0</dd>\n",
       "\t<dt>acceleration</dt>\n",
       "\t\t<dd>0</dd>\n",
       "\t<dt>year</dt>\n",
       "\t\t<dd>0</dd>\n",
       "\t<dt>origin</dt>\n",
       "\t\t<dd>0</dd>\n",
       "\t<dt>name</dt>\n",
       "\t\t<dd>0</dd>\n",
       "</dl>\n"
      ],
      "text/latex": [
       "\\begin{description*}\n",
       "\\item[mpg] 0\n",
       "\\item[cylinders] 0\n",
       "\\item[displacement] 0\n",
       "\\item[horsepower] 5\n",
       "\\item[weight] 0\n",
       "\\item[acceleration] 0\n",
       "\\item[year] 0\n",
       "\\item[origin] 0\n",
       "\\item[name] 0\n",
       "\\end{description*}\n"
      ],
      "text/markdown": [
       "mpg\n",
       ":   0cylinders\n",
       ":   0displacement\n",
       ":   0horsepower\n",
       ":   5weight\n",
       ":   0acceleration\n",
       ":   0year\n",
       ":   0origin\n",
       ":   0name\n",
       ":   0\n",
       "\n"
      ],
      "text/plain": [
       "         mpg    cylinders displacement   horsepower       weight acceleration \n",
       "           0            0            0            5            0            0 \n",
       "        year       origin         name \n",
       "           0            0            0 "
      ]
     },
     "metadata": {},
     "output_type": "display_data"
    }
   ],
   "source": [
    "sum(is.na(Auto)) #5 missing values\n",
    "colSums(is.na(Auto)) #horsepower has 5 missing values\n"
   ]
  },
  {
   "cell_type": "markdown",
   "metadata": {},
   "source": [
    "- 5 missing value from \"horsepower\"\n",
    "- ~1.26% missing data"
   ]
  },
  {
   "cell_type": "markdown",
   "metadata": {},
   "source": [
    "#### Look at the missing data\n",
    "- taking a look at the missing data to see if there are any underlying cause as to why these information are missing, and see if any of these observations are unique"
   ]
  },
  {
   "cell_type": "code",
   "execution_count": 8,
   "metadata": {},
   "outputs": [
    {
     "data": {
      "text/html": [
       "<table>\n",
       "<thead><tr><th></th><th scope=col>mpg</th><th scope=col>cylinders</th><th scope=col>displacement</th><th scope=col>horsepower</th><th scope=col>weight</th><th scope=col>acceleration</th><th scope=col>year</th><th scope=col>origin</th><th scope=col>name</th></tr></thead>\n",
       "<tbody>\n",
       "\t<tr><th scope=row>33</th><td>25.0                </td><td>4                   </td><td> 98                 </td><td>NA                  </td><td>2046                </td><td>19.0                </td><td>71                  </td><td>1                   </td><td>ford pinto          </td></tr>\n",
       "\t<tr><th scope=row>127</th><td>21.0                </td><td>6                   </td><td>200                 </td><td>NA                  </td><td>2875                </td><td>17.0                </td><td>74                  </td><td>1                   </td><td>ford maverick       </td></tr>\n",
       "\t<tr><th scope=row>331</th><td>40.9                </td><td>4                   </td><td> 85                 </td><td>NA                  </td><td>1835                </td><td>17.3                </td><td>80                  </td><td>2                   </td><td>renault lecar deluxe</td></tr>\n",
       "\t<tr><th scope=row>337</th><td>23.6                </td><td>4                   </td><td>140                 </td><td>NA                  </td><td>2905                </td><td>14.3                </td><td>80                  </td><td>1                   </td><td>ford mustang cobra  </td></tr>\n",
       "\t<tr><th scope=row>355</th><td>34.5                </td><td>4                   </td><td>100                 </td><td>NA                  </td><td>2320                </td><td>15.8                </td><td>81                  </td><td>2                   </td><td>renault 18i         </td></tr>\n",
       "</tbody>\n",
       "</table>\n"
      ],
      "text/latex": [
       "\\begin{tabular}{r|lllllllll}\n",
       "  & mpg & cylinders & displacement & horsepower & weight & acceleration & year & origin & name\\\\\n",
       "\\hline\n",
       "\t33 & 25.0                 & 4                    &  98                  & NA                   & 2046                 & 19.0                 & 71                   & 1                    & ford pinto          \\\\\n",
       "\t127 & 21.0                 & 6                    & 200                  & NA                   & 2875                 & 17.0                 & 74                   & 1                    & ford maverick       \\\\\n",
       "\t331 & 40.9                 & 4                    &  85                  & NA                   & 1835                 & 17.3                 & 80                   & 2                    & renault lecar deluxe\\\\\n",
       "\t337 & 23.6                 & 4                    & 140                  & NA                   & 2905                 & 14.3                 & 80                   & 1                    & ford mustang cobra  \\\\\n",
       "\t355 & 34.5                 & 4                    & 100                  & NA                   & 2320                 & 15.8                 & 81                   & 2                    & renault 18i         \\\\\n",
       "\\end{tabular}\n"
      ],
      "text/markdown": [
       "\n",
       "| <!--/--> | mpg | cylinders | displacement | horsepower | weight | acceleration | year | origin | name |\n",
       "|---|---|---|---|---|---|---|---|---|---|\n",
       "| 33 | 25.0                 | 4                    |  98                  | NA                   | 2046                 | 19.0                 | 71                   | 1                    | ford pinto           |\n",
       "| 127 | 21.0                 | 6                    | 200                  | NA                   | 2875                 | 17.0                 | 74                   | 1                    | ford maverick        |\n",
       "| 331 | 40.9                 | 4                    |  85                  | NA                   | 1835                 | 17.3                 | 80                   | 2                    | renault lecar deluxe |\n",
       "| 337 | 23.6                 | 4                    | 140                  | NA                   | 2905                 | 14.3                 | 80                   | 1                    | ford mustang cobra   |\n",
       "| 355 | 34.5                 | 4                    | 100                  | NA                   | 2320                 | 15.8                 | 81                   | 2                    | renault 18i          |\n",
       "\n"
      ],
      "text/plain": [
       "    mpg  cylinders displacement horsepower weight acceleration year origin\n",
       "33  25.0 4          98          NA         2046   19.0         71   1     \n",
       "127 21.0 6         200          NA         2875   17.0         74   1     \n",
       "331 40.9 4          85          NA         1835   17.3         80   2     \n",
       "337 23.6 4         140          NA         2905   14.3         80   1     \n",
       "355 34.5 4         100          NA         2320   15.8         81   2     \n",
       "    name                \n",
       "33  ford pinto          \n",
       "127 ford maverick       \n",
       "331 renault lecar deluxe\n",
       "337 ford mustang cobra  \n",
       "355 renault 18i         "
      ]
     },
     "metadata": {},
     "output_type": "display_data"
    }
   ],
   "source": [
    "missing_data = Auto[!complete.cases(Auto),]#extract missing data, two parts by [rows,cols], rows: not compelte cases in Auto\n",
    "missing_data"
   ]
  },
  {
   "cell_type": "markdown",
   "metadata": {},
   "source": [
    "- by looking at thesse 5 observations we see that:\n",
    "    - mpg: 3 data points are within 3 standard deviation (std) away of the mean, and the other two are higher than 3rd quantile\n",
    "    - cylinders: all data points are within 3 std away of the mean\n",
    "    - weight: 3 data points are within 3 std away of the mean, and two are below the 1st quantile\n",
    "    - acceleration: all datapoints are within 3 std away of the mean\n",
    "    - year: 2 datapoints are within 3 std of the mean, 3 are above the 3rd quantile\n",
    "    - origin: categorical values \n",
    "    - name: not able to compare since the features is a character type and has 304 levels\n",
    "- In conclusion, except for some feature values of certain observations that fall outside of 3 std away from the mean, the rest of feature values are either close or equal to mean or median, or fall within 3 std away of the mean. From this, I have decided to impute the 5 missing values of \"horsepower\" using mean. Alternatively we could choose to remove it, since the missing value is composed only ~1.26% of the entire dataset"
   ]
  },
  {
   "cell_type": "markdown",
   "metadata": {},
   "source": [
    "#### Impute the data using mean\n",
    "- imputed datasete --> Auto_impute"
   ]
  },
  {
   "cell_type": "code",
   "execution_count": 9,
   "metadata": {},
   "outputs": [],
   "source": [
    "Auto_impute <- Auto"
   ]
  },
  {
   "cell_type": "code",
   "execution_count": 10,
   "metadata": {},
   "outputs": [],
   "source": [
    "\n",
    "for (i in which(sapply(Auto_impute, is.numeric))) {\n",
    "  Auto_impute[is.na(Auto_impute[,i]),i] <- mean(Auto_impute[,i],na.rm=TRUE)\n",
    "}\n",
    "\n"
   ]
  },
  {
   "cell_type": "code",
   "execution_count": 11,
   "metadata": {},
   "outputs": [
    {
     "data": {
      "text/html": [
       "0"
      ],
      "text/latex": [
       "0"
      ],
      "text/markdown": [
       "0"
      ],
      "text/plain": [
       "[1] 0"
      ]
     },
     "metadata": {},
     "output_type": "display_data"
    },
    {
     "data": {
      "text/html": [
       "<dl class=dl-horizontal>\n",
       "\t<dt>mpg</dt>\n",
       "\t\t<dd>0</dd>\n",
       "\t<dt>cylinders</dt>\n",
       "\t\t<dd>0</dd>\n",
       "\t<dt>displacement</dt>\n",
       "\t\t<dd>0</dd>\n",
       "\t<dt>horsepower</dt>\n",
       "\t\t<dd>0</dd>\n",
       "\t<dt>weight</dt>\n",
       "\t\t<dd>0</dd>\n",
       "\t<dt>acceleration</dt>\n",
       "\t\t<dd>0</dd>\n",
       "\t<dt>year</dt>\n",
       "\t\t<dd>0</dd>\n",
       "\t<dt>origin</dt>\n",
       "\t\t<dd>0</dd>\n",
       "\t<dt>name</dt>\n",
       "\t\t<dd>0</dd>\n",
       "</dl>\n"
      ],
      "text/latex": [
       "\\begin{description*}\n",
       "\\item[mpg] 0\n",
       "\\item[cylinders] 0\n",
       "\\item[displacement] 0\n",
       "\\item[horsepower] 0\n",
       "\\item[weight] 0\n",
       "\\item[acceleration] 0\n",
       "\\item[year] 0\n",
       "\\item[origin] 0\n",
       "\\item[name] 0\n",
       "\\end{description*}\n"
      ],
      "text/markdown": [
       "mpg\n",
       ":   0cylinders\n",
       ":   0displacement\n",
       ":   0horsepower\n",
       ":   0weight\n",
       ":   0acceleration\n",
       ":   0year\n",
       ":   0origin\n",
       ":   0name\n",
       ":   0\n",
       "\n"
      ],
      "text/plain": [
       "         mpg    cylinders displacement   horsepower       weight acceleration \n",
       "           0            0            0            0            0            0 \n",
       "        year       origin         name \n",
       "           0            0            0 "
      ]
     },
     "metadata": {},
     "output_type": "display_data"
    }
   ],
   "source": [
    "# checking any missing data left\n",
    "sum(is.na(Auto_impute)) \n",
    "colSums(is.na(Auto_impute)) \n"
   ]
  },
  {
   "cell_type": "code",
   "execution_count": 264,
   "metadata": {},
   "outputs": [],
   "source": [
    "attach(Auto_impute)"
   ]
  },
  {
   "cell_type": "markdown",
   "metadata": {},
   "source": [
    "## Checking for outliers\n",
    "- to check for outliers, we will be plotting boxplots for each feature. We will also use it to find the location of the outliers and further examine if they should be removed from the dataset."
   ]
  },
  {
   "cell_type": "markdown",
   "metadata": {},
   "source": [
    "#### Plotting boxplots for numerical values"
   ]
  },
  {
   "cell_type": "code",
   "execution_count": 13,
   "metadata": {},
   "outputs": [
    {
     "data": {
      "image/png": "[encoded data removed]",
      "text/plain": [
       "Plot with title \"horsepower\""
      ]
     },
     "metadata": {},
     "output_type": "display_data"
    },
    {
     "data": {
      "image/png": "[encoded data removed]",
      "text/plain": [
       "Plot with title \"origin\""
      ]
     },
     "metadata": {},
     "output_type": "display_data"
    }
   ],
   "source": [
    "par(mfrow = c(2,2))\n",
    "\n",
    "for (i in 1:8) {\n",
    "  boxplot(Auto_impute[i], horizontal = TRUE, main=(names(Auto_impute))[i])\n",
    "}\n",
    "\n"
   ]
  },
  {
   "cell_type": "markdown",
   "metadata": {},
   "source": [
    "- to check for potential outliers within the dataset, the boxplot for each variable (including the response variable) is plotted except for \"name\" variable. We can see that there are some outliers in: \"mpg\",\",\"horsepower\" and \"acceleration\" feature space from what we can visibly observe from the boxplots above.\n",
    "- note that the loop interates only from 1 to 8, because I excluded the \"name\" variable\n"
   ]
  },
  {
   "cell_type": "markdown",
   "metadata": {},
   "source": [
    "#### Find the locations of these obsevations"
   ]
  },
  {
   "cell_type": "code",
   "execution_count": 14,
   "metadata": {},
   "outputs": [
    {
     "name": "stdout",
     "output_type": "stream",
     "text": [
      "mpg :  46.6 \n",
      "\n",
      "     mpg cylinders displacement horsepower weight acceleration year origin\n",
      "323 46.6         4           86         65   2110         17.9   80      3\n",
      "         name\n",
      "323 mazda glc\n",
      "[1] \"__________________________________________________________________________________________________\"\n",
      "\n",
      "\n",
      "\n",
      "cylinders :   \n",
      "\n",
      "[1] mpg          cylinders    displacement horsepower   weight      \n",
      "[6] acceleration year         origin       name        \n",
      "<0 rows> (or 0-length row.names)\n",
      "[1] \"__________________________________________________________________________________________________\"\n",
      "\n",
      "\n",
      "\n",
      "displacement :   \n",
      "\n",
      "[1] mpg          cylinders    displacement horsepower   weight      \n",
      "[6] acceleration year         origin       name        \n",
      "<0 rows> (or 0-length row.names)\n",
      "[1] \"__________________________________________________________________________________________________\"\n",
      "\n",
      "\n",
      "\n",
      "horsepower :  220 215 225 225 215 200 210 208 215 225 230 \n",
      "\n",
      "    mpg cylinders displacement horsepower weight acceleration year origin\n",
      "7    14         8          454        220   4354          9.0   70      1\n",
      "8    14         8          440        215   4312          8.5   70      1\n",
      "9    14         8          455        225   4425         10.0   70      1\n",
      "14   14         8          455        225   3086         10.0   70      1\n",
      "26   10         8          360        215   4615         14.0   70      1\n",
      "27   10         8          307        200   4376         15.0   70      1\n",
      "28   11         8          318        210   4382         13.5   70      1\n",
      "68   11         8          429        208   4633         11.0   72      1\n",
      "95   13         8          440        215   4735         11.0   73      1\n",
      "96   12         8          455        225   4951         11.0   73      1\n",
      "117  16         8          400        230   4278          9.5   73      1\n",
      "                            name\n",
      "7               chevrolet impala\n",
      "8              plymouth fury iii\n",
      "9               pontiac catalina\n",
      "14       buick estate wagon (sw)\n",
      "26                     ford f250\n",
      "27                     chevy c20\n",
      "28                    dodge d200\n",
      "68               mercury marquis\n",
      "95  chrysler new yorker brougham\n",
      "96      buick electra 225 custom\n",
      "117           pontiac grand prix\n",
      "[1] \"__________________________________________________________________________________________________\"\n",
      "\n",
      "\n",
      "\n",
      "weight :   \n",
      "\n",
      "[1] mpg          cylinders    displacement horsepower   weight      \n",
      "[6] acceleration year         origin       name        \n",
      "<0 rows> (or 0-length row.names)\n",
      "[1] \"__________________________________________________________________________________________________\"\n",
      "\n",
      "\n",
      "\n",
      "acceleration :  8.5 8.5 8 23.5 22.2 22.1 24.8 22.2 23.7 24.6 \n",
      "\n",
      "     mpg cylinders displacement horsepower weight acceleration year origin\n",
      "8   14.0         8          440        215   4312          8.5   70      1\n",
      "10  15.0         8          390        190   3850          8.5   70      1\n",
      "12  14.0         8          340        160   3609          8.0   70      1\n",
      "60  23.0         4           97         54   2254         23.5   72      2\n",
      "196 29.0         4           85         52   2035         22.2   76      1\n",
      "197 24.5         4           98         60   2164         22.1   76      1\n",
      "300 27.2         4          141         71   3190         24.8   79      2\n",
      "301 23.9         8          260         90   3420         22.2   79      1\n",
      "327 43.4         4           90         48   2335         23.7   80      2\n",
      "394 44.0         4           97         52   2130         24.6   82      2\n",
      "                                 name\n",
      "8                   plymouth fury iii\n",
      "10                 amc ambassador dpl\n",
      "12                 plymouth 'cuda 340\n",
      "60                  volkswagen type 3\n",
      "196                chevrolet chevette\n",
      "197                   chevrolet woody\n",
      "300                       peugeot 504\n",
      "301 oldsmobile cutlass salon brougham\n",
      "327                vw dasher (diesel)\n",
      "394                         vw pickup\n",
      "[1] \"__________________________________________________________________________________________________\"\n",
      "\n",
      "\n",
      "\n",
      "year :   \n",
      "\n",
      "[1] mpg          cylinders    displacement horsepower   weight      \n",
      "[6] acceleration year         origin       name        \n",
      "<0 rows> (or 0-length row.names)\n",
      "[1] \"__________________________________________________________________________________________________\"\n",
      "\n",
      "\n",
      "\n",
      "origin :   \n",
      "\n",
      "[1] mpg          cylinders    displacement horsepower   weight      \n",
      "[6] acceleration year         origin       name        \n",
      "<0 rows> (or 0-length row.names)\n",
      "[1] \"__________________________________________________________________________________________________\"\n",
      "\n",
      "\n",
      "\n"
     ]
    }
   ],
   "source": [
    "\n",
    "for (i in 1:8) {  \n",
    "  outlier = boxplot(Auto_impute[i],plot=FALSE)$out\n",
    "#   row = Auto_impute[which(Auto_impute[,i] %in% outlier)]\n",
    "#   print(row)  \n",
    "  cat(names(Auto_impute)[i], \": \", outlier, '\\n\\n')  \n",
    "  row = Auto_impute[which(Auto_impute[,i] %in% outlier),]\n",
    "  print(row)  \n",
    "  print('__________________________________________________________________________________________________')  \n",
    "  cat('\\n\\n\\n')  \n",
    "}\n",
    "\n"
   ]
  },
  {
   "cell_type": "code",
   "execution_count": 15,
   "metadata": {},
   "outputs": [],
   "source": [
    "mpg_out <- c(323)\n",
    "horsepower_out <- c(7, 8, 9, 14, 26, 27, 28, 68, 95, 96, 117 )\n",
    "acceleration_out <- c(8, 10, 12, 60, 196, 197, 300, 301, 327, 394)\n"
   ]
  },
  {
   "cell_type": "markdown",
   "metadata": {},
   "source": [
    "#### Outlier in mpg"
   ]
  },
  {
   "cell_type": "code",
   "execution_count": 16,
   "metadata": {},
   "outputs": [
    {
     "data": {
      "text/html": [
       "<table>\n",
       "<thead><tr><th></th><th scope=col>mpg</th><th scope=col>cylinders</th><th scope=col>displacement</th><th scope=col>horsepower</th><th scope=col>weight</th><th scope=col>acceleration</th><th scope=col>year</th><th scope=col>origin</th><th scope=col>name</th></tr></thead>\n",
       "<tbody>\n",
       "\t<tr><th scope=row>323</th><td>46.6     </td><td>4        </td><td>86       </td><td>65       </td><td>2110     </td><td>17.9     </td><td>80       </td><td>3        </td><td>mazda glc</td></tr>\n",
       "</tbody>\n",
       "</table>\n"
      ],
      "text/latex": [
       "\\begin{tabular}{r|lllllllll}\n",
       "  & mpg & cylinders & displacement & horsepower & weight & acceleration & year & origin & name\\\\\n",
       "\\hline\n",
       "\t323 & 46.6      & 4         & 86        & 65        & 2110      & 17.9      & 80        & 3         & mazda glc\\\\\n",
       "\\end{tabular}\n"
      ],
      "text/markdown": [
       "\n",
       "| <!--/--> | mpg | cylinders | displacement | horsepower | weight | acceleration | year | origin | name |\n",
       "|---|---|---|---|---|---|---|---|---|---|\n",
       "| 323 | 46.6      | 4         | 86        | 65        | 2110      | 17.9      | 80        | 3         | mazda glc |\n",
       "\n"
      ],
      "text/plain": [
       "    mpg  cylinders displacement horsepower weight acceleration year origin\n",
       "323 46.6 4         86           65         2110   17.9         80   3     \n",
       "    name     \n",
       "323 mazda glc"
      ]
     },
     "metadata": {},
     "output_type": "display_data"
    }
   ],
   "source": [
    "Auto_impute[mpg_out,]\n"
   ]
  },
  {
   "cell_type": "markdown",
   "metadata": {},
   "source": [
    "- we will not be removing this observation, since the outlier occurs in the response variable, but it will be very useful to see that why this mpg value is an outlier when none of its features are outliers\n",
    "- by looking at the features of this observation we see that:\n",
    "    - cylinders = median\n",
    "    - displacement: above 1st quantile\n",
    "    - horsepower: above 1st quantile\n",
    "    - weight: above 1st quantile\n",
    "    - acceleration: below 3rd quantile\n",
    "    - year: below 3rd quantile\n",
    "    - origin: 3\n",
    "- This is an interesting observation, the 5 features of this observation fall outside the first and second quantile. Except for cylinders which is equal to the mean, and origin which we do not know the distribution of currently, and name which has 304 levels.\n",
    "- note that this observation is not picked up by other features' boxplot"
   ]
  },
  {
   "cell_type": "markdown",
   "metadata": {},
   "source": [
    "#### Outliers in horsepower"
   ]
  },
  {
   "cell_type": "code",
   "execution_count": 17,
   "metadata": {},
   "outputs": [
    {
     "data": {
      "text/html": [
       "<table>\n",
       "<thead><tr><th></th><th scope=col>mpg</th><th scope=col>cylinders</th><th scope=col>displacement</th><th scope=col>horsepower</th><th scope=col>weight</th><th scope=col>acceleration</th><th scope=col>year</th><th scope=col>origin</th><th scope=col>name</th></tr></thead>\n",
       "<tbody>\n",
       "\t<tr><th scope=row>7</th><td>14                          </td><td>8                           </td><td>454                         </td><td>220                         </td><td>4354                        </td><td> 9.0                        </td><td>70                          </td><td>1                           </td><td>chevrolet impala            </td></tr>\n",
       "\t<tr><th scope=row>8</th><td>14                          </td><td>8                           </td><td>440                         </td><td>215                         </td><td>4312                        </td><td> 8.5                        </td><td>70                          </td><td>1                           </td><td>plymouth fury iii           </td></tr>\n",
       "\t<tr><th scope=row>9</th><td>14                          </td><td>8                           </td><td>455                         </td><td>225                         </td><td>4425                        </td><td>10.0                        </td><td>70                          </td><td>1                           </td><td>pontiac catalina            </td></tr>\n",
       "\t<tr><th scope=row>14</th><td>14                          </td><td>8                           </td><td>455                         </td><td>225                         </td><td>3086                        </td><td>10.0                        </td><td>70                          </td><td>1                           </td><td>buick estate wagon (sw)     </td></tr>\n",
       "\t<tr><th scope=row>26</th><td>10                          </td><td>8                           </td><td>360                         </td><td>215                         </td><td>4615                        </td><td>14.0                        </td><td>70                          </td><td>1                           </td><td>ford f250                   </td></tr>\n",
       "\t<tr><th scope=row>27</th><td>10                          </td><td>8                           </td><td>307                         </td><td>200                         </td><td>4376                        </td><td>15.0                        </td><td>70                          </td><td>1                           </td><td>chevy c20                   </td></tr>\n",
       "\t<tr><th scope=row>28</th><td>11                          </td><td>8                           </td><td>318                         </td><td>210                         </td><td>4382                        </td><td>13.5                        </td><td>70                          </td><td>1                           </td><td>dodge d200                  </td></tr>\n",
       "\t<tr><th scope=row>68</th><td>11                          </td><td>8                           </td><td>429                         </td><td>208                         </td><td>4633                        </td><td>11.0                        </td><td>72                          </td><td>1                           </td><td>mercury marquis             </td></tr>\n",
       "\t<tr><th scope=row>95</th><td>13                          </td><td>8                           </td><td>440                         </td><td>215                         </td><td>4735                        </td><td>11.0                        </td><td>73                          </td><td>1                           </td><td>chrysler new yorker brougham</td></tr>\n",
       "\t<tr><th scope=row>96</th><td>12                          </td><td>8                           </td><td>455                         </td><td>225                         </td><td>4951                        </td><td>11.0                        </td><td>73                          </td><td>1                           </td><td>buick electra 225 custom    </td></tr>\n",
       "\t<tr><th scope=row>117</th><td>16                          </td><td>8                           </td><td>400                         </td><td>230                         </td><td>4278                        </td><td> 9.5                        </td><td>73                          </td><td>1                           </td><td>pontiac grand prix          </td></tr>\n",
       "</tbody>\n",
       "</table>\n"
      ],
      "text/latex": [
       "\\begin{tabular}{r|lllllllll}\n",
       "  & mpg & cylinders & displacement & horsepower & weight & acceleration & year & origin & name\\\\\n",
       "\\hline\n",
       "\t7 & 14                           & 8                            & 454                          & 220                          & 4354                         &  9.0                         & 70                           & 1                            & chevrolet impala            \\\\\n",
       "\t8 & 14                           & 8                            & 440                          & 215                          & 4312                         &  8.5                         & 70                           & 1                            & plymouth fury iii           \\\\\n",
       "\t9 & 14                           & 8                            & 455                          & 225                          & 4425                         & 10.0                         & 70                           & 1                            & pontiac catalina            \\\\\n",
       "\t14 & 14                           & 8                            & 455                          & 225                          & 3086                         & 10.0                         & 70                           & 1                            & buick estate wagon (sw)     \\\\\n",
       "\t26 & 10                           & 8                            & 360                          & 215                          & 4615                         & 14.0                         & 70                           & 1                            & ford f250                   \\\\\n",
       "\t27 & 10                           & 8                            & 307                          & 200                          & 4376                         & 15.0                         & 70                           & 1                            & chevy c20                   \\\\\n",
       "\t28 & 11                           & 8                            & 318                          & 210                          & 4382                         & 13.5                         & 70                           & 1                            & dodge d200                  \\\\\n",
       "\t68 & 11                           & 8                            & 429                          & 208                          & 4633                         & 11.0                         & 72                           & 1                            & mercury marquis             \\\\\n",
       "\t95 & 13                           & 8                            & 440                          & 215                          & 4735                         & 11.0                         & 73                           & 1                            & chrysler new yorker brougham\\\\\n",
       "\t96 & 12                           & 8                            & 455                          & 225                          & 4951                         & 11.0                         & 73                           & 1                            & buick electra 225 custom    \\\\\n",
       "\t117 & 16                           & 8                            & 400                          & 230                          & 4278                         &  9.5                         & 73                           & 1                            & pontiac grand prix          \\\\\n",
       "\\end{tabular}\n"
      ],
      "text/markdown": [
       "\n",
       "| <!--/--> | mpg | cylinders | displacement | horsepower | weight | acceleration | year | origin | name |\n",
       "|---|---|---|---|---|---|---|---|---|---|\n",
       "| 7 | 14                           | 8                            | 454                          | 220                          | 4354                         |  9.0                         | 70                           | 1                            | chevrolet impala             |\n",
       "| 8 | 14                           | 8                            | 440                          | 215                          | 4312                         |  8.5                         | 70                           | 1                            | plymouth fury iii            |\n",
       "| 9 | 14                           | 8                            | 455                          | 225                          | 4425                         | 10.0                         | 70                           | 1                            | pontiac catalina             |\n",
       "| 14 | 14                           | 8                            | 455                          | 225                          | 3086                         | 10.0                         | 70                           | 1                            | buick estate wagon (sw)      |\n",
       "| 26 | 10                           | 8                            | 360                          | 215                          | 4615                         | 14.0                         | 70                           | 1                            | ford f250                    |\n",
       "| 27 | 10                           | 8                            | 307                          | 200                          | 4376                         | 15.0                         | 70                           | 1                            | chevy c20                    |\n",
       "| 28 | 11                           | 8                            | 318                          | 210                          | 4382                         | 13.5                         | 70                           | 1                            | dodge d200                   |\n",
       "| 68 | 11                           | 8                            | 429                          | 208                          | 4633                         | 11.0                         | 72                           | 1                            | mercury marquis              |\n",
       "| 95 | 13                           | 8                            | 440                          | 215                          | 4735                         | 11.0                         | 73                           | 1                            | chrysler new yorker brougham |\n",
       "| 96 | 12                           | 8                            | 455                          | 225                          | 4951                         | 11.0                         | 73                           | 1                            | buick electra 225 custom     |\n",
       "| 117 | 16                           | 8                            | 400                          | 230                          | 4278                         |  9.5                         | 73                           | 1                            | pontiac grand prix           |\n",
       "\n"
      ],
      "text/plain": [
       "    mpg cylinders displacement horsepower weight acceleration year origin\n",
       "7   14  8         454          220        4354    9.0         70   1     \n",
       "8   14  8         440          215        4312    8.5         70   1     \n",
       "9   14  8         455          225        4425   10.0         70   1     \n",
       "14  14  8         455          225        3086   10.0         70   1     \n",
       "26  10  8         360          215        4615   14.0         70   1     \n",
       "27  10  8         307          200        4376   15.0         70   1     \n",
       "28  11  8         318          210        4382   13.5         70   1     \n",
       "68  11  8         429          208        4633   11.0         72   1     \n",
       "95  13  8         440          215        4735   11.0         73   1     \n",
       "96  12  8         455          225        4951   11.0         73   1     \n",
       "117 16  8         400          230        4278    9.5         73   1     \n",
       "    name                        \n",
       "7   chevrolet impala            \n",
       "8   plymouth fury iii           \n",
       "9   pontiac catalina            \n",
       "14  buick estate wagon (sw)     \n",
       "26  ford f250                   \n",
       "27  chevy c20                   \n",
       "28  dodge d200                  \n",
       "68  mercury marquis             \n",
       "95  chrysler new yorker brougham\n",
       "96  buick electra 225 custom    \n",
       "117 pontiac grand prix          "
      ]
     },
     "metadata": {},
     "output_type": "display_data"
    }
   ],
   "source": [
    "Auto_impute[horsepower_out,]\n"
   ]
  },
  {
   "cell_type": "markdown",
   "metadata": {},
   "source": [
    "- by observing the horsepower outliers we can see that:\n",
    "    - all observations have 8 cylinders, by doing some research, engines with more cylinders produce more power\n",
    "    - the displacement of these vehicles are relatively high, all of them above above 3rd quantile, by doing some research, it is normal that  larger displacement contribute to larger horsepower\n",
    "    - weights for these observations are also above 3rd quantile, by doing some research these variables should not be correlated\n",
    "- we can also see that the response variable \"mpg\" for these observations tend to be lower, ranging from 10-16 with all of these datapoints falling above the 1st quantile\n",
    "- from these datapoints, we can make a very \"pre-determined\" deduction that a combination of more cylinders, larger displacement,higher horsepower and weight can yield a significantly lower \"mpg\"\n",
    "- this deduction can provide important information to the dataset as a whole, therefore they will not be removed from the dataset."
   ]
  },
  {
   "cell_type": "markdown",
   "metadata": {},
   "source": [
    "#### Outliers in acceleration "
   ]
  },
  {
   "cell_type": "code",
   "execution_count": 18,
   "metadata": {},
   "outputs": [
    {
     "data": {
      "text/html": [
       "<table>\n",
       "<thead><tr><th></th><th scope=col>mpg</th><th scope=col>cylinders</th><th scope=col>displacement</th><th scope=col>horsepower</th><th scope=col>weight</th><th scope=col>acceleration</th><th scope=col>year</th><th scope=col>origin</th><th scope=col>name</th></tr></thead>\n",
       "<tbody>\n",
       "\t<tr><th scope=row>8</th><td>14.0                             </td><td>8                                </td><td>440                              </td><td>215                              </td><td>4312                             </td><td> 8.5                             </td><td>70                               </td><td>1                                </td><td>plymouth fury iii                </td></tr>\n",
       "\t<tr><th scope=row>10</th><td>15.0                             </td><td>8                                </td><td>390                              </td><td>190                              </td><td>3850                             </td><td> 8.5                             </td><td>70                               </td><td>1                                </td><td>amc ambassador dpl               </td></tr>\n",
       "\t<tr><th scope=row>12</th><td>14.0                             </td><td>8                                </td><td>340                              </td><td>160                              </td><td>3609                             </td><td> 8.0                             </td><td>70                               </td><td>1                                </td><td>plymouth 'cuda 340               </td></tr>\n",
       "\t<tr><th scope=row>60</th><td>23.0                             </td><td>4                                </td><td> 97                              </td><td> 54                              </td><td>2254                             </td><td>23.5                             </td><td>72                               </td><td>2                                </td><td>volkswagen type 3                </td></tr>\n",
       "\t<tr><th scope=row>196</th><td>29.0                             </td><td>4                                </td><td> 85                              </td><td> 52                              </td><td>2035                             </td><td>22.2                             </td><td>76                               </td><td>1                                </td><td>chevrolet chevette               </td></tr>\n",
       "\t<tr><th scope=row>197</th><td>24.5                             </td><td>4                                </td><td> 98                              </td><td> 60                              </td><td>2164                             </td><td>22.1                             </td><td>76                               </td><td>1                                </td><td>chevrolet woody                  </td></tr>\n",
       "\t<tr><th scope=row>300</th><td>27.2                             </td><td>4                                </td><td>141                              </td><td> 71                              </td><td>3190                             </td><td>24.8                             </td><td>79                               </td><td>2                                </td><td>peugeot 504                      </td></tr>\n",
       "\t<tr><th scope=row>301</th><td>23.9                             </td><td>8                                </td><td>260                              </td><td> 90                              </td><td>3420                             </td><td>22.2                             </td><td>79                               </td><td>1                                </td><td>oldsmobile cutlass salon brougham</td></tr>\n",
       "\t<tr><th scope=row>327</th><td>43.4                             </td><td>4                                </td><td> 90                              </td><td> 48                              </td><td>2335                             </td><td>23.7                             </td><td>80                               </td><td>2                                </td><td>vw dasher (diesel)               </td></tr>\n",
       "\t<tr><th scope=row>394</th><td>44.0                             </td><td>4                                </td><td> 97                              </td><td> 52                              </td><td>2130                             </td><td>24.6                             </td><td>82                               </td><td>2                                </td><td>vw pickup                        </td></tr>\n",
       "</tbody>\n",
       "</table>\n"
      ],
      "text/latex": [
       "\\begin{tabular}{r|lllllllll}\n",
       "  & mpg & cylinders & displacement & horsepower & weight & acceleration & year & origin & name\\\\\n",
       "\\hline\n",
       "\t8 & 14.0                              & 8                                 & 440                               & 215                               & 4312                              &  8.5                              & 70                                & 1                                 & plymouth fury iii                \\\\\n",
       "\t10 & 15.0                              & 8                                 & 390                               & 190                               & 3850                              &  8.5                              & 70                                & 1                                 & amc ambassador dpl               \\\\\n",
       "\t12 & 14.0                              & 8                                 & 340                               & 160                               & 3609                              &  8.0                              & 70                                & 1                                 & plymouth 'cuda 340               \\\\\n",
       "\t60 & 23.0                              & 4                                 &  97                               &  54                               & 2254                              & 23.5                              & 72                                & 2                                 & volkswagen type 3                \\\\\n",
       "\t196 & 29.0                              & 4                                 &  85                               &  52                               & 2035                              & 22.2                              & 76                                & 1                                 & chevrolet chevette               \\\\\n",
       "\t197 & 24.5                              & 4                                 &  98                               &  60                               & 2164                              & 22.1                              & 76                                & 1                                 & chevrolet woody                  \\\\\n",
       "\t300 & 27.2                              & 4                                 & 141                               &  71                               & 3190                              & 24.8                              & 79                                & 2                                 & peugeot 504                      \\\\\n",
       "\t301 & 23.9                              & 8                                 & 260                               &  90                               & 3420                              & 22.2                              & 79                                & 1                                 & oldsmobile cutlass salon brougham\\\\\n",
       "\t327 & 43.4                              & 4                                 &  90                               &  48                               & 2335                              & 23.7                              & 80                                & 2                                 & vw dasher (diesel)               \\\\\n",
       "\t394 & 44.0                              & 4                                 &  97                               &  52                               & 2130                              & 24.6                              & 82                                & 2                                 & vw pickup                        \\\\\n",
       "\\end{tabular}\n"
      ],
      "text/markdown": [
       "\n",
       "| <!--/--> | mpg | cylinders | displacement | horsepower | weight | acceleration | year | origin | name |\n",
       "|---|---|---|---|---|---|---|---|---|---|\n",
       "| 8 | 14.0                              | 8                                 | 440                               | 215                               | 4312                              |  8.5                              | 70                                | 1                                 | plymouth fury iii                 |\n",
       "| 10 | 15.0                              | 8                                 | 390                               | 190                               | 3850                              |  8.5                              | 70                                | 1                                 | amc ambassador dpl                |\n",
       "| 12 | 14.0                              | 8                                 | 340                               | 160                               | 3609                              |  8.0                              | 70                                | 1                                 | plymouth 'cuda 340                |\n",
       "| 60 | 23.0                              | 4                                 |  97                               |  54                               | 2254                              | 23.5                              | 72                                | 2                                 | volkswagen type 3                 |\n",
       "| 196 | 29.0                              | 4                                 |  85                               |  52                               | 2035                              | 22.2                              | 76                                | 1                                 | chevrolet chevette                |\n",
       "| 197 | 24.5                              | 4                                 |  98                               |  60                               | 2164                              | 22.1                              | 76                                | 1                                 | chevrolet woody                   |\n",
       "| 300 | 27.2                              | 4                                 | 141                               |  71                               | 3190                              | 24.8                              | 79                                | 2                                 | peugeot 504                       |\n",
       "| 301 | 23.9                              | 8                                 | 260                               |  90                               | 3420                              | 22.2                              | 79                                | 1                                 | oldsmobile cutlass salon brougham |\n",
       "| 327 | 43.4                              | 4                                 |  90                               |  48                               | 2335                              | 23.7                              | 80                                | 2                                 | vw dasher (diesel)                |\n",
       "| 394 | 44.0                              | 4                                 |  97                               |  52                               | 2130                              | 24.6                              | 82                                | 2                                 | vw pickup                         |\n",
       "\n"
      ],
      "text/plain": [
       "    mpg  cylinders displacement horsepower weight acceleration year origin\n",
       "8   14.0 8         440          215        4312    8.5         70   1     \n",
       "10  15.0 8         390          190        3850    8.5         70   1     \n",
       "12  14.0 8         340          160        3609    8.0         70   1     \n",
       "60  23.0 4          97           54        2254   23.5         72   2     \n",
       "196 29.0 4          85           52        2035   22.2         76   1     \n",
       "197 24.5 4          98           60        2164   22.1         76   1     \n",
       "300 27.2 4         141           71        3190   24.8         79   2     \n",
       "301 23.9 8         260           90        3420   22.2         79   1     \n",
       "327 43.4 4          90           48        2335   23.7         80   2     \n",
       "394 44.0 4          97           52        2130   24.6         82   2     \n",
       "    name                             \n",
       "8   plymouth fury iii                \n",
       "10  amc ambassador dpl               \n",
       "12  plymouth 'cuda 340               \n",
       "60  volkswagen type 3                \n",
       "196 chevrolet chevette               \n",
       "197 chevrolet woody                  \n",
       "300 peugeot 504                      \n",
       "301 oldsmobile cutlass salon brougham\n",
       "327 vw dasher (diesel)               \n",
       "394 vw pickup                        "
      ]
     },
     "metadata": {},
     "output_type": "display_data"
    }
   ],
   "source": [
    "Auto_impute[acceleration_out,]\n"
   ]
  },
  {
   "cell_type": "markdown",
   "metadata": {},
   "source": [
    "- by observing the horsepower outliers we can see that there are two groups of outliers --> observations that fall above the 1st quantile and below the 3rd quantile:\n",
    "    - observations above 1st quantile:\n",
    "        - all 8 cylinders, extremely high displacment, horsepower and weight \n",
    "        - low mpg \n",
    "        - this category agreed with the deduction we made earlier that a combination of ( 8 cylinders, high displacement, horsepower and weight) can lead to low mpg. We can ask ourselves that maybe a low accleration will further contribute to this phenomenom.\n",
    "        - By taking a lookg back at the datapoints where horsepower are outliers, we can see that these datapoints also have relatively low (some below mean, some above 1st quantile).\n",
    "        - we can conclude that a combination of more cylinders, larger displacement, higher horsepower, and larger weight, smaller acceleration contribute to a lower mpg value\n",
    "    - Observations below 3rd quantile:\n",
    "        - most of datapoints have 4 cylinders except for 1\n",
    "        - most of them have low displacement except for 1 that is in 3rd quantile\n",
    "        - most of them have low horsepower except for one that is close to the mean\n",
    "        - weights are relatively lower, two are above the mean\n",
    "        - all mpg values are above the mean, some are in third quantile, two of them are extremely high\n",
    "        - we also see that the two datapoints with extremely high mpg values are produced after the 80s\n",
    "        \n",
    "- overall, these datapoints further substantiated our deduction earlier. However we will be removing observation 301, since this observation yielded a low mpg value while having a large number of cylinders, high displacement, average horsepower, larger weight and high acceleration. This combination is unlike what we have observed before, we can conclude that leaving this datapoint will not contribute to our model. \n",
    "      "
   ]
  },
  {
   "cell_type": "markdown",
   "metadata": {},
   "source": [
    "#### removing outliers"
   ]
  },
  {
   "cell_type": "code",
   "execution_count": 19,
   "metadata": {},
   "outputs": [],
   "source": [
    "Auto_impute <- Auto_impute %>% slice(-c(301))\n"
   ]
  },
  {
   "cell_type": "code",
   "execution_count": 20,
   "metadata": {},
   "outputs": [
    {
     "data": {
      "text/html": [
       "<ol class=list-inline>\n",
       "\t<li>396</li>\n",
       "\t<li>9</li>\n",
       "</ol>\n"
      ],
      "text/latex": [
       "\\begin{enumerate*}\n",
       "\\item 396\n",
       "\\item 9\n",
       "\\end{enumerate*}\n"
      ],
      "text/markdown": [
       "1. 396\n",
       "2. 9\n",
       "\n",
       "\n"
      ],
      "text/plain": [
       "[1] 396   9"
      ]
     },
     "metadata": {},
     "output_type": "display_data"
    }
   ],
   "source": [
    "dim(Auto_impute)"
   ]
  },
  {
   "cell_type": "markdown",
   "metadata": {},
   "source": [
    "## Distribution of features\n",
    "\n"
   ]
  },
  {
   "cell_type": "markdown",
   "metadata": {},
   "source": [
    "#### Plotting Histogram\n",
    "\n",
    "- to view the distribution of each feature, we will plot the histogram for each numerical features, since we arleady know that name has 304 unique values and is a character type, we will not be plotting a histogram for name. "
   ]
  },
  {
   "cell_type": "code",
   "execution_count": 21,
   "metadata": {},
   "outputs": [
    {
     "data": {
      "image/png": "[encoded data removed]",
      "text/plain": [
       "Plot with title \"origin\""
      ]
     },
     "metadata": {},
     "output_type": "display_data"
    }
   ],
   "source": [
    "\n",
    "par(mfrow = c(3,4))\n",
    "for (i in 1:8) {\n",
    "  hist(as.numeric(Auto_impute[,i]),breaks = 20,main=names(Auto_impute)[i],xlab=NULL)\n",
    "}\n",
    "\n"
   ]
  },
  {
   "cell_type": "markdown",
   "metadata": {},
   "source": [
    "- From the histograms above we can see that the distribution of each feature:\n",
    "    - mpg: slightly right skewed, most vehicles are within ~10-25 range\n",
    "    - cylinders: most cars have 4, 6, and 8 cylinders with 4 having the highest frequency, a few observation have 3 or 5 cylinders, and none has 7. By doing some research, I found that most cars will have even number of cylinders because in order to ensure that the engine is balanced for vibration. Having even number of cylinders will make sure that the sample number of pistons are moving in the opposite direction.\n",
    "    - displacement: right skewed\n",
    "    - horsepower: slightly right skewed\n",
    "    - weight: right skewed\n",
    "    - acceleration: close to a normal distribution\n",
    "    - year: almost uniformly distributed\n",
    "    - origin: a large number of observations are American"
   ]
  },
  {
   "cell_type": "markdown",
   "metadata": {},
   "source": [
    "## Relationship between features"
   ]
  },
  {
   "cell_type": "markdown",
   "metadata": {},
   "source": [
    "#### Plotting the pairwise plots to explore the relationship between each pair of features"
   ]
  },
  {
   "cell_type": "code",
   "execution_count": 67,
   "metadata": {},
   "outputs": [
    {
     "data": {
      "image/png": "[encoded data removed]",
      "text/plain": [
       "plot without title"
      ]
     },
     "metadata": {},
     "output_type": "display_data"
    }
   ],
   "source": [
    "pairs(Auto_impute[1:8])"
   ]
  },
  {
   "cell_type": "markdown",
   "metadata": {},
   "source": [
    "- By looking at the pair-wise plots above we extract some information:\n",
    "    - mpg: \n",
    "        - mpg-cylinders: vehicles with more cylinders have lower mpg value --> inversely related\n",
    "        - mpg-displacement: the plot looks like a negative exponential graph, we can take the log of both values\n",
    "        - mpg-horsepower: the plot looks like a negative exponential graph, we can take the log of both values\n",
    "        - mpg-weight: the plot looks like a negative exponential graph, we can take the log of both values\n",
    "        - mpg-acceleration: the plot shows a slightly positive linear relationship, although the correlation looks small\n",
    "        - mpg-year: the plot shows that newer car tend to have higher mpg --> positive relationship\n",
    "        - mpg-origin: the plot shows that Japanese and European cars tend to have a slight higher mpg than American cars, although the range of these three groups are relatively large\n",
    "    - cylinders:\n",
    "        - cylinders-displacement: postive  relationship, more cylinders corresponds to higher displacement \n",
    "        - cylinders-horsepower: postive  relationship, more cylinders corresponds to higher horsepower \n",
    "        - cylinders-weight: postive  relationship, more cylinders corresponds to higher weight \n",
    "        - cylinders-acceleration: slight negative relationship, cars with lower number of cylinders tend to have higher acceleration, although the points are range of acceleration values in each category are wide.\n",
    "        - cylinders-year: no visible correlation\n",
    "        - cylinders-origin: American cars tend to have either 4,6,8 cylinders, European cars have 4,5,6, and Japanese cars have 3,4,6, no obvious correlation can be observed \n",
    "    - displacement\n",
    "        - displacement-horsepower: postive linear relationship, higher displacement corresponds to higher horsepower\n",
    "        - displacement-weight: postive linear relationship, higher displacement corresponds to larger weight\n",
    "        - displacement-acceleration: negative linear relationship, higher displacement corresponds to lower acceleration\n",
    "        - displacement-year: no obvious visible relationship\n",
    "        - displacement-origin: no obvious visible relationship, however, you can see that American cars has a wide range of displacement\n",
    "    - horsepower\n",
    "        - horsepower-weight: postive linear relationship, higher horspower corresponds to larger weight\n",
    "        - horsepower-acceleration: negative linear relationship, higher horspower corresponds to higher acceleration\n",
    "        - horsepower-year: no obvious visible relationship\n",
    "        - horsepower-origin: no obvious visible relationship, however, you can see that American cars has a wide range of horsepower\n",
    "    - weight:\n",
    "        - weight-acceleration: slight negative relationship, although the correlation seems to be small \n",
    "        - weight-year: no obvious visible relationship\n",
    "        - weight-origin: American cars have wider range of weight, followed by European then Japanese\n",
    "    - acceleration:\n",
    "        - acceleration-year: no obvious visible relationship\n",
    "        - acceleration-origin: American cars on average tend to have lower acceleration, followed by Japanese then European\n",
    "    - year:\n",
    "        - year-origin: no obvious visible relationship"
   ]
  },
  {
   "cell_type": "markdown",
   "metadata": {},
   "source": [
    "#### variable transformation\n",
    "- by looking at the histogram, and the pair-wise plots we are can see that transformation will make the data behave like Guassian distribution. As shown in histogram, that mpg, displacement, horsepower, and weight are skewed, we will proceed to transform these features. "
   ]
  },
  {
   "cell_type": "code",
   "execution_count": 53,
   "metadata": {},
   "outputs": [],
   "source": [
    "log_mpg = log(mpg+1)\n",
    "frth_displacement = (displacement)^(1/4)\n",
    "log_horsepower = log(horsepower+1)\n",
    "log_weight = log(weight+1)\n",
    "\n"
   ]
  },
  {
   "cell_type": "markdown",
   "metadata": {},
   "source": [
    "- as shown in the histograms before that mpg, displacement, horsepower and displacement are all right skewed, we can perform log transformation, specifically log(feature+C), with C being a constant in order to nullify the existing 0 values within thesse features"
   ]
  },
  {
   "cell_type": "code",
   "execution_count": 54,
   "metadata": {},
   "outputs": [
    {
     "data": {
      "image/png": "[encoded data removed]",
      "text/plain": [
       "Plot with title \"log_weight\""
      ]
     },
     "metadata": {},
     "output_type": "display_data"
    }
   ],
   "source": [
    "\n",
    "par(mfrow = c(2,2))\n",
    "hist(log_mpg,breaks=20,main=\"log_mpg\",xlab=NULL)\n",
    "hist(frth_displacement,breaks=20,main=\"frth_displacement\",xlab=NULL)\n",
    "hist(log_horsepower,breaks=20,main=\"log_horsepower\",xlab=NULL)\n",
    "hist(log_weight,breaks=20,main=\"log_weight\",xlab=NULL)\n"
   ]
  },
  {
   "cell_type": "markdown",
   "metadata": {},
   "source": [
    "\n",
    "- Here we showed the histograms for the transformed value, we can see that the distributions behave more like a Guassian distribution, we some features still be slightly skewed (weight), however the skewness has significantly improved\n",
    "- Note that for horsepower is transformed using (feature+C) to the fourth power. I have previously tried with log transformation however, the result came out still being slightly skewed. Therefore 1/4 has shown to provide the best outcome. Although we can kind of see a bimodal distribution in this feature. "
   ]
  },
  {
   "cell_type": "markdown",
   "metadata": {},
   "source": [
    "#### Replacing the original features \n",
    "- mpg, displacement, horsepower and weight are replaced with the transformed variables. We will call this new dataset \"Auto_transformed\"\n",
    "- Note that we should cbind() to put all the wanted columns together, this function automatically maps the object type data to a numerical (integer) value. Therefore, name is now converted to numerical values"
   ]
  },
  {
   "cell_type": "code",
   "execution_count": 94,
   "metadata": {},
   "outputs": [],
   "source": [
    "Auto_transformed = as.data.frame(cbind(log_mpg,cylinders,frth_displacement,log_horsepower,log_weight,acceleration,year,origin,name))"
   ]
  },
  {
   "cell_type": "code",
   "execution_count": 265,
   "metadata": {},
   "outputs": [],
   "source": [
    "attach(Auto_transformed)"
   ]
  },
  {
   "cell_type": "code",
   "execution_count": 85,
   "metadata": {},
   "outputs": [
    {
     "data": {
      "text/html": [
       "<table>\n",
       "<thead><tr><th scope=col>log_mpg</th><th scope=col>cylinders</th><th scope=col>frth_displacement</th><th scope=col>log_horsepower</th><th scope=col>log_weight</th><th scope=col>acceleration</th><th scope=col>year</th><th scope=col>origin</th><th scope=col>name</th></tr></thead>\n",
       "<tbody>\n",
       "\t<tr><td>2.944439</td><td>8       </td><td>4.185859</td><td>4.875197</td><td>8.161946</td><td>12.0    </td><td>70      </td><td>1       </td><td> 49     </td></tr>\n",
       "\t<tr><td>2.772589</td><td>8       </td><td>4.325308</td><td>5.111988</td><td>8.214465</td><td>11.5    </td><td>70      </td><td>1       </td><td> 36     </td></tr>\n",
       "\t<tr><td>2.944439</td><td>8       </td><td>4.222861</td><td>5.017280</td><td>8.142354</td><td>11.0    </td><td>70      </td><td>1       </td><td>231     </td></tr>\n",
       "\t<tr><td>2.833213</td><td>8       </td><td>4.175595</td><td>5.017280</td><td>8.141481</td><td>12.0    </td><td>70      </td><td>1       </td><td> 14     </td></tr>\n",
       "\t<tr><td>2.890372</td><td>8       </td><td>4.168710</td><td>4.948760</td><td>8.146130</td><td>10.5    </td><td>70      </td><td>1       </td><td>161     </td></tr>\n",
       "\t<tr><td>2.772589</td><td>8       </td><td>4.551078</td><td>5.293305</td><td>8.376090</td><td>10.0    </td><td>70      </td><td>1       </td><td>141     </td></tr>\n",
       "</tbody>\n",
       "</table>\n"
      ],
      "text/latex": [
       "\\begin{tabular}{r|lllllllll}\n",
       " log\\_mpg & cylinders & frth\\_displacement & log\\_horsepower & log\\_weight & acceleration & year & origin & name\\\\\n",
       "\\hline\n",
       "\t 2.944439 & 8        & 4.185859 & 4.875197 & 8.161946 & 12.0     & 70       & 1        &  49     \\\\\n",
       "\t 2.772589 & 8        & 4.325308 & 5.111988 & 8.214465 & 11.5     & 70       & 1        &  36     \\\\\n",
       "\t 2.944439 & 8        & 4.222861 & 5.017280 & 8.142354 & 11.0     & 70       & 1        & 231     \\\\\n",
       "\t 2.833213 & 8        & 4.175595 & 5.017280 & 8.141481 & 12.0     & 70       & 1        &  14     \\\\\n",
       "\t 2.890372 & 8        & 4.168710 & 4.948760 & 8.146130 & 10.5     & 70       & 1        & 161     \\\\\n",
       "\t 2.772589 & 8        & 4.551078 & 5.293305 & 8.376090 & 10.0     & 70       & 1        & 141     \\\\\n",
       "\\end{tabular}\n"
      ],
      "text/markdown": [
       "\n",
       "| log_mpg | cylinders | frth_displacement | log_horsepower | log_weight | acceleration | year | origin | name |\n",
       "|---|---|---|---|---|---|---|---|---|\n",
       "| 2.944439 | 8        | 4.185859 | 4.875197 | 8.161946 | 12.0     | 70       | 1        |  49      |\n",
       "| 2.772589 | 8        | 4.325308 | 5.111988 | 8.214465 | 11.5     | 70       | 1        |  36      |\n",
       "| 2.944439 | 8        | 4.222861 | 5.017280 | 8.142354 | 11.0     | 70       | 1        | 231      |\n",
       "| 2.833213 | 8        | 4.175595 | 5.017280 | 8.141481 | 12.0     | 70       | 1        |  14      |\n",
       "| 2.890372 | 8        | 4.168710 | 4.948760 | 8.146130 | 10.5     | 70       | 1        | 161      |\n",
       "| 2.772589 | 8        | 4.551078 | 5.293305 | 8.376090 | 10.0     | 70       | 1        | 141      |\n",
       "\n"
      ],
      "text/plain": [
       "  log_mpg  cylinders frth_displacement log_horsepower log_weight acceleration\n",
       "1 2.944439 8         4.185859          4.875197       8.161946   12.0        \n",
       "2 2.772589 8         4.325308          5.111988       8.214465   11.5        \n",
       "3 2.944439 8         4.222861          5.017280       8.142354   11.0        \n",
       "4 2.833213 8         4.175595          5.017280       8.141481   12.0        \n",
       "5 2.890372 8         4.168710          4.948760       8.146130   10.5        \n",
       "6 2.772589 8         4.551078          5.293305       8.376090   10.0        \n",
       "  year origin name\n",
       "1 70   1       49 \n",
       "2 70   1       36 \n",
       "3 70   1      231 \n",
       "4 70   1       14 \n",
       "5 70   1      161 \n",
       "6 70   1      141 "
      ]
     },
     "metadata": {},
     "output_type": "display_data"
    },
    {
     "data": {
      "text/html": [
       "<ol class=list-inline>\n",
       "\t<li>'log_mpg'</li>\n",
       "\t<li>'cylinders'</li>\n",
       "\t<li>'frth_displacement'</li>\n",
       "\t<li>'log_horsepower'</li>\n",
       "\t<li>'log_weight'</li>\n",
       "\t<li>'acceleration'</li>\n",
       "\t<li>'year'</li>\n",
       "\t<li>'origin'</li>\n",
       "\t<li>'name'</li>\n",
       "</ol>\n"
      ],
      "text/latex": [
       "\\begin{enumerate*}\n",
       "\\item 'log\\_mpg'\n",
       "\\item 'cylinders'\n",
       "\\item 'frth\\_displacement'\n",
       "\\item 'log\\_horsepower'\n",
       "\\item 'log\\_weight'\n",
       "\\item 'acceleration'\n",
       "\\item 'year'\n",
       "\\item 'origin'\n",
       "\\item 'name'\n",
       "\\end{enumerate*}\n"
      ],
      "text/markdown": [
       "1. 'log_mpg'\n",
       "2. 'cylinders'\n",
       "3. 'frth_displacement'\n",
       "4. 'log_horsepower'\n",
       "5. 'log_weight'\n",
       "6. 'acceleration'\n",
       "7. 'year'\n",
       "8. 'origin'\n",
       "9. 'name'\n",
       "\n",
       "\n"
      ],
      "text/plain": [
       "[1] \"log_mpg\"           \"cylinders\"         \"frth_displacement\"\n",
       "[4] \"log_horsepower\"    \"log_weight\"        \"acceleration\"     \n",
       "[7] \"year\"              \"origin\"            \"name\"             "
      ]
     },
     "metadata": {},
     "output_type": "display_data"
    }
   ],
   "source": [
    "head(Auto_transformed)\n",
    "names(Auto_transformed)"
   ]
  },
  {
   "cell_type": "markdown",
   "metadata": {},
   "source": [
    "#### Pair-wise plot with transformed variables"
   ]
  },
  {
   "cell_type": "code",
   "execution_count": 86,
   "metadata": {},
   "outputs": [
    {
     "data": {
      "image/png": "[encoded data removed]",
      "text/plain": [
       "plot without title"
      ]
     },
     "metadata": {},
     "output_type": "display_data"
    }
   ],
   "source": [
    "pairs(Auto_transformed[1:8])"
   ]
  },
  {
   "cell_type": "markdown",
   "metadata": {},
   "source": [
    "- By looking at the pair-wise plots above, we see that the relationship between mpg and displacement, horsepower and weight exhibited a negative exponential graph. After the transformation, we can see that these graphs are now have negative linear relationship."
   ]
  },
  {
   "cell_type": "markdown",
   "metadata": {},
   "source": [
    "#### Correlation between features\n",
    "- By obtaining the correlation between each two features we can numerically determine how related each two features are "
   ]
  },
  {
   "cell_type": "code",
   "execution_count": 87,
   "metadata": {},
   "outputs": [
    {
     "data": {
      "text/html": [
       "<table>\n",
       "<thead><tr><th></th><th scope=col>log_mpg</th><th scope=col>cylinders</th><th scope=col>frth_displacement</th><th scope=col>log_horsepower</th><th scope=col>log_weight</th><th scope=col>acceleration</th><th scope=col>year</th><th scope=col>origin</th><th scope=col>name</th></tr></thead>\n",
       "<tbody>\n",
       "\t<tr><th scope=row>log_mpg</th><td> 1.0000000 </td><td>-0.8249950 </td><td>-0.8618974 </td><td>-0.8420055 </td><td>-0.8740676 </td><td> 0.4463587 </td><td> 0.57829584</td><td> 0.5596968 </td><td> 0.26872265</td></tr>\n",
       "\t<tr><th scope=row>cylinders</th><td>-0.8249950 </td><td> 1.0000000 </td><td> 0.9495620 </td><td> 0.8386949 </td><td> 0.8834335 </td><td>-0.5040606 </td><td>-0.34671722</td><td>-0.5649716 </td><td>-0.28034613</td></tr>\n",
       "\t<tr><th scope=row>frth_displacement</th><td>-0.8618974 </td><td> 0.9495620 </td><td> 1.0000000 </td><td> 0.8728258 </td><td> 0.9404821 </td><td>-0.5103226 </td><td>-0.34201283</td><td>-0.6556596 </td><td>-0.31619730</td></tr>\n",
       "\t<tr><th scope=row>log_horsepower</th><td>-0.8420055 </td><td> 0.8386949 </td><td> 0.8728258 </td><td> 1.0000000 </td><td> 0.8672998 </td><td>-0.6950937 </td><td>-0.39338015</td><td>-0.4818866 </td><td>-0.26681533</td></tr>\n",
       "\t<tr><th scope=row>log_weight</th><td>-0.8740676 </td><td> 0.8834335 </td><td> 0.9404821 </td><td> 0.8672998 </td><td> 1.0000000 </td><td>-0.4045702 </td><td>-0.28587343</td><td>-0.6049105 </td><td>-0.27455240</td></tr>\n",
       "\t<tr><th scope=row>acceleration</th><td> 0.4463587 </td><td>-0.5040606 </td><td>-0.5103226 </td><td>-0.6950937 </td><td>-0.4045702 </td><td> 1.0000000 </td><td> 0.28290089</td><td> 0.2100836 </td><td> 0.13647687</td></tr>\n",
       "\t<tr><th scope=row>year</th><td> 0.5782958 </td><td>-0.3467172 </td><td>-0.3420128 </td><td>-0.3933802 </td><td>-0.2858734 </td><td> 0.2829009 </td><td> 1.00000000</td><td> 0.1843141 </td><td> 0.08185952</td></tr>\n",
       "\t<tr><th scope=row>origin</th><td> 0.5596968 </td><td>-0.5649716 </td><td>-0.6556596 </td><td>-0.4818866 </td><td>-0.6049105 </td><td> 0.2100836 </td><td> 0.18431408</td><td> 1.0000000 </td><td> 0.35854033</td></tr>\n",
       "\t<tr><th scope=row>name</th><td> 0.2687226 </td><td>-0.2803461 </td><td>-0.3161973 </td><td>-0.2668153 </td><td>-0.2745524 </td><td> 0.1364769 </td><td> 0.08185952</td><td> 0.3585403 </td><td> 1.00000000</td></tr>\n",
       "</tbody>\n",
       "</table>\n"
      ],
      "text/latex": [
       "\\begin{tabular}{r|lllllllll}\n",
       "  & log\\_mpg & cylinders & frth\\_displacement & log\\_horsepower & log\\_weight & acceleration & year & origin & name\\\\\n",
       "\\hline\n",
       "\tlog\\_mpg &  1.0000000  & -0.8249950  & -0.8618974  & -0.8420055  & -0.8740676  &  0.4463587  &  0.57829584 &  0.5596968  &  0.26872265\\\\\n",
       "\tcylinders & -0.8249950  &  1.0000000  &  0.9495620  &  0.8386949  &  0.8834335  & -0.5040606  & -0.34671722 & -0.5649716  & -0.28034613\\\\\n",
       "\tfrth\\_displacement & -0.8618974  &  0.9495620  &  1.0000000  &  0.8728258  &  0.9404821  & -0.5103226  & -0.34201283 & -0.6556596  & -0.31619730\\\\\n",
       "\tlog\\_horsepower & -0.8420055  &  0.8386949  &  0.8728258  &  1.0000000  &  0.8672998  & -0.6950937  & -0.39338015 & -0.4818866  & -0.26681533\\\\\n",
       "\tlog\\_weight & -0.8740676  &  0.8834335  &  0.9404821  &  0.8672998  &  1.0000000  & -0.4045702  & -0.28587343 & -0.6049105  & -0.27455240\\\\\n",
       "\tacceleration &  0.4463587  & -0.5040606  & -0.5103226  & -0.6950937  & -0.4045702  &  1.0000000  &  0.28290089 &  0.2100836  &  0.13647687\\\\\n",
       "\tyear &  0.5782958  & -0.3467172  & -0.3420128  & -0.3933802  & -0.2858734  &  0.2829009  &  1.00000000 &  0.1843141  &  0.08185952\\\\\n",
       "\torigin &  0.5596968  & -0.5649716  & -0.6556596  & -0.4818866  & -0.6049105  &  0.2100836  &  0.18431408 &  1.0000000  &  0.35854033\\\\\n",
       "\tname &  0.2687226  & -0.2803461  & -0.3161973  & -0.2668153  & -0.2745524  &  0.1364769  &  0.08185952 &  0.3585403  &  1.00000000\\\\\n",
       "\\end{tabular}\n"
      ],
      "text/markdown": [
       "\n",
       "| <!--/--> | log_mpg | cylinders | frth_displacement | log_horsepower | log_weight | acceleration | year | origin | name |\n",
       "|---|---|---|---|---|---|---|---|---|---|\n",
       "| log_mpg |  1.0000000  | -0.8249950  | -0.8618974  | -0.8420055  | -0.8740676  |  0.4463587  |  0.57829584 |  0.5596968  |  0.26872265 |\n",
       "| cylinders | -0.8249950  |  1.0000000  |  0.9495620  |  0.8386949  |  0.8834335  | -0.5040606  | -0.34671722 | -0.5649716  | -0.28034613 |\n",
       "| frth_displacement | -0.8618974  |  0.9495620  |  1.0000000  |  0.8728258  |  0.9404821  | -0.5103226  | -0.34201283 | -0.6556596  | -0.31619730 |\n",
       "| log_horsepower | -0.8420055  |  0.8386949  |  0.8728258  |  1.0000000  |  0.8672998  | -0.6950937  | -0.39338015 | -0.4818866  | -0.26681533 |\n",
       "| log_weight | -0.8740676  |  0.8834335  |  0.9404821  |  0.8672998  |  1.0000000  | -0.4045702  | -0.28587343 | -0.6049105  | -0.27455240 |\n",
       "| acceleration |  0.4463587  | -0.5040606  | -0.5103226  | -0.6950937  | -0.4045702  |  1.0000000  |  0.28290089 |  0.2100836  |  0.13647687 |\n",
       "| year |  0.5782958  | -0.3467172  | -0.3420128  | -0.3933802  | -0.2858734  |  0.2829009  |  1.00000000 |  0.1843141  |  0.08185952 |\n",
       "| origin |  0.5596968  | -0.5649716  | -0.6556596  | -0.4818866  | -0.6049105  |  0.2100836  |  0.18431408 |  1.0000000  |  0.35854033 |\n",
       "| name |  0.2687226  | -0.2803461  | -0.3161973  | -0.2668153  | -0.2745524  |  0.1364769  |  0.08185952 |  0.3585403  |  1.00000000 |\n",
       "\n"
      ],
      "text/plain": [
       "                  log_mpg    cylinders  frth_displacement log_horsepower\n",
       "log_mpg            1.0000000 -0.8249950 -0.8618974        -0.8420055    \n",
       "cylinders         -0.8249950  1.0000000  0.9495620         0.8386949    \n",
       "frth_displacement -0.8618974  0.9495620  1.0000000         0.8728258    \n",
       "log_horsepower    -0.8420055  0.8386949  0.8728258         1.0000000    \n",
       "log_weight        -0.8740676  0.8834335  0.9404821         0.8672998    \n",
       "acceleration       0.4463587 -0.5040606 -0.5103226        -0.6950937    \n",
       "year               0.5782958 -0.3467172 -0.3420128        -0.3933802    \n",
       "origin             0.5596968 -0.5649716 -0.6556596        -0.4818866    \n",
       "name               0.2687226 -0.2803461 -0.3161973        -0.2668153    \n",
       "                  log_weight acceleration year        origin     name       \n",
       "log_mpg           -0.8740676  0.4463587    0.57829584  0.5596968  0.26872265\n",
       "cylinders          0.8834335 -0.5040606   -0.34671722 -0.5649716 -0.28034613\n",
       "frth_displacement  0.9404821 -0.5103226   -0.34201283 -0.6556596 -0.31619730\n",
       "log_horsepower     0.8672998 -0.6950937   -0.39338015 -0.4818866 -0.26681533\n",
       "log_weight         1.0000000 -0.4045702   -0.28587343 -0.6049105 -0.27455240\n",
       "acceleration      -0.4045702  1.0000000    0.28290089  0.2100836  0.13647687\n",
       "year              -0.2858734  0.2829009    1.00000000  0.1843141  0.08185952\n",
       "origin            -0.6049105  0.2100836    0.18431408  1.0000000  0.35854033\n",
       "name              -0.2745524  0.1364769    0.08185952  0.3585403  1.00000000"
      ]
     },
     "metadata": {},
     "output_type": "display_data"
    }
   ],
   "source": [
    "cor(Auto_transformed)\n"
   ]
  },
  {
   "cell_type": "markdown",
   "metadata": {},
   "source": [
    "#### Plotting the correlation chart"
   ]
  },
  {
   "cell_type": "code",
   "execution_count": 88,
   "metadata": {
    "scrolled": true
   },
   "outputs": [
    {
     "data": {
      "image/png": "[encoded data removed]",
      "text/plain": [
       "Plot with title \"\""
      ]
     },
     "metadata": {},
     "output_type": "display_data"
    }
   ],
   "source": [
    "chart.Correlation(Auto_transformed, histogram=TRUE, pch=19)"
   ]
  },
  {
   "cell_type": "markdown",
   "metadata": {},
   "source": [
    "- cylinders are highly positively correlated with frth_displacement,log_horsepower, and log weight area highly correlated \n",
    "- frth_displacement are highly positively correlated with log_horsepower and log_weight\n",
    "- mpg are highly negatively correlated with cylinders, frth_displacement, log_horsepower and log_weight\n",
    "_____________________\n",
    "- the above three abservations tells us that cylinders, frth_displacement, log_horsepower and log weight are good predictors for predicting log_mpg, however these features are so correlated that we might not need all of them to accurately predict mpg"
   ]
  },
  {
   "cell_type": "markdown",
   "metadata": {},
   "source": [
    "#### Heatmap to further visualize the correlation between features"
   ]
  },
  {
   "cell_type": "code",
   "execution_count": 96,
   "metadata": {},
   "outputs": [
    {
     "data": {
      "image/png": "[encoded data removed]",
      "text/plain": [
       "plot without title"
      ]
     },
     "metadata": {},
     "output_type": "display_data"
    }
   ],
   "source": [
    " ggcorrplot(cor(Auto_transformed))"
   ]
  },
  {
   "cell_type": "markdown",
   "metadata": {},
   "source": [
    "# Question 2: Multiple Regression using LM()"
   ]
  },
  {
   "cell_type": "markdown",
   "metadata": {},
   "source": [
    "### First include all variables in the model"
   ]
  },
  {
   "cell_type": "code",
   "execution_count": 97,
   "metadata": {},
   "outputs": [],
   "source": [
    "lm1 <- lm(formula = log_mpg~(cylinders+frth_displacement+log_horsepower+log_weight+acceleration+year+origin+name),data= Auto_transformed)"
   ]
  },
  {
   "cell_type": "code",
   "execution_count": 98,
   "metadata": {},
   "outputs": [
    {
     "data": {
      "text/plain": [
       "\n",
       "Call:\n",
       "lm(formula = log_mpg ~ (cylinders + frth_displacement + log_horsepower + \n",
       "    log_weight + acceleration + year + origin + name), data = Auto_transformed)\n",
       "\n",
       "Residuals:\n",
       "     Min       1Q   Median       3Q      Max \n",
       "-0.38269 -0.06268 -0.00101  0.05927  0.36590 \n",
       "\n",
       "Coefficients:\n",
       "                    Estimate Std. Error t value Pr(>|t|)    \n",
       "(Intercept)        6.994e+00  3.681e-01  18.999  < 2e-16 ***\n",
       "cylinders         -1.311e-02  1.069e-02  -1.226 0.220829    \n",
       "frth_displacement  1.923e-02  5.717e-02   0.336 0.736778    \n",
       "log_horsepower    -1.907e-01  5.219e-02  -3.653 0.000295 ***\n",
       "log_weight        -6.441e-01  7.412e-02  -8.689  < 2e-16 ***\n",
       "acceleration      -5.000e-03  3.491e-03  -1.432 0.152936    \n",
       "year               2.890e-02  1.657e-03  17.437  < 2e-16 ***\n",
       "origin             2.046e-02  9.831e-03   2.081 0.038068 *  \n",
       "name               4.860e-05  6.674e-05   0.728 0.466907    \n",
       "---\n",
       "Signif. codes:  0 '***' 0.001 '**' 0.01 '*' 0.05 '.' 0.1 ' ' 1\n",
       "\n",
       "Residual standard error: 0.1092 on 388 degrees of freedom\n",
       "Multiple R-squared:  0.889,\tAdjusted R-squared:  0.8868 \n",
       "F-statistic: 388.6 on 8 and 388 DF,  p-value: < 2.2e-16\n"
      ]
     },
     "metadata": {},
     "output_type": "display_data"
    }
   ],
   "source": [
    "summary(lm1)"
   ]
  },
  {
   "cell_type": "markdown",
   "metadata": {},
   "source": [
    "- the summary(model) provides a detailed report of your model, I am primary focusing the P-value for each feature as this provides us with information regarding the significance of each feature. Adjusted R-squared value gives us information regarding the accuracy (how close the data points are to the fitted line) of our model, and lastly p-value of overall model. Overall a p-value < 0.05 indicates that something is significant, Adjusted R-squared value close to 1 indicates higher accuracy.\n",
    "____________________________\n",
    "- we can see that log_weight, log_horsepower, year and origin have p_value < 0.05, we will go ahead and keep these features and eliminate others\n",
    "- we can see that the adjusted R-squared value os 0.8868\n",
    "- we can see that the p-value for the entire model is also less than 0.05"
   ]
  },
  {
   "cell_type": "markdown",
   "metadata": {},
   "source": [
    "### Second model after eliminating some features"
   ]
  },
  {
   "cell_type": "code",
   "execution_count": 130,
   "metadata": {},
   "outputs": [
    {
     "data": {
      "text/plain": [
       "\n",
       "Call:\n",
       "lm(formula = log_mpg ~ (log_horsepower + log_weight + year + \n",
       "    origin), data = Auto_transformed)\n",
       "\n",
       "Residuals:\n",
       "     Min       1Q   Median       3Q      Max \n",
       "-0.36911 -0.06677  0.00042  0.06337  0.36986 \n",
       "\n",
       "Coefficients:\n",
       "                Estimate Std. Error t value Pr(>|t|)    \n",
       "(Intercept)     7.212672   0.275905  26.142  < 2e-16 ***\n",
       "log_horsepower -0.146497   0.034529  -4.243 2.76e-05 ***\n",
       "log_weight     -0.710034   0.043852 -16.192  < 2e-16 ***\n",
       "year            0.029276   0.001633  17.928  < 2e-16 ***\n",
       "origin          0.021491   0.008656   2.483   0.0135 *  \n",
       "---\n",
       "Signif. codes:  0 '***' 0.001 '**' 0.01 '*' 0.05 '.' 0.1 ' ' 1\n",
       "\n",
       "Residual standard error: 0.1093 on 392 degrees of freedom\n",
       "Multiple R-squared:  0.8878,\tAdjusted R-squared:  0.8866 \n",
       "F-statistic: 775.1 on 4 and 392 DF,  p-value: < 2.2e-16\n"
      ]
     },
     "metadata": {},
     "output_type": "display_data"
    }
   ],
   "source": [
    "lm2 <- lm(formula = log_mpg~(log_horsepower+log_weight+year+origin),data= Auto_transformed)\n",
    "summary(lm2)"
   ]
  },
  {
   "cell_type": "markdown",
   "metadata": {},
   "source": [
    " - from the summary of our updated model we can see that:\n",
    "    - p-values for some features have decreased (become more important as other features are removed)\n",
    "    - R-squared value is now 0.8866, only 0.0002 lower than lm1, indicating that the features we eliminated did not contribute greatly to the model\n",
    "    - p-value for the overall model stayed the same\n",
    " - we can also see that origin's p-value although less than 0.05, but significantly higher than other features p-values, we will try to fit the data without origin. \n"
   ]
  },
  {
   "cell_type": "markdown",
   "metadata": {},
   "source": [
    "### Final model before considering potential interactions between features"
   ]
  },
  {
   "cell_type": "code",
   "execution_count": 131,
   "metadata": {},
   "outputs": [
    {
     "data": {
      "text/plain": [
       "\n",
       "Call:\n",
       "lm(formula = log_mpg ~ (log_horsepower + log_weight + year), \n",
       "    data = Auto_transformed)\n",
       "\n",
       "Residuals:\n",
       "     Min       1Q   Median       3Q      Max \n",
       "-0.36378 -0.06622  0.00313  0.06299  0.36031 \n",
       "\n",
       "Coefficients:\n",
       "                Estimate Std. Error t value Pr(>|t|)    \n",
       "(Intercept)     7.557825   0.239883  31.506  < 2e-16 ***\n",
       "log_horsepower -0.136378   0.034512  -3.952  9.2e-05 ***\n",
       "log_weight     -0.756963   0.039828 -19.006  < 2e-16 ***\n",
       "year            0.029481   0.001642  17.959  < 2e-16 ***\n",
       "---\n",
       "Signif. codes:  0 '***' 0.001 '**' 0.01 '*' 0.05 '.' 0.1 ' ' 1\n",
       "\n",
       "Residual standard error: 0.11 on 393 degrees of freedom\n",
       "Multiple R-squared:  0.886,\tAdjusted R-squared:  0.8851 \n",
       "F-statistic:  1018 on 3 and 393 DF,  p-value: < 2.2e-16\n"
      ]
     },
     "metadata": {},
     "output_type": "display_data"
    }
   ],
   "source": [
    "lm3 <- lm(formula = log_mpg~(log_horsepower+log_weight+year),data= Auto_transformed)\n",
    "summary(lm3)"
   ]
  },
  {
   "cell_type": "markdown",
   "metadata": {},
   "source": [
    " - from the summary of our updated model we can see that:\n",
    "    - p-values log_horsepower increased, although still siginificantly lower than 0.05, and other p-values stayed the same.\n",
    "    - R-squared value is now 0.8851, only 0.0011 lower than lm2, indicating that the including origin will not improve the performance of the model by a lot.\n",
    " - In conclusion, the features: cylinders, frth_displacement, acceleration, name and origin are not significant in predicting mpg"
   ]
  },
  {
   "cell_type": "markdown",
   "metadata": {},
   "source": [
    "### Including the all interactions of the remaining features"
   ]
  },
  {
   "cell_type": "code",
   "execution_count": 150,
   "metadata": {},
   "outputs": [
    {
     "data": {
      "text/plain": [
       "\n",
       "Call:\n",
       "lm(formula = log_mpg ~ (log_horsepower * log_weight * year), \n",
       "    data = Auto_transformed)\n",
       "\n",
       "Residuals:\n",
       "     Min       1Q   Median       3Q      Max \n",
       "-0.35570 -0.06555  0.00167  0.06403  0.35994 \n",
       "\n",
       "Coefficients:\n",
       "                                Estimate Std. Error t value Pr(>|t|)\n",
       "(Intercept)                    28.386122  48.384141   0.587    0.558\n",
       "log_horsepower                 -1.123059  10.645058  -0.106    0.916\n",
       "log_weight                     -4.911548   6.075012  -0.808    0.419\n",
       "year                           -0.255362   0.646332  -0.395    0.693\n",
       "log_horsepower:log_weight       0.457158   1.324659   0.345    0.730\n",
       "log_horsepower:year             0.015048   0.142499   0.106    0.916\n",
       "log_weight:year                 0.056237   0.081190   0.693    0.489\n",
       "log_horsepower:log_weight:year -0.006324   0.017746  -0.356    0.722\n",
       "\n",
       "Residual standard error: 0.1079 on 389 degrees of freedom\n",
       "Multiple R-squared:  0.8915,\tAdjusted R-squared:  0.8896 \n",
       "F-statistic: 456.8 on 7 and 389 DF,  p-value: < 2.2e-16\n"
      ]
     },
     "metadata": {},
     "output_type": "display_data"
    }
   ],
   "source": [
    "interaction1 <- lm(formula = log_mpg~(log_horsepower*log_weight*year),data= Auto_transformed)\n",
    "summary(interaction1)\n"
   ]
  },
  {
   "cell_type": "markdown",
   "metadata": {},
   "source": [
    "- from this model we can see that although the adjusted R-squared value is pretty high - 0.8869. However the p-value for each feature and intersection all features have become significantly larger than 0.05 making all variables insignificant \n",
    "\n",
    "- we can conclude that including all interaction between variable might reduce the performance of the model"
   ]
  },
  {
   "cell_type": "markdown",
   "metadata": {},
   "source": [
    "### Model interaction between features individually\n",
    "\n",
    "- we will try model with all possible combination of interactions between three feaures and model these interaction individually.\n",
    "- we will be looking at the adjusted r-squared value only, by doing that we can see the model performance if we only have one combination of interaction as predictor. This can help us to see that if a particular interaction can contribute to the overall model\n",
    "- we will not be looking at the p-value for the interaction since, we only have one predictor"
   ]
  },
  {
   "cell_type": "code",
   "execution_count": 152,
   "metadata": {},
   "outputs": [
    {
     "data": {
      "text/plain": [
       "\n",
       "Call:\n",
       "lm(formula = log_mpg ~ (log_horsepower:log_weight:year), data = Auto_transformed)\n",
       "\n",
       "Residuals:\n",
       "     Min       1Q   Median       3Q      Max \n",
       "-0.57673 -0.19576 -0.01664  0.18069  0.63823 \n",
       "\n",
       "Coefficients:\n",
       "                                 Estimate Std. Error t value Pr(>|t|)    \n",
       "(Intercept)                     5.355e+00  1.264e-01   42.36   <2e-16 ***\n",
       "log_horsepower:log_weight:year -7.934e-04  4.523e-05  -17.54   <2e-16 ***\n",
       "---\n",
       "Signif. codes:  0 '***' 0.001 '**' 0.01 '*' 0.05 '.' 0.1 ' ' 1\n",
       "\n",
       "Residual standard error: 0.2437 on 395 degrees of freedom\n",
       "Multiple R-squared:  0.4379,\tAdjusted R-squared:  0.4365 \n",
       "F-statistic: 307.7 on 1 and 395 DF,  p-value: < 2.2e-16\n"
      ]
     },
     "metadata": {},
     "output_type": "display_data"
    }
   ],
   "source": [
    "interaction2 <- lm(formula = log_mpg~(log_horsepower:log_weight:year),data= Auto_transformed)\n",
    "summary(interaction2)\n"
   ]
  },
  {
   "cell_type": "code",
   "execution_count": 151,
   "metadata": {},
   "outputs": [
    {
     "data": {
      "text/plain": [
       "\n",
       "Call:\n",
       "lm(formula = log_mpg ~ (log_weight:log_horsepower), data = Auto_transformed)\n",
       "\n",
       "Residuals:\n",
       "     Min       1Q   Median       3Q      Max \n",
       "-0.52962 -0.09313  0.00194  0.09725  0.54029 \n",
       "\n",
       "Coefficients:\n",
       "                           Estimate Std. Error t value Pr(>|t|)    \n",
       "(Intercept)                5.836228   0.074007   78.86   <2e-16 ***\n",
       "log_weight:log_horsepower -0.073296   0.002006  -36.53   <2e-16 ***\n",
       "---\n",
       "Signif. codes:  0 '***' 0.001 '**' 0.01 '*' 0.05 '.' 0.1 ' ' 1\n",
       "\n",
       "Residual standard error: 0.1553 on 395 degrees of freedom\n",
       "Multiple R-squared:  0.7716,\tAdjusted R-squared:  0.771 \n",
       "F-statistic:  1334 on 1 and 395 DF,  p-value: < 2.2e-16\n"
      ]
     },
     "metadata": {},
     "output_type": "display_data"
    }
   ],
   "source": [
    "interaction3 <- lm(formula = log_mpg~(log_weight:log_horsepower),data= Auto_transformed)\n",
    "summary(interaction3)\n"
   ]
  },
  {
   "cell_type": "code",
   "execution_count": 154,
   "metadata": {},
   "outputs": [
    {
     "data": {
      "text/plain": [
       "\n",
       "Call:\n",
       "lm(formula = log_mpg ~ (log_horsepower:year), data = Auto_transformed)\n",
       "\n",
       "Residuals:\n",
       "     Min       1Q   Median       3Q      Max \n",
       "-0.71843 -0.24424 -0.01208  0.22655  0.73950 \n",
       "\n",
       "Coefficients:\n",
       "                      Estimate Std. Error t value Pr(>|t|)    \n",
       "(Intercept)          5.3922342  0.2071062   26.04   <2e-16 ***\n",
       "log_horsepower:year -0.0064304  0.0005919  -10.86   <2e-16 ***\n",
       "---\n",
       "Signif. codes:  0 '***' 0.001 '**' 0.01 '*' 0.05 '.' 0.1 ' ' 1\n",
       "\n",
       "Residual standard error: 0.2852 on 395 degrees of freedom\n",
       "Multiple R-squared:   0.23,\tAdjusted R-squared:  0.2281 \n",
       "F-statistic:   118 on 1 and 395 DF,  p-value: < 2.2e-16\n"
      ]
     },
     "metadata": {},
     "output_type": "display_data"
    }
   ],
   "source": [
    "interaction4 <- lm(formula = log_mpg~(log_horsepower:year),data= Auto_transformed)\n",
    "summary(interaction4)\n"
   ]
  },
  {
   "cell_type": "code",
   "execution_count": 155,
   "metadata": {},
   "outputs": [
    {
     "data": {
      "text/plain": [
       "\n",
       "Call:\n",
       "lm(formula = log_mpg ~ (year:log_weight), data = Auto_transformed)\n",
       "\n",
       "Residuals:\n",
       "     Min       1Q   Median       3Q      Max \n",
       "-0.85159 -0.22967  0.01413  0.24971  0.71934 \n",
       "\n",
       "Coefficients:\n",
       "                  Estimate Std. Error t value Pr(>|t|)    \n",
       "(Intercept)      3.4700979  0.3211208  10.806   <2e-16 ***\n",
       "year:log_weight -0.0005333  0.0005306  -1.005    0.315    \n",
       "---\n",
       "Signif. codes:  0 '***' 0.001 '**' 0.01 '*' 0.05 '.' 0.1 ' ' 1\n",
       "\n",
       "Residual standard error: 0.3246 on 395 degrees of freedom\n",
       "Multiple R-squared:  0.002551,\tAdjusted R-squared:  2.583e-05 \n",
       "F-statistic:  1.01 on 1 and 395 DF,  p-value: 0.3155\n"
      ]
     },
     "metadata": {},
     "output_type": "display_data"
    }
   ],
   "source": [
    "interaction5 <- lm(formula = log_mpg~(year:log_weight),data= Auto_transformed)\n",
    "summary(interaction5)\n"
   ]
  },
  {
   "cell_type": "markdown",
   "metadata": {},
   "source": [
    "- we  can observation from model interaction2 to interaction 5 and their respective adjuted-Rsquared values:\n",
    "    - log_horsepower:log_weight:year -  0.4365\n",
    "    - log_horsepower:log_weight - 0.771\n",
    "    - log_horsepower:year - 0.2281\n",
    "    - log_weight:year - 2.583e-05 \n",
    "    \n",
    " - we can conlude that the interaction between log_horsepower and log_weight could be a useful predictor on its own, the interaction between all three features could potentially be useful. The other interactions generated low adjusted R-square value. Therefore, we will not be including this in the final model"
   ]
  },
  {
   "cell_type": "markdown",
   "metadata": {},
   "source": [
    "#### Combining the final model (lm3) and useful interactions "
   ]
  },
  {
   "cell_type": "code",
   "execution_count": 159,
   "metadata": {},
   "outputs": [
    {
     "data": {
      "text/plain": [
       "\n",
       "Call:\n",
       "lm(formula = log_mpg ~ (log_horsepower * log_weight + year), \n",
       "    data = Auto_transformed)\n",
       "\n",
       "Residuals:\n",
       "     Min       1Q   Median       3Q      Max \n",
       "-0.36005 -0.06613  0.00349  0.06163  0.36268 \n",
       "\n",
       "Coefficients:\n",
       "                           Estimate Std. Error t value Pr(>|t|)    \n",
       "(Intercept)                9.277749   2.196320   4.224 2.98e-05 ***\n",
       "log_horsepower            -0.517721   0.485284  -1.067 0.286700    \n",
       "log_weight                -0.972905   0.276985  -3.512 0.000496 ***\n",
       "year                       0.029674   0.001661  17.870  < 2e-16 ***\n",
       "log_horsepower:log_weight  0.047373   0.060132   0.788 0.431283    \n",
       "---\n",
       "Signif. codes:  0 '***' 0.001 '**' 0.01 '*' 0.05 '.' 0.1 ' ' 1\n",
       "\n",
       "Residual standard error: 0.1101 on 392 degrees of freedom\n",
       "Multiple R-squared:  0.8862,\tAdjusted R-squared:  0.885 \n",
       "F-statistic: 762.9 on 4 and 392 DF,  p-value: < 2.2e-16\n"
      ]
     },
     "metadata": {},
     "output_type": "display_data"
    }
   ],
   "source": [
    "lm4 <- lm(formula = log_mpg~(log_horsepower*log_weight+year),data= Auto_transformed)\n",
    "summary(lm4)"
   ]
  },
  {
   "cell_type": "markdown",
   "metadata": {},
   "source": [
    "- after including the interaction between log_weight and log_horsepower, along with the three features we kept (log_horsepower, log_weight, year) we can see that:\n",
    "    - log_horsepower's value has significantly increased making it an insignificant feature\n",
    "    - Adjusted R-square value did not change a lot 0.0001 less than the model without any interaction, we will go ahead and remove log_horsepower as a predictor"
   ]
  },
  {
   "cell_type": "code",
   "execution_count": 164,
   "metadata": {},
   "outputs": [
    {
     "data": {
      "text/plain": [
       "\n",
       "Call:\n",
       "lm(formula = log_mpg ~ (log_horsepower:log_weight + log_weight + \n",
       "    year), data = Auto_transformed)\n",
       "\n",
       "Residuals:\n",
       "     Min       1Q   Median       3Q      Max \n",
       "-0.36548 -0.06706  0.00360  0.06227  0.35978 \n",
       "\n",
       "Coefficients:\n",
       "                           Estimate Std. Error t value Pr(>|t|)    \n",
       "(Intercept)                6.960237   0.323906  21.488  < 2e-16 ***\n",
       "log_weight                -0.683813   0.057374 -11.919  < 2e-16 ***\n",
       "year                       0.029451   0.001648  17.874  < 2e-16 ***\n",
       "log_horsepower:log_weight -0.016616   0.004279  -3.883 0.000121 ***\n",
       "---\n",
       "Signif. codes:  0 '***' 0.001 '**' 0.01 '*' 0.05 '.' 0.1 ' ' 1\n",
       "\n",
       "Residual standard error: 0.1101 on 393 degrees of freedom\n",
       "Multiple R-squared:  0.8858,\tAdjusted R-squared:  0.885 \n",
       "F-statistic:  1016 on 3 and 393 DF,  p-value: < 2.2e-16\n"
      ]
     },
     "metadata": {},
     "output_type": "display_data"
    },
    {
     "name": "stdout",
     "output_type": "stream",
     "text": [
      "[1] \"____________________summary with model with out interacation_____________________ \\n\"\n"
     ]
    },
    {
     "data": {
      "text/plain": [
       "\n",
       "Call:\n",
       "lm(formula = log_mpg ~ (log_horsepower + log_weight + year), \n",
       "    data = Auto_transformed)\n",
       "\n",
       "Residuals:\n",
       "     Min       1Q   Median       3Q      Max \n",
       "-0.36378 -0.06622  0.00313  0.06299  0.36031 \n",
       "\n",
       "Coefficients:\n",
       "                Estimate Std. Error t value Pr(>|t|)    \n",
       "(Intercept)     7.557825   0.239883  31.506  < 2e-16 ***\n",
       "log_horsepower -0.136378   0.034512  -3.952  9.2e-05 ***\n",
       "log_weight     -0.756963   0.039828 -19.006  < 2e-16 ***\n",
       "year            0.029481   0.001642  17.959  < 2e-16 ***\n",
       "---\n",
       "Signif. codes:  0 '***' 0.001 '**' 0.01 '*' 0.05 '.' 0.1 ' ' 1\n",
       "\n",
       "Residual standard error: 0.11 on 393 degrees of freedom\n",
       "Multiple R-squared:  0.886,\tAdjusted R-squared:  0.8851 \n",
       "F-statistic:  1018 on 3 and 393 DF,  p-value: < 2.2e-16\n"
      ]
     },
     "metadata": {},
     "output_type": "display_data"
    }
   ],
   "source": [
    "lm5 <- lm(formula = log_mpg~(log_horsepower:log_weight+log_weight+year),data= Auto_transformed)\n",
    "summary(lm5)\n",
    "print(\"____________________summary with model with out interacation_____________________ \\n\")\n",
    "summary(lm3)"
   ]
  },
  {
   "cell_type": "markdown",
   "metadata": {},
   "source": [
    "- After removing the log_horsepower variable, we left with a model with \"year\",\"log_weight\", and \"log_weight:log_horsepower\" as a predictor (lm5). We will then compare lm5 with our initial model with only \"year\". \"log_weight\", and \"log_horsepower\"  (without interactions) as our predictor, we see that:\n",
    "    - the two model almost perform the same, with nearly identical Adjuted R-squared value, standard error, F-statistics. The p-values for each model change, all the p-values for both models are less than 0.05, but we can see that the overall p-values for the initial model without any interaction is overall higher. The p-value for log_horspower_log_weight interaction is slightly higher. \n",
    "    - Therefore we can conclude that both models behave similarly and are estimated to have simular performance. In this case, I will be choosing lm3, which is the initial model as our final model due to all p-values being slight lower"
   ]
  },
  {
   "cell_type": "markdown",
   "metadata": {},
   "source": [
    "### Final Model"
   ]
  },
  {
   "cell_type": "code",
   "execution_count": 167,
   "metadata": {},
   "outputs": [
    {
     "data": {
      "text/plain": [
       "\n",
       "Call:\n",
       "lm(formula = log_mpg ~ (log_horsepower + log_weight + year), \n",
       "    data = Auto_transformed)\n",
       "\n",
       "Coefficients:\n",
       "   (Intercept)  log_horsepower      log_weight            year  \n",
       "       7.55782        -0.13638        -0.75696         0.02948  \n"
      ]
     },
     "metadata": {},
     "output_type": "display_data"
    },
    {
     "data": {
      "text/plain": [
       "\n",
       "Call:\n",
       "lm(formula = log_mpg ~ (log_horsepower + log_weight + year), \n",
       "    data = Auto_transformed)\n",
       "\n",
       "Residuals:\n",
       "     Min       1Q   Median       3Q      Max \n",
       "-0.36378 -0.06622  0.00313  0.06299  0.36031 \n",
       "\n",
       "Coefficients:\n",
       "                Estimate Std. Error t value Pr(>|t|)    \n",
       "(Intercept)     7.557825   0.239883  31.506  < 2e-16 ***\n",
       "log_horsepower -0.136378   0.034512  -3.952  9.2e-05 ***\n",
       "log_weight     -0.756963   0.039828 -19.006  < 2e-16 ***\n",
       "year            0.029481   0.001642  17.959  < 2e-16 ***\n",
       "---\n",
       "Signif. codes:  0 '***' 0.001 '**' 0.01 '*' 0.05 '.' 0.1 ' ' 1\n",
       "\n",
       "Residual standard error: 0.11 on 393 degrees of freedom\n",
       "Multiple R-squared:  0.886,\tAdjusted R-squared:  0.8851 \n",
       "F-statistic:  1018 on 3 and 393 DF,  p-value: < 2.2e-16\n"
      ]
     },
     "metadata": {},
     "output_type": "display_data"
    }
   ],
   "source": [
    "lm3\n",
    "summary(lm3)"
   ]
  },
  {
   "cell_type": "markdown",
   "metadata": {},
   "source": [
    "## a) and c) \n",
    "- First by viewing the distribution of each feature, transformations are performed on \"mpg\",\"displacement\",\"horsepower\", and \"weight.\" Therefore we are left with models having response variable \"log_mpg\", and features including \"frth_displacement\", \"log_horsepower\",\"log_weight\",\"cylinders\",\"year\",\"origin\", and \"name\". By first fitting the linear regression with all features, and use the summary() on our model. We can look at the p-value of each feature. A feature with p-value < 0.05 is an indicator that this feature is significant in predicting the response variable. From the first model \"lm1\" we can see that features with p-values < 0.05 are: log_horsepower, log_weight, origin, and name. However, although p-value of origin is less than 0.05, it is still large relative to the other features. We can determine that \"origin\" is less significant. We further looked into the interaction between different features as potential beneficial predictor to include in our model. We then performed a simple linear regression with each combination of interaction as the predictor and found out that the model with log_horsepower and log_weight interaction yielded a adjusted R-squared value. The next step was to combine the individual predictors and the useful interaction, which increased the p-value for log_horsepower. We removed log_horespower, and kept log_weight, year and log_horsepower:log_weight interaction as our predictors in the final model. We compared this model with our intiial model that did not include interaction and only the three features. We observed that both models behave similarly, and is expected to perform well. We then chose the original model as our final model.\n",
    "\n",
    "- In conclusion:\n",
    "    - significant features: log_horsepower, log_weight, year and origin with the previous three more important than the origin\n",
    "    - significant interaction: log_horsepower:log_weight\n",
    "    - final combination that is expected to yield the best result: (log_horsepower , log_weight, year) or (log_weight, year, log_horespower:log_weight)\n"
   ]
  },
  {
   "cell_type": "markdown",
   "metadata": {},
   "source": [
    "## b)\n",
    "- the coefficient of \"year\" is 0.029481. This suggests a positive relationship between mpg and year. Meaning that evey year on average, mpg is improved by 0.029481. In layman's term that every year, the car's consumption of fuel is lessed due to increased fuel efficiency of ~3%. "
   ]
  },
  {
   "cell_type": "markdown",
   "metadata": {},
   "source": [
    "# Question 3"
   ]
  },
  {
   "cell_type": "markdown",
   "metadata": {},
   "source": [
    "## Import Libraries"
   ]
  },
  {
   "cell_type": "code",
   "execution_count": 266,
   "metadata": {},
   "outputs": [],
   "source": [
    "install.packages('MASS')\n",
    "library(MASS)\n"
   ]
  },
  {
   "cell_type": "code",
   "execution_count": 183,
   "metadata": {},
   "outputs": [
    {
     "data": {
      "text/html": [
       "<table>\n",
       "<thead><tr><th scope=col>crim</th><th scope=col>zn</th><th scope=col>indus</th><th scope=col>chas</th><th scope=col>nox</th><th scope=col>rm</th><th scope=col>age</th><th scope=col>dis</th><th scope=col>rad</th><th scope=col>tax</th><th scope=col>ptratio</th><th scope=col>black</th><th scope=col>lstat</th><th scope=col>medv</th></tr></thead>\n",
       "<tbody>\n",
       "\t<tr><td>0.00632</td><td>18     </td><td>2.31   </td><td>0      </td><td>0.538  </td><td>6.575  </td><td>65.2   </td><td>4.0900 </td><td>1      </td><td>296    </td><td>15.3   </td><td>396.90 </td><td>4.98   </td><td>24.0   </td></tr>\n",
       "\t<tr><td>0.02731</td><td> 0     </td><td>7.07   </td><td>0      </td><td>0.469  </td><td>6.421  </td><td>78.9   </td><td>4.9671 </td><td>2      </td><td>242    </td><td>17.8   </td><td>396.90 </td><td>9.14   </td><td>21.6   </td></tr>\n",
       "\t<tr><td>0.02729</td><td> 0     </td><td>7.07   </td><td>0      </td><td>0.469  </td><td>7.185  </td><td>61.1   </td><td>4.9671 </td><td>2      </td><td>242    </td><td>17.8   </td><td>392.83 </td><td>4.03   </td><td>34.7   </td></tr>\n",
       "\t<tr><td>0.03237</td><td> 0     </td><td>2.18   </td><td>0      </td><td>0.458  </td><td>6.998  </td><td>45.8   </td><td>6.0622 </td><td>3      </td><td>222    </td><td>18.7   </td><td>394.63 </td><td>2.94   </td><td>33.4   </td></tr>\n",
       "\t<tr><td>0.06905</td><td> 0     </td><td>2.18   </td><td>0      </td><td>0.458  </td><td>7.147  </td><td>54.2   </td><td>6.0622 </td><td>3      </td><td>222    </td><td>18.7   </td><td>396.90 </td><td>5.33   </td><td>36.2   </td></tr>\n",
       "\t<tr><td>0.02985</td><td> 0     </td><td>2.18   </td><td>0      </td><td>0.458  </td><td>6.430  </td><td>58.7   </td><td>6.0622 </td><td>3      </td><td>222    </td><td>18.7   </td><td>394.12 </td><td>5.21   </td><td>28.7   </td></tr>\n",
       "</tbody>\n",
       "</table>\n"
      ],
      "text/latex": [
       "\\begin{tabular}{r|llllllllllllll}\n",
       " crim & zn & indus & chas & nox & rm & age & dis & rad & tax & ptratio & black & lstat & medv\\\\\n",
       "\\hline\n",
       "\t 0.00632 & 18      & 2.31    & 0       & 0.538   & 6.575   & 65.2    & 4.0900  & 1       & 296     & 15.3    & 396.90  & 4.98    & 24.0   \\\\\n",
       "\t 0.02731 &  0      & 7.07    & 0       & 0.469   & 6.421   & 78.9    & 4.9671  & 2       & 242     & 17.8    & 396.90  & 9.14    & 21.6   \\\\\n",
       "\t 0.02729 &  0      & 7.07    & 0       & 0.469   & 7.185   & 61.1    & 4.9671  & 2       & 242     & 17.8    & 392.83  & 4.03    & 34.7   \\\\\n",
       "\t 0.03237 &  0      & 2.18    & 0       & 0.458   & 6.998   & 45.8    & 6.0622  & 3       & 222     & 18.7    & 394.63  & 2.94    & 33.4   \\\\\n",
       "\t 0.06905 &  0      & 2.18    & 0       & 0.458   & 7.147   & 54.2    & 6.0622  & 3       & 222     & 18.7    & 396.90  & 5.33    & 36.2   \\\\\n",
       "\t 0.02985 &  0      & 2.18    & 0       & 0.458   & 6.430   & 58.7    & 6.0622  & 3       & 222     & 18.7    & 394.12  & 5.21    & 28.7   \\\\\n",
       "\\end{tabular}\n"
      ],
      "text/markdown": [
       "\n",
       "| crim | zn | indus | chas | nox | rm | age | dis | rad | tax | ptratio | black | lstat | medv |\n",
       "|---|---|---|---|---|---|---|---|---|---|---|---|---|---|\n",
       "| 0.00632 | 18      | 2.31    | 0       | 0.538   | 6.575   | 65.2    | 4.0900  | 1       | 296     | 15.3    | 396.90  | 4.98    | 24.0    |\n",
       "| 0.02731 |  0      | 7.07    | 0       | 0.469   | 6.421   | 78.9    | 4.9671  | 2       | 242     | 17.8    | 396.90  | 9.14    | 21.6    |\n",
       "| 0.02729 |  0      | 7.07    | 0       | 0.469   | 7.185   | 61.1    | 4.9671  | 2       | 242     | 17.8    | 392.83  | 4.03    | 34.7    |\n",
       "| 0.03237 |  0      | 2.18    | 0       | 0.458   | 6.998   | 45.8    | 6.0622  | 3       | 222     | 18.7    | 394.63  | 2.94    | 33.4    |\n",
       "| 0.06905 |  0      | 2.18    | 0       | 0.458   | 7.147   | 54.2    | 6.0622  | 3       | 222     | 18.7    | 396.90  | 5.33    | 36.2    |\n",
       "| 0.02985 |  0      | 2.18    | 0       | 0.458   | 6.430   | 58.7    | 6.0622  | 3       | 222     | 18.7    | 394.12  | 5.21    | 28.7    |\n",
       "\n"
      ],
      "text/plain": [
       "  crim    zn indus chas nox   rm    age  dis    rad tax ptratio black  lstat\n",
       "1 0.00632 18 2.31  0    0.538 6.575 65.2 4.0900 1   296 15.3    396.90 4.98 \n",
       "2 0.02731  0 7.07  0    0.469 6.421 78.9 4.9671 2   242 17.8    396.90 9.14 \n",
       "3 0.02729  0 7.07  0    0.469 7.185 61.1 4.9671 2   242 17.8    392.83 4.03 \n",
       "4 0.03237  0 2.18  0    0.458 6.998 45.8 6.0622 3   222 18.7    394.63 2.94 \n",
       "5 0.06905  0 2.18  0    0.458 7.147 54.2 6.0622 3   222 18.7    396.90 5.33 \n",
       "6 0.02985  0 2.18  0    0.458 6.430 58.7 6.0622 3   222 18.7    394.12 5.21 \n",
       "  medv\n",
       "1 24.0\n",
       "2 21.6\n",
       "3 34.7\n",
       "4 33.4\n",
       "5 36.2\n",
       "6 28.7"
      ]
     },
     "metadata": {},
     "output_type": "display_data"
    },
    {
     "data": {
      "text/html": [
       "<ol class=list-inline>\n",
       "\t<li>506</li>\n",
       "\t<li>14</li>\n",
       "</ol>\n"
      ],
      "text/latex": [
       "\\begin{enumerate*}\n",
       "\\item 506\n",
       "\\item 14\n",
       "\\end{enumerate*}\n"
      ],
      "text/markdown": [
       "1. 506\n",
       "2. 14\n",
       "\n",
       "\n"
      ],
      "text/plain": [
       "[1] 506  14"
      ]
     },
     "metadata": {},
     "output_type": "display_data"
    },
    {
     "data": {
      "text/html": [
       "0"
      ],
      "text/latex": [
       "0"
      ],
      "text/markdown": [
       "0"
      ],
      "text/plain": [
       "[1] 0"
      ]
     },
     "metadata": {},
     "output_type": "display_data"
    },
    {
     "data": {
      "text/html": [
       "<ol class=list-inline>\n",
       "\t<li>'crim'</li>\n",
       "\t<li>'zn'</li>\n",
       "\t<li>'indus'</li>\n",
       "\t<li>'chas'</li>\n",
       "\t<li>'nox'</li>\n",
       "\t<li>'rm'</li>\n",
       "\t<li>'age'</li>\n",
       "\t<li>'dis'</li>\n",
       "\t<li>'rad'</li>\n",
       "\t<li>'tax'</li>\n",
       "\t<li>'ptratio'</li>\n",
       "\t<li>'black'</li>\n",
       "\t<li>'lstat'</li>\n",
       "\t<li>'medv'</li>\n",
       "</ol>\n"
      ],
      "text/latex": [
       "\\begin{enumerate*}\n",
       "\\item 'crim'\n",
       "\\item 'zn'\n",
       "\\item 'indus'\n",
       "\\item 'chas'\n",
       "\\item 'nox'\n",
       "\\item 'rm'\n",
       "\\item 'age'\n",
       "\\item 'dis'\n",
       "\\item 'rad'\n",
       "\\item 'tax'\n",
       "\\item 'ptratio'\n",
       "\\item 'black'\n",
       "\\item 'lstat'\n",
       "\\item 'medv'\n",
       "\\end{enumerate*}\n"
      ],
      "text/markdown": [
       "1. 'crim'\n",
       "2. 'zn'\n",
       "3. 'indus'\n",
       "4. 'chas'\n",
       "5. 'nox'\n",
       "6. 'rm'\n",
       "7. 'age'\n",
       "8. 'dis'\n",
       "9. 'rad'\n",
       "10. 'tax'\n",
       "11. 'ptratio'\n",
       "12. 'black'\n",
       "13. 'lstat'\n",
       "14. 'medv'\n",
       "\n",
       "\n"
      ],
      "text/plain": [
       " [1] \"crim\"    \"zn\"      \"indus\"   \"chas\"    \"nox\"     \"rm\"      \"age\"    \n",
       " [8] \"dis\"     \"rad\"     \"tax\"     \"ptratio\" \"black\"   \"lstat\"   \"medv\"   "
      ]
     },
     "metadata": {},
     "output_type": "display_data"
    },
    {
     "data": {
      "text/html": [
       "<table>\n",
       "<thead><tr><th></th><th scope=col>vars</th><th scope=col>n</th><th scope=col>mean</th><th scope=col>sd</th><th scope=col>median</th><th scope=col>trimmed</th><th scope=col>mad</th><th scope=col>min</th><th scope=col>max</th><th scope=col>range</th><th scope=col>skew</th><th scope=col>kurtosis</th><th scope=col>se</th></tr></thead>\n",
       "<tbody>\n",
       "\t<tr><th scope=row>crim</th><td> 1          </td><td>506         </td><td>  3.61352356</td><td>  8.6015451 </td><td>  0.25651   </td><td>  1.6816300 </td><td>  0.3283218 </td><td>  0.00632   </td><td> 88.9762    </td><td> 88.96988   </td><td> 5.1922223  </td><td>36.59581589 </td><td>0.382385321 </td></tr>\n",
       "\t<tr><th scope=row>zn</th><td> 2          </td><td>506         </td><td> 11.36363636</td><td> 23.3224530 </td><td>  0.00000   </td><td>  5.0800493 </td><td>  0.0000000 </td><td>  0.00000   </td><td>100.0000    </td><td>100.00000   </td><td> 2.2124881  </td><td> 3.95238731 </td><td>1.036809500 </td></tr>\n",
       "\t<tr><th scope=row>indus</th><td> 3          </td><td>506         </td><td> 11.13677866</td><td>  6.8603529 </td><td>  9.69000   </td><td> 10.9318719 </td><td>  9.3700320 </td><td>  0.46000   </td><td> 27.7400    </td><td> 27.28000   </td><td> 0.2932747  </td><td>-1.24019490 </td><td>0.304979888 </td></tr>\n",
       "\t<tr><th scope=row>chas</th><td> 4          </td><td>506         </td><td>  0.06916996</td><td>  0.2539940 </td><td>  0.00000   </td><td>  0.0000000 </td><td>  0.0000000 </td><td>  0.00000   </td><td>  1.0000    </td><td>  1.00000   </td><td> 3.3857377  </td><td> 9.48197035 </td><td>0.011291412 </td></tr>\n",
       "\t<tr><th scope=row>nox</th><td> 5          </td><td>506         </td><td>  0.55469506</td><td>  0.1158777 </td><td>  0.53800   </td><td>  0.5450601 </td><td>  0.1297275 </td><td>  0.38500   </td><td>  0.8710    </td><td>  0.48600   </td><td> 0.7249897  </td><td>-0.08741064 </td><td>0.005151391 </td></tr>\n",
       "\t<tr><th scope=row>rm</th><td> 6          </td><td>506         </td><td>  6.28463439</td><td>  0.7026171 </td><td>  6.20850   </td><td>  6.2528744 </td><td>  0.5122383 </td><td>  3.56100   </td><td>  8.7800    </td><td>  5.21900   </td><td> 0.4012223  </td><td> 1.84183241 </td><td>0.031235142 </td></tr>\n",
       "\t<tr><th scope=row>age</th><td> 7          </td><td>506         </td><td> 68.57490119</td><td> 28.1488614 </td><td> 77.50000   </td><td> 71.1960591 </td><td> 28.9848300 </td><td>  2.90000   </td><td>100.0000    </td><td> 97.10000   </td><td>-0.5954162  </td><td>-0.97802966 </td><td>1.251369525 </td></tr>\n",
       "\t<tr><th scope=row>dis</th><td> 8          </td><td>506         </td><td>  3.79504269</td><td>  2.1057101 </td><td>  3.20745   </td><td>  3.5393786 </td><td>  1.9142590 </td><td>  1.12960   </td><td> 12.1265    </td><td> 10.99690   </td><td> 1.0057898  </td><td> 0.45759158 </td><td>0.093610233 </td></tr>\n",
       "\t<tr><th scope=row>rad</th><td> 9          </td><td>506         </td><td>  9.54940711</td><td>  8.7072594 </td><td>  5.00000   </td><td>  8.7339901 </td><td>  2.9652000 </td><td>  1.00000   </td><td> 24.0000    </td><td> 23.00000   </td><td> 0.9988651  </td><td>-0.87892910 </td><td>0.387084894 </td></tr>\n",
       "\t<tr><th scope=row>tax</th><td>10          </td><td>506         </td><td>408.23715415</td><td>168.5371161 </td><td>330.00000   </td><td>400.0443350 </td><td>108.2298000 </td><td>187.00000   </td><td>711.0000    </td><td>524.00000   </td><td> 0.6659891  </td><td>-1.15031761 </td><td>7.492388692 </td></tr>\n",
       "\t<tr><th scope=row>ptratio</th><td>11          </td><td>506         </td><td> 18.45553360</td><td>  2.1649455 </td><td> 19.05000   </td><td> 18.6625616 </td><td>  1.7049900 </td><td> 12.60000   </td><td> 22.0000    </td><td>  9.40000   </td><td>-0.7975743  </td><td>-0.30480100 </td><td>0.096243568 </td></tr>\n",
       "\t<tr><th scope=row>black</th><td>12          </td><td>506         </td><td>356.67403162</td><td> 91.2948644 </td><td>391.44000   </td><td>383.1695074 </td><td>  8.0949960 </td><td>  0.32000   </td><td>396.9000    </td><td>396.58000   </td><td>-2.8732597  </td><td> 7.10371496 </td><td>4.058551763 </td></tr>\n",
       "\t<tr><th scope=row>lstat</th><td>13          </td><td>506         </td><td> 12.65306324</td><td>  7.1410615 </td><td> 11.36000   </td><td> 11.8990394 </td><td>  7.1090670 </td><td>  1.73000   </td><td> 37.9700    </td><td> 36.24000   </td><td> 0.9010929  </td><td> 0.46281705 </td><td>0.317458906 </td></tr>\n",
       "\t<tr><th scope=row>medv</th><td>14          </td><td>506         </td><td> 22.53280632</td><td>  9.1971041 </td><td> 21.20000   </td><td> 21.5623153 </td><td>  5.9304000 </td><td>  5.00000   </td><td> 50.0000    </td><td> 45.00000   </td><td> 1.1015373  </td><td> 1.45098366 </td><td>0.408861147 </td></tr>\n",
       "</tbody>\n",
       "</table>\n"
      ],
      "text/latex": [
       "\\begin{tabular}{r|lllllllllllll}\n",
       "  & vars & n & mean & sd & median & trimmed & mad & min & max & range & skew & kurtosis & se\\\\\n",
       "\\hline\n",
       "\tcrim &  1           & 506          &   3.61352356 &   8.6015451  &   0.25651    &   1.6816300  &   0.3283218  &   0.00632    &  88.9762     &  88.96988    &  5.1922223   & 36.59581589  & 0.382385321 \\\\\n",
       "\tzn &  2           & 506          &  11.36363636 &  23.3224530  &   0.00000    &   5.0800493  &   0.0000000  &   0.00000    & 100.0000     & 100.00000    &  2.2124881   &  3.95238731  & 1.036809500 \\\\\n",
       "\tindus &  3           & 506          &  11.13677866 &   6.8603529  &   9.69000    &  10.9318719  &   9.3700320  &   0.46000    &  27.7400     &  27.28000    &  0.2932747   & -1.24019490  & 0.304979888 \\\\\n",
       "\tchas &  4           & 506          &   0.06916996 &   0.2539940  &   0.00000    &   0.0000000  &   0.0000000  &   0.00000    &   1.0000     &   1.00000    &  3.3857377   &  9.48197035  & 0.011291412 \\\\\n",
       "\tnox &  5           & 506          &   0.55469506 &   0.1158777  &   0.53800    &   0.5450601  &   0.1297275  &   0.38500    &   0.8710     &   0.48600    &  0.7249897   & -0.08741064  & 0.005151391 \\\\\n",
       "\trm &  6           & 506          &   6.28463439 &   0.7026171  &   6.20850    &   6.2528744  &   0.5122383  &   3.56100    &   8.7800     &   5.21900    &  0.4012223   &  1.84183241  & 0.031235142 \\\\\n",
       "\tage &  7           & 506          &  68.57490119 &  28.1488614  &  77.50000    &  71.1960591  &  28.9848300  &   2.90000    & 100.0000     &  97.10000    & -0.5954162   & -0.97802966  & 1.251369525 \\\\\n",
       "\tdis &  8           & 506          &   3.79504269 &   2.1057101  &   3.20745    &   3.5393786  &   1.9142590  &   1.12960    &  12.1265     &  10.99690    &  1.0057898   &  0.45759158  & 0.093610233 \\\\\n",
       "\trad &  9           & 506          &   9.54940711 &   8.7072594  &   5.00000    &   8.7339901  &   2.9652000  &   1.00000    &  24.0000     &  23.00000    &  0.9988651   & -0.87892910  & 0.387084894 \\\\\n",
       "\ttax & 10           & 506          & 408.23715415 & 168.5371161  & 330.00000    & 400.0443350  & 108.2298000  & 187.00000    & 711.0000     & 524.00000    &  0.6659891   & -1.15031761  & 7.492388692 \\\\\n",
       "\tptratio & 11           & 506          &  18.45553360 &   2.1649455  &  19.05000    &  18.6625616  &   1.7049900  &  12.60000    &  22.0000     &   9.40000    & -0.7975743   & -0.30480100  & 0.096243568 \\\\\n",
       "\tblack & 12           & 506          & 356.67403162 &  91.2948644  & 391.44000    & 383.1695074  &   8.0949960  &   0.32000    & 396.9000     & 396.58000    & -2.8732597   &  7.10371496  & 4.058551763 \\\\\n",
       "\tlstat & 13           & 506          &  12.65306324 &   7.1410615  &  11.36000    &  11.8990394  &   7.1090670  &   1.73000    &  37.9700     &  36.24000    &  0.9010929   &  0.46281705  & 0.317458906 \\\\\n",
       "\tmedv & 14           & 506          &  22.53280632 &   9.1971041  &  21.20000    &  21.5623153  &   5.9304000  &   5.00000    &  50.0000     &  45.00000    &  1.1015373   &  1.45098366  & 0.408861147 \\\\\n",
       "\\end{tabular}\n"
      ],
      "text/markdown": [
       "\n",
       "| <!--/--> | vars | n | mean | sd | median | trimmed | mad | min | max | range | skew | kurtosis | se |\n",
       "|---|---|---|---|---|---|---|---|---|---|---|---|---|---|\n",
       "| crim |  1           | 506          |   3.61352356 |   8.6015451  |   0.25651    |   1.6816300  |   0.3283218  |   0.00632    |  88.9762     |  88.96988    |  5.1922223   | 36.59581589  | 0.382385321  |\n",
       "| zn |  2           | 506          |  11.36363636 |  23.3224530  |   0.00000    |   5.0800493  |   0.0000000  |   0.00000    | 100.0000     | 100.00000    |  2.2124881   |  3.95238731  | 1.036809500  |\n",
       "| indus |  3           | 506          |  11.13677866 |   6.8603529  |   9.69000    |  10.9318719  |   9.3700320  |   0.46000    |  27.7400     |  27.28000    |  0.2932747   | -1.24019490  | 0.304979888  |\n",
       "| chas |  4           | 506          |   0.06916996 |   0.2539940  |   0.00000    |   0.0000000  |   0.0000000  |   0.00000    |   1.0000     |   1.00000    |  3.3857377   |  9.48197035  | 0.011291412  |\n",
       "| nox |  5           | 506          |   0.55469506 |   0.1158777  |   0.53800    |   0.5450601  |   0.1297275  |   0.38500    |   0.8710     |   0.48600    |  0.7249897   | -0.08741064  | 0.005151391  |\n",
       "| rm |  6           | 506          |   6.28463439 |   0.7026171  |   6.20850    |   6.2528744  |   0.5122383  |   3.56100    |   8.7800     |   5.21900    |  0.4012223   |  1.84183241  | 0.031235142  |\n",
       "| age |  7           | 506          |  68.57490119 |  28.1488614  |  77.50000    |  71.1960591  |  28.9848300  |   2.90000    | 100.0000     |  97.10000    | -0.5954162   | -0.97802966  | 1.251369525  |\n",
       "| dis |  8           | 506          |   3.79504269 |   2.1057101  |   3.20745    |   3.5393786  |   1.9142590  |   1.12960    |  12.1265     |  10.99690    |  1.0057898   |  0.45759158  | 0.093610233  |\n",
       "| rad |  9           | 506          |   9.54940711 |   8.7072594  |   5.00000    |   8.7339901  |   2.9652000  |   1.00000    |  24.0000     |  23.00000    |  0.9988651   | -0.87892910  | 0.387084894  |\n",
       "| tax | 10           | 506          | 408.23715415 | 168.5371161  | 330.00000    | 400.0443350  | 108.2298000  | 187.00000    | 711.0000     | 524.00000    |  0.6659891   | -1.15031761  | 7.492388692  |\n",
       "| ptratio | 11           | 506          |  18.45553360 |   2.1649455  |  19.05000    |  18.6625616  |   1.7049900  |  12.60000    |  22.0000     |   9.40000    | -0.7975743   | -0.30480100  | 0.096243568  |\n",
       "| black | 12           | 506          | 356.67403162 |  91.2948644  | 391.44000    | 383.1695074  |   8.0949960  |   0.32000    | 396.9000     | 396.58000    | -2.8732597   |  7.10371496  | 4.058551763  |\n",
       "| lstat | 13           | 506          |  12.65306324 |   7.1410615  |  11.36000    |  11.8990394  |   7.1090670  |   1.73000    |  37.9700     |  36.24000    |  0.9010929   |  0.46281705  | 0.317458906  |\n",
       "| medv | 14           | 506          |  22.53280632 |   9.1971041  |  21.20000    |  21.5623153  |   5.9304000  |   5.00000    |  50.0000     |  45.00000    |  1.1015373   |  1.45098366  | 0.408861147  |\n",
       "\n"
      ],
      "text/plain": [
       "        vars n   mean         sd          median    trimmed     mad        \n",
       "crim     1   506   3.61352356   8.6015451   0.25651   1.6816300   0.3283218\n",
       "zn       2   506  11.36363636  23.3224530   0.00000   5.0800493   0.0000000\n",
       "indus    3   506  11.13677866   6.8603529   9.69000  10.9318719   9.3700320\n",
       "chas     4   506   0.06916996   0.2539940   0.00000   0.0000000   0.0000000\n",
       "nox      5   506   0.55469506   0.1158777   0.53800   0.5450601   0.1297275\n",
       "rm       6   506   6.28463439   0.7026171   6.20850   6.2528744   0.5122383\n",
       "age      7   506  68.57490119  28.1488614  77.50000  71.1960591  28.9848300\n",
       "dis      8   506   3.79504269   2.1057101   3.20745   3.5393786   1.9142590\n",
       "rad      9   506   9.54940711   8.7072594   5.00000   8.7339901   2.9652000\n",
       "tax     10   506 408.23715415 168.5371161 330.00000 400.0443350 108.2298000\n",
       "ptratio 11   506  18.45553360   2.1649455  19.05000  18.6625616   1.7049900\n",
       "black   12   506 356.67403162  91.2948644 391.44000 383.1695074   8.0949960\n",
       "lstat   13   506  12.65306324   7.1410615  11.36000  11.8990394   7.1090670\n",
       "medv    14   506  22.53280632   9.1971041  21.20000  21.5623153   5.9304000\n",
       "        min       max      range     skew       kurtosis    se         \n",
       "crim      0.00632  88.9762  88.96988  5.1922223 36.59581589 0.382385321\n",
       "zn        0.00000 100.0000 100.00000  2.2124881  3.95238731 1.036809500\n",
       "indus     0.46000  27.7400  27.28000  0.2932747 -1.24019490 0.304979888\n",
       "chas      0.00000   1.0000   1.00000  3.3857377  9.48197035 0.011291412\n",
       "nox       0.38500   0.8710   0.48600  0.7249897 -0.08741064 0.005151391\n",
       "rm        3.56100   8.7800   5.21900  0.4012223  1.84183241 0.031235142\n",
       "age       2.90000 100.0000  97.10000 -0.5954162 -0.97802966 1.251369525\n",
       "dis       1.12960  12.1265  10.99690  1.0057898  0.45759158 0.093610233\n",
       "rad       1.00000  24.0000  23.00000  0.9988651 -0.87892910 0.387084894\n",
       "tax     187.00000 711.0000 524.00000  0.6659891 -1.15031761 7.492388692\n",
       "ptratio  12.60000  22.0000   9.40000 -0.7975743 -0.30480100 0.096243568\n",
       "black     0.32000 396.9000 396.58000 -2.8732597  7.10371496 4.058551763\n",
       "lstat     1.73000  37.9700  36.24000  0.9010929  0.46281705 0.317458906\n",
       "medv      5.00000  50.0000  45.00000  1.1015373  1.45098366 0.408861147"
      ]
     },
     "metadata": {},
     "output_type": "display_data"
    },
    {
     "name": "stdout",
     "output_type": "stream",
     "text": [
      "'data.frame':\t506 obs. of  14 variables:\n",
      " $ crim   : num  0.00632 0.02731 0.02729 0.03237 0.06905 ...\n",
      " $ zn     : num  18 0 0 0 0 0 12.5 12.5 12.5 12.5 ...\n",
      " $ indus  : num  2.31 7.07 7.07 2.18 2.18 2.18 7.87 7.87 7.87 7.87 ...\n",
      " $ chas   : int  0 0 0 0 0 0 0 0 0 0 ...\n",
      " $ nox    : num  0.538 0.469 0.469 0.458 0.458 0.458 0.524 0.524 0.524 0.524 ...\n",
      " $ rm     : num  6.58 6.42 7.18 7 7.15 ...\n",
      " $ age    : num  65.2 78.9 61.1 45.8 54.2 58.7 66.6 96.1 100 85.9 ...\n",
      " $ dis    : num  4.09 4.97 4.97 6.06 6.06 ...\n",
      " $ rad    : int  1 2 2 3 3 3 5 5 5 5 ...\n",
      " $ tax    : num  296 242 242 222 222 222 311 311 311 311 ...\n",
      " $ ptratio: num  15.3 17.8 17.8 18.7 18.7 18.7 15.2 15.2 15.2 15.2 ...\n",
      " $ black  : num  397 397 393 395 397 ...\n",
      " $ lstat  : num  4.98 9.14 4.03 2.94 5.33 ...\n",
      " $ medv   : num  24 21.6 34.7 33.4 36.2 28.7 22.9 27.1 16.5 18.9 ...\n"
     ]
    }
   ],
   "source": [
    "head(Boston)\n",
    "dim(Boston) #506 x 14 \n",
    "sum(is.na(Boston)) #no data missing\n",
    "names(Boston)\n",
    "describe(Boston)\n",
    "str(Boston)"
   ]
  },
  {
   "cell_type": "markdown",
   "metadata": {},
   "source": [
    "## a). Pairwise plots"
   ]
  },
  {
   "cell_type": "code",
   "execution_count": 184,
   "metadata": {},
   "outputs": [
    {
     "data": {
      "image/png": "[encoded data removed]",
      "text/plain": [
       "plot without title"
      ]
     },
     "metadata": {},
     "output_type": "display_data"
    }
   ],
   "source": [
    "pairs(Boston)"
   ]
  },
  {
   "cell_type": "markdown",
   "metadata": {},
   "source": [
    "- By looking at the pairplots we can observe that:\n",
    "    - crim: per capita crime rate seems to have a postive  relatonship with age and nox, and negative  relationship with dis and medx.\n",
    "    - zn: seems to have negative  relationship withindus, nox  and lstat, and positive  relationship with dis.\n",
    "    - indus:positive relationship with nox, and negative relationship wihtdis\n",
    "    - nox: has negative relationship with dis and medv and negative relationship with age and lstat\n",
    "    - rm: has negative relationship with ptratio and lstat and positive relationship medv\n",
    "    - age: has negative relationship with dis and black and positive relationship with lstat\n",
    "    - pratio: has negative relationship with lstat\n",
    "    - lstat: negative relationship with medv \n",
    "    \n",
    "- note some relationships that are not mentioned because no obvious visble relationship can be observed. "
   ]
  },
  {
   "cell_type": "markdown",
   "metadata": {},
   "source": [
    "## b) Per capita crime rate vs. other features"
   ]
  },
  {
   "cell_type": "markdown",
   "metadata": {},
   "source": [
    "- first I viewed the distribution of per capita crime rate, which is seen to be extremely right skewed."
   ]
  },
  {
   "cell_type": "code",
   "execution_count": 232,
   "metadata": {},
   "outputs": [
    {
     "data": {
      "image/png": "[encoded data removed]",
      "text/plain": [
       "Plot with title \"Histogram of Boston$crim\""
      ]
     },
     "metadata": {},
     "output_type": "display_data"
    }
   ],
   "source": [
    "hist(Boston$crim)"
   ]
  },
  {
   "cell_type": "markdown",
   "metadata": {},
   "source": [
    "- Transform \"crim\" to force it to behave more like Gaussian Distribution"
   ]
  },
  {
   "cell_type": "code",
   "execution_count": 226,
   "metadata": {},
   "outputs": [
    {
     "data": {
      "image/png": "[encoded data removed]",
      "text/plain": [
       "Plot with title \"Histogram of log_crim\""
      ]
     },
     "metadata": {},
     "output_type": "display_data"
    }
   ],
   "source": [
    "log_crim = log(Boston$crim)\n",
    "hist(log_crim)"
   ]
  },
  {
   "cell_type": "markdown",
   "metadata": {},
   "source": [
    "- make new dataframe replacing crim with log_crim"
   ]
  },
  {
   "cell_type": "code",
   "execution_count": 227,
   "metadata": {},
   "outputs": [],
   "source": [
    "Boston_new = cbind(log_crim,Boston[2:14])\n"
   ]
  },
  {
   "cell_type": "code",
   "execution_count": 228,
   "metadata": {},
   "outputs": [
    {
     "data": {
      "text/html": [
       "<table>\n",
       "<thead><tr><th scope=col>log_crim</th><th scope=col>zn</th><th scope=col>indus</th><th scope=col>chas</th><th scope=col>nox</th><th scope=col>rm</th><th scope=col>age</th><th scope=col>dis</th><th scope=col>rad</th><th scope=col>tax</th><th scope=col>ptratio</th><th scope=col>black</th><th scope=col>lstat</th><th scope=col>medv</th></tr></thead>\n",
       "<tbody>\n",
       "\t<tr><td>-5.064036</td><td>18       </td><td>2.31     </td><td>0        </td><td>0.538    </td><td>6.575    </td><td>65.2     </td><td>4.09     </td><td>1        </td><td>296      </td><td>15.3     </td><td>396.9    </td><td>4.98     </td><td>24       </td></tr>\n",
       "</tbody>\n",
       "</table>\n"
      ],
      "text/latex": [
       "\\begin{tabular}{r|llllllllllllll}\n",
       " log\\_crim & zn & indus & chas & nox & rm & age & dis & rad & tax & ptratio & black & lstat & medv\\\\\n",
       "\\hline\n",
       "\t -5.064036 & 18        & 2.31      & 0         & 0.538     & 6.575     & 65.2      & 4.09      & 1         & 296       & 15.3      & 396.9     & 4.98      & 24       \\\\\n",
       "\\end{tabular}\n"
      ],
      "text/markdown": [
       "\n",
       "| log_crim | zn | indus | chas | nox | rm | age | dis | rad | tax | ptratio | black | lstat | medv |\n",
       "|---|---|---|---|---|---|---|---|---|---|---|---|---|---|\n",
       "| -5.064036 | 18        | 2.31      | 0         | 0.538     | 6.575     | 65.2      | 4.09      | 1         | 296       | 15.3      | 396.9     | 4.98      | 24        |\n",
       "\n"
      ],
      "text/plain": [
       "  log_crim  zn indus chas nox   rm    age  dis  rad tax ptratio black lstat\n",
       "1 -5.064036 18 2.31  0    0.538 6.575 65.2 4.09 1   296 15.3    396.9 4.98 \n",
       "  medv\n",
       "1 24  "
      ]
     },
     "metadata": {},
     "output_type": "display_data"
    }
   ],
   "source": [
    "head(Boston_new,1)"
   ]
  },
  {
   "cell_type": "markdown",
   "metadata": {},
   "source": [
    "- plot pairwise plot with crim and other features"
   ]
  },
  {
   "cell_type": "code",
   "execution_count": 234,
   "metadata": {},
   "outputs": [
    {
     "data": {
      "text/html": [
       "<table>\n",
       "<thead><tr><th></th><th scope=col>log_crim</th><th scope=col>zn</th><th scope=col>indus</th><th scope=col>chas</th><th scope=col>nox</th><th scope=col>rm</th><th scope=col>age</th><th scope=col>dis</th><th scope=col>rad</th><th scope=col>tax</th><th scope=col>ptratio</th><th scope=col>black</th><th scope=col>lstat</th><th scope=col>medv</th></tr></thead>\n",
       "<tbody>\n",
       "\t<tr><th scope=row>log_crim</th><td> 1.00000000 </td><td>-0.51709145 </td><td> 0.73082136 </td><td> 0.028496480</td><td> 0.78861573 </td><td>-0.30694282 </td><td> 0.65828357 </td><td>-0.68190317 </td><td> 0.853406927</td><td> 0.82823360 </td><td> 0.3895537  </td><td>-0.47875518 </td><td> 0.6266150  </td><td>-0.4543020  </td></tr>\n",
       "\t<tr><th scope=row>zn</th><td>-0.51709145 </td><td> 1.00000000 </td><td>-0.53382819 </td><td>-0.042696719</td><td>-0.51660371 </td><td> 0.31199059 </td><td>-0.56953734 </td><td> 0.66440822 </td><td>-0.311947826</td><td>-0.31456332 </td><td>-0.3916785  </td><td> 0.17552032 </td><td>-0.4129946  </td><td> 0.3604453  </td></tr>\n",
       "\t<tr><th scope=row>indus</th><td> 0.73082136 </td><td>-0.53382819 </td><td> 1.00000000 </td><td> 0.062938027</td><td> 0.76365145 </td><td>-0.39167585 </td><td> 0.64477851 </td><td>-0.70802699 </td><td> 0.595129275</td><td> 0.72076018 </td><td> 0.3832476  </td><td>-0.35697654 </td><td> 0.6037997  </td><td>-0.4837252  </td></tr>\n",
       "\t<tr><th scope=row>chas</th><td> 0.02849648 </td><td>-0.04269672 </td><td> 0.06293803 </td><td> 1.000000000</td><td> 0.09120281 </td><td> 0.09125123 </td><td> 0.08651777 </td><td>-0.09917578 </td><td>-0.007368241</td><td>-0.03558652 </td><td>-0.1215152  </td><td> 0.04878848 </td><td>-0.0539293  </td><td> 0.1752602  </td></tr>\n",
       "\t<tr><th scope=row>nox</th><td> 0.78861573 </td><td>-0.51660371 </td><td> 0.76365145 </td><td> 0.091202807</td><td> 1.00000000 </td><td>-0.30218819 </td><td> 0.73147010 </td><td>-0.76923011 </td><td> 0.611440563</td><td> 0.66802320 </td><td> 0.1889327  </td><td>-0.38005064 </td><td> 0.5908789  </td><td>-0.4273208  </td></tr>\n",
       "\t<tr><th scope=row>rm</th><td>-0.30694282 </td><td> 0.31199059 </td><td>-0.39167585 </td><td> 0.091251225</td><td>-0.30218819 </td><td> 1.00000000 </td><td>-0.24026493 </td><td> 0.20524621 </td><td>-0.209846668</td><td>-0.29204783 </td><td>-0.3555015  </td><td> 0.12806864 </td><td>-0.6138083  </td><td> 0.6953599  </td></tr>\n",
       "\t<tr><th scope=row>age</th><td> 0.65828357 </td><td>-0.56953734 </td><td> 0.64477851 </td><td> 0.086517774</td><td> 0.73147010 </td><td>-0.24026493 </td><td> 1.00000000 </td><td>-0.74788054 </td><td> 0.456022452</td><td> 0.50645559 </td><td> 0.2615150  </td><td>-0.27353398 </td><td> 0.6023385  </td><td>-0.3769546  </td></tr>\n",
       "\t<tr><th scope=row>dis</th><td>-0.68190317 </td><td> 0.66440822 </td><td>-0.70802699 </td><td>-0.099175780</td><td>-0.76923011 </td><td> 0.20524621 </td><td>-0.74788054 </td><td> 1.00000000 </td><td>-0.494587930</td><td>-0.53443158 </td><td>-0.2324705  </td><td> 0.29151167 </td><td>-0.4969958  </td><td> 0.2499287  </td></tr>\n",
       "\t<tr><th scope=row>rad</th><td> 0.85340693 </td><td>-0.31194783 </td><td> 0.59512927 </td><td>-0.007368241</td><td> 0.61144056 </td><td>-0.20984667 </td><td> 0.45602245 </td><td>-0.49458793 </td><td> 1.000000000</td><td> 0.91022819 </td><td> 0.4647412  </td><td>-0.44441282 </td><td> 0.4886763  </td><td>-0.3816262  </td></tr>\n",
       "\t<tr><th scope=row>tax</th><td> 0.82823360 </td><td>-0.31456332 </td><td> 0.72076018 </td><td>-0.035586518</td><td> 0.66802320 </td><td>-0.29204783 </td><td> 0.50645559 </td><td>-0.53443158 </td><td> 0.910228189</td><td> 1.00000000 </td><td> 0.4608530  </td><td>-0.44180801 </td><td> 0.5439934  </td><td>-0.4685359  </td></tr>\n",
       "\t<tr><th scope=row>ptratio</th><td> 0.38955367 </td><td>-0.39167855 </td><td> 0.38324756 </td><td>-0.121515174</td><td> 0.18893268 </td><td>-0.35550149 </td><td> 0.26151501 </td><td>-0.23247054 </td><td> 0.464741179</td><td> 0.46085304 </td><td> 1.0000000  </td><td>-0.17738330 </td><td> 0.3740443  </td><td>-0.5077867  </td></tr>\n",
       "\t<tr><th scope=row>black</th><td>-0.47875518 </td><td> 0.17552032 </td><td>-0.35697654 </td><td> 0.048788485</td><td>-0.38005064 </td><td> 0.12806864 </td><td>-0.27353398 </td><td> 0.29151167 </td><td>-0.444412816</td><td>-0.44180801 </td><td>-0.1773833  </td><td> 1.00000000 </td><td>-0.3660869  </td><td> 0.3334608  </td></tr>\n",
       "\t<tr><th scope=row>lstat</th><td> 0.62661501 </td><td>-0.41299457 </td><td> 0.60379972 </td><td>-0.053929298</td><td> 0.59087892 </td><td>-0.61380827 </td><td> 0.60233853 </td><td>-0.49699583 </td><td> 0.488676335</td><td> 0.54399341 </td><td> 0.3740443  </td><td>-0.36608690 </td><td> 1.0000000  </td><td>-0.7376627  </td></tr>\n",
       "\t<tr><th scope=row>medv</th><td>-0.45430195 </td><td> 0.36044534 </td><td>-0.48372516 </td><td> 0.175260177</td><td>-0.42732077 </td><td> 0.69535995 </td><td>-0.37695457 </td><td> 0.24992873 </td><td>-0.381626231</td><td>-0.46853593 </td><td>-0.5077867  </td><td> 0.33346082 </td><td>-0.7376627  </td><td> 1.0000000  </td></tr>\n",
       "</tbody>\n",
       "</table>\n"
      ],
      "text/latex": [
       "\\begin{tabular}{r|llllllllllllll}\n",
       "  & log\\_crim & zn & indus & chas & nox & rm & age & dis & rad & tax & ptratio & black & lstat & medv\\\\\n",
       "\\hline\n",
       "\tlog\\_crim &  1.00000000  & -0.51709145  &  0.73082136  &  0.028496480 &  0.78861573  & -0.30694282  &  0.65828357  & -0.68190317  &  0.853406927 &  0.82823360  &  0.3895537   & -0.47875518  &  0.6266150   & -0.4543020  \\\\\n",
       "\tzn & -0.51709145  &  1.00000000  & -0.53382819  & -0.042696719 & -0.51660371  &  0.31199059  & -0.56953734  &  0.66440822  & -0.311947826 & -0.31456332  & -0.3916785   &  0.17552032  & -0.4129946   &  0.3604453  \\\\\n",
       "\tindus &  0.73082136  & -0.53382819  &  1.00000000  &  0.062938027 &  0.76365145  & -0.39167585  &  0.64477851  & -0.70802699  &  0.595129275 &  0.72076018  &  0.3832476   & -0.35697654  &  0.6037997   & -0.4837252  \\\\\n",
       "\tchas &  0.02849648  & -0.04269672  &  0.06293803  &  1.000000000 &  0.09120281  &  0.09125123  &  0.08651777  & -0.09917578  & -0.007368241 & -0.03558652  & -0.1215152   &  0.04878848  & -0.0539293   &  0.1752602  \\\\\n",
       "\tnox &  0.78861573  & -0.51660371  &  0.76365145  &  0.091202807 &  1.00000000  & -0.30218819  &  0.73147010  & -0.76923011  &  0.611440563 &  0.66802320  &  0.1889327   & -0.38005064  &  0.5908789   & -0.4273208  \\\\\n",
       "\trm & -0.30694282  &  0.31199059  & -0.39167585  &  0.091251225 & -0.30218819  &  1.00000000  & -0.24026493  &  0.20524621  & -0.209846668 & -0.29204783  & -0.3555015   &  0.12806864  & -0.6138083   &  0.6953599  \\\\\n",
       "\tage &  0.65828357  & -0.56953734  &  0.64477851  &  0.086517774 &  0.73147010  & -0.24026493  &  1.00000000  & -0.74788054  &  0.456022452 &  0.50645559  &  0.2615150   & -0.27353398  &  0.6023385   & -0.3769546  \\\\\n",
       "\tdis & -0.68190317  &  0.66440822  & -0.70802699  & -0.099175780 & -0.76923011  &  0.20524621  & -0.74788054  &  1.00000000  & -0.494587930 & -0.53443158  & -0.2324705   &  0.29151167  & -0.4969958   &  0.2499287  \\\\\n",
       "\trad &  0.85340693  & -0.31194783  &  0.59512927  & -0.007368241 &  0.61144056  & -0.20984667  &  0.45602245  & -0.49458793  &  1.000000000 &  0.91022819  &  0.4647412   & -0.44441282  &  0.4886763   & -0.3816262  \\\\\n",
       "\ttax &  0.82823360  & -0.31456332  &  0.72076018  & -0.035586518 &  0.66802320  & -0.29204783  &  0.50645559  & -0.53443158  &  0.910228189 &  1.00000000  &  0.4608530   & -0.44180801  &  0.5439934   & -0.4685359  \\\\\n",
       "\tptratio &  0.38955367  & -0.39167855  &  0.38324756  & -0.121515174 &  0.18893268  & -0.35550149  &  0.26151501  & -0.23247054  &  0.464741179 &  0.46085304  &  1.0000000   & -0.17738330  &  0.3740443   & -0.5077867  \\\\\n",
       "\tblack & -0.47875518  &  0.17552032  & -0.35697654  &  0.048788485 & -0.38005064  &  0.12806864  & -0.27353398  &  0.29151167  & -0.444412816 & -0.44180801  & -0.1773833   &  1.00000000  & -0.3660869   &  0.3334608  \\\\\n",
       "\tlstat &  0.62661501  & -0.41299457  &  0.60379972  & -0.053929298 &  0.59087892  & -0.61380827  &  0.60233853  & -0.49699583  &  0.488676335 &  0.54399341  &  0.3740443   & -0.36608690  &  1.0000000   & -0.7376627  \\\\\n",
       "\tmedv & -0.45430195  &  0.36044534  & -0.48372516  &  0.175260177 & -0.42732077  &  0.69535995  & -0.37695457  &  0.24992873  & -0.381626231 & -0.46853593  & -0.5077867   &  0.33346082  & -0.7376627   &  1.0000000  \\\\\n",
       "\\end{tabular}\n"
      ],
      "text/markdown": [
       "\n",
       "| <!--/--> | log_crim | zn | indus | chas | nox | rm | age | dis | rad | tax | ptratio | black | lstat | medv |\n",
       "|---|---|---|---|---|---|---|---|---|---|---|---|---|---|---|\n",
       "| log_crim |  1.00000000  | -0.51709145  |  0.73082136  |  0.028496480 |  0.78861573  | -0.30694282  |  0.65828357  | -0.68190317  |  0.853406927 |  0.82823360  |  0.3895537   | -0.47875518  |  0.6266150   | -0.4543020   |\n",
       "| zn | -0.51709145  |  1.00000000  | -0.53382819  | -0.042696719 | -0.51660371  |  0.31199059  | -0.56953734  |  0.66440822  | -0.311947826 | -0.31456332  | -0.3916785   |  0.17552032  | -0.4129946   |  0.3604453   |\n",
       "| indus |  0.73082136  | -0.53382819  |  1.00000000  |  0.062938027 |  0.76365145  | -0.39167585  |  0.64477851  | -0.70802699  |  0.595129275 |  0.72076018  |  0.3832476   | -0.35697654  |  0.6037997   | -0.4837252   |\n",
       "| chas |  0.02849648  | -0.04269672  |  0.06293803  |  1.000000000 |  0.09120281  |  0.09125123  |  0.08651777  | -0.09917578  | -0.007368241 | -0.03558652  | -0.1215152   |  0.04878848  | -0.0539293   |  0.1752602   |\n",
       "| nox |  0.78861573  | -0.51660371  |  0.76365145  |  0.091202807 |  1.00000000  | -0.30218819  |  0.73147010  | -0.76923011  |  0.611440563 |  0.66802320  |  0.1889327   | -0.38005064  |  0.5908789   | -0.4273208   |\n",
       "| rm | -0.30694282  |  0.31199059  | -0.39167585  |  0.091251225 | -0.30218819  |  1.00000000  | -0.24026493  |  0.20524621  | -0.209846668 | -0.29204783  | -0.3555015   |  0.12806864  | -0.6138083   |  0.6953599   |\n",
       "| age |  0.65828357  | -0.56953734  |  0.64477851  |  0.086517774 |  0.73147010  | -0.24026493  |  1.00000000  | -0.74788054  |  0.456022452 |  0.50645559  |  0.2615150   | -0.27353398  |  0.6023385   | -0.3769546   |\n",
       "| dis | -0.68190317  |  0.66440822  | -0.70802699  | -0.099175780 | -0.76923011  |  0.20524621  | -0.74788054  |  1.00000000  | -0.494587930 | -0.53443158  | -0.2324705   |  0.29151167  | -0.4969958   |  0.2499287   |\n",
       "| rad |  0.85340693  | -0.31194783  |  0.59512927  | -0.007368241 |  0.61144056  | -0.20984667  |  0.45602245  | -0.49458793  |  1.000000000 |  0.91022819  |  0.4647412   | -0.44441282  |  0.4886763   | -0.3816262   |\n",
       "| tax |  0.82823360  | -0.31456332  |  0.72076018  | -0.035586518 |  0.66802320  | -0.29204783  |  0.50645559  | -0.53443158  |  0.910228189 |  1.00000000  |  0.4608530   | -0.44180801  |  0.5439934   | -0.4685359   |\n",
       "| ptratio |  0.38955367  | -0.39167855  |  0.38324756  | -0.121515174 |  0.18893268  | -0.35550149  |  0.26151501  | -0.23247054  |  0.464741179 |  0.46085304  |  1.0000000   | -0.17738330  |  0.3740443   | -0.5077867   |\n",
       "| black | -0.47875518  |  0.17552032  | -0.35697654  |  0.048788485 | -0.38005064  |  0.12806864  | -0.27353398  |  0.29151167  | -0.444412816 | -0.44180801  | -0.1773833   |  1.00000000  | -0.3660869   |  0.3334608   |\n",
       "| lstat |  0.62661501  | -0.41299457  |  0.60379972  | -0.053929298 |  0.59087892  | -0.61380827  |  0.60233853  | -0.49699583  |  0.488676335 |  0.54399341  |  0.3740443   | -0.36608690  |  1.0000000   | -0.7376627   |\n",
       "| medv | -0.45430195  |  0.36044534  | -0.48372516  |  0.175260177 | -0.42732077  |  0.69535995  | -0.37695457  |  0.24992873  | -0.381626231 | -0.46853593  | -0.5077867   |  0.33346082  | -0.7376627   |  1.0000000   |\n",
       "\n"
      ],
      "text/plain": [
       "         log_crim    zn          indus       chas         nox        \n",
       "log_crim  1.00000000 -0.51709145  0.73082136  0.028496480  0.78861573\n",
       "zn       -0.51709145  1.00000000 -0.53382819 -0.042696719 -0.51660371\n",
       "indus     0.73082136 -0.53382819  1.00000000  0.062938027  0.76365145\n",
       "chas      0.02849648 -0.04269672  0.06293803  1.000000000  0.09120281\n",
       "nox       0.78861573 -0.51660371  0.76365145  0.091202807  1.00000000\n",
       "rm       -0.30694282  0.31199059 -0.39167585  0.091251225 -0.30218819\n",
       "age       0.65828357 -0.56953734  0.64477851  0.086517774  0.73147010\n",
       "dis      -0.68190317  0.66440822 -0.70802699 -0.099175780 -0.76923011\n",
       "rad       0.85340693 -0.31194783  0.59512927 -0.007368241  0.61144056\n",
       "tax       0.82823360 -0.31456332  0.72076018 -0.035586518  0.66802320\n",
       "ptratio   0.38955367 -0.39167855  0.38324756 -0.121515174  0.18893268\n",
       "black    -0.47875518  0.17552032 -0.35697654  0.048788485 -0.38005064\n",
       "lstat     0.62661501 -0.41299457  0.60379972 -0.053929298  0.59087892\n",
       "medv     -0.45430195  0.36044534 -0.48372516  0.175260177 -0.42732077\n",
       "         rm          age         dis         rad          tax        \n",
       "log_crim -0.30694282  0.65828357 -0.68190317  0.853406927  0.82823360\n",
       "zn        0.31199059 -0.56953734  0.66440822 -0.311947826 -0.31456332\n",
       "indus    -0.39167585  0.64477851 -0.70802699  0.595129275  0.72076018\n",
       "chas      0.09125123  0.08651777 -0.09917578 -0.007368241 -0.03558652\n",
       "nox      -0.30218819  0.73147010 -0.76923011  0.611440563  0.66802320\n",
       "rm        1.00000000 -0.24026493  0.20524621 -0.209846668 -0.29204783\n",
       "age      -0.24026493  1.00000000 -0.74788054  0.456022452  0.50645559\n",
       "dis       0.20524621 -0.74788054  1.00000000 -0.494587930 -0.53443158\n",
       "rad      -0.20984667  0.45602245 -0.49458793  1.000000000  0.91022819\n",
       "tax      -0.29204783  0.50645559 -0.53443158  0.910228189  1.00000000\n",
       "ptratio  -0.35550149  0.26151501 -0.23247054  0.464741179  0.46085304\n",
       "black     0.12806864 -0.27353398  0.29151167 -0.444412816 -0.44180801\n",
       "lstat    -0.61380827  0.60233853 -0.49699583  0.488676335  0.54399341\n",
       "medv      0.69535995 -0.37695457  0.24992873 -0.381626231 -0.46853593\n",
       "         ptratio    black       lstat      medv      \n",
       "log_crim  0.3895537 -0.47875518  0.6266150 -0.4543020\n",
       "zn       -0.3916785  0.17552032 -0.4129946  0.3604453\n",
       "indus     0.3832476 -0.35697654  0.6037997 -0.4837252\n",
       "chas     -0.1215152  0.04878848 -0.0539293  0.1752602\n",
       "nox       0.1889327 -0.38005064  0.5908789 -0.4273208\n",
       "rm       -0.3555015  0.12806864 -0.6138083  0.6953599\n",
       "age       0.2615150 -0.27353398  0.6023385 -0.3769546\n",
       "dis      -0.2324705  0.29151167 -0.4969958  0.2499287\n",
       "rad       0.4647412 -0.44441282  0.4886763 -0.3816262\n",
       "tax       0.4608530 -0.44180801  0.5439934 -0.4685359\n",
       "ptratio   1.0000000 -0.17738330  0.3740443 -0.5077867\n",
       "black    -0.1773833  1.00000000 -0.3660869  0.3334608\n",
       "lstat     0.3740443 -0.36608690  1.0000000 -0.7376627\n",
       "medv     -0.5077867  0.33346082 -0.7376627  1.0000000"
      ]
     },
     "metadata": {},
     "output_type": "display_data"
    }
   ],
   "source": [
    "cor(Boston_new)"
   ]
  },
  {
   "cell_type": "code",
   "execution_count": 235,
   "metadata": {},
   "outputs": [
    {
     "data": {
      "image/png": "[encoded data removed]",
      "text/plain": [
       "Plot with title \"\""
      ]
     },
     "metadata": {},
     "output_type": "display_data"
    }
   ],
   "source": [
    "chart.Correlation(Boston_new, histogram=TRUE, pch=19)"
   ]
  },
  {
   "cell_type": "markdown",
   "metadata": {},
   "source": [
    "- by looking at correlation and the pairwise plot and the correlation values, we can see that:\n",
    "    - rad (index of accesibility to radial highway): 0.85, highly positively associated with \"crim\"\n",
    "    - tax (dull-value property-tax rate per $10,000): 0.83, highly positively associated with \"crim\"\n",
    "    - nox (nitric oxide concentration): 0.79, highly positively associated with \"crim\"\n",
    "    - indus (proportion of non-retail business acres per town): 0.74, highly positively associated with \"crim\"\n",
    "- In conclusion"
   ]
  },
  {
   "cell_type": "markdown",
   "metadata": {},
   "source": [
    "## C) suburbs with particularly high crime rates, tax rates and  Pupil-teacher ratios"
   ]
  },
  {
   "cell_type": "markdown",
   "metadata": {},
   "source": [
    "In order to find suburd with particularly high crime rates, high tax rates,and pupil-teacher ratios, we can take find the obervations that is above 3rd quantile and create subsets of these values. We will then further exmaine the feature value of the these subsets. To do that we created three subets for allhigh crime rates, high tax rates,and pupil-teacher ratios"
   ]
  },
  {
   "cell_type": "code",
   "execution_count": 260,
   "metadata": {},
   "outputs": [
    {
     "data": {
      "text/plain": [
       "      crim                zn             indus            chas        \n",
       " Min.   : 0.00632   Min.   :  0.00   Min.   : 0.46   Min.   :0.00000  \n",
       " 1st Qu.: 0.08204   1st Qu.:  0.00   1st Qu.: 5.19   1st Qu.:0.00000  \n",
       " Median : 0.25651   Median :  0.00   Median : 9.69   Median :0.00000  \n",
       " Mean   : 3.61352   Mean   : 11.36   Mean   :11.14   Mean   :0.06917  \n",
       " 3rd Qu.: 3.67708   3rd Qu.: 12.50   3rd Qu.:18.10   3rd Qu.:0.00000  \n",
       " Max.   :88.97620   Max.   :100.00   Max.   :27.74   Max.   :1.00000  \n",
       "      nox               rm             age              dis        \n",
       " Min.   :0.3850   Min.   :3.561   Min.   :  2.90   Min.   : 1.130  \n",
       " 1st Qu.:0.4490   1st Qu.:5.886   1st Qu.: 45.02   1st Qu.: 2.100  \n",
       " Median :0.5380   Median :6.208   Median : 77.50   Median : 3.207  \n",
       " Mean   :0.5547   Mean   :6.285   Mean   : 68.57   Mean   : 3.795  \n",
       " 3rd Qu.:0.6240   3rd Qu.:6.623   3rd Qu.: 94.08   3rd Qu.: 5.188  \n",
       " Max.   :0.8710   Max.   :8.780   Max.   :100.00   Max.   :12.127  \n",
       "      rad              tax           ptratio          black       \n",
       " Min.   : 1.000   Min.   :187.0   Min.   :12.60   Min.   :  0.32  \n",
       " 1st Qu.: 4.000   1st Qu.:279.0   1st Qu.:17.40   1st Qu.:375.38  \n",
       " Median : 5.000   Median :330.0   Median :19.05   Median :391.44  \n",
       " Mean   : 9.549   Mean   :408.2   Mean   :18.46   Mean   :356.67  \n",
       " 3rd Qu.:24.000   3rd Qu.:666.0   3rd Qu.:20.20   3rd Qu.:396.23  \n",
       " Max.   :24.000   Max.   :711.0   Max.   :22.00   Max.   :396.90  \n",
       "     lstat            medv      \n",
       " Min.   : 1.73   Min.   : 5.00  \n",
       " 1st Qu.: 6.95   1st Qu.:17.02  \n",
       " Median :11.36   Median :21.20  \n",
       " Mean   :12.65   Mean   :22.53  \n",
       " 3rd Qu.:16.95   3rd Qu.:25.00  \n",
       " Max.   :37.97   Max.   :50.00  "
      ]
     },
     "metadata": {},
     "output_type": "display_data"
    }
   ],
   "source": [
    "summary(Boston)"
   ]
  },
  {
   "cell_type": "markdown",
   "metadata": {},
   "source": [
    "### high crime rates"
   ]
  },
  {
   "cell_type": "code",
   "execution_count": 238,
   "metadata": {},
   "outputs": [
    {
     "data": {
      "text/plain": [
       "    Min.  1st Qu.   Median     Mean  3rd Qu.     Max. \n",
       " 0.00632  0.08204  0.25651  3.61352  3.67708 88.97620 "
      ]
     },
     "metadata": {},
     "output_type": "display_data"
    }
   ],
   "source": [
    "summary(Boston$crim)"
   ]
  },
  {
   "cell_type": "code",
   "execution_count": 253,
   "metadata": {},
   "outputs": [],
   "source": [
    "subset_high_crime = subset(Boston, Boston$crim >= 3.67708 )\n"
   ]
  },
  {
   "cell_type": "code",
   "execution_count": 252,
   "metadata": {},
   "outputs": [
    {
     "name": "stdout",
     "output_type": "stream",
     "text": [
      "\n",
      " crim :  3.67822 88.9762\n",
      " zn :  0 0\n",
      " indus :  18.1 19.58\n",
      " chas :  0 1\n",
      " nox :  0.532 0.871\n",
      " rm :  3.561 7.393\n",
      " age :  53.2 100\n",
      " dis :  1.1296 3.5459\n",
      " rad :  5 24\n",
      " tax :  403 666\n",
      " ptratio :  14.7 20.2\n",
      " black :  0.32 396.9\n",
      " lstat :  2.96 37.97\n",
      " medv :  5 50"
     ]
    }
   ],
   "source": [
    "for (i in 1:14) {\n",
    "  cat(\"\\n\",names(subset_high_crime[i]), \": \", range(subset_high_crime[,i]))\n",
    "}"
   ]
  },
  {
   "cell_type": "markdown",
   "metadata": {},
   "source": [
    "- by observing the range of features in the subset that contain suburbs with high crime rate (above 3rd quantile), we can see that:\n",
    "    - zn value is 0, this is the proportion of residential land zoned for lots over 25,000 sq.ft. We can say that thesse suburbs do not contain particularly large houses\n",
    "    - indus: left end of the range above the city mean. We can say that suburbs with high crime rates tend to have mroe non-retail businesses\n",
    "    - nox: left end above city mean. Lower air quality\n",
    "    - rm: wide range similar to the whole city\n",
    "    - age: wide range similar to the whole city\n",
    "    - dis: right end below the city mean, closer to the employment centers\n",
    "    - rad: wide range, could be random\n",
    "    - tax: left end close to mean, higher property tax\n",
    "    - ptratio: wide range similar to the whole city\n",
    "    - black: wide range similar to the whole city\n",
    "    - lstat : wide range similar to the whole city\n",
    "    - medv: wide range similar to the whole city\n",
    "    \n",
    "       - "
   ]
  },
  {
   "cell_type": "markdown",
   "metadata": {},
   "source": [
    "### tax rates"
   ]
  },
  {
   "cell_type": "code",
   "execution_count": 242,
   "metadata": {},
   "outputs": [
    {
     "data": {
      "text/plain": [
       "   Min. 1st Qu.  Median    Mean 3rd Qu.    Max. \n",
       "  187.0   279.0   330.0   408.2   666.0   711.0 "
      ]
     },
     "metadata": {},
     "output_type": "display_data"
    }
   ],
   "source": [
    "summary(Boston$tax)"
   ]
  },
  {
   "cell_type": "code",
   "execution_count": 254,
   "metadata": {},
   "outputs": [],
   "source": [
    "subset_high_tax = subset(Boston, Boston$tax >= 666.0    )\n"
   ]
  },
  {
   "cell_type": "code",
   "execution_count": 255,
   "metadata": {},
   "outputs": [
    {
     "name": "stdout",
     "output_type": "stream",
     "text": [
      "\n",
      " crim :  0.10574 88.9762\n",
      " zn :  0 0\n",
      " indus :  18.1 27.74\n",
      " chas :  0 1\n",
      " nox :  0.532 0.77\n",
      " rm :  3.561 8.78\n",
      " age :  40.3 100\n",
      " dis :  1.1296 4.0983\n",
      " rad :  4 24\n",
      " tax :  666 711\n",
      " ptratio :  20.1 20.2\n",
      " black :  0.32 396.9\n",
      " lstat :  2.96 37.97\n",
      " medv :  5 50"
     ]
    }
   ],
   "source": [
    "for (i in 1:14) {\n",
    "  cat(\"\\n\",names(subset_high_tax[i]), \": \", range(subset_high_tax[,i]))\n",
    "}"
   ]
  },
  {
   "cell_type": "markdown",
   "metadata": {},
   "source": [
    "- by observing the range of features in the subset that contain suburbs with high tax rate (above 3rd quantile), we can see that:\n",
    "    - crime: wide range similar to the whole city\n",
    "    - zn value is 0, this is the proportion of residential land zoned for lots over 25,000 sq.ft. We can say that these suburbs do not contain particularly large houses\n",
    "    - indus: left end of the range above the third quantile in the whole Boston dataset. We can say that suburbs with high tax rates tend to have mroe non-retail businesses\n",
    "    - nox: left end close to  city mean. Lower air quality\n",
    "    - rm: wide range similar to the whole city\n",
    "    - age: wide range similar to the whole city\n",
    "    - dis: wide range, right end lower than the whole city\n",
    "    - rad: wide range, could be random\n",
    "    - ptratio: left end higher than the 3rd quantile of the whole boston dataset\n",
    "    - black: wide range similar to the whole city\n",
    "    - lstat : wide range similar to the whole city\n",
    "    - medv: wide range similar to the whole city\n",
    "    "
   ]
  },
  {
   "cell_type": "markdown",
   "metadata": {},
   "source": [
    "### pupil teacher ratios"
   ]
  },
  {
   "cell_type": "code",
   "execution_count": 246,
   "metadata": {},
   "outputs": [
    {
     "data": {
      "text/plain": [
       "   Min. 1st Qu.  Median    Mean 3rd Qu.    Max. \n",
       "  12.60   17.40   19.05   18.46   20.20   22.00 "
      ]
     },
     "metadata": {},
     "output_type": "display_data"
    }
   ],
   "source": [
    "summary(Boston$ptratio )"
   ]
  },
  {
   "cell_type": "code",
   "execution_count": 258,
   "metadata": {},
   "outputs": [],
   "source": [
    "subset_high_ptratio = subset(Boston, Boston$ptratio >= 20.20)\n"
   ]
  },
  {
   "cell_type": "code",
   "execution_count": 261,
   "metadata": {},
   "outputs": [
    {
     "data": {
      "text/plain": [
       "      crim                zn             indus            chas        \n",
       " Min.   : 0.00632   Min.   :  0.00   Min.   : 0.46   Min.   :0.00000  \n",
       " 1st Qu.: 0.08204   1st Qu.:  0.00   1st Qu.: 5.19   1st Qu.:0.00000  \n",
       " Median : 0.25651   Median :  0.00   Median : 9.69   Median :0.00000  \n",
       " Mean   : 3.61352   Mean   : 11.36   Mean   :11.14   Mean   :0.06917  \n",
       " 3rd Qu.: 3.67708   3rd Qu.: 12.50   3rd Qu.:18.10   3rd Qu.:0.00000  \n",
       " Max.   :88.97620   Max.   :100.00   Max.   :27.74   Max.   :1.00000  \n",
       "      nox               rm             age              dis        \n",
       " Min.   :0.3850   Min.   :3.561   Min.   :  2.90   Min.   : 1.130  \n",
       " 1st Qu.:0.4490   1st Qu.:5.886   1st Qu.: 45.02   1st Qu.: 2.100  \n",
       " Median :0.5380   Median :6.208   Median : 77.50   Median : 3.207  \n",
       " Mean   :0.5547   Mean   :6.285   Mean   : 68.57   Mean   : 3.795  \n",
       " 3rd Qu.:0.6240   3rd Qu.:6.623   3rd Qu.: 94.08   3rd Qu.: 5.188  \n",
       " Max.   :0.8710   Max.   :8.780   Max.   :100.00   Max.   :12.127  \n",
       "      rad              tax           ptratio          black       \n",
       " Min.   : 1.000   Min.   :187.0   Min.   :12.60   Min.   :  0.32  \n",
       " 1st Qu.: 4.000   1st Qu.:279.0   1st Qu.:17.40   1st Qu.:375.38  \n",
       " Median : 5.000   Median :330.0   Median :19.05   Median :391.44  \n",
       " Mean   : 9.549   Mean   :408.2   Mean   :18.46   Mean   :356.67  \n",
       " 3rd Qu.:24.000   3rd Qu.:666.0   3rd Qu.:20.20   3rd Qu.:396.23  \n",
       " Max.   :24.000   Max.   :711.0   Max.   :22.00   Max.   :396.90  \n",
       "     lstat            medv      \n",
       " Min.   : 1.73   Min.   : 5.00  \n",
       " 1st Qu.: 6.95   1st Qu.:17.02  \n",
       " Median :11.36   Median :21.20  \n",
       " Mean   :12.65   Mean   :22.53  \n",
       " 3rd Qu.:16.95   3rd Qu.:25.00  \n",
       " Max.   :37.97   Max.   :50.00  "
      ]
     },
     "metadata": {},
     "output_type": "display_data"
    }
   ],
   "source": [
    "summary(Boston)"
   ]
  },
  {
   "cell_type": "code",
   "execution_count": 259,
   "metadata": {},
   "outputs": [
    {
     "name": "stdout",
     "output_type": "stream",
     "text": [
      "\n",
      " crim :  0.0136 88.9762\n",
      " zn :  0 80\n",
      " indus :  1.91 21.89\n",
      " chas :  0 1\n",
      " nox :  0.41 0.77\n",
      " rm :  3.561 8.78\n",
      " age :  19.5 100\n",
      " dis :  1.1296 10.5857\n",
      " rad :  1 24\n",
      " tax :  224 666\n",
      " ptratio :  20.2 22\n",
      " black :  0.32 396.9\n",
      " lstat :  2.96 37.97\n",
      " medv :  5 50"
     ]
    }
   ],
   "source": [
    "for (i in 1:14) {\n",
    "  cat(\"\\n\",names(subset_high_ptratio[i]), \": \", range(subset_high_ptratio[,i]))\n",
    "}"
   ]
  },
  {
   "cell_type": "markdown",
   "metadata": {},
   "source": [
    "- by observing the range of features in the subset that contain suburbs with high pupil-teacher ratio(above 3rd quantile), we can see that:\n",
    "    - crime: wide range similar to the whole city\n",
    "    - zn: wide range, right end below the city range's right end. \n",
    "    - indus: wide range similar to the whole city\n",
    "    - nox: wide range similar to the whole city\n",
    "    - rm: wide range similar to the whole city\n",
    "    - age: wide range similar to the whole city\n",
    "    - dis: wide range, right end lower than the whole city\n",
    "    - rad: wide range similar to the whole city\n",
    "    - tax: wide range similar to the whole city but narrower\n",
    "    - black: wide range similar to the whole city\n",
    "    - lstat : wide range similar to the whole city\n",
    "    - medv: wide range similar to the whole city\n",
    "    "
   ]
  },
  {
   "cell_type": "markdown",
   "metadata": {},
   "source": [
    "## d) Room per dwelling comparison \n",
    "\n"
   ]
  },
  {
   "cell_type": "code",
   "execution_count": 200,
   "metadata": {},
   "outputs": [
    {
     "data": {
      "text/html": [
       "<ol class=list-inline>\n",
       "\t<li>64</li>\n",
       "\t<li>14</li>\n",
       "</ol>\n"
      ],
      "text/latex": [
       "\\begin{enumerate*}\n",
       "\\item 64\n",
       "\\item 14\n",
       "\\end{enumerate*}\n"
      ],
      "text/markdown": [
       "1. 64\n",
       "2. 14\n",
       "\n",
       "\n"
      ],
      "text/plain": [
       "[1] 64 14"
      ]
     },
     "metadata": {},
     "output_type": "display_data"
    }
   ],
   "source": [
    "dim(subset(Boston, Boston$rm >= 7))\n"
   ]
  },
  {
   "cell_type": "code",
   "execution_count": 203,
   "metadata": {
    "scrolled": true
   },
   "outputs": [
    {
     "data": {
      "text/html": [
       "<ol class=list-inline>\n",
       "\t<li>13</li>\n",
       "\t<li>14</li>\n",
       "</ol>\n"
      ],
      "text/latex": [
       "\\begin{enumerate*}\n",
       "\\item 13\n",
       "\\item 14\n",
       "\\end{enumerate*}\n"
      ],
      "text/markdown": [
       "1. 13\n",
       "2. 14\n",
       "\n",
       "\n"
      ],
      "text/plain": [
       "[1] 13 14"
      ]
     },
     "metadata": {},
     "output_type": "display_data"
    },
    {
     "data": {
      "text/plain": [
       "      crim               zn            indus             chas       \n",
       " Min.   :0.02009   Min.   : 0.00   Min.   : 2.680   Min.   :0.0000  \n",
       " 1st Qu.:0.33147   1st Qu.: 0.00   1st Qu.: 3.970   1st Qu.:0.0000  \n",
       " Median :0.52014   Median : 0.00   Median : 6.200   Median :0.0000  \n",
       " Mean   :0.71879   Mean   :13.62   Mean   : 7.078   Mean   :0.1538  \n",
       " 3rd Qu.:0.57834   3rd Qu.:20.00   3rd Qu.: 6.200   3rd Qu.:0.0000  \n",
       " Max.   :3.47428   Max.   :95.00   Max.   :19.580   Max.   :1.0000  \n",
       "      nox               rm             age             dis       \n",
       " Min.   :0.4161   Min.   :8.034   Min.   : 8.40   Min.   :1.801  \n",
       " 1st Qu.:0.5040   1st Qu.:8.247   1st Qu.:70.40   1st Qu.:2.288  \n",
       " Median :0.5070   Median :8.297   Median :78.30   Median :2.894  \n",
       " Mean   :0.5392   Mean   :8.349   Mean   :71.54   Mean   :3.430  \n",
       " 3rd Qu.:0.6050   3rd Qu.:8.398   3rd Qu.:86.50   3rd Qu.:3.652  \n",
       " Max.   :0.7180   Max.   :8.780   Max.   :93.90   Max.   :8.907  \n",
       "      rad              tax           ptratio          black      \n",
       " Min.   : 2.000   Min.   :224.0   Min.   :13.00   Min.   :354.6  \n",
       " 1st Qu.: 5.000   1st Qu.:264.0   1st Qu.:14.70   1st Qu.:384.5  \n",
       " Median : 7.000   Median :307.0   Median :17.40   Median :386.9  \n",
       " Mean   : 7.462   Mean   :325.1   Mean   :16.36   Mean   :385.2  \n",
       " 3rd Qu.: 8.000   3rd Qu.:307.0   3rd Qu.:17.40   3rd Qu.:389.7  \n",
       " Max.   :24.000   Max.   :666.0   Max.   :20.20   Max.   :396.9  \n",
       "     lstat           medv     \n",
       " Min.   :2.47   Min.   :21.9  \n",
       " 1st Qu.:3.32   1st Qu.:41.7  \n",
       " Median :4.14   Median :48.3  \n",
       " Mean   :4.31   Mean   :44.2  \n",
       " 3rd Qu.:5.12   3rd Qu.:50.0  \n",
       " Max.   :7.44   Max.   :50.0  "
      ]
     },
     "metadata": {},
     "output_type": "display_data"
    }
   ],
   "source": [
    "subset1 <- subset(Boston, Boston$rm >= 8)\n",
    "dim(subset1)\n",
    "summary(subset1)"
   ]
  },
  {
   "cell_type": "code",
   "execution_count": 208,
   "metadata": {},
   "outputs": [
    {
     "data": {
      "text/plain": [
       "      crim                zn             indus            chas        \n",
       " Min.   : 0.00632   Min.   :  0.00   Min.   : 0.46   Min.   :0.00000  \n",
       " 1st Qu.: 0.08204   1st Qu.:  0.00   1st Qu.: 5.19   1st Qu.:0.00000  \n",
       " Median : 0.25651   Median :  0.00   Median : 9.69   Median :0.00000  \n",
       " Mean   : 3.61352   Mean   : 11.36   Mean   :11.14   Mean   :0.06917  \n",
       " 3rd Qu.: 3.67708   3rd Qu.: 12.50   3rd Qu.:18.10   3rd Qu.:0.00000  \n",
       " Max.   :88.97620   Max.   :100.00   Max.   :27.74   Max.   :1.00000  \n",
       "      nox               rm             age              dis        \n",
       " Min.   :0.3850   Min.   :3.561   Min.   :  2.90   Min.   : 1.130  \n",
       " 1st Qu.:0.4490   1st Qu.:5.886   1st Qu.: 45.02   1st Qu.: 2.100  \n",
       " Median :0.5380   Median :6.208   Median : 77.50   Median : 3.207  \n",
       " Mean   :0.5547   Mean   :6.285   Mean   : 68.57   Mean   : 3.795  \n",
       " 3rd Qu.:0.6240   3rd Qu.:6.623   3rd Qu.: 94.08   3rd Qu.: 5.188  \n",
       " Max.   :0.8710   Max.   :8.780   Max.   :100.00   Max.   :12.127  \n",
       "      rad              tax           ptratio          black       \n",
       " Min.   : 1.000   Min.   :187.0   Min.   :12.60   Min.   :  0.32  \n",
       " 1st Qu.: 4.000   1st Qu.:279.0   1st Qu.:17.40   1st Qu.:375.38  \n",
       " Median : 5.000   Median :330.0   Median :19.05   Median :391.44  \n",
       " Mean   : 9.549   Mean   :408.2   Mean   :18.46   Mean   :356.67  \n",
       " 3rd Qu.:24.000   3rd Qu.:666.0   3rd Qu.:20.20   3rd Qu.:396.23  \n",
       " Max.   :24.000   Max.   :711.0   Max.   :22.00   Max.   :396.90  \n",
       "     lstat            medv      \n",
       " Min.   : 1.73   Min.   : 5.00  \n",
       " 1st Qu.: 6.95   1st Qu.:17.02  \n",
       " Median :11.36   Median :21.20  \n",
       " Mean   :12.65   Mean   :22.53  \n",
       " 3rd Qu.:16.95   3rd Qu.:25.00  \n",
       " Max.   :37.97   Max.   :50.00  "
      ]
     },
     "metadata": {},
     "output_type": "display_data"
    }
   ],
   "source": [
    "summary(Boston)"
   ]
  },
  {
   "cell_type": "markdown",
   "metadata": {},
   "source": [
    "- There are 64 suburbs that average more than 7 rooms per dwelling and 14 surbubs that average more than 8 rooms per dwelling.\n",
    "\n",
    "- by lookign at the subset1 (suburbs that averaged 8 rooms per dwellng) we can see that:\n",
    "    - crim: the mean of subset 1 is relatively low, and above average relative to the rest the data\n",
    "    - zn: the mean of proportion of residential land zoned for lots over 25,000 sq.ft for subset1 is over 13 which is higher than most of the dataset\n",
    "    - indus: the of proportion of non-retail business acres per town for subset1 is over 7, well above the average in Boston\n",
    "    - chas: most of the areas in subset1 do not bound the Charles River which is is a common phenomenom. Most of the observations in the entire dataset do not bound the Charles River\n",
    "    - nox: the mean of nitric oxide concentration in is around ~0.5 which is close to the mean of the entire daataset\n",
    "    - age: the age of the house in subset1 is older than average in Boston\n",
    "    - dis: subset1 is slightly closer to Boston's five employment center than than the average suburbs in Boston\n",
    "    - rad: the radial highway is less accessible to subset 1 than average suburbs in Boston\n",
    "    - tax: the tax is lower for subset1 than the average suburbs in Boston \n",
    "    - ptratio: pupil-teacher ratio in subset1 is lower than average Boston suburbs\n",
    "    - black: subset1 has higher proportion of black occupants than average Boston suburbs\n",
    "    - lstat: the pecentage of lower status occupant is significantly lower than average Boston suburbs\n",
    "    - medv: the home in subset 1 significantly more expensive than average boston suburbs\n",
    "\n",
    "- In conclusion, we can deduce that suburbs that average more than 8 rooms per dwelling are in general wealther suburbs in Boston. With homes valued at higher price, occupants with at least stable to high income and low crime rates. We can also deduce that the living environment in these neighborhood are not the most ideal for family, with lower air quality, and lower pupil-teacher ratio."
   ]
  }
 ],
 "metadata": {
  "kernelspec": {
   "display_name": "R",
   "language": "R",
   "name": "ir"
  },
  "language_info": {
   "codemirror_mode": "r",
   "file_extension": ".r",
   "mimetype": "text/x-r-source",
   "name": "R",
   "pygments_lexer": "r",
   "version": "3.6.1"
  }
 },
 "nbformat": 4,
 "nbformat_minor": 4
}
